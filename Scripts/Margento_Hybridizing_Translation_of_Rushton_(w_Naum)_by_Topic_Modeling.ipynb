{
 "cells": [
  {
   "cell_type": "code",
   "execution_count": 1,
   "metadata": {},
   "outputs": [],
   "source": [
    "import sys"
   ]
  },
  {
   "cell_type": "code",
   "execution_count": 2,
   "metadata": {},
   "outputs": [
    {
     "data": {
      "text/plain": [
       "'/Users/christanasescu/opt/anaconda3/bin/python3'"
      ]
     },
     "execution_count": 2,
     "metadata": {},
     "output_type": "execute_result"
    }
   ],
   "source": [
    "sys.executable"
   ]
  },
  {
   "cell_type": "code",
   "execution_count": 3,
   "metadata": {},
   "outputs": [
    {
     "data": {
      "text/plain": [
       "['/Users/christanasescu',\n",
       " '/Users/christanasescu/opt/anaconda3/lib/python37.zip',\n",
       " '/Users/christanasescu/opt/anaconda3/lib/python3.7',\n",
       " '/Users/christanasescu/opt/anaconda3/lib/python3.7/lib-dynload',\n",
       " '',\n",
       " '/Users/christanasescu/opt/anaconda3/lib/python3.7/site-packages',\n",
       " '/Users/christanasescu/opt/anaconda3/lib/python3.7/site-packages/IPython/extensions',\n",
       " '/Users/christanasescu/.ipython']"
      ]
     },
     "execution_count": 3,
     "metadata": {},
     "output_type": "execute_result"
    }
   ],
   "source": [
    "sys.path"
   ]
  },
  {
   "cell_type": "code",
   "execution_count": 1,
   "metadata": {},
   "outputs": [
    {
     "ename": "ModuleNotFoundError",
     "evalue": "No module named 'pyLDAvis'",
     "output_type": "error",
     "traceback": [
      "\u001b[0;31m---------------------------------------------------------------------------\u001b[0m",
      "\u001b[0;31mModuleNotFoundError\u001b[0m                       Traceback (most recent call last)",
      "\u001b[0;32m<ipython-input-1-d85ed8ac68a8>\u001b[0m in \u001b[0;36m<module>\u001b[0;34m\u001b[0m\n\u001b[1;32m     23\u001b[0m \u001b[0;34m\u001b[0m\u001b[0m\n\u001b[1;32m     24\u001b[0m \u001b[0;31m# Plotting tools\u001b[0m\u001b[0;34m\u001b[0m\u001b[0;34m\u001b[0m\u001b[0;34m\u001b[0m\u001b[0m\n\u001b[0;32m---> 25\u001b[0;31m \u001b[0;32mimport\u001b[0m \u001b[0mpyLDAvis\u001b[0m\u001b[0;34m\u001b[0m\u001b[0;34m\u001b[0m\u001b[0m\n\u001b[0m\u001b[1;32m     26\u001b[0m \u001b[0;32mimport\u001b[0m \u001b[0mpyLDAvis\u001b[0m\u001b[0;34m.\u001b[0m\u001b[0mgensim\u001b[0m  \u001b[0;31m# don't skip this\u001b[0m\u001b[0;34m\u001b[0m\u001b[0;34m\u001b[0m\u001b[0m\n\u001b[1;32m     27\u001b[0m \u001b[0;32mimport\u001b[0m \u001b[0mmatplotlib\u001b[0m\u001b[0;34m.\u001b[0m\u001b[0mpyplot\u001b[0m \u001b[0;32mas\u001b[0m \u001b[0mplt\u001b[0m\u001b[0;34m\u001b[0m\u001b[0;34m\u001b[0m\u001b[0m\n",
      "\u001b[0;31mModuleNotFoundError\u001b[0m: No module named 'pyLDAvis'"
     ]
    }
   ],
   "source": [
    "import re\n",
    "import numpy as np\n",
    "import pandas as pd\n",
    "from pprint import pprint\n",
    "from nltk.tokenize import sent_tokenize, word_tokenize\n",
    "import os\n",
    "#The OS module in Python provides a way of using operating system dependent functionality. \n",
    "#The functions that the OS module provides allows you to interface with the underlying operating system \n",
    "#that Python is running on – be that Windows, Mac or Linux.\n",
    "\n",
    "from os import listdir\n",
    "from os.path import isfile, join\n",
    "\n",
    "# Gensim\n",
    "import gensim\n",
    "import gensim.corpora as corpora\n",
    "from gensim import models, corpora\n",
    "from gensim.utils import simple_preprocess\n",
    "from gensim.models import CoherenceModel\n",
    "\n",
    "# spacy for lemmatization\n",
    "import spacy\n",
    "\n",
    "# Plotting tools\n",
    "import pyLDAvis\n",
    "import pyLDAvis.gensim  # don't skip this\n",
    "import matplotlib.pyplot as plt\n",
    "%matplotlib inline\n",
    "\n",
    "# Enable logging for gensim - optional\n",
    "import logging\n",
    "logging.basicConfig(format='%(asctime)s : %(levelname)s : %(message)s', level=logging.ERROR)\n",
    "\n",
    "import warnings\n",
    "warnings.filterwarnings(\"ignore\",category=DeprecationWarning)"
   ]
  },
  {
   "cell_type": "code",
   "execution_count": 2,
   "metadata": {},
   "outputs": [
    {
     "name": "stderr",
     "output_type": "stream",
     "text": [
      "[nltk_data] Downloading package stopwords to\n",
      "[nltk_data]     /Users/christanasescu/nltk_data...\n",
      "[nltk_data]   Unzipping corpora/stopwords.zip.\n"
     ]
    },
    {
     "data": {
      "text/plain": [
       "True"
      ]
     },
     "execution_count": 2,
     "metadata": {},
     "output_type": "execute_result"
    }
   ],
   "source": [
    "import nltk as nltk \n",
    "nltk.download('stopwords')"
   ]
  },
  {
   "cell_type": "code",
   "execution_count": 3,
   "metadata": {},
   "outputs": [],
   "source": [
    "stopwords = nltk.corpus.stopwords.words('stop_words_poetry.txt')\n",
    "\n",
    "stopwords.append('...')\n",
    "stopwords.append(\"'d\")\n",
    "stopwords.append('...')\n",
    "stopwords.append(\"&\")\n",
    "stopwords.append(\"upon\")\n",
    "stopwords.append(\"also\")\n",
    "stopwords.append(\"hath\")\n",
    "stopwords.append(\"must\")\n",
    "stopwords.append(\"therefore\")\n",
    "stopwords.append(\"doth\")\n",
    "stopwords.append(\"could\")\n",
    "stopwords.append(\"would\")\n",
    "stopwords.append(\"another\")\n",
    "stopwords.append(\"much\")\n",
    "stopwords.append(\"give\")\n",
    "stopwords.append(\"like\")\n",
    "stopwords.append(\"since\")\n",
    "stopwords.append(\"many\")\n",
    "stopwords.append(\"without\")\n",
    "stopwords.append(\"first\")\n",
    "stopwords.append(\"though\")\n",
    "stopwords.append(\"well\")\n",
    "stopwords.append(\"often\")\n",
    "stopwords.append(\"great\")\n",
    "stopwords.append(\"either\")\n",
    "stopwords.append(\"even\")\n",
    "stopwords.append(\"shall\")\n",
    "stopwords.append(\"they\")\n",
    "stopwords.append(\"what\")\n",
    "stopwords.append(\"their\")\n",
    "stopwords.append(\"more\")\n",
    "stopwords.append(\"there\")\n",
    "stopwords.append(\"your\")\n",
    "stopwords.append(\"them\")"
   ]
  },
  {
   "cell_type": "code",
   "execution_count": 4,
   "metadata": {},
   "outputs": [],
   "source": [
    "def tokenize(text):\n",
    "    tokens = word_tokenize(text)\n",
    "    tokens = _pre_clean(tokens)\n",
    "    tokens = [token for token in tokens if len(token) > 3]\n",
    "    tokens = [token for token in tokens if token not in stopwords]\n",
    "    #tokens = [get_lemma(token) for token in tokens]\n",
    "    return tokens"
   ]
  },
  {
   "cell_type": "code",
   "execution_count": 5,
   "metadata": {},
   "outputs": [
    {
     "data": {
      "text/plain": [
       "'/Users/christanasescu'"
      ]
     },
     "execution_count": 5,
     "metadata": {},
     "output_type": "execute_result"
    }
   ],
   "source": [
    "pwd"
   ]
  },
  {
   "cell_type": "code",
   "execution_count": 6,
   "metadata": {},
   "outputs": [],
   "source": [
    "import os"
   ]
  },
  {
   "cell_type": "code",
   "execution_count": 8,
   "metadata": {},
   "outputs": [
    {
     "name": "stdout",
     "output_type": "stream",
     "text": [
      "/Users/christanasescu/fastText_multilingual-master\n"
     ]
    }
   ],
   "source": [
    "#cd fastText_multilingual-master"
   ]
  },
  {
   "cell_type": "code",
   "execution_count": 7,
   "metadata": {},
   "outputs": [],
   "source": [
    "\n",
    "HOME = os.getcwd()"
   ]
  },
  {
   "cell_type": "code",
   "execution_count": 8,
   "metadata": {},
   "outputs": [],
   "source": [
    "def _pre_clean(list_of_text):\n",
    "        '''\n",
    "        preliminary cleaning of the text\n",
    "        - remove new line character i.e. \\n or \\r\n",
    "        - remove tabs i.e. \\t\n",
    "        - remove extra spaces\n",
    "        '''\n",
    "        cleaned_list = []\n",
    "        for text in list_of_text:\n",
    "            # print(\"original:\", text)\n",
    "            text = text.replace('\\\\n', ' ')\n",
    "            text = text.replace('\\\\r', ' ')\n",
    "            text = text.replace('\\\\t', ' ')\n",
    "            pattern = re.compile(r'\\s+')\n",
    "            text = re.sub(pattern, ' ', text)\n",
    "            text = text.strip()\n",
    "            text = text.lower()\n",
    "            # check for empty strings\n",
    "            if text != '' and text is not None:\n",
    "                cleaned_list.append(text)\n",
    "\n",
    "        return cleaned_list"
   ]
  },
  {
   "cell_type": "code",
   "execution_count": 9,
   "metadata": {},
   "outputs": [
    {
     "name": "stdout",
     "output_type": "stream",
     "text": [
      "{0: 'corpus.pkl', 1: 'dictionary.gensim', 2: 'naum.txt', 3: 'rushton.txt'}\n"
     ]
    }
   ],
   "source": [
    "filelabels = {}\n",
    "\n",
    "import re as re \n",
    "\n",
    "def get_documents(path):\n",
    "    os.chdir(path)\n",
    "    files = [f for f in os.listdir(path) if os.path.isfile(os.path.join(path, f))]\n",
    "    texts = []\n",
    "    count = -1\n",
    "    for f in files:\n",
    "        with open(f, \"r\", encoding='utf-8', errors = 'ignore') as openf:\n",
    "            count = count + 1\n",
    "            filelabels[count] = os.path.basename(openf.name)\n",
    "            splitted_lines = openf.read().splitlines()\n",
    "            splitted_lines = _pre_clean(splitted_lines)\n",
    "            texts.append(splitted_lines)\n",
    "    print(filelabels)\n",
    "    return texts\n",
    "\n",
    "TEXTS_DIR = HOME + \"/rushton_&_naum_for_margento_trans/\"\n",
    "\n",
    "documents = get_documents(TEXTS_DIR)"
   ]
  },
  {
   "cell_type": "code",
   "execution_count": 10,
   "metadata": {},
   "outputs": [],
   "source": [
    "\n",
    "from nltk.tokenize import sent_tokenize, word_tokenize"
   ]
  },
  {
   "cell_type": "code",
   "execution_count": 11,
   "metadata": {},
   "outputs": [],
   "source": [
    "\n",
    "texts_data = []\n",
    "\n",
    "files = [f for f in os.listdir(TEXTS_DIR) if os.path.isfile(os.path.join(TEXTS_DIR, f))]\n",
    "\n",
    "import string\n",
    "from string import punctuation\n",
    "\n",
    "remove_punct_map = dict.fromkeys(map(ord, string.punctuation))\n",
    "\n",
    "tokens_total = []\n",
    "\n",
    "for f in files:\n",
    "    with open(f, \"r\", encoding='utf-8', errors = 'ignore') as openf:\n",
    "        tokens = []\n",
    "        for line in openf:\n",
    "            sent_text = nltk.sent_tokenize(line)\n",
    "            for sentence in sent_text:\n",
    "                tokens1 = tokenize(sentence)\n",
    "                tokens1 = [item.translate(remove_punct_map)\n",
    "                      for item in tokens1]\n",
    "                #filter_object = filter(lambda x: x != \"\", tokens1)\n",
    "                tokens1 = [x for x in tokens1 if x!= \"\"]\n",
    "                for token in tokens1:\n",
    "                    tokens.append(token)\n",
    "                    tokens_total.append(token)\n",
    "    texts_data.append(tokens)\n"
   ]
  },
  {
   "cell_type": "code",
   "execution_count": 13,
   "metadata": {},
   "outputs": [
    {
     "name": "stderr",
     "output_type": "stream",
     "text": [
      "IOPub data rate exceeded.\n",
      "The notebook server will temporarily stop sending output\n",
      "to the client in order to avoid crashing it.\n",
      "To change this limit, set the config variable\n",
      "`--NotebookApp.iopub_data_rate_limit`.\n",
      "\n",
      "Current values:\n",
      "NotebookApp.iopub_data_rate_limit=1000000.0 (bytes/sec)\n",
      "NotebookApp.rate_limit_window=3.0 (secs)\n",
      "\n"
     ]
    }
   ],
   "source": [
    "\n",
    "print(tokens_total) # apparently too large to print out here; see next 3 cells:"
   ]
  },
  {
   "cell_type": "code",
   "execution_count": 12,
   "metadata": {},
   "outputs": [],
   "source": [
    "\n",
    "import pyperclip as clip"
   ]
  },
  {
   "cell_type": "code",
   "execution_count": 13,
   "metadata": {},
   "outputs": [],
   "source": [
    "\n",
    "clip.copy(f\"{tokens_total}\")"
   ]
  },
  {
   "cell_type": "markdown",
   "metadata": {},
   "source": [
    "\n",
    "Now we can simply do Command + V and thus copy-paste \"tokens_total\" into a txt file "
   ]
  },
  {
   "cell_type": "code",
   "execution_count": 14,
   "metadata": {},
   "outputs": [
    {
     "data": {
      "text/plain": [
       "8443"
      ]
     },
     "execution_count": 14,
     "metadata": {},
     "output_type": "execute_result"
    }
   ],
   "source": [
    "\n",
    "len(tokens_total)"
   ]
  },
  {
   "cell_type": "markdown",
   "metadata": {},
   "source": [
    "\n",
    "Seems that (some) stopwords still have not been flushed out. Therefore:"
   ]
  },
  {
   "cell_type": "code",
   "execution_count": 23,
   "metadata": {},
   "outputs": [],
   "source": [
    "\n",
    "tokens_total = [x for x in tokens_total if x not in stopwords]"
   ]
  },
  {
   "cell_type": "code",
   "execution_count": 24,
   "metadata": {},
   "outputs": [
    {
     "data": {
      "text/plain": [
       "8081"
      ]
     },
     "execution_count": 24,
     "metadata": {},
     "output_type": "execute_result"
    }
   ],
   "source": [
    "\n",
    "len(tokens_total)  # Yep, quite shorter:"
   ]
  },
  {
   "cell_type": "code",
   "execution_count": 25,
   "metadata": {},
   "outputs": [],
   "source": [
    "from collections import Counter\n",
    "\n",
    "Count_total = Counter(tokens_total)\n",
    "#print(Count_total)"
   ]
  },
  {
   "cell_type": "code",
   "execution_count": 19,
   "metadata": {},
   "outputs": [],
   "source": [
    "clip.copy(f\"{Count_total}\")"
   ]
  },
  {
   "cell_type": "markdown",
   "metadata": {},
   "source": [
    "\n",
    "Command+V into a page/word/txt file [or clip.paste() to print it here, but in this case it is too large a list to print]"
   ]
  },
  {
   "cell_type": "code",
   "execution_count": 26,
   "metadata": {},
   "outputs": [
    {
     "name": "stdout",
     "output_type": "stream",
     "text": [
      "Counter({'verse': 59, 'poet': 55, 'ovid': 49, 'when': 46, 'other': 41, 'time': 39, 'poem': 35, 'work': 32, 'know': 29, 'write': 26, 'naum': 25, 'poets': 25, 'said': 24, 'poetry': 23, 'long': 22, 'where': 22, 'still': 22, 'better': 22, 'writing': 21, 'lines': 21, 'marlowe': 21, 'down': 20, 'full': 20, 'night': 20, 'half': 20, 'under': 19, 'both': 19, 'over': 19, 'thought': 19, 'every': 19, 'dryden': 19, 'life': 18, 'between': 18, 'words': 18, 'line': 18, 'things': 17, 'sequence': 17, 'make': 17, 'might': 17, 'never': 16, 'before': 16, 'right': 16, 'maybe': 16, 'around': 16, 'water': 16, 'here': 16, 'love': 16, 'times': 16, 'after': 15, 'romanian': 15, 'made': 15, 'something': 15, 'course': 15, 'thanks': 15, 'best': 14, 'again': 14, 'word': 14, 'good': 14, 'each': 14, 'look': 14, 'came': 13, 'others': 13, 'found': 13, 'most': 13, 'take': 13, 'away': 13, 'eyes': 13, 'only': 13, 'ancient': 12, 'world': 12, 'went': 12, 'head': 12, 'perhaps': 12, 'three': 12, 'alter': 12, 'later': 11, 'death': 11, 'above': 11, 'face': 11, 'side': 11, 'blue': 11, 'says': 11, 'plan': 11, 'wine': 11, 'place': 10, 'silence': 10, 'translation': 10, 'started': 10, 'come': 10, 'until': 10, 'find': 10, 'black': 10, 'earth': 10, 'everything': 10, 'light': 10, 'moon': 10, 'second': 10, 'form': 10, 'verses': 10, 'athanor': 9, 'keep': 9, 'least': 9, 'always': 9, 'born': 9, 'left': 9, 'tree': 9, 'hand': 9, 'waited': 9, 'read': 9, 'lost': 9, 'coming': 9, 'beautiful': 9, 'window': 9, 'different': 9, 'change': 9, 'translations': 9, 'rhythm': 9, 'worse': 9, 'beloved': 8, 'quiet': 8, 'once': 8, 'years': 8, 'same': 8, 'grow': 8, 'point': 8, 'looking': 8, 'less': 8, 'fire': 8, 'five': 8, 'need': 8, 'making': 8, 'grass': 8, 'thing': 8, 'feet': 8, 'together': 8, 'problem': 8, 'tell': 8, 'pillars': 8, 'someone': 8, 'think': 8, 'glass': 8, 'mine': 8, 'amores': 8, 'thoughts': 8, 'gellu': 7, 'path': 7, 'personal': 7, 'till': 7, 'ever': 7, 'home': 7, 'white': 7, 'sounds': 7, 'small': 7, 'near': 7, 'help': 7, 'memory': 7, 'door': 7, 'voice': 7, 'wrote': 7, 'reading': 7, 'four': 7, 'please': 7, 'alone': 7, 'walk': 7, 'hear': 7, 'hair': 7, 'nothing': 7, 'wanted': 7, 'hold': 7, 'woman': 7, 'style': 7, 'last': 7, 'shore': 7, 'coach': 7, 'deep': 7, 'egos': 7, 'beat': 7, 'story': 7, 'presentation': 7, 'rome': 7, 'truth': 7, 'beyond': 6, 'start': 6, 'sleep': 6, 'across': 6, 'bucharest': 6, 'surrealist': 6, 'soon': 6, 'group': 6, 'outside': 6, 'people': 6, '1968': 6, 'comes': 6, 'begin': 6, 'sense': 6, 'silent': 6, 'secret': 6, 'root': 6, 'iron': 6, 'stuck': 6, 'hidden': 6, 'modern': 6, 'english': 6, 'latin': 6, 'space': 6, 'everybody': 6, 'took': 6, 'waters': 6, 'drowned': 6, 'breasts': 6, 'knew': 6, 'state': 6, 'feel': 6, 'hands': 6, 'wind': 6, 'used': 6, 'jacket': 6, 'matter': 6, 'written': 6, 'drunk': 6, 'round': 6, 'goes': 6, 'trees': 6, 'tongue': 6, 'rest': 6, 'stones': 6, 'inside': 6, 'conference': 6, 'exile': 6, 'artist': 6, 'order': 6, 'perfect': 6, 'taste': 6, 'finding': 6, 'fine': 6, 'become': 5, 'artists': 5, 'known': 5, 'master': 5, 'romantic': 5, 'especially': 5, 'fact': 5, 'published': 5, 'thus': 5, 'alchemical': 5, 'blood': 5, 'memories': 5, 'language': 5, 'little': 5, 'finger': 5, 'lips': 5, 'stone': 5, 'past': 5, 'metamorphoses': 5, 'poems': 5, 'meaning': 5, 'against': 5, 'ocean': 5, 'enough': 5, 'anyway': 5, 'happy': 5, 'ashes': 5, 'green': 5, 'triangle': 5, 'tower': 5, 'loved': 5, 'girl': 5, 'myself': 5, 'partea': 5, 'cealaltă': 5, 'passed': 5, 'room': 5, 'bird': 5, 'shoulder': 5, 'telling': 5, 'distance': 5, 'girls': 5, 'rental': 5, 'foot': 5, 'mind': 5, 'looked': 5, 'dream': 5, 'lance': 5, 'toward': 5, 'exiled': 5, 'next': 5, 'based': 5, 'mist': 5, 'asked': 5, 'sound': 5, 'pass': 5, 'fața': 5, 'malul': 5, 'albastru': 5, 'talking': 5, 'wait': 5, 'eutychia': 5, 'tangled': 5, 'rock': 5, 'stop': 5, 'case': 5, 'zenobia': 5, 'illustrations': 5, 'discussion': 5, 'council': 5, 'project': 5, 'despair': 5, 'waiting': 5, 'worst': 5, 'theme': 5, 'marvellous': 5, 'constanta': 5, 'vintage': 5, 'rhyme': 5, 'fourfour': 5, 'poor': 5, 'minor': 5, 'london': 5, 'painting': 5, 'derby': 5, 'translated': 4, 'middle': 4, 'spotted': 4, 'expected': 4, 'house': 4, 'anyone': 4, 'wife': 4, 'brauner': 4, 'breton': 4, 'himself': 4, 'interest': 4, 'sent': 4, 'front': 4, 'terrible': 4, 'experience': 4, 'communist': 4, 'famous': 4, 'former': 4, 'turned': 4, 'almost': 4, 'living': 4, 'comana': 4, 'learn': 4, 'died': 4, 'book': 4, 'being': 4, 'worthy': 4, 'literature': 4, 'certain': 4, 'beginning': 4, 'becomes': 4, 'wells': 4, 'women': 4, 'ritual': 4, 'unexpected': 4, 'gestures': 4, 'motioned': 4, 'concept': 4, 'using': 4, 'airport': 4, 'beneath': 4, 'breath': 4, 'various': 4, 'sure': 4, 'towards': 4, 'needed': 4, 'snake': 4, 'clear': 4, 'describing': 4, 'bank': 4, 'stopped': 4, 'higher': 4, '1980': 4, 'saying': 4, 'camera': 4, 'evening': 4, 'following': 4, 'fingers': 4, 'garden': 4, 'table': 4, 'bones': 4, 'reasons': 4, 'pleasant': 4, 'nobody': 4, 'stand': 4, 'enter': 4, 'horse': 4, 'grown': 4, 'touch': 4, 'cold': 4, 'spring': 4, 'understanding': 4, 'tired': 4, 'rise': 4, 'somewhere': 4, 'bought': 4, 'couldn': 4, 'feeling': 4, 'gallery': 4, 'clarity': 4, 'brain': 4, 'listening': 4, 'flames': 4, 'dark': 4, 'suprafața': 4, 'urmat': 4, '1994': 4, 'whispers': 4, 'gets': 4, 'city': 4, 'hide': 4, 'leaves': 4, 'drink': 4, 'wake': 4, 'days': 4, 'breaking': 4, 'year': 4, 'lying': 4, 'desperately': 4, 'thinking': 4, 'fisherman': 4, 'somebody': 4, 'because': 4, 'page': 4, 'author': 4, 'debate': 4, 'berry': 4, 'drummer': 4, 'part': 4, 'brought': 4, 'study': 4, 'subjects': 4, 'tortured': 4, 'greater': 4, 'july': 4, 'drinks': 4, 'drunken': 4, 'wrong': 4, 'agree': 4, 'finds': 4, 'explanation': 4, 'subject': 4, 'tomis': 4, 'helping': 4, 'seems': 4, 'lack': 4, 'pohems': 3, 'margento': 3, 'sacred': 3, 'cover': 3, 'prove': 3, 'romania': 3, 'speak': 3, 'powers': 3, 'plains': 3, 'friend': 3, 'question': 3, 'heart': 3, 'funny': 3, 'publishing': 3, 'becoming': 3, 'movement': 3, 'paris': 3, 'victor': 3, 'philosophy': 3, 'latter': 3, 'books': 3, 'return': 3, 'followed': 3, 'regime': 3, 'subtle': 3, 'prose': 3, 'moved': 3, 'literary': 3, '2001': 3, 'lygia': 3, 'major': 3, 'abroad': 3, 'gone': 3, 'uncollected': 3, 'works': 3, 'remains': 3, 'animaltree': 3, 'instance': 3, 'symbol': 3, 'changed': 3, 'milk': 3, 'animal': 3, 'powerful': 3, 'traditional': 3, 'lived': 3, 'concepts': 3, 'itself': 3, 'real': 3, 'turning': 3, 'body': 3, 'discovered': 3, 'roots': 3, 'shoes': 3, 'emptied': 3, 'greenish': 3, 'smelled': 3, 'willows': 3, 'common': 3, 'profane': 3, 'maddening': 3, 'places': 3, 'bridge': 3, 'fixed': 3, 'given': 3, 'surrealists': 3, 'meant': 3, 'tore': 3, 'clothes': 3, 'immaculate': 3, 'true': 3, 'moment': 3, 'draw': 3, 'giant': 3, 'very': 3, 'wooden': 3, 'heard': 3, 'playful': 3, 'pattern': 3, 'ones': 3, 'talk': 3, 'gesture': 3, 'care': 3, 'live': 3, 'themselves': 3, 'prophecies': 3, 'burnt': 3, 'dropped': 3, 'happens': 3, 'domesticated': 3, 'void': 3, 'free': 3, 'fear': 3, 'existed': 3, 'week': 3, 'descrierea': 3, 'turnului': 3, '1975': 3, 'river': 3, 'kept': 3, 'hovering': 3, 'lucrurile': 3, 'ceață': 3, 'yourself': 3, 'serious': 3, 'bread': 3, 'exist': 3, 'whole': 3, 'single': 3, 'sleeps': 3, 'nowhere': 3, 'ludicrous': 3, 'name': 3, 'forgot': 3, 'drop': 3, 'winter': 3, 'errors': 3, 'frozen': 3, 'celebration': 3, 'basement': 3, 'street': 3, 'briefcase': 3, 'theater': 3, 'diva': 3, 'certitudes': 3, 'scarf': 3, 'stage': 3, 'knows': 3, 'edge': 3, 'withered': 3, 'motionless': 3, 'told': 3, 'going': 3, 'watched': 3, 'grew': 3, 'wings': 3, 'warm': 3, 'forgotten': 3, 'holes': 3, 'peace': 3, 'pale': 3, 'believe': 3, 'grateful': 3, 'feelings': 3, 'cried': 3, 'behind': 3, 'covered': 3, 'dust': 3, 'cheers': 3, 'shooting': 3, 'stayed': 3, 'wore': 3, 'heads': 3, 'enjoying': 3, 'chance': 3, 'ends': 3, 'dead': 3, 'marks': 3, 'named': 3, 'shape': 3, 'wood': 3, 'leaning': 3, 'approaches': 3, 'mother': 3, 'agony': 3, 'field': 3, 'minute': 3, 'lady': 3, 'golden': 3, 'takes': 3, 'high': 3, 'dusk': 3, 'roll': 3, 'rain': 3, 'shadows': 3, 'lead': 3, 'starts': 3, 'land': 3, 'surface—followed': 3, 'rose': 3, 'easy': 3, 'strong': 3, 'anymore': 3, 'despite': 3, 'floating': 3, 'trying': 3, 'knees': 3, 'barking': 3, 'sweet': 3, 'mouth': 3, 'boat': 3, 'wear': 3, 'sheep': 3, 'whiskers': 3, 'millions': 3, 'signs': 3, 'psychedelic': 3, 'colors': 3, 'colored': 3, 'waits': 3, 'leave': 3, 'press': 3, 'hundred': 3, 'mirror': 3, 'shapes': 3, 'bring': 3, 'sometimes': 3, 'kind': 3, 'hears': 3, 'believes': 3, 'turns': 3, 'wants': 3, 'prologue': 3, 'arts': 3, 'england': 3, 'british': 3, 'association': 3, 'writers': 3, 'dislocation': 3, 'voices': 3, 'dislocations': 3, 'denver': 3, 'baby': 3, 'hope': 3, 'seemed': 3, 'twelve': 3, 'unless': 3, 'tide': 3, 'applied': 3, 'dull': 3, 'suited': 3, 'renaissance': 3, 'musings': 3, 'bottle': 3, 'ideas': 3, 'dangerous': 3, 'plot': 3, 'friends': 3, 'company': 3, 'impossible': 3, 'older': 3, 'background': 3, 'practised': 3, 'argument': 3, 'detail': 3, 'mighty': 3, 'troubled': 3, 'appendices': 3, 'quotes': 3, 'humour': 3, 'actors': 3, 'grant': 3, 'play': 3, 'trouble': 3, 'generations': 2, 'readers': 2, 'returning': 2, 'unique': 2, 'aims': 2, 'collected': 2, 'neolithic': 2, 'during': 2, 'walks': 2, 'incredible': 2, 'whose': 2, 'open': 2, 'sage': 2, 'reluctant': 2, 'lover': 2, 'complex': 2, 'personality': 2, 'larger': 2, 'political': 2, 'involved': 2, 'underground': 2, 'painter': 2, 'andré': 2, 'tragic': 2, 'alchemy': 2, 'eastern': 2, 'murderous': 2, 'period': 2, 'fresh': 2, 'gherasim': 2, 'luca': 2, 'teodorescu': 2, 'declare': 2, 'center': 2, 'international': 2, 'history': 2, 'figure': 2, 'joined': 2, 'party': 2, 'follow': 2, 'positions': 2, 'imposed': 2, 'capital': 2, 'village': 2, 'couple': 2, 'chose': 2, 'meet': 2, 'spiritual': 2, 'tiny': 2, 'spend': 2, 'september': 2, 'continuing': 2, 'passing': 2, 'term': 2, 'collection': 2, 'critics': 2, 'vigorous': 2, 'confession': 2, 'oneofakind': 2, 'popular': 2, 'culture': 2, 'western': 2, 'translators': 2, 'editors': 2, 'cause': 2, 'edited': 2, 'letters': 2, 'tied': 2, 'appears': 2, 'prognostications': 2, 'eagle': 2, 'deeply': 2, 'values': 2, 'traditions': 2, 'symbols': 2, 'accomplishes': 2, 'psyche': 2, 'biography': 2, 'experienced': 2, 'afternoon': 2, 'idol': 2, 'simple': 2, 'amazing': 2, 'buffalo': 2, 'gnawing': 2, 'slabs': 2, 'familiar': 2, 'ditches': 2, 'climax': 2, 'everyday': 2, 'performed': 2, 'characters': 2, 'roar': 2, 'whereas': 2, 'genuine': 2, 'tram': 2, 'rumbled': 2, 'vegetation': 2, 'hopeless': 2, 'fetus': 2, 'endless': 2, 'processes': 2, 'freedom': 2, 'theory': 2, 'gives': 2, 'arrival': 2, 'customs': 2, 'officers': 2, 'ambushed': 2, 'bleed': 2, 'suitcases': 2, 'brand': 2, 'departures': 2, 'spectacular': 2, 'arrivals': 2, 'store': 2, 'threat': 2, 'ceiling': 2, 'sciences': 2, 'roared': 2, 'breast': 2, 'careful': 2, 'tilt': 2, 'skull': 2, 'grenades': 2, 'south': 2, 'strongly': 2, 'american': 2, 'slim': 2, 'thin': 2, 'pair': 2, 'young': 2, 'coins': 2, 'original': 2, 'african': 2, 'french': 2, 'photos': 2, 'pipes': 2, 'capacities': 2, 'genuinely': 2, 'credit': 2, 'whoever': 2, 'magic': 2, 'terms': 2, 'helped': 2, 'lives': 2, 'grand': 2, 'thousand': 2, 'vegetal': 2, 'worms': 2, 'shade': 2, 'tomato': 2, 'locks': 2, 'lime': 2, 'birds': 2, 'held': 2, 'triunghiul': 2, 'domesticit': 2, 'throwing': 2, 'dreams': 2, 'conviction': 2, 'buried': 2, 'sand': 2, 'humanity': 2, 'forms': 2, 'bark': 2, 'escape': 2, 'birthing': 2, 'relentless': 2, 'lasted': 2, 'idea': 2, 'glistened': 2, 'butterfly': 2, 'blind': 2, 'bride': 2, 'suits': 2, 'silly': 2, 'damned': 2, 'sadness': 2, 'marrow': 2, 'spine': 2, 'sing': 2, 'generally': 2, 'whether': 2, 'banished': 2, 'migrations': 2, 'labyrinths': 2, 'nostalgia': 2, 'speaking': 2, 'urbanrural': 2, 'swimming': 2, 'pool': 2, 'watches': 2, 'heat': 2, 'canopy': 2, 'yellow': 2, 'rough': 2, 'surfaces': 2, 'leaf': 2, 'sentiments': 2, 'wrapped': 2, 'amidst': 2, 'eaten': 2, 'forehead': 2, 'receipt': 2, 'echoes': 2, 'cigarette': 2, 'coat': 2, 'returned': 2, 'cloth': 2, 'babies': 2, 'mothers': 2, 'hanging': 2, 'technical': 2, 'final': 2, 'hour': 2, 'advice': 2, 'intentions': 2, 'opposed': 2, 'nicely': 2, 'nature': 2, 'ambiance': 2, 'taxi': 2, 'forest': 2, 'limelight': 2, 'dress': 2, 'giving': 2, 'advise': 2, 'rentally': 2, 'want': 2, 'ease': 2, 'lock': 2, 'crack': 2, 'muddled': 2, 'pure': 2, 'rifle': 2, 'galloping': 2, 'sands': 2, 'walked': 2, 'clay': 2, 'close': 2, 'school': 2, 'smiling': 2, 'heavy': 2, 'express': 2, 'ourselves': 2, 'dawn': 2, 'address': 2, 'dying': 2, 'sight': 2, 'placed': 2, 'sees': 2, 'names': 2, 'ours': 2, 'swine': 2, 'contradictory': 2, 'wept': 2, 'team': 2, 'capătul': 2, 'numerelor': 2, 'numbers': 2, 'ascetic': 2, 'morning': 2, 'lions': 2, 'gave': 2, 'person': 2, 'blanket': 2, 'calea': 2, 'remember': 2, 'tables': 2, 'bearer': 2, 'referees': 2, 'account': 2, 'force': 2, 'played': 2, 'wearing': 2, 'foreheads': 2, 'worn': 2, 'approached': 2, 'taken': 2, 'begins': 2, 'marble': 2, 'throw': 2, 'farther': 2, 'fell': 2, 'indefinite': 2, 'suspiciously': 2, 'ashy': 2, 'unclear': 2, 'casting': 2, 'holding': 2, 'poeme': 2, 'alese': 2, 'selected': 2, 'inedite': 2, 'centaur': 2, 'raping': 2, 'depths': 2, 'compared': 2, 'watching': 2, 'smacking': 2, 'burning': 2, 'curtain': 2, 'confound': 2, 'conducive': 2, 'eternity': 2, 'silently': 2, 'infinity': 2, 'conjunction': 2, 'trip': 2, 'lunar': 2, 'food': 2, 'brother': 2, 'planet': 2, 'noise': 2, 'difference': 2, 'kinds': 2, 'skin': 2, 'happened': 2, 'minutes': 2, 'magnificent': 2, 'respect': 2, 'bored': 2, 'stairway': 2, 'cypress': 2, 'cross': 2, 'glistening': 2, 'vultures': 2, 'sides': 2, 'riverbank': 2, 'built': 2, 'clouds': 2, 'chair': 2, 'melancholy': 2, 'pressed': 2, 'coffin': 2, 'unseen': 2, 'slowly': 2, 'nice': 2, 'fall': 2, 'moonlight': 2, 'dreadful': 2, 'killed': 2, 'opportunity': 2, '2000': 2, 'speech': 2, 'nails': 2, 'chill': 2, 'grandfather': 2, 'dies': 2, 'longer': 2, 'nostalgic': 2, 'daily': 2, 'fury': 2, 'called': 2, 'arrogant': 2, 'sleeping': 2, 'answers': 2, 'swept': 2, 'child': 2, 'bearing': 2, 'witness': 2, 'desperate': 2, 'human': 2, 'seeds': 2, 'ants': 2, 'ablaze': 2, 'species': 2, 'watch': 2, 'insect': 2, 'triangular': 2, 'insectpoet': 2, 'bluegreen': 2, 'struck': 2, 'arrived': 2, 'forward': 2, 'arrives': 2, 'ready': 2, 'fruit': 2, 'feathers': 2, 'obscure': 2, 'roosters': 2, 'ignored': 2, 'walking': 2, 'panthers': 2, 'swarm': 2, 'burn': 2, 'solitude': 2, 'sort': 2, 'vision': 2, 'collapse': 2, 'leashed': 2, 'expectations': 2, 'explorers': 2, 'prefer': 2, 'call': 2, 'listen': 2, 'dirty': 2, 'fish': 2, 'paradise': 2, 'bowl': 2, 'neck': 2, 'vain': 2, 'described': 2, 'flower': 2, 'worlds': 2, 'drain': 2, 'mean': 2, 'pyramid': 2, 'sarcophagus': 2, 'sphinx': 2, 'impressed': 2, 'happen': 2, 'velvet': 2, 'islands': 2, 'falling': 2, 'wall': 2, 'thrumming': 2, 'spinning': 2, 'quickly': 2, 'wheels': 2, 'walls': 2, 'blinded': 2, 'shared': 2, 'kick': 2, 'wanting': 2, 'needing': 2, 'kitchen': 2, 'playing': 2, 'prahova': 2, 'county': 2, 'shoulders': 2, 'fast': 2, 'wild': 2, 'gathered': 2, 'flowers': 2, 'candies': 2, 'chew': 2, 'ears': 2, 'looks': 2, 'imagination': 2, 'facing': 2, 'taner': 2, 'murat': 2, 'acknowledgements': 2, 'introduction': 2, 'notes': 2, 'rhythms': 2, 'list': 2, '2018': 2, 'anticus': 2, 'multicultural': 2, 'tales': 2, 'hello': 2, 'artistic': 2, 'level': 2, 'complete': 2, 'edition': 2, 'insistent': 2, 'chuck': 2, 'nadine': 2, 'lyric': 2, 'roughly': 2, 'originally': 2, 'guitar': 2, 'solo': 2, 'johnny': 2, 'goode': 2, 'staid': 2, 'analogy': 2, 'added': 2, 'dramatic': 2, 'importance': 2, 'established': 2, 'drumming': 2, 'rhymes': 2, 'recent': 2, 'slept': 2, 'distress': 2, 'threw': 2, 'rubbish': 2, 'deleted': 2, 'hearing': 2, 'usual': 2, 'manuscript': 2, 'beauty': 2, 'plus': 2, 'type': 2, 'irrelevant': 2, 'waves': 2, 'chosen': 2, 'favourite': 2, 'inspiring': 2, 'link': 2, 'shakespeare': 2, 'inspired': 2, 'translating': 2, 'differences': 2, 'unformed': 2, 'hardly': 2, 'writes': 2, 'thinks': 2, 'asleep': 2, 'pain': 2, 'draft': 2, 'fifty': 2, 'deadline': 2, 'whatever': 2, 'wakes': 2, 'mess': 2, 'paint': 2, 'canvas': 2, 'repetition': 2, 'intrigue': 2, 'thickest': 2, 'disguise': 2, 'power': 2, 'hiding': 2, 'stronger': 2, 'curious': 2, 'curiouser': 2, 'rich': 2, 'piss': 2, 'overarching': 2, 'fools': 2, 'response': 2, 'beats': 2, 'taking': 2, 'stress': 2, 'foil': 2, 'blues': 2, 'lines—': 2, 'hard': 2, 'remembered': 2, 'split': 2, 'tunes': 2, 'types': 2, 'fitted': 2, 'discarding': 2, 'poetic': 2, 'whence': 2, 'yours': 2, 'metre': 2, 'praise': 2, 'marriage': 2, 'scene': 2, 'talent': 2, 'reader': 2, 'waking': 2, 'dear': 2, 'lies': 2, 'empty': 2, 'unnamed': 2, 'seen': 2, 'adolescent': 2, 'risk': 2, 'xxiii': 2, 'elizabethan': 2, 'mostly': 2, 'xxiv': 2, 'protestant': 2, 'cambridge': 2, 'favour': 2, 'beaten': 2, 'covent': 2, 'deptford': 2, 'xxvi': 2, 'xxvii': 2, 'church': 2, 'university': 2, 'historians': 2, 'xxviii': 2, 'xxix': 2, 'verse—': 2, 'lecture': 2, 'depth': 2, 'swim': 2, 'dawning': 2, 'occasionally': 2, 'colour': 2, 'seem': 2, 'frith': 2, 'doubt': 2, 'epic': 2, 'inbetween': 2, 'occasional': 2, 'points': 2, 'online': 2, 'application': 2, 'knowledge': 2, 'hall': 2, 'quality': 2, 'celebrate': 2, 'instead': 2, 'friendship': 2, 'helps': 2, 'peoples': 2, 'martin': 1, 'woodside': 1, 'introduction—': 1, '20th': 1, 'century': 1, 'syllable': 1, 'abides': 1, 'appealing': 1, 'search': 1, 'selection—intended': 1, 'series': 1, 'works—is': 1, 'readership': 1, 'abundant': 1, 'north': 1, 'america': 1, 'europe': 1, 'attracts': 1, 'aspiring': 1, 'undervoice': 1, 'performance': 1, 'improvising': 1, 'conversation': 1, 'suddenly': 1, 'starting': 1, 'collector': 1, 'statuettes': 1, 'amulets': 1, 'selfeffacing': 1, 'psychic': 1, 'solitary': 1, 'southern': 1, 'absentminded': 1, 'raise': 1, 'oracular': 1, 'striking': 1, 'innermost': 1, 'concerns': 1, 'host': 1, 'everyone': 1, 'hermit': 1, 'selfironical': 1, 'magnetic': 1, 'laconic': 1, 'lifetime': 1, 'lygia—naum': 1, 'consequently': 1, 'loom': 1, 'spite': 1, 'climate': 1, 'censorship': 1, 'surrounding': 1, '1915': 1, 'collections': 1, 'mid1930s': 1, 'antifascist': 1, 'accepted': 1, 'scholarship': 1, 'sorbonne': 1, 'reunited': 1, 'sculptor': 1, 'introduced': 1, 'circles': 1, 'including': 1, 'number': 1, 'exciting': 1, 'projects—such': 1, 'essay': 1, 'demonism': 1, 'objects': 1, 'magazine': 1, 'minotaure': 1, 'doctoral': 1, 'research': 1, 'abélard': 1, 'romance': 1, 'héloïse': 1, 'pursuit': 1, 'rare': 1, 'outbreak': 1, 'drafted': 1, 'famine': 1, 'enforced': 1, 'soviet': 1, 'occupation': 1, 'enduring': 1, 'imprint': 1, '4year': 1, 'onset': 1, 'takeover': 1, 'reemerged': 1, 'energy': 1, 'gusto': 1, 'impressive': 1, 'amount': 1, 'collaborative': 1, 'work—poetry': 1, 'manifestos—': 1, 'notably': 1, 'virgil': 1, 'activity': 1, 'sarane': 1, 'alexandrian': 1, 'stated': 1, 'surréalisme': 1, 'rêve': 1, 'exuberant': 1, 'adventurous': 1, 'delirious': 1, 'merciless': 1, 'central': 1, 'immigrated': 1, 'israel': 1, 'became': 1, 'elite': 1, 'jewish': 1, 'academic': 1, 'governmental': 1, 'result': 1, 'nearly': 1, 'none': 1, 'editing': 1, 'shifted': 1, 'residence': 1, 'early': 1, 'visiting': 1, 'feedback': 1, 'guidance': 1, 'pilgrimages': 1, 'onebedroom': 1, 'apartment': 1, 'winters': 1, 'toll': 1, '2005': 1, 'title': 1, 'alchemist': 1, 'cauldron': 1, 'hailed': 1, 'groundbreaking': 1, 'thrilled': 1, 'legendary': 1, 'refined': 1, 'enriched': 1, 'humor': 1, 'fusion': 1, 'realism': 1, 'oneiric': 1, 'mysticism': 1, 'widely': 1, 'praised': 1, 'distinctly': 1, 'version': 1, 'surrealism': 1, 'comeback': 1, 'reinforced': 1, 'received': 1, 'resulted': 1, 'likely': 1, 'phenomenon': 1, 'club': 1, 'nominated': 1, 'nobel': 1, 'prize': 1, 'pendulum': 1, 'swing': 1, 'tireless': 1, 'literati': 1, 'championed': 1, 'simona': 1, 'popescu': 1, 'visionary': 1, 'manuscripts': 1, 'resurgence': 1, 'contributed': 1, 'contributes': 1, 'evergrowing': 1, 'erudition': 1, 'intellectual': 1, 'alertness': 1, 'permeated': 1, 'radically': 1, 'innovative': 1, 'tradition': 1, 'prophetic': 1, 'paracelsus': 1, 'decrease': 1, 'claims': 1, 'reworking': 1, 'motif': 1, 'ultimately': 1, 'embeds': 1, 'poetics': 1, 'revisioned': 1, 'contours': 1, 'para': 1, 'transbiographical': 1, 'gains': 1, 'typically': 1, 'uniquely': 1, 'updatingrecycling': 1, 'translationtransmutation': 1, 'humorous': 1, 'profanation': 1, 'symbols—the': 1, 'spell': 1, 'pohem': 1, 'epitome': 1, 'poetics—always': 1, 'unraveling': 1, 'intriguingly': 1, 'communal': 1, 'experiences': 1, 'storyencounterdream': 1, 'recounted': 1, 'participatory': 1, 'trademarks': 1, 'projecting': 1, 'metaphoric': 1, 'mythical': 1, 'ritualistic': 1, 'screen': 1, 'mode': 1, 'existence': 1, 'melted': 1, 'forgedrefined': 1, 'shaped': 1, 'intimately': 1, 'realities': 1, 'agents': 1, 'energies': 1, 'statuette': 1, 'motioning': 1, 'viewer': 1, 'scenario': 1, 'develops': 1, 'event': 1, 'insidious': 1, 'gradually': 1, 'amplified': 1, 'overwhelming': 1, 'brings': 1, 'bridging': 1, 'heavens': 1, 'conventionally': 1, 'elevated': 1, 'andor': 1, 'mysteries': 1, 'tranquility': 1, 'insignificant': 1, 'skies': 1, 'crossed': 1, 'tramcars': 1, 'ground': 1, 'sky': 1, 'silence…': 1, 'aesthetics': 1, 'mircea': 1, 'eliade': 1, 'disguised': 1, 'immersion': 1, 'insatiably': 1, 'probing': 1, 'experiencing': 1, 'fusions': 1, 'multilayered': 1, 'significations': 1, 'stemming': 1, 'continuously': 1, 'aiming': 1, 'singles': 1, 'enactment': 1, 'masterfully': 1, 'controlled': 1, 'hybridizations': 1, 'clichédismantling': 1, 'complexities': 1, 'concatenations': 1, 'impervious': 1, 'allegory': 1, 'metaphor': 1, 'forgets': 1, 'functions': 1, 'gradation': 1, 'role': 1, 'liberation': 1, 'fulfillment': 1, 'pitfalls': 1, 'systematic': 1, 'categorical': 1, 'several': 1, 'included': 1, 'selection': 1, 'meanings': 1, 'absorbs': 1, 'fashions': 1, 'philosophical': 1, 'spiritualist': 1, 'unfaltering': 1, 'openness': 1, 'includes': 1, 'banalities': 1, 'rendering': 1, 'shrewdly': 1, 'forcefully': 1, 'fearless': 1, 'critique': 1, 'prophecy': 1, 'terrorismrelated': 1, 'paranoia': 1, 'discrimination': 1, 'immigrants': 1, 'out': 1, 'terrorism': 1, 'summer': 1, '1998': 1, 'knocked': 1, 'cabin': 1, 'hillock': 1, 'slouchy': 1, 'lush': 1, 'shrubs': 1, 'ponds': 1, 'wallachian': 1, 'graduate': 1, 'literatures': 1, 'dissertation': 1, 'charles': 1, 'simic': 1, 'supervisor': 1, 'monica': 1, 'pillat': 1, 'encouraged': 1, 'paper': 1, 'serbian': 1, 'stooped': 1, 'peer': 1, 'bars': 1, 'windowpane': 1, 'restless': 1, 'pierced': 1, 'sounded': 1, 'whom': 1, 'him…': 1, 'stunned': 1, 'richness': 1, 'universe': 1, 'hoarded': 1, 'cramped': 1, 'archeological': 1, 'findings': 1, 'drawings': 1, 'paintings': 1, 'collages': 1, 'furniture': 1, 'paired': 1, 'demonchairs': 1, 'avantgarde': 1, 'sidetables': 1, 'kilims': 1, 'oltenia': 1, 'moldavian': 1, 'floral': 1, 'geometric': 1, 'carpets': 1, 'smoking': 1, 'sizes': 1, 'origins': 1, 'masks': 1, 'maramureș': 1, 'alongside': 1, 'extraordinary': 1, 'lesser': 1, 'preoccupations': 1, 'psychiclike': 1, 'visions': 1, 'informing': 1, 'disciplesfansfriends': 1, 'surprised': 1, 'selfeffacingly': 1, 'humbly': 1, 'refused': 1, 'miraculous': 1, 'episodes': 1, 'sanda': 1, 'roșescu': 1, 'booklength': 1, 'interview': 1, 'despre': 1, 'interiorexterior': 1, 'inoutside': 1, 'learnt': 1, 'inclination': 1, 'esoteric': 1, 'despised': 1, 'interestingly': 1, 'diction': 1, 'gravitated': 1, 'simpler': 1, 'mysterious': 1, 'explicit': 1, 'urge': 1, 'direction': 1, 'spiritualism': 1, 'suspicious': 1, 'discovering': 1, 'truths': 1, 'diary': 1, '1948': 1, 'archive': 1, 'sixty': 1, 'belief': 1, 'poems—it': 1, 'universal': 1, 'poetries': 1, 'regarding': 1, 'cultural': 1, 'biographies': 1, 'lives—coming': 1, 'virtually': 1, 'het': 1, 'possible': 1, '—margento': 1, 'flutter': 1, 'extinguished': 1, 'limestone': 1, 'tattoos': 1, 'shoals': 1, 'shirts': 1, 'squirming': 1, 'pebbles': 1, 'whooshing': 1, 'buckets': 1, 'cages': 1, 'twisting': 1, 'creeping': 1, 'fallen': 1, 'disuse': 1, 'menacing': 1, 'rambled': 1, 'tried': 1, 'fend': 1, 'drawing': 1, 'circle': 1, 'motion': 1, 'recount': 1, 'ugliest': 1, 'miss': 1, 'lola': 1, 'universities': 1, 'desert': 1, 'loses': 1, 'recall': 1, 'one': 1, 'eyed': 1, 'refugee': 1, 'claws': 1, 'brutal': 1, 'temptation': 1, 'describe': 1, 'pilgrimage': 1, 'congratulate': 1, 'nearby': 1, 'ceremonies': 1, 'joys': 1, 'monastery': 1, 'kicking': 1, 'grey': 1, 'unfortunate': 1, 'rejoin': 1, 'causalities': 1, 'sensed': 1, 'luxurious': 1, 'purse': 1, 'raggedass': 1, 'staring': 1, 'whimpered': 1, 'answered': 1, 'rudely': 1, 'motorbike': 1, 'powerfully': 1, 'shed': 1, 'tears': 1, 'hovered': 1, 'closer': 1, 'cherry': 1, 'anyhow': 1, 'lifted': 1, 'whimpering': 1, 'legătura': 1, 'bonding': 1, 'occluded': 1, 'addressing': 1, 'preparing': 1, 'ferry': 1, 'departure': 1, 'reimburse': 1, 'guys': 1, 'joyful': 1, 'crouched': 1, 'widow': 1, 'banquet': 1, 'prepared': 1, 'terrace': 1, 'aria': 1, 'strange': 1, 'habitually': 1, 'gentle': 1, 'moans': 1, 'immeasurable': 1, 'value': 1, 'mornings': 1, 'slightly': 1, 'erroneous': 1, 'calendar': 1, 'baking': 1, 'bandaging': 1, 'blades': 1, 'boulevards': 1, 'locust': 1, 'heaps': 1, 'cobs': 1, 'rustling': 1, 'stirs': 1, 'calamine': 1, 'firmness': 1, 'capable': 1, 'rocking': 1, 'cradle': 1, 'cage': 1, 'plants': 1, 'allpowerful': 1, 'triumphant': 1, 'vegetable': 1, 'sending': 1, 'illustrated': 1, 'postcards': 1, 'fans': 1, 'searing': 1, 'belong': 1, 'encompassing': 1, 'mattress': 1, 'premonitory': 1, 'petticoat': 1, 'pathways': 1, 'plausible': 1, 'plots': 1, 'hourglasses': 1, 'rusted': 1, 'queen': 1, 'ballet': 1, 'heron': 1, 'alexandria': 1, 'spins': 1, 'principles': 1, 'corner': 1, 'matches': 1, 'treatise': 1, 'hoopskirt': 1, 'banks': 1, 'fence': 1, 'opheliadrownedinsteam': 1, 'noble': 1, 'amphora': 1, 'apprentice': 1, 'lamps': 1, 'mosquitoes': 1, 'region': 1, 'total': 1, 'transparency': 1, 'parrot': 1, 'geography': 1, 'lessons': 1, 'apollonius': 1, 'tyana': 1, 'concrete': 1, 'abysses': 1, 'issued': 1, 'date': 1, 'astronomer': 1, 'boulevard': 1, 'charging': 1, 'telescope': 1, 'button': 1, 'butt': 1, 'paying': 1, 'honking': 1, 'rubble': 1, 'sixth': 1, 'liked': 1, 'chat': 1, 'mending': 1, 'tailor': 1, 'dyed': 1, 'buttons': 1, 'rocked': 1, 'teeth': 1, 'trapeze': 1, 'shivering': 1, 'addressed': 1, 'hermitage': 1, 'sedimentary': 1, 'review': 1, 'lizards': 1, 'woven': 1, 'gutter': 1, 'cinderella': 1, 'seventh': 1, 'jousting': 1, 'continues': 1, 'carrying': 1, 'offer': 1, 'forty': 1, 'eighty': 1, 'wondrously': 1, 'eating': 1, 'discussing': 1, 'unabated': 1, 'recited': 1, 'rugby': 1, 'pitch': 1, 'panting': 1, 'scrum': 1, 'believed': 1, 'conceptions': 1, 'crepuscular': 1, 'spasms': 1, 'beret': 1, 'perfectly': 1, 'immense': 1, 'cheerful': 1, 'reclaiming': 1, 'slapped': 1, 'palm': 1, 'depending': 1, 'weather': 1, 'season': 1, 'rarely': 1, 'parents': 1, 'saluting': 1, 'spread': 1, 'appease': 1, 'wail': 1, 'scared': 1, 'bewildered': 1, 'hölderlinian': 1, 'duty': 1, 'defend': 1, 'copacul': 1, '1971': 1, 'harder': 1, 'safe': 1, 'mulberry': 1, 'brambles': 1, 'gate': 1, 'mane': 1, 'rustled': 1, 'reeds': 1, 'streams': 1, 'wobbling': 1, 'blouse': 1, 'blushed': 1, 'saint': 1, 'icon': 1, 'know—he': 1, 'said—as': 1, 'traces': 1, 'bridges': 1, 'lend': 1, 'spoke': 1, 'inner': 1, 'happening': 1, 'stork': 1, 'circling': 1, 'calling': 1, 'complicity': 1, 'fertile': 1, 'protection': 1, 'barefoot': 1, 'brothers': 1, 'dwelt': 1, 'wheel': 1, 'creaked': 1, 'kids': 1, 'stale': 1, 'uttering': 1, 'feminine': 1, 'masculine': 1, 'neutral': 1, 'unquiet': 1, 'abstract': 1, 'worldold': 1, 'friendly': 1, 'wiped': 1, 'mouths': 1, 'palms': 1, 'dahlias': 1, 'large': 1, 'brass': 1, 'mirrors': 1, 'naked': 1, 'morse': 1, 'code': 1, 'mystery': 1, 'increasingly': 1, 'bathtub': 1, 'dares': 1, 'blow': 1, 'understands': 1, 'feels': 1, 'alarmed': 1, 'coffee': 1, 'classifieds': 1, 'selling': 1, 'telephoto': 1, 'lens': 1, 'expects': 1, 'telescopic': 1, 'folds': 1, 'heeding': 1, 'military': 1, 'riddled': 1, 'bullet': 1, 'clipped': 1, 'newspaper': 1, 'aspirin': 1, 'loads': 1, 'money': 1, 'inventor': 1, 'invented': 1, 'mechanisms': 1, 'persuasive': 1, 'faces': 1, 'drawn': 1, 'shudder': 1, 'pohetry': 1, 'hated': 1, 'longhaired': 1, 'washing': 1, 'dance': 1, 'dedicate': 1, 'dreamed': 1, 'stool': 1, 'cycling': 1, 'hollering': 1, 'backing': 1, 'winning': 1, 'prizes': 1, 'generously': 1, 'painted': 1, 'eyebrows': 1, 'adamantly': 1, 'mesh': 1, 'legs': 1, 'town': 1, 'calm': 1, 'pulled': 1, 'joked': 1, 'floreasca': 1, 'track': 1, 'hooves': 1, 'clopping': 1, 'jockey': 1, 'furiously': 1, 'smoked': 1, 'elbows': 1, 'propped': 1, 'drag': 1, 'entered': 1, 'arena': 1, 'warming': 1, 'muscular': 1, 'necks': 1, 'butting': 1, 'electric': 1, 'score': 1, 'billy': 1, 'goat': 1, 'horns': 1, 'singing': 1, 'ribbons': 1, 'shaking': 1, 'sockets': 1, 'lheading': 1, 'bleachers': 1, 'meticulous': 1, 'arrangement': 1, 'anywhere': 1, 'orange': 1, 'bequeath': 1, 'bonbons': 1, 'science': 1, 'happiness': 1, 'busts': 1, 'unknown': 1, 'yelping': 1, 'tossed': 1, 'manes': 1, 'equivocal': 1, 'impartiality': 1, 'indistinct': 1, 'maternal': 1, 'mindful': 1, 'broadshouldered': 1, 'cards': 1, 'pockets': 1, 'horses': 1, 'shot': 1, 'vast': 1, 'amounted': 1, 'image': 1, 'eliza': 1, 'machine': 1, 'formed': 1, 'hydrocephalic': 1, 'southerner': 1, 'besiege': 1, 'questions': 1, 'shirt': 1, 'grape': 1, 'stains': 1, 'mercenary': 1, 'glasses': 1, 'zigzagging': 1, 'smoothly': 1, 'moves': 1, 'completely': 1, 'extraneous': 1, 'equations': 1, 'melt': 1, 'blackbird': 1, 'jukebox': 1, 'visible': 1, 'stocking': 1, 'condition': 1, 'obvious': 1, 'esperanza': 1, 'browbone': 1, 'triomphe': 1, 'glorious': 1, 'deserters': 1, 'represents': 1, 'portion': 1, 'moving': 1, 'getting': 1, 'zeppelin': 1, 'motions': 1, 'pointing': 1, 'tiara': 1, 'deadweight': 1, 'leaving': 1, 'remained': 1, 'peacefully': 1, 'tomb': 1, 'mask': 1, '1974': 1, 'purtătorul': 1, 'pick': 1, 'nose': 1, 'pull': 1, 'snot': 1, 'plates': 1, 'pencil': 1, 'stomach': 1, 'silk': 1, 'thighs': 1, 'sparrow': 1, 'borsht': 1, 'comrade': 1, 'tickling': 1, 'belly': 1, 'dances': 1, 'bellydance': 1, 'castanet': 1, 'stinking': 1, 'lazy': 1, 'penis': 1, 'mediterranean': 1, 'stink': 1, 'lice': 1, 'pacific': 1, 'kultur': 1, 'hunger': 1, 'heine': 1, 'hymen': 1, 'dangles': 1, 'admired': 1, 'cool': 1, 'pictures': 1, 'ford': 1, 'bathed': 1, 'suave': 1, 'colognes': 1, 'bashfully': 1, 'roses': 1, 'spats': 1, 'classic': 1, 'songs': 1, 'tuneless': 1, 'powdered': 1, 'flesh': 1, 'hideous': 1, 'wrinkles': 1, 'appear': 1, 'amazement': 1, 'thomas': 1, 'christs': 1, 'unreal': 1, 'wounds': 1, 'gentlest': 1, 'genitalia': 1, 'sprinkler': 1, 'catch': 1, 'song': 1, 'drumețul': 1, 'incendiar': 1, 'incendiary': 1, 'traveler': 1, '1936': 1, 'opened': 1, 'alive': 1, 'shrouds': 1, 'confrontation': 1, 'commemoration': 1, 'ultimate': 1, 'employment': 1, 'contemplation': 1, 'turn': 1, 'mold': 1, 'deserve': 1, 'titles': 1, 'nobility': 1, 'hardship': 1, 'obscurity': 1, 'twilight': 1, 'retreat': 1, 'stars': 1, 'memorable': 1, 'liquid': 1, 'continue': 1, 'heresy': 1, 'spiral': 1, 'unparalleled': 1, 'streaming': 1, 'terrestrialization': 1, 'rainbow': 1, 'tongues': 1, 'nights': 1, 'eclipses': 1, 'eclipses…': 1, 'strove': 1, 'reddened': 1, 'sun…': 1, 'fiery': 1, 'tools': 1, 'meets': 1, 'flame': 1, 'accustomed': 1, 'flares': 1, 'scarcely': 1, 'discerned': 1, 'active': 1, 'lively': 1, 'panic': 1, 'deafening': 1, 'offending': 1, 'forces': 1, 'stake': 1, 'comfortable': 1, 'harm': 1, 'consumed': 1, 'fecund': 1, 'destructive': 1, 'noon': 1, 'visit': 1, 'offend': 1, 'heed': 1, 'hours': 1, 'special': 1, 'preparations': 1, 'exquisite': 1, 'aquatic': 1, 'mineral': 1, 'francis': 1, 'secluded': 1, 'mountain': 1, 'poverty—well': 1, 'accomplished': 1, 'claim': 1, 'compulsory': 1, 'miracle': 1, 'wide': 1, 'regain': 1, 'muffled': 1, 'horus': 1, 'worshippers': 1, 'consciousness': 1, 'rash': 1, 'annoyed': 1, 'smart': 1, 'discouraged': 1, 'unchained': 1, 'shut': 1, 'disgust': 1, 'feel—and': 1, 'ahead': 1, 'solar': 1, 'forget': 1, 'șearpelui': 1, 'descended': 1, 'careless': 1, 'flooded': 1, 'veins': 1, 'insinuating': 1, 'geometry': 1, 'opens': 1, 'metal': 1, 'scream': 1, 'huge': 1, 'corridors': 1, 'mosaic': 1, 'smelling': 1, 'torso': 1, 'grid': 1, 'warner': 1, '1970': 1, 'usefulness': 1, 'sometime': 1, 'someday': 1, 'rows': 1, 'broken': 1, 'masts': 1, 'boards': 1, 'posts': 1, 'reach': 1, 'choice': 1, 'lectures': 1, 'join': 1, 'ranks': 1, 'searching': 1, 'litter': 1, 'slows': 1, 'slides': 1, 'horizon': 1, 'standing': 1, 'surface': 1, 'thalamus': 1, 'bolting': 1, 'exits': 1, 'glacier': 1, 'streets': 1, 'settled': 1, 'cowered': 1, 'harsh': 1, 'kissed': 1, 'herself': 1, 'rotten': 1, 'grave': 1, 'roundish': 1, 'obviously': 1, 'raining': 1, 'trudging': 1, 'thunderbolt': 1, 'drove': 1, 'struggled': 1, 'lift': 1, 'pulling': 1, 'boss': 1, 'crying': 1, 'hungry': 1, 'feed': 1, 'picking': 1, 'offered': 1, 'picked': 1, 'declined': 1, 'stormed': 1, 'awakening': 1, '1996': 1, 'ascet': 1, 'baraca': 1, 'discurs': 1, 'către': 1, 'pietre': 1, 'crumpled': 1, 'tear': 1, 'labyrinth': 1, 'grammar': 1, 'patriarchal': 1, 'beard': 1, 'meanwhile': 1, 'attic': 1, 'immensity': 1, 'belonged': 1, 'invisible': 1, 'community': 1, 'located': 1, 'prolongation': 1, 'realm': 1, 'strolled': 1, 'clarities': 1, 'habit': 1, 'chest': 1, 'reinventing': 1, 'discontinuity': 1, 'blade': 1, 'covering': 1, 'castle': 1, 'rotation': 1, 'evaporated': 1, 'visited': 1, 'shake': 1, 'bucket': 1, 'nail': 1, 'melancolia': 1, 'dezvoltării': 1, 'growth': 1, 'cycle': 1, 'autumn': 1, 'ramble': 1, 'carpathianbalkan': 1, 'range': 1, 'beee': 1, 'expressing': 1, 'unspoken': 1, 'laws': 1, 'migration': 1, 'lonely': 1, 'transhumance': 1, 'gather': 1, 'herd': 1, 'gnaw': 1, 'able': 1, 'understand': 1, 'mechanics': 1, 'events': 1, 'layers': 1, 'preceding': 1, 'usually': 1, 'wears': 1, 'carries': 1, 'scale': 1, 'isolated': 1, 'limbs': 1, 'balanced': 1, 'statue': 1, 'confusing': 1, 'calculus': 1, 'persistently': 1, 'moan': 1, 'perished': 1, 'farewell': 1, 'parting': 1, 'unrest': 1, 'magnet': 1, 'mere': 1, 'fluttering': 1, 'soft': 1, 'forsaken': 1, 'rustle': 1, 'greenery': 1, 'piety': 1, 'indecency': 1, 'plenitude': 1, 'aggressive': 1, 'candor': 1, 'darkyears': 1, 'vainglorious': 1, 'justificatory': 1, 'novas': 1, 'sequoia': 1, 'sleepopithecines': 1, 'caterpillars': 1, 'rocks': 1, 'gold': 1, 'granite': 1, 'copper': 1, 'kangaroos': 1, 'butterflies': 1, 'knives': 1, 'rains': 1, 'nightingales': 1, 'genus': 1, 'boot': 1, 'electronics': 1, 'swallowing': 1, 'logic': 1, 'intuition': 1, 'forming': 1, 'sick': 1, 'emotionally': 1, 'respectfully': 1, 'salute': 1, 'insects': 1, 'panicking': 1, 'insurgency': 1, 'reminiscent': 1, 'bombardiers': 1, 'dumb': 1, 'unripe': 1, 'raspberry': 1, 'sole': 1, 'survivor': 1, 'extinct': 1, 'newly': 1, 'crazy': 1, 'multiplication': 1, 'recognized': 1, 'merely': 1, 'ethereal': 1, 'communicate': 1, 'winged': 1, 'heel': 1, 'sliding': 1, 'boundless': 1, 'deserts': 1, 'sitting': 1, 'pilgrim': 1, 'crammed': 1, 'boiling': 1, 'lava': 1, 'flowing': 1, 'olive': 1, 'bear': 1, 'bitter': 1, 'goldcolored': 1, 'furs': 1, 'foxes': 1, 'foxwitches': 1, 'blurred': 1, 'humans': 1, 'crypt': 1, 'seal': 1, 'modernly': 1, 'likable': 1, 'crossroads': 1, 'snail': 1, 'shells': 1, 'wingcases': 1, 'steps': 1, 'saving': 1, 'gazes': 1, 'fighting': 1, 'cobalt': 1, 'indestructible': 1, 'inertia': 1, 'inquietude': 1, 'steam': 1, 'shortly': 1, 'leaping': 1, 'ferocious': 1, 'stray': 1, 'dogs': 1, 'greet': 1, 'expectation': 1, 'avalanches': 1, 'snails': 1, 'whirring': 1, 'rots': 1, 'piercing': 1, 'contain': 1, 'hovers': 1, 'burns': 1, 'color': 1, 'dwell': 1, 'perpetual': 1, 'sonorant': 1, 'irresistible': 1, 'imbued': 1, 'creatures': 1, 'pits': 1, 'acoustic': 1, 'bizarre': 1, 'atrocious': 1, 'game': 1, 'peacegiving': 1, 'nocturnal': 1, 'cuffed': 1, 'gusts': 1, 'windows': 1, 'howls': 1, 'powders': 1, 'cliffs': 1, 'reef': 1, 'dwellers': 1, 'clad': 1, 'silver': 1, 'armors': 1, 'deceased': 1, 'whales': 1, 'knock': 1, 'keeping': 1, 'bedsheets': 1, 'archeologists': 1, 'kisses': 1, 'divers': 1, 'wave': 1, 'terror': 1, 'lilac': 1, 'chiaroscuro': 1, 'frigates': 1, 'stinky': 1, 'salt': 1, 'starfish': 1, 'somnambulist': 1, 'propeller': 1, 'sails': 1, 'garlands': 1, 'seductive': 1, 'rosette': 1, 'blossomed': 1, 'comb': 1, 'lamp': 1, 'eats': 1, 'giraffe': 1, 'stretching': 1, 'blankets': 1, 'dried': 1, 'zebra': 1, 'workshop': 1, 'floor': 1, 'sudden': 1, 'planets': 1, 'revolving': 1, 'startled': 1, 'intently': 1, 'flocks': 1, 'refining': 1, 'carnation': 1, 'chaos': 1, 'afterwards': 1, 'apparition': 1, 'petrified': 1, 'assumed': 1, 'enigmatic': 1, 'stonelike': 1, 'enemy': 1, 'gnaws': 1, 'cheeks': 1, 'levitation': 1, 'burial': 1, 'spheres': 1, 'everlasting': 1, 'astral': 1, 'catafalque': 1, 'inscribing': 1, 'convulsive': 1, 'hieroglyphs': 1, 'descending': 1, 'ruby': 1, 'rush': 1, 'herds': 1, 'secretă': 1, 'suferinței': 1, 'vegetale': 1, 'grief': 1, 'mumble': 1, 'hanska': 1, 'unnatural': 1, 'lurking': 1, 'television': 1, 'sobbing': 1, 'happily': 1, 'hanksa': 1, 'linen': 1, 'vistula': 1, 'note': 1, 'curtains': 1, 'intestinal': 1, 'clocks': 1, 'burnished': 1, '1990': 1, 'schimbarea': 1, 'lucrurilor': 1, 'tall': 1, 'somber': 1, 'leafy': 1, 'thirst': 1, 'oranges': 1, 'absorbing': 1, 'bounty': 1, 'scented': 1, 'jasmine': 1, 'forests': 1, 'urinated': 1, 'motorcycle': 1, 'utter': 1, 'unravels': 1, 'hardened': 1, 'lifeless': 1, 'heap': 1, 'insurgent': 1, 'twilights': 1, 'vagueness': 1, 'constraints': 1, 'uses': 1, 'faint': 1, 'doglike': 1, 'disappear': 1, 'blows': 1, 'caves': 1, 'move': 1, 'ogives': 1, 'clean': 1, 'laundry': 1, 'family': 1, 'elementary': 1, 'roughness': 1, 'flawless': 1, 'chairs': 1, 'collide': 1, 'flintrock': 1, 'mountains': 1, 'amass': 1, 'results': 1, 'park': 1, 'ranger': 1, 'hunter': 1, 'slipped': 1, 'hoarfrost': 1, 'wetting': 1, 'moistening': 1, 'build': 1, 'watermelons': 1, 'tents': 1, 'pitched': 1, 'receives': 1, 'arms': 1, 'inaudible': 1, 'beneficent': 1, 'deafness': 1, 'peel': 1, 'lacquer': 1, 'ingratiate': 1, 'chilly': 1, 'instant': 1, 'auras': 1, 'ringing': 1, 'lucky': 1, 'plastic': 1, 'smokes': 1, 'cheap': 1, 'cigarettes': 1, 'incest': 1, 'consummated': 1, 'apples': 1, 'curls': 1, 'click': 1, 'photographer': 1, 'brags': 1, 'amateurism': 1, 'passes': 1, 'knee': 1, 'aches': 1, 'sunflowers': 1, 'tells': 1, 'differentiates': 1, 'colorfully': 1, 'postcard': 1, 'filthy': 1, 'grapes': 1, 'coffeecolored': 1, 'drier': 1, 'differentiating': 1, 'sour': 1, 'caught': 1, 'embraced': 1, 'fields': 1, 'lights': 1, 'indecent': 1, 'posture': 1, 'shame': 1, 'alas': 1, 'swear': 1, 'bullshit': 1, 'ended': 1, 'dirtied': 1, 'branches': 1, 'hurts': 1, 'elastic': 1, 'aunt': 1, 'elena': 1, 'ohrida': 1, 'soul': 1, 'birthmark': 1, 'slender': 1, 'shady': 1, 'hills': 1, 'decent': 1, 'aching': 1, 'carried': 1, 'boar': 1, 'boots': 1, 'photograph': 1, 'aura': 1, 'greetings': 1, 'purple': 1, 'sisters': 1, 'road': 1, 'wink': 1, 'bicycles': 1, 'torsos': 1, 'elated': 1, 'deal': 1, 'cartridges': 1, 'flash': 1, 'deaf': 1, 'talks': 1, 'kneel': 1, 'adoration': 1, 'anger': 1, 'momentarily': 1, 'cries': 1, 'sinking': 1, 'below': 1, 'victims': 1, 'answer': 1, 'drops': 1, 'scolding': 1, 'loudly': 1, 'coward': 1, 'guts': 1, 'asks': 1, 'shovel': 1, 'planning': 1, 'teach': 1, 'adapt': 1, 'pulls': 1, 'steve': 1, 'rushton': 1, 'contents': 1, 'aidf': 1, 'development': 1, 'fund': 1, 'timpul': 1, 'lorrain': 1, 'baggaley': 1, 'isle': 1, 'wight': 1, 'stanza': 1, 'goodbye': 1, 'resonance': 1, 'erbaccepress': 1, 'narrator': 1, 'block': 1, 'finishes': 1, 'project—a': 1, 'explores': 1, 'christopher': 1, 'john': 1, 'clues': 1, 'explain': 1, 'ostracization': 1, 'crisis': 1, 'unable': 1, 'sensibility': 1, 'envisaged': 1, 'practice': 1, 'centres': 1, 'authentic': 1, 'unhumorous': 1, 'voice—his': 1, 'dries': 1, 'rescue—an': 1, 'willing': 1, 'piece': 1, 'piecing': 1, 'collaging': 1, 'aesthetic': 1, 'considering': 1, 'preface': 1, '2020': 1, 'fourbeat': 1, 'presented': 1, 'logistical': 1, 'problems': 1, 'controls': 1, 'recite': 1, 'perform': 1, 'lyrics': 1, 'seeger': 1, 'eddie': 1, 'rods': 1, 'commie': 1, 'member': 1, 'sevenbeat': 1, 'catching': 1, 'vacant': 1, 'seat': 1, 'future': 1, 'except': 1, 'twelveline': 1, 'stanza—certainly': 1, 'vocalist': 1, 'reciter': 1, 'anything': 1, 'cracking': 1, 'pace': 1, 'intended': 1, 'solution': 1, 'found—and': 1, 'experimental': 1, 'counterculture': 1, 'centre': 1, 'fifteenminute': 1, 'frenetic': 1, 'threeminute': 1, 'bash': 1, 'replete': 1, 'horn': 1, 'section': 1, 'multiple': 1, 'guitars': 1, 'delightfully': 1, 'instruments': 1, 'chipping': 1, 'solos': 1, 'interspersed': 1, 'equivalents': 1, 'ageless': 1, 'infinitely': 1, 'variable': 1, 'territory': 1, 'alvin': 1, 'goin': 1, 'drum': 1, 'santana': 1, 'woodstock': 1, 'hendrix': 1, 'ravel': 1, 'bolero': 1, 'finale': 1, 'personally': 1, 'stay': 1, 'sixties': 1, 'stoned': 1, 'beer': 1, 'band': 1, 'constructs': 1, 'apart': 1, 'hierarchies': 1, 'reason': 1, 'plain': 1, 'noone': 1, 'unstuck': 1, 'working': 1, 'halfbaked': 1, 'woke': 1, 'argued': 1, 'contented': 1, 'finished': 1, 'documents': 1, 'modified': 1, 'switched': 1, 'password': 1, 'career': 1, 'tatters': 1, 'despondent': 1, 'comfort—': 1, 'heartaches': 1, 'salvaged': 1, 'it—say': 1, 'grate': 1, 'thrown': 1, 'household': 1, 'waste': 1, 'detritus': 1, 'lives—': 1, 'desserts': 1, 'deserted': 1, 'overrated': 1, 'sell': 1, 'dated': 1, 'outdated': 1, 'rearranged': 1, 'shorter': 1, 'stanzas': 1, 'disposing': 1, 'torn': 1, 'tattered': 1, 'sections': 1, 'intact': 1, 'missing': 1, 'luckily': 1, 'ripped': 1, 'garbage': 1, 'omission': 1, 'done—': 1, 'cunning': 1, 'fruition': 1, 'fragmented': 1, 'cities': 1, 'colosseum': 1, 'glory': 1, 'ephesus': 1, 'rebuilt': 1, 'forum': 1, 'magisterial': 1, 'splendour': 1, 'fountains': 1, 'abbey': 1, 'vesuvius': 1, 'pompeii': 1, 'heyday—ruins': 1, 'tend': 1, 'picturesque': 1, 'title—': 1, 'dislocations—not': 1, 'disruptions': 1, 'bone': 1, 'joint': 1, 'interruptions': 1, 'crystal': 1, 'structure—all': 1, 'related': 1, 'etymology': 1, 'present': 1, 'mixed': 1, 'locus': 1, 'prefix': 1, 'snappy': 1, 'academe': 1, 'balance': 1, 'reverence': 1, 'irreverence': 1, 'intoxication': 1, 'exploration': 1, 'mixing': 1, 'roundabout': 1, 'surely': 1, 'blunt': 1, 'relevance': 1, 'affective': 1, 'route': 1, 'uniting': 1, 'beings': 1, 'extended': 1, 'froth': 1, 'shallows': 1, 'spray': 1, 'crash': 1, 'reveal': 1, 'barrier': 1, 'unrelenting': 1, 'opposition': 1, 'theme—': 1, 'transcription': 1, 'study—': 1, 'copies': 1, 'offspring': 1, 'siblings': 1, 'versions': 1, 'project—': 1, 'painful': 1, 'wrought': 1, 'cheek': 1, 'fluctuating': 1, 'laps': 1, 'undulating': 1, 'hopes': 1, 'madness': 1, 'untamed': 1, 'unwilling': 1, 'kowtow': 1, 'gatekeeper': 1, 'conservation': 1, 'caged': 1, 'captured': 1, 'ordered': 1, 'rebirth—': 1, 'time—leonardo': 1, 'botticelli': 1, 'michelangelo': 1, 'laocoön': 1, 'sculpture': 1, 'writhing': 1, 'snakes': 1, 'father': 1, 'influenced': 1, 'titian': 1, 'renaissance—': 1, 'greatest': 1, 'others—': 1, 'william': 1, 'studied': 1, 'attempted—': 1, 'worked': 1, 'similar': 1, 'citing': 1, 'exposed': 1, 'undiscovered': 1, 'invited': 1, 'bold': 1, 'knowing': 1, 'drank': 1, 'patient': 1, 'caring': 1, 'complements': 1, 'sober': 1, 'listens': 1, 'ramblings': 1, 'brushed': 1, 'times—': 1, 'away—he': 1, 'struggles': 1, 'rambling': 1, 'infinitum': 1, 'bores': 1, 'witless': 1, 'sorrows': 1, 'unhappy': 1, 'state—': 1, 'eight': 1, 'edit': 1, 'refrains': 1, 'way—to': 1, 'weeks—you': 1, 'clock': 1, 'ticking': 1, 'looms': 1, 'edits': 1, 'makes': 1, 'further': 1, 'anguished': 1, 'states': 1, 'complicates': 1, 'drudge': 1, 'splash': 1, 'flight': 1, 'fancy': 1, 'sorry': 1, 'muggers—': 1, 'drummers': 1, 'audience': 1, 'lovers—': 1, 'fond': 1, 'awkward': 1, 'restlessness': 1, 'exploring': 1, 'covers': 1, 'fumblings': 1, 'pleasures': 1, 'glass—': 1, 'muffling': 1, 'groans': 1, 'halls': 1, 'function': 1, 'well—': 1, 'transparent—surely': 1, 'traps': 1, 'husband': 1, 'bites': 1, 'discouraging': 1, 'cast': 1, 'others—louder': 1, 'shouts': 1, 'goals': 1, 'lottery': 1, 'tickets': 1, 'thick': 1, 'honour': 1, 'enjoy': 1, 'cooked': 1, 'meal': 1, 'sauce': 1, 'pasta': 1, 'repast': 1, 'served': 1, 'piped': 1, 'divine': 1, 'throats': 1, 'palate': 1, 'fusty': 1, 'hosts': 1, 'delicacy': 1, 'sharp': 1, 'resonates': 1, 'quantity': 1, 'slams': 1, 'amiss': 1, 'misadventure': 1, 'tragedies': 1, 'minor—': 1, 'ambuscade': 1, 'espionage': 1, 'warriors': 1, 'consumption—': 1, 'indented': 1, 'alternate': 1, 'regular': 1, 'scattered': 1, 'seducing': 1, 'symmetry': 1, 'inducing': 1, 'torpor': 1, 'coupled': 1, 'limping': 1, 'pose': 1, 'riposte': 1, 'fivebeat': 1, 'withstood': 1, 'grace': 1, 'centuries': 1, 'music': 1, 'elvis': 1, 'presley': 1, 'diddley': 1, 'drumsticks': 1, 'transport': 1, 'thing—without': 1, 'setting': 1, 'drums': 1, 'easier': 1, 'ignoring': 1, 'jibes': 1, 'musicians': 1, 'laughing': 1, 'cleft': 1, 'converse': 1, 'argue': 1, 'joke': 1, 'funnily': 1, 'leather': 1, 'abhorrent': 1, 'appalling': 1, 'wanting—': 1, 'riffs': 1, 'kills': 1, 'jackets': 1, 'tight': 1, 'spreading': 1, 'middleaged': 1, 'regression': 1, 'pastiche': 1, 'patterns': 1, 'weaker': 1, 'frame': 1, 'tended': 1, 'randomly': 1, 'enclose': 1, 'unlike': 1, 'before—': 1, 'wanders': 1, 'arcane': 1, 'bore': 1, 'carry': 1, 'persevere': 1, 'endeavour': 1, 'injecting': 1, 'constrict': 1, 'length': 1, 'predetermined': 1, 'cassandra': 1, 'attention': 1, 'judgment': 1, 'wasting': 1, 'rushed': 1, 'amendments': 1, 'encouragement': 1, 'spent': 1, 'support—': 1, 'phrasing': 1, 'skill': 1, 'sifting': 1, 'mistakes': 1, 'folly': 1, 'building': 1, 'designs': 1, 'hubris': 1, 'curse': 1, 'thrust': 1, 'finest': 1, 'minds—': 1, 'mincemeat': 1, 'overlooked—': 1, 'latest': 1, 'anticipating': 1, 'gaffes': 1, 'consideration': 1, 'together—': 1, 'saucy': 1, 'bawdy': 1, 'brazen': 1, 'compare': 1, 'information': 1, 'recently': 1, 'expounded': 1, 'briefly': 1, 'sadly': 1, 'largely': 1, 'shunned': 1, 'fame': 1, 'younger': 1, 'healthier': 1, '1980s': 1, 'london—seems': 1, 'deterred': 1, 'keys—the': 1, 'chopin': 1, 'canon': 1, 'trains': 1, 'convenient': 1, 'juncture': 1, 'wondering': 1, 'really': 1, 'strangled': 1, 'disposed': 1, 'knife': 1, 'toilet': 1, 'shower': 1, 'messy': 1, 'yonder': 1, 'sofa': 1, 'stupor—see': 1, 'definitely': 1, 'certainly': 1, 'chore': 1, 'liverpool': 1, 'football—': 1, 'position': 1, 'expertise': 1, 'anew': 1, 'view—from': 1, 'transcriptions': 1, 'attracted': 1, 'egoism': 1, 'transgression': 1, 'woes': 1, 'jove': 1, 'send': 1, 'afternoons': 1, 'versed': 1, 'ovidian': 1, 'couplets': 1, 'developing': 1, 'epigrammatical': 1, 'dangers': 1, 'aware': 1, 'suggested': 1, 'recognised': 1, 'blame': 1, 'expressed': 1, 'shock—': 1, 'gifted': 1, 'exceeded': 1, 'rules': 1, 'mistreated': 1, 'marloweovid—adolescents': 1, 'translatingwriting': 1, 'revolutioninterregnum': 1, 'regicide': 1, 'plague': 1, 'emerged': 1, 'humble': 1, 'opinion': 1, 'taught': 1, 'prominent': 1, 'catholics': 1, 'government': 1, 'king': 1, 'returns': 1, 'turncoat': 1, 'effusive': 1, 'panegyrics': 1, 'catholic': 1, 'solace': 1, 'badly': 1, 'alley': 1, 'remain': 1, 'match—': 1, 'complement': 1, 'violent': 1, 'courts': 1, 'record': 1, 'murder': 1, 'drama': 1, 'affray': 1, 'what—a': 1, 'reckoning': 1, 'london—marlowe': 1, 'tomis—ovid': 1, 'garden—dryden': 1, 'attacked': 1, 'urbane': 1, 'proximate': 1, 'unites': 1, 'worlds—augustan': 1, 'elizabethanrestoration': 1, 'amores—poems': 1, 'service': 1, 'battles': 1, 'lately': 1, 'separated': 1, 'papal': 1, 'authority': 1, 'peril': 1, 'illicit': 1, 'affairs': 1, 'trysts': 1, 'frustrations': 1, 'deceit': 1, 'impotence': 1, 'sins': 1, 'vicarious': 1, 'excitement': 1, 'adventures': 1, 'danger': 1, 'desire': 1, 'density': 1, 'relied': 1, '—protagonists': 1, 'opinion—mere': 1, 'fluidity': 1, 'fragmentation': 1, 'sincerity': 1, 'restoration': 1, 'awaiting': 1, 'greatness': 1, 'marlowe—edward': 1, 'faustus': 1, 'come—his': 1, 'logically': 1, 'concentrate': 1, 'checking': 1, 'revealed': 1, 'elegies': 1, 'touched': 1, 'college': 1, 'dreaming': 1, 'completing': 1, 'completion': 1, 'dissecting': 1, 'textual': 1, 'minutiae': 1, 'triple': 1, 'tamburlaine': 1, 'lacks': 1, 'ending': 1, 'shallow': 1, 'seas': 1, 'shifting': 1, 'moods': 1, 'lots': 1, 'plumbed': 1, 'dislike': 1, 'drown': 1, 'bottom': 1, 'interested': 1, 'meagre': 1, 'scribblings—': 1, 'carefully': 1, '219': 1, 'thing—the': 1, 'sunburst': 1, 'italy—': 1, 'turner': 1, 'vivid': 1, 'bright': 1, 'smaller': 1, 'fumbling': 1, 'light—': 1, 'rhyming': 1, 'cruel': 1, 'eclipsing': 1, 'denying—': 1, 'majesty': 1, 'twenty': 1, 'cups': 1, 'bloody': 1, 'consequence': 1, 'tethered': 1, 'string': 1, 'jokes': 1, 'either—': 1, 'halves': 1, 'cleverly': 1, 'nuance': 1, 'clarify': 1, 'deliberate': 1, 'foremost': 1, 'confusion': 1, 'obfuscation': 1, 'breathe': 1, 'splashes': 1, 'canvases': 1, 'mark': 1, 'relation': 1, 'nuanced': 1, 'view': 1, 'picture': 1, 'hover': 1, 'created': 1, 'viewing': 1, 'actor': 1, 'warmer': 1, 'bigger': 1, 'everywhere': 1, 'phrases': 1, 'somewhat': 1, 'vague': 1, 'maligned': 1, 'genre': 1, 'oils': 1, 'victorian': 1, 'crowded': 1, 'epsom': 1, 'racecourse': 1, 'classes': 1, 'rubbing': 1, 'character': 1, 'creating': 1, 'stories': 1, 'impressionist': 1, 'later—': 1, 'example—degas': 1, 'dancers': 1, 'graceful': 1, 'figures': 1, 'one—': 1, 'sketch': 1, 'degas': 1, 'intimation': 1, 'outline': 1, 'day—so': 1, 'many—even': 1, 'lord': 1, 'rochester': 1, 'mentioned': 1, 'incontinence': 1, 'examples': 1, 'equal': 1, 'zero': 1, 'festering': 1, 'arranged': 1, 'subjugated': 1, 'flat': 1, 'effort': 1, 'signifying—this': 1, 'emboldened': 1, 'example': 1, 'replaced': 1, 'satire': 1, 'elegy': 1, 'modern—mourning': 1, 'couplet': 1, 'finish': 1, 'dispute': 1, 'envisage': 1, 'dialogue': 1, 'stifling': 1, 'wringing': 1, 'words—': 1, 'plaintive': 1, 'morbid': 1, 'centred': 1, 'thee': 1, 'wine—': 1, 'reflect': 1, 'deserves': 1, 'important': 1, 'overlooked': 1, 'checked': 1, 'emails—there': 1, 'approved': 1, 'horror': 1, 'outlined': 1, 'focusing': 1, 'artistswriters': 1, 'selfimposed': 1, 'zola': 1, 'courbet': 1, 'gauguin': 1, 'schwitters': 1, 'grosz': 1, 'hatoum': 1, 'abramovic': 1, 'ambition': 1, 'curiosity': 1, 'successful': 1, 'names—': 1, 'teaching': 1, 'students': 1, 'stipulated': 1, 'complaining': 1, 'studies': 1, 'onoffline': 1, 'terrifying': 1, 'references': 1, 'pasted': 1, 'amazon': 1, 'searched': 1, 'basketed': 1, 'library': 1, 'assist—': 1, 'swotting': 1, 'totally': 1, 'knackered': 1, 'process': 1, 'partly': 1, 'inspiration': 1, 'burrow': 1, 'primary': 1, 'sources': 1, 'feeding': 1, 'current': 1, 'theories': 1, 'translate': 1, 'scan': 1, 'researched': 1, 'linguistically': 1, 'hard—': 1, 'knowledge—that': 1, 'crushes': 1, 'options': 1, 'bypassing': 1, 'gods': 1, 'spirit': 1, 'roman': 1, 'teasing': 1, 'damning': 1, 'moral': 1, 'tones': 1, 'divergent': 1, 'life—': 1, 'negotiations': 1, 'spaces': 1, 'said—': 1, 'art': 1, 'bluster': 1, 'penned': 1, 'applause': 1, 'duplication—true': 1, 'publish': 1, 'share': 1, 'somehow': 1, 'admit': 1, 'xxxi': 1, 'facets': 1, 'rightly': 1, 'matters': 1, 'urgent': 1, 'nature—': 1, 'subjectivity': 1, 'objective': 1, 'contrary': 1, 'have—': 1, 'flagellate': 1, 'xxxii': 1, 'underestimate': 1, 'worth': 1, 'subjective': 1, 'subsequently': 1, 'speculation': 1, 'ostracizes': 1, 'flawed': 1, 'approach': 1, 'energizing': 1, 'xxxiii': 1, 'obnoxious': 1, 'incompetent': 1, 'two—and': 1, 'admitting': 1, 'right—': 1, 'democracy': 1, 'heaven': 1, 'xxxiv': 1, 'resolve': 1, 'solved': 1, 'square': 1, 'hopefulness': 1, 'exists': 1, 'tension': 1, 'xxxv': 1, 'detached': 1, 'debated': 1, 'contact': 1, 'acknowledgement': 1, 'improve': 1, 'limits': 1, 'selfindulgence': 1, 'plays': 1, 'optimism': 1, 'infectious': 1, 'disease': 1, 'xxxvi': 1, 'wine—he': 1, 'anteroom': 1, 'around—': 1, 'bottles—drinks': 1, 'shelf': 1, 'peanuts': 1, 'skip': 1, 'xxxvii': 1, 'dabbler': 1, 'studio': 1, 'beware': 1, 'me—we': 1, 'caution': 1, 'worry': 1, 'delight': 1, 'righting': 1, 'xxxviii': 1, 'fits': 1, 'hates': 1, 'lysistrata': 1, 'strike': 1, 'deign': 1, 'wardrobe': 1, 'suitable': 1, 'lines—enticing': 1, 'rhyme—they': 1, 'suit': 1, 'occasion—when': 1, 'xxxix': 1, 'conclusion': 1, 'flexible': 1, 'him—': 1, 'come—': 1, 'did—': 1, 'rewriting': 1, 'distress—': 1, 'achieve': 1, 'goal—': 1, 'planned': 1, 'transformations': 1, 'dis': 1, 'locations': 1, 'goings': 1, 'opinion—': 1, 'bodies': 1, 'chang': 1, 'sang': 1, 'xlii': 1, 'funded': 1, 'including—a': 1, 'organized': 1, 'integration': 1, 'dobruja—': 1, 'cultures': 1, 'landed': 1, 'heritage': 1, 'xliii': 1, 'acts': 1, 'protagonists': 1, 'display': 1, 'tragicomic': 1, 'tendencies': 1, 'monologues': 1, 'dialogues': 1, 'complications': 1, 'indecisions': 1, 'disagreements': 1, 'finally': 1, 'resolution—': 1, 'pairs': 1, 'wedded': 1, 'marlowedryden': 1, 'bedded': 1, 'players': 1, 'artistpoet': 1, 'xliv': 1, 'ship': 1, 'wizz': 1, 'flight—': 1, 'luton': 1, 'tourists': 1, 'dread': 1, 'delays': 1, 'runways': 1, 'seats': 1, 'minimal': 1, 'legroom': 1, 'turbulence': 1, 'transforms': 1, 'runway': 1, 'hotel': 1, 'drink—': 1, 'partaken': 1, 'this—': 1, 'reply': 1, 'assured': 1, 'saved': 1, 'developed': 1, 'parental': 1, 'independent': 1, 'website—': 1, 'average': 1, 'website': 1, 'contemporary': 1, 'uni': 1, 'versity': 1})\n"
     ]
    }
   ],
   "source": [
    "print(Count_total)"
   ]
  },
  {
   "cell_type": "code",
   "execution_count": 27,
   "metadata": {},
   "outputs": [
    {
     "name": "stdout",
     "output_type": "stream",
     "text": [
      "4905\n",
      "3538\n"
     ]
    }
   ],
   "source": [
    "\n",
    "for i in range(2):\n",
    "    print(len(texts_data[i]))"
   ]
  },
  {
   "cell_type": "code",
   "execution_count": 28,
   "metadata": {},
   "outputs": [],
   "source": [
    "\n",
    "for i in range(2):\n",
    "    texts_data[i] = [x for x in texts_data[i] if x not in stopwords]"
   ]
  },
  {
   "cell_type": "code",
   "execution_count": 29,
   "metadata": {},
   "outputs": [
    {
     "name": "stdout",
     "output_type": "stream",
     "text": [
      "4702\n",
      "3379\n"
     ]
    }
   ],
   "source": [
    "\n",
    "for i in range(2):\n",
    "    print(len(texts_data[i]))  # Some of them got shorter:"
   ]
  },
  {
   "cell_type": "code",
   "execution_count": 30,
   "metadata": {},
   "outputs": [],
   "source": [
    "\n",
    "dictionary = corpora.Dictionary(texts_data)"
   ]
  },
  {
   "cell_type": "code",
   "execution_count": 31,
   "metadata": {},
   "outputs": [],
   "source": [
    "corpus = [dictionary.doc2bow(text) for text in texts_data]\n",
    "import pickle\n",
    "pickle.dump(corpus, open('corpus.pkl', 'wb'))\n",
    "dictionary.save('dictionary.gensim')"
   ]
  },
  {
   "cell_type": "code",
   "execution_count": 32,
   "metadata": {},
   "outputs": [],
   "source": [
    "def compute_coherence_values(dictionary, corpus, texts, limit, start = 2, step = 1):\n",
    "    coherence_values = []\n",
    "    model_list = []\n",
    "    for num_topics in range(start, limit, step):\n",
    "        model = gensim.models.ldamodel.LdaModel(corpus = corpus, num_topics = num_topics, id2word = dictionary, random_state = 100, update_every = 1, passes = 15, alpha = 'auto', per_word_topics = True)\n",
    "        model_list.append(model)\n",
    "        coherencemodel = CoherenceModel(model = model, texts = texts, dictionary = dictionary, coherence = 'c_v')\n",
    "        coherence_values.append(coherencemodel.get_coherence())\n",
    "\n",
    "    return model_list, coherence_values"
   ]
  },
  {
   "cell_type": "code",
   "execution_count": 33,
   "metadata": {},
   "outputs": [],
   "source": [
    "model_list, coherence_values = compute_coherence_values(dictionary = dictionary, corpus = corpus, texts = texts_data, start=2, limit=10, step=1)"
   ]
  },
  {
   "cell_type": "code",
   "execution_count": 34,
   "metadata": {},
   "outputs": [
    {
     "name": "stdout",
     "output_type": "stream",
     "text": [
      "Num Topics = 2  has Coherence Value of 0.4488\n",
      "Num Topics = 3  has Coherence Value of 0.3788\n",
      "Num Topics = 4  has Coherence Value of 0.3508\n",
      "Num Topics = 5  has Coherence Value of 0.4384\n",
      "Num Topics = 6  has Coherence Value of 0.3979\n",
      "Num Topics = 7  has Coherence Value of 0.4224\n",
      "Num Topics = 8  has Coherence Value of 0.4113\n",
      "Num Topics = 9  has Coherence Value of 0.359\n"
     ]
    }
   ],
   "source": [
    "limit=10\n",
    "start=2\n",
    "step=1\n",
    "x = range(start, limit, step)\n",
    "\n",
    "for m, cv in zip(x, coherence_values):\n",
    "    print(\"Num Topics =\", m, \" has Coherence Value of\", round(cv, 4))"
   ]
  },
  {
   "cell_type": "code",
   "execution_count": 35,
   "metadata": {},
   "outputs": [],
   "source": [
    "NUM_TOPICS = 2\n",
    "ldamodel = gensim.models.ldamodel.LdaModel(corpus, num_topics = NUM_TOPICS, id2word=dictionary, random_state=100, update_every=1, passes=15, alpha='auto', per_word_topics=True)\n",
    "\n"
   ]
  },
  {
   "cell_type": "code",
   "execution_count": 36,
   "metadata": {},
   "outputs": [],
   "source": [
    "topics = ldamodel.print_topics(num_words=44)"
   ]
  },
  {
   "cell_type": "code",
   "execution_count": 28,
   "metadata": {},
   "outputs": [],
   "source": [
    "#ldamodel.save('model5.gensim')"
   ]
  },
  {
   "cell_type": "code",
   "execution_count": 37,
   "metadata": {},
   "outputs": [
    {
     "name": "stdout",
     "output_type": "stream",
     "text": [
      "[(0,\n",
      "  '0.011*\"verse\" + 0.009*\"ovid\" + 0.007*\"poet\" + 0.005*\"work\" + 0.005*\"poem\" + '\n",
      "  '0.005*\"write\" + 0.004*\"when\" + 0.004*\"time\" + 0.004*\"marlowe\" + '\n",
      "  '0.004*\"poets\" + 0.004*\"lines\" + 0.004*\"other\" + 0.004*\"half\" + '\n",
      "  '0.004*\"writing\" + 0.004*\"dryden\" + 0.004*\"said\" + 0.004*\"line\" + '\n",
      "  '0.003*\"thought\" + 0.003*\"might\" + 0.003*\"every\" + 0.003*\"thanks\" + '\n",
      "  '0.003*\"better\" + 0.003*\"poetry\" + 0.003*\"course\" + 0.002*\"alter\" + '\n",
      "  '0.002*\"know\" + 0.002*\"three\" + 0.002*\"plan\" + 0.002*\"wine\" + 0.002*\"best\" + '\n",
      "  '0.002*\"perhaps\" + 0.002*\"verses\" + 0.002*\"life\" + 0.002*\"before\" + '\n",
      "  '0.002*\"make\" + 0.002*\"both\" + 0.002*\"between\" + 0.002*\"here\" + '\n",
      "  '0.002*\"translation\" + 0.002*\"right\" + 0.002*\"take\" + 0.002*\"found\" + '\n",
      "  '0.002*\"translations\" + 0.002*\"worse\"'),\n",
      " (1,\n",
      "  '0.004*\"naum\" + 0.004*\"when\" + 0.003*\"other\" + 0.003*\"poet\" + 0.003*\"time\" + '\n",
      "  '0.003*\"know\" + 0.003*\"sequence\" + 0.003*\"where\" + 0.002*\"long\" + '\n",
      "  '0.002*\"water\" + 0.002*\"night\" + 0.002*\"still\" + 0.002*\"around\" + '\n",
      "  '0.002*\"under\" + 0.002*\"over\" + 0.002*\"words\" + 0.002*\"romanian\" + '\n",
      "  '0.002*\"full\" + 0.002*\"down\" + 0.002*\"things\" + 0.002*\"something\" + '\n",
      "  '0.002*\"eyes\" + 0.002*\"love\" + 0.002*\"maybe\" + 0.002*\"most\" + 0.002*\"after\" '\n",
      "  '+ 0.002*\"made\" + 0.002*\"above\" + 0.002*\"side\" + 0.002*\"face\" + 0.002*\"poem\" '\n",
      "  '+ 0.002*\"poetry\" + 0.002*\"both\" + 0.002*\"never\" + 0.002*\"only\" + '\n",
      "  '0.002*\"look\" + 0.002*\"each\" + 0.002*\"world\" + 0.002*\"blue\" + '\n",
      "  '0.002*\"silence\" + 0.002*\"moon\" + 0.001*\"between\" + 0.001*\"away\" + '\n",
      "  '0.001*\"went\"')]\n"
     ]
    }
   ],
   "source": [
    "pprint(topics)"
   ]
  },
  {
   "cell_type": "code",
   "execution_count": null,
   "metadata": {},
   "outputs": [],
   "source": [
    "# We notice that the two topics roughly correpsond to the two collections, and therefore there is hardly any hybridization taking place. We need to consolidate the two files. "
   ]
  },
  {
   "cell_type": "code",
   "execution_count": 38,
   "metadata": {},
   "outputs": [
    {
     "name": "stdout",
     "output_type": "stream",
     "text": [
      "/Users/christanasescu\n"
     ]
    }
   ],
   "source": [
    "cd .."
   ]
  },
  {
   "cell_type": "code",
   "execution_count": 12,
   "metadata": {},
   "outputs": [
    {
     "name": "stdout",
     "output_type": "stream",
     "text": [
      "{0: 'naum_&_rushton.txt'}\n"
     ]
    }
   ],
   "source": [
    "filelabels = {}\n",
    "\n",
    "import re as re \n",
    "\n",
    "def get_documents(path):\n",
    "    os.chdir(path)\n",
    "    files = [f for f in os.listdir(path) if os.path.isfile(os.path.join(path, f))]\n",
    "    texts = []\n",
    "    count = -1\n",
    "    for f in files:\n",
    "        with open(f, \"r\", encoding='utf-8', errors = 'ignore') as openf:\n",
    "            count = count + 1\n",
    "            filelabels[count] = os.path.basename(openf.name)\n",
    "            splitted_lines = openf.read().splitlines()\n",
    "            splitted_lines = _pre_clean(splitted_lines)\n",
    "            texts.append(splitted_lines)\n",
    "    print(filelabels)\n",
    "    return texts\n",
    "\n",
    "TEXTS_DIR = HOME + \"/rushton_&_naum_consolidated_for_margento_trans/\"\n",
    "\n",
    "documents = get_documents(TEXTS_DIR)"
   ]
  },
  {
   "cell_type": "code",
   "execution_count": 13,
   "metadata": {},
   "outputs": [],
   "source": [
    "texts_data = []\n",
    "\n",
    "files = [f for f in os.listdir(TEXTS_DIR) if os.path.isfile(os.path.join(TEXTS_DIR, f))]\n",
    "\n",
    "import string\n",
    "from string import punctuation\n",
    "\n",
    "remove_punct_map = dict.fromkeys(map(ord, string.punctuation))\n",
    "\n",
    "tokens_total = []\n",
    "\n",
    "for f in files:\n",
    "    with open(f, \"r\", encoding='utf-8', errors = 'ignore') as openf:\n",
    "        tokens = []\n",
    "        for line in openf:\n",
    "            sent_text = nltk.sent_tokenize(line)\n",
    "            for sentence in sent_text:\n",
    "                tokens1 = tokenize(sentence)\n",
    "                tokens1 = [item.translate(remove_punct_map)\n",
    "                      for item in tokens1]\n",
    "                #filter_object = filter(lambda x: x != \"\", tokens1)\n",
    "                tokens1 = [x for x in tokens1 if x!= \"\"]\n",
    "                for token in tokens1:\n",
    "                    tokens.append(token)\n",
    "                    tokens_total.append(token)\n",
    "    texts_data.append(tokens)"
   ]
  },
  {
   "cell_type": "code",
   "execution_count": 41,
   "metadata": {},
   "outputs": [
    {
     "data": {
      "text/plain": [
       "8082"
      ]
     },
     "execution_count": 41,
     "metadata": {},
     "output_type": "execute_result"
    }
   ],
   "source": [
    "\n",
    "len(tokens_total)"
   ]
  },
  {
   "cell_type": "code",
   "execution_count": 14,
   "metadata": {},
   "outputs": [],
   "source": [
    "tokens_total = [x for x in tokens_total if x not in stopwords]"
   ]
  },
  {
   "cell_type": "code",
   "execution_count": 43,
   "metadata": {},
   "outputs": [
    {
     "data": {
      "text/plain": [
       "8081"
      ]
     },
     "execution_count": 43,
     "metadata": {},
     "output_type": "execute_result"
    }
   ],
   "source": [
    "\n",
    "len(tokens_total)"
   ]
  },
  {
   "cell_type": "code",
   "execution_count": 44,
   "metadata": {},
   "outputs": [],
   "source": [
    "\n",
    "Count_total = Counter(tokens_total)"
   ]
  },
  {
   "cell_type": "code",
   "execution_count": 45,
   "metadata": {},
   "outputs": [
    {
     "name": "stdout",
     "output_type": "stream",
     "text": [
      "Counter({'verse': 59, 'poet': 55, 'ovid': 49, 'when': 46, 'other': 41, 'time': 39, 'poem': 35, 'work': 32, 'know': 29, 'write': 26, 'poets': 25, 'naum': 25, 'said': 24, 'poetry': 23, 'long': 22, 'where': 22, 'better': 22, 'still': 22, 'writing': 21, 'marlowe': 21, 'lines': 21, 'night': 20, 'down': 20, 'half': 20, 'full': 20, 'dryden': 19, 'every': 19, 'thought': 19, 'both': 19, 'under': 19, 'over': 19, 'between': 18, 'line': 18, 'words': 18, 'life': 18, 'things': 17, 'might': 17, 'make': 17, 'sequence': 17, 'here': 16, 'love': 16, 'never': 16, 'times': 16, 'maybe': 16, 'right': 16, 'before': 16, 'around': 16, 'water': 16, 'thanks': 15, 'romanian': 15, 'after': 15, 'course': 15, 'something': 15, 'made': 15, 'each': 14, 'look': 14, 'best': 14, 'again': 14, 'word': 14, 'good': 14, 'only': 13, 'found': 13, 'away': 13, 'others': 13, 'came': 13, 'take': 13, 'most': 13, 'eyes': 13, 'alter': 12, 'head': 12, 'perhaps': 12, 'three': 12, 'ancient': 12, 'went': 12, 'world': 12, 'death': 11, 'later': 11, 'plan': 11, 'wine': 11, 'says': 11, 'blue': 11, 'above': 11, 'face': 11, 'side': 11, 'second': 10, 'verses': 10, 'until': 10, 'find': 10, 'light': 10, 'earth': 10, 'translation': 10, 'form': 10, 'started': 10, 'come': 10, 'place': 10, 'black': 10, 'everything': 10, 'silence': 10, 'moon': 10, 'translations': 9, 'different': 9, 'read': 9, 'rhythm': 9, 'least': 9, 'hand': 9, 'worse': 9, 'always': 9, 'born': 9, 'change': 9, 'coming': 9, 'keep': 9, 'left': 9, 'lost': 9, 'athanor': 9, 'tree': 9, 'waited': 9, 'beautiful': 9, 'window': 9, 'years': 8, 'amores': 8, 'looking': 8, 'point': 8, 'together': 8, 'thing': 8, 'problem': 8, 'grass': 8, 'need': 8, 'less': 8, 'think': 8, 'five': 8, 'same': 8, 'thoughts': 8, 'making': 8, 'mine': 8, 'glass': 8, 'someone': 8, 'feet': 8, 'grow': 8, 'tell': 8, 'once': 8, 'beloved': 8, 'quiet': 8, 'fire': 8, 'pillars': 8, 'egos': 7, 'beat': 7, 'style': 7, 'home': 7, 'help': 7, 'shore': 7, 'story': 7, 'presentation': 7, 'wrote': 7, 'reading': 7, 'hold': 7, 'four': 7, 'till': 7, 'sounds': 7, 'door': 7, 'nothing': 7, 'voice': 7, 'last': 7, 'rome': 7, 'ever': 7, 'truth': 7, 'alone': 7, 'deep': 7, 'white': 7, 'hear': 7, 'walk': 7, 'please': 7, 'gellu': 7, 'path': 7, 'personal': 7, 'small': 7, 'near': 7, 'memory': 7, 'hair': 7, 'wanted': 7, 'woman': 7, 'coach': 7, 'group': 6, 'conference': 6, 'english': 6, 'exile': 6, 'comes': 6, 'artist': 6, 'order': 6, 'written': 6, 'matter': 6, 'space': 6, 'sleep': 6, 'rest': 6, 'perfect': 6, 'latin': 6, 'hidden': 6, 'tongue': 6, 'taste': 6, 'begin': 6, 'knew': 6, 'finding': 6, 'stuck': 6, 'drowned': 6, 'beyond': 6, 'took': 6, 'drunk': 6, 'fine': 6, 'secret': 6, 'modern': 6, 'stones': 6, 'soon': 6, 'jacket': 6, 'round': 6, 'sense': 6, 'outside': 6, 'state': 6, 'used': 6, 'hands': 6, 'start': 6, 'waters': 6, 'goes': 6, 'feel': 6, 'inside': 6, 'bucharest': 6, 'across': 6, 'surrealist': 6, 'people': 6, '1968': 6, 'silent': 6, 'root': 6, 'iron': 6, 'everybody': 6, 'breasts': 6, 'wind': 6, 'trees': 6, 'illustrations': 5, 'discussion': 5, 'council': 5, 'artists': 5, 'telling': 5, 'romantic': 5, 'project': 5, 'despair': 5, 'mind': 5, 'rock': 5, 'past': 5, 'especially': 5, 'waiting': 5, 'next': 5, 'master': 5, 'become': 5, 'ashes': 5, 'worst': 5, 'against': 5, 'meaning': 5, 'theme': 5, 'metamorphoses': 5, 'marvellous': 5, 'constanta': 5, 'exiled': 5, 'asked': 5, 'based': 5, 'happy': 5, 'wait': 5, 'poems': 5, 'stone': 5, 'case': 5, 'vintage': 5, 'rhyme': 5, 'blood': 5, 'dream': 5, 'talking': 5, 'fourfour': 5, 'poor': 5, 'enough': 5, 'minor': 5, 'published': 5, 'london': 5, 'fact': 5, 'ocean': 5, 'sound': 5, 'painting': 5, 'derby': 5, 'stop': 5, 'language': 5, 'pass': 5, 'known': 5, 'thus': 5, 'alchemical': 5, 'memories': 5, 'little': 5, 'finger': 5, 'lips': 5, 'anyway': 5, 'green': 5, 'triangle': 5, 'tower': 5, 'loved': 5, 'girl': 5, 'myself': 5, 'partea': 5, 'cealaltă': 5, 'passed': 5, 'room': 5, 'bird': 5, 'shoulder': 5, 'distance': 5, 'girls': 5, 'rental': 5, 'foot': 5, 'looked': 5, 'lance': 5, 'toward': 5, 'mist': 5, 'fața': 5, 'malul': 5, 'albastru': 5, 'eutychia': 5, 'tangled': 5, 'zenobia': 5, 'page': 4, 'author': 4, 'beginning': 4, 'gallery': 4, 'because': 4, 'various': 4, 'drink': 4, 'debate': 4, 'thinking': 4, 'berry': 4, 'breath': 4, 'city': 4, 'middle': 4, 'unexpected': 4, 'expected': 4, 'somewhere': 4, 'drummer': 4, 'part': 4, 'couldn': 4, 'sure': 4, 'brought': 4, 'former': 4, 'breaking': 4, 'touch': 4, 'study': 4, 'subjects': 4, 'tortured': 4, 'wife': 4, 'greater': 4, 'translated': 4, 'book': 4, 'july': 4, 'died': 4, 'gets': 4, 'drinks': 4, 'stopped': 4, 'turned': 4, 'drunken': 4, 'lying': 4, 'himself': 4, 'becomes': 4, 'interest': 4, 'whispers': 4, 'somebody': 4, 'needed': 4, 'bought': 4, 'saying': 4, 'wrong': 4, 'agree': 4, 'front': 4, 'wake': 4, 'finds': 4, 'explanation': 4, 'using': 4, 'tired': 4, 'subject': 4, 'worthy': 4, 'following': 4, 'year': 4, 'garden': 4, 'reasons': 4, 'tomis': 4, 'days': 4, 'feeling': 4, 'helping': 4, 'sent': 4, 'seems': 4, 'clear': 4, 'clarity': 4, 'listening': 4, 'terrible': 4, 'lack': 4, 'stand': 4, 'bank': 4, 'understanding': 4, 'experience': 4, 'brain': 4, 'learn': 4, 'dark': 4, 'hide': 4, 'famous': 4, 'airport': 4, 'grown': 4, 'literature': 4, 'house': 4, 'spotted': 4, 'anyone': 4, 'brauner': 4, 'breton': 4, 'communist': 4, 'almost': 4, 'living': 4, 'comana': 4, 'being': 4, 'certain': 4, 'wells': 4, 'women': 4, 'ritual': 4, 'gestures': 4, 'motioned': 4, 'concept': 4, 'beneath': 4, 'towards': 4, 'snake': 4, 'describing': 4, 'higher': 4, '1980': 4, 'camera': 4, 'evening': 4, 'fingers': 4, 'table': 4, 'bones': 4, 'pleasant': 4, 'nobody': 4, 'enter': 4, 'horse': 4, 'cold': 4, 'spring': 4, 'rise': 4, 'flames': 4, 'suprafața': 4, 'urmat': 4, '1994': 4, 'leaves': 4, 'desperately': 4, 'fisherman': 4, 'margento': 3, 'prologue': 3, 'arts': 3, 'england': 3, 'british': 3, 'press': 3, 'association': 3, 'hundred': 3, 'writers': 3, 'dislocation': 3, 'voices': 3, 'single': 3, 'turns': 3, 'ends': 3, 'dislocations': 3, 'itself': 3, 'roll': 3, 'denver': 3, 'covered': 3, 'baby': 3, 'street': 3, 'dropped': 3, 'stage': 3, 'cover': 3, 'lead': 3, 'meant': 3, 'hope': 3, 'land': 3, 'seemed': 3, 'gone': 3, 'tore': 3, 'draw': 3, 'burnt': 3, 'twelve': 3, 'chance': 3, 'books': 3, 'ones': 3, 'kind': 3, 'remains': 3, 'unless': 3, 'funny': 3, 'high': 3, 'feelings': 3, 'tide': 3, 'applied': 3, 'dull': 3, 'suited': 3, 'playful': 3, 'sometimes': 3, 'fixed': 3, 'renaissance': 3, 'believes': 3, 'going': 3, 'bring': 3, 'musings': 3, 'bottle': 3, 'ideas': 3, 'week': 3, 'whole': 3, 'leave': 3, 'dangerous': 3, 'plot': 3, 'wants': 3, 'mirror': 3, 'heads': 3, 'friends': 3, 'company': 3, 'body': 3, 'strong': 3, 'major': 3, 'pale': 3, 'pattern': 3, 'question': 3, 'grew': 3, 'impossible': 3, 'knows': 3, 'talk': 3, 'kept': 3, 'wear': 3, 'older': 3, 'background': 3, 'heard': 3, 'common': 3, 'practised': 3, 'easy': 3, 'argument': 3, 'sweet': 3, 'errors': 3, 'heart': 3, 'subtle': 3, 'detail': 3, 'abroad': 3, 'return': 3, 'cheers': 3, 'enjoying': 3, 'mighty': 3, 'live': 3, 'lived': 3, 'troubled': 3, 'care': 3, 'becoming': 3, 'rose': 3, 'powers': 3, 'appendices': 3, 'quotes': 3, 'humour': 3, 'actors': 3, 'existed': 3, 'marks': 3, 'changed': 3, 'works': 3, 'happens': 3, 'places': 3, 'movement': 3, 'given': 3, 'grant': 3, 'despite': 3, 'celebration': 3, 'prose': 3, 'floating': 3, 'free': 3, 'true': 3, 'waits': 3, 'serious': 3, 'exist': 3, 'play': 3, 'takes': 3, 'believe': 3, 'peace': 3, 'behind': 3, 'trouble': 3, 'watched': 3, 'trying': 3, 'forgotten': 3, 'publishing': 3, 'pohems': 3, 'sacred': 3, 'prove': 3, 'romania': 3, 'speak': 3, 'plains': 3, 'friend': 3, 'paris': 3, 'victor': 3, 'philosophy': 3, 'latter': 3, 'followed': 3, 'regime': 3, 'moved': 3, 'literary': 3, '2001': 3, 'lygia': 3, 'uncollected': 3, 'animaltree': 3, 'instance': 3, 'symbol': 3, 'milk': 3, 'animal': 3, 'powerful': 3, 'traditional': 3, 'concepts': 3, 'real': 3, 'turning': 3, 'discovered': 3, 'roots': 3, 'shoes': 3, 'emptied': 3, 'greenish': 3, 'smelled': 3, 'willows': 3, 'profane': 3, 'maddening': 3, 'bridge': 3, 'surrealists': 3, 'clothes': 3, 'immaculate': 3, 'moment': 3, 'giant': 3, 'very': 3, 'wooden': 3, 'gesture': 3, 'themselves': 3, 'prophecies': 3, 'domesticated': 3, 'void': 3, 'fear': 3, 'descrierea': 3, 'turnului': 3, '1975': 3, 'river': 3, 'hovering': 3, 'lucrurile': 3, 'ceață': 3, 'yourself': 3, 'bread': 3, 'sleeps': 3, 'nowhere': 3, 'ludicrous': 3, 'name': 3, 'forgot': 3, 'drop': 3, 'winter': 3, 'frozen': 3, 'basement': 3, 'briefcase': 3, 'theater': 3, 'diva': 3, 'certitudes': 3, 'scarf': 3, 'edge': 3, 'withered': 3, 'motionless': 3, 'told': 3, 'wings': 3, 'warm': 3, 'holes': 3, 'grateful': 3, 'cried': 3, 'dust': 3, 'shooting': 3, 'stayed': 3, 'wore': 3, 'dead': 3, 'named': 3, 'shape': 3, 'wood': 3, 'leaning': 3, 'approaches': 3, 'mother': 3, 'agony': 3, 'field': 3, 'minute': 3, 'lady': 3, 'golden': 3, 'dusk': 3, 'rain': 3, 'shadows': 3, 'starts': 3, 'surface—followed': 3, 'anymore': 3, 'knees': 3, 'barking': 3, 'mouth': 3, 'boat': 3, 'sheep': 3, 'whiskers': 3, 'millions': 3, 'signs': 3, 'psychedelic': 3, 'colors': 3, 'colored': 3, 'shapes': 3, 'hears': 3, 'facing': 2, 'taner': 2, 'murat': 2, 'acknowledgements': 2, 'introduction': 2, 'notes': 2, 'rhythms': 2, 'list': 2, 'international': 2, '2018': 2, 'anticus': 2, 'multicultural': 2, 'tales': 2, 'hello': 2, 'artistic': 2, 'level': 2, 'complete': 2, 'positions': 2, 'edition': 2, 'original': 2, 'relentless': 2, 'insistent': 2, 'chuck': 2, 'nadine': 2, 'lyric': 2, 'bride': 2, 'walking': 2, 'roughly': 2, 'performed': 2, 'originally': 2, 'guitar': 2, 'solo': 2, 'johnny': 2, 'goode': 2, 'staid': 2, 'analogy': 2, 'added': 2, 'dramatic': 2, 'prefer': 2, 'crack': 2, 'importance': 2, 'established': 2, 'drumming': 2, 'dreadful': 2, 'rhymes': 2, 'helped': 2, 'recent': 2, 'slept': 2, 'distress': 2, 'threw': 2, 'rubbish': 2, 'deleted': 2, 'hearing': 2, 'daily': 2, 'food': 2, 'usual': 2, 'manuscript': 2, 'beauty': 2, 'plus': 2, 'nicely': 2, 'type': 2, 'smacking': 2, 'irrelevant': 2, 'human': 2, 'waves': 2, 'traditions': 2, 'built': 2, 'wild': 2, 'tied': 2, 'leashed': 2, 'freedom': 2, 'chosen': 2, 'favourite': 2, 'inspiring': 2, 'link': 2, 'shakespeare': 2, 'inspired': 2, 'translating': 2, 'differences': 2, 'opportunity': 2, 'unformed': 2, 'hardly': 2, 'writes': 2, 'thinks': 2, 'swept': 2, 'cause': 2, 'asleep': 2, 'ease': 2, 'pain': 2, 'draft': 2, 'fifty': 2, 'fast': 2, 'deadline': 2, 'needing': 2, 'whatever': 2, 'arrives': 2, 'wakes': 2, 'mess': 2, 'paint': 2, 'canvas': 2, 'repetition': 2, 'intrigue': 2, 'worlds': 2, 'thickest': 2, 'walls': 2, 'disguise': 2, 'power': 2, 'casting': 2, 'hiding': 2, 'whose': 2, 'stronger': 2, 'curious': 2, 'curiouser': 2, 'rich': 2, 'conducive': 2, 'piss': 2, 'begins': 2, 'overarching': 2, 'wanting': 2, 'fools': 2, 'response': 2, 'beats': 2, 'sight': 2, 'idea': 2, 'answers': 2, 'taking': 2, 'stress': 2, 'foil': 2, 'difference': 2, 'blues': 2, 'lines—': 2, 'ignored': 2, 'gave': 2, 'hard': 2, 'remembered': 2, 'split': 2, 'bored': 2, 'quickly': 2, 'impressed': 2, 'receipt': 2, 'tunes': 2, 'types': 2, 'fitted': 2, 'discarding': 2, 'imposed': 2, 'mean': 2, 'poetic': 2, 'speech': 2, 'whence': 2, 'final': 2, 'yours': 2, 'listen': 2, 'metre': 2, 'praise': 2, 'marriage': 2, 'imagination': 2, 'gathered': 2, 'shared': 2, 'collection': 2, 'lives': 2, 'painter': 2, 'scene': 2, 'talent': 2, 'reader': 2, 'whether': 2, 'waking': 2, 'taken': 2, 'kitchen': 2, 'bowl': 2, 'curtain': 2, 'returning': 2, 'dear': 2, 'lies': 2, 'empty': 2, 'watching': 2, 'playing': 2, 'team': 2, '2000': 2, 'arrived': 2, 'unnamed': 2, 'seen': 2, 'adolescent': 2, 'risk': 2, 'xxiii': 2, 'elizabethan': 2, 'call': 2, 'mostly': 2, 'xxiv': 2, 'conviction': 2, 'protestant': 2, 'school': 2, 'cambridge': 2, 'favour': 2, 'swimming': 2, 'beaten': 2, 'covent': 2, 'unclear': 2, 'involved': 2, 'deptford': 2, 'xxvi': 2, 'dies': 2, 'threat': 2, 'xxvii': 2, 'church': 2, 'university': 2, 'historians': 2, 'xxviii': 2, 'xxix': 2, 'climax': 2, 'verse—': 2, 'lecture': 2, 'thin': 2, 'lover': 2, 'depth': 2, 'swim': 2, 'glistening': 2, 'dawning': 2, 'morning': 2, 'depths': 2, 'occasionally': 2, 'kick': 2, 'banished': 2, 'colour': 2, 'dawn': 2, 'minutes': 2, 'eternity': 2, 'cigarette': 2, 'terms': 2, 'seem': 2, 'complex': 2, 'frith': 2, 'shoulders': 2, 'characters': 2, 'described': 2, 'couple': 2, 'figure': 2, 'thousand': 2, 'wall': 2, 'doubt': 2, 'fury': 2, 'epic': 2, 'happen': 2, 'ours': 2, 'nature': 2, 'inbetween': 2, 'occasional': 2, 'points': 2, 'credit': 2, 'online': 2, 'application': 2, 'endless': 2, 'killed': 2, 'names': 2, 'history': 2, 'account': 2, 'spend': 2, 'cross': 2, 'knowledge': 2, 'hall': 2, 'slim': 2, 'damned': 2, 'ears': 2, 'quality': 2, 'compared': 2, 'arrogant': 2, 'party': 2, 'celebrate': 2, 'silly': 2, 'instead': 2, 'friendship': 2, 'want': 2, 'confound': 2, 'expectations': 2, 'throw': 2, 'looks': 2, 'hanging': 2, 'suits': 2, 'ready': 2, 'helps': 2, 'forms': 2, 'peoples': 2, 'sides': 2, 'bearing': 2, 'tiny': 2, 'taxi': 2, 'smiling': 2, 'generations': 2, 'readers': 2, 'unique': 2, 'aims': 2, 'collected': 2, 'neolithic': 2, 'during': 2, 'walks': 2, 'incredible': 2, 'open': 2, 'sage': 2, 'reluctant': 2, 'personality': 2, 'larger': 2, 'political': 2, 'underground': 2, 'andré': 2, 'tragic': 2, 'alchemy': 2, 'eastern': 2, 'murderous': 2, 'period': 2, 'fresh': 2, 'gherasim': 2, 'luca': 2, 'teodorescu': 2, 'declare': 2, 'center': 2, 'joined': 2, 'follow': 2, 'capital': 2, 'village': 2, 'chose': 2, 'meet': 2, 'spiritual': 2, 'september': 2, 'continuing': 2, 'passing': 2, 'term': 2, 'critics': 2, 'vigorous': 2, 'confession': 2, 'oneofakind': 2, 'popular': 2, 'culture': 2, 'western': 2, 'translators': 2, 'editors': 2, 'edited': 2, 'letters': 2, 'appears': 2, 'prognostications': 2, 'eagle': 2, 'deeply': 2, 'values': 2, 'symbols': 2, 'accomplishes': 2, 'psyche': 2, 'biography': 2, 'experienced': 2, 'afternoon': 2, 'idol': 2, 'simple': 2, 'amazing': 2, 'buffalo': 2, 'gnawing': 2, 'slabs': 2, 'familiar': 2, 'ditches': 2, 'everyday': 2, 'roar': 2, 'whereas': 2, 'genuine': 2, 'tram': 2, 'rumbled': 2, 'vegetation': 2, 'hopeless': 2, 'fetus': 2, 'processes': 2, 'theory': 2, 'gives': 2, 'arrival': 2, 'customs': 2, 'officers': 2, 'ambushed': 2, 'bleed': 2, 'suitcases': 2, 'brand': 2, 'departures': 2, 'spectacular': 2, 'arrivals': 2, 'store': 2, 'ceiling': 2, 'sciences': 2, 'roared': 2, 'breast': 2, 'careful': 2, 'tilt': 2, 'skull': 2, 'grenades': 2, 'south': 2, 'strongly': 2, 'american': 2, 'pair': 2, 'young': 2, 'coins': 2, 'african': 2, 'french': 2, 'photos': 2, 'pipes': 2, 'capacities': 2, 'genuinely': 2, 'whoever': 2, 'magic': 2, 'grand': 2, 'vegetal': 2, 'worms': 2, 'shade': 2, 'tomato': 2, 'locks': 2, 'lime': 2, 'birds': 2, 'held': 2, 'triunghiul': 2, 'domesticit': 2, 'throwing': 2, 'dreams': 2, 'buried': 2, 'sand': 2, 'humanity': 2, 'bark': 2, 'escape': 2, 'birthing': 2, 'lasted': 2, 'glistened': 2, 'butterfly': 2, 'blind': 2, 'sadness': 2, 'marrow': 2, 'spine': 2, 'sing': 2, 'generally': 2, 'migrations': 2, 'labyrinths': 2, 'nostalgia': 2, 'speaking': 2, 'urbanrural': 2, 'pool': 2, 'watches': 2, 'heat': 2, 'canopy': 2, 'yellow': 2, 'rough': 2, 'surfaces': 2, 'leaf': 2, 'sentiments': 2, 'wrapped': 2, 'amidst': 2, 'eaten': 2, 'forehead': 2, 'echoes': 2, 'coat': 2, 'returned': 2, 'cloth': 2, 'babies': 2, 'mothers': 2, 'technical': 2, 'hour': 2, 'advice': 2, 'intentions': 2, 'opposed': 2, 'ambiance': 2, 'forest': 2, 'limelight': 2, 'dress': 2, 'giving': 2, 'advise': 2, 'rentally': 2, 'lock': 2, 'muddled': 2, 'pure': 2, 'rifle': 2, 'galloping': 2, 'sands': 2, 'walked': 2, 'clay': 2, 'close': 2, 'heavy': 2, 'express': 2, 'ourselves': 2, 'address': 2, 'dying': 2, 'placed': 2, 'sees': 2, 'swine': 2, 'contradictory': 2, 'wept': 2, 'capătul': 2, 'numerelor': 2, 'numbers': 2, 'ascetic': 2, 'lions': 2, 'person': 2, 'blanket': 2, 'calea': 2, 'remember': 2, 'tables': 2, 'bearer': 2, 'referees': 2, 'force': 2, 'played': 2, 'wearing': 2, 'foreheads': 2, 'worn': 2, 'approached': 2, 'marble': 2, 'farther': 2, 'fell': 2, 'indefinite': 2, 'suspiciously': 2, 'ashy': 2, 'holding': 2, 'poeme': 2, 'alese': 2, 'selected': 2, 'inedite': 2, 'centaur': 2, 'raping': 2, 'burning': 2, 'silently': 2, 'infinity': 2, 'conjunction': 2, 'trip': 2, 'lunar': 2, 'brother': 2, 'planet': 2, 'noise': 2, 'kinds': 2, 'skin': 2, 'happened': 2, 'magnificent': 2, 'respect': 2, 'stairway': 2, 'cypress': 2, 'vultures': 2, 'riverbank': 2, 'clouds': 2, 'chair': 2, 'melancholy': 2, 'pressed': 2, 'coffin': 2, 'unseen': 2, 'slowly': 2, 'nice': 2, 'fall': 2, 'moonlight': 2, 'nails': 2, 'chill': 2, 'grandfather': 2, 'longer': 2, 'nostalgic': 2, 'called': 2, 'sleeping': 2, 'child': 2, 'witness': 2, 'desperate': 2, 'seeds': 2, 'ants': 2, 'ablaze': 2, 'species': 2, 'watch': 2, 'insect': 2, 'triangular': 2, 'insectpoet': 2, 'bluegreen': 2, 'struck': 2, 'forward': 2, 'fruit': 2, 'feathers': 2, 'obscure': 2, 'roosters': 2, 'panthers': 2, 'swarm': 2, 'burn': 2, 'solitude': 2, 'sort': 2, 'vision': 2, 'collapse': 2, 'explorers': 2, 'dirty': 2, 'fish': 2, 'paradise': 2, 'neck': 2, 'vain': 2, 'flower': 2, 'drain': 2, 'pyramid': 2, 'sarcophagus': 2, 'sphinx': 2, 'velvet': 2, 'islands': 2, 'falling': 2, 'thrumming': 2, 'spinning': 2, 'wheels': 2, 'blinded': 2, 'prahova': 2, 'county': 2, 'flowers': 2, 'candies': 2, 'chew': 2, 'steve': 1, 'rushton': 1, 'contents': 1, 'aidf': 1, 'development': 1, 'fund': 1, 'timpul': 1, 'lorrain': 1, 'baggaley': 1, 'isle': 1, 'wight': 1, 'stanza': 1, 'goodbye': 1, 'resonance': 1, 'erbaccepress': 1, 'narrator': 1, 'block': 1, 'finishes': 1, 'project—a': 1, 'explores': 1, 'christopher': 1, 'john': 1, 'clues': 1, 'explain': 1, 'ostracization': 1, 'crisis': 1, 'unable': 1, 'sensibility': 1, 'envisaged': 1, 'practice': 1, 'centres': 1, 'authentic': 1, 'unhumorous': 1, 'voice—his': 1, 'dries': 1, 'rescue—an': 1, 'willing': 1, 'piece': 1, 'piecing': 1, 'collaging': 1, 'aesthetic': 1, 'considering': 1, 'preface': 1, '2020': 1, 'fourbeat': 1, 'presented': 1, 'logistical': 1, 'problems': 1, 'controls': 1, 'recite': 1, 'perform': 1, 'lyrics': 1, 'seeger': 1, 'eddie': 1, 'rods': 1, 'commie': 1, 'member': 1, 'sevenbeat': 1, 'catching': 1, 'vacant': 1, 'seat': 1, 'future': 1, 'except': 1, 'twelveline': 1, 'stanza—certainly': 1, 'vocalist': 1, 'reciter': 1, 'anything': 1, 'cracking': 1, 'pace': 1, 'intended': 1, 'solution': 1, 'found—and': 1, 'experimental': 1, 'counterculture': 1, 'centre': 1, 'fifteenminute': 1, 'frenetic': 1, 'threeminute': 1, 'bash': 1, 'replete': 1, 'horn': 1, 'section': 1, 'multiple': 1, 'guitars': 1, 'delightfully': 1, 'instruments': 1, 'chipping': 1, 'solos': 1, 'interspersed': 1, 'equivalents': 1, 'ageless': 1, 'infinitely': 1, 'variable': 1, 'territory': 1, 'alvin': 1, 'goin': 1, 'drum': 1, 'santana': 1, 'woodstock': 1, 'hendrix': 1, 'ravel': 1, 'bolero': 1, 'finale': 1, 'personally': 1, 'stay': 1, 'sixties': 1, 'stoned': 1, 'beer': 1, 'band': 1, 'constructs': 1, 'apart': 1, 'hierarchies': 1, 'reason': 1, 'plain': 1, 'noone': 1, 'unstuck': 1, 'working': 1, 'halfbaked': 1, 'woke': 1, 'argued': 1, 'contented': 1, 'finished': 1, 'documents': 1, 'modified': 1, 'switched': 1, 'password': 1, 'career': 1, 'tatters': 1, 'despondent': 1, 'comfort—': 1, 'heartaches': 1, 'salvaged': 1, 'it—say': 1, 'grate': 1, 'thrown': 1, 'household': 1, 'waste': 1, 'detritus': 1, 'lives—': 1, 'desserts': 1, 'deserted': 1, 'overrated': 1, 'sell': 1, 'dated': 1, 'outdated': 1, 'rearranged': 1, 'shorter': 1, 'stanzas': 1, 'disposing': 1, 'torn': 1, 'tattered': 1, 'sections': 1, 'intact': 1, 'missing': 1, 'luckily': 1, 'ripped': 1, 'garbage': 1, 'omission': 1, 'done—': 1, 'cunning': 1, 'fruition': 1, 'fragmented': 1, 'cities': 1, 'colosseum': 1, 'glory': 1, 'ephesus': 1, 'rebuilt': 1, 'forum': 1, 'magisterial': 1, 'splendour': 1, 'fountains': 1, 'abbey': 1, 'vesuvius': 1, 'pompeii': 1, 'heyday—ruins': 1, 'tend': 1, 'picturesque': 1, 'title—': 1, 'dislocations—not': 1, 'disruptions': 1, 'bone': 1, 'joint': 1, 'interruptions': 1, 'crystal': 1, 'structure—all': 1, 'related': 1, 'etymology': 1, 'present': 1, 'mixed': 1, 'locus': 1, 'prefix': 1, 'snappy': 1, 'academe': 1, 'balance': 1, 'reverence': 1, 'irreverence': 1, 'intoxication': 1, 'exploration': 1, 'mixing': 1, 'roundabout': 1, 'surely': 1, 'blunt': 1, 'relevance': 1, 'affective': 1, 'route': 1, 'uniting': 1, 'beings': 1, 'extended': 1, 'froth': 1, 'shallows': 1, 'spray': 1, 'crash': 1, 'reveal': 1, 'barrier': 1, 'unrelenting': 1, 'opposition': 1, 'theme—': 1, 'transcription': 1, 'study—': 1, 'copies': 1, 'offspring': 1, 'siblings': 1, 'versions': 1, 'project—': 1, 'painful': 1, 'wrought': 1, 'cheek': 1, 'fluctuating': 1, 'laps': 1, 'undulating': 1, 'hopes': 1, 'madness': 1, 'untamed': 1, 'unwilling': 1, 'kowtow': 1, 'gatekeeper': 1, 'conservation': 1, 'caged': 1, 'captured': 1, 'ordered': 1, 'rebirth—': 1, 'time—leonardo': 1, 'botticelli': 1, 'michelangelo': 1, 'laocoön': 1, 'sculpture': 1, 'writhing': 1, 'snakes': 1, 'father': 1, 'influenced': 1, 'titian': 1, 'renaissance—': 1, 'greatest': 1, 'others—': 1, 'william': 1, 'studied': 1, 'attempted—': 1, 'worked': 1, 'similar': 1, 'citing': 1, 'exposed': 1, 'undiscovered': 1, 'invited': 1, 'bold': 1, 'knowing': 1, 'drank': 1, 'patient': 1, 'caring': 1, 'complements': 1, 'sober': 1, 'listens': 1, 'ramblings': 1, 'brushed': 1, 'times—': 1, 'away—he': 1, 'struggles': 1, 'rambling': 1, 'infinitum': 1, 'bores': 1, 'witless': 1, 'sorrows': 1, 'unhappy': 1, 'state—': 1, 'eight': 1, 'edit': 1, 'refrains': 1, 'way—to': 1, 'weeks—you': 1, 'clock': 1, 'ticking': 1, 'looms': 1, 'edits': 1, 'makes': 1, 'further': 1, 'anguished': 1, 'states': 1, 'complicates': 1, 'drudge': 1, 'splash': 1, 'flight': 1, 'fancy': 1, 'sorry': 1, 'muggers—': 1, 'drummers': 1, 'audience': 1, 'lovers—': 1, 'fond': 1, 'awkward': 1, 'restlessness': 1, 'exploring': 1, 'covers': 1, 'fumblings': 1, 'pleasures': 1, 'glass—': 1, 'muffling': 1, 'groans': 1, 'halls': 1, 'function': 1, 'well—': 1, 'transparent—surely': 1, 'traps': 1, 'husband': 1, 'bites': 1, 'discouraging': 1, 'cast': 1, 'others—louder': 1, 'shouts': 1, 'goals': 1, 'lottery': 1, 'tickets': 1, 'thick': 1, 'honour': 1, 'enjoy': 1, 'cooked': 1, 'meal': 1, 'sauce': 1, 'pasta': 1, 'repast': 1, 'served': 1, 'piped': 1, 'divine': 1, 'throats': 1, 'palate': 1, 'fusty': 1, 'hosts': 1, 'delicacy': 1, 'sharp': 1, 'resonates': 1, 'quantity': 1, 'slams': 1, 'amiss': 1, 'misadventure': 1, 'tragedies': 1, 'minor—': 1, 'ambuscade': 1, 'espionage': 1, 'warriors': 1, 'consumption—': 1, 'indented': 1, 'alternate': 1, 'regular': 1, 'scattered': 1, 'seducing': 1, 'symmetry': 1, 'inducing': 1, 'torpor': 1, 'coupled': 1, 'limping': 1, 'pose': 1, 'riposte': 1, 'fivebeat': 1, 'withstood': 1, 'grace': 1, 'centuries': 1, 'music': 1, 'elvis': 1, 'presley': 1, 'diddley': 1, 'drumsticks': 1, 'transport': 1, 'thing—without': 1, 'setting': 1, 'drums': 1, 'easier': 1, 'ignoring': 1, 'jibes': 1, 'musicians': 1, 'laughing': 1, 'cleft': 1, 'converse': 1, 'argue': 1, 'joke': 1, 'funnily': 1, 'leather': 1, 'abhorrent': 1, 'appalling': 1, 'wanting—': 1, 'riffs': 1, 'kills': 1, 'jackets': 1, 'tight': 1, 'spreading': 1, 'middleaged': 1, 'regression': 1, 'pastiche': 1, 'patterns': 1, 'weaker': 1, 'frame': 1, 'tended': 1, 'randomly': 1, 'enclose': 1, 'unlike': 1, 'before—': 1, 'wanders': 1, 'arcane': 1, 'bore': 1, 'carry': 1, 'persevere': 1, 'endeavour': 1, 'injecting': 1, 'constrict': 1, 'length': 1, 'predetermined': 1, 'cassandra': 1, 'attention': 1, 'judgment': 1, 'wasting': 1, 'rushed': 1, 'amendments': 1, 'encouragement': 1, 'spent': 1, 'support—': 1, 'phrasing': 1, 'skill': 1, 'sifting': 1, 'mistakes': 1, 'folly': 1, 'building': 1, 'designs': 1, 'hubris': 1, 'curse': 1, 'thrust': 1, 'finest': 1, 'minds—': 1, 'mincemeat': 1, 'overlooked—': 1, 'latest': 1, 'anticipating': 1, 'gaffes': 1, 'consideration': 1, 'together—': 1, 'saucy': 1, 'bawdy': 1, 'brazen': 1, 'compare': 1, 'information': 1, 'recently': 1, 'expounded': 1, 'briefly': 1, 'sadly': 1, 'largely': 1, 'shunned': 1, 'fame': 1, 'younger': 1, 'healthier': 1, '1980s': 1, 'london—seems': 1, 'deterred': 1, 'keys—the': 1, 'chopin': 1, 'canon': 1, 'trains': 1, 'convenient': 1, 'juncture': 1, 'wondering': 1, 'really': 1, 'strangled': 1, 'disposed': 1, 'knife': 1, 'toilet': 1, 'shower': 1, 'messy': 1, 'yonder': 1, 'sofa': 1, 'stupor—see': 1, 'definitely': 1, 'certainly': 1, 'chore': 1, 'liverpool': 1, 'football—': 1, 'position': 1, 'expertise': 1, 'anew': 1, 'view—from': 1, 'transcriptions': 1, 'attracted': 1, 'egoism': 1, 'transgression': 1, 'woes': 1, 'jove': 1, 'send': 1, 'afternoons': 1, 'versed': 1, 'ovidian': 1, 'couplets': 1, 'developing': 1, 'epigrammatical': 1, 'dangers': 1, 'aware': 1, 'suggested': 1, 'recognised': 1, 'blame': 1, 'expressed': 1, 'shock—': 1, 'gifted': 1, 'exceeded': 1, 'rules': 1, 'mistreated': 1, 'marloweovid—adolescents': 1, 'translatingwriting': 1, 'revolutioninterregnum': 1, 'regicide': 1, 'plague': 1, 'emerged': 1, 'humble': 1, 'opinion': 1, 'taught': 1, 'prominent': 1, 'catholics': 1, 'government': 1, 'king': 1, 'returns': 1, 'turncoat': 1, 'effusive': 1, 'panegyrics': 1, 'catholic': 1, 'solace': 1, 'badly': 1, 'alley': 1, 'remain': 1, 'match—': 1, 'complement': 1, 'violent': 1, 'courts': 1, 'record': 1, 'murder': 1, 'drama': 1, 'affray': 1, 'what—a': 1, 'reckoning': 1, 'london—marlowe': 1, 'tomis—ovid': 1, 'garden—dryden': 1, 'attacked': 1, 'urbane': 1, 'proximate': 1, 'unites': 1, 'worlds—augustan': 1, 'elizabethanrestoration': 1, 'amores—poems': 1, 'service': 1, 'battles': 1, 'lately': 1, 'separated': 1, 'papal': 1, 'authority': 1, 'peril': 1, 'illicit': 1, 'affairs': 1, 'trysts': 1, 'frustrations': 1, 'deceit': 1, 'impotence': 1, 'sins': 1, 'vicarious': 1, 'excitement': 1, 'adventures': 1, 'danger': 1, 'desire': 1, 'density': 1, 'relied': 1, '—protagonists': 1, 'opinion—mere': 1, 'fluidity': 1, 'fragmentation': 1, 'sincerity': 1, 'restoration': 1, 'awaiting': 1, 'greatness': 1, 'marlowe—edward': 1, 'faustus': 1, 'come—his': 1, 'logically': 1, 'concentrate': 1, 'checking': 1, 'revealed': 1, 'elegies': 1, 'touched': 1, 'college': 1, 'dreaming': 1, 'completing': 1, 'completion': 1, 'dissecting': 1, 'textual': 1, 'minutiae': 1, 'triple': 1, 'tamburlaine': 1, 'lacks': 1, 'ending': 1, 'shallow': 1, 'seas': 1, 'shifting': 1, 'moods': 1, 'lots': 1, 'plumbed': 1, 'dislike': 1, 'drown': 1, 'bottom': 1, 'interested': 1, 'meagre': 1, 'scribblings—': 1, 'carefully': 1, '219': 1, 'thing—the': 1, 'sunburst': 1, 'italy—': 1, 'turner': 1, 'vivid': 1, 'bright': 1, 'smaller': 1, 'fumbling': 1, 'light—': 1, 'rhyming': 1, 'cruel': 1, 'eclipsing': 1, 'denying—': 1, 'majesty': 1, 'twenty': 1, 'cups': 1, 'bloody': 1, 'consequence': 1, 'tethered': 1, 'string': 1, 'jokes': 1, 'either—': 1, 'halves': 1, 'cleverly': 1, 'nuance': 1, 'clarify': 1, 'deliberate': 1, 'foremost': 1, 'confusion': 1, 'obfuscation': 1, 'breathe': 1, 'splashes': 1, 'canvases': 1, 'mark': 1, 'relation': 1, 'nuanced': 1, 'view': 1, 'picture': 1, 'hover': 1, 'created': 1, 'viewing': 1, 'actor': 1, 'warmer': 1, 'bigger': 1, 'everywhere': 1, 'phrases': 1, 'somewhat': 1, 'vague': 1, 'maligned': 1, 'genre': 1, 'oils': 1, 'victorian': 1, 'crowded': 1, 'epsom': 1, 'racecourse': 1, 'classes': 1, 'rubbing': 1, 'character': 1, 'creating': 1, 'stories': 1, 'impressionist': 1, 'later—': 1, 'example—degas': 1, 'dancers': 1, 'graceful': 1, 'figures': 1, 'one—': 1, 'sketch': 1, 'degas': 1, 'intimation': 1, 'outline': 1, 'day—so': 1, 'many—even': 1, 'lord': 1, 'rochester': 1, 'mentioned': 1, 'incontinence': 1, 'examples': 1, 'equal': 1, 'zero': 1, 'festering': 1, 'arranged': 1, 'subjugated': 1, 'flat': 1, 'effort': 1, 'signifying—this': 1, 'emboldened': 1, 'example': 1, 'replaced': 1, 'satire': 1, 'elegy': 1, 'modern—mourning': 1, 'couplet': 1, 'finish': 1, 'dispute': 1, 'envisage': 1, 'dialogue': 1, 'stifling': 1, 'wringing': 1, 'words—': 1, 'plaintive': 1, 'morbid': 1, 'centred': 1, 'thee': 1, 'wine—': 1, 'reflect': 1, 'deserves': 1, 'important': 1, 'overlooked': 1, 'checked': 1, 'emails—there': 1, 'approved': 1, 'horror': 1, 'outlined': 1, 'focusing': 1, 'artistswriters': 1, 'selfimposed': 1, 'zola': 1, 'courbet': 1, 'gauguin': 1, 'schwitters': 1, 'grosz': 1, 'hatoum': 1, 'abramovic': 1, 'ambition': 1, 'curiosity': 1, 'successful': 1, 'names—': 1, 'teaching': 1, 'students': 1, 'stipulated': 1, 'complaining': 1, 'studies': 1, 'onoffline': 1, 'terrifying': 1, 'references': 1, 'pasted': 1, 'amazon': 1, 'searched': 1, 'basketed': 1, 'library': 1, 'assist—': 1, 'swotting': 1, 'totally': 1, 'knackered': 1, 'process': 1, 'partly': 1, 'inspiration': 1, 'burrow': 1, 'primary': 1, 'sources': 1, 'feeding': 1, 'current': 1, 'theories': 1, 'translate': 1, 'scan': 1, 'researched': 1, 'linguistically': 1, 'hard—': 1, 'knowledge—that': 1, 'crushes': 1, 'options': 1, 'bypassing': 1, 'gods': 1, 'spirit': 1, 'roman': 1, 'teasing': 1, 'damning': 1, 'moral': 1, 'tones': 1, 'divergent': 1, 'life—': 1, 'negotiations': 1, 'spaces': 1, 'said—': 1, 'art': 1, 'bluster': 1, 'penned': 1, 'applause': 1, 'duplication—true': 1, 'publish': 1, 'share': 1, 'somehow': 1, 'admit': 1, 'xxxi': 1, 'facets': 1, 'rightly': 1, 'matters': 1, 'urgent': 1, 'nature—': 1, 'subjectivity': 1, 'objective': 1, 'contrary': 1, 'have—': 1, 'flagellate': 1, 'xxxii': 1, 'underestimate': 1, 'worth': 1, 'subjective': 1, 'subsequently': 1, 'speculation': 1, 'ostracizes': 1, 'flawed': 1, 'approach': 1, 'energizing': 1, 'xxxiii': 1, 'obnoxious': 1, 'incompetent': 1, 'two—and': 1, 'admitting': 1, 'right—': 1, 'democracy': 1, 'heaven': 1, 'xxxiv': 1, 'resolve': 1, 'solved': 1, 'square': 1, 'hopefulness': 1, 'exists': 1, 'tension': 1, 'xxxv': 1, 'detached': 1, 'debated': 1, 'contact': 1, 'acknowledgement': 1, 'improve': 1, 'limits': 1, 'selfindulgence': 1, 'plays': 1, 'optimism': 1, 'infectious': 1, 'disease': 1, 'xxxvi': 1, 'wine—he': 1, 'anteroom': 1, 'around—': 1, 'bottles—drinks': 1, 'shelf': 1, 'peanuts': 1, 'skip': 1, 'xxxvii': 1, 'dabbler': 1, 'studio': 1, 'beware': 1, 'me—we': 1, 'caution': 1, 'worry': 1, 'delight': 1, 'righting': 1, 'xxxviii': 1, 'fits': 1, 'hates': 1, 'lysistrata': 1, 'strike': 1, 'deign': 1, 'wardrobe': 1, 'suitable': 1, 'lines—enticing': 1, 'rhyme—they': 1, 'suit': 1, 'occasion—when': 1, 'xxxix': 1, 'conclusion': 1, 'flexible': 1, 'him—': 1, 'come—': 1, 'did—': 1, 'rewriting': 1, 'distress—': 1, 'achieve': 1, 'goal—': 1, 'planned': 1, 'transformations': 1, 'dis': 1, 'locations': 1, 'goings': 1, 'opinion—': 1, 'bodies': 1, 'chang': 1, 'sang': 1, 'xlii': 1, 'funded': 1, 'including—a': 1, 'organized': 1, 'integration': 1, 'dobruja—': 1, 'cultures': 1, 'landed': 1, 'heritage': 1, 'xliii': 1, 'acts': 1, 'protagonists': 1, 'display': 1, 'tragicomic': 1, 'tendencies': 1, 'monologues': 1, 'dialogues': 1, 'complications': 1, 'indecisions': 1, 'disagreements': 1, 'finally': 1, 'resolution—': 1, 'pairs': 1, 'wedded': 1, 'marlowedryden': 1, 'bedded': 1, 'players': 1, 'artistpoet': 1, 'xliv': 1, 'ship': 1, 'wizz': 1, 'flight—': 1, 'luton': 1, 'tourists': 1, 'dread': 1, 'delays': 1, 'runways': 1, 'seats': 1, 'minimal': 1, 'legroom': 1, 'turbulence': 1, 'transforms': 1, 'runway': 1, 'hotel': 1, 'drink—': 1, 'partaken': 1, 'this—': 1, 'reply': 1, 'assured': 1, 'saved': 1, 'developed': 1, 'parental': 1, 'independent': 1, 'website—': 1, 'average': 1, 'website': 1, 'contemporary': 1, 'uni': 1, 'versity': 1, 'martin': 1, 'woodside': 1, 'introduction—': 1, '20th': 1, 'century': 1, 'syllable': 1, 'abides': 1, 'appealing': 1, 'search': 1, 'selection—intended': 1, 'series': 1, 'works—is': 1, 'readership': 1, 'abundant': 1, 'north': 1, 'america': 1, 'europe': 1, 'attracts': 1, 'aspiring': 1, 'undervoice': 1, 'performance': 1, 'improvising': 1, 'conversation': 1, 'suddenly': 1, 'starting': 1, 'collector': 1, 'statuettes': 1, 'amulets': 1, 'selfeffacing': 1, 'psychic': 1, 'solitary': 1, 'southern': 1, 'absentminded': 1, 'raise': 1, 'oracular': 1, 'striking': 1, 'innermost': 1, 'concerns': 1, 'host': 1, 'everyone': 1, 'hermit': 1, 'selfironical': 1, 'magnetic': 1, 'laconic': 1, 'lifetime': 1, 'lygia—naum': 1, 'consequently': 1, 'loom': 1, 'spite': 1, 'climate': 1, 'censorship': 1, 'surrounding': 1, '1915': 1, 'collections': 1, 'mid1930s': 1, 'antifascist': 1, 'accepted': 1, 'scholarship': 1, 'sorbonne': 1, 'reunited': 1, 'sculptor': 1, 'introduced': 1, 'circles': 1, 'including': 1, 'number': 1, 'exciting': 1, 'projects—such': 1, 'essay': 1, 'demonism': 1, 'objects': 1, 'magazine': 1, 'minotaure': 1, 'doctoral': 1, 'research': 1, 'abélard': 1, 'romance': 1, 'héloïse': 1, 'pursuit': 1, 'rare': 1, 'outbreak': 1, 'drafted': 1, 'famine': 1, 'enforced': 1, 'soviet': 1, 'occupation': 1, 'enduring': 1, 'imprint': 1, '4year': 1, 'onset': 1, 'takeover': 1, 'reemerged': 1, 'energy': 1, 'gusto': 1, 'impressive': 1, 'amount': 1, 'collaborative': 1, 'work—poetry': 1, 'manifestos—': 1, 'notably': 1, 'virgil': 1, 'activity': 1, 'sarane': 1, 'alexandrian': 1, 'stated': 1, 'surréalisme': 1, 'rêve': 1, 'exuberant': 1, 'adventurous': 1, 'delirious': 1, 'merciless': 1, 'central': 1, 'immigrated': 1, 'israel': 1, 'became': 1, 'elite': 1, 'jewish': 1, 'academic': 1, 'governmental': 1, 'result': 1, 'nearly': 1, 'none': 1, 'editing': 1, 'shifted': 1, 'residence': 1, 'early': 1, 'visiting': 1, 'feedback': 1, 'guidance': 1, 'pilgrimages': 1, 'onebedroom': 1, 'apartment': 1, 'winters': 1, 'toll': 1, '2005': 1, 'title': 1, 'alchemist': 1, 'cauldron': 1, 'hailed': 1, 'groundbreaking': 1, 'thrilled': 1, 'legendary': 1, 'refined': 1, 'enriched': 1, 'humor': 1, 'fusion': 1, 'realism': 1, 'oneiric': 1, 'mysticism': 1, 'widely': 1, 'praised': 1, 'distinctly': 1, 'version': 1, 'surrealism': 1, 'comeback': 1, 'reinforced': 1, 'received': 1, 'resulted': 1, 'likely': 1, 'phenomenon': 1, 'club': 1, 'nominated': 1, 'nobel': 1, 'prize': 1, 'pendulum': 1, 'swing': 1, 'tireless': 1, 'literati': 1, 'championed': 1, 'simona': 1, 'popescu': 1, 'visionary': 1, 'manuscripts': 1, 'resurgence': 1, 'contributed': 1, 'contributes': 1, 'evergrowing': 1, 'erudition': 1, 'intellectual': 1, 'alertness': 1, 'permeated': 1, 'radically': 1, 'innovative': 1, 'tradition': 1, 'prophetic': 1, 'paracelsus': 1, 'decrease': 1, 'claims': 1, 'reworking': 1, 'motif': 1, 'ultimately': 1, 'embeds': 1, 'poetics': 1, 'revisioned': 1, 'contours': 1, 'para': 1, 'transbiographical': 1, 'gains': 1, 'typically': 1, 'uniquely': 1, 'updatingrecycling': 1, 'translationtransmutation': 1, 'humorous': 1, 'profanation': 1, 'symbols—the': 1, 'spell': 1, 'pohem': 1, 'epitome': 1, 'poetics—always': 1, 'unraveling': 1, 'intriguingly': 1, 'communal': 1, 'experiences': 1, 'storyencounterdream': 1, 'recounted': 1, 'participatory': 1, 'trademarks': 1, 'projecting': 1, 'metaphoric': 1, 'mythical': 1, 'ritualistic': 1, 'screen': 1, 'mode': 1, 'existence': 1, 'melted': 1, 'forgedrefined': 1, 'shaped': 1, 'intimately': 1, 'realities': 1, 'agents': 1, 'energies': 1, 'statuette': 1, 'motioning': 1, 'viewer': 1, 'scenario': 1, 'develops': 1, 'event': 1, 'insidious': 1, 'gradually': 1, 'amplified': 1, 'overwhelming': 1, 'brings': 1, 'bridging': 1, 'heavens': 1, 'conventionally': 1, 'elevated': 1, 'andor': 1, 'mysteries': 1, 'tranquility': 1, 'insignificant': 1, 'skies': 1, 'crossed': 1, 'tramcars': 1, 'ground': 1, 'sky': 1, 'silence…': 1, 'aesthetics': 1, 'mircea': 1, 'eliade': 1, 'disguised': 1, 'immersion': 1, 'insatiably': 1, 'probing': 1, 'experiencing': 1, 'fusions': 1, 'multilayered': 1, 'significations': 1, 'stemming': 1, 'continuously': 1, 'aiming': 1, 'singles': 1, 'enactment': 1, 'masterfully': 1, 'controlled': 1, 'hybridizations': 1, 'clichédismantling': 1, 'complexities': 1, 'concatenations': 1, 'impervious': 1, 'allegory': 1, 'metaphor': 1, 'forgets': 1, 'functions': 1, 'gradation': 1, 'role': 1, 'liberation': 1, 'fulfillment': 1, 'pitfalls': 1, 'systematic': 1, 'categorical': 1, 'several': 1, 'included': 1, 'selection': 1, 'meanings': 1, 'absorbs': 1, 'fashions': 1, 'philosophical': 1, 'spiritualist': 1, 'unfaltering': 1, 'openness': 1, 'includes': 1, 'banalities': 1, 'rendering': 1, 'shrewdly': 1, 'forcefully': 1, 'fearless': 1, 'critique': 1, 'prophecy': 1, 'terrorismrelated': 1, 'paranoia': 1, 'discrimination': 1, 'immigrants': 1, 'out': 1, 'terrorism': 1, 'summer': 1, '1998': 1, 'knocked': 1, 'cabin': 1, 'hillock': 1, 'slouchy': 1, 'lush': 1, 'shrubs': 1, 'ponds': 1, 'wallachian': 1, 'graduate': 1, 'literatures': 1, 'dissertation': 1, 'charles': 1, 'simic': 1, 'supervisor': 1, 'monica': 1, 'pillat': 1, 'encouraged': 1, 'paper': 1, 'serbian': 1, 'stooped': 1, 'peer': 1, 'bars': 1, 'windowpane': 1, 'restless': 1, 'pierced': 1, 'sounded': 1, 'whom': 1, 'him…': 1, 'stunned': 1, 'richness': 1, 'universe': 1, 'hoarded': 1, 'cramped': 1, 'archeological': 1, 'findings': 1, 'drawings': 1, 'paintings': 1, 'collages': 1, 'furniture': 1, 'paired': 1, 'demonchairs': 1, 'avantgarde': 1, 'sidetables': 1, 'kilims': 1, 'oltenia': 1, 'moldavian': 1, 'floral': 1, 'geometric': 1, 'carpets': 1, 'smoking': 1, 'sizes': 1, 'origins': 1, 'masks': 1, 'maramureș': 1, 'alongside': 1, 'extraordinary': 1, 'lesser': 1, 'preoccupations': 1, 'psychiclike': 1, 'visions': 1, 'informing': 1, 'disciplesfansfriends': 1, 'surprised': 1, 'selfeffacingly': 1, 'humbly': 1, 'refused': 1, 'miraculous': 1, 'episodes': 1, 'sanda': 1, 'roșescu': 1, 'booklength': 1, 'interview': 1, 'despre': 1, 'interiorexterior': 1, 'inoutside': 1, 'learnt': 1, 'inclination': 1, 'esoteric': 1, 'despised': 1, 'interestingly': 1, 'diction': 1, 'gravitated': 1, 'simpler': 1, 'mysterious': 1, 'explicit': 1, 'urge': 1, 'direction': 1, 'spiritualism': 1, 'suspicious': 1, 'discovering': 1, 'truths': 1, 'diary': 1, '1948': 1, 'archive': 1, 'sixty': 1, 'belief': 1, 'poems—it': 1, 'universal': 1, 'poetries': 1, 'regarding': 1, 'cultural': 1, 'biographies': 1, 'lives—coming': 1, 'virtually': 1, 'het': 1, 'possible': 1, '—margento': 1, 'flutter': 1, 'extinguished': 1, 'limestone': 1, 'tattoos': 1, 'shoals': 1, 'shirts': 1, 'squirming': 1, 'pebbles': 1, 'whooshing': 1, 'buckets': 1, 'cages': 1, 'twisting': 1, 'creeping': 1, 'fallen': 1, 'disuse': 1, 'menacing': 1, 'rambled': 1, 'tried': 1, 'fend': 1, 'drawing': 1, 'circle': 1, 'motion': 1, 'recount': 1, 'ugliest': 1, 'miss': 1, 'lola': 1, 'universities': 1, 'desert': 1, 'loses': 1, 'recall': 1, 'one': 1, 'eyed': 1, 'refugee': 1, 'claws': 1, 'brutal': 1, 'temptation': 1, 'describe': 1, 'pilgrimage': 1, 'congratulate': 1, 'nearby': 1, 'ceremonies': 1, 'joys': 1, 'monastery': 1, 'kicking': 1, 'grey': 1, 'unfortunate': 1, 'rejoin': 1, 'causalities': 1, 'sensed': 1, 'luxurious': 1, 'purse': 1, 'raggedass': 1, 'staring': 1, 'whimpered': 1, 'answered': 1, 'rudely': 1, 'motorbike': 1, 'powerfully': 1, 'shed': 1, 'tears': 1, 'hovered': 1, 'closer': 1, 'cherry': 1, 'anyhow': 1, 'lifted': 1, 'whimpering': 1, 'legătura': 1, 'bonding': 1, 'occluded': 1, 'addressing': 1, 'preparing': 1, 'ferry': 1, 'departure': 1, 'reimburse': 1, 'guys': 1, 'joyful': 1, 'crouched': 1, 'widow': 1, 'banquet': 1, 'prepared': 1, 'terrace': 1, 'aria': 1, 'strange': 1, 'habitually': 1, 'gentle': 1, 'moans': 1, 'immeasurable': 1, 'value': 1, 'mornings': 1, 'slightly': 1, 'erroneous': 1, 'calendar': 1, 'baking': 1, 'bandaging': 1, 'blades': 1, 'boulevards': 1, 'locust': 1, 'heaps': 1, 'cobs': 1, 'rustling': 1, 'stirs': 1, 'calamine': 1, 'firmness': 1, 'capable': 1, 'rocking': 1, 'cradle': 1, 'cage': 1, 'plants': 1, 'allpowerful': 1, 'triumphant': 1, 'vegetable': 1, 'sending': 1, 'illustrated': 1, 'postcards': 1, 'fans': 1, 'searing': 1, 'belong': 1, 'encompassing': 1, 'mattress': 1, 'premonitory': 1, 'petticoat': 1, 'pathways': 1, 'plausible': 1, 'plots': 1, 'hourglasses': 1, 'rusted': 1, 'queen': 1, 'ballet': 1, 'heron': 1, 'alexandria': 1, 'spins': 1, 'principles': 1, 'corner': 1, 'matches': 1, 'treatise': 1, 'hoopskirt': 1, 'banks': 1, 'fence': 1, 'opheliadrownedinsteam': 1, 'noble': 1, 'amphora': 1, 'apprentice': 1, 'lamps': 1, 'mosquitoes': 1, 'region': 1, 'total': 1, 'transparency': 1, 'parrot': 1, 'geography': 1, 'lessons': 1, 'apollonius': 1, 'tyana': 1, 'concrete': 1, 'abysses': 1, 'issued': 1, 'date': 1, 'astronomer': 1, 'boulevard': 1, 'charging': 1, 'telescope': 1, 'button': 1, 'butt': 1, 'paying': 1, 'honking': 1, 'rubble': 1, 'sixth': 1, 'liked': 1, 'chat': 1, 'mending': 1, 'tailor': 1, 'dyed': 1, 'buttons': 1, 'rocked': 1, 'teeth': 1, 'trapeze': 1, 'shivering': 1, 'addressed': 1, 'hermitage': 1, 'sedimentary': 1, 'review': 1, 'lizards': 1, 'woven': 1, 'gutter': 1, 'cinderella': 1, 'seventh': 1, 'jousting': 1, 'continues': 1, 'carrying': 1, 'offer': 1, 'forty': 1, 'eighty': 1, 'wondrously': 1, 'eating': 1, 'discussing': 1, 'unabated': 1, 'recited': 1, 'rugby': 1, 'pitch': 1, 'panting': 1, 'scrum': 1, 'believed': 1, 'conceptions': 1, 'crepuscular': 1, 'spasms': 1, 'beret': 1, 'perfectly': 1, 'immense': 1, 'cheerful': 1, 'reclaiming': 1, 'slapped': 1, 'palm': 1, 'depending': 1, 'weather': 1, 'season': 1, 'rarely': 1, 'parents': 1, 'saluting': 1, 'spread': 1, 'appease': 1, 'wail': 1, 'scared': 1, 'bewildered': 1, 'hölderlinian': 1, 'duty': 1, 'defend': 1, 'copacul': 1, '1971': 1, 'harder': 1, 'safe': 1, 'mulberry': 1, 'brambles': 1, 'gate': 1, 'mane': 1, 'rustled': 1, 'reeds': 1, 'streams': 1, 'wobbling': 1, 'blouse': 1, 'blushed': 1, 'saint': 1, 'icon': 1, 'know—he': 1, 'said—as': 1, 'traces': 1, 'bridges': 1, 'lend': 1, 'spoke': 1, 'inner': 1, 'happening': 1, 'stork': 1, 'circling': 1, 'calling': 1, 'complicity': 1, 'fertile': 1, 'protection': 1, 'barefoot': 1, 'brothers': 1, 'dwelt': 1, 'wheel': 1, 'creaked': 1, 'kids': 1, 'stale': 1, 'uttering': 1, 'feminine': 1, 'masculine': 1, 'neutral': 1, 'unquiet': 1, 'abstract': 1, 'worldold': 1, 'friendly': 1, 'wiped': 1, 'mouths': 1, 'palms': 1, 'dahlias': 1, 'large': 1, 'brass': 1, 'mirrors': 1, 'naked': 1, 'morse': 1, 'code': 1, 'mystery': 1, 'increasingly': 1, 'bathtub': 1, 'dares': 1, 'blow': 1, 'understands': 1, 'feels': 1, 'alarmed': 1, 'coffee': 1, 'classifieds': 1, 'selling': 1, 'telephoto': 1, 'lens': 1, 'expects': 1, 'telescopic': 1, 'folds': 1, 'heeding': 1, 'military': 1, 'riddled': 1, 'bullet': 1, 'clipped': 1, 'newspaper': 1, 'aspirin': 1, 'loads': 1, 'money': 1, 'inventor': 1, 'invented': 1, 'mechanisms': 1, 'persuasive': 1, 'faces': 1, 'drawn': 1, 'shudder': 1, 'pohetry': 1, 'hated': 1, 'longhaired': 1, 'washing': 1, 'dance': 1, 'dedicate': 1, 'dreamed': 1, 'stool': 1, 'cycling': 1, 'hollering': 1, 'backing': 1, 'winning': 1, 'prizes': 1, 'generously': 1, 'painted': 1, 'eyebrows': 1, 'adamantly': 1, 'mesh': 1, 'legs': 1, 'town': 1, 'calm': 1, 'pulled': 1, 'joked': 1, 'floreasca': 1, 'track': 1, 'hooves': 1, 'clopping': 1, 'jockey': 1, 'furiously': 1, 'smoked': 1, 'elbows': 1, 'propped': 1, 'drag': 1, 'entered': 1, 'arena': 1, 'warming': 1, 'muscular': 1, 'necks': 1, 'butting': 1, 'electric': 1, 'score': 1, 'billy': 1, 'goat': 1, 'horns': 1, 'singing': 1, 'ribbons': 1, 'shaking': 1, 'sockets': 1, 'lheading': 1, 'bleachers': 1, 'meticulous': 1, 'arrangement': 1, 'anywhere': 1, 'orange': 1, 'bequeath': 1, 'bonbons': 1, 'science': 1, 'happiness': 1, 'busts': 1, 'unknown': 1, 'yelping': 1, 'tossed': 1, 'manes': 1, 'equivocal': 1, 'impartiality': 1, 'indistinct': 1, 'maternal': 1, 'mindful': 1, 'broadshouldered': 1, 'cards': 1, 'pockets': 1, 'horses': 1, 'shot': 1, 'vast': 1, 'amounted': 1, 'image': 1, 'eliza': 1, 'machine': 1, 'formed': 1, 'hydrocephalic': 1, 'southerner': 1, 'besiege': 1, 'questions': 1, 'shirt': 1, 'grape': 1, 'stains': 1, 'mercenary': 1, 'glasses': 1, 'zigzagging': 1, 'smoothly': 1, 'moves': 1, 'completely': 1, 'extraneous': 1, 'equations': 1, 'melt': 1, 'blackbird': 1, 'jukebox': 1, 'visible': 1, 'stocking': 1, 'condition': 1, 'obvious': 1, 'esperanza': 1, 'browbone': 1, 'triomphe': 1, 'glorious': 1, 'deserters': 1, 'represents': 1, 'portion': 1, 'moving': 1, 'getting': 1, 'zeppelin': 1, 'motions': 1, 'pointing': 1, 'tiara': 1, 'deadweight': 1, 'leaving': 1, 'remained': 1, 'peacefully': 1, 'tomb': 1, 'mask': 1, '1974': 1, 'purtătorul': 1, 'pick': 1, 'nose': 1, 'pull': 1, 'snot': 1, 'plates': 1, 'pencil': 1, 'stomach': 1, 'silk': 1, 'thighs': 1, 'sparrow': 1, 'borsht': 1, 'comrade': 1, 'tickling': 1, 'belly': 1, 'dances': 1, 'bellydance': 1, 'castanet': 1, 'stinking': 1, 'lazy': 1, 'penis': 1, 'mediterranean': 1, 'stink': 1, 'lice': 1, 'pacific': 1, 'kultur': 1, 'hunger': 1, 'heine': 1, 'hymen': 1, 'dangles': 1, 'admired': 1, 'cool': 1, 'pictures': 1, 'ford': 1, 'bathed': 1, 'suave': 1, 'colognes': 1, 'bashfully': 1, 'roses': 1, 'spats': 1, 'classic': 1, 'songs': 1, 'tuneless': 1, 'powdered': 1, 'flesh': 1, 'hideous': 1, 'wrinkles': 1, 'appear': 1, 'amazement': 1, 'thomas': 1, 'christs': 1, 'unreal': 1, 'wounds': 1, 'gentlest': 1, 'genitalia': 1, 'sprinkler': 1, 'catch': 1, 'song': 1, 'drumețul': 1, 'incendiar': 1, 'incendiary': 1, 'traveler': 1, '1936': 1, 'opened': 1, 'alive': 1, 'shrouds': 1, 'confrontation': 1, 'commemoration': 1, 'ultimate': 1, 'employment': 1, 'contemplation': 1, 'turn': 1, 'mold': 1, 'deserve': 1, 'titles': 1, 'nobility': 1, 'hardship': 1, 'obscurity': 1, 'twilight': 1, 'retreat': 1, 'stars': 1, 'memorable': 1, 'liquid': 1, 'continue': 1, 'heresy': 1, 'spiral': 1, 'unparalleled': 1, 'streaming': 1, 'terrestrialization': 1, 'rainbow': 1, 'tongues': 1, 'nights': 1, 'eclipses': 1, 'eclipses…': 1, 'strove': 1, 'reddened': 1, 'sun…': 1, 'fiery': 1, 'tools': 1, 'meets': 1, 'flame': 1, 'accustomed': 1, 'flares': 1, 'scarcely': 1, 'discerned': 1, 'active': 1, 'lively': 1, 'panic': 1, 'deafening': 1, 'offending': 1, 'forces': 1, 'stake': 1, 'comfortable': 1, 'harm': 1, 'consumed': 1, 'fecund': 1, 'destructive': 1, 'noon': 1, 'visit': 1, 'offend': 1, 'heed': 1, 'hours': 1, 'special': 1, 'preparations': 1, 'exquisite': 1, 'aquatic': 1, 'mineral': 1, 'francis': 1, 'secluded': 1, 'mountain': 1, 'poverty—well': 1, 'accomplished': 1, 'claim': 1, 'compulsory': 1, 'miracle': 1, 'wide': 1, 'regain': 1, 'muffled': 1, 'horus': 1, 'worshippers': 1, 'consciousness': 1, 'rash': 1, 'annoyed': 1, 'smart': 1, 'discouraged': 1, 'unchained': 1, 'shut': 1, 'disgust': 1, 'feel—and': 1, 'ahead': 1, 'solar': 1, 'forget': 1, 'șearpelui': 1, 'descended': 1, 'careless': 1, 'flooded': 1, 'veins': 1, 'insinuating': 1, 'geometry': 1, 'opens': 1, 'metal': 1, 'scream': 1, 'huge': 1, 'corridors': 1, 'mosaic': 1, 'smelling': 1, 'torso': 1, 'grid': 1, 'warner': 1, '1970': 1, 'usefulness': 1, 'sometime': 1, 'someday': 1, 'rows': 1, 'broken': 1, 'masts': 1, 'boards': 1, 'posts': 1, 'reach': 1, 'choice': 1, 'lectures': 1, 'join': 1, 'ranks': 1, 'searching': 1, 'litter': 1, 'slows': 1, 'slides': 1, 'horizon': 1, 'standing': 1, 'surface': 1, 'thalamus': 1, 'bolting': 1, 'exits': 1, 'glacier': 1, 'streets': 1, 'settled': 1, 'cowered': 1, 'harsh': 1, 'kissed': 1, 'herself': 1, 'rotten': 1, 'grave': 1, 'roundish': 1, 'obviously': 1, 'raining': 1, 'trudging': 1, 'thunderbolt': 1, 'drove': 1, 'struggled': 1, 'lift': 1, 'pulling': 1, 'boss': 1, 'crying': 1, 'hungry': 1, 'feed': 1, 'picking': 1, 'offered': 1, 'picked': 1, 'declined': 1, 'stormed': 1, 'awakening': 1, '1996': 1, 'ascet': 1, 'baraca': 1, 'discurs': 1, 'către': 1, 'pietre': 1, 'crumpled': 1, 'tear': 1, 'labyrinth': 1, 'grammar': 1, 'patriarchal': 1, 'beard': 1, 'meanwhile': 1, 'attic': 1, 'immensity': 1, 'belonged': 1, 'invisible': 1, 'community': 1, 'located': 1, 'prolongation': 1, 'realm': 1, 'strolled': 1, 'clarities': 1, 'habit': 1, 'chest': 1, 'reinventing': 1, 'discontinuity': 1, 'blade': 1, 'covering': 1, 'castle': 1, 'rotation': 1, 'evaporated': 1, 'visited': 1, 'shake': 1, 'bucket': 1, 'nail': 1, 'melancolia': 1, 'dezvoltării': 1, 'growth': 1, 'cycle': 1, 'autumn': 1, 'ramble': 1, 'carpathianbalkan': 1, 'range': 1, 'beee': 1, 'expressing': 1, 'unspoken': 1, 'laws': 1, 'migration': 1, 'lonely': 1, 'transhumance': 1, 'gather': 1, 'herd': 1, 'gnaw': 1, 'able': 1, 'understand': 1, 'mechanics': 1, 'events': 1, 'layers': 1, 'preceding': 1, 'usually': 1, 'wears': 1, 'carries': 1, 'scale': 1, 'isolated': 1, 'limbs': 1, 'balanced': 1, 'statue': 1, 'confusing': 1, 'calculus': 1, 'persistently': 1, 'moan': 1, 'perished': 1, 'farewell': 1, 'parting': 1, 'unrest': 1, 'magnet': 1, 'mere': 1, 'fluttering': 1, 'soft': 1, 'forsaken': 1, 'rustle': 1, 'greenery': 1, 'piety': 1, 'indecency': 1, 'plenitude': 1, 'aggressive': 1, 'candor': 1, 'darkyears': 1, 'vainglorious': 1, 'justificatory': 1, 'novas': 1, 'sequoia': 1, 'sleepopithecines': 1, 'caterpillars': 1, 'rocks': 1, 'gold': 1, 'granite': 1, 'copper': 1, 'kangaroos': 1, 'butterflies': 1, 'knives': 1, 'rains': 1, 'nightingales': 1, 'genus': 1, 'boot': 1, 'electronics': 1, 'swallowing': 1, 'logic': 1, 'intuition': 1, 'forming': 1, 'sick': 1, 'emotionally': 1, 'respectfully': 1, 'salute': 1, 'insects': 1, 'panicking': 1, 'insurgency': 1, 'reminiscent': 1, 'bombardiers': 1, 'dumb': 1, 'unripe': 1, 'raspberry': 1, 'sole': 1, 'survivor': 1, 'extinct': 1, 'newly': 1, 'crazy': 1, 'multiplication': 1, 'recognized': 1, 'merely': 1, 'ethereal': 1, 'communicate': 1, 'winged': 1, 'heel': 1, 'sliding': 1, 'boundless': 1, 'deserts': 1, 'sitting': 1, 'pilgrim': 1, 'crammed': 1, 'boiling': 1, 'lava': 1, 'flowing': 1, 'olive': 1, 'bear': 1, 'bitter': 1, 'goldcolored': 1, 'furs': 1, 'foxes': 1, 'foxwitches': 1, 'blurred': 1, 'humans': 1, 'crypt': 1, 'seal': 1, 'modernly': 1, 'likable': 1, 'crossroads': 1, 'snail': 1, 'shells': 1, 'wingcases': 1, 'steps': 1, 'saving': 1, 'gazes': 1, 'fighting': 1, 'cobalt': 1, 'indestructible': 1, 'inertia': 1, 'inquietude': 1, 'steam': 1, 'shortly': 1, 'leaping': 1, 'ferocious': 1, 'stray': 1, 'dogs': 1, 'greet': 1, 'expectation': 1, 'avalanches': 1, 'snails': 1, 'whirring': 1, 'rots': 1, 'piercing': 1, 'contain': 1, 'hovers': 1, 'burns': 1, 'color': 1, 'dwell': 1, 'perpetual': 1, 'sonorant': 1, 'irresistible': 1, 'imbued': 1, 'creatures': 1, 'pits': 1, 'acoustic': 1, 'bizarre': 1, 'atrocious': 1, 'game': 1, 'peacegiving': 1, 'nocturnal': 1, 'cuffed': 1, 'gusts': 1, 'windows': 1, 'howls': 1, 'powders': 1, 'cliffs': 1, 'reef': 1, 'dwellers': 1, 'clad': 1, 'silver': 1, 'armors': 1, 'deceased': 1, 'whales': 1, 'knock': 1, 'keeping': 1, 'bedsheets': 1, 'archeologists': 1, 'kisses': 1, 'divers': 1, 'wave': 1, 'terror': 1, 'lilac': 1, 'chiaroscuro': 1, 'frigates': 1, 'stinky': 1, 'salt': 1, 'starfish': 1, 'somnambulist': 1, 'propeller': 1, 'sails': 1, 'garlands': 1, 'seductive': 1, 'rosette': 1, 'blossomed': 1, 'comb': 1, 'lamp': 1, 'eats': 1, 'giraffe': 1, 'stretching': 1, 'blankets': 1, 'dried': 1, 'zebra': 1, 'workshop': 1, 'floor': 1, 'sudden': 1, 'planets': 1, 'revolving': 1, 'startled': 1, 'intently': 1, 'flocks': 1, 'refining': 1, 'carnation': 1, 'chaos': 1, 'afterwards': 1, 'apparition': 1, 'petrified': 1, 'assumed': 1, 'enigmatic': 1, 'stonelike': 1, 'enemy': 1, 'gnaws': 1, 'cheeks': 1, 'levitation': 1, 'burial': 1, 'spheres': 1, 'everlasting': 1, 'astral': 1, 'catafalque': 1, 'inscribing': 1, 'convulsive': 1, 'hieroglyphs': 1, 'descending': 1, 'ruby': 1, 'rush': 1, 'herds': 1, 'secretă': 1, 'suferinței': 1, 'vegetale': 1, 'grief': 1, 'mumble': 1, 'hanska': 1, 'unnatural': 1, 'lurking': 1, 'television': 1, 'sobbing': 1, 'happily': 1, 'hanksa': 1, 'linen': 1, 'vistula': 1, 'note': 1, 'curtains': 1, 'intestinal': 1, 'clocks': 1, 'burnished': 1, '1990': 1, 'schimbarea': 1, 'lucrurilor': 1, 'tall': 1, 'somber': 1, 'leafy': 1, 'thirst': 1, 'oranges': 1, 'absorbing': 1, 'bounty': 1, 'scented': 1, 'jasmine': 1, 'forests': 1, 'urinated': 1, 'motorcycle': 1, 'utter': 1, 'unravels': 1, 'hardened': 1, 'lifeless': 1, 'heap': 1, 'insurgent': 1, 'twilights': 1, 'vagueness': 1, 'constraints': 1, 'uses': 1, 'faint': 1, 'doglike': 1, 'disappear': 1, 'blows': 1, 'caves': 1, 'move': 1, 'ogives': 1, 'clean': 1, 'laundry': 1, 'family': 1, 'elementary': 1, 'roughness': 1, 'flawless': 1, 'chairs': 1, 'collide': 1, 'flintrock': 1, 'mountains': 1, 'amass': 1, 'results': 1, 'park': 1, 'ranger': 1, 'hunter': 1, 'slipped': 1, 'hoarfrost': 1, 'wetting': 1, 'moistening': 1, 'build': 1, 'watermelons': 1, 'tents': 1, 'pitched': 1, 'receives': 1, 'arms': 1, 'inaudible': 1, 'beneficent': 1, 'deafness': 1, 'peel': 1, 'lacquer': 1, 'ingratiate': 1, 'chilly': 1, 'instant': 1, 'auras': 1, 'ringing': 1, 'lucky': 1, 'plastic': 1, 'smokes': 1, 'cheap': 1, 'cigarettes': 1, 'incest': 1, 'consummated': 1, 'apples': 1, 'curls': 1, 'click': 1, 'photographer': 1, 'brags': 1, 'amateurism': 1, 'passes': 1, 'knee': 1, 'aches': 1, 'sunflowers': 1, 'tells': 1, 'differentiates': 1, 'colorfully': 1, 'postcard': 1, 'filthy': 1, 'grapes': 1, 'coffeecolored': 1, 'drier': 1, 'differentiating': 1, 'sour': 1, 'caught': 1, 'embraced': 1, 'fields': 1, 'lights': 1, 'indecent': 1, 'posture': 1, 'shame': 1, 'alas': 1, 'swear': 1, 'bullshit': 1, 'ended': 1, 'dirtied': 1, 'branches': 1, 'hurts': 1, 'elastic': 1, 'aunt': 1, 'elena': 1, 'ohrida': 1, 'soul': 1, 'birthmark': 1, 'slender': 1, 'shady': 1, 'hills': 1, 'decent': 1, 'aching': 1, 'carried': 1, 'boar': 1, 'boots': 1, 'photograph': 1, 'aura': 1, 'greetings': 1, 'purple': 1, 'sisters': 1, 'road': 1, 'wink': 1, 'bicycles': 1, 'torsos': 1, 'elated': 1, 'deal': 1, 'cartridges': 1, 'flash': 1, 'deaf': 1, 'talks': 1, 'kneel': 1, 'adoration': 1, 'anger': 1, 'momentarily': 1, 'cries': 1, 'sinking': 1, 'below': 1, 'victims': 1, 'answer': 1, 'drops': 1, 'scolding': 1, 'loudly': 1, 'coward': 1, 'guts': 1, 'asks': 1, 'shovel': 1, 'planning': 1, 'teach': 1, 'adapt': 1, 'pulls': 1})\n"
     ]
    }
   ],
   "source": [
    "\n",
    "print(Count_total)"
   ]
  },
  {
   "cell_type": "code",
   "execution_count": 46,
   "metadata": {},
   "outputs": [
    {
     "name": "stdout",
     "output_type": "stream",
     "text": [
      "8082\n"
     ]
    }
   ],
   "source": [
    "\n",
    "for i in range(1):\n",
    "    print(len(texts_data[i]))"
   ]
  },
  {
   "cell_type": "code",
   "execution_count": 15,
   "metadata": {},
   "outputs": [],
   "source": [
    "\n",
    "for i in range(1):\n",
    "    texts_data[i] = [x for x in texts_data[i] if x not in stopwords]"
   ]
  },
  {
   "cell_type": "code",
   "execution_count": 48,
   "metadata": {},
   "outputs": [
    {
     "name": "stdout",
     "output_type": "stream",
     "text": [
      "8081\n"
     ]
    }
   ],
   "source": [
    "\n",
    "print(len(texts_data[0]))"
   ]
  },
  {
   "cell_type": "code",
   "execution_count": 16,
   "metadata": {},
   "outputs": [],
   "source": [
    "\n",
    "dictionary = corpora.Dictionary(texts_data)"
   ]
  },
  {
   "cell_type": "code",
   "execution_count": 17,
   "metadata": {},
   "outputs": [],
   "source": [
    "\n",
    "corpus = [dictionary.doc2bow(text) for text in texts_data]\n",
    "import pickle\n",
    "pickle.dump(corpus, open('corpus.pkl', 'wb'))\n",
    "dictionary.save('dictionary.gensim')"
   ]
  },
  {
   "cell_type": "code",
   "execution_count": 18,
   "metadata": {},
   "outputs": [],
   "source": [
    "\n",
    "def compute_coherence_values(dictionary, corpus, texts, limit, start = 2, step = 1):\n",
    "    coherence_values = []\n",
    "    model_list = []\n",
    "    for num_topics in range(start, limit, step):\n",
    "        model = gensim.models.ldamodel.LdaModel(corpus = corpus, num_topics = num_topics, id2word = dictionary, random_state = 100, update_every = 1, passes = 15, alpha = 'auto', per_word_topics = True)\n",
    "        model_list.append(model)\n",
    "        coherencemodel = CoherenceModel(model = model, texts = texts, dictionary = dictionary, coherence = 'c_v')\n",
    "        coherence_values.append(coherencemodel.get_coherence())\n",
    "\n",
    "    return model_list, coherence_values"
   ]
  },
  {
   "cell_type": "code",
   "execution_count": 19,
   "metadata": {},
   "outputs": [],
   "source": [
    "\n",
    "model_list, coherence_values = compute_coherence_values(dictionary = dictionary, corpus = corpus, texts = texts_data, start=2, limit=10, step=1)"
   ]
  },
  {
   "cell_type": "code",
   "execution_count": 20,
   "metadata": {},
   "outputs": [
    {
     "name": "stdout",
     "output_type": "stream",
     "text": [
      "Num Topics = 2  has Coherence Value of 0.3536\n",
      "Num Topics = 3  has Coherence Value of 0.3492\n",
      "Num Topics = 4  has Coherence Value of 0.3415\n",
      "Num Topics = 5  has Coherence Value of 0.3445\n",
      "Num Topics = 6  has Coherence Value of 0.345\n",
      "Num Topics = 7  has Coherence Value of 0.3281\n",
      "Num Topics = 8  has Coherence Value of 0.3371\n",
      "Num Topics = 9  has Coherence Value of 0.329\n"
     ]
    }
   ],
   "source": [
    "\n",
    "limit=10\n",
    "start=2\n",
    "step=1\n",
    "x = range(start, limit, step)\n",
    "\n",
    "for m, cv in zip(x, coherence_values):\n",
    "    print(\"Num Topics =\", m, \" has Coherence Value of\", round(cv, 4))"
   ]
  },
  {
   "cell_type": "code",
   "execution_count": 21,
   "metadata": {},
   "outputs": [],
   "source": [
    "\n",
    "NUM_TOPICS = 2\n",
    "ldamodel = gensim.models.ldamodel.LdaModel(corpus, num_topics = NUM_TOPICS, id2word=dictionary, random_state=100, update_every=1, passes=15, alpha='auto', per_word_topics=True)"
   ]
  },
  {
   "cell_type": "code",
   "execution_count": 22,
   "metadata": {},
   "outputs": [],
   "source": [
    "\n",
    "topics = ldamodel.print_topics(num_words=44)"
   ]
  },
  {
   "cell_type": "code",
   "execution_count": 56,
   "metadata": {},
   "outputs": [
    {
     "name": "stdout",
     "output_type": "stream",
     "text": [
      "[(0,\n",
      "  '0.006*\"verse\" + 0.006*\"poet\" + 0.005*\"ovid\" + 0.005*\"when\" + 0.004*\"other\" '\n",
      "  '+ 0.004*\"time\" + 0.004*\"poem\" + 0.003*\"work\" + 0.003*\"know\" + 0.003*\"write\" '\n",
      "  '+ 0.003*\"poets\" + 0.003*\"naum\" + 0.002*\"said\" + 0.002*\"poetry\" + '\n",
      "  '0.002*\"long\" + 0.002*\"where\" + 0.002*\"still\" + 0.002*\"better\" + '\n",
      "  '0.002*\"lines\" + 0.002*\"marlowe\" + 0.002*\"writing\" + 0.002*\"down\" + '\n",
      "  '0.002*\"night\" + 0.002*\"half\" + 0.002*\"full\" + 0.002*\"over\" + 0.002*\"every\" '\n",
      "  '+ 0.002*\"both\" + 0.002*\"thought\" + 0.002*\"under\" + 0.002*\"dryden\" + '\n",
      "  '0.002*\"life\" + 0.002*\"line\" + 0.002*\"words\" + 0.002*\"between\" + '\n",
      "  '0.002*\"sequence\" + 0.002*\"things\" + 0.002*\"might\" + 0.002*\"make\" + '\n",
      "  '0.002*\"right\" + 0.002*\"before\" + 0.002*\"here\" + 0.002*\"around\" + '\n",
      "  '0.002*\"maybe\"'),\n",
      " (1,\n",
      "  '0.000*\"verse\" + 0.000*\"poet\" + 0.000*\"other\" + 0.000*\"ovid\" + 0.000*\"time\" '\n",
      "  '+ 0.000*\"work\" + 0.000*\"when\" + 0.000*\"poem\" + 0.000*\"naum\" + 0.000*\"poets\" '\n",
      "  '+ 0.000*\"write\" + 0.000*\"said\" + 0.000*\"know\" + 0.000*\"better\" + '\n",
      "  '0.000*\"writing\" + 0.000*\"still\" + 0.000*\"dryden\" + 0.000*\"full\" + '\n",
      "  '0.000*\"poetry\" + 0.000*\"under\" + 0.000*\"between\" + 0.000*\"love\" + '\n",
      "  '0.000*\"words\" + 0.000*\"line\" + 0.000*\"thought\" + 0.000*\"both\" + '\n",
      "  '0.000*\"life\" + 0.000*\"every\" + 0.000*\"half\" + 0.000*\"night\" + 0.000*\"where\" '\n",
      "  '+ 0.000*\"over\" + 0.000*\"marlowe\" + 0.000*\"never\" + 0.000*\"lines\" + '\n",
      "  '0.000*\"long\" + 0.000*\"only\" + 0.000*\"water\" + 0.000*\"down\" + 0.000*\"each\" + '\n",
      "  '0.000*\"something\" + 0.000*\"make\" + 0.000*\"times\" + 0.000*\"maybe\"')]\n"
     ]
    }
   ],
   "source": [
    "\n",
    "pprint(topics)"
   ]
  },
  {
   "cell_type": "code",
   "execution_count": 57,
   "metadata": {},
   "outputs": [
    {
     "data": {
      "text/plain": [
       "[(0, 0.0005021314), (1, 7.6084754e-05)]"
      ]
     },
     "execution_count": 57,
     "metadata": {},
     "output_type": "execute_result"
    }
   ],
   "source": [
    "\n",
    "ldamodel.get_term_topics(\"master\", minimum_probability = 0)"
   ]
  },
  {
   "cell_type": "code",
   "execution_count": 24,
   "metadata": {},
   "outputs": [],
   "source": [
    "\n",
    "l0 = list(ldamodel.show_topic(0, topn = 9000))"
   ]
  },
  {
   "cell_type": "code",
   "execution_count": 25,
   "metadata": {},
   "outputs": [],
   "source": [
    "l1 = list(ldamodel.show_topic(1, topn = 9000))"
   ]
  },
  {
   "cell_type": "code",
   "execution_count": 61,
   "metadata": {},
   "outputs": [
    {
     "name": "stdout",
     "output_type": "stream",
     "text": [
      "300\n"
     ]
    },
    {
     "ename": "IndexError",
     "evalue": "list index out of range",
     "output_type": "error",
     "traceback": [
      "\u001b[0;31m---------------------------------------------------------------------------\u001b[0m",
      "\u001b[0;31mIndexError\u001b[0m                                Traceback (most recent call last)",
      "\u001b[0;32m<ipython-input-61-a332a205376f>\u001b[0m in \u001b[0;36m<module>\u001b[0;34m\u001b[0m\n\u001b[1;32m      1\u001b[0m \u001b[0;32mfor\u001b[0m \u001b[0mi\u001b[0m \u001b[0;32min\u001b[0m \u001b[0mrange\u001b[0m\u001b[0;34m(\u001b[0m\u001b[0;36m9000\u001b[0m\u001b[0;34m)\u001b[0m\u001b[0;34m:\u001b[0m\u001b[0;34m\u001b[0m\u001b[0;34m\u001b[0m\u001b[0m\n\u001b[0;32m----> 2\u001b[0;31m     \u001b[0;32mif\u001b[0m \u001b[0ml0\u001b[0m\u001b[0;34m[\u001b[0m\u001b[0mi\u001b[0m\u001b[0;34m]\u001b[0m\u001b[0;34m[\u001b[0m\u001b[0;36m0\u001b[0m\u001b[0;34m]\u001b[0m\u001b[0;34m==\u001b[0m \u001b[0;34m\"master\"\u001b[0m\u001b[0;34m:\u001b[0m\u001b[0;34m\u001b[0m\u001b[0;34m\u001b[0m\u001b[0m\n\u001b[0m\u001b[1;32m      3\u001b[0m             \u001b[0mprint\u001b[0m\u001b[0;34m(\u001b[0m\u001b[0mi\u001b[0m\u001b[0;34m)\u001b[0m\u001b[0;34m\u001b[0m\u001b[0;34m\u001b[0m\u001b[0m\n",
      "\u001b[0;31mIndexError\u001b[0m: list index out of range"
     ]
    }
   ],
   "source": [
    "\n",
    "for i in range(9000):\n",
    "    if l0[i][0]== \"master\":\n",
    "            print(i)"
   ]
  },
  {
   "cell_type": "code",
   "execution_count": 62,
   "metadata": {},
   "outputs": [
    {
     "name": "stdout",
     "output_type": "stream",
     "text": [
      "235\n"
     ]
    },
    {
     "ename": "IndexError",
     "evalue": "list index out of range",
     "output_type": "error",
     "traceback": [
      "\u001b[0;31m---------------------------------------------------------------------------\u001b[0m",
      "\u001b[0;31mIndexError\u001b[0m                                Traceback (most recent call last)",
      "\u001b[0;32m<ipython-input-62-828cfb85ef8e>\u001b[0m in \u001b[0;36m<module>\u001b[0;34m\u001b[0m\n\u001b[1;32m      1\u001b[0m \u001b[0;32mfor\u001b[0m \u001b[0mi\u001b[0m \u001b[0;32min\u001b[0m \u001b[0mrange\u001b[0m\u001b[0;34m(\u001b[0m\u001b[0;36m9000\u001b[0m\u001b[0;34m)\u001b[0m\u001b[0;34m:\u001b[0m\u001b[0;34m\u001b[0m\u001b[0;34m\u001b[0m\u001b[0m\n\u001b[0;32m----> 2\u001b[0;31m     \u001b[0;32mif\u001b[0m \u001b[0ml1\u001b[0m\u001b[0;34m[\u001b[0m\u001b[0mi\u001b[0m\u001b[0;34m]\u001b[0m\u001b[0;34m[\u001b[0m\u001b[0;36m0\u001b[0m\u001b[0;34m]\u001b[0m\u001b[0;34m==\u001b[0m \u001b[0;34m\"master\"\u001b[0m\u001b[0;34m:\u001b[0m\u001b[0;34m\u001b[0m\u001b[0;34m\u001b[0m\u001b[0m\n\u001b[0m\u001b[1;32m      3\u001b[0m             \u001b[0mprint\u001b[0m\u001b[0;34m(\u001b[0m\u001b[0mi\u001b[0m\u001b[0;34m)\u001b[0m\u001b[0;34m\u001b[0m\u001b[0;34m\u001b[0m\u001b[0m\n",
      "\u001b[0;31mIndexError\u001b[0m: list index out of range"
     ]
    }
   ],
   "source": [
    "for i in range(9000):\n",
    "    if l1[i][0]== \"master\":\n",
    "            print(i)"
   ]
  },
  {
   "cell_type": "code",
   "execution_count": 63,
   "metadata": {},
   "outputs": [
    {
     "name": "stdout",
     "output_type": "stream",
     "text": [
      "('blood', 0.00055153354)\n",
      "('based', 0.00055152853)\n",
      "('against', 0.0005515245)\n",
      "('known', 0.00055152446)\n",
      "('looked', 0.00055152044)\n",
      "('romantic', 0.00055151456)\n",
      "('distance', 0.00055151386)\n",
      "('dream', 0.00055150955)\n",
      "('green', 0.0005515067)\n",
      "('london', 0.00055150496)\n",
      "('theme', 0.0005515028)\n",
      "('cealaltă', 0.0005515024)\n",
      "('published', 0.00055149966)\n",
      "('wait', 0.0005514934)\n",
      "('shoulder', 0.0005514927)\n",
      "('anyway', 0.0005514926)\n",
      "('despair', 0.0005514893)\n",
      "('telling', 0.00055148697)\n",
      "('pass', 0.0005514781)\n",
      "('fața', 0.00055147696)\n",
      "('master', 0.00055147626)\n",
      "('myself', 0.0005514739)\n",
      "('rental', 0.0005514735)\n",
      "('lance', 0.00055146875)\n",
      "('vintage', 0.0005514583)\n",
      "('thus', 0.00055145036)\n",
      "('council', 0.0005514432)\n",
      "('especially', 0.00055144203)\n",
      "('girls', 0.000551435)\n",
      "('happy', 0.00055143284)\n",
      "('partea', 0.0005514313)\n",
      "('finger', 0.00055142667)\n",
      "('passed', 0.0005514195)\n",
      "('ashes', 0.00055140705)\n",
      "('painting', 0.0005513837)\n",
      "('little', 0.0005513822)\n",
      "('mind', 0.0005513486)\n",
      "('metamorphoses', 0.0005513394)\n",
      "('fourfour', 0.000551337)\n",
      "('talking', 0.0005513283)\n"
     ]
    }
   ],
   "source": [
    "\n",
    "for i in range(280, 320):\n",
    "    print(l0[i])"
   ]
  },
  {
   "cell_type": "code",
   "execution_count": 64,
   "metadata": {},
   "outputs": [
    {
     "name": "stdout",
     "output_type": "stream",
     "text": [
      "('beloved', 0.00026639234)\n",
      "('happy', 0.0002663874)\n",
      "('drowned', 0.00026638736)\n",
      "('girls', 0.00026637627)\n",
      "('people', 0.00026634586)\n",
      "('especially', 0.00026633995)\n",
      "('council', 0.00026633334)\n",
      "('thus', 0.0002662956)\n",
      "('iron', 0.00026626023)\n",
      "('vintage', 0.0002662547)\n",
      "('everybody', 0.00026624987)\n",
      "('hands', 0.000266245)\n",
      "('begin', 0.0002662189)\n",
      "('trees', 0.00026621282)\n",
      "('rome', 0.00026620715)\n",
      "('lance', 0.00026620002)\n",
      "('1968', 0.00026617976)\n",
      "('group', 0.00026617598)\n",
      "('rental', 0.0002661749)\n",
      "('myself', 0.0002661731)\n",
      "('master', 0.00026616117)\n",
      "('fața', 0.0002661572)\n",
      "('inside', 0.00026615415)\n",
      "('pass', 0.00026615092)\n",
      "('exile', 0.0002661433)\n",
      "('across', 0.00026613422)\n",
      "('perfect', 0.00026612086)\n",
      "('telling', 0.0002661047)\n",
      "('despair', 0.0002660927)\n",
      "('interest', 0.0002660859)\n",
      "('outside', 0.0002660858)\n",
      "('anyway', 0.00026607575)\n",
      "('shoulder', 0.0002660751)\n",
      "('feel', 0.00026607205)\n",
      "('wait', 0.00026607118)\n",
      "('secret', 0.00026606736)\n",
      "('published', 0.0002660383)\n",
      "('story', 0.00026603375)\n",
      "('cealaltă', 0.000266024)\n",
      "('needed', 0.00026602278)\n"
     ]
    }
   ],
   "source": [
    "\n",
    "for i in range(215, 255):\n",
    "    print(l1[i])"
   ]
  },
  {
   "cell_type": "code",
   "execution_count": 66,
   "metadata": {},
   "outputs": [
    {
     "data": {
      "text/plain": [
       "3785"
      ]
     },
     "execution_count": 66,
     "metadata": {},
     "output_type": "execute_result"
    }
   ],
   "source": [
    "\n",
    "len(l0)"
   ]
  },
  {
   "cell_type": "code",
   "execution_count": 68,
   "metadata": {},
   "outputs": [
    {
     "data": {
      "text/plain": [
       "3785"
      ]
     },
     "execution_count": 68,
     "metadata": {},
     "output_type": "execute_result"
    }
   ],
   "source": [
    "\n",
    "len(l1)"
   ]
  },
  {
   "cell_type": "code",
   "execution_count": 67,
   "metadata": {},
   "outputs": [
    {
     "name": "stdout",
     "output_type": "stream",
     "text": [
      "258\n"
     ]
    }
   ],
   "source": [
    "\n",
    "for i in range(3785):\n",
    "    if l0[i][0]== \"project\":\n",
    "            print(i)"
   ]
  },
  {
   "cell_type": "code",
   "execution_count": 69,
   "metadata": {},
   "outputs": [
    {
     "name": "stdout",
     "output_type": "stream",
     "text": [
      "313\n"
     ]
    }
   ],
   "source": [
    "\n",
    "for i in range(3785):\n",
    "    if l1[i][0]== \"project\":\n",
    "            print(i)"
   ]
  },
  {
   "cell_type": "code",
   "execution_count": 71,
   "metadata": {},
   "outputs": [
    {
     "name": "stdout",
     "output_type": "stream",
     "text": [
      "('lips', 0.0005516778)\n",
      "('asked', 0.0005516723)\n",
      "('memories', 0.0005516694)\n",
      "('waiting', 0.00055166177)\n",
      "('zenobia', 0.0005516551)\n",
      "('poems', 0.00055163365)\n",
      "('language', 0.00055162713)\n",
      "('bird', 0.0005516147)\n",
      "('case', 0.00055161444)\n",
      "('illustrations', 0.00055161404)\n",
      "('rock', 0.00055161363)\n",
      "('stop', 0.0005516103)\n",
      "('poor', 0.00055160985)\n",
      "('ocean', 0.0005516083)\n",
      "('triangle', 0.0005516026)\n",
      "('minor', 0.0005516012)\n",
      "('room', 0.0005516006)\n",
      "('tangled', 0.0005515951)\n",
      "('enough', 0.0005515893)\n",
      "('foot', 0.0005515845)\n",
      "('discussion', 0.0005515798)\n",
      "('project', 0.0005515763)\n",
      "('derby', 0.00055157003)\n",
      "('next', 0.0005515693)\n",
      "('fact', 0.0005515688)\n",
      "('rhyme', 0.00055156834)\n",
      "('past', 0.0005515683)\n",
      "('albastru', 0.0005515652)\n",
      "('become', 0.0005515641)\n",
      "('alchemical', 0.0005515623)\n",
      "('exiled', 0.0005515599)\n",
      "('sound', 0.00055155763)\n",
      "('marvellous', 0.0005515529)\n",
      "('eutychia', 0.00055155216)\n",
      "('malul', 0.00055155176)\n",
      "('mist', 0.000551547)\n",
      "('artists', 0.00055154663)\n",
      "('loved', 0.0005515449)\n",
      "('meaning', 0.0005515447)\n",
      "('toward', 0.00055154454)\n",
      "('stone', 0.00055154314)\n"
     ]
    }
   ],
   "source": [
    "\n",
    "for i in range(237, 278):\n",
    "    print(l0[i])"
   ]
  },
  {
   "cell_type": "code",
   "execution_count": 72,
   "metadata": {},
   "outputs": [
    {
     "name": "stdout",
     "output_type": "stream",
     "text": [
      "('marvellous', 0.00026575974)\n",
      "('brought', 0.000265744)\n",
      "('sound', 0.0002657362)\n",
      "('terrible', 0.00026572982)\n",
      "('exiled', 0.00026572254)\n",
      "('alchemical', 0.00026571116)\n",
      "('become', 0.0002657005)\n",
      "('albastru', 0.0002656963)\n",
      "('stand', 0.00026569597)\n",
      "('wells', 0.00026569248)\n",
      "('drunken', 0.00026568625)\n",
      "('lying', 0.0002656811)\n",
      "('past', 0.00026567996)\n",
      "('rhyme', 0.00026567932)\n",
      "('fact', 0.00026567714)\n",
      "('next', 0.00026567478)\n",
      "('camera', 0.00026567274)\n",
      "('derby', 0.00026567033)\n",
      "('urmat', 0.00026566963)\n",
      "('leaves', 0.00026566055)\n",
      "('saying', 0.00026564513)\n",
      "('project', 0.00026563765)\n",
      "('discussion', 0.00026561992)\n",
      "('beginning', 0.00026561224)\n",
      "('round', 0.00026560697)\n",
      "('foot', 0.00026559463)\n",
      "('describing', 0.000265594)\n",
      "('sure', 0.0002655859)\n",
      "('listening', 0.00026558276)\n",
      "('1994', 0.0002655821)\n",
      "('certain', 0.00026558017)\n",
      "('communist', 0.0002655782)\n",
      "('explanation', 0.00026557798)\n",
      "('motioned', 0.00026557714)\n",
      "('enough', 0.00026556858)\n",
      "('higher', 0.00026556174)\n",
      "('reasons', 0.00026555968)\n",
      "('beneath', 0.00026555016)\n",
      "('suprafața', 0.00026554437)\n",
      "('died', 0.0002655419)\n",
      "('page', 0.00026554186)\n"
     ]
    }
   ],
   "source": [
    "\n",
    "for i in range(292, 333):\n",
    "    print(l1[i])"
   ]
  },
  {
   "cell_type": "code",
   "execution_count": 74,
   "metadata": {},
   "outputs": [
    {
     "name": "stdout",
     "output_type": "stream",
     "text": [
      "2517\n"
     ]
    }
   ],
   "source": [
    "\n",
    "for i in range(3785):\n",
    "    if l0[i][0]== \"contented\":\n",
    "            print(i)"
   ]
  },
  {
   "cell_type": "code",
   "execution_count": 75,
   "metadata": {},
   "outputs": [
    {
     "name": "stdout",
     "output_type": "stream",
     "text": [
      "2559\n"
     ]
    }
   ],
   "source": [
    "for i in range(3785):\n",
    "    if l1[i][0]== \"contented\":\n",
    "            print(i)"
   ]
  },
  {
   "cell_type": "code",
   "execution_count": 77,
   "metadata": {},
   "outputs": [
    {
     "name": "stdout",
     "output_type": "stream",
     "text": [
      "('colorfully', 0.0001503739)\n",
      "('loads', 0.00015037389)\n",
      "('moods', 0.00015037387)\n",
      "('route', 0.00015037387)\n",
      "('bottles—drinks', 0.00015037385)\n",
      "('poverty—well', 0.0001503738)\n",
      "('butterflies', 0.0001503738)\n",
      "('nightingales', 0.0001503738)\n",
      "('incompetent', 0.00015037374)\n",
      "('grace', 0.00015037374)\n",
      "('appealing', 0.00015037374)\n",
      "('talks', 0.00015037373)\n",
      "('worry', 0.00015037373)\n",
      "('brushed', 0.0001503737)\n",
      "('wondrously', 0.0001503737)\n",
      "('esperanza', 0.00015037367)\n",
      "('hunger', 0.00015037366)\n",
      "('grave', 0.00015037366)\n",
      "('scan', 0.00015037364)\n",
      "('acts', 0.00015037364)\n",
      "('converse', 0.0001503736)\n",
      "('contented', 0.00015037358)\n",
      "('alexandrian', 0.00015037357)\n",
      "('telephoto', 0.00015037355)\n",
      "('reciter', 0.00015037355)\n",
      "('students', 0.00015037355)\n",
      "('wrinkles', 0.00015037353)\n",
      "('rochester', 0.0001503735)\n",
      "('horizon', 0.00015037347)\n",
      "('unfaltering', 0.00015037347)\n",
      "('clocks', 0.00015037347)\n",
      "('done—', 0.00015037345)\n",
      "('interiorexterior', 0.00015037344)\n",
      "('stanza', 0.00015037342)\n",
      "('către', 0.00015037341)\n",
      "('fumbling', 0.0001503734)\n",
      "('amount', 0.0001503734)\n",
      "('drank', 0.0001503734)\n",
      "('crying', 0.0001503734)\n",
      "('ferry', 0.00015037334)\n"
     ]
    }
   ],
   "source": [
    "\n",
    "for i in range(2496, 2536):\n",
    "    print(l0[i])"
   ]
  },
  {
   "cell_type": "code",
   "execution_count": 78,
   "metadata": {},
   "outputs": [
    {
     "name": "stdout",
     "output_type": "stream",
     "text": [
      "('darkyears', 0.00026352683)\n",
      "('discouraging', 0.00026352674)\n",
      "('besiege', 0.00026352666)\n",
      "('either—', 0.00026352637)\n",
      "('astral', 0.00026352634)\n",
      "('lamp', 0.00026352625)\n",
      "('nobility', 0.0002635262)\n",
      "('carefully', 0.00026352602)\n",
      "('ferry', 0.00026352596)\n",
      "('crying', 0.00026352578)\n",
      "('drank', 0.00026352567)\n",
      "('amount', 0.00026352555)\n",
      "('fumbling', 0.00026352552)\n",
      "('stanza', 0.0002635255)\n",
      "('done—', 0.0002635255)\n",
      "('către', 0.0002635254)\n",
      "('interiorexterior', 0.00026352538)\n",
      "('horizon', 0.00026352535)\n",
      "('unfaltering', 0.00026352535)\n",
      "('clocks', 0.00026352514)\n",
      "('wrinkles', 0.000263525)\n",
      "('rochester', 0.0002635249)\n",
      "('contented', 0.0002635248)\n",
      "('reciter', 0.0002635248)\n",
      "('telephoto', 0.00026352477)\n",
      "('converse', 0.00026352468)\n",
      "('alexandrian', 0.00026352462)\n",
      "('students', 0.0002635246)\n",
      "('grave', 0.00026352436)\n",
      "('hunger', 0.00026352433)\n",
      "('scan', 0.0002635243)\n",
      "('acts', 0.00026352415)\n",
      "('esperanza', 0.0002635241)\n",
      "('wondrously', 0.0002635241)\n",
      "('brushed', 0.00026352392)\n",
      "('incompetent', 0.0002635239)\n",
      "('worry', 0.0002635239)\n",
      "('talks', 0.00026352383)\n",
      "('appealing', 0.0002635238)\n",
      "('grace', 0.00026352375)\n",
      "('poverty—well', 0.00026352354)\n",
      "('butterflies', 0.0002635235)\n"
     ]
    }
   ],
   "source": [
    "\n",
    "for i in range(2537, 2579):\n",
    "    print(l1[i])"
   ]
  },
  {
   "cell_type": "code",
   "execution_count": 79,
   "metadata": {},
   "outputs": [],
   "source": [
    "\n",
    "for i in range(3785):\n",
    "    if l0[i][0]== \"dross\":\n",
    "            print(i)"
   ]
  },
  {
   "cell_type": "code",
   "execution_count": 80,
   "metadata": {},
   "outputs": [],
   "source": [
    "\n",
    "for i in range(3785):\n",
    "    if l1[i][0]== \"dross\":\n",
    "            print(i)"
   ]
  },
  {
   "cell_type": "code",
   "execution_count": 81,
   "metadata": {},
   "outputs": [
    {
     "name": "stdout",
     "output_type": "stream",
     "text": [
      "2830\n"
     ]
    }
   ],
   "source": [
    "\n",
    "for i in range(3785):\n",
    "    if l0[i][0]== \"salvaged\":\n",
    "            print(i)"
   ]
  },
  {
   "cell_type": "code",
   "execution_count": 82,
   "metadata": {},
   "outputs": [
    {
     "name": "stdout",
     "output_type": "stream",
     "text": [
      "439\n"
     ]
    }
   ],
   "source": [
    "\n",
    "for i in range(3785):\n",
    "    if l0[i][0]== \"part\":\n",
    "            print(i)"
   ]
  },
  {
   "cell_type": "code",
   "execution_count": 83,
   "metadata": {},
   "outputs": [
    {
     "name": "stdout",
     "output_type": "stream",
     "text": [
      "287\n"
     ]
    }
   ],
   "source": [
    "\n",
    "for i in range(3785):\n",
    "    if l1[i][0]== \"part\":\n",
    "            print(i)"
   ]
  },
  {
   "cell_type": "code",
   "execution_count": 84,
   "metadata": {},
   "outputs": [
    {
     "name": "stdout",
     "output_type": "stream",
     "text": [
      "('higher', 0.00045118804)\n",
      "('explanation', 0.00045118507)\n",
      "('motioned', 0.000451185)\n",
      "('communist', 0.00045118487)\n",
      "('certain', 0.00045118458)\n",
      "('listening', 0.00045118429)\n",
      "('1994', 0.00045118414)\n",
      "('sure', 0.00045118353)\n",
      "('describing', 0.00045118184)\n",
      "('beginning', 0.0004511782)\n",
      "('saying', 0.000451172)\n",
      "('leaves', 0.00045116918)\n",
      "('urmat', 0.00045116735)\n",
      "('camera', 0.00045116688)\n",
      "('lying', 0.00045116528)\n",
      "('drunken', 0.0004511643)\n",
      "('wells', 0.00045116319)\n",
      "('stand', 0.00045116252)\n",
      "('terrible', 0.000451156)\n",
      "('brought', 0.00045115323)\n",
      "('brauner', 0.0004511471)\n",
      "('part', 0.00045114546)\n",
      "('evening', 0.00045114412)\n",
      "('gallery', 0.00045112695)\n",
      "('becomes', 0.00045112555)\n",
      "('fisherman', 0.00045110067)\n",
      "('needed', 0.00045109974)\n",
      "('interest', 0.0004510877)\n",
      "('theater', 0.0003510728)\n",
      "('scarf', 0.00035106906)\n",
      "('return', 0.00035106234)\n",
      "('plot', 0.00035105442)\n",
      "('very', 0.00035104842)\n",
      "('appendices', 0.00035104097)\n",
      "('subtle', 0.00035103934)\n",
      "('concepts', 0.00035103917)\n",
      "('despite', 0.00035103902)\n",
      "('void', 0.00035103114)\n",
      "('peace', 0.00035102988)\n",
      "('bridge', 0.0003510285)\n",
      "('sweet', 0.00035102607)\n",
      "('edge', 0.00035102025)\n"
     ]
    }
   ],
   "source": [
    "\n",
    "for i in range(418, 460):\n",
    "    print(l0[i])"
   ]
  },
  {
   "cell_type": "code",
   "execution_count": 85,
   "metadata": {},
   "outputs": [
    {
     "name": "stdout",
     "output_type": "stream",
     "text": [
      "('english', 0.0002659175)\n",
      "('against', 0.00026590808)\n",
      "('known', 0.00026590808)\n",
      "('becomes', 0.00026588884)\n",
      "('based', 0.00026588768)\n",
      "('breasts', 0.0002658864)\n",
      "('gallery', 0.00026588168)\n",
      "('bucharest', 0.00026587278)\n",
      "('blood', 0.00026586137)\n",
      "('till', 0.00026585895)\n",
      "('state', 0.00026584222)\n",
      "('constanta', 0.0002658393)\n",
      "('style', 0.00026583666)\n",
      "('girl', 0.00026583372)\n",
      "('stone', 0.0002658113)\n",
      "('toward', 0.00026580394)\n",
      "('loved', 0.00026580266)\n",
      "('meaning', 0.00026580234)\n",
      "('artists', 0.00026579318)\n",
      "('evening', 0.00026579187)\n",
      "('mist', 0.00026579064)\n",
      "('part', 0.00026578474)\n",
      "('waters', 0.0002657821)\n",
      "('brauner', 0.000265776)\n",
      "('malul', 0.00026576564)\n",
      "('eutychia', 0.0002657644)\n",
      "('marvellous', 0.00026575974)\n",
      "('brought', 0.000265744)\n",
      "('sound', 0.0002657362)\n",
      "('terrible', 0.00026572982)\n",
      "('exiled', 0.00026572254)\n",
      "('alchemical', 0.00026571116)\n",
      "('become', 0.0002657005)\n",
      "('albastru', 0.0002656963)\n",
      "('stand', 0.00026569597)\n",
      "('wells', 0.00026569248)\n",
      "('drunken', 0.00026568625)\n",
      "('lying', 0.0002656811)\n",
      "('past', 0.00026567996)\n",
      "('rhyme', 0.00026567932)\n",
      "('fact', 0.00026567714)\n"
     ]
    }
   ],
   "source": [
    "\n",
    "for i in range(266, 307):\n",
    "    print(l1[i])"
   ]
  },
  {
   "cell_type": "code",
   "execution_count": 86,
   "metadata": {},
   "outputs": [
    {
     "name": "stdout",
     "output_type": "stream",
     "text": [
      "707\n"
     ]
    }
   ],
   "source": [
    "\n",
    "for i in range(3785):\n",
    "    if l0[i][0]== \"food\":\n",
    "            print(i)"
   ]
  },
  {
   "cell_type": "code",
   "execution_count": 87,
   "metadata": {},
   "outputs": [
    {
     "name": "stdout",
     "output_type": "stream",
     "text": [
      "1311\n"
     ]
    }
   ],
   "source": [
    "\n",
    "for i in range(3785):\n",
    "    if l1[i][0]== \"food\":\n",
    "            print(i)"
   ]
  },
  {
   "cell_type": "code",
   "execution_count": 88,
   "metadata": {},
   "outputs": [
    {
     "name": "stdout",
     "output_type": "stream",
     "text": [
      "('symbol', 0.00035086388)\n",
      "('british', 0.0003508634)\n",
      "('bottle', 0.00035086164)\n",
      "('moment', 0.00035085852)\n",
      "('diva', 0.0003508572)\n",
      "('smelled', 0.00035085395)\n",
      "('renaissance', 0.00035085384)\n",
      "('willows', 0.0003508468)\n",
      "('works', 0.00035084572)\n",
      "('enjoying', 0.0003508182)\n",
      "('lygia', 0.00035081457)\n",
      "('descrierea', 0.00035081405)\n",
      "('takes', 0.00035079807)\n",
      "('american', 0.0002507637)\n",
      "('incredible', 0.00025074606)\n",
      "('wheels', 0.00025074455)\n",
      "('bearer', 0.0002507409)\n",
      "('held', 0.00025074056)\n",
      "('favourite', 0.0002507385)\n",
      "('rifle', 0.00025073625)\n",
      "('deeply', 0.00025073488)\n",
      "('food', 0.00025073462)\n",
      "('fast', 0.00025073337)\n",
      "('blanket', 0.00025073238)\n",
      "('migrations', 0.0002507312)\n",
      "('close', 0.00025073107)\n",
      "('edited', 0.0002507301)\n",
      "('wearing', 0.0002507249)\n",
      "('tunes', 0.00025072432)\n",
      "('artistic', 0.0002507243)\n",
      "('whoever', 0.00025072362)\n",
      "('inspiring', 0.00025072202)\n",
      "('terms', 0.00025072176)\n",
      "('whereas', 0.0002507208)\n",
      "('repetition', 0.0002507172)\n",
      "('staid', 0.0002507151)\n",
      "('fruit', 0.00025071492)\n",
      "('approached', 0.00025071454)\n",
      "('notes', 0.00025071396)\n",
      "('rough', 0.00025071367)\n",
      "('couple', 0.00025071355)\n",
      "('grandfather', 0.00025071332)\n",
      "('during', 0.00025071326)\n",
      "('pool', 0.00025071218)\n",
      "('velvet', 0.00025071175)\n",
      "('bearing', 0.00025071163)\n",
      "('insectpoet', 0.00025071134)\n",
      "('gives', 0.00025071017)\n",
      "('covent', 0.00025070948)\n",
      "('birds', 0.00025070825)\n"
     ]
    }
   ],
   "source": [
    "\n",
    "for i in range(686, 736):\n",
    "    print(l0[i])"
   ]
  },
  {
   "cell_type": "code",
   "execution_count": 89,
   "metadata": {},
   "outputs": [
    {
     "name": "stdout",
     "output_type": "stream",
     "text": [
      "('assured', 0.00026377087)\n",
      "('perpetual', 0.000263765)\n",
      "('lively', 0.00026375666)\n",
      "('edited', 0.0002637507)\n",
      "('translatingwriting', 0.0002637501)\n",
      "('dyed', 0.00026374782)\n",
      "('close', 0.00026374563)\n",
      "('migrations', 0.00026374546)\n",
      "('realm', 0.00026374465)\n",
      "('ascet', 0.00026374342)\n",
      "('linen', 0.00026374112)\n",
      "('blanket', 0.00026373914)\n",
      "('king', 0.0002637362)\n",
      "('bone', 0.00026373402)\n",
      "('fast', 0.00026373393)\n",
      "('songs', 0.00026373347)\n",
      "('heine', 0.0002637333)\n",
      "('flares', 0.00026373222)\n",
      "('bounty', 0.00026373018)\n",
      "('tones', 0.00026372992)\n",
      "('cast', 0.00026372873)\n",
      "('flooded', 0.0002637287)\n",
      "('food', 0.0002637273)\n",
      "('contain', 0.0002637268)\n",
      "('deeply', 0.00026372581)\n",
      "('informing', 0.00026372354)\n",
      "('ceremonies', 0.00026372142)\n",
      "('rifle', 0.00026371935)\n",
      "('alchemist', 0.000263719)\n",
      "('schimbarea', 0.00026371705)\n",
      "('smelling', 0.000263717)\n",
      "('foremost', 0.00026371563)\n",
      "('conservation', 0.00026371493)\n",
      "('editing', 0.00026371493)\n",
      "('degas', 0.00026371438)\n",
      "('rustling', 0.00026371362)\n",
      "('deserves', 0.00026371283)\n",
      "('cages', 0.00026371266)\n",
      "('blade', 0.00026371217)\n",
      "('4year', 0.00026370984)\n",
      "('jasmine', 0.00026370978)\n",
      "('chat', 0.0002637087)\n"
     ]
    }
   ],
   "source": [
    "\n",
    "for i in range(1289, 1331):\n",
    "    print(l1[i])"
   ]
  },
  {
   "cell_type": "code",
   "execution_count": 90,
   "metadata": {},
   "outputs": [
    {
     "name": "stdout",
     "output_type": "stream",
     "text": [
      "115\n"
     ]
    }
   ],
   "source": [
    "\n",
    "for i in range(3785):\n",
    "    if l0[i][0]== \"read\":\n",
    "            print(i)"
   ]
  },
  {
   "cell_type": "code",
   "execution_count": 91,
   "metadata": {},
   "outputs": [
    {
     "name": "stdout",
     "output_type": "stream",
     "text": [
      "83\n"
     ]
    }
   ],
   "source": [
    "\n",
    "for i in range(3785):\n",
    "    if l1[i][0]== \"read\":\n",
    "            print(i)"
   ]
  },
  {
   "cell_type": "code",
   "execution_count": 92,
   "metadata": {},
   "outputs": [
    {
     "name": "stdout",
     "output_type": "stream",
     "text": [
      "('place', 0.0010529556)\n",
      "('verses', 0.0010528893)\n",
      "('earth', 0.0010528528)\n",
      "('form', 0.0010528367)\n",
      "('silence', 0.0010526759)\n",
      "('rhythm', 0.0009528642)\n",
      "('always', 0.0009528486)\n",
      "('least', 0.00095284573)\n",
      "('window', 0.00095283013)\n",
      "('keep', 0.0009528049)\n",
      "('lost', 0.00095278886)\n",
      "('worse', 0.0009527521)\n",
      "('hand', 0.00095270935)\n",
      "('different', 0.0009527035)\n",
      "('change', 0.00095268065)\n",
      "('born', 0.00095267536)\n",
      "('waited', 0.0009526636)\n",
      "('beautiful', 0.0009526461)\n",
      "('tree', 0.0009525278)\n",
      "('left', 0.00095251354)\n",
      "('translations', 0.0009525107)\n",
      "('read', 0.0009525102)\n",
      "('coming', 0.00095246214)\n",
      "('athanor', 0.00095243903)\n",
      "('beloved', 0.0008526401)\n",
      "('quiet', 0.00085263466)\n",
      "('once', 0.0008526234)\n",
      "('pillars', 0.00085261767)\n",
      "('someone', 0.0008526091)\n",
      "('tell', 0.00085249037)\n",
      "('making', 0.00085248885)\n",
      "('less', 0.00085248874)\n",
      "('think', 0.00085248245)\n",
      "('grass', 0.0008524459)\n",
      "('problem', 0.0008524448)\n",
      "('glass', 0.00085244013)\n",
      "('same', 0.0008524378)\n",
      "('amores', 0.0008524238)\n",
      "('together', 0.00085241254)\n",
      "('feet', 0.0008523919)\n",
      "('thing', 0.00085235556)\n",
      "('mine', 0.0008523233)\n"
     ]
    }
   ],
   "source": [
    "\n",
    "for i in range(94, 136):\n",
    "    print(l0[i])"
   ]
  },
  {
   "cell_type": "code",
   "execution_count": 93,
   "metadata": {},
   "outputs": [
    {
     "name": "stdout",
     "output_type": "stream",
     "text": [
      "('side', 0.00027153018)\n",
      "('found', 0.00027146054)\n",
      "('might', 0.00027138935)\n",
      "('things', 0.00027132957)\n",
      "('after', 0.00027112634)\n",
      "('sequence', 0.00027107768)\n",
      "('alter', 0.00027100928)\n",
      "('word', 0.00027074935)\n",
      "('before', 0.0002707399)\n",
      "('says', 0.00027062916)\n",
      "('most', 0.00027060544)\n",
      "('ancient', 0.00027056565)\n",
      "('blue', 0.0002705586)\n",
      "('eyes', 0.00027043445)\n",
      "('silence', 0.00027041862)\n",
      "('made', 0.00027034653)\n",
      "('romanian', 0.00027030715)\n",
      "('right', 0.00027020922)\n",
      "('perhaps', 0.0002702087)\n",
      "('later', 0.0002701604)\n",
      "('away', 0.00027006742)\n",
      "('course', 0.00026999714)\n",
      "('good', 0.00026959524)\n",
      "('form', 0.000269577)\n",
      "('athanor', 0.00026954978)\n",
      "('wine', 0.0002695088)\n",
      "('earth', 0.00026948933)\n",
      "('coming', 0.0002694289)\n",
      "('others', 0.00026932464)\n",
      "('plan', 0.00026930892)\n",
      "('verses', 0.00026930167)\n",
      "('read', 0.00026917702)\n",
      "('translations', 0.00026917487)\n",
      "('left', 0.00026916078)\n",
      "('world', 0.0002691376)\n",
      "('tree', 0.0002690837)\n",
      "('head', 0.00026906483)\n",
      "('best', 0.00026905094)\n",
      "('went', 0.00026900566)\n",
      "('grow', 0.00026897786)\n",
      "('five', 0.000268956)\n",
      "('place', 0.00026895374)\n",
      "('everything', 0.00026895298)\n",
      "('come', 0.0002689184)\n",
      "('face', 0.00026881965)\n",
      "('need', 0.0002687301)\n",
      "('second', 0.00026870024)\n",
      "('moon', 0.0002685978)\n",
      "('years', 0.00026853388)\n",
      "('light', 0.00026852114)\n",
      "('beautiful', 0.0002684675)\n"
     ]
    }
   ],
   "source": [
    "\n",
    "for i in range(52, 103):\n",
    "    print(l1[i])"
   ]
  },
  {
   "cell_type": "code",
   "execution_count": 97,
   "metadata": {},
   "outputs": [
    {
     "name": "stdout",
     "output_type": "stream",
     "text": [
      "95\n"
     ]
    }
   ],
   "source": [
    "\n",
    "for i in range(3785):\n",
    "    if l0[i][0]== \"verses\":\n",
    "            print(i)"
   ]
  },
  {
   "cell_type": "code",
   "execution_count": 98,
   "metadata": {},
   "outputs": [
    {
     "name": "stdout",
     "output_type": "stream",
     "text": [
      "82\n"
     ]
    }
   ],
   "source": [
    "for i in range(3785):\n",
    "    if l1[i][0]== \"verses\":\n",
    "            print(i)"
   ]
  },
  {
   "cell_type": "code",
   "execution_count": 100,
   "metadata": {},
   "outputs": [
    {
     "name": "stdout",
     "output_type": "stream",
     "text": [
      "('alter', 0.0012533682)\n",
      "('three', 0.0012531913)\n",
      "('above', 0.001153581)\n",
      "('death', 0.0011534953)\n",
      "('face', 0.0011533841)\n",
      "('plan', 0.0011532906)\n",
      "('wine', 0.0011532522)\n",
      "('later', 0.0011531275)\n",
      "('blue', 0.0011530515)\n",
      "('says', 0.001153038)\n",
      "('side', 0.0011528659)\n",
      "('translation', 0.0010532183)\n",
      "('until', 0.0010532007)\n",
      "('started', 0.001053197)\n",
      "('black', 0.0010530917)\n",
      "('find', 0.0010530588)\n",
      "('light', 0.0010530384)\n",
      "('moon', 0.0010530237)\n",
      "('second', 0.0010530044)\n",
      "('come', 0.0010529625)\n",
      "('everything', 0.0010529559)\n",
      "('place', 0.0010529556)\n",
      "('verses', 0.0010528893)\n",
      "('earth', 0.0010528528)\n",
      "('form', 0.0010528367)\n",
      "('silence', 0.0010526759)\n",
      "('rhythm', 0.0009528642)\n",
      "('always', 0.0009528486)\n",
      "('least', 0.00095284573)\n",
      "('window', 0.00095283013)\n",
      "('keep', 0.0009528049)\n",
      "('lost', 0.00095278886)\n",
      "('worse', 0.0009527521)\n",
      "('hand', 0.00095270935)\n",
      "('different', 0.0009527035)\n",
      "('change', 0.00095268065)\n",
      "('born', 0.00095267536)\n",
      "('waited', 0.0009526636)\n",
      "('beautiful', 0.0009526461)\n",
      "('tree', 0.0009525278)\n",
      "('left', 0.00095251354)\n",
      "('translations', 0.0009525107)\n"
     ]
    }
   ],
   "source": [
    "\n",
    "for i in range(73, 115):\n",
    "    print(l0[i])\n"
   ]
  },
  {
   "cell_type": "code",
   "execution_count": 99,
   "metadata": {},
   "outputs": [
    {
     "name": "stdout",
     "output_type": "stream",
     "text": [
      "('says', 0.00027062916)\n",
      "('most', 0.00027060544)\n",
      "('ancient', 0.00027056565)\n",
      "('blue', 0.0002705586)\n",
      "('eyes', 0.00027043445)\n",
      "('silence', 0.00027041862)\n",
      "('made', 0.00027034653)\n",
      "('romanian', 0.00027030715)\n",
      "('right', 0.00027020922)\n",
      "('perhaps', 0.0002702087)\n",
      "('later', 0.0002701604)\n",
      "('away', 0.00027006742)\n",
      "('course', 0.00026999714)\n",
      "('good', 0.00026959524)\n",
      "('form', 0.000269577)\n",
      "('athanor', 0.00026954978)\n",
      "('wine', 0.0002695088)\n",
      "('earth', 0.00026948933)\n",
      "('coming', 0.0002694289)\n",
      "('others', 0.00026932464)\n",
      "('plan', 0.00026930892)\n",
      "('verses', 0.00026930167)\n",
      "('read', 0.00026917702)\n",
      "('translations', 0.00026917487)\n",
      "('left', 0.00026916078)\n",
      "('world', 0.0002691376)\n",
      "('tree', 0.0002690837)\n",
      "('head', 0.00026906483)\n",
      "('best', 0.00026905094)\n",
      "('went', 0.00026900566)\n",
      "('grow', 0.00026897786)\n",
      "('five', 0.000268956)\n",
      "('place', 0.00026895374)\n",
      "('everything', 0.00026895298)\n",
      "('come', 0.0002689184)\n",
      "('face', 0.00026881965)\n",
      "('need', 0.0002687301)\n",
      "('second', 0.00026870024)\n",
      "('moon', 0.0002685978)\n",
      "('years', 0.00026853388)\n",
      "('light', 0.00026852114)\n",
      "('beautiful', 0.0002684675)\n",
      "('find', 0.00026841537)\n",
      "('waited', 0.00026837582)\n"
     ]
    }
   ],
   "source": [
    "for i in range(61, 105):\n",
    "    print(l1[i])"
   ]
  },
  {
   "cell_type": "code",
   "execution_count": 101,
   "metadata": {},
   "outputs": [
    {
     "name": "stdout",
     "output_type": "stream",
     "text": [
      "3114\n"
     ]
    }
   ],
   "source": [
    "\n",
    "for i in range(3785):\n",
    "    if l0[i][0]== \"garbage\":\n",
    "            print(i)"
   ]
  },
  {
   "cell_type": "code",
   "execution_count": 102,
   "metadata": {},
   "outputs": [
    {
     "name": "stdout",
     "output_type": "stream",
     "text": [
      "1964\n"
     ]
    }
   ],
   "source": [
    "\n",
    "for i in range(3785):\n",
    "    if l1[i][0]== \"garbage\":\n",
    "            print(i)"
   ]
  },
  {
   "cell_type": "code",
   "execution_count": 104,
   "metadata": {},
   "outputs": [
    {
     "name": "stdout",
     "output_type": "stream",
     "text": [
      "('sails', 0.00015036379)\n",
      "('banalities', 0.00015036376)\n",
      "('fountains', 0.00015036372)\n",
      "('embeds', 0.00015036369)\n",
      "('eight', 0.00015036367)\n",
      "('shivering', 0.00015036364)\n",
      "('studio', 0.0001503636)\n",
      "('disposing', 0.00015036359)\n",
      "('london—marlowe', 0.00015036353)\n",
      "('cooked', 0.00015036351)\n",
      "('forgets', 0.00015036348)\n",
      "('refused', 0.00015036348)\n",
      "('messy', 0.00015036346)\n",
      "('presley', 0.00015036346)\n",
      "('orange', 0.00015036346)\n",
      "('square', 0.00015036343)\n",
      "('seat', 0.00015036343)\n",
      "('manes', 0.00015036341)\n",
      "('academic', 0.00015036341)\n",
      "('finest', 0.00015036341)\n",
      "('triple', 0.00015036338)\n",
      "('garbage', 0.00015036337)\n",
      "('circling', 0.00015036335)\n",
      "('secluded', 0.00015036335)\n",
      "('number', 0.00015036335)\n",
      "('cultures', 0.00015036334)\n",
      "('prepared', 0.00015036328)\n",
      "('intimately', 0.00015036327)\n",
      "('wobbling', 0.00015036324)\n",
      "('warner', 0.00015036324)\n",
      "('current', 0.00015036322)\n",
      "('reef', 0.00015036316)\n",
      "('couplet', 0.00015036316)\n",
      "('keys—the', 0.00015036316)\n",
      "('grape', 0.00015036315)\n",
      "('postcards', 0.00015036309)\n",
      "('pietre', 0.00015036308)\n",
      "('selling', 0.00015036308)\n",
      "('burns', 0.00015036308)\n",
      "('dislocations—not', 0.00015036305)\n",
      "('chairs', 0.00015036302)\n",
      "('saucy', 0.000150363)\n",
      "('clues', 0.00015036295)\n"
     ]
    }
   ],
   "source": [
    "\n",
    "for i in range(3093, 3136):\n",
    "    print(l0[i])"
   ]
  },
  {
   "cell_type": "code",
   "execution_count": 103,
   "metadata": {},
   "outputs": [
    {
     "name": "stdout",
     "output_type": "stream",
     "text": [
      "('neutral', 0.00026357995)\n",
      "('clues', 0.00026357986)\n",
      "('saucy', 0.00026357966)\n",
      "('chairs', 0.0002635794)\n",
      "('selling', 0.00026357928)\n",
      "('pietre', 0.00026357916)\n",
      "('burns', 0.0002635791)\n",
      "('postcards', 0.0002635791)\n",
      "('dislocations—not', 0.000263579)\n",
      "('keys—the', 0.0002635788)\n",
      "('grape', 0.0002635788)\n",
      "('reef', 0.00026357875)\n",
      "('couplet', 0.0002635786)\n",
      "('current', 0.00026357843)\n",
      "('warner', 0.0002635783)\n",
      "('wobbling', 0.0002635782)\n",
      "('intimately', 0.00026357817)\n",
      "('prepared', 0.0002635779)\n",
      "('cultures', 0.00026357788)\n",
      "('secluded', 0.0002635778)\n",
      "('circling', 0.00026357776)\n",
      "('garbage', 0.00026357762)\n",
      "('number', 0.00026357747)\n",
      "('manes', 0.00026357747)\n",
      "('triple', 0.00026357747)\n",
      "('finest', 0.0002635774)\n",
      "('seat', 0.00026357727)\n",
      "('messy', 0.00026357727)\n",
      "('presley', 0.00026357727)\n",
      "('orange', 0.0002635772)\n",
      "('square', 0.00026357718)\n",
      "('academic', 0.00026357715)\n",
      "('london—marlowe', 0.00026357707)\n",
      "('refused', 0.000263577)\n",
      "('forgets', 0.00026357695)\n",
      "('cooked', 0.00026357686)\n",
      "('studio', 0.0002635765)\n",
      "('disposing', 0.00026357642)\n",
      "('shivering', 0.00026357628)\n",
      "('american', 0.0002635762)\n",
      "('eight', 0.0002635761)\n",
      "('embeds', 0.00026357608)\n"
     ]
    }
   ],
   "source": [
    "\n",
    "for i in range(1943, 1985):\n",
    "    print(l1[i])"
   ]
  },
  {
   "cell_type": "code",
   "execution_count": 105,
   "metadata": {},
   "outputs": [
    {
     "name": "stdout",
     "output_type": "stream",
     "text": [
      "2893\n"
     ]
    }
   ],
   "source": [
    "\n",
    "for i in range(3785):\n",
    "    if l0[i][0]== \"fruition\":\n",
    "            print(i)"
   ]
  },
  {
   "cell_type": "code",
   "execution_count": 106,
   "metadata": {},
   "outputs": [
    {
     "name": "stdout",
     "output_type": "stream",
     "text": [
      "2186\n"
     ]
    }
   ],
   "source": [
    "\n",
    "for i in range(3785):\n",
    "    if l1[i][0]== \"fruition\":\n",
    "            print(i)"
   ]
  },
  {
   "cell_type": "code",
   "execution_count": 107,
   "metadata": {},
   "outputs": [
    {
     "name": "stdout",
     "output_type": "stream",
     "text": [
      "('motorbike', 0.00015036788)\n",
      "('communicate', 0.00015036786)\n",
      "('20th', 0.0001503678)\n",
      "('tension', 0.00015036779)\n",
      "('swear', 0.00015036779)\n",
      "('reworking', 0.00015036775)\n",
      "('college', 0.00015036773)\n",
      "('fluidity', 0.0001503677)\n",
      "('relation', 0.00015036769)\n",
      "('notably', 0.00015036769)\n",
      "('staring', 0.00015036769)\n",
      "('continuously', 0.00015036766)\n",
      "('discurs', 0.00015036766)\n",
      "('creaked', 0.00015036766)\n",
      "('vague', 0.00015036763)\n",
      "('password', 0.00015036754)\n",
      "('finale', 0.0001503675)\n",
      "('extinct', 0.00015036747)\n",
      "('bores', 0.00015036747)\n",
      "('received', 0.00015036746)\n",
      "('pohem', 0.00015036746)\n",
      "('affray', 0.00015036741)\n",
      "('fruition', 0.00015036738)\n",
      "('adventurous', 0.00015036736)\n",
      "('inducing', 0.00015036736)\n",
      "('shrouds', 0.00015036736)\n",
      "('supervisor', 0.00015036736)\n",
      "('heyday—ruins', 0.00015036733)\n",
      "('dispute', 0.00015036733)\n",
      "('represents', 0.00015036731)\n",
      "('feel—and', 0.00015036731)\n",
      "('obviously', 0.00015036731)\n",
      "('tells', 0.00015036728)\n",
      "('careless', 0.00015036728)\n",
      "('salute', 0.00015036725)\n"
     ]
    }
   ],
   "source": [
    "\n",
    "for i in range(2871, 2906):\n",
    "    print(l0[i])"
   ]
  },
  {
   "cell_type": "code",
   "execution_count": 108,
   "metadata": {},
   "outputs": [
    {
     "name": "stdout",
     "output_type": "stream",
     "text": [
      "('xxxiv', 0.00026355838)\n",
      "('send', 0.00026355832)\n",
      "('erudition', 0.0002635582)\n",
      "('xlii', 0.0002635582)\n",
      "('decrease', 0.00026355791)\n",
      "('rows', 0.00026355783)\n",
      "('traveler', 0.00026355774)\n",
      "('sarane', 0.0002635577)\n",
      "('shallows', 0.00026355768)\n",
      "('code', 0.00026355768)\n",
      "('crossed', 0.0002635576)\n",
      "('salute', 0.00026355754)\n",
      "('cycle', 0.0002635575)\n",
      "('feel—and', 0.00026355725)\n",
      "('careless', 0.0002635572)\n",
      "('represents', 0.00026355716)\n",
      "('obviously', 0.00026355713)\n",
      "('dispute', 0.0002635571)\n",
      "('inducing', 0.00026355704)\n",
      "('tells', 0.000263557)\n",
      "('adventurous', 0.00026355698)\n",
      "('supervisor', 0.00026355698)\n",
      "('heyday—ruins', 0.00026355695)\n",
      "('fruition', 0.00026355675)\n",
      "('affray', 0.0002635567)\n",
      "('shrouds', 0.0002635567)\n",
      "('pohem', 0.00026355663)\n",
      "('received', 0.0002635564)\n",
      "('bores', 0.0002635564)\n",
      "('extinct', 0.00026355634)\n",
      "('finale', 0.00026355614)\n",
      "('password', 0.0002635559)\n",
      "('vague', 0.00026355564)\n",
      "('creaked', 0.0002635553)\n",
      "('discurs', 0.0002635553)\n",
      "('notably', 0.0002635553)\n",
      "('staring', 0.0002635553)\n",
      "('continuously', 0.00026355524)\n",
      "('relation', 0.0002635552)\n",
      "('fluidity', 0.00026355495)\n",
      "('reworking', 0.00026355492)\n",
      "('college', 0.0002635549)\n",
      "('tension', 0.0002635548)\n",
      "('20th', 0.00026355468)\n",
      "('communicate', 0.0002635545)\n",
      "('swear', 0.00026355448)\n",
      "('motorbike', 0.0002635543)\n"
     ]
    }
   ],
   "source": [
    "\n",
    "for i in range(2163, 2210):\n",
    "    print(l1[i])"
   ]
  },
  {
   "cell_type": "code",
   "execution_count": 109,
   "metadata": {},
   "outputs": [
    {
     "name": "stdout",
     "output_type": "stream",
     "text": [
      "3471\n"
     ]
    }
   ],
   "source": [
    "\n",
    "for i in range(3785):\n",
    "    if l0[i][0]== \"disruptions\":\n",
    "            print(i)"
   ]
  },
  {
   "cell_type": "code",
   "execution_count": 110,
   "metadata": {},
   "outputs": [
    {
     "name": "stdout",
     "output_type": "stream",
     "text": [
      "1608\n"
     ]
    }
   ],
   "source": [
    "\n",
    "for i in range(3785):\n",
    "    if l1[i][0]== \"disruptions\":\n",
    "            print(i)"
   ]
  },
  {
   "cell_type": "code",
   "execution_count": 111,
   "metadata": {},
   "outputs": [
    {
     "name": "stdout",
     "output_type": "stream",
     "text": [
      "('mid1930s', 0.00015035542)\n",
      "('work—poetry', 0.00015035536)\n",
      "('alley', 0.00015035532)\n",
      "('divergent', 0.00015035529)\n",
      "('doglike', 0.00015035529)\n",
      "('differentiating', 0.00015035529)\n",
      "('sources', 0.00015035522)\n",
      "('wounds', 0.00015035515)\n",
      "('peril', 0.00015035512)\n",
      "('complexities', 0.00015035512)\n",
      "('laundry', 0.00015035506)\n",
      "('result', 0.00015035504)\n",
      "('goals', 0.000150355)\n",
      "('light—', 0.000150355)\n",
      "('bolero', 0.00015035497)\n",
      "('climate', 0.00015035496)\n",
      "('secretă', 0.0001503549)\n",
      "('uses', 0.0001503549)\n",
      "('occluded', 0.00015035488)\n",
      "('sang', 0.00015035486)\n",
      "('settled', 0.00015035483)\n",
      "('disruptions', 0.00015035481)\n",
      "('impotence', 0.00015035478)\n",
      "('deserve', 0.00015035478)\n",
      "('perished', 0.00015035478)\n",
      "('found—and', 0.00015035475)\n",
      "('infinitely', 0.00015035472)\n",
      "('funded', 0.00015035465)\n",
      "('popescu', 0.00015035464)\n",
      "('disposed', 0.0001503545)\n",
      "('occasion—when', 0.00015035446)\n",
      "('complications', 0.00015035443)\n",
      "('italy—', 0.00015035443)\n",
      "('rescue—an', 0.00015035442)\n",
      "('rhyming', 0.0001503544)\n",
      "('seducing', 0.00015035438)\n",
      "('dwellers', 0.00015035438)\n",
      "('gazes', 0.00015035436)\n",
      "('amulets', 0.00015035435)\n",
      "('versions', 0.00015035432)\n",
      "('striking', 0.00015035432)\n"
     ]
    }
   ],
   "source": [
    "\n",
    "for i in range(3450, 3491):\n",
    "    print(l0[i])"
   ]
  },
  {
   "cell_type": "code",
   "execution_count": 112,
   "metadata": {},
   "outputs": [
    {
     "name": "stdout",
     "output_type": "stream",
     "text": [
      "('revisioned', 0.00026362488)\n",
      "('versions', 0.00026362465)\n",
      "('striking', 0.0002636246)\n",
      "('gazes', 0.00026362445)\n",
      "('dwellers', 0.0002636242)\n",
      "('amulets', 0.0002636242)\n",
      "('seducing', 0.00026362418)\n",
      "('rhyming', 0.00026362416)\n",
      "('rescue—an', 0.00026362416)\n",
      "('italy—', 0.00026362413)\n",
      "('complications', 0.000263624)\n",
      "('occasion—when', 0.00026362372)\n",
      "('disposed', 0.00026362334)\n",
      "('popescu', 0.0002636229)\n",
      "('funded', 0.00026362285)\n",
      "('infinitely', 0.00026362255)\n",
      "('found—and', 0.00026362235)\n",
      "('impotence', 0.0002636222)\n",
      "('perished', 0.00026362218)\n",
      "('deserve', 0.00026362215)\n",
      "('disruptions', 0.00026362203)\n",
      "('settled', 0.00026362194)\n",
      "('sang', 0.0002636218)\n",
      "('occluded', 0.00026362165)\n",
      "('secretă', 0.00026362156)\n",
      "('uses', 0.00026362154)\n",
      "('climate', 0.00026362127)\n",
      "('bolero', 0.00026362124)\n",
      "('goals', 0.0002636211)\n",
      "('result', 0.00026362107)\n",
      "('laundry', 0.00026362078)\n",
      "('light—', 0.00026362075)\n",
      "('peril', 0.00026362043)\n",
      "('complexities', 0.0002636202)\n",
      "('wounds', 0.00026362017)\n",
      "('sources', 0.00026362008)\n",
      "('differentiating', 0.00026361961)\n",
      "('divergent', 0.00026361956)\n",
      "('doglike', 0.00026361938)\n",
      "('alley', 0.00026361932)\n",
      "('work—poetry', 0.00026361924)\n",
      "('mid1930s', 0.0002636189)\n"
     ]
    }
   ],
   "source": [
    "\n",
    "for i in range(1588, 1630):\n",
    "    print(l1[i])"
   ]
  },
  {
   "cell_type": "code",
   "execution_count": 113,
   "metadata": {},
   "outputs": [
    {
     "name": "stdout",
     "output_type": "stream",
     "text": [
      "2462\n"
     ]
    }
   ],
   "source": [
    "\n",
    "for i in range(3785):\n",
    "    if l0[i][0]== \"etymology\":\n",
    "            print(i)"
   ]
  },
  {
   "cell_type": "code",
   "execution_count": 114,
   "metadata": {},
   "outputs": [
    {
     "name": "stdout",
     "output_type": "stream",
     "text": [
      "2624\n"
     ]
    }
   ],
   "source": [
    "\n",
    "for i in range(3785):\n",
    "    if l1[i][0]== \"etymology\":\n",
    "            print(i)"
   ]
  },
  {
   "cell_type": "code",
   "execution_count": 117,
   "metadata": {},
   "outputs": [
    {
     "name": "stdout",
     "output_type": "stream",
     "text": [
      "('mumble', 0.0001503749)\n",
      "('persistently', 0.0001503748)\n",
      "('centred', 0.00015037479)\n",
      "('mixing', 0.00015037476)\n",
      "('reminiscent', 0.00015037476)\n",
      "('extended', 0.00015037475)\n",
      "('weather', 0.00015037473)\n",
      "('solution', 0.0001503747)\n",
      "('grate', 0.00015037468)\n",
      "('minor—', 0.00015037463)\n",
      "('many—even', 0.00015037463)\n",
      "('adapt', 0.00015037463)\n",
      "('rambling', 0.00015037459)\n",
      "('dancers', 0.00015037452)\n",
      "('fragmentation', 0.0001503745)\n",
      "('picture', 0.0001503745)\n",
      "('practice', 0.0001503745)\n",
      "('acknowledgement', 0.00015037449)\n",
      "('deaf', 0.00015037449)\n",
      "('greatest', 0.00015037447)\n",
      "('etymology', 0.00015037447)\n",
      "('curtains', 0.00015037444)\n",
      "('extinguished', 0.00015037443)\n",
      "('surely', 0.00015037443)\n",
      "('fallen', 0.00015037438)\n",
      "('huge', 0.00015037436)\n",
      "('smokes', 0.00015037434)\n",
      "('sevenbeat', 0.00015037434)\n",
      "('warriors', 0.00015037433)\n",
      "('intently', 0.00015037425)\n",
      "('understand', 0.00015037425)\n",
      "('gusto', 0.00015037425)\n",
      "('focusing', 0.00015037425)\n",
      "('ranks', 0.00015037425)\n",
      "('miss', 0.00015037425)\n",
      "('studied', 0.00015037422)\n",
      "('borsht', 0.00015037422)\n",
      "('xxxviii', 0.00015037421)\n",
      "('accepted', 0.00015037418)\n",
      "('sinking', 0.00015037415)\n",
      "('prizes', 0.00015037414)\n"
     ]
    }
   ],
   "source": [
    "\n",
    "for i in range(2442, 2483):\n",
    "    print(l0[i])"
   ]
  },
  {
   "cell_type": "code",
   "execution_count": 118,
   "metadata": {},
   "outputs": [
    {
     "name": "stdout",
     "output_type": "stream",
     "text": [
      "('understand', 0.0002635213)\n",
      "('intently', 0.00026352127)\n",
      "('ranks', 0.00026352124)\n",
      "('borsht', 0.00026352124)\n",
      "('miss', 0.00026352107)\n",
      "('focusing', 0.00026352104)\n",
      "('gusto', 0.00026352095)\n",
      "('warriors', 0.00026352087)\n",
      "('sevenbeat', 0.00026352084)\n",
      "('smokes', 0.00026352075)\n",
      "('huge', 0.00026352057)\n",
      "('fallen', 0.00026352055)\n",
      "('surely', 0.00026352017)\n",
      "('curtains', 0.00026352008)\n",
      "('greatest', 0.00026352002)\n",
      "('deaf', 0.00026351996)\n",
      "('extinguished', 0.00026351993)\n",
      "('practice', 0.00026351993)\n",
      "('acknowledgement', 0.00026351993)\n",
      "('fragmentation', 0.00026351988)\n",
      "('picture', 0.00026351985)\n",
      "('etymology', 0.00026351982)\n",
      "('dancers', 0.00026351973)\n",
      "('rambling', 0.0002635193)\n",
      "('minor—', 0.00026351915)\n",
      "('adapt', 0.000263519)\n",
      "('many—even', 0.00026351894)\n",
      "('grate', 0.0002635189)\n",
      "('solution', 0.00026351874)\n",
      "('weather', 0.00026351865)\n",
      "('mixing', 0.00026351857)\n",
      "('extended', 0.00026351854)\n",
      "('centred', 0.00026351848)\n",
      "('reminiscent', 0.00026351822)\n",
      "('persistently', 0.0002635182)\n",
      "('mumble', 0.0002635178)\n",
      "('lurking', 0.0002635177)\n",
      "('bigger', 0.0002635176)\n",
      "('lacquer', 0.00026351752)\n",
      "('catch', 0.00026351746)\n",
      "('block', 0.00026351743)\n",
      "('wondering', 0.00026351726)\n",
      "('siblings', 0.00026351717)\n",
      "('envisage', 0.000263517)\n",
      "('reclaiming', 0.000263517)\n",
      "('singing', 0.00026351694)\n",
      "('shells', 0.00026351685)\n",
      "('foxwitches', 0.00026351682)\n",
      "('swotting', 0.0002635168)\n",
      "('nail', 0.00026351676)\n",
      "('build', 0.00026351676)\n",
      "('xxxiii', 0.00026351667)\n",
      "('career', 0.00026351656)\n",
      "('xxxvii', 0.00026351656)\n",
      "('ramblings', 0.0002635165)\n",
      "('groundbreaking', 0.00026351638)\n",
      "('primary', 0.00026351635)\n",
      "('date', 0.0002635163)\n",
      "('schwitters', 0.00026351618)\n",
      "('terrestrialization', 0.00026351606)\n",
      "('francis', 0.000263516)\n"
     ]
    }
   ],
   "source": [
    "\n",
    "for i in range(2603, 2664):\n",
    "    print(l1[i])"
   ]
  },
  {
   "cell_type": "code",
   "execution_count": 119,
   "metadata": {},
   "outputs": [
    {
     "name": "stdout",
     "output_type": "stream",
     "text": [
      "2651\n"
     ]
    }
   ],
   "source": [
    "\n",
    "for i in range(3785):\n",
    "    if l0[i][0]== \"locus\":\n",
    "            print(i)"
   ]
  },
  {
   "cell_type": "code",
   "execution_count": 121,
   "metadata": {},
   "outputs": [
    {
     "name": "stdout",
     "output_type": "stream",
     "text": [
      "2429\n"
     ]
    }
   ],
   "source": [
    "\n",
    "for i in range(3785):\n",
    "    if l1[i][0]== \"locus\":\n",
    "            print(i)"
   ]
  },
  {
   "cell_type": "code",
   "execution_count": 123,
   "metadata": {},
   "outputs": [
    {
     "name": "stdout",
     "output_type": "stream",
     "text": [
      "('shrubs', 0.00015037185)\n",
      "('bypassing', 0.00015037184)\n",
      "('wallachian', 0.00015037184)\n",
      "('anticipating', 0.00015037181)\n",
      "('collector', 0.00015037181)\n",
      "('shifted', 0.00015037181)\n",
      "('struggles', 0.00015037176)\n",
      "('blunt', 0.00015037175)\n",
      "('labyrinth', 0.00015037174)\n",
      "('ordered', 0.00015037174)\n",
      "('pilgrimage', 0.00015037172)\n",
      "('tireless', 0.00015037172)\n",
      "('democracy', 0.00015037172)\n",
      "('reunited', 0.0001503717)\n",
      "('postcard', 0.0001503717)\n",
      "('enforced', 0.0001503717)\n",
      "('backing', 0.00015037165)\n",
      "('influenced', 0.00015037165)\n",
      "('—protagonists', 0.00015037159)\n",
      "('woes', 0.00015037156)\n",
      "('destructive', 0.00015037153)\n",
      "('locus', 0.0001503715)\n",
      "('xxxii', 0.00015037137)\n",
      "('thrown', 0.00015037137)\n",
      "('elena', 0.00015037134)\n",
      "('categorical', 0.00015037133)\n",
      "('knock', 0.00015037133)\n",
      "('arranged', 0.0001503713)\n",
      "('indecent', 0.00015037126)\n",
      "('pohetry', 0.00015037121)\n",
      "('dahlias', 0.0001503712)\n",
      "('audience', 0.00015037118)\n",
      "('retreat', 0.00015037117)\n",
      "('incontinence', 0.00015037117)\n",
      "('worked', 0.0001503711)\n",
      "('developing', 0.00015037107)\n",
      "('balance', 0.00015037102)\n",
      "('timpul', 0.00015037098)\n",
      "('unhumorous', 0.00015037096)\n",
      "('brazen', 0.00015037096)\n",
      "('calling', 0.0001503709)\n",
      "('discerned', 0.0001503709)\n",
      "('lord', 0.00015037089)\n"
     ]
    }
   ],
   "source": [
    "\n",
    "for i in range(2630, 2673):\n",
    "    print(l0[i])"
   ]
  },
  {
   "cell_type": "code",
   "execution_count": 122,
   "metadata": {},
   "outputs": [
    {
     "name": "stdout",
     "output_type": "stream",
     "text": [
      "('discerned', 0.0002635386)\n",
      "('lord', 0.0002635385)\n",
      "('calling', 0.00026353847)\n",
      "('brazen', 0.00026353827)\n",
      "('timpul', 0.00026353824)\n",
      "('unhumorous', 0.00026353824)\n",
      "('balance', 0.00026353795)\n",
      "('developing', 0.0002635376)\n",
      "('worked', 0.00026353748)\n",
      "('incontinence', 0.00026353722)\n",
      "('retreat', 0.00026353716)\n",
      "('dahlias', 0.00026353713)\n",
      "('pohetry', 0.00026353705)\n",
      "('audience', 0.00026353693)\n",
      "('indecent', 0.00026353658)\n",
      "('arranged', 0.00026353652)\n",
      "('thrown', 0.00026353635)\n",
      "('elena', 0.00026353626)\n",
      "('knock', 0.00026353623)\n",
      "('categorical', 0.0002635362)\n",
      "('xxxii', 0.00026353612)\n",
      "('locus', 0.00026353533)\n",
      "('woes', 0.0002635351)\n",
      "('destructive', 0.0002635351)\n",
      "('—protagonists', 0.000263535)\n",
      "('backing', 0.0002635347)\n",
      "('reunited', 0.00026353446)\n",
      "('influenced', 0.00026353443)\n",
      "('tireless', 0.0002635344)\n",
      "('democracy', 0.00026353437)\n",
      "('pilgrimage', 0.0002635342)\n",
      "('enforced', 0.0002635342)\n",
      "('blunt', 0.00026353414)\n",
      "('postcard', 0.00026353414)\n",
      "('labyrinth', 0.00026353405)\n",
      "('ordered', 0.00026353405)\n",
      "('struggles', 0.000263534)\n",
      "('bypassing', 0.00026353382)\n",
      "('anticipating', 0.00026353382)\n",
      "('collector', 0.0002635338)\n",
      "('shifted', 0.00026353376)\n"
     ]
    }
   ],
   "source": [
    "\n",
    "for i in range(2408, 2449):\n",
    "    print(l1[i])"
   ]
  },
  {
   "cell_type": "code",
   "execution_count": 124,
   "metadata": {},
   "outputs": [
    {
     "name": "stdout",
     "output_type": "stream",
     "text": [
      "835\n"
     ]
    }
   ],
   "source": [
    "\n",
    "for i in range(3785):\n",
    "    if l0[i][0]== \"wild\":\n",
    "            print(i)"
   ]
  },
  {
   "cell_type": "code",
   "execution_count": 125,
   "metadata": {},
   "outputs": [
    {
     "name": "stdout",
     "output_type": "stream",
     "text": [
      "1159\n"
     ]
    }
   ],
   "source": [
    "\n",
    "for i in range(3785):\n",
    "    if l1[i][0]== \"wild\":\n",
    "            print(i)"
   ]
  },
  {
   "cell_type": "code",
   "execution_count": 127,
   "metadata": {},
   "outputs": [
    {
     "name": "stdout",
     "output_type": "stream",
     "text": [
      "('feathers', 0.0002506887)\n",
      "('vision', 0.0002506886)\n",
      "('heavy', 0.0002506881)\n",
      "('empty', 0.00025068765)\n",
      "('cause', 0.0002506876)\n",
      "('fell', 0.00025068715)\n",
      "('established', 0.0002506871)\n",
      "('drumming', 0.00025068692)\n",
      "('worms', 0.00025068666)\n",
      "('lives', 0.00025068654)\n",
      "('walked', 0.00025068645)\n",
      "('intentions', 0.00025068625)\n",
      "('marriage', 0.00025068622)\n",
      "('whose', 0.00025068616)\n",
      "('ready', 0.0002506857)\n",
      "('prahova', 0.0002506857)\n",
      "('depths', 0.00025068535)\n",
      "('hard', 0.0002506852)\n",
      "('instead', 0.0002506851)\n",
      "('tales', 0.00025068497)\n",
      "('tied', 0.0002506849)\n",
      "('wild', 0.00025068462)\n",
      "('killed', 0.00025068436)\n",
      "('kitchen', 0.0002506842)\n",
      "('throw', 0.00025068413)\n",
      "('whatever', 0.000250684)\n",
      "('pure', 0.00025068357)\n",
      "('placed', 0.0002506834)\n",
      "('school', 0.00025068317)\n",
      "('minutes', 0.00025068302)\n",
      "('casting', 0.00025068296)\n",
      "('called', 0.0002506829)\n",
      "('unnamed', 0.0002506828)\n",
      "('guitar', 0.00025068264)\n",
      "('quickly', 0.0002506822)\n",
      "('fresh', 0.00025068206)\n",
      "('breast', 0.00025068191)\n",
      "('nature', 0.0002506818)\n",
      "('painter', 0.00025068157)\n",
      "('names', 0.0002506815)\n",
      "('translators', 0.00025068142)\n",
      "('watching', 0.0002506813)\n",
      "('continuing', 0.000250681)\n",
      "('nadine', 0.00025068095)\n",
      "('generations', 0.00025068087)\n",
      "('departures', 0.0002506808)\n",
      "('panthers', 0.0002506808)\n",
      "('spectacular', 0.00025068075)\n",
      "('magic', 0.00025068066)\n",
      "('ditches', 0.00025068066)\n",
      "('everyday', 0.00025068055)\n",
      "('2000', 0.0002506803)\n"
     ]
    }
   ],
   "source": [
    "\n",
    "for i in range(814, 866):\n",
    "    print(l0[i])"
   ]
  },
  {
   "cell_type": "code",
   "execution_count": 126,
   "metadata": {},
   "outputs": [
    {
     "name": "stdout",
     "output_type": "stream",
     "text": [
      "('generations', 0.00026400774)\n",
      "('nadine', 0.00026400696)\n",
      "('continuing', 0.0002640067)\n",
      "('watching', 0.00026400542)\n",
      "('names', 0.0002640048)\n",
      "('translators', 0.00026400472)\n",
      "('painter', 0.00026400373)\n",
      "('nature', 0.0002640027)\n",
      "('breast', 0.00026400236)\n",
      "('fresh', 0.00026400163)\n",
      "('quickly', 0.00026400082)\n",
      "('guitar', 0.00026399863)\n",
      "('unnamed', 0.00026399785)\n",
      "('called', 0.00026399703)\n",
      "('casting', 0.00026399648)\n",
      "('minutes', 0.00026399633)\n",
      "('school', 0.00026399546)\n",
      "('placed', 0.00026399447)\n",
      "('pure', 0.0002639936)\n",
      "('whatever', 0.0002639916)\n",
      "('throw', 0.0002639909)\n",
      "('kitchen', 0.00026399043)\n",
      "('killed', 0.0002639896)\n",
      "('wild', 0.00026398836)\n",
      "('tied', 0.00026398676)\n",
      "('tales', 0.0002639862)\n",
      "('instead', 0.00026398592)\n",
      "('hard', 0.00026398478)\n",
      "('depths', 0.00026398446)\n",
      "('prahova', 0.00026398257)\n",
      "('ready', 0.00026398257)\n",
      "('whose', 0.00026397992)\n",
      "('marriage', 0.0002639799)\n",
      "('intentions', 0.00026397957)\n",
      "('walked', 0.00026397835)\n",
      "('lives', 0.0002639782)\n",
      "('worms', 0.00026397733)\n",
      "('drumming', 0.00026397602)\n",
      "('established', 0.00026397523)\n",
      "('fell', 0.00026397465)\n",
      "('cause', 0.00026397276)\n",
      "('empty', 0.00026397238)\n",
      "('heavy', 0.00026397003)\n"
     ]
    }
   ],
   "source": [
    "\n",
    "for i in range(1136, 1179):\n",
    "    print(l1[i])"
   ]
  },
  {
   "cell_type": "code",
   "execution_count": 128,
   "metadata": {},
   "outputs": [
    {
     "name": "stdout",
     "output_type": "stream",
     "text": [
      "1\n"
     ]
    }
   ],
   "source": [
    "\n",
    "for i in range(3785):\n",
    "    if l0[i][0]== \"poet\":\n",
    "            print(i)"
   ]
  },
  {
   "cell_type": "code",
   "execution_count": 129,
   "metadata": {},
   "outputs": [
    {
     "name": "stdout",
     "output_type": "stream",
     "text": [
      "1\n"
     ]
    }
   ],
   "source": [
    "\n",
    "for i in range(3785):\n",
    "    if l1[i][0]== \"poet\":\n",
    "            print(i)"
   ]
  },
  {
   "cell_type": "code",
   "execution_count": 130,
   "metadata": {},
   "outputs": [
    {
     "name": "stdout",
     "output_type": "stream",
     "text": [
      "('verse', 0.005966314)\n",
      "('poet', 0.005565974)\n",
      "('ovid', 0.0049642525)\n",
      "('when', 0.004664056)\n",
      "('other', 0.004160677)\n",
      "('time', 0.0039610923)\n",
      "('poem', 0.0035603365)\n",
      "('work', 0.003258356)\n",
      "('know', 0.0029588894)\n",
      "('write', 0.0026574135)\n",
      "('poets', 0.0025569715)\n",
      "('naum', 0.0025567992)\n",
      "('said', 0.002456694)\n",
      "('poetry', 0.002356873)\n",
      "('long', 0.0022569722)\n",
      "('where', 0.0022569187)\n",
      "('still', 0.0022564116)\n",
      "('better', 0.0022562025)\n",
      "('lines', 0.00215656)\n",
      "('marlowe', 0.0021565487)\n",
      "('writing', 0.0021560013)\n",
      "('down', 0.0020562706)\n",
      "('night', 0.0020560983)\n",
      "('half', 0.0020560639)\n",
      "('full', 0.002055618)\n",
      "('over', 0.0019557113)\n",
      "('every', 0.0019556393)\n",
      "('both', 0.0019554493)\n",
      "('thought', 0.0019554475)\n",
      "('under', 0.0019552922)\n",
      "('dryden', 0.0019552046)\n",
      "('life', 0.0018550719)\n",
      "('line', 0.001855044)\n",
      "('words', 0.0018550262)\n",
      "('between', 0.0018550013)\n",
      "('sequence', 0.0017553684)\n",
      "('things', 0.0017553205)\n",
      "('might', 0.0017553084)\n",
      "('make', 0.0017551153)\n",
      "('right', 0.0016551316)\n",
      "('before', 0.0016550309)\n"
     ]
    }
   ],
   "source": [
    "\n",
    "for i in range(41):\n",
    "    print(l0[i])"
   ]
  },
  {
   "cell_type": "code",
   "execution_count": 131,
   "metadata": {},
   "outputs": [
    {
     "name": "stdout",
     "output_type": "stream",
     "text": [
      "('verse', 0.00030230705)\n",
      "('poet', 0.00029564928)\n",
      "('other', 0.0002938704)\n",
      "('ovid', 0.00029200802)\n",
      "('time', 0.0002874832)\n",
      "('work', 0.00028705088)\n",
      "('when', 0.0002867225)\n",
      "('poem', 0.00028300693)\n",
      "('naum', 0.00028044012)\n",
      "('poets', 0.00027954704)\n",
      "('write', 0.00027933918)\n",
      "('said', 0.0002788923)\n",
      "('know', 0.00027794047)\n",
      "('better', 0.0002772503)\n",
      "('writing', 0.0002761919)\n",
      "('still', 0.00027615283)\n",
      "('dryden', 0.00027614806)\n",
      "('full', 0.00027609136)\n",
      "('poetry', 0.0002758482)\n",
      "('under', 0.00027568787)\n",
      "('between', 0.0002751058)\n",
      "('love', 0.00027499296)\n",
      "('words', 0.00027497308)\n",
      "('line', 0.00027487817)\n",
      "('thought', 0.00027487686)\n",
      "('both', 0.00027487017)\n",
      "('life', 0.00027473958)\n",
      "('every', 0.00027387086)\n",
      "('half', 0.0002737533)\n",
      "('night', 0.00027358005)\n",
      "('where', 0.00027349978)\n",
      "('over', 0.0002734988)\n",
      "('marlowe', 0.00027333092)\n",
      "('never', 0.0002733227)\n",
      "('lines', 0.00027327114)\n",
      "('long', 0.00027321812)\n",
      "('only', 0.0002731033)\n",
      "('water', 0.00027283418)\n",
      "('down', 0.00027267676)\n",
      "('each', 0.00027265097)\n",
      "('something', 0.00027254774)\n"
     ]
    }
   ],
   "source": [
    "\n",
    "for i in range(41):\n",
    "    print(l1[i])"
   ]
  },
  {
   "cell_type": "code",
   "execution_count": 132,
   "metadata": {},
   "outputs": [
    {
     "name": "stdout",
     "output_type": "stream",
     "text": [
      "876\n"
     ]
    }
   ],
   "source": [
    "\n",
    "for i in range(3785):\n",
    "    if l0[i][0]== \"freedom\":\n",
    "            print(i)"
   ]
  },
  {
   "cell_type": "code",
   "execution_count": 133,
   "metadata": {},
   "outputs": [
    {
     "name": "stdout",
     "output_type": "stream",
     "text": [
      "1118\n"
     ]
    }
   ],
   "source": [
    "\n",
    "for i in range(3785):\n",
    "    if l1[i][0]== \"freedom\":\n",
    "            print(i)"
   ]
  },
  {
   "cell_type": "code",
   "execution_count": 135,
   "metadata": {},
   "outputs": [
    {
     "name": "stdout",
     "output_type": "stream",
     "text": [
      "('watching', 0.0002506813)\n",
      "('continuing', 0.000250681)\n",
      "('nadine', 0.00025068095)\n",
      "('generations', 0.00025068087)\n",
      "('departures', 0.0002506808)\n",
      "('panthers', 0.0002506808)\n",
      "('spectacular', 0.00025068075)\n",
      "('magic', 0.00025068066)\n",
      "('ditches', 0.00025068066)\n",
      "('everyday', 0.00025068055)\n",
      "('2000', 0.0002506803)\n",
      "('beaten', 0.0002506799)\n",
      "('sleeping', 0.0002506794)\n",
      "('forms', 0.00025067938)\n",
      "('accomplishes', 0.00025067915)\n",
      "('hiding', 0.00025067874)\n",
      "('worlds', 0.00025067868)\n",
      "('favour', 0.0002506786)\n",
      "('stairway', 0.0002506786)\n",
      "('tables', 0.00025067833)\n",
      "('lions', 0.00025067833)\n",
      "('freedom', 0.0002506781)\n",
      "('forehead', 0.00025067717)\n",
      "('prognostications', 0.00025067703)\n",
      "('nails', 0.00025067694)\n",
      "('species', 0.00025067694)\n",
      "('amidst', 0.0002506766)\n",
      "('center', 0.00025067647)\n",
      "('xxiii', 0.00025067644)\n",
      "('values', 0.00025067627)\n",
      "('usual', 0.00025067618)\n",
      "('desperate', 0.00025067595)\n",
      "('ambushed', 0.00025067592)\n",
      "('indefinite', 0.0002506759)\n",
      "('sides', 0.0002506759)\n",
      "('roared', 0.00025067563)\n",
      "('xxvii', 0.00025067522)\n",
      "('farther', 0.00025067513)\n",
      "('happen', 0.00025067487)\n",
      "('unclear', 0.0002506745)\n",
      "('history', 0.00025067443)\n",
      "('bored', 0.00025067435)\n",
      "('discarding', 0.00025067414)\n",
      "('dreams', 0.0002506741)\n"
     ]
    }
   ],
   "source": [
    "\n",
    "for i in range(855, 899):\n",
    "    print(l0[i])"
   ]
  },
  {
   "cell_type": "code",
   "execution_count": 134,
   "metadata": {},
   "outputs": [
    {
     "name": "stdout",
     "output_type": "stream",
     "text": [
      "('dreams', 0.00026404308)\n",
      "('bored', 0.0002640417)\n",
      "('history', 0.00026404124)\n",
      "('unclear', 0.00026404063)\n",
      "('happen', 0.0002640389)\n",
      "('xxvii', 0.00026403752)\n",
      "('farther', 0.0002640373)\n",
      "('roared', 0.0002640352)\n",
      "('sides', 0.00026403385)\n",
      "('indefinite', 0.00026403356)\n",
      "('ambushed', 0.00026403347)\n",
      "('desperate', 0.00026403295)\n",
      "('usual', 0.00026403222)\n",
      "('values', 0.00026403167)\n",
      "('xxiii', 0.00026403056)\n",
      "('center', 0.00026403047)\n",
      "('amidst', 0.00026402975)\n",
      "('species', 0.0002640283)\n",
      "('nails', 0.00026402794)\n",
      "('prognostications', 0.00026402756)\n",
      "('forehead', 0.00026402713)\n",
      "('freedom', 0.00026402227)\n",
      "('tables', 0.00026402102)\n",
      "('lions', 0.00026402087)\n",
      "('favour', 0.00026401968)\n",
      "('stairway', 0.00026401965)\n",
      "('worlds', 0.00026401918)\n",
      "('hiding', 0.00026401886)\n",
      "('accomplishes', 0.00026401645)\n",
      "('forms', 0.0002640154)\n",
      "('sleeping', 0.0002640153)\n",
      "('beaten', 0.00026401272)\n",
      "('2000', 0.00026401054)\n",
      "('everyday', 0.00026400937)\n",
      "('magic', 0.00026400865)\n",
      "('ditches', 0.0002640086)\n",
      "('spectacular', 0.00026400856)\n",
      "('panthers', 0.00026400803)\n",
      "('departures', 0.0002640078)\n",
      "('generations', 0.00026400774)\n",
      "('nadine', 0.00026400696)\n",
      "('continuing', 0.0002640067)\n"
     ]
    }
   ],
   "source": [
    "\n",
    "for i in range(1097, 1139):\n",
    "    print(l1[i])"
   ]
  },
  {
   "cell_type": "code",
   "execution_count": 139,
   "metadata": {},
   "outputs": [
    {
     "name": "stdout",
     "output_type": "stream",
     "text": [
      "965\n"
     ]
    }
   ],
   "source": [
    "\n",
    "for i in range(3785):\n",
    "    if l0[i][0]== \"rhythms\":\n",
    "            print(i)"
   ]
  },
  {
   "cell_type": "code",
   "execution_count": 138,
   "metadata": {},
   "outputs": [
    {
     "name": "stdout",
     "output_type": "stream",
     "text": [
      "1028\n"
     ]
    }
   ],
   "source": [
    "\n",
    "for i in range(3785):\n",
    "    if l1[i][0]== \"rhythms\":\n",
    "            print(i)"
   ]
  },
  {
   "cell_type": "code",
   "execution_count": 140,
   "metadata": {},
   "outputs": [
    {
     "name": "stdout",
     "output_type": "stream",
     "text": [
      "('xxvi', 0.00025066728)\n",
      "('taken', 0.00025066713)\n",
      "('grenades', 0.0002506671)\n",
      "('rhymes', 0.000250667)\n",
      "('dawn', 0.00025066693)\n",
      "('whether', 0.00025066684)\n",
      "('nicely', 0.0002506666)\n",
      "('lime', 0.0002506665)\n",
      "('sort', 0.00025066626)\n",
      "('church', 0.00025066626)\n",
      "('culture', 0.0002506662)\n",
      "('climax', 0.00025066614)\n",
      "('poetic', 0.00025066605)\n",
      "('performed', 0.00025066594)\n",
      "('pipes', 0.00025066594)\n",
      "('riverbank', 0.00025066585)\n",
      "('obscure', 0.0002506658)\n",
      "('dies', 0.0002506656)\n",
      "('suspiciously', 0.0002506656)\n",
      "('hopeless', 0.00025066538)\n",
      "('fall', 0.00025066506)\n",
      "('rhythms', 0.00025066506)\n",
      "('processes', 0.00025066486)\n",
      "('sphinx', 0.00025066483)\n",
      "('lover', 0.00025066413)\n",
      "('chosen', 0.00025066402)\n",
      "('occasionally', 0.00025066384)\n",
      "('seem', 0.00025066384)\n",
      "('lines—', 0.00025066378)\n",
      "('capacities', 0.00025066367)\n",
      "('collected', 0.0002506631)\n",
      "('characters', 0.00025066297)\n",
      "('pair', 0.00025066282)\n",
      "('doubt', 0.0002506628)\n",
      "('draft', 0.00025066268)\n",
      "('afternoon', 0.00025066227)\n",
      "('speech', 0.00025066227)\n",
      "('buffalo', 0.0002506622)\n",
      "('receipt', 0.00025066218)\n",
      "('analogy', 0.00025066215)\n",
      "('anticus', 0.00025066215)\n"
     ]
    }
   ],
   "source": [
    "\n",
    "for i in range(944, 985):\n",
    "    print(l0[i])"
   ]
  },
  {
   "cell_type": "code",
   "execution_count": 141,
   "metadata": {},
   "outputs": [
    {
     "name": "stdout",
     "output_type": "stream",
     "text": [
      "('vegetal', 0.00026410638)\n",
      "('anticus', 0.00026410513)\n",
      "('receipt', 0.00026410513)\n",
      "('analogy', 0.00026410504)\n",
      "('afternoon', 0.00026410486)\n",
      "('buffalo', 0.00026410448)\n",
      "('speech', 0.00026410443)\n",
      "('draft', 0.00026410256)\n",
      "('doubt', 0.00026410213)\n",
      "('pair', 0.00026410155)\n",
      "('characters', 0.00026410123)\n",
      "('collected', 0.00026410038)\n",
      "('capacities', 0.00026409738)\n",
      "('occasionally', 0.0002640967)\n",
      "('lines—', 0.0002640966)\n",
      "('seem', 0.00026409645)\n",
      "('chosen', 0.00026409575)\n",
      "('lover', 0.00026409485)\n",
      "('sphinx', 0.00026409136)\n",
      "('processes', 0.00026409057)\n",
      "('fall', 0.00026409025)\n",
      "('rhythms', 0.0002640899)\n",
      "('hopeless', 0.00026408827)\n",
      "('dies', 0.0002640874)\n",
      "('suspiciously', 0.0002640874)\n",
      "('obscure', 0.00026408618)\n",
      "('riverbank', 0.0002640858)\n",
      "('performed', 0.00026408548)\n",
      "('pipes', 0.0002640854)\n",
      "('poetic', 0.0002640842)\n",
      "('climax', 0.00026408417)\n",
      "('culture', 0.00026408408)\n",
      "('church', 0.0002640838)\n",
      "('sort', 0.00026408368)\n",
      "('lime', 0.00026408286)\n",
      "('nicely', 0.0002640822)\n",
      "('whether', 0.000264081)\n",
      "('scarf', 0.0002640809)\n",
      "('dawn', 0.0002640807)\n",
      "('rhymes', 0.00026408018)\n",
      "('grenades', 0.00026407937)\n"
     ]
    }
   ],
   "source": [
    "\n",
    "for i in range(1007, 1048):\n",
    "    print(l1[i])"
   ]
  },
  {
   "cell_type": "code",
   "execution_count": 142,
   "metadata": {},
   "outputs": [
    {
     "name": "stdout",
     "output_type": "stream",
     "text": [
      "5\n"
     ]
    }
   ],
   "source": [
    "\n",
    "for i in range(3785):\n",
    "    if l0[i][0]== \"time\":\n",
    "            print(i)"
   ]
  },
  {
   "cell_type": "code",
   "execution_count": 143,
   "metadata": {},
   "outputs": [
    {
     "name": "stdout",
     "output_type": "stream",
     "text": [
      "4\n"
     ]
    }
   ],
   "source": [
    "\n",
    "for i in range(3785):\n",
    "    if l1[i][0]== \"time\":\n",
    "            print(i)"
   ]
  },
  {
   "cell_type": "code",
   "execution_count": 144,
   "metadata": {},
   "outputs": [
    {
     "name": "stdout",
     "output_type": "stream",
     "text": [
      "('verse', 0.005966314)\n",
      "('poet', 0.005565974)\n",
      "('ovid', 0.0049642525)\n",
      "('when', 0.004664056)\n",
      "('other', 0.004160677)\n",
      "('time', 0.0039610923)\n",
      "('poem', 0.0035603365)\n",
      "('work', 0.003258356)\n",
      "('know', 0.0029588894)\n",
      "('write', 0.0026574135)\n",
      "('poets', 0.0025569715)\n",
      "('naum', 0.0025567992)\n",
      "('said', 0.002456694)\n",
      "('poetry', 0.002356873)\n",
      "('long', 0.0022569722)\n",
      "('where', 0.0022569187)\n",
      "('still', 0.0022564116)\n",
      "('better', 0.0022562025)\n",
      "('lines', 0.00215656)\n",
      "('marlowe', 0.0021565487)\n",
      "('writing', 0.0021560013)\n",
      "('down', 0.0020562706)\n",
      "('night', 0.0020560983)\n",
      "('half', 0.0020560639)\n",
      "('full', 0.002055618)\n",
      "('over', 0.0019557113)\n",
      "('every', 0.0019556393)\n",
      "('both', 0.0019554493)\n",
      "('thought', 0.0019554475)\n",
      "('under', 0.0019552922)\n",
      "('dryden', 0.0019552046)\n",
      "('life', 0.0018550719)\n",
      "('line', 0.001855044)\n",
      "('words', 0.0018550262)\n",
      "('between', 0.0018550013)\n",
      "('sequence', 0.0017553684)\n",
      "('things', 0.0017553205)\n",
      "('might', 0.0017553084)\n",
      "('make', 0.0017551153)\n",
      "('right', 0.0016551316)\n",
      "('before', 0.0016550309)\n",
      "('here', 0.0016548585)\n"
     ]
    }
   ],
   "source": [
    "\n",
    "for i in range(42):\n",
    "    print(l0[i])"
   ]
  },
  {
   "cell_type": "code",
   "execution_count": 145,
   "metadata": {},
   "outputs": [
    {
     "name": "stdout",
     "output_type": "stream",
     "text": [
      "230\n"
     ]
    }
   ],
   "source": [
    "\n",
    "for i in range(3785):\n",
    "    if l0[i][0]== \"artist\":\n",
    "            print(i)"
   ]
  },
  {
   "cell_type": "code",
   "execution_count": 146,
   "metadata": {},
   "outputs": [
    {
     "name": "stdout",
     "output_type": "stream",
     "text": [
      "154\n"
     ]
    }
   ],
   "source": [
    "\n",
    "for i in range(3785):\n",
    "    if l1[i][0]== \"artist\":\n",
    "            print(i)"
   ]
  },
  {
   "cell_type": "code",
   "execution_count": 147,
   "metadata": {},
   "outputs": [
    {
     "name": "stdout",
     "output_type": "stream",
     "text": [
      "('order', 0.0006518219)\n",
      "('stones', 0.0006518189)\n",
      "('took', 0.0006518176)\n",
      "('matter', 0.0006518133)\n",
      "('jacket', 0.0006518091)\n",
      "('conference', 0.0006518006)\n",
      "('space', 0.000651799)\n",
      "('soon', 0.0006517946)\n",
      "('stuck', 0.0006517891)\n",
      "('drunk', 0.000651785)\n",
      "('goes', 0.0006517648)\n",
      "('modern', 0.00065176334)\n",
      "('latin', 0.00065176067)\n",
      "('start', 0.0006517539)\n",
      "('knew', 0.0006517534)\n",
      "('beyond', 0.0006517504)\n",
      "('surrealist', 0.0006517496)\n",
      "('sleep', 0.00065174507)\n",
      "('sense', 0.0006517411)\n",
      "('written', 0.00065171137)\n",
      "('taste', 0.0006516993)\n",
      "('artist', 0.0006516839)\n",
      "('wind', 0.0006516342)\n",
      "('comes', 0.0006516277)\n",
      "('used', 0.0006516219)\n",
      "('rest', 0.0006516077)\n",
      "('tower', 0.0005517007)\n",
      "('worst', 0.0005516782)\n",
      "('lips', 0.0005516778)\n",
      "('asked', 0.0005516723)\n",
      "('memories', 0.0005516694)\n",
      "('waiting', 0.00055166177)\n",
      "('zenobia', 0.0005516551)\n",
      "('poems', 0.00055163365)\n",
      "('language', 0.00055162713)\n",
      "('bird', 0.0005516147)\n",
      "('case', 0.00055161444)\n",
      "('illustrations', 0.00055161404)\n",
      "('rock', 0.00055161363)\n",
      "('stop', 0.0005516103)\n",
      "('poor', 0.00055160985)\n"
     ]
    }
   ],
   "source": [
    "\n",
    "for i in range(209, 250):\n",
    "    print(l0[i])"
   ]
  },
  {
   "cell_type": "code",
   "execution_count": 148,
   "metadata": {},
   "outputs": [
    {
     "name": "stdout",
     "output_type": "stream",
     "text": [
      "('personal', 0.00026755294)\n",
      "('voice', 0.0002675379)\n",
      "('amores', 0.00026752398)\n",
      "('window', 0.00026750585)\n",
      "('used', 0.0002675028)\n",
      "('comes', 0.00026747395)\n",
      "('same', 0.00026744977)\n",
      "('beat', 0.0002674458)\n",
      "('near', 0.00026744095)\n",
      "('wind', 0.00026743958)\n",
      "('glass', 0.0002674376)\n",
      "('least', 0.0002674228)\n",
      "('problem', 0.000267412)\n",
      "('always', 0.0002674084)\n",
      "('grass', 0.0002674067)\n",
      "('walk', 0.00026737724)\n",
      "('rhythm', 0.00026732695)\n",
      "('sounds', 0.00026724415)\n",
      "('think', 0.00026721682)\n",
      "('less', 0.00026718242)\n",
      "('making', 0.0002671822)\n",
      "('artist', 0.00026718085)\n",
      "('tell', 0.00026717567)\n",
      "('path', 0.00026713414)\n",
      "('taste', 0.00026709898)\n",
      "('wrote', 0.0002670834)\n",
      "('hair', 0.00026708186)\n",
      "('memory', 0.00026705718)\n",
      "('wanted', 0.00026705532)\n",
      "('nothing', 0.00026704787)\n",
      "('truth', 0.00026704583)\n",
      "('written', 0.00026703725)\n",
      "('egos', 0.0002670012)\n",
      "('hear', 0.0002669788)\n",
      "('talking', 0.00026693352)\n",
      "('door', 0.00026691132)\n",
      "('fourfour', 0.00026688687)\n",
      "('sense', 0.00026688218)\n",
      "('metamorphoses', 0.00026687546)\n",
      "('sleep', 0.00026686073)\n",
      "('surrealist', 0.00026683742)\n"
     ]
    }
   ],
   "source": [
    "\n",
    "for i in range(133, 174):\n",
    "    print(l1[i])"
   ]
  },
  {
   "cell_type": "code",
   "execution_count": 149,
   "metadata": {},
   "outputs": [
    {
     "name": "stdout",
     "output_type": "stream",
     "text": [
      "947\n"
     ]
    }
   ],
   "source": [
    "\n",
    "for i in range(3785):\n",
    "    if l0[i][0]== \"rhymes\":\n",
    "            print(i)"
   ]
  },
  {
   "cell_type": "code",
   "execution_count": 150,
   "metadata": {},
   "outputs": [
    {
     "name": "stdout",
     "output_type": "stream",
     "text": [
      "1046\n"
     ]
    }
   ],
   "source": [
    "\n",
    "for i in range(3785):\n",
    "    if l1[i][0]== \"rhymes\":\n",
    "            print(i)"
   ]
  },
  {
   "cell_type": "code",
   "execution_count": 151,
   "metadata": {},
   "outputs": [
    {
     "name": "stdout",
     "output_type": "stream",
     "text": [
      "('andré', 0.00025066966)\n",
      "('sentiments', 0.00025066952)\n",
      "('store', 0.00025066952)\n",
      "('trip', 0.0002506693)\n",
      "('played', 0.0002506693)\n",
      "('calea', 0.0002506688)\n",
      "('moonlight', 0.00025066876)\n",
      "('morning', 0.00025066873)\n",
      "('sing', 0.00025066864)\n",
      "('thrumming', 0.00025066864)\n",
      "('facing', 0.0002506684)\n",
      "('follow', 0.00025066835)\n",
      "('seen', 0.0002506683)\n",
      "('list', 0.00025066797)\n",
      "('swimming', 0.00025066792)\n",
      "('type', 0.00025066777)\n",
      "('murderous', 0.00025066774)\n",
      "('glistening', 0.00025066768)\n",
      "('xxvi', 0.00025066728)\n",
      "('taken', 0.00025066713)\n",
      "('grenades', 0.0002506671)\n",
      "('rhymes', 0.000250667)\n",
      "('dawn', 0.00025066693)\n",
      "('whether', 0.00025066684)\n",
      "('nicely', 0.0002506666)\n",
      "('lime', 0.0002506665)\n",
      "('sort', 0.00025066626)\n",
      "('church', 0.00025066626)\n",
      "('culture', 0.0002506662)\n",
      "('climax', 0.00025066614)\n",
      "('poetic', 0.00025066605)\n",
      "('performed', 0.00025066594)\n",
      "('pipes', 0.00025066594)\n",
      "('riverbank', 0.00025066585)\n",
      "('obscure', 0.0002506658)\n",
      "('dies', 0.0002506656)\n",
      "('suspiciously', 0.0002506656)\n",
      "('hopeless', 0.00025066538)\n",
      "('fall', 0.00025066506)\n",
      "('rhythms', 0.00025066506)\n",
      "('processes', 0.00025066486)\n"
     ]
    }
   ],
   "source": [
    "\n",
    "for i in range(926, 967):\n",
    "    print(l0[i])"
   ]
  },
  {
   "cell_type": "code",
   "execution_count": 152,
   "metadata": {},
   "outputs": [
    {
     "name": "stdout",
     "output_type": "stream",
     "text": [
      "('sphinx', 0.00026409136)\n",
      "('processes', 0.00026409057)\n",
      "('fall', 0.00026409025)\n",
      "('rhythms', 0.0002640899)\n",
      "('hopeless', 0.00026408827)\n",
      "('dies', 0.0002640874)\n",
      "('suspiciously', 0.0002640874)\n",
      "('obscure', 0.00026408618)\n",
      "('riverbank', 0.0002640858)\n",
      "('performed', 0.00026408548)\n",
      "('pipes', 0.0002640854)\n",
      "('poetic', 0.0002640842)\n",
      "('climax', 0.00026408417)\n",
      "('culture', 0.00026408408)\n",
      "('church', 0.0002640838)\n",
      "('sort', 0.00026408368)\n",
      "('lime', 0.00026408286)\n",
      "('nicely', 0.0002640822)\n",
      "('whether', 0.000264081)\n",
      "('scarf', 0.0002640809)\n",
      "('dawn', 0.0002640807)\n",
      "('rhymes', 0.00026408018)\n",
      "('grenades', 0.00026407937)\n",
      "('taken', 0.0002640793)\n",
      "('xxvi', 0.00026407873)\n",
      "('glistening', 0.00026407622)\n",
      "('murderous', 0.00026407585)\n",
      "('type', 0.0002640758)\n",
      "('swimming', 0.00026407524)\n",
      "('list', 0.00026407486)\n",
      "('facing', 0.000264073)\n",
      "('seen', 0.00026407288)\n",
      "('follow', 0.00026407262)\n",
      "('sing', 0.0002640715)\n",
      "('thrumming', 0.0002640714)\n",
      "('moonlight', 0.00026407102)\n",
      "('calea', 0.00026407096)\n",
      "('morning', 0.0002640709)\n",
      "('trip', 0.0002640681)\n",
      "('played', 0.0002640679)\n",
      "('sentiments', 0.00026406685)\n"
     ]
    }
   ],
   "source": [
    "\n",
    "for i in range(1025, 1066):\n",
    "    print(l1[i])"
   ]
  },
  {
   "cell_type": "code",
   "execution_count": 153,
   "metadata": {},
   "outputs": [],
   "source": [
    "\n",
    "for i in range(3785):\n",
    "    if l0[i][0]== \"rebirth\":\n",
    "            print(i)"
   ]
  },
  {
   "cell_type": "code",
   "execution_count": 154,
   "metadata": {},
   "outputs": [],
   "source": [
    "\n",
    "for i in range(3785):\n",
    "    if l1[i][0]== \"rebirth\":\n",
    "            print(i)"
   ]
  },
  {
   "cell_type": "code",
   "execution_count": 155,
   "metadata": {},
   "outputs": [
    {
     "name": "stdout",
     "output_type": "stream",
     "text": [
      "692\n"
     ]
    }
   ],
   "source": [
    "\n",
    "for i in range(3785):\n",
    "    if l0[i][0]== \"renaissance\":\n",
    "            print(i)"
   ]
  },
  {
   "cell_type": "code",
   "execution_count": 156,
   "metadata": {},
   "outputs": [
    {
     "name": "stdout",
     "output_type": "stream",
     "text": [
      "400\n"
     ]
    }
   ],
   "source": [
    "\n",
    "for i in range(3785):\n",
    "    if l1[i][0]== \"renaissance\":\n",
    "            print(i)"
   ]
  },
  {
   "cell_type": "code",
   "execution_count": 157,
   "metadata": {},
   "outputs": [
    {
     "name": "stdout",
     "output_type": "stream",
     "text": [
      "('errors', 0.0003508811)\n",
      "('prove', 0.00035088102)\n",
      "('hears', 0.00035088096)\n",
      "('shoes', 0.00035088067)\n",
      "('question', 0.0003508804)\n",
      "('giant', 0.00035088015)\n",
      "('briefcase', 0.0003508788)\n",
      "('believes', 0.00035087837)\n",
      "('gone', 0.00035087622)\n",
      "('turns', 0.00035087555)\n",
      "('agony', 0.00035087543)\n",
      "('writers', 0.00035087508)\n",
      "('denver', 0.00035087462)\n",
      "('knows', 0.00035087197)\n",
      "('major', 0.0003508678)\n",
      "('symbol', 0.00035086388)\n",
      "('british', 0.0003508634)\n",
      "('bottle', 0.00035086164)\n",
      "('moment', 0.00035085852)\n",
      "('diva', 0.0003508572)\n",
      "('smelled', 0.00035085395)\n",
      "('renaissance', 0.00035085384)\n",
      "('willows', 0.0003508468)\n",
      "('works', 0.00035084572)\n",
      "('enjoying', 0.0003508182)\n",
      "('lygia', 0.00035081457)\n",
      "('descrierea', 0.00035081405)\n",
      "('takes', 0.00035079807)\n",
      "('american', 0.0002507637)\n",
      "('incredible', 0.00025074606)\n",
      "('wheels', 0.00025074455)\n",
      "('bearer', 0.0002507409)\n",
      "('held', 0.00025074056)\n",
      "('favourite', 0.0002507385)\n",
      "('rifle', 0.00025073625)\n",
      "('deeply', 0.00025073488)\n",
      "('food', 0.00025073462)\n",
      "('fast', 0.00025073337)\n",
      "('blanket', 0.00025073238)\n",
      "('migrations', 0.0002507312)\n",
      "('close', 0.00025073107)\n"
     ]
    }
   ],
   "source": [
    "\n",
    "for i in range(671, 712):\n",
    "    print(l0[i])\n"
   ]
  },
  {
   "cell_type": "code",
   "execution_count": 158,
   "metadata": {},
   "outputs": [
    {
     "name": "stdout",
     "output_type": "stream",
     "text": [
      "('horse', 0.0002653207)\n",
      "('agree', 0.0002653128)\n",
      "('because', 0.00026530382)\n",
      "('house', 0.00026529137)\n",
      "('thinking', 0.00026529134)\n",
      "('study', 0.0002652895)\n",
      "('drinks', 0.000265284)\n",
      "('bank', 0.00026528214)\n",
      "('literature', 0.00026527428)\n",
      "('wrong', 0.00026527393)\n",
      "('greater', 0.00026526864)\n",
      "('bought', 0.00026526823)\n",
      "('various', 0.00026526602)\n",
      "('gets', 0.00026525793)\n",
      "('breton', 0.00026525478)\n",
      "('nobody', 0.00026525033)\n",
      "('works', 0.0002652469)\n",
      "('famous', 0.000265245)\n",
      "('willows', 0.00026524105)\n",
      "('cold', 0.00026522676)\n",
      "('zenobia', 0.00026522623)\n",
      "('renaissance', 0.00026520464)\n",
      "('smelled', 0.00026520347)\n",
      "('waiting', 0.0002651913)\n",
      "('diva', 0.00026518689)\n",
      "('unexpected', 0.00026518124)\n",
      "('moment', 0.0002651793)\n",
      "('year', 0.00026517652)\n",
      "('bottle', 0.00026516357)\n",
      "('rise', 0.0002651626)\n",
      "('drummer', 0.0002651557)\n",
      "('british', 0.00026515452)\n",
      "('symbol', 0.00026515205)\n",
      "('memories', 0.00026515164)\n",
      "('flames', 0.00026514588)\n",
      "('middle', 0.00026514186)\n",
      "('asked', 0.00026513543)\n",
      "('major', 0.00026513173)\n",
      "('turned', 0.00026511902)\n",
      "('tortured', 0.0002651162)\n",
      "('subjects', 0.00026511142)\n"
     ]
    }
   ],
   "source": [
    "for i in range(379, 420):\n",
    "    print(l1[i])"
   ]
  },
  {
   "cell_type": "code",
   "execution_count": 159,
   "metadata": {},
   "outputs": [
    {
     "name": "stdout",
     "output_type": "stream",
     "text": [
      "1052\n"
     ]
    }
   ],
   "source": [
    "\n",
    "for i in range(3785):\n",
    "    if l0[i][0]== \"differences\":\n",
    "            print(i)"
   ]
  },
  {
   "cell_type": "code",
   "execution_count": 163,
   "metadata": {},
   "outputs": [
    {
     "name": "stdout",
     "output_type": "stream",
     "text": [
      "939\n"
     ]
    }
   ],
   "source": [
    "\n",
    "for i in range(3785):\n",
    "    if l1[i][0]== \"differences\":\n",
    "            print(i)"
   ]
  },
  {
   "cell_type": "code",
   "execution_count": 161,
   "metadata": {},
   "outputs": [
    {
     "name": "stdout",
     "output_type": "stream",
     "text": [
      "('customs', 0.00025065633)\n",
      "('curiouser', 0.0002506563)\n",
      "('flowers', 0.00025065607)\n",
      "('importance', 0.00025065607)\n",
      "('advise', 0.00025065578)\n",
      "('shakespeare', 0.00025065566)\n",
      "('coat', 0.00025065534)\n",
      "('echoes', 0.00025065526)\n",
      "('deptford', 0.00025065485)\n",
      "('young', 0.00025065476)\n",
      "('friendship', 0.0002506545)\n",
      "('teodorescu', 0.00025065444)\n",
      "('ears', 0.00025065444)\n",
      "('eaten', 0.00025065392)\n",
      "('hour', 0.00025065357)\n",
      "('elizabethan', 0.0002506535)\n",
      "('genuine', 0.00025065333)\n",
      "('paradise', 0.00025065313)\n",
      "('tragic', 0.00025065299)\n",
      "('tomato', 0.00025065278)\n",
      "('tiny', 0.00025065267)\n",
      "('differences', 0.00025065258)\n",
      "('damned', 0.00025065243)\n",
      "('vigorous', 0.00025065243)\n",
      "('oneofakind', 0.0002506523)\n",
      "('curious', 0.00025065217)\n",
      "('islands', 0.00025065202)\n",
      "('speaking', 0.00025065185)\n",
      "('bluegreen', 0.0002506518)\n",
      "('knowledge', 0.0002506515)\n",
      "('watch', 0.00025065133)\n",
      "('looks', 0.00025065112)\n",
      "('grand', 0.00025065112)\n",
      "('urbanrural', 0.00025065106)\n",
      "('village', 0.00025065104)\n",
      "('remembered', 0.0002506506)\n",
      "('wrapped', 0.00025065054)\n",
      "('lunar', 0.00025065034)\n",
      "('mothers', 0.0002506503)\n",
      "('complex', 0.00025065013)\n",
      "('western', 0.00025065013)\n"
     ]
    }
   ],
   "source": [
    "\n",
    "for i in range(1031, 1072):\n",
    "    print(l0[i])\n"
   ]
  },
  {
   "cell_type": "code",
   "execution_count": 164,
   "metadata": {},
   "outputs": [
    {
     "name": "stdout",
     "output_type": "stream",
     "text": [
      "('idol', 0.00026416857)\n",
      "('western', 0.00026416793)\n",
      "('complex', 0.00026416776)\n",
      "('lunar', 0.0002641669)\n",
      "('mothers', 0.00026416633)\n",
      "('wrapped', 0.0002641658)\n",
      "('remembered', 0.00026416566)\n",
      "('urbanrural', 0.00026416325)\n",
      "('village', 0.00026416325)\n",
      "('grand', 0.00026416266)\n",
      "('looks', 0.00026416246)\n",
      "('watch', 0.0002641616)\n",
      "('knowledge', 0.0002641607)\n",
      "('bluegreen', 0.00026415888)\n",
      "('speaking', 0.00026415862)\n",
      "('islands', 0.0002641579)\n",
      "('curious', 0.0002641574)\n",
      "('plot', 0.0002641574)\n",
      "('oneofakind', 0.00026415667)\n",
      "('damned', 0.0002641562)\n",
      "('vigorous', 0.00026415614)\n",
      "('differences', 0.0002641549)\n",
      "('tiny', 0.00026415475)\n",
      "('tomato', 0.00026415393)\n",
      "('tragic', 0.000264153)\n",
      "('paradise', 0.000264152)\n",
      "('genuine', 0.00026415128)\n",
      "('elizabethan', 0.00026415044)\n",
      "('hour', 0.0002641502)\n",
      "('eaten', 0.00026414826)\n",
      "('teodorescu', 0.0002641454)\n",
      "('ears', 0.0002641452)\n",
      "('friendship', 0.00026414497)\n",
      "('young', 0.0002641437)\n",
      "('deptford', 0.00026414328)\n",
      "('echoes', 0.00026414148)\n",
      "('coat', 0.00026414066)\n",
      "('shakespeare', 0.00026413891)\n",
      "('advise', 0.00026413877)\n",
      "('importance', 0.0002641371)\n",
      "('flowers', 0.00026413667)\n"
     ]
    }
   ],
   "source": [
    "\n",
    "for i in range(918, 959):\n",
    "    print(l1[i])"
   ]
  },
  {
   "cell_type": "code",
   "execution_count": 165,
   "metadata": {},
   "outputs": [
    {
     "name": "stdout",
     "output_type": "stream",
     "text": [
      "275\n"
     ]
    }
   ],
   "source": [
    "\n",
    "for i in range(3785):\n",
    "    if l0[i][0]== \"meaning\":\n",
    "            print(i)"
   ]
  },
  {
   "cell_type": "code",
   "execution_count": 166,
   "metadata": {},
   "outputs": [
    {
     "name": "stdout",
     "output_type": "stream",
     "text": [
      "283\n"
     ]
    }
   ],
   "source": [
    "\n",
    "for i in range(3785):\n",
    "    if l1[i][0]== \"meaning\":\n",
    "            print(i)"
   ]
  },
  {
   "cell_type": "code",
   "execution_count": 167,
   "metadata": {},
   "outputs": [
    {
     "name": "stdout",
     "output_type": "stream",
     "text": [
      "('tangled', 0.0005515951)\n",
      "('enough', 0.0005515893)\n",
      "('foot', 0.0005515845)\n",
      "('discussion', 0.0005515798)\n",
      "('project', 0.0005515763)\n",
      "('derby', 0.00055157003)\n",
      "('next', 0.0005515693)\n",
      "('fact', 0.0005515688)\n",
      "('rhyme', 0.00055156834)\n",
      "('past', 0.0005515683)\n",
      "('albastru', 0.0005515652)\n",
      "('become', 0.0005515641)\n",
      "('alchemical', 0.0005515623)\n",
      "('exiled', 0.0005515599)\n",
      "('sound', 0.00055155763)\n",
      "('marvellous', 0.0005515529)\n",
      "('eutychia', 0.00055155216)\n",
      "('malul', 0.00055155176)\n",
      "('mist', 0.000551547)\n",
      "('artists', 0.00055154663)\n",
      "('loved', 0.0005515449)\n",
      "('meaning', 0.0005515447)\n",
      "('toward', 0.00055154454)\n",
      "('stone', 0.00055154314)\n",
      "('girl', 0.00055153883)\n",
      "('constanta', 0.00055153784)\n",
      "('blood', 0.00055153354)\n",
      "('based', 0.00055152853)\n",
      "('against', 0.0005515245)\n",
      "('known', 0.00055152446)\n",
      "('looked', 0.00055152044)\n",
      "('romantic', 0.00055151456)\n",
      "('distance', 0.00055151386)\n",
      "('dream', 0.00055150955)\n",
      "('green', 0.0005515067)\n",
      "('london', 0.00055150496)\n",
      "('theme', 0.0005515028)\n",
      "('cealaltă', 0.0005515024)\n",
      "('published', 0.00055149966)\n",
      "('wait', 0.0005514934)\n",
      "('shoulder', 0.0005514927)\n"
     ]
    }
   ],
   "source": [
    "\n",
    "for i in range(254, 295):\n",
    "    print(l0[i])\n"
   ]
  },
  {
   "cell_type": "code",
   "execution_count": 168,
   "metadata": {},
   "outputs": [
    {
     "name": "stdout",
     "output_type": "stream",
     "text": [
      "('distance', 0.00026596437)\n",
      "('romantic', 0.00026596076)\n",
      "('finding', 0.0002659461)\n",
      "('looked', 0.00026593023)\n",
      "('english', 0.0002659175)\n",
      "('against', 0.00026590808)\n",
      "('known', 0.00026590808)\n",
      "('becomes', 0.00026588884)\n",
      "('based', 0.00026588768)\n",
      "('breasts', 0.0002658864)\n",
      "('gallery', 0.00026588168)\n",
      "('bucharest', 0.00026587278)\n",
      "('blood', 0.00026586137)\n",
      "('till', 0.00026585895)\n",
      "('state', 0.00026584222)\n",
      "('constanta', 0.0002658393)\n",
      "('style', 0.00026583666)\n",
      "('girl', 0.00026583372)\n",
      "('stone', 0.0002658113)\n",
      "('toward', 0.00026580394)\n",
      "('loved', 0.00026580266)\n",
      "('meaning', 0.00026580234)\n",
      "('artists', 0.00026579318)\n",
      "('evening', 0.00026579187)\n",
      "('mist', 0.00026579064)\n",
      "('part', 0.00026578474)\n",
      "('waters', 0.0002657821)\n",
      "('brauner', 0.000265776)\n",
      "('malul', 0.00026576564)\n",
      "('eutychia', 0.0002657644)\n",
      "('marvellous', 0.00026575974)\n",
      "('brought', 0.000265744)\n",
      "('sound', 0.0002657362)\n",
      "('terrible', 0.00026572982)\n",
      "('exiled', 0.00026572254)\n",
      "('alchemical', 0.00026571116)\n",
      "('become', 0.0002657005)\n",
      "('albastru', 0.0002656963)\n",
      "('stand', 0.00026569597)\n",
      "('wells', 0.00026569248)\n",
      "('drunken', 0.00026568625)\n"
     ]
    }
   ],
   "source": [
    "for i in range(262, 303):\n",
    "    print(l1[i])"
   ]
  },
  {
   "cell_type": "code",
   "execution_count": 169,
   "metadata": {},
   "outputs": [
    {
     "name": "stdout",
     "output_type": "stream",
     "text": [
      "365\n"
     ]
    }
   ],
   "source": [
    "\n",
    "for i in range(3785):\n",
    "    if l0[i][0] == \"unexpected\":\n",
    "            print(i)"
   ]
  },
  {
   "cell_type": "code",
   "execution_count": 170,
   "metadata": {},
   "outputs": [
    {
     "name": "stdout",
     "output_type": "stream",
     "text": [
      "404\n"
     ]
    }
   ],
   "source": [
    "\n",
    "for i in range(3785):\n",
    "    if l1[i][0] == \"unexpected\":\n",
    "            print(i)"
   ]
  },
  {
   "cell_type": "code",
   "execution_count": 171,
   "metadata": {},
   "outputs": [
    {
     "name": "stdout",
     "output_type": "stream",
     "text": [
      "('berry', 0.00045129718)\n",
      "('concept', 0.00045129078)\n",
      "('couldn', 0.00045129072)\n",
      "('sent', 0.00045129028)\n",
      "('stopped', 0.0004512855)\n",
      "('seems', 0.0004512853)\n",
      "('wake', 0.00045128417)\n",
      "('touch', 0.00045128388)\n",
      "('ritual', 0.0004512832)\n",
      "('clear', 0.00045128312)\n",
      "('front', 0.00045128085)\n",
      "('feeling', 0.000451278)\n",
      "('almost', 0.00045127593)\n",
      "('subjects', 0.0004512744)\n",
      "('tortured', 0.00045127343)\n",
      "('turned', 0.00045127288)\n",
      "('middle', 0.00045126842)\n",
      "('flames', 0.0004512679)\n",
      "('drummer', 0.00045126586)\n",
      "('rise', 0.00045126452)\n",
      "('year', 0.00045126182)\n",
      "('unexpected', 0.000451261)\n",
      "('cold', 0.00045125233)\n",
      "('famous', 0.00045124878)\n",
      "('nobody', 0.00045124773)\n",
      "('breton', 0.00045124686)\n",
      "('gets', 0.0004512463)\n",
      "('various', 0.0004512447)\n",
      "('bought', 0.00045124433)\n",
      "('greater', 0.00045124415)\n",
      "('wrong', 0.00045124328)\n",
      "('literature', 0.0004512432)\n",
      "('bank', 0.00045124156)\n",
      "('drinks', 0.00045124127)\n",
      "('study', 0.00045124022)\n",
      "('house', 0.00045124002)\n",
      "('thinking', 0.00045123984)\n",
      "('because', 0.00045123755)\n",
      "('agree', 0.00045123565)\n",
      "('horse', 0.00045123431)\n",
      "('author', 0.0004512338)\n"
     ]
    }
   ],
   "source": [
    "\n",
    "for i in range(344, 385):\n",
    "    print(l0[i])"
   ]
  },
  {
   "cell_type": "code",
   "execution_count": 172,
   "metadata": {},
   "outputs": [
    {
     "name": "stdout",
     "output_type": "stream",
     "text": [
      "('thinking', 0.00026529134)\n",
      "('study', 0.0002652895)\n",
      "('drinks', 0.000265284)\n",
      "('bank', 0.00026528214)\n",
      "('literature', 0.00026527428)\n",
      "('wrong', 0.00026527393)\n",
      "('greater', 0.00026526864)\n",
      "('bought', 0.00026526823)\n",
      "('various', 0.00026526602)\n",
      "('gets', 0.00026525793)\n",
      "('breton', 0.00026525478)\n",
      "('nobody', 0.00026525033)\n",
      "('works', 0.0002652469)\n",
      "('famous', 0.000265245)\n",
      "('willows', 0.00026524105)\n",
      "('cold', 0.00026522676)\n",
      "('zenobia', 0.00026522623)\n",
      "('renaissance', 0.00026520464)\n",
      "('smelled', 0.00026520347)\n",
      "('waiting', 0.0002651913)\n",
      "('diva', 0.00026518689)\n",
      "('unexpected', 0.00026518124)\n",
      "('moment', 0.0002651793)\n",
      "('year', 0.00026517652)\n",
      "('bottle', 0.00026516357)\n",
      "('rise', 0.0002651626)\n",
      "('drummer', 0.0002651557)\n",
      "('british', 0.00026515452)\n",
      "('symbol', 0.00026515205)\n",
      "('memories', 0.00026515164)\n",
      "('flames', 0.00026514588)\n",
      "('middle', 0.00026514186)\n",
      "('asked', 0.00026513543)\n",
      "('major', 0.00026513173)\n",
      "('turned', 0.00026511902)\n",
      "('tortured', 0.0002651162)\n",
      "('subjects', 0.00026511142)\n",
      "('knows', 0.00026510964)\n",
      "('lips', 0.00026510714)\n",
      "('worst', 0.00026510525)\n",
      "('almost', 0.00026510246)\n"
     ]
    }
   ],
   "source": [
    "\n",
    "for i in range(383, 424):\n",
    "    print(l1[i])"
   ]
  },
  {
   "cell_type": "code",
   "execution_count": 173,
   "metadata": {},
   "outputs": [
    {
     "name": "stdout",
     "output_type": "stream",
     "text": [
      "78\n"
     ]
    }
   ],
   "source": [
    "\n",
    "for i in range(3785):\n",
    "    if l0[i][0]== \"plan\":\n",
    "            print(i)"
   ]
  },
  {
   "cell_type": "code",
   "execution_count": 174,
   "metadata": {},
   "outputs": [
    {
     "name": "stdout",
     "output_type": "stream",
     "text": [
      "81\n"
     ]
    }
   ],
   "source": [
    "\n",
    "for i in range(3785):\n",
    "    if l1[i][0]== \"plan\":\n",
    "            print(i)"
   ]
  },
  {
   "cell_type": "code",
   "execution_count": 175,
   "metadata": {},
   "outputs": [
    {
     "name": "stdout",
     "output_type": "stream",
     "text": [
      "('again', 0.0014540444)\n",
      "('look', 0.0014539777)\n",
      "('each', 0.0014538596)\n",
      "('others', 0.0013540927)\n",
      "('away', 0.0013539506)\n",
      "('eyes', 0.0013538802)\n",
      "('most', 0.0013538484)\n",
      "('found', 0.0013536845)\n",
      "('came', 0.0013536307)\n",
      "('take', 0.0013535818)\n",
      "('only', 0.0013533706)\n",
      "('went', 0.0012537509)\n",
      "('head', 0.0012537395)\n",
      "('world', 0.0012537257)\n",
      "('perhaps', 0.0012535215)\n",
      "('ancient', 0.0012534529)\n",
      "('alter', 0.0012533682)\n",
      "('three', 0.0012531913)\n",
      "('above', 0.001153581)\n",
      "('death', 0.0011534953)\n",
      "('face', 0.0011533841)\n",
      "('plan', 0.0011532906)\n",
      "('wine', 0.0011532522)\n",
      "('later', 0.0011531275)\n",
      "('blue', 0.0011530515)\n",
      "('says', 0.001153038)\n",
      "('side', 0.0011528659)\n",
      "('translation', 0.0010532183)\n",
      "('until', 0.0010532007)\n",
      "('started', 0.001053197)\n",
      "('black', 0.0010530917)\n",
      "('find', 0.0010530588)\n",
      "('light', 0.0010530384)\n",
      "('moon', 0.0010530237)\n",
      "('second', 0.0010530044)\n",
      "('come', 0.0010529625)\n",
      "('everything', 0.0010529559)\n",
      "('place', 0.0010529556)\n",
      "('verses', 0.0010528893)\n",
      "('earth', 0.0010528528)\n",
      "('form', 0.0010528367)\n",
      "('silence', 0.0010526759)\n"
     ]
    }
   ],
   "source": [
    "\n",
    "for i in range(57, 99):\n",
    "    print(l0[i])"
   ]
  },
  {
   "cell_type": "code",
   "execution_count": 176,
   "metadata": {},
   "outputs": [
    {
     "name": "stdout",
     "output_type": "stream",
     "text": [
      "('before', 0.0002707399)\n",
      "('says', 0.00027062916)\n",
      "('most', 0.00027060544)\n",
      "('ancient', 0.00027056565)\n",
      "('blue', 0.0002705586)\n",
      "('eyes', 0.00027043445)\n",
      "('silence', 0.00027041862)\n",
      "('made', 0.00027034653)\n",
      "('romanian', 0.00027030715)\n",
      "('right', 0.00027020922)\n",
      "('perhaps', 0.0002702087)\n",
      "('later', 0.0002701604)\n",
      "('away', 0.00027006742)\n",
      "('course', 0.00026999714)\n",
      "('good', 0.00026959524)\n",
      "('form', 0.000269577)\n",
      "('athanor', 0.00026954978)\n",
      "('wine', 0.0002695088)\n",
      "('earth', 0.00026948933)\n",
      "('coming', 0.0002694289)\n",
      "('others', 0.00026932464)\n",
      "('plan', 0.00026930892)\n",
      "('verses', 0.00026930167)\n",
      "('read', 0.00026917702)\n",
      "('translations', 0.00026917487)\n",
      "('left', 0.00026916078)\n",
      "('world', 0.0002691376)\n",
      "('tree', 0.0002690837)\n",
      "('head', 0.00026906483)\n",
      "('best', 0.00026905094)\n",
      "('went', 0.00026900566)\n",
      "('grow', 0.00026897786)\n",
      "('five', 0.000268956)\n",
      "('place', 0.00026895374)\n",
      "('everything', 0.00026895298)\n",
      "('come', 0.0002689184)\n",
      "('face', 0.00026881965)\n",
      "('need', 0.0002687301)\n",
      "('second', 0.00026870024)\n",
      "('moon', 0.0002685978)\n",
      "('years', 0.00026853388)\n"
     ]
    }
   ],
   "source": [
    "\n",
    "for i in range(60, 101):\n",
    "    print(l1[i])"
   ]
  },
  {
   "cell_type": "code",
   "execution_count": 177,
   "metadata": {},
   "outputs": [
    {
     "name": "stdout",
     "output_type": "stream",
     "text": [
      "316\n"
     ]
    }
   ],
   "source": [
    "\n",
    "for i in range(3785):\n",
    "    if l0[i][0]== \"mind\":\n",
    "            print(i)"
   ]
  },
  {
   "cell_type": "code",
   "execution_count": 178,
   "metadata": {},
   "outputs": [
    {
     "name": "stdout",
     "output_type": "stream",
     "text": [
      "175\n"
     ]
    }
   ],
   "source": [
    "\n",
    "for i in range(3785):\n",
    "    if l1[i][0]== \"mind\":\n",
    "            print(i)"
   ]
  },
  {
   "cell_type": "code",
   "execution_count": 179,
   "metadata": {},
   "outputs": [
    {
     "name": "stdout",
     "output_type": "stream",
     "text": [
      "('anyway', 0.0005514926)\n",
      "('despair', 0.0005514893)\n",
      "('telling', 0.00055148697)\n",
      "('pass', 0.0005514781)\n",
      "('fața', 0.00055147696)\n",
      "('master', 0.00055147626)\n",
      "('myself', 0.0005514739)\n",
      "('rental', 0.0005514735)\n",
      "('lance', 0.00055146875)\n",
      "('vintage', 0.0005514583)\n",
      "('thus', 0.00055145036)\n",
      "('council', 0.0005514432)\n",
      "('especially', 0.00055144203)\n",
      "('girls', 0.000551435)\n",
      "('happy', 0.00055143284)\n",
      "('partea', 0.0005514313)\n",
      "('finger', 0.00055142667)\n",
      "('passed', 0.0005514195)\n",
      "('ashes', 0.00055140705)\n",
      "('painting', 0.0005513837)\n",
      "('little', 0.0005513822)\n",
      "('mind', 0.0005513486)\n",
      "('metamorphoses', 0.0005513394)\n",
      "('fourfour', 0.000551337)\n",
      "('talking', 0.0005513283)\n",
      "('gestures', 0.00045142855)\n",
      "('book', 0.0004513758)\n",
      "('towards', 0.00045137198)\n",
      "('grown', 0.000451355)\n",
      "('drink', 0.00045135475)\n",
      "('understanding', 0.00045135446)\n",
      "('fingers', 0.00045135262)\n",
      "('desperately', 0.00045135024)\n",
      "('lack', 0.00045134325)\n",
      "('worthy', 0.00045134043)\n",
      "('spring', 0.00045133993)\n",
      "('airport', 0.0004513395)\n",
      "('debate', 0.00045133554)\n",
      "('anyone', 0.00045133548)\n",
      "('snake', 0.0004513236)\n",
      "('expected', 0.00045132075)\n"
     ]
    }
   ],
   "source": [
    "\n",
    "for i in range(295, 336):\n",
    "    print(l0[i])"
   ]
  },
  {
   "cell_type": "code",
   "execution_count": 180,
   "metadata": {},
   "outputs": [
    {
     "name": "stdout",
     "output_type": "stream",
     "text": [
      "('artist', 0.00026718085)\n",
      "('tell', 0.00026717567)\n",
      "('path', 0.00026713414)\n",
      "('taste', 0.00026709898)\n",
      "('wrote', 0.0002670834)\n",
      "('hair', 0.00026708186)\n",
      "('memory', 0.00026705718)\n",
      "('wanted', 0.00026705532)\n",
      "('nothing', 0.00026704787)\n",
      "('truth', 0.00026704583)\n",
      "('written', 0.00026703725)\n",
      "('egos', 0.0002670012)\n",
      "('hear', 0.0002669788)\n",
      "('talking', 0.00026693352)\n",
      "('door', 0.00026691132)\n",
      "('fourfour', 0.00026688687)\n",
      "('sense', 0.00026688218)\n",
      "('metamorphoses', 0.00026687546)\n",
      "('sleep', 0.00026686073)\n",
      "('surrealist', 0.00026683742)\n",
      "('beyond', 0.00026683303)\n",
      "('mind', 0.0002668281)\n",
      "('knew', 0.0002668166)\n",
      "('start', 0.0002668149)\n",
      "('alone', 0.0002668)\n",
      "('four', 0.00026679234)\n",
      "('latin', 0.00026677913)\n",
      "('presentation', 0.00026677013)\n",
      "('modern', 0.00026676457)\n",
      "('goes', 0.00026675852)\n",
      "('small', 0.00026672176)\n",
      "('little', 0.00026665148)\n",
      "('drunk', 0.00026665142)\n",
      "('painting', 0.00026664493)\n",
      "('stuck', 0.00026663105)\n",
      "('home', 0.000266614)\n",
      "('woman', 0.00026660404)\n",
      "('soon', 0.0002666021)\n",
      "('space', 0.00026657927)\n",
      "('conference', 0.000266571)\n",
      "('gellu', 0.0002665645)\n"
     ]
    }
   ],
   "source": [
    "\n",
    "for i in range(154, 195):\n",
    "    print(l1[i])"
   ]
  },
  {
   "cell_type": "code",
   "execution_count": 181,
   "metadata": {},
   "outputs": [
    {
     "name": "stdout",
     "output_type": "stream",
     "text": [
      "79\n"
     ]
    }
   ],
   "source": [
    "\n",
    "for i in range(3785):\n",
    "    if l0[i][0]== \"wine\":\n",
    "            print(i)"
   ]
  },
  {
   "cell_type": "code",
   "execution_count": 182,
   "metadata": {},
   "outputs": [
    {
     "name": "stdout",
     "output_type": "stream",
     "text": [
      "77\n"
     ]
    }
   ],
   "source": [
    "\n",
    "for i in range(3785):\n",
    "    if l1[i][0]== \"wine\":\n",
    "            print(i)"
   ]
  },
  {
   "cell_type": "code",
   "execution_count": 184,
   "metadata": {},
   "outputs": [
    {
     "name": "stdout",
     "output_type": "stream",
     "text": [
      "('again', 0.0014540444)\n",
      "('look', 0.0014539777)\n",
      "('each', 0.0014538596)\n",
      "('others', 0.0013540927)\n",
      "('away', 0.0013539506)\n",
      "('eyes', 0.0013538802)\n",
      "('most', 0.0013538484)\n",
      "('found', 0.0013536845)\n",
      "('came', 0.0013536307)\n",
      "('take', 0.0013535818)\n",
      "('only', 0.0013533706)\n",
      "('went', 0.0012537509)\n",
      "('head', 0.0012537395)\n",
      "('world', 0.0012537257)\n",
      "('perhaps', 0.0012535215)\n",
      "('ancient', 0.0012534529)\n",
      "('alter', 0.0012533682)\n",
      "('three', 0.0012531913)\n",
      "('above', 0.001153581)\n",
      "('death', 0.0011534953)\n",
      "('face', 0.0011533841)\n",
      "('plan', 0.0011532906)\n",
      "('wine', 0.0011532522)\n",
      "('later', 0.0011531275)\n",
      "('blue', 0.0011530515)\n",
      "('says', 0.001153038)\n",
      "('side', 0.0011528659)\n",
      "('translation', 0.0010532183)\n",
      "('until', 0.0010532007)\n",
      "('started', 0.001053197)\n",
      "('black', 0.0010530917)\n",
      "('find', 0.0010530588)\n",
      "('light', 0.0010530384)\n",
      "('moon', 0.0010530237)\n",
      "('second', 0.0010530044)\n",
      "('come', 0.0010529625)\n",
      "('everything', 0.0010529559)\n",
      "('place', 0.0010529556)\n",
      "('verses', 0.0010528893)\n",
      "('earth', 0.0010528528)\n",
      "('form', 0.0010528367)\n",
      "('silence', 0.0010526759)\n",
      "('rhythm', 0.0009528642)\n"
     ]
    }
   ],
   "source": [
    "\n",
    "for i in range(57, 100):\n",
    "    print(l0[i])\n"
   ]
  },
  {
   "cell_type": "code",
   "execution_count": 183,
   "metadata": {},
   "outputs": [
    {
     "name": "stdout",
     "output_type": "stream",
     "text": [
      "('after', 0.00027112634)\n",
      "('sequence', 0.00027107768)\n",
      "('alter', 0.00027100928)\n",
      "('word', 0.00027074935)\n",
      "('before', 0.0002707399)\n",
      "('says', 0.00027062916)\n",
      "('most', 0.00027060544)\n",
      "('ancient', 0.00027056565)\n",
      "('blue', 0.0002705586)\n",
      "('eyes', 0.00027043445)\n",
      "('silence', 0.00027041862)\n",
      "('made', 0.00027034653)\n",
      "('romanian', 0.00027030715)\n",
      "('right', 0.00027020922)\n",
      "('perhaps', 0.0002702087)\n",
      "('later', 0.0002701604)\n",
      "('away', 0.00027006742)\n",
      "('course', 0.00026999714)\n",
      "('good', 0.00026959524)\n",
      "('form', 0.000269577)\n",
      "('athanor', 0.00026954978)\n",
      "('wine', 0.0002695088)\n",
      "('earth', 0.00026948933)\n",
      "('coming', 0.0002694289)\n",
      "('others', 0.00026932464)\n",
      "('plan', 0.00026930892)\n",
      "('verses', 0.00026930167)\n",
      "('read', 0.00026917702)\n",
      "('translations', 0.00026917487)\n",
      "('left', 0.00026916078)\n",
      "('world', 0.0002691376)\n",
      "('tree', 0.0002690837)\n",
      "('head', 0.00026906483)\n",
      "('best', 0.00026905094)\n",
      "('went', 0.00026900566)\n",
      "('grow', 0.00026897786)\n",
      "('five', 0.000268956)\n",
      "('place', 0.00026895374)\n",
      "('everything', 0.00026895298)\n",
      "('come', 0.0002689184)\n",
      "('face', 0.00026881965)\n",
      "('need', 0.0002687301)\n",
      "('second', 0.00026870024)\n"
     ]
    }
   ],
   "source": [
    "\n",
    "for i in range(56, 99):\n",
    "    print(l1[i])"
   ]
  },
  {
   "cell_type": "code",
   "execution_count": 185,
   "metadata": {},
   "outputs": [
    {
     "name": "stdout",
     "output_type": "stream",
     "text": [
      "544\n"
     ]
    }
   ],
   "source": [
    "\n",
    "for i in range(3785):\n",
    "    if l0[i][0]== \"ideas\":\n",
    "            print(i)"
   ]
  },
  {
   "cell_type": "code",
   "execution_count": 186,
   "metadata": {},
   "outputs": [
    {
     "name": "stdout",
     "output_type": "stream",
     "text": [
      "597\n"
     ]
    }
   ],
   "source": [
    "\n",
    "for i in range(3785):\n",
    "    if l1[i][0]== \"ideas\":\n",
    "            print(i)"
   ]
  },
  {
   "cell_type": "code",
   "execution_count": 187,
   "metadata": {},
   "outputs": [
    {
     "name": "stdout",
     "output_type": "stream",
     "text": [
      "('anymore', 0.00035097246)\n",
      "('easy', 0.00035097223)\n",
      "('colored', 0.0003509719)\n",
      "('2001', 0.00035097075)\n",
      "('millions', 0.00035096987)\n",
      "('followed', 0.000350969)\n",
      "('tide', 0.0003509685)\n",
      "('boat', 0.00035096725)\n",
      "('movement', 0.00035096693)\n",
      "('changed', 0.00035096658)\n",
      "('animaltree', 0.00035096504)\n",
      "('twelve', 0.00035096487)\n",
      "('unless', 0.0003509648)\n",
      "('traditional', 0.0003509646)\n",
      "('starts', 0.0003509634)\n",
      "('lucrurile', 0.0003509628)\n",
      "('dropped', 0.0003509627)\n",
      "('fixed', 0.00035096242)\n",
      "('grew', 0.00035096236)\n",
      "('prose', 0.00035096187)\n",
      "('themselves', 0.00035096184)\n",
      "('ideas', 0.00035096117)\n",
      "('going', 0.00035096015)\n",
      "('grant', 0.00035095928)\n",
      "('instance', 0.00035095916)\n",
      "('pale', 0.00035095864)\n",
      "('ludicrous', 0.00035095864)\n",
      "('hovering', 0.0003509586)\n",
      "('pattern', 0.00035095814)\n",
      "('yourself', 0.000350958)\n",
      "('shape', 0.00035095745)\n",
      "('prologue', 0.00035095718)\n",
      "('hope', 0.0003509562)\n",
      "('speak', 0.0003509551)\n",
      "('emptied', 0.00035095497)\n",
      "('lead', 0.00035095486)\n",
      "('mouth', 0.0003509541)\n",
      "('regime', 0.00035095372)\n",
      "('waits', 0.00035095363)\n",
      "('books', 0.00035095253)\n",
      "('paris', 0.0003509523)\n"
     ]
    }
   ],
   "source": [
    "\n",
    "for i in range(523, 564):\n",
    "    print(l0[i])"
   ]
  },
  {
   "cell_type": "code",
   "execution_count": 188,
   "metadata": {},
   "outputs": [
    {
     "name": "stdout",
     "output_type": "stream",
     "text": [
      "('leave', 0.0002646905)\n",
      "('grown', 0.00026469034)\n",
      "('paris', 0.0002646901)\n",
      "('books', 0.00026468895)\n",
      "('waits', 0.00026468406)\n",
      "('regime', 0.00026468304)\n",
      "('mouth', 0.00026468138)\n",
      "('lead', 0.00026467702)\n",
      "('emptied', 0.00026467687)\n",
      "('speak', 0.0002646765)\n",
      "('hope', 0.00026467023)\n",
      "('prologue', 0.0002646651)\n",
      "('shape', 0.00026466412)\n",
      "('yourself', 0.00026466078)\n",
      "('pattern', 0.00026466014)\n",
      "('ludicrous', 0.00026465754)\n",
      "('hovering', 0.00026465743)\n",
      "('pale', 0.00026465702)\n",
      "('instance', 0.0002646545)\n",
      "('grant', 0.00026465382)\n",
      "('going', 0.00026464922)\n",
      "('ideas', 0.00026464346)\n",
      "('themselves', 0.00026464072)\n",
      "('prose', 0.00026464066)\n",
      "('grew', 0.00026463845)\n",
      "('fixed', 0.0002646376)\n",
      "('dropped', 0.00026463633)\n",
      "('lucrurile', 0.00026463607)\n",
      "('starts', 0.00026463263)\n",
      "('traditional', 0.00026462635)\n",
      "('unless', 0.0002646249)\n",
      "('twelve', 0.0002646245)\n",
      "('animaltree', 0.00026462405)\n",
      "('changed', 0.00026461642)\n",
      "('movement', 0.0002646142)\n",
      "('boat', 0.00026461226)\n",
      "('tide', 0.00026460586)\n",
      "('followed', 0.00026460367)\n",
      "('involved', 0.0002646019)\n",
      "('towards', 0.0002646013)\n",
      "('millions', 0.000264599)\n"
     ]
    }
   ],
   "source": [
    "\n",
    "for i in range(576, 617):\n",
    "    print(l1[i])"
   ]
  },
  {
   "cell_type": "code",
   "execution_count": 189,
   "metadata": {},
   "outputs": [
    {
     "name": "stdout",
     "output_type": "stream",
     "text": [
      "348\n"
     ]
    }
   ],
   "source": [
    "\n",
    "for i in range(3785):\n",
    "    if l0[i][0]== \"stopped\":\n",
    "            print(i)"
   ]
  },
  {
   "cell_type": "code",
   "execution_count": 193,
   "metadata": {},
   "outputs": [
    {
     "name": "stdout",
     "output_type": "stream",
     "text": [
      "1874\n"
     ]
    }
   ],
   "source": [
    "\n",
    "for i in range(3785):\n",
    "    if l0[i][0]== \"patient\":\n",
    "            print(i)"
   ]
  },
  {
   "cell_type": "code",
   "execution_count": null,
   "metadata": {},
   "outputs": [],
   "source": []
  },
  {
   "cell_type": "code",
   "execution_count": 194,
   "metadata": {},
   "outputs": [
    {
     "name": "stdout",
     "output_type": "stream",
     "text": [
      "1940\n"
     ]
    }
   ],
   "source": [
    "for i in range(3785):\n",
    "    if l0[i][0] == \"caring\":\n",
    "        print(i)"
   ]
  },
  {
   "cell_type": "code",
   "execution_count": 195,
   "metadata": {},
   "outputs": [
    {
     "name": "stdout",
     "output_type": "stream",
     "text": [
      "1430\n"
     ]
    }
   ],
   "source": [
    "\n",
    "for i in range(3785):\n",
    "    if l0[i][0] == \"complements\":\n",
    "        print(i)"
   ]
  },
  {
   "cell_type": "code",
   "execution_count": 196,
   "metadata": {},
   "outputs": [
    {
     "name": "stdout",
     "output_type": "stream",
     "text": [
      "1655\n"
     ]
    }
   ],
   "source": [
    "\n",
    "for i in range(3785):\n",
    "    if l0[i][0] == \"sober\":\n",
    "        print(i)"
   ]
  },
  {
   "cell_type": "code",
   "execution_count": 197,
   "metadata": {},
   "outputs": [
    {
     "name": "stdout",
     "output_type": "stream",
     "text": [
      "2422\n"
     ]
    }
   ],
   "source": [
    "\n",
    "for i in range(3785):\n",
    "    if l0[i][0] == \"ramblings\":\n",
    "        print(i)"
   ]
  },
  {
   "cell_type": "code",
   "execution_count": 202,
   "metadata": {},
   "outputs": [
    {
     "name": "stdout",
     "output_type": "stream",
     "text": [
      "2657\n"
     ]
    }
   ],
   "source": [
    "\n",
    "for i in range(3785):\n",
    "    if l1[i][0] == \"ramblings\":\n",
    "        print(i)"
   ]
  },
  {
   "cell_type": "code",
   "execution_count": 198,
   "metadata": {},
   "outputs": [
    {
     "name": "stdout",
     "output_type": "stream",
     "text": [
      "1264\n"
     ]
    }
   ],
   "source": [
    "\n",
    "for i in range(3785):\n",
    "    if l0[i][0] == \"swept\":\n",
    "        print(i)"
   ]
  },
  {
   "cell_type": "code",
   "execution_count": 199,
   "metadata": {},
   "outputs": [
    {
     "name": "stdout",
     "output_type": "stream",
     "text": [
      "2509\n"
     ]
    }
   ],
   "source": [
    "\n",
    "for i in range(3785):\n",
    "    if l0[i][0] == \"brushed\":\n",
    "        print(i)"
   ]
  },
  {
   "cell_type": "code",
   "execution_count": 204,
   "metadata": {},
   "outputs": [
    {
     "name": "stdout",
     "output_type": "stream",
     "text": [
      "2571\n"
     ]
    }
   ],
   "source": [
    "\n",
    "for i in range(3785):\n",
    "    if l1[i][0] == \"brushed\":\n",
    "        print(i)"
   ]
  },
  {
   "cell_type": "code",
   "execution_count": 200,
   "metadata": {},
   "outputs": [
    {
     "name": "stdout",
     "output_type": "stream",
     "text": [
      "128\n"
     ]
    }
   ],
   "source": [
    "\n",
    "for i in range(3785):\n",
    "    if l0[i][0] == \"problem\":\n",
    "        print(i)"
   ]
  },
  {
   "cell_type": "code",
   "execution_count": 201,
   "metadata": {},
   "outputs": [
    {
     "name": "stdout",
     "output_type": "stream",
     "text": [
      "('apart', 0.00015037559)\n",
      "('dabbler', 0.00015037556)\n",
      "('elizabethanrestoration', 0.00015037555)\n",
      "('heap', 0.00015037555)\n",
      "('transparent—surely', 0.00015037545)\n",
      "('position', 0.00015037543)\n",
      "('2020', 0.0001503754)\n",
      "('one', 0.00015037539)\n",
      "('fragmented', 0.00015037536)\n",
      "('1948', 0.00015037533)\n",
      "('jousting', 0.00015037533)\n",
      "('eyed', 0.00015037533)\n",
      "('collages', 0.00015037532)\n",
      "('fighting', 0.0001503753)\n",
      "('him…', 0.00015037529)\n",
      "('terrestrialization', 0.00015037526)\n",
      "('brags', 0.00015037526)\n",
      "('resonates', 0.00015037526)\n",
      "('francis', 0.00015037523)\n",
      "('groundbreaking', 0.00015037521)\n",
      "('schwitters', 0.00015037518)\n",
      "('date', 0.00015037518)\n",
      "('ramblings', 0.00015037518)\n",
      "('xxxvii', 0.00015037516)\n",
      "('primary', 0.00015037514)\n",
      "('career', 0.00015037514)\n",
      "('nail', 0.00015037511)\n",
      "('xxxiii', 0.0001503751)\n",
      "('build', 0.0001503751)\n",
      "('foxwitches', 0.0001503751)\n",
      "('singing', 0.00015037508)\n",
      "('swotting', 0.00015037508)\n",
      "('shells', 0.00015037508)\n",
      "('envisage', 0.00015037508)\n",
      "('reclaiming', 0.00015037504)\n",
      "('siblings', 0.00015037502)\n",
      "('block', 0.00015037501)\n",
      "('wondering', 0.00015037501)\n",
      "('bigger', 0.00015037495)\n",
      "('catch', 0.00015037495)\n",
      "('lurking', 0.00015037492)\n",
      "('lacquer', 0.0001503749)\n",
      "('mumble', 0.0001503749)\n"
     ]
    }
   ],
   "source": [
    "\n",
    "for i in range(2400, 2443):\n",
    "    print(l0[i])"
   ]
  },
  {
   "cell_type": "code",
   "execution_count": 203,
   "metadata": {},
   "outputs": [
    {
     "name": "stdout",
     "output_type": "stream",
     "text": [
      "('reminiscent', 0.00026351822)\n",
      "('persistently', 0.0002635182)\n",
      "('mumble', 0.0002635178)\n",
      "('lurking', 0.0002635177)\n",
      "('bigger', 0.0002635176)\n",
      "('lacquer', 0.00026351752)\n",
      "('catch', 0.00026351746)\n",
      "('block', 0.00026351743)\n",
      "('wondering', 0.00026351726)\n",
      "('siblings', 0.00026351717)\n",
      "('envisage', 0.000263517)\n",
      "('reclaiming', 0.000263517)\n",
      "('singing', 0.00026351694)\n",
      "('shells', 0.00026351685)\n",
      "('foxwitches', 0.00026351682)\n",
      "('swotting', 0.0002635168)\n",
      "('nail', 0.00026351676)\n",
      "('build', 0.00026351676)\n",
      "('xxxiii', 0.00026351667)\n",
      "('career', 0.00026351656)\n",
      "('xxxvii', 0.00026351656)\n",
      "('ramblings', 0.0002635165)\n",
      "('groundbreaking', 0.00026351638)\n",
      "('primary', 0.00026351635)\n",
      "('date', 0.0002635163)\n",
      "('schwitters', 0.00026351618)\n",
      "('terrestrialization', 0.00026351606)\n",
      "('francis', 0.000263516)\n",
      "('brags', 0.000263516)\n",
      "('resonates', 0.00026351595)\n",
      "('him…', 0.00026351595)\n",
      "('fighting', 0.00026351577)\n",
      "('1948', 0.00026351569)\n",
      "('jousting', 0.00026351566)\n",
      "('eyed', 0.00026351566)\n",
      "('collages', 0.0002635156)\n",
      "('fragmented', 0.00026351548)\n",
      "('one', 0.0002635153)\n",
      "('2020', 0.00026351504)\n",
      "('position', 0.0002635149)\n",
      "('transparent—surely', 0.0002635148)\n",
      "('heap', 0.00026351455)\n"
     ]
    }
   ],
   "source": [
    "\n",
    "for i in range(2636, 2678):\n",
    "    print(l1[i])"
   ]
  },
  {
   "cell_type": "code",
   "execution_count": 207,
   "metadata": {},
   "outputs": [
    {
     "name": "stdout",
     "output_type": "stream",
     "text": [
      "('ended', 0.00015037404)\n",
      "('hard—', 0.00015037396)\n",
      "('hierarchies', 0.00015037395)\n",
      "('dezvoltării', 0.00015037395)\n",
      "('creatures', 0.00015037393)\n",
      "('alvin', 0.00015037393)\n",
      "('solar', 0.00015037393)\n",
      "('hymen', 0.0001503739)\n",
      "('colorfully', 0.0001503739)\n",
      "('loads', 0.00015037389)\n",
      "('moods', 0.00015037387)\n",
      "('route', 0.00015037387)\n",
      "('bottles—drinks', 0.00015037385)\n",
      "('poverty—well', 0.0001503738)\n",
      "('butterflies', 0.0001503738)\n",
      "('nightingales', 0.0001503738)\n",
      "('incompetent', 0.00015037374)\n",
      "('grace', 0.00015037374)\n",
      "('appealing', 0.00015037374)\n",
      "('talks', 0.00015037373)\n",
      "('worry', 0.00015037373)\n",
      "('brushed', 0.0001503737)\n",
      "('wondrously', 0.0001503737)\n",
      "('esperanza', 0.00015037367)\n",
      "('hunger', 0.00015037366)\n",
      "('grave', 0.00015037366)\n",
      "('scan', 0.00015037364)\n",
      "('acts', 0.00015037364)\n",
      "('converse', 0.0001503736)\n",
      "('contented', 0.00015037358)\n",
      "('alexandrian', 0.00015037357)\n",
      "('telephoto', 0.00015037355)\n",
      "('reciter', 0.00015037355)\n",
      "('students', 0.00015037355)\n",
      "('wrinkles', 0.00015037353)\n",
      "('rochester', 0.0001503735)\n",
      "('horizon', 0.00015037347)\n",
      "('unfaltering', 0.00015037347)\n",
      "('clocks', 0.00015037347)\n",
      "('done—', 0.00015037345)\n",
      "('interiorexterior', 0.00015037344)\n",
      "('stanza', 0.00015037342)\n",
      "('către', 0.00015037341)\n",
      "('fumbling', 0.0001503734)\n",
      "('amount', 0.0001503734)\n",
      "('drank', 0.0001503734)\n",
      "('crying', 0.0001503734)\n",
      "('ferry', 0.00015037334)\n",
      "('carefully', 0.00015037332)\n",
      "('nobility', 0.0001503733)\n",
      "('lamp', 0.00015037326)\n",
      "('astral', 0.00015037326)\n"
     ]
    }
   ],
   "source": [
    "\n",
    "for i in range(2488, 2540):\n",
    "    print(l0[i])"
   ]
  },
  {
   "cell_type": "code",
   "execution_count": 206,
   "metadata": {},
   "outputs": [
    {
     "name": "stdout",
     "output_type": "stream",
     "text": [
      "('stanza', 0.0002635255)\n",
      "('done—', 0.0002635255)\n",
      "('către', 0.0002635254)\n",
      "('interiorexterior', 0.00026352538)\n",
      "('horizon', 0.00026352535)\n",
      "('unfaltering', 0.00026352535)\n",
      "('clocks', 0.00026352514)\n",
      "('wrinkles', 0.000263525)\n",
      "('rochester', 0.0002635249)\n",
      "('contented', 0.0002635248)\n",
      "('reciter', 0.0002635248)\n",
      "('telephoto', 0.00026352477)\n",
      "('converse', 0.00026352468)\n",
      "('alexandrian', 0.00026352462)\n",
      "('students', 0.0002635246)\n",
      "('grave', 0.00026352436)\n",
      "('hunger', 0.00026352433)\n",
      "('scan', 0.0002635243)\n",
      "('acts', 0.00026352415)\n",
      "('esperanza', 0.0002635241)\n",
      "('wondrously', 0.0002635241)\n",
      "('brushed', 0.00026352392)\n",
      "('incompetent', 0.0002635239)\n",
      "('worry', 0.0002635239)\n",
      "('talks', 0.00026352383)\n",
      "('appealing', 0.0002635238)\n",
      "('grace', 0.00026352375)\n",
      "('poverty—well', 0.00026352354)\n",
      "('butterflies', 0.0002635235)\n",
      "('nightingales', 0.0002635233)\n",
      "('bottles—drinks', 0.00026352316)\n",
      "('loads', 0.00026352316)\n",
      "('moods', 0.00026352308)\n",
      "('colorfully', 0.00026352302)\n",
      "('route', 0.00026352302)\n",
      "('hymen', 0.00026352287)\n",
      "('solar', 0.0002635228)\n",
      "('creatures', 0.0002635228)\n",
      "('alvin', 0.00026352273)\n",
      "('dezvoltării', 0.0002635227)\n",
      "('hard—', 0.00026352264)\n",
      "('hierarchies', 0.0002635226)\n"
     ]
    }
   ],
   "source": [
    "\n",
    "for i in range(2550, 2592):\n",
    "    print(l1[i])"
   ]
  },
  {
   "cell_type": "code",
   "execution_count": 208,
   "metadata": {},
   "outputs": [
    {
     "name": "stdout",
     "output_type": "stream",
     "text": [
      "2546\n"
     ]
    }
   ],
   "source": [
    "\n",
    "for i in range(3785):\n",
    "    if l0[i][0] == \"fourbeat\":\n",
    "        print(i)"
   ]
  },
  {
   "cell_type": "code",
   "execution_count": 209,
   "metadata": {},
   "outputs": [
    {
     "name": "stdout",
     "output_type": "stream",
     "text": [
      "2535\n"
     ]
    }
   ],
   "source": [
    "\n",
    "for i in range(3785):\n",
    "    if l1[i][0] == \"fourbeat\":\n",
    "        print(i)"
   ]
  },
  {
   "cell_type": "code",
   "execution_count": 210,
   "metadata": {},
   "outputs": [
    {
     "name": "stdout",
     "output_type": "stream",
     "text": [
      "('unfaltering', 0.00015037347)\n",
      "('clocks', 0.00015037347)\n",
      "('done—', 0.00015037345)\n",
      "('interiorexterior', 0.00015037344)\n",
      "('stanza', 0.00015037342)\n",
      "('către', 0.00015037341)\n",
      "('fumbling', 0.0001503734)\n",
      "('amount', 0.0001503734)\n",
      "('drank', 0.0001503734)\n",
      "('crying', 0.0001503734)\n",
      "('ferry', 0.00015037334)\n",
      "('carefully', 0.00015037332)\n",
      "('nobility', 0.0001503733)\n",
      "('lamp', 0.00015037326)\n",
      "('astral', 0.00015037326)\n",
      "('either—', 0.00015037325)\n",
      "('riposte', 0.00015037318)\n",
      "('discouraging', 0.00015037318)\n",
      "('besiege', 0.00015037315)\n",
      "('darkyears', 0.00015037313)\n",
      "('dirtied', 0.00015037313)\n",
      "('fourbeat', 0.00015037313)\n",
      "('served', 0.00015037313)\n",
      "('lens', 0.00015037312)\n",
      "('undiscovered', 0.0001503731)\n",
      "('outline', 0.00015037309)\n",
      "('flutter', 0.00015037306)\n",
      "('series', 0.00015037306)\n",
      "('jockey', 0.00015037306)\n",
      "('waste', 0.00015037305)\n",
      "('deafening', 0.00015037305)\n",
      "('steve', 0.00015037303)\n",
      "('visible', 0.00015037302)\n",
      "('convulsive', 0.00015037302)\n",
      "('poems—it', 0.00015037299)\n",
      "('meagre', 0.00015037299)\n",
      "('maramureș', 0.00015037293)\n",
      "('projecting', 0.00015037291)\n",
      "('allpowerful', 0.00015037291)\n",
      "('genitalia', 0.00015037291)\n",
      "('festering', 0.00015037289)\n"
     ]
    }
   ],
   "source": [
    "\n",
    "for i in range(2525, 2566):\n",
    "    print(l0[i])"
   ]
  },
  {
   "cell_type": "code",
   "execution_count": 211,
   "metadata": {},
   "outputs": [
    {
     "name": "stdout",
     "output_type": "stream",
     "text": [
      "('looms', 0.00026352832)\n",
      "('genitalia', 0.00026352826)\n",
      "('maramureș', 0.0002635281)\n",
      "('projecting', 0.0002635281)\n",
      "('allpowerful', 0.00026352803)\n",
      "('festering', 0.00026352797)\n",
      "('poems—it', 0.00026352788)\n",
      "('meagre', 0.00026352782)\n",
      "('steve', 0.00026352765)\n",
      "('visible', 0.0002635276)\n",
      "('convulsive', 0.00026352747)\n",
      "('waste', 0.00026352744)\n",
      "('series', 0.00026352744)\n",
      "('deafening', 0.0002635274)\n",
      "('flutter', 0.00026352738)\n",
      "('jockey', 0.00026352738)\n",
      "('served', 0.0002635272)\n",
      "('outline', 0.00026352712)\n",
      "('undiscovered', 0.00026352704)\n",
      "('lens', 0.000263527)\n",
      "('dirtied', 0.00026352695)\n",
      "('fourbeat', 0.00026352686)\n",
      "('riposte', 0.00026352683)\n",
      "('darkyears', 0.00026352683)\n",
      "('discouraging', 0.00026352674)\n",
      "('besiege', 0.00026352666)\n",
      "('either—', 0.00026352637)\n",
      "('astral', 0.00026352634)\n",
      "('lamp', 0.00026352625)\n",
      "('nobility', 0.0002635262)\n",
      "('carefully', 0.00026352602)\n",
      "('ferry', 0.00026352596)\n",
      "('crying', 0.00026352578)\n",
      "('drank', 0.00026352567)\n",
      "('amount', 0.00026352555)\n",
      "('fumbling', 0.00026352552)\n",
      "('stanza', 0.0002635255)\n",
      "('done—', 0.0002635255)\n",
      "('către', 0.0002635254)\n",
      "('interiorexterior', 0.00026352538)\n",
      "('horizon', 0.00026352535)\n"
     ]
    }
   ],
   "source": [
    "\n",
    "for i in range(2514, 2555):\n",
    "    print(l1[i])"
   ]
  },
  {
   "cell_type": "code",
   "execution_count": 215,
   "metadata": {},
   "outputs": [
    {
     "name": "stdout",
     "output_type": "stream",
     "text": [
      "3345\n"
     ]
    }
   ],
   "source": [
    "\n",
    "for i in range(3785):\n",
    "    if l0[i][0] == \"states\":\n",
    "        print(i)"
   ]
  },
  {
   "cell_type": "code",
   "execution_count": 216,
   "metadata": {},
   "outputs": [
    {
     "name": "stdout",
     "output_type": "stream",
     "text": [
      "1734\n"
     ]
    }
   ],
   "source": [
    "\n",
    "for i in range(3785):\n",
    "    if l1[i][0] == \"states\":\n",
    "        print(i)"
   ]
  },
  {
   "cell_type": "code",
   "execution_count": 217,
   "metadata": {},
   "outputs": [
    {
     "name": "stdout",
     "output_type": "stream",
     "text": [
      "('offered', 0.00015035881)\n",
      "('menacing', 0.00015035877)\n",
      "('rambled', 0.0001503587)\n",
      "('radically', 0.00015035868)\n",
      "('apartment', 0.00015035868)\n",
      "('courbet', 0.00015035864)\n",
      "('epsom', 0.00015035858)\n",
      "('stifling', 0.00015035857)\n",
      "('xxxvi', 0.00015035852)\n",
      "('boundless', 0.00015035852)\n",
      "('spats', 0.0001503585)\n",
      "('rotten', 0.00015035848)\n",
      "('structure—all', 0.00015035845)\n",
      "('cheek', 0.00015035842)\n",
      "('rewriting', 0.0001503584)\n",
      "('stinking', 0.0001503584)\n",
      "('early', 0.0001503584)\n",
      "('rubble', 0.00015035836)\n",
      "('argued', 0.00015035835)\n",
      "('realism', 0.00015035833)\n",
      "('hanksa', 0.00015035833)\n",
      "('states', 0.00015035828)\n",
      "('legroom', 0.00015035826)\n",
      "('rebirth—', 0.00015035823)\n",
      "('reinforced', 0.00015035819)\n",
      "('joys', 0.00015035816)\n",
      "('propeller', 0.00015035813)\n",
      "('plain', 0.00015035809)\n",
      "('slouchy', 0.00015035806)\n",
      "('textual', 0.000150358)\n",
      "('victims', 0.00015035797)\n",
      "('rarely', 0.00015035796)\n",
      "('wave', 0.00015035794)\n",
      "('raise', 0.00015035793)\n",
      "('fans', 0.0001503579)\n",
      "('offend', 0.00015035785)\n",
      "('portion', 0.00015035782)\n",
      "('paired', 0.00015035781)\n",
      "('amiss', 0.00015035778)\n",
      "('pockets', 0.00015035777)\n",
      "('tickling', 0.00015035775)\n",
      "('knife', 0.00015035771)\n"
     ]
    }
   ],
   "source": [
    "\n",
    "for i in range(3324, 3366):\n",
    "    print(l0[i])"
   ]
  },
  {
   "cell_type": "code",
   "execution_count": 218,
   "metadata": {},
   "outputs": [
    {
     "name": "stdout",
     "output_type": "stream",
     "text": [
      "('knife', 0.00026360695)\n",
      "('divine', 0.0002636069)\n",
      "('tickling', 0.00026360666)\n",
      "('pockets', 0.0002636066)\n",
      "('paired', 0.00026360658)\n",
      "('amiss', 0.00026360646)\n",
      "('portion', 0.00026360634)\n",
      "('offend', 0.00026360605)\n",
      "('wave', 0.0002636058)\n",
      "('fans', 0.0002636058)\n",
      "('rarely', 0.00026360576)\n",
      "('raise', 0.00026360573)\n",
      "('victims', 0.0002636057)\n",
      "('textual', 0.00026360544)\n",
      "('slouchy', 0.00026360518)\n",
      "('plain', 0.0002636049)\n",
      "('propeller', 0.0002636047)\n",
      "('joys', 0.0002636046)\n",
      "('reinforced', 0.0002636045)\n",
      "('rebirth—', 0.00026360428)\n",
      "('legroom', 0.00026360413)\n",
      "('states', 0.000263604)\n",
      "('hanksa', 0.0002636038)\n",
      "('realism', 0.00026360378)\n",
      "('argued', 0.00026360372)\n",
      "('rubble', 0.00026360364)\n",
      "('early', 0.0002636034)\n",
      "('stinking', 0.00026360335)\n",
      "('rewriting', 0.00026360332)\n",
      "('cheek', 0.00026360326)\n",
      "('structure—all', 0.00026360308)\n",
      "('rotten', 0.00026360305)\n",
      "('xxxvi', 0.00026360282)\n",
      "('spats', 0.00026360276)\n",
      "('boundless', 0.00026360276)\n",
      "('stifling', 0.00026360265)\n",
      "('epsom', 0.00026360244)\n",
      "('courbet', 0.00026360215)\n",
      "('apartment', 0.000263602)\n",
      "('rambled', 0.00026360186)\n",
      "('radically', 0.0002636018)\n",
      "('menacing', 0.00026360166)\n"
     ]
    }
   ],
   "source": [
    "\n",
    "for i in range(1713, 1755):\n",
    "    print(l1[i])"
   ]
  },
  {
   "cell_type": "code",
   "execution_count": 219,
   "metadata": {},
   "outputs": [
    {
     "name": "stdout",
     "output_type": "stream",
     "text": [
      "0\n"
     ]
    }
   ],
   "source": [
    "\n",
    "for i in range(3785):\n",
    "    if l0[i][0] == \"verse\":\n",
    "        print(i)"
   ]
  },
  {
   "cell_type": "code",
   "execution_count": 220,
   "metadata": {},
   "outputs": [
    {
     "name": "stdout",
     "output_type": "stream",
     "text": [
      "0\n"
     ]
    }
   ],
   "source": [
    "for i in range(3785):\n",
    "    if l1[i][0] == \"verse\":\n",
    "        print(i)"
   ]
  },
  {
   "cell_type": "code",
   "execution_count": 221,
   "metadata": {},
   "outputs": [
    {
     "name": "stdout",
     "output_type": "stream",
     "text": [
      "('verse', 0.005966314)\n",
      "('poet', 0.005565974)\n",
      "('ovid', 0.0049642525)\n",
      "('when', 0.004664056)\n",
      "('other', 0.004160677)\n",
      "('time', 0.0039610923)\n",
      "('poem', 0.0035603365)\n",
      "('work', 0.003258356)\n",
      "('know', 0.0029588894)\n",
      "('write', 0.0026574135)\n",
      "('poets', 0.0025569715)\n",
      "('naum', 0.0025567992)\n",
      "('said', 0.002456694)\n",
      "('poetry', 0.002356873)\n",
      "('long', 0.0022569722)\n",
      "('where', 0.0022569187)\n",
      "('still', 0.0022564116)\n",
      "('better', 0.0022562025)\n",
      "('lines', 0.00215656)\n",
      "('marlowe', 0.0021565487)\n",
      "('writing', 0.0021560013)\n",
      "('down', 0.0020562706)\n",
      "('night', 0.0020560983)\n",
      "('half', 0.0020560639)\n",
      "('full', 0.002055618)\n",
      "('over', 0.0019557113)\n",
      "('every', 0.0019556393)\n",
      "('both', 0.0019554493)\n",
      "('thought', 0.0019554475)\n",
      "('under', 0.0019552922)\n",
      "('dryden', 0.0019552046)\n",
      "('life', 0.0018550719)\n",
      "('line', 0.001855044)\n",
      "('words', 0.0018550262)\n",
      "('between', 0.0018550013)\n",
      "('sequence', 0.0017553684)\n",
      "('things', 0.0017553205)\n",
      "('might', 0.0017553084)\n",
      "('make', 0.0017551153)\n",
      "('right', 0.0016551316)\n",
      "('before', 0.0016550309)\n",
      "('here', 0.0016548585)\n"
     ]
    }
   ],
   "source": [
    "\n",
    "for i in range(42):\n",
    "    print(l0[i])"
   ]
  },
  {
   "cell_type": "code",
   "execution_count": 222,
   "metadata": {},
   "outputs": [
    {
     "name": "stdout",
     "output_type": "stream",
     "text": [
      "('verse', 0.00030230705)\n",
      "('poet', 0.00029564928)\n",
      "('other', 0.0002938704)\n",
      "('ovid', 0.00029200802)\n",
      "('time', 0.0002874832)\n",
      "('work', 0.00028705088)\n",
      "('when', 0.0002867225)\n",
      "('poem', 0.00028300693)\n",
      "('naum', 0.00028044012)\n",
      "('poets', 0.00027954704)\n",
      "('write', 0.00027933918)\n",
      "('said', 0.0002788923)\n",
      "('know', 0.00027794047)\n",
      "('better', 0.0002772503)\n",
      "('writing', 0.0002761919)\n",
      "('still', 0.00027615283)\n",
      "('dryden', 0.00027614806)\n",
      "('full', 0.00027609136)\n",
      "('poetry', 0.0002758482)\n",
      "('under', 0.00027568787)\n",
      "('between', 0.0002751058)\n",
      "('love', 0.00027499296)\n",
      "('words', 0.00027497308)\n",
      "('line', 0.00027487817)\n",
      "('thought', 0.00027487686)\n",
      "('both', 0.00027487017)\n",
      "('life', 0.00027473958)\n",
      "('every', 0.00027387086)\n",
      "('half', 0.0002737533)\n",
      "('night', 0.00027358005)\n",
      "('where', 0.00027349978)\n",
      "('over', 0.0002734988)\n",
      "('marlowe', 0.00027333092)\n",
      "('never', 0.0002733227)\n",
      "('lines', 0.00027327114)\n",
      "('long', 0.00027321812)\n",
      "('only', 0.0002731033)\n",
      "('water', 0.00027283418)\n",
      "('down', 0.00027267676)\n",
      "('each', 0.00027265097)\n",
      "('something', 0.00027254774)\n",
      "('make', 0.00027240303)\n"
     ]
    }
   ],
   "source": [
    "\n",
    "for i in range(42):\n",
    "    print(l1[i])"
   ]
  },
  {
   "cell_type": "code",
   "execution_count": 26,
   "metadata": {},
   "outputs": [
    {
     "name": "stdout",
     "output_type": "stream",
     "text": [
      "720\n"
     ]
    }
   ],
   "source": [
    "\n",
    "for i in range(3785):\n",
    "    if l0[i][0] == \"repetition\":\n",
    "        print(i)"
   ]
  },
  {
   "cell_type": "code",
   "execution_count": 28,
   "metadata": {},
   "outputs": [
    {
     "name": "stdout",
     "output_type": "stream",
     "text": [
      "1275\n"
     ]
    }
   ],
   "source": [
    "\n",
    "for i in range(3785):\n",
    "    if l1[i][0] == \"repetition\":\n",
    "        print(i)"
   ]
  },
  {
   "cell_type": "code",
   "execution_count": 30,
   "metadata": {},
   "outputs": [
    {
     "name": "stdout",
     "output_type": "stream",
     "text": [
      "('american', 0.0002507637)\n",
      "('incredible', 0.00025074606)\n",
      "('wheels', 0.00025074455)\n",
      "('bearer', 0.0002507409)\n",
      "('held', 0.00025074056)\n",
      "('favourite', 0.0002507385)\n",
      "('rifle', 0.00025073625)\n",
      "('deeply', 0.00025073488)\n",
      "('food', 0.00025073462)\n",
      "('fast', 0.00025073337)\n",
      "('blanket', 0.00025073238)\n",
      "('migrations', 0.0002507312)\n",
      "('close', 0.00025073107)\n",
      "('edited', 0.0002507301)\n",
      "('wearing', 0.0002507249)\n",
      "('tunes', 0.00025072432)\n",
      "('artistic', 0.0002507243)\n",
      "('whoever', 0.00025072362)\n",
      "('inspiring', 0.00025072202)\n",
      "('terms', 0.00025072176)\n",
      "('whereas', 0.0002507208)\n",
      "('repetition', 0.0002507172)\n",
      "('staid', 0.0002507151)\n",
      "('fruit', 0.00025071492)\n",
      "('approached', 0.00025071454)\n",
      "('notes', 0.00025071396)\n",
      "('rough', 0.00025071367)\n",
      "('couple', 0.00025071355)\n",
      "('grandfather', 0.00025071332)\n",
      "('during', 0.00025071326)\n",
      "('pool', 0.00025071218)\n",
      "('velvet', 0.00025071175)\n",
      "('bearing', 0.00025071163)\n",
      "('insectpoet', 0.00025071134)\n",
      "('gives', 0.00025071017)\n",
      "('covent', 0.00025070948)\n",
      "('birds', 0.00025070825)\n",
      "('conducive', 0.00025070718)\n",
      "('lock', 0.00025070691)\n",
      "('longer', 0.00025070683)\n",
      "('multicultural', 0.00025070662)\n",
      "('ashy', 0.0002507063)\n"
     ]
    }
   ],
   "source": [
    "\n",
    "for i in range(699, 741):\n",
    "    print(l0[i])"
   ]
  },
  {
   "cell_type": "code",
   "execution_count": 29,
   "metadata": {},
   "outputs": [
    {
     "name": "stdout",
     "output_type": "stream",
     "text": [
      "('ashy', 0.00026387544)\n",
      "('multicultural', 0.0002638733)\n",
      "('longer', 0.0002638723)\n",
      "('lock', 0.00026387197)\n",
      "('conducive', 0.0002638707)\n",
      "('birds', 0.000263865)\n",
      "('covent', 0.00026385873)\n",
      "('gives', 0.00026385512)\n",
      "('insectpoet', 0.00026384916)\n",
      "('bearing', 0.00026384738)\n",
      "('velvet', 0.00026384695)\n",
      "('pool', 0.00026384444)\n",
      "('during', 0.0002638391)\n",
      "('grandfather', 0.00026383883)\n",
      "('couple', 0.00026383688)\n",
      "('rough', 0.0002638368)\n",
      "('notes', 0.0002638356)\n",
      "('approached', 0.00026383225)\n",
      "('fruit', 0.00026383038)\n",
      "('staid', 0.00026382942)\n",
      "('spread', 0.00026382573)\n",
      "('repetition', 0.00026381848)\n",
      "('bedded', 0.00026380943)\n",
      "('heed', 0.00026380707)\n",
      "('whereas', 0.00026379953)\n",
      "('instant', 0.0002637981)\n",
      "('terms', 0.0002637947)\n",
      "('inspiring', 0.00026379334)\n",
      "('events', 0.00026378935)\n",
      "('whoever', 0.0002637849)\n",
      "('goal—', 0.00026378268)\n",
      "('artistic', 0.00026378097)\n",
      "('readership', 0.00026378082)\n",
      "('tunes', 0.00026378073)\n",
      "('wearing', 0.0002637784)\n",
      "('assured', 0.00026377087)\n",
      "('perpetual', 0.000263765)\n",
      "('lively', 0.00026375666)\n",
      "('edited', 0.0002637507)\n",
      "('translatingwriting', 0.0002637501)\n",
      "('dyed', 0.00026374782)\n",
      "('close', 0.00026374563)\n"
     ]
    }
   ],
   "source": [
    "\n",
    "for i in range(1254, 1296):\n",
    "    print(l1[i])"
   ]
  },
  {
   "cell_type": "code",
   "execution_count": 32,
   "metadata": {},
   "outputs": [
    {
     "name": "stdout",
     "output_type": "stream",
     "text": [
      "2061\n"
     ]
    }
   ],
   "source": [
    "\n",
    "for i in range(3785):\n",
    "    if l0[i][0] == \"fumblings\":\n",
    "        print(i)"
   ]
  },
  {
   "cell_type": "code",
   "execution_count": 33,
   "metadata": {},
   "outputs": [
    {
     "name": "stdout",
     "output_type": "stream",
     "text": [
      "3021\n"
     ]
    }
   ],
   "source": [
    "\n",
    "for i in range(3785):\n",
    "    if l1[i][0] == \"fumblings\":\n",
    "        print(i)"
   ]
  },
  {
   "cell_type": "code",
   "execution_count": 34,
   "metadata": {},
   "outputs": [
    {
     "name": "stdout",
     "output_type": "stream",
     "text": [
      "('laps', 0.00015038122)\n",
      "('literatures', 0.00015038122)\n",
      "('selfeffacingly', 0.0001503812)\n",
      "('cliffs', 0.0001503812)\n",
      "('turbulence', 0.0001503812)\n",
      "('makes', 0.0001503812)\n",
      "('figures', 0.00015038117)\n",
      "('smoked', 0.00015038115)\n",
      "('attracts', 0.00015038114)\n",
      "('objects', 0.0001503811)\n",
      "('heaps', 0.0001503811)\n",
      "('moves', 0.00015038108)\n",
      "('onset', 0.00015038103)\n",
      "('mending', 0.00015038102)\n",
      "('halves', 0.000150381)\n",
      "('bars', 0.000150381)\n",
      "('introduced', 0.00015038095)\n",
      "('watermelons', 0.00015038095)\n",
      "('piecing', 0.00015038095)\n",
      "('kisses', 0.0001503809)\n",
      "('ethereal', 0.00015038089)\n",
      "('fumblings', 0.00015038089)\n",
      "('strange', 0.00015038083)\n",
      "('patterns', 0.00015038083)\n",
      "('dance', 0.00015038083)\n",
      "('bites', 0.0001503808)\n",
      "('nobel', 0.00015038079)\n",
      "('finished', 0.00015038076)\n",
      "('probing', 0.00015038074)\n",
      "('survivor', 0.00015038071)\n",
      "('interview', 0.00015038069)\n",
      "('insidious', 0.00015038069)\n",
      "('forcefully', 0.00015038067)\n",
      "('shifting', 0.00015038064)\n",
      "('track', 0.00015038061)\n",
      "('somewhat', 0.00015038058)\n",
      "('psychiclike', 0.00015038058)\n",
      "('pleasures', 0.00015038057)\n",
      "('lessons', 0.00015038054)\n",
      "('glory', 0.00015038051)\n",
      "('stake', 0.00015038051)\n",
      "('thomas', 0.0001503805)\n"
     ]
    }
   ],
   "source": [
    "\n",
    "for i in range(2040, 2082):\n",
    "    print(l0[i])"
   ]
  },
  {
   "cell_type": "code",
   "execution_count": 35,
   "metadata": {},
   "outputs": [
    {
     "name": "stdout",
     "output_type": "stream",
     "text": [
      "('glory', 0.0002634886)\n",
      "('stake', 0.0002634886)\n",
      "('pleasures', 0.00026348856)\n",
      "('lessons', 0.0002634885)\n",
      "('somewhat', 0.00026348847)\n",
      "('psychiclike', 0.00026348833)\n",
      "('track', 0.00026348824)\n",
      "('shifting', 0.00026348812)\n",
      "('forcefully', 0.00026348786)\n",
      "('insidious', 0.00026348783)\n",
      "('interview', 0.00026348775)\n",
      "('survivor', 0.00026348772)\n",
      "('probing', 0.0002634875)\n",
      "('finished', 0.00026348748)\n",
      "('nobel', 0.00026348722)\n",
      "('strange', 0.0002634872)\n",
      "('bites', 0.00026348716)\n",
      "('dance', 0.00026348708)\n",
      "('patterns', 0.00026348693)\n",
      "('ethereal', 0.0002634868)\n",
      "('kisses', 0.00026348679)\n",
      "('fumblings', 0.00026348673)\n",
      "('watermelons', 0.00026348646)\n",
      "('piecing', 0.00026348638)\n",
      "('introduced', 0.0002634862)\n",
      "('mending', 0.00026348612)\n",
      "('halves', 0.00026348612)\n",
      "('bars', 0.0002634861)\n",
      "('onset', 0.00026348597)\n",
      "('moves', 0.00026348562)\n",
      "('objects', 0.0002634856)\n",
      "('attracts', 0.0002634856)\n",
      "('heaps', 0.00026348553)\n",
      "('figures', 0.00026348533)\n",
      "('smoked', 0.00026348527)\n",
      "('makes', 0.00026348516)\n",
      "('selfeffacingly', 0.00026348513)\n",
      "('turbulence', 0.00026348513)\n",
      "('laps', 0.00026348507)\n",
      "('regarding', 0.00026348504)\n",
      "('literatures', 0.00026348504)\n",
      "('bewildered', 0.000263485)\n"
     ]
    }
   ],
   "source": [
    "\n",
    "for i in range(3000, 3042):\n",
    "    print(l1[i])"
   ]
  },
  {
   "cell_type": "code",
   "execution_count": 37,
   "metadata": {},
   "outputs": [
    {
     "name": "stdout",
     "output_type": "stream",
     "text": [
      "2065\n"
     ]
    }
   ],
   "source": [
    "\n",
    "for i in range(3785):\n",
    "    if l0[i][0] == \"bites\":\n",
    "        print(i)"
   ]
  },
  {
   "cell_type": "code",
   "execution_count": 36,
   "metadata": {},
   "outputs": [
    {
     "name": "stdout",
     "output_type": "stream",
     "text": [
      "3016\n"
     ]
    }
   ],
   "source": [
    "\n",
    "for i in range(3785):\n",
    "    if l1[i][0] == \"bites\":\n",
    "        print(i)"
   ]
  },
  {
   "cell_type": "code",
   "execution_count": 40,
   "metadata": {},
   "outputs": [
    {
     "name": "stdout",
     "output_type": "stream",
     "text": [
      "('turbulence', 0.0001503812)\n",
      "('makes', 0.0001503812)\n",
      "('figures', 0.00015038117)\n",
      "('smoked', 0.00015038115)\n",
      "('attracts', 0.00015038114)\n",
      "('objects', 0.0001503811)\n",
      "('heaps', 0.0001503811)\n",
      "('moves', 0.00015038108)\n",
      "('onset', 0.00015038103)\n",
      "('mending', 0.00015038102)\n",
      "('halves', 0.000150381)\n",
      "('bars', 0.000150381)\n",
      "('introduced', 0.00015038095)\n",
      "('watermelons', 0.00015038095)\n",
      "('piecing', 0.00015038095)\n",
      "('kisses', 0.0001503809)\n",
      "('ethereal', 0.00015038089)\n",
      "('fumblings', 0.00015038089)\n",
      "('strange', 0.00015038083)\n",
      "('patterns', 0.00015038083)\n",
      "('dance', 0.00015038083)\n",
      "('bites', 0.0001503808)\n",
      "('nobel', 0.00015038079)\n",
      "('finished', 0.00015038076)\n",
      "('probing', 0.00015038074)\n",
      "('survivor', 0.00015038071)\n",
      "('interview', 0.00015038069)\n",
      "('insidious', 0.00015038069)\n",
      "('forcefully', 0.00015038067)\n",
      "('shifting', 0.00015038064)\n",
      "('track', 0.00015038061)\n",
      "('somewhat', 0.00015038058)\n",
      "('psychiclike', 0.00015038058)\n",
      "('pleasures', 0.00015038057)\n",
      "('lessons', 0.00015038054)\n",
      "('glory', 0.00015038051)\n",
      "('stake', 0.00015038051)\n",
      "('thomas', 0.0001503805)\n",
      "('newspaper', 0.0001503805)\n",
      "('vicarious', 0.00015038048)\n",
      "('length', 0.00015038045)\n",
      "('naked', 0.00015038038)\n"
     ]
    }
   ],
   "source": [
    "\n",
    "for i in range(2044, 2086):\n",
    "    print(l0[i])"
   ]
  },
  {
   "cell_type": "code",
   "execution_count": 39,
   "metadata": {},
   "outputs": [
    {
     "name": "stdout",
     "output_type": "stream",
     "text": [
      "('takeover', 0.0002634905)\n",
      "('aches', 0.00026349048)\n",
      "('abhorrent', 0.00026349048)\n",
      "('drummers', 0.00026348996)\n",
      "('palate', 0.0002634898)\n",
      "('nearby', 0.0002634898)\n",
      "('1971', 0.00026348972)\n",
      "('shorter', 0.00026348972)\n",
      "('eclipses', 0.0002634897)\n",
      "('record', 0.0002634897)\n",
      "('healthier', 0.0002634897)\n",
      "('develops', 0.00026348964)\n",
      "('intuition', 0.0002634896)\n",
      "('planned', 0.00026348958)\n",
      "('posts', 0.00026348946)\n",
      "('naked', 0.00026348935)\n",
      "('length', 0.000263489)\n",
      "('thomas', 0.00026348894)\n",
      "('vicarious', 0.00026348885)\n",
      "('newspaper', 0.00026348876)\n",
      "('glory', 0.0002634886)\n",
      "('stake', 0.0002634886)\n",
      "('pleasures', 0.00026348856)\n",
      "('lessons', 0.0002634885)\n",
      "('somewhat', 0.00026348847)\n",
      "('psychiclike', 0.00026348833)\n",
      "('track', 0.00026348824)\n",
      "('shifting', 0.00026348812)\n",
      "('forcefully', 0.00026348786)\n",
      "('insidious', 0.00026348783)\n",
      "('interview', 0.00026348775)\n",
      "('survivor', 0.00026348772)\n",
      "('probing', 0.0002634875)\n",
      "('finished', 0.00026348748)\n",
      "('nobel', 0.00026348722)\n",
      "('strange', 0.0002634872)\n",
      "('bites', 0.00026348716)\n",
      "('dance', 0.00026348708)\n",
      "('patterns', 0.00026348693)\n",
      "('ethereal', 0.0002634868)\n",
      "('kisses', 0.00026348679)\n",
      "('fumblings', 0.00026348673)\n",
      "('watermelons', 0.00026348646)\n",
      "('piecing', 0.00026348638)\n",
      "('introduced', 0.0002634862)\n",
      "('mending', 0.00026348612)\n",
      "('halves', 0.00026348612)\n",
      "('bars', 0.0002634861)\n",
      "('onset', 0.00026348597)\n",
      "('moves', 0.00026348562)\n",
      "('objects', 0.0002634856)\n",
      "('attracts', 0.0002634856)\n",
      "('heaps', 0.00026348553)\n",
      "('figures', 0.00026348533)\n",
      "('smoked', 0.00026348527)\n",
      "('makes', 0.00026348516)\n",
      "('selfeffacingly', 0.00026348513)\n",
      "('turbulence', 0.00026348513)\n",
      "('laps', 0.00026348507)\n",
      "('regarding', 0.00026348504)\n",
      "('literatures', 0.00026348504)\n",
      "('bewildered', 0.000263485)\n",
      "('reemerged', 0.0002634849)\n",
      "('cliffs', 0.0002634849)\n",
      "('cunning', 0.00026348478)\n",
      "('snails', 0.0002634846)\n",
      "('sitting', 0.00026348457)\n",
      "('stool', 0.00026348446)\n",
      "('experimental', 0.00026348443)\n",
      "('protection', 0.0002634844)\n",
      "('rusted', 0.00026348428)\n",
      "('fits', 0.00026348428)\n",
      "('tents', 0.00026348425)\n",
      "('stories', 0.00026348385)\n",
      "('aidf', 0.00026348376)\n",
      "('exciting', 0.00026348364)\n",
      "('frame', 0.00026348358)\n",
      "('leather', 0.00026348344)\n",
      "('tattoos', 0.00026348338)\n",
      "('interestingly', 0.0002634832)\n"
     ]
    }
   ],
   "source": [
    "\n",
    "for i in range(2980, 3060):\n",
    "    print(l1[i])"
   ]
  },
  {
   "cell_type": "code",
   "execution_count": 47,
   "metadata": {},
   "outputs": [
    {
     "name": "stdout",
     "output_type": "stream",
     "text": [
      "3761\n"
     ]
    }
   ],
   "source": [
    "\n",
    "for i in range(3785):\n",
    "    if l0[i][0] == \"cast\":\n",
    "        print(i)"
   ]
  },
  {
   "cell_type": "code",
   "execution_count": 48,
   "metadata": {},
   "outputs": [
    {
     "name": "stdout",
     "output_type": "stream",
     "text": [
      "1309\n"
     ]
    }
   ],
   "source": [
    "\n",
    "for i in range(3785):\n",
    "    if l1[i][0] == \"cast\":\n",
    "        print(i)"
   ]
  },
  {
   "cell_type": "code",
   "execution_count": 49,
   "metadata": {},
   "outputs": [
    {
     "name": "stdout",
     "output_type": "stream",
     "text": [
      "('library', 0.00015033888)\n",
      "('awkward', 0.00015033863)\n",
      "('zeppelin', 0.0001503386)\n",
      "('alarmed', 0.00015033853)\n",
      "('clichédismantling', 0.00015033822)\n",
      "('chat', 0.00015033808)\n",
      "('jasmine', 0.0001503379)\n",
      "('4year', 0.00015033786)\n",
      "('blade', 0.00015033744)\n",
      "('cages', 0.00015033729)\n",
      "('deserves', 0.00015033729)\n",
      "('rustling', 0.00015033715)\n",
      "('degas', 0.00015033701)\n",
      "('conservation', 0.00015033691)\n",
      "('editing', 0.00015033691)\n",
      "('foremost', 0.00015033678)\n",
      "('schimbarea', 0.0001503365)\n",
      "('smelling', 0.00015033648)\n",
      "('alchemist', 0.00015033611)\n",
      "('ceremonies', 0.00015033563)\n",
      "('informing', 0.00015033524)\n",
      "('contain', 0.00015033461)\n",
      "('cast', 0.00015033425)\n",
      "('flooded', 0.00015033422)\n",
      "('tones', 0.00015033397)\n",
      "('bounty', 0.00015033394)\n",
      "('flares', 0.00015033355)\n",
      "('heine', 0.00015033336)\n",
      "('songs', 0.00015033329)\n",
      "('bone', 0.00015033325)\n",
      "('king', 0.0001503328)\n",
      "('linen', 0.00015033186)\n",
      "('ascet', 0.0001503314)\n",
      "('realm', 0.00015033118)\n",
      "('dyed', 0.00015033057)\n",
      "('translatingwriting', 0.0001503301)\n",
      "('lively', 0.00015032884)\n",
      "('perpetual', 0.00015032724)\n",
      "('assured', 0.00015032612)\n",
      "('readership', 0.00015032418)\n",
      "('goal—', 0.00015032383)\n",
      "('events', 0.00015032252)\n",
      "('instant', 0.00015032083)\n",
      "('heed', 0.00015031912)\n",
      "('bedded', 0.00015031864)\n",
      "('spread', 0.00015031554)\n"
     ]
    },
    {
     "ename": "IndexError",
     "evalue": "list index out of range",
     "output_type": "error",
     "traceback": [
      "\u001b[0;31m---------------------------------------------------------------------------\u001b[0m",
      "\u001b[0;31mIndexError\u001b[0m                                Traceback (most recent call last)",
      "\u001b[0;32m<ipython-input-49-e13c907a214f>\u001b[0m in \u001b[0;36m<module>\u001b[0;34m\u001b[0m\n\u001b[1;32m      1\u001b[0m \u001b[0;32mfor\u001b[0m \u001b[0mi\u001b[0m \u001b[0;32min\u001b[0m \u001b[0mrange\u001b[0m\u001b[0;34m(\u001b[0m\u001b[0;36m3739\u001b[0m\u001b[0;34m,\u001b[0m \u001b[0;36m3786\u001b[0m\u001b[0;34m)\u001b[0m\u001b[0;34m:\u001b[0m\u001b[0;34m\u001b[0m\u001b[0;34m\u001b[0m\u001b[0m\n\u001b[0;32m----> 2\u001b[0;31m     \u001b[0mprint\u001b[0m\u001b[0;34m(\u001b[0m\u001b[0ml0\u001b[0m\u001b[0;34m[\u001b[0m\u001b[0mi\u001b[0m\u001b[0;34m]\u001b[0m\u001b[0;34m)\u001b[0m\u001b[0;34m\u001b[0m\u001b[0;34m\u001b[0m\u001b[0m\n\u001b[0m",
      "\u001b[0;31mIndexError\u001b[0m: list index out of range"
     ]
    }
   ],
   "source": [
    "\n",
    "for i in range(3739, 3786):\n",
    "    print(l0[i])"
   ]
  },
  {
   "cell_type": "code",
   "execution_count": 50,
   "metadata": {},
   "outputs": [
    {
     "name": "stdout",
     "output_type": "stream",
     "text": [
      "('wearing', 0.0002637784)\n",
      "('assured', 0.00026377087)\n",
      "('perpetual', 0.000263765)\n",
      "('lively', 0.00026375666)\n",
      "('edited', 0.0002637507)\n",
      "('translatingwriting', 0.0002637501)\n",
      "('dyed', 0.00026374782)\n",
      "('close', 0.00026374563)\n",
      "('migrations', 0.00026374546)\n",
      "('realm', 0.00026374465)\n",
      "('ascet', 0.00026374342)\n",
      "('linen', 0.00026374112)\n",
      "('blanket', 0.00026373914)\n",
      "('king', 0.0002637362)\n",
      "('bone', 0.00026373402)\n",
      "('fast', 0.00026373393)\n",
      "('songs', 0.00026373347)\n",
      "('heine', 0.0002637333)\n",
      "('flares', 0.00026373222)\n",
      "('bounty', 0.00026373018)\n",
      "('tones', 0.00026372992)\n",
      "('cast', 0.00026372873)\n",
      "('flooded', 0.0002637287)\n",
      "('food', 0.0002637273)\n",
      "('contain', 0.0002637268)\n",
      "('deeply', 0.00026372581)\n",
      "('informing', 0.00026372354)\n",
      "('ceremonies', 0.00026372142)\n",
      "('rifle', 0.00026371935)\n",
      "('alchemist', 0.000263719)\n",
      "('schimbarea', 0.00026371705)\n",
      "('smelling', 0.000263717)\n",
      "('foremost', 0.00026371563)\n",
      "('conservation', 0.00026371493)\n",
      "('editing', 0.00026371493)\n",
      "('degas', 0.00026371438)\n",
      "('rustling', 0.00026371362)\n",
      "('deserves', 0.00026371283)\n",
      "('cages', 0.00026371266)\n",
      "('blade', 0.00026371217)\n",
      "('4year', 0.00026370984)\n",
      "('jasmine', 0.00026370978)\n"
     ]
    }
   ],
   "source": [
    "\n",
    "for i in range(1288, 1330):\n",
    "    print(l1[i])"
   ]
  },
  {
   "cell_type": "code",
   "execution_count": 64,
   "metadata": {},
   "outputs": [
    {
     "name": "stdout",
     "output_type": "stream",
     "text": [
      "1379\n"
     ]
    }
   ],
   "source": [
    "\n",
    "for i in range(3785):\n",
    "    if l0[i][0] == \"honour\":\n",
    "        print(i)"
   ]
  },
  {
   "cell_type": "code",
   "execution_count": 63,
   "metadata": {},
   "outputs": [
    {
     "name": "stdout",
     "output_type": "stream",
     "text": [
      "3701\n"
     ]
    }
   ],
   "source": [
    "\n",
    "for i in range(3785):\n",
    "    if l1[i][0] == \"honour\":\n",
    "        print(i)"
   ]
  },
  {
   "cell_type": "code",
   "execution_count": null,
   "metadata": {},
   "outputs": [],
   "source": []
  },
  {
   "cell_type": "code",
   "execution_count": null,
   "metadata": {},
   "outputs": [],
   "source": []
  },
  {
   "cell_type": "code",
   "execution_count": null,
   "metadata": {},
   "outputs": [],
   "source": []
  },
  {
   "cell_type": "code",
   "execution_count": null,
   "metadata": {},
   "outputs": [],
   "source": []
  },
  {
   "cell_type": "code",
   "execution_count": 190,
   "metadata": {},
   "outputs": [
    {
     "name": "stdout",
     "output_type": "stream",
     "text": [
      "('abramovic', 0.00015034521)\n",
      "('herself', 0.0001503452)\n",
      "('edits', 0.00015034515)\n",
      "('eliza', 0.00015034508)\n",
      "('gradation', 0.00015034508)\n",
      "('rash', 0.00015034497)\n",
      "('purple', 0.00015034486)\n",
      "('seats', 0.00015034481)\n",
      "('view—from', 0.0001503447)\n",
      "('wringing', 0.0001503445)\n",
      "('town', 0.00015034447)\n",
      "('hendrix', 0.00015034447)\n",
      "('acoustic', 0.00015034442)\n",
      "('belly', 0.00015034433)\n",
      "('logistical', 0.00015034419)\n",
      "('laocoön', 0.00015034419)\n",
      "('spray', 0.00015034417)\n",
      "('opinion—mere', 0.00015034415)\n",
      "('selfimposed', 0.00015034412)\n",
      "('tourists', 0.00015034404)\n",
      "('searching', 0.00015034393)\n",
      "('meal', 0.00015034381)\n",
      "('happening', 0.00015034371)\n",
      "('scarcely', 0.00015034368)\n",
      "('noon', 0.00015034368)\n",
      "('multiplication', 0.00015034364)\n",
      "('newly', 0.00015034355)\n",
      "('nocturnal', 0.00015034349)\n",
      "('powders', 0.00015034343)\n",
      "('transbiographical', 0.00015034332)\n",
      "('amounted', 0.00015034324)\n",
      "('birthmark', 0.00015034324)\n",
      "('mesh', 0.00015034318)\n",
      "('perform', 0.00015034314)\n",
      "('runway', 0.00015034311)\n",
      "('worldold', 0.00015034301)\n",
      "('leafy', 0.00015034268)\n",
      "('surrounding', 0.00015034265)\n",
      "('spirit', 0.00015034249)\n",
      "('drumețul', 0.00015034243)\n",
      "('blows', 0.00015034236)\n",
      "('plastic', 0.00015034228)\n",
      "('battles', 0.00015034224)\n",
      "('geometric', 0.00015034215)\n",
      "('outdated', 0.00015034189)\n",
      "('wetting', 0.00015034183)\n",
      "('ripped', 0.00015034164)\n",
      "('symmetry', 0.0001503415)\n",
      "('slides', 0.00015034131)\n",
      "('erroneous', 0.00015034091)\n",
      "('forces', 0.00015034074)\n",
      "('score', 0.00015034064)\n",
      "('truths', 0.00015034042)\n",
      "('reason', 0.00015034042)\n",
      "('scream', 0.00015034038)\n",
      "('soul', 0.00015034036)\n",
      "('plants', 0.00015034014)\n",
      "('father', 0.00015034009)\n",
      "('peel', 0.00015033993)\n",
      "('enduring', 0.0001503399)\n",
      "('deceit', 0.00015033949)\n",
      "('windowpane', 0.00015033898)\n",
      "('praised', 0.00015033889)\n",
      "('present', 0.00015033888)\n",
      "('library', 0.00015033888)\n",
      "('awkward', 0.00015033863)\n",
      "('zeppelin', 0.0001503386)\n",
      "('alarmed', 0.00015033853)\n",
      "('clichédismantling', 0.00015033822)\n",
      "('chat', 0.00015033808)\n",
      "('jasmine', 0.0001503379)\n",
      "('4year', 0.00015033786)\n",
      "('blade', 0.00015033744)\n",
      "('cages', 0.00015033729)\n",
      "('deserves', 0.00015033729)\n",
      "('rustling', 0.00015033715)\n",
      "('degas', 0.00015033701)\n",
      "('conservation', 0.00015033691)\n",
      "('editing', 0.00015033691)\n",
      "('foremost', 0.00015033678)\n",
      "('schimbarea', 0.0001503365)\n",
      "('smelling', 0.00015033648)\n",
      "('alchemist', 0.00015033611)\n",
      "('ceremonies', 0.00015033563)\n",
      "('informing', 0.00015033524)\n",
      "('contain', 0.00015033461)\n",
      "('cast', 0.00015033425)\n",
      "('flooded', 0.00015033422)\n",
      "('tones', 0.00015033397)\n",
      "('bounty', 0.00015033394)\n",
      "('flares', 0.00015033355)\n",
      "('heine', 0.00015033336)\n",
      "('songs', 0.00015033329)\n",
      "('bone', 0.00015033325)\n",
      "('king', 0.0001503328)\n",
      "('linen', 0.00015033186)\n",
      "('ascet', 0.0001503314)\n",
      "('realm', 0.00015033118)\n",
      "('dyed', 0.00015033057)\n",
      "('translatingwriting', 0.0001503301)\n",
      "('lively', 0.00015032884)\n",
      "('perpetual', 0.00015032724)\n",
      "('assured', 0.00015032612)\n",
      "('readership', 0.00015032418)\n",
      "('goal—', 0.00015032383)\n",
      "('events', 0.00015032252)\n",
      "('instant', 0.00015032083)\n",
      "('heed', 0.00015031912)\n",
      "('bedded', 0.00015031864)\n",
      "('spread', 0.00015031554)\n"
     ]
    }
   ],
   "source": [
    "\n",
    "for i in range(3675, 3785):\n",
    "    print(l0[i])"
   ]
  },
  {
   "cell_type": "code",
   "execution_count": 191,
   "metadata": {},
   "outputs": [
    {
     "name": "stdout",
     "output_type": "stream",
     "text": [
      "('able', 0.00015035084)\n",
      "('duty', 0.00015035081)\n",
      "('mincemeat', 0.00015035077)\n",
      "('eddie', 0.00015035075)\n",
      "('bizarre', 0.00015035074)\n",
      "('1915', 0.00015035072)\n",
      "('frustrations', 0.0001503507)\n",
      "('monologues', 0.00015035068)\n",
      "('shot', 0.00015035065)\n",
      "('heartaches', 0.0001503506)\n",
      "('wight', 0.00015035058)\n",
      "('personally', 0.00015035058)\n",
      "('it—say', 0.00015035053)\n",
      "('harm', 0.0001503505)\n",
      "('doctoral', 0.00015035043)\n",
      "('recount', 0.0001503504)\n",
      "('beard', 0.00015035037)\n",
      "('horus', 0.00015035037)\n",
      "('grammar', 0.00015035036)\n",
      "('merciless', 0.00015035033)\n",
      "('motorcycle', 0.00015035033)\n",
      "('occupation', 0.00015035029)\n",
      "('restless', 0.00015035027)\n",
      "('witless', 0.00015035021)\n",
      "('murder', 0.00015035013)\n",
      "('opens', 0.00015035)\n",
      "('certainly', 0.00015035)\n",
      "('amplified', 0.00015034991)\n",
      "('jokes', 0.00015034984)\n",
      "('throats', 0.00015034976)\n",
      "('drier', 0.00015034972)\n",
      "('turner', 0.00015034966)\n",
      "('explores', 0.00015034966)\n",
      "('hated', 0.00015034959)\n",
      "('vocalist', 0.00015034954)\n",
      "('john', 0.00015034944)\n",
      "('marlowedryden', 0.00015034943)\n",
      "('shovel', 0.00015034938)\n",
      "('dis', 0.00015034935)\n",
      "('piece', 0.00015034924)\n",
      "('carries', 0.0001503492)\n",
      "('granite', 0.00015034918)\n",
      "('ship', 0.00015034912)\n",
      "('pictures', 0.00015034899)\n",
      "('caught', 0.00015034893)\n",
      "('imbued', 0.0001503489)\n",
      "('shoals', 0.00015034879)\n",
      "('adoration', 0.00015034874)\n",
      "('beware', 0.00015034869)\n",
      "('greetings', 0.00015034857)\n",
      "('captured', 0.00015034857)\n",
      "('ambuscade', 0.0001503485)\n",
      "('tongues', 0.00015034845)\n",
      "('migration', 0.00015034841)\n",
      "('contemplation', 0.00015034838)\n",
      "('unstuck', 0.0001503483)\n",
      "('furiously', 0.00015034809)\n",
      "('alexandria', 0.00015034799)\n",
      "('before—', 0.00015034793)\n",
      "('pathways', 0.00015034791)\n",
      "('insurgency', 0.00015034784)\n",
      "('shower', 0.00015034781)\n",
      "('spheres', 0.00015034775)\n",
      "('classic', 0.00015034764)\n",
      "('psychic', 0.00015034757)\n",
      "('stink', 0.00015034749)\n",
      "('names—', 0.00015034749)\n",
      "('voice—his', 0.00015034743)\n",
      "('appease', 0.00015034739)\n",
      "('tatters', 0.00015034736)\n",
      "('locust', 0.0001503473)\n",
      "('stomach', 0.00015034727)\n",
      "('lectures', 0.00015034727)\n",
      "('accustomed', 0.00015034724)\n",
      "('tailor', 0.00015034724)\n",
      "('affective', 0.00015034723)\n",
      "('attempted—', 0.0001503472)\n",
      "('hoarfrost', 0.00015034711)\n",
      "('ending', 0.00015034703)\n",
      "('marlowe—edward', 0.00015034695)\n",
      "('subsequently', 0.00015034688)\n",
      "('righting', 0.00015034684)\n",
      "('tear', 0.00015034682)\n",
      "('beneficent', 0.00015034668)\n",
      "('football—', 0.00015034642)\n",
      "('minds—', 0.00015034642)\n",
      "('inspiration', 0.00015034636)\n",
      "('glasses', 0.00015034634)\n",
      "('greatness', 0.00015034634)\n",
      "('bullet', 0.0001503463)\n",
      "('morse', 0.0001503462)\n",
      "('loudly', 0.00015034608)\n",
      "('inventor', 0.00015034605)\n",
      "('others—', 0.00015034598)\n",
      "('residence', 0.0001503458)\n",
      "('universal', 0.00015034575)\n",
      "('road', 0.00015034562)\n",
      "('feels', 0.00015034557)\n",
      "('roșescu', 0.00015034553)\n",
      "('working', 0.00015034551)\n"
     ]
    }
   ],
   "source": [
    "\n",
    "for i in range(3574, 3674):\n",
    "    print(l0[i])"
   ]
  },
  {
   "cell_type": "code",
   "execution_count": 27,
   "metadata": {},
   "outputs": [
    {
     "name": "stdout",
     "output_type": "stream",
     "text": [
      "('drums', 0.00026339912)\n",
      "('wanting—', 0.00026339907)\n",
      "('saved', 0.00026339837)\n",
      "('stretching', 0.00026339805)\n",
      "('immersion', 0.000263398)\n",
      "('conceptions', 0.00026339793)\n",
      "('ballet', 0.0002633971)\n",
      "('motif', 0.00026339706)\n",
      "('hates', 0.0002633967)\n",
      "('continue', 0.00026339665)\n",
      "('lonely', 0.00026339662)\n",
      "('enjoy', 0.0002633966)\n",
      "('exposed', 0.00026339645)\n",
      "('intoxication', 0.00026339592)\n",
      "('searing', 0.00026339592)\n",
      "('liverpool', 0.00026339505)\n",
      "('fluctuating', 0.00026339415)\n",
      "('applause', 0.0002633935)\n",
      "('describe', 0.000263393)\n",
      "('drafted', 0.0002633925)\n",
      "('archive', 0.00026339188)\n",
      "('aura', 0.00026339162)\n",
      "('buttons', 0.00026339135)\n",
      "('yelping', 0.00026339092)\n",
      "('fame', 0.00026338943)\n",
      "('nuance', 0.00026338873)\n",
      "('honour', 0.00026338833)\n",
      "('unhappy', 0.00026338824)\n",
      "('musicians', 0.00026338824)\n",
      "('claim', 0.0002633874)\n",
      "('forty', 0.0002633873)\n",
      "('offspring', 0.00026338655)\n",
      "('approved', 0.00026338646)\n",
      "('contents', 0.0002633864)\n",
      "('urbane', 0.000263386)\n",
      "('219', 0.0002633858)\n",
      "('proximate', 0.00026338524)\n",
      "('barefoot', 0.00026338524)\n",
      "('branches', 0.000263385)\n",
      "('ostracization', 0.00026338446)\n",
      "('gnaw', 0.00026338428)\n",
      "('parental', 0.00026338417)\n",
      "('sorry', 0.00026338408)\n",
      "('blankets', 0.00026338402)\n",
      "('designs', 0.000263383)\n",
      "('uniting', 0.00026338256)\n",
      "('whimpered', 0.0002633825)\n",
      "('spite', 0.00026338233)\n",
      "('boot', 0.00026338117)\n",
      "('elementary', 0.00026338088)\n",
      "('addressed', 0.00026338082)\n",
      "('lifetime', 0.00026338032)\n",
      "('concentrate', 0.00026338003)\n",
      "('planets', 0.0002633798)\n",
      "('emotionally', 0.00026337884)\n",
      "('visionary', 0.00026337826)\n",
      "('violent', 0.00026337805)\n",
      "('tended', 0.0002633777)\n",
      "('immensity', 0.00026337706)\n",
      "('summer', 0.00026337642)\n",
      "('member', 0.00026337607)\n",
      "('elbows', 0.0002633757)\n",
      "('gradually', 0.00026337543)\n",
      "('transport', 0.0002633749)\n",
      "('forsaken', 0.00026337485)\n",
      "('hotel', 0.00026337337)\n",
      "('vesuvius', 0.00026337197)\n",
      "('propped', 0.00026337197)\n",
      "('boards', 0.00026337197)\n",
      "('infectious', 0.00026337185)\n",
      "('linguistically', 0.00026337078)\n",
      "('collaborative', 0.00026336955)\n",
      "('kilims', 0.0002633683)\n",
      "('returns', 0.00026336705)\n",
      "('cobs', 0.0002633662)\n",
      "('lizards', 0.00026336603)\n",
      "('ramble', 0.00026336592)\n",
      "('impressive', 0.00026336403)\n",
      "('mere', 0.0002633637)\n",
      "('rugby', 0.0002633634)\n",
      "('invented', 0.00026336336)\n",
      "('michelangelo', 0.00026336205)\n",
      "('insects', 0.00026336167)\n",
      "('scattered', 0.00026336062)\n",
      "('lush', 0.00026336047)\n",
      "('disguised', 0.00026335914)\n",
      "('onebedroom', 0.00026335882)\n",
      "('commemoration', 0.00026335596)\n",
      "('studies', 0.00026335567)\n",
      "('longhaired', 0.00026335398)\n",
      "('despondent', 0.00026335273)\n",
      "('regression', 0.000263351)\n",
      "('sixty', 0.0002633506)\n",
      "('afterwards', 0.00026334965)\n",
      "('drum', 0.00026334918)\n",
      "('elite', 0.00026334866)\n",
      "('soft', 0.0002633468)\n",
      "('rendering', 0.0002633464)\n",
      "('joyful', 0.0002633464)\n",
      "('morbid', 0.0002633372)\n",
      "('caution', 0.0002633369)\n",
      "('oltenia', 0.0002633355)\n",
      "('gentle', 0.00026333495)\n",
      "('well—', 0.00026333448)\n",
      "('joke', 0.00026333137)\n",
      "('armors', 0.00026333064)\n",
      "('deign', 0.00026332668)\n",
      "('accomplished', 0.00026328585)\n",
      "('woodstock', 0.00026328565)\n",
      "('nuanced', 0.00026325844)\n"
     ]
    }
   ],
   "source": [
    "\n",
    "for i in range(3675, 3785):\n",
    "    print(l1[i])"
   ]
  },
  {
   "cell_type": "code",
   "execution_count": null,
   "metadata": {},
   "outputs": [],
   "source": []
  }
 ],
 "metadata": {
  "kernelspec": {
   "display_name": "Python 3",
   "language": "python",
   "name": "python3"
  },
  "language_info": {
   "codemirror_mode": {
    "name": "ipython",
    "version": 3
   },
   "file_extension": ".py",
   "mimetype": "text/x-python",
   "name": "python",
   "nbconvert_exporter": "python",
   "pygments_lexer": "ipython3",
   "version": "3.7.6"
  }
 },
 "nbformat": 4,
 "nbformat_minor": 2
}
