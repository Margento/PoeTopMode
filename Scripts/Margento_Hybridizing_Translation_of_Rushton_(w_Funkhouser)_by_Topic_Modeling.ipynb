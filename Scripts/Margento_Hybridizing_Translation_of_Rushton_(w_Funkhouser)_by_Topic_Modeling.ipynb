{
 "cells": [
  {
   "cell_type": "code",
   "execution_count": 1,
   "metadata": {},
   "outputs": [],
   "source": [
    "import sys"
   ]
  },
  {
   "cell_type": "code",
   "execution_count": 2,
   "metadata": {},
   "outputs": [
    {
     "data": {
      "text/plain": [
       "'/Users/christanasescu/opt/anaconda3/bin/python3'"
      ]
     },
     "execution_count": 2,
     "metadata": {},
     "output_type": "execute_result"
    }
   ],
   "source": [
    "sys.executable"
   ]
  },
  {
   "cell_type": "code",
   "execution_count": 3,
   "metadata": {},
   "outputs": [
    {
     "data": {
      "text/plain": [
       "['/Users/christanasescu',\n",
       " '/Users/christanasescu/opt/anaconda3/lib/python37.zip',\n",
       " '/Users/christanasescu/opt/anaconda3/lib/python3.7',\n",
       " '/Users/christanasescu/opt/anaconda3/lib/python3.7/lib-dynload',\n",
       " '',\n",
       " '/Users/christanasescu/opt/anaconda3/lib/python3.7/site-packages',\n",
       " '/Users/christanasescu/opt/anaconda3/lib/python3.7/site-packages/IPython/extensions',\n",
       " '/Users/christanasescu/.ipython']"
      ]
     },
     "execution_count": 3,
     "metadata": {},
     "output_type": "execute_result"
    }
   ],
   "source": [
    "sys.path"
   ]
  },
  {
   "cell_type": "code",
   "execution_count": 4,
   "metadata": {},
   "outputs": [
    {
     "ename": "ModuleNotFoundError",
     "evalue": "No module named 'pyLDAvis'",
     "output_type": "error",
     "traceback": [
      "\u001b[0;31m---------------------------------------------------------------------------\u001b[0m",
      "\u001b[0;31mModuleNotFoundError\u001b[0m                       Traceback (most recent call last)",
      "\u001b[0;32m<ipython-input-4-d85ed8ac68a8>\u001b[0m in \u001b[0;36m<module>\u001b[0;34m\u001b[0m\n\u001b[1;32m     23\u001b[0m \u001b[0;34m\u001b[0m\u001b[0m\n\u001b[1;32m     24\u001b[0m \u001b[0;31m# Plotting tools\u001b[0m\u001b[0;34m\u001b[0m\u001b[0;34m\u001b[0m\u001b[0;34m\u001b[0m\u001b[0m\n\u001b[0;32m---> 25\u001b[0;31m \u001b[0;32mimport\u001b[0m \u001b[0mpyLDAvis\u001b[0m\u001b[0;34m\u001b[0m\u001b[0;34m\u001b[0m\u001b[0m\n\u001b[0m\u001b[1;32m     26\u001b[0m \u001b[0;32mimport\u001b[0m \u001b[0mpyLDAvis\u001b[0m\u001b[0;34m.\u001b[0m\u001b[0mgensim\u001b[0m  \u001b[0;31m# don't skip this\u001b[0m\u001b[0;34m\u001b[0m\u001b[0;34m\u001b[0m\u001b[0m\n\u001b[1;32m     27\u001b[0m \u001b[0;32mimport\u001b[0m \u001b[0mmatplotlib\u001b[0m\u001b[0;34m.\u001b[0m\u001b[0mpyplot\u001b[0m \u001b[0;32mas\u001b[0m \u001b[0mplt\u001b[0m\u001b[0;34m\u001b[0m\u001b[0;34m\u001b[0m\u001b[0m\n",
      "\u001b[0;31mModuleNotFoundError\u001b[0m: No module named 'pyLDAvis'"
     ]
    }
   ],
   "source": [
    "import re\n",
    "import numpy as np\n",
    "import pandas as pd\n",
    "from pprint import pprint\n",
    "from nltk.tokenize import sent_tokenize, word_tokenize\n",
    "import os\n",
    "#The OS module in Python provides a way of using operating system dependent functionality. \n",
    "#The functions that the OS module provides allows you to interface with the underlying operating system \n",
    "#that Python is running on – be that Windows, Mac or Linux.\n",
    "\n",
    "from os import listdir\n",
    "from os.path import isfile, join\n",
    "\n",
    "# Gensim\n",
    "import gensim\n",
    "import gensim.corpora as corpora\n",
    "from gensim import models, corpora\n",
    "from gensim.utils import simple_preprocess\n",
    "from gensim.models import CoherenceModel\n",
    "\n",
    "# spacy for lemmatization\n",
    "import spacy\n",
    "\n",
    "# Plotting tools\n",
    "import pyLDAvis\n",
    "import pyLDAvis.gensim  # don't skip this\n",
    "import matplotlib.pyplot as plt\n",
    "%matplotlib inline\n",
    "\n",
    "# Enable logging for gensim - optional\n",
    "import logging\n",
    "logging.basicConfig(format='%(asctime)s : %(levelname)s : %(message)s', level=logging.ERROR)\n",
    "\n",
    "import warnings\n",
    "warnings.filterwarnings(\"ignore\",category=DeprecationWarning)"
   ]
  },
  {
   "cell_type": "code",
   "execution_count": 6,
   "metadata": {},
   "outputs": [
    {
     "name": "stderr",
     "output_type": "stream",
     "text": [
      "[nltk_data] Downloading package stopwords to\n",
      "[nltk_data]     /Users/christanasescu/nltk_data...\n",
      "[nltk_data]   Unzipping corpora/stopwords.zip.\n"
     ]
    },
    {
     "data": {
      "text/plain": [
       "True"
      ]
     },
     "execution_count": 6,
     "metadata": {},
     "output_type": "execute_result"
    }
   ],
   "source": [
    "import nltk as nltk \n",
    "nltk.download('stopwords')"
   ]
  },
  {
   "cell_type": "code",
   "execution_count": 7,
   "metadata": {},
   "outputs": [],
   "source": [
    "stopwords = nltk.corpus.stopwords.words('stop_words_poetry.txt')\n",
    "\n",
    "stopwords.append('...')\n",
    "stopwords.append(\"'d\")\n",
    "stopwords.append('...')\n",
    "stopwords.append(\"&\")\n",
    "stopwords.append(\"upon\")\n",
    "stopwords.append(\"also\")\n",
    "stopwords.append(\"hath\")\n",
    "stopwords.append(\"must\")\n",
    "stopwords.append(\"therefore\")\n",
    "stopwords.append(\"doth\")\n",
    "stopwords.append(\"could\")\n",
    "stopwords.append(\"would\")\n",
    "stopwords.append(\"another\")\n",
    "stopwords.append(\"much\")\n",
    "stopwords.append(\"give\")\n",
    "stopwords.append(\"like\")\n",
    "stopwords.append(\"since\")\n",
    "stopwords.append(\"many\")\n",
    "stopwords.append(\"without\")\n",
    "stopwords.append(\"first\")\n",
    "stopwords.append(\"though\")\n",
    "stopwords.append(\"well\")\n",
    "stopwords.append(\"often\")\n",
    "stopwords.append(\"great\")\n",
    "stopwords.append(\"either\")\n",
    "stopwords.append(\"even\")\n",
    "stopwords.append(\"shall\")\n",
    "stopwords.append(\"they\")\n",
    "stopwords.append(\"what\")\n",
    "stopwords.append(\"their\")\n",
    "stopwords.append(\"more\")\n",
    "stopwords.append(\"there\")\n",
    "stopwords.append(\"your\")\n",
    "stopwords.append(\"them\")"
   ]
  },
  {
   "cell_type": "code",
   "execution_count": 8,
   "metadata": {},
   "outputs": [],
   "source": [
    "def tokenize(text):\n",
    "    tokens = word_tokenize(text)\n",
    "    tokens = _pre_clean(tokens)\n",
    "    tokens = [token for token in tokens if len(token) > 3]\n",
    "    tokens = [token for token in tokens if token not in stopwords]\n",
    "    #tokens = [get_lemma(token) for token in tokens]\n",
    "    return tokens"
   ]
  },
  {
   "cell_type": "code",
   "execution_count": 9,
   "metadata": {},
   "outputs": [
    {
     "data": {
      "text/plain": [
       "'/Users/christanasescu'"
      ]
     },
     "execution_count": 9,
     "metadata": {},
     "output_type": "execute_result"
    }
   ],
   "source": [
    "pwd"
   ]
  },
  {
   "cell_type": "code",
   "execution_count": 10,
   "metadata": {},
   "outputs": [],
   "source": [
    "import os"
   ]
  },
  {
   "cell_type": "code",
   "execution_count": 11,
   "metadata": {},
   "outputs": [],
   "source": [
    "#cd fastText_multilingual-master"
   ]
  },
  {
   "cell_type": "code",
   "execution_count": 12,
   "metadata": {},
   "outputs": [],
   "source": [
    "\n",
    "HOME = os.getcwd()"
   ]
  },
  {
   "cell_type": "code",
   "execution_count": 13,
   "metadata": {},
   "outputs": [],
   "source": [
    "def _pre_clean(list_of_text):\n",
    "        '''\n",
    "        preliminary cleaning of the text\n",
    "        - remove new line character i.e. \\n or \\r\n",
    "        - remove tabs i.e. \\t\n",
    "        - remove extra spaces\n",
    "        '''\n",
    "        cleaned_list = []\n",
    "        for text in list_of_text:\n",
    "            # print(\"original:\", text)\n",
    "            text = text.replace('\\\\n', ' ')\n",
    "            text = text.replace('\\\\r', ' ')\n",
    "            text = text.replace('\\\\t', ' ')\n",
    "            pattern = re.compile(r'\\s+')\n",
    "            text = re.sub(pattern, ' ', text)\n",
    "            text = text.strip()\n",
    "            text = text.lower()\n",
    "            # check for empty strings\n",
    "            if text != '' and text is not None:\n",
    "                cleaned_list.append(text)\n",
    "\n",
    "        return cleaned_list"
   ]
  },
  {
   "cell_type": "code",
   "execution_count": 16,
   "metadata": {},
   "outputs": [
    {
     "name": "stdout",
     "output_type": "stream",
     "text": [
      "{0: 'rushton_&_funkhouser.txt'}\n"
     ]
    }
   ],
   "source": [
    "TEXTS_DIR = HOME + \"/rushton_&_funkhouser_for_margento_trans/\"\n",
    "\n",
    "filelabels = {}\n",
    "\n",
    "texts_data = []\n",
    "\n",
    "files = [f for f in os.listdir(TEXTS_DIR) if os.path.isfile(os.path.join(TEXTS_DIR, f))]\n",
    "\n",
    "import string\n",
    "from string import punctuation\n",
    "\n",
    "remove_punct_map = dict.fromkeys(map(ord, string.punctuation))\n",
    "\n",
    "tokens_total = []\n",
    "\n",
    "count = -1\n",
    " \n",
    "os.chdir(TEXTS_DIR)\n",
    "    \n",
    "for f in files:\n",
    "    #os.chdir(TEXTS_DIR)\n",
    "    with open(f, \"r\", encoding='utf-8', errors = 'ignore') as openf:\n",
    "        tokens = []\n",
    "        count = count + 1\n",
    "        filelabels[count] = os.path.basename(openf.name)\n",
    "        for line in openf:\n",
    "            sent_text = nltk.sent_tokenize(line)\n",
    "            for sentence in sent_text:\n",
    "                tokens1 = tokenize(sentence)\n",
    "                tokens1 = [item.translate(remove_punct_map)\n",
    "                      for item in tokens1]\n",
    "                #filter_object = filter(lambda x: x != \"\", tokens1)\n",
    "                tokens1 = [x for x in tokens1 if x!= \"\"]\n",
    "                for token in tokens1:\n",
    "                    tokens.append(token)\n",
    "                    tokens_total.append(token)\n",
    "                #if random.random() > .99:\n",
    "                #print(tokens)\n",
    "    #print(tokens_total)\n",
    "    texts_data.append(tokens)\n",
    "\n",
    "print(filelabels)"
   ]
  },
  {
   "cell_type": "code",
   "execution_count": 13,
   "metadata": {},
   "outputs": [
    {
     "data": {
      "text/plain": [
       "7720"
      ]
     },
     "execution_count": 13,
     "metadata": {},
     "output_type": "execute_result"
    }
   ],
   "source": [
    "\n",
    "len(tokens_total)"
   ]
  },
  {
   "cell_type": "code",
   "execution_count": 17,
   "metadata": {},
   "outputs": [],
   "source": [
    "tokens_total = [x for x in tokens_total if x not in stopwords]"
   ]
  },
  {
   "cell_type": "code",
   "execution_count": 15,
   "metadata": {},
   "outputs": [
    {
     "data": {
      "text/plain": [
       "7720"
      ]
     },
     "execution_count": 15,
     "metadata": {},
     "output_type": "execute_result"
    }
   ],
   "source": [
    "\n",
    "len(tokens_total)"
   ]
  },
  {
   "cell_type": "code",
   "execution_count": 19,
   "metadata": {},
   "outputs": [],
   "source": [
    "from collections import Counter\n",
    "\n",
    "Count_total = Counter(tokens_total)"
   ]
  },
  {
   "cell_type": "code",
   "execution_count": 20,
   "metadata": {},
   "outputs": [
    {
     "name": "stdout",
     "output_type": "stream",
     "text": [
      "Counter({'work': 65, 'verse': 62, 'ovid': 52, 'poetry': 42, 'time': 42, 'other': 39, 'poet': 39, 'poets': 32, 'digital': 31, 'audio': 31, 'lines': 30, 'poem': 30, 'writing': 28, 'when': 26, 'media': 25, 'write': 25, 'beat': 23, 'line': 23, 'marlowe': 22, 'sound': 21, 'both': 21, 'might': 21, 'dryden': 20, 'course': 19, 'thought': 19, 'half': 19, 'said': 19, 'research': 18, 'three': 18, 'voice': 18, 'used': 18, 'recordings': 18, 'project': 18, 'make': 18, 'thanks': 18, 'best': 17, 'production': 17, 'online': 17, 'magazine': 16, 'made': 16, 'form': 16, 'where': 15, 'every': 15, 'poems': 15, 'years': 14, 'better': 14, 'humanities': 13, 'others': 13, 'life': 13, 'making': 13, 'each': 13, 'perhaps': 13, 'know': 13, 'plan': 13, 'between': 13, 'pennsound': 13, 'translation': 13, 'rhythm': 13, 'alter': 13, 'working': 12, 'literary': 12, 'voices': 12, 'technology': 12, 'least': 12, 'only': 12, 'order': 12, 'material': 12, 'came': 12, 'type': 12, 'before': 12, 'part': 12, 'types': 11, 'creative': 11, 'using': 11, 'later': 11, 'word': 11, 'sense': 11, 'again': 11, 'most': 11, 'things': 11, 'electronic': 11, 'text': 11, 'over': 11, 'written': 11, 'take': 11, 'something': 11, 'find': 11, 'here': 11, 'times': 11, 'down': 11, 'verses': 11, 'wine': 11, 'based': 10, 'press': 10, 'because': 10, 'being': 10, 'artists': 10, 'less': 10, 'words': 10, 'presentation': 10, 'thoughts': 10, 'archives': 10, 'artist': 10, 'translated': 10, 'personal': 9, 'projects': 9, 'people': 9, 'networks': 9, 'interests': 9, 'began': 9, 'recording': 9, 'radio': 9, 'materials': 9, 'produced': 9, 'read': 9, 'language': 9, 'works': 9, 'available': 9, 'five': 9, 'able': 9, 'network': 9, 'very': 9, 'study': 9, 'practice': 9, 'good': 9, 'found': 9, 'someone': 9, 'always': 9, 'examples': 9, 'different': 9, 'still': 9, 'worse': 9, 'glass': 9, 'change': 9, 'right': 9, 'engagement': 8, 'during': 8, 'cassette': 8, 'design': 8, 'early': 8, 'start': 8, 'issue': 8, 'publications': 8, 'edition': 8, 'recorded': 8, 'home': 8, 'finding': 8, 'long': 8, 'version': 8, 'point': 8, 'interactive': 8, 'full': 8, 'margento': 8, 'translations': 8, 'second': 8, 'poetic': 7, 'documentary': 7, 'uniting': 7, 'tape': 7, 'same': 7, 'small': 7, 'never': 7, 'somewhat': 7, 'after': 7, 'producing': 7, 'performance': 7, 'including': 7, 'important': 7, 'publication': 7, 'until': 7, 'brought': 7, 'studio': 7, 'sounds': 7, 'internet': 7, 'reading': 7, 'example': 7, 'book': 7, 'content': 7, 'software': 7, 'place': 7, 'prepared': 7, 'funk': 7, 'soundbox': 7, 'modern': 7, 'style': 7, 'taste': 7, 'love': 7, 'problem': 7, 'egos': 7, 'mine': 7, 'rome': 7, 'applied': 6, 'processes': 6, 'ability': 6, 'program': 6, 'naropa': 6, 'computers': 6, 'spoken': 6, 'knew': 6, 'wrote': 6, 'approach': 6, 'several': 6, 'strong': 6, 'various': 6, 'information': 6, 'effort': 6, 'state': 6, 'towards': 6, 'enabled': 6, 'school': 6, 'access': 6, 'editors': 6, 'once': 6, 'world': 6, 'process': 6, 'presenting': 6, 'listen': 6, 'efforts': 6, 'contemporary': 6, 'help': 6, 'mind': 6, 'beyond': 6, 'useful': 6, 'archive': 6, '2012': 6, 'together': 6, 'author': 6, 'away': 6, 'four': 6, 'death': 6, 'english': 6, 'think': 6, 'illustrations': 6, 'pattern': 6, 'diddley': 6, 'last': 6, 'topic': 6, 'exile': 6, 'agree': 6, 'ancient': 6, 'perfect': 6, 'story': 6, 'fine': 6, 'poor': 6, 'minor': 6, 'truth': 6, 'effectively': 5, 'critical': 5, 'idea': 5, 'little': 5, 'involved': 5, 'quality': 5, 'context': 5, 'friends': 5, 'published': 5, 'methods': 5, 'individual': 5, 'collection': 5, 'particular': 5, 'artistic': 5, 'public': 5, 'result': 5, 'arts': 5, 'fact': 5, 'went': 5, 'experience': 5, 'albany': 5, 'exploring': 5, 'journal': 5, 'addition': 5, 'ever': 5, 'files': 5, 'distribution': 5, 'level': 5, 'power': 5, 'worthy': 5, 'visual': 5, 'group': 5, 'students': 5, 'multimedia': 5, 'around': 5, 'image': 5, 'video': 5, 'look': 5, 'become': 5, 'past': 5, 'developed': 5, 'poetics': 5, 'needed': 5, 'users': 5, 'happen': 5, 'somebody': 5, 'need': 5, 'space': 5, 'sonic': 5, 'background': 5, 'notes': 5, 'improvised': 5, 'taylor': 5, 'live': 5, 'midi': 5, 'play': 5, 'literature': 5, 'funkhouser': 5, 'care': 5, 'light': 5, 'discussion': 5, 'drummer': 5, 'syncopated': 5, 'under': 5, 'dislocation': 5, 'head': 5, 'waiting': 5, 'night': 5, 'conference': 5, 'amores': 5, 'despair': 5, 'worst': 5, 'latin': 5, 'meaning': 5, 'theme': 5, 'constanta': 5, 'drunk': 5, 'till': 5, 'vintage': 5, 'fourfour': 5, 'london': 5, 'derby': 5, 'practices': 4, 'range': 4, 'across': 4, 'harness': 4, 'whatever': 4, 'forms': 4, 'university': 4, 'ginsberg': 4, 'became': 4, 'recorder': 4, 'covers': 4, 'resources': 4, 'somewhere': 4, '1980s': 4, 'printed': 4, 'taking': 4, 'interesting': 4, 'basic': 4, 'circulation': 4, 'introduction': 4, 'document': 4, 'expression': 4, 'fully': 4, 'controls': 4, 'contexts': 4, 'creating': 4, 'completely': 4, 'mentioned': 4, 'selected': 4, 'larger': 4, 'next': 4, 'images': 4, 'contents': 4, 'grant': 4, '1993': 4, 'scale': 4, 'writers': 4, 'graduate': 4, 'hardware': 4, 'eg': 4, 'texts': 4, 'learning': 4, 'editing': 4, 'days': 4, 'twelve': 4, 'readers': 4, 'academic': 4, 'communication': 4, 'learn': 4, 'expand': 4, 'below': 4, 'especially': 4, 'worked': 4, 'cdrom': 4, 'front': 4, 'complete': 4, 'becoming': 4, 'benefit': 4, 'textual': 4, 'large': 4, 'books': 4, 'discipline': 4, 'above': 4, 'figure': 4, 'developing': 4, 'value': 4, 'scholarship': 4, 'scholars': 4, 'taken': 4, 'come': 4, 'writes': 4, 'comes': 4, 'charles': 4, '2016': 4, 'technologies': 4, 'interface': 4, 'collage': 4, 'whole': 4, 'hope': 4, 'page': 4, 'common': 4, 'believe': 4, 'chance': 4, 'instead': 4, 'listening': 4, 'makes': 4, 'ideas': 4, '2018': 4, 'tradus': 4, 'pyprose': 4, 'debate': 4, 'rock': 4, 'sometimes': 4, 'council': 4, 'trochaic': 4, 'syllable': 4, 'fourbeat': 4, 'regular': 4, 'round': 4, 'thinking': 4, 'modeling': 4, 'dislocations': 4, 'romantic': 4, 'seem': 4, 'subjects': 4, 'tortured': 4, 'playful': 4, 'greater': 4, 'metamorphoses': 4, 'exiled': 4, 'drinks': 4, 'drunken': 4, 'maybe': 4, 'happy': 4, 'wrong': 4, 'rhyme': 4, 'explanation': 4, 'jacket': 4, 'feet': 4, 'subject': 4, 'humour': 4, 'tell': 4, 'helping': 4, 'seems': 4, 'coming': 4, 'inside': 4, 'essay': 3, 'decades': 3, 'opportunity': 3, 'serve': 3, 'consider': 3, 'activate': 3, 'however': 3, 'summer': 3, 'student': 3, 'taught': 3, 'events': 3, 'publishing': 3, 'studies': 3, 'pages': 3, 'started': 3, 'grassroots': 3, 'setting': 3, 'format': 3, 'thus': 3, 'cassettes': 3, 'opened': 3, 'experiment': 3, 'provides': 3, 'mass': 3, 'culture': 3, 'heard': 3, 'looking': 3, 'organization': 3, 'master': 3, 'implications': 3, 'copies': 3, 'teachers': 3, 'wilson': 3, 'reviews': 3, 'attention': 3, 'funding': 3, 'partly': 3, 'music': 3, 'overall': 3, 'editions': 3, '1992': 3, 'mention': 3, 'portable': 3, 'continue': 3, 'keep': 3, 'exposed': 3, 'usenet': 3, 'position': 3, 'subsequently': 3, 'conducted': 3, 'informed': 3, 'connected': 3, 'explore': 3, 'mean': 3, 'meant': 3, 'presented': 3, 'mechanism': 3, 'global': 3, 'received': 3, 'privilege': 3, 'major': 3, 'dramatic': 3, 'street': 3, 'hundred': 3, 'pieces': 3, 'direct': 3, 'contact': 3, 'learned': 3, 'engage': 3, 'eventually': 3, 'produce': 3, 'discussed': 3, 'initiatives': 3, 'includes': 3, 'programmer': 3, 'year': 3, 'steve': 3, 'hypermedia': 3, 'programming': 3, 'animation': 3, 'section': 3, 'purpose': 3, 'support': 3, 'stage': 3, 'given': 3, 'expressive': 3, 'present': 3, 'expanded': 3, 'primarily': 3, 'sanders': 3, 'piece': 3, 'titled': 3, 'volume': 3, 'data': 3, 'took': 3, 'purposes': 3, 'anyone': 3, 'expected': 3, 'respectable': 3, 'field': 3, 'facing': 3, 'application': 3, 'designed': 3, 'wider': 3, 'unexpected': 3, 'beauty': 3, 'hold': 3, 'amount': 3, 'recent': 3, 'despite': 3, 'combination': 3, 'called': 3, 'documentarian': 3, 'resource': 3, 'covered': 3, 'quasha': 3, '2015': 3, 'seven': 3, 'title': 3, 'number': 3, 'techniques': 3, 'html5': 3, 'archival': 3, 'uses': 3, 'thing': 3, 'certain': 3, '2013': 3, 'code': 3, 'true': 3, 'house': 3, 'free': 3, 'shared': 3, 'library': 3, 'museum': 3, 'ableton': 3, 'projected': 3, 'original': 3, 'originally': 3, 'itself': 3, 'person': 3, 'midipoet': 3, 'plus': 3, 'festival': 3, 'performed': 3, 'potential': 3, 'broadcasts': 3, 'knowledge': 3, 'mostly': 3, 'matter': 3, 'morning': 3, 'glory': 3, 'riding': 3, 'needing': 3, 'heaven': 3, 'note': 3, 'romanian': 3, 'română': 3, 'pentru': 3, 'hello': 3, 'christopher': 3, 'șapte': 3, 'cineva': 3, 'final': 3, 'further': 3, 'becomes': 3, 'alternate': 3, 'rushton': 3, 'preface': 3, 'prologue': 3, 'british': 3, 'king': 3, 'telling': 3, 'rhythms': 3, 'iambic': 3, 'breaking': 3, 'beats': 3, 'built': 3, 'forum': 3, 'splendour': 3, 'pompeii': 3, 'tend': 3, 'disguise': 3, 'stress': 3, 'insistent': 3, 'roll': 3, 'berry': 3, 'denver': 3, 'baby': 3, 'rich': 3, 'reasons': 3, 'drink': 3, 'distress': 3, 'rest': 3, 'former': 3, 'unless': 3, 'hidden': 3, 'against': 3, 'dull': 3, 'suited': 3, 'wife': 3, 'renaissance': 3, 'translating': 3, 'musings': 3, 'gets': 3, 'pain': 3, 'secret': 3, 'plot': 3, 'bought': 3, 'company': 3, 'soon': 3, 'impossible': 3, 'dream': 3, 'says': 3, 'nothing': 3, 'older': 3, 'practised': 3, 'argument': 3, 'detail': 3, 'july': 3, 'mighty': 3, 'troubled': 3, 'appendices': 3, 'quotes': 3, 'actors': 3, 'clarity': 3, 'painting': 3, 'stop': 3, 'trouble': 3, 'abstract': 2, 'divulging': 2, 'intent': 2, 'disciplines': 2, 'discuss': 2, 'control': 2, 'recontextualized': 2, 'composing': 2, 'broadcasting': 2, 'period': 2, 'analog': 2, 'endeavor': 2, 'allen': 2, 'introduced': 2, 'social': 2, 'cultural': 2, 'values': 2, 'device': 2, 'months': 2, 'operations': 2, 'issues': 2, '1987': 2, 'purchase': 2, 'studied': 2, 'layout': 2, 'zines': 2, 'hard': 2, 'guess': 2, 'local': 2, 'magazines': 2, 'machines': 2, 'known': 2, 'decided': 2, 'mediabased': 2, 'terms': 2, 'sent': 2, 'call': 2, 'submissions': 2, 'obtained': 2, 'richard': 2, 'expanding': 2, 'reach': 2, 'formats': 2, 'unknown': 2, 'systems': 2, 'nondigital': 2, 'possibilities': 2, 'connect': 2, 'participate': 2, 'consuming': 2, 'machinery': 2, 'increasingly': 2, 'occupy': 2, 'positions': 2, '1989': 2, 'plenty': 2, 'input': 2, 'aspects': 2, 'tedious': 2, 'peter': 2, 'lamborn': 2, 'previously': 2, 'factsheet': 2, 'future': 2, 'serious': 2, 'fund': 2, '1991': 2, 'mixed': 2, 'improve': 2, 'compiling': 2, 'continued': 2, 'publish': 2, 'artifacts': 2, '1990s': 2, 'historical': 2, 'myself': 2, 'rehear': 2, 'degree': 2, 'constant': 2, 'disparate': 2, 'returning': 2, 'occurred': 2, 'invest': 2, 'recorders': 2, 'unusual': 2, 'prewww': 2, 'tools': 2, 'managing': 2, 'editor': 2, 'named': 2, 'formatting': 2, 'appear': 2, 'moment': 2, 'fundamental': 2, 'technological': 2, 'printing': 2, 'million': 2, 'connecting': 2, 'functioned': 2, 'seemed': 2, 'wise': 2, 'ascii': 2, 'quickly': 2, 'distributed': 2, 'open': 2, 'preparing': 2, 'wide': 2, 'expansion': 2, 'shift': 2, 'significantly': 2, 'offer': 2, '2007': 2, 'prehistoric': 2, 'assemble': 2, 'gifted': 2, 'spent': 2, 'mixing': 2, 'concerted': 2, 'challenge': 2, '1995': 2, 'titles': 2, 'sort': 2, 'task': 2, 'included': 2, 'color': 2, 'featured': 2, 'contained': 2, 'dedicated': 2, 'select': 2, 'easily': 2, 'serves': 2, '1996': 2, 'html': 2, 'links': 2, 'anthology': 2, 'combined': 2, 'curiosity': 2, 'cooperation': 2, 'encouragement': 2, 'presence': 2, 'active': 2, 'scholarly': 2, 'pursuits': 2, 'history': 2, 'productions': 2, 'playing': 2, 'focus': 2, 'initial': 2, 'crucial': 2, 'whose': 2, 'notion': 2, 'multidecade': 2, 'details': 2, 'creativity': 2, 'bard': 2, 'disembodied': 2, 'annals': 2, 'jack': 2, 'kerouac': 2, 'largely': 2, 'method': 2, 'composition': 2, 'collecting': 2, 'clusters': 2, 'mediated': 2, 'specific': 2, 'possibly': 2, 'brings': 2, 'references': 2, 'message': 2, 'investing': 2, 'create': 2, 'wait': 2, 'colleagues': 2, 'challenges': 2, 'imperfections': 2, 'academia': 2, 'extend': 2, 'walls': 2, 'desire': 2, 'complications': 2, 'presentations': 2, 'obscure': 2, 'organizing': 2, 'single': 2, 'engaging': 2, 'seeking': 2, 'sharing': 2, 'significant': 2, 'ultimately': 2, 'cooperatively': 2, 'fred': 2, 'moten': 2, 'collaboration': 2, 'spirit': 2, 'require': 2, 'expertise': 2, 'skill': 2, 'similar': 2, 'largescale': 2, 'earlier': 2, 'stated': 2, 'experiments': 2, 'connection': 2, 'modalities': 2, 'literacy': 2, 'invites': 2, 'refine': 2, 'focuses': 2, 'participatory': 2, 'realms': 2, 'knowing': 2, 'objective': 2, '2010': 2, 'invitation': 2, 'bernstein': 2, 'aware': 2, 'achieved': 2, 'resulting': 2, 'decade': 2, 'potent': 2, 'hand': 2, 'posted': 2, 'george': 2, 'stein': 2, 'fascinating': 2, 'thousand': 2, 'necessary': 2, 'file': 2, 'edits': 2, 'genre': 2, 'equipment': 2, 'unique': 2, 'enabling': 2, 'settings': 2, 'building': 2, 'coding': 2, 'javascript': 2, 'layered': 2, 'want': 2, 'engineering': 2, 'capturing': 2, 'compelling': 2, 'otherwise': 2, 'intellectual': 2, 'account': 2, 'documented': 2, 'ongoing': 2, 'completion': 2, 'edit': 2, 'playback': 2, 'longer': 2, 'embed': 2, 'src': 2, 'bolukinterrupt1mp3': 2, 'false': 2, 'configurations': 2, 'size': 2, 'servers': 2, 'documents': 2, 'imposed': 2, 'visit': 2, 'whitney': 2, 'exhibition': 2, 'samples': 2, 'multichannel': 2, 'interview': 2, 'conversation': 2, 'real': 2, 'uncovered': 2, 'understanding': 2, '2020': 2, 'directly': 2, 'alongside': 2, 'fragmentation': 2, 'bring': 2, 'enjoy': 2, 'musical': 2, 'instrument': 2, 'community': 2, 'bass': 2, 'pitchtomidi': 2, 'converter': 2, 'appearance': 2, 'guitar': 2, 'brown': 2, 'influences': 2, 'collaborative': 2, 'created': 2, 'components': 2, 'microphone': 2, 'mashtalir': 2, 'installation': 2, 'multiple': 2, 'valid': 2, 'exploration': 2, 'recently': 2, 'wgxc': 2, 'station': 2, 'talk': 2, 'record': 2, 'locations': 2, 'acts': 2, 'delivers': 2, 'insight': 2, '1977': 2, 'muse': 2, 'dated': 2, 'valuable': 2, 'potentially': 2, 'tool': 2, 'carried': 2, 'focusing': 2, 'feeling': 2, 'hologram': 2, 'naissance': 2, 'headwise': 2, 'shattered': 2, 'worn': 2, 'troughs': 2, 'slabthrown': 2, 'illumination': 2, 'surface': 2, 'asymptotic': 2, 'crypt': 2, 'speech': 2, 'heritage': 2, 'translator': 2, 'workbench': 2, 'latter': 2, 'parts': 2, 'output': 2, 'runes': 2, 'everything': 2, 'având': 2, 'darul': 2, 'călărind': 2, 'vine': 2, 'unde': 2, 'după': 2, 'nota': 2, 'traducătorului': 2, 'folosit': 2, 'acestui': 2, 'varianta': 2, 'rune': 2, 'apoi': 2, 'arrogant': 2, 'lives': 2, 'zero': 2, 'fancy': 2, 'transcription': 2, 'body': 2, 'tiny': 2, 'food': 2, 'balance': 2, 'arranged': 2, 'grass': 2, 'drama': 2, 'question': 2, 'camera': 2, 'delays': 2, 'jazz': 2, 'waste': 2, 'hartman': 2, 'atât': 2, 'algorithmic': 2, 'generator': 2, 'human': 2, 'reader': 2, 'effusive': 2, 'casting': 2, 'matters': 2, 'taner': 2, 'murat': 2, 'acknowledgements': 2, 'beginning': 2, 'england': 2, 'development': 2, 'anticus': 2, 'multicultural': 2, 'association': 2, 'tales': 2, 'stanza': 2, 'preceding': 2, 'tetrameter': 2, 'blues': 2, 'songs': 2, 'traditions': 2, 'riffs': 2, 'bold': 2, 'indented': 2, 'extra': 2, 'sseum': 2, 'ephe': 2, 'embracing': 2, 'fountains': 2, 'abbey': 2, 'vius': 2, 'pict': 2, 'esque': 2, 'move': 2, 'pentameter': 2, 'alternative': 2, 'elegy': 2, 'artworks': 2, 'paper': 2, 'minutes': 2, 'black': 2, 'white': 2, 'photo': 2, 'left': 2, 'tones': 2, 'chuck': 2, 'nadine': 2, 'breath': 2, 'city': 2, 'dropped': 2, 'solo': 2, 'staid': 2, 'analogy': 2, 'added': 2, 'arrived': 2, 'probability': 2, 'roughly': 2, 'enlarged': 2, 'naum': 2, 'authentic': 2, 'turns': 2, 'apart': 2, 'established': 2, 'drumming': 2, 'dreadful': 2, 'rhymes': 2, 'slept': 2, 'deep': 2, 'gone': 2, 'threw': 2, 'dross': 2, 'deleted': 2, 'changed': 2, 'hearing': 2, 'normal': 2, 'manuscript': 2, 'fragmented': 2, 'alterego': 2, 'sure': 2, 'kind': 2, 'touch': 2, 'irrelevant': 2, 'waves': 2, 'tide': 2, 'born': 2, 'tongue': 2, 'begin': 2, 'chosen': 2, 'inspiring': 2, 'link': 2, 'shakespeare': 2, 'differences': 2, 'asked': 2, 'unformed': 2, 'stuck': 2, 'thinks': 2, 'turned': 2, 'asleep': 2, 'draft': 2, 'fifty': 2, 'week': 2, 'deadline': 2, 'wakes': 2, 'mess': 2, 'paint': 2, 'canvas': 2, 'boring': 2, 'intrigue': 2, 'risky': 2, 'stone': 2, 'thickest': 2, 'wants': 2, 'hiding': 2, 'stones': 2, 'stronger': 2, 'case': 2, 'please': 2, 'piss': 2, 'overarching': 2, 'fools': 2, 'patterns': 2, 'teasing': 2, 'ears': 2, 'wake': 2, 'foil': 2, 'remembered': 2, 'split': 2, 'bored': 2, 'wear': 2, 'tunes': 2, 'fitted': 2, 'discarding': 2, 'finds': 2, 'easy': 2, 'yours': 2, 'metre': 2, 'praise': 2, 'marriage': 2, 'enough': 2, 'scene': 2, 'talent': 2, 'return': 2, 'really': 2, 'waking': 2, 'lies': 2, 'empty': 2, 'cheers': 2, 'enjoying': 2, 'unnamed': 2, 'seen': 2, 'adolescent': 2, 'xxiii': 2, 'elizabethan': 2, 'lived': 2, 'xxiv': 2, 'cambridge': 2, 'favour': 2, 'beaten': 2, 'badly': 2, 'covent': 2, 'deptford': 2, 'xxvi': 2, 'threat': 2, 'xxvii': 2, 'church': 2, 'college': 2, 'historians': 2, 'xxviii': 2, 'xxix': 2, 'verse—': 2, 'lecture': 2, 'alone': 2, 'depth': 2, 'swim': 2, 'dawning': 2, 'tomis': 2, 'colour': 2, 'rhyming': 2, 'marks': 2, 'places': 2, 'frith': 2, 'doubt': 2, 'epic': 2, 'inbetween': 2, 'points': 2, 'celebration': 2, 'walk': 2, 'lack': 2, 'waits': 2, 'brain': 2, 'celebrate': 2, 'friendship': 2, 'helps': 2, 'peoples': 2, 'airport': 2, 'applying': 1, 'recounting': 1, 'discusses': 1, 'experiences': 1, 'relevant': 1, 'practical': 1, 'objectives': 1, 'illustrate': 1, 'offers': 1, 'possesses': 1, 'ideally': 1, 'recollections': 1, 'perspectives': 1, 'compel': 1, 'entail': 1, 'choose': 1, 'seeds': 1, 'planted': 1, '1986': 1, 'institute': 1, 'commitment': 1, 'researching': 1, 'documenting': 1, 'attuned': 1, 'anne': 1, 'waldman': 1, 'consequently': 1, 'purchased': 1, 'sony': 1, 'handheld': 1, 'cofounded': 1, 'hosting': 1, 'oriented': 1, 'virginia': 1, 'wtju': 1, 'homely': 1, 'amateur': 1, 'figs': 1, 'endeavors': 1, 'financial': 1, 'decent': 1, 'crude': 1, 'layout—like': 1, 'spaghetti—but': 1, 'punk': 1, 'charm': 1, 'typical': 1, 'xeroxphotocopy': 1, 'beginners': 1, 'accessible': 1, 'entity—it': 1, 'nonprofessional': 1, 'twopage': 1, 'relocating': 1, 'california': 1, 'desktop': 1, 'possessing': 1, 'interest': 1, 'combining': 1, 'compile': 1, 'audiocassette': 1, 'acquiring': 1, 'notices': 1, 'flash': 1, 'area': 1, 'newspaper': 1, 'joanne': 1, 'kyger': 1, 'kostelanetz': 1, 'earnest': 1, 'filled': 1, 'audiences': 1, 'venues': 1, 'authors': 1, 'participated': 1, 'yourself': 1, 'subculture': 1, 'exciting': 1, 'variables': 1, 'resisted': 1, 'ordinary': 1, 'delivery': 1, 'prepare': 1, 'sophisticated': 1, 'platforms': 1, 'historically': 1, 'likeminded': 1, 'opening': 1, 'broadly': 1, 'accustomed': 1, 'television': 1, 'positioned': 1, 'humorous': 1, 'rudimentary': 1, 'collective': 1, 'though—as': 1, 'previously—almost': 1, 'fiscal': 1, 'duplicate': 1, 'seventeen': 1, 'blank': 1, 'copied': 1, 'mechanical': 1, 'bestow': 1, 'significance': 1, 'evaded': 1, 'referred': 1, 'seizing': 1, 'dimension': 1, 'considered': 1, 'primitive': 1, 'distributing': 1, 'benefits': 1, 'serving': 1, 'evidence': 1, 'sell': 1, 'acquire': 1, 'grants': 1, 'fourteen': 1, 'compact': 1, 'disc': 1, 'dara': 1, 'wolochow': 1, 'notably': 1, '8track': 1, 'purchasing': 1, 'deck': 1, 'engineer': 1, 'printbased': 1, 'subsequent': 1, 'insert': 1, 'lofi': 1, 'institutionally': 1, 'funded': 1, 'efficient': 1, 'momentum': 1, 'existence': 1, 'custom': 1, 'readings': 1, 'recorder—doing': 1, 'documentation': 1, 'reflecting': 1, 'attended': 1, 'wishing': 1, 'microcommunity': 1, 'joined': 1, 'practitioners': 1, 'unaware': 1, 'recognize': 1, 'irreplaceable': 1, 'changing': 1, 'doctoral': 1, 'adviser': 1, 'byrd': 1, 'instructed': 1, 'loan': 1, 'money': 1, 'microphones': 1, 'amplification': 1, 'arriving': 1, 'being—what': 1, 'coincidentally': 1, 'concerned': 1, 'fortunate': 1, 'apprenticeship': 1, 'linebased': 1, 'commands': 1, 'emacs': 1, 'sustaining': 1, 'ejournal': 1, 'serially': 1, 'eighteen': 1, 'april': 1, 'change—analogous': 1, 'invention': 1, 'press—was': 1, 'underway': 1, 'late': 1, '725000': 1, 'host': 1, 'linking': 1, 'thirty': 1, 'countries': 1, 'news': 1, 'worldwide': 1, 'bulletin': 1, 'board': 1, 'system': 1, 'poststructuralist': 1, 'putting': 1, 'mail': 1, 'postings': 1, 'groups': 1, 'recartspoems': 1, 'altzines': 1, 'capability': 1, 'reaching': 1, 'opulently': 1, 'pretense': 1, 'dispersion': 1, 'succeeded': 1, 'sharingmoving': 1, 'distances': 1, 'selection': 1, 'limitation': 1, 'include': 1, 'italics': 1, 'underline': 1, 'boldfaced': 1, 'transferring': 1, 'suddenly': 1, 'instantaneous': 1, 'welcomed': 1, 'ubiquitous': 1, 'rapid': 1, 'possible': 1, 'discovering': 1, 'possibility': 1, 'advancement': 1, 'wordslanguage': 1, 'circulated': 1, 'represented': 1, 'leap': 1, 'awareness': 1, 'recognizing': 1, 'twoway': 1, 'cent': 1, 'email': 1, 'correspondence': 1, 'journals—along': 1, 'requests': 1, 'print': 1, 'hardcopy': 1, 'methodologies': 1, 'viable': 1, 'distribute': 1, 'discourse—even': 1, 'opportunities': 1, 'coproduce': 1, 'webbased': 1, 'nine': 1, 'newark': 1, 'review': 1, 'appeared': 1, 'sporadically': 1, 'turn': 1, 'cannibalism': 1, 'numerous': 1, 'collectives': 1, 'purkinge': 1, '199394': 1, 'wrpi': 1, '19921996': 1, 'popularized': 1, 'fellow': 1, 'embraced': 1, 'immense': 1, 'coproducing': 1, 'laufer': 1, 'asymetrix': 1, 'toolkit': 1, 'eighty': 1, 'vivid': 1, 'hypertext': 1, 'appearing': 1, 'layers': 1, 'index': 1, 'interactors': 1, 'sitting': 1, 'contain': 1, 'combinations': 1, 'elements': 1, 'transfer': 1, 'formidable': 1, 'mechanism—with': 1, 'receiver': 1, 'sender—and': 1, 'easytofollow': 1, 'instruction': 1, 'probably': 1, 'exigent': 1, 'capabilities': 1, 'genericlooking': 1, 'hypertextual': 1, 'proto': 1, 'arose': 1, 'necessity': 1, 'evermediated': 1, 'environment': 1, 'be—and': 1, 'being—recontextualized': 1, 'engaged': 1, 'wanted': 1, 'occurring': 1, 'fields': 1, 'difficult': 1, 'intensified': 1, 'normalized—not': 1, 'podcasts': 1, 'nontrivial': 1, 'roles': 1, 'proliferation': 1, 'contracted': 1, 'interval': 1, 'influence': 1, 'utter': 1, 'retrievable': 1, 'strengthens': 1, 'conscious': 1, 'saturated': 1, 'embark': 1, 'happened': 1, 'technically': 1, 'capable': 1, 'maintained': 1, 'dedication': 1, 'obsession': 1, 'quick': 1, 'search': 1, 'ethos': 1, 'countless': 1, 'promote': 1, 'regard': 1, 'sponsor': 1, 'reflected': 1, 'independently': 1, 'impassioned': 1, 'drive': 1, 'agencies': 1, 'institutions': 1, 'date': 1, 'emerge': 1, 'occur': 1, 'seize': 1, 'capacity': 1, 'passionate': 1, 'develop': 1, 'hobby': 1, 'ie': 1, 'classroom—and': 1, 'classroom': 1, 'institution': 1, 'pastime': 1, 'stemmed': 1, 'naturally': 1, 'engages': 1, 'likely': 1, 'complexities': 1, 'arise': 1, 'insurmountable': 1, 'daunting': 1, 'attempts': 1, 'overcome': 1, 'main': 1, 'downside': 1, 'risks': 1, 'timeconsuming': 1, 'pathway': 1, 'involving': 1, 'videos': 1, 'recirculate': 1, 'texts—usefully': 1, 'facilitates': 1, 'informs': 1, 'usefully': 1, 'mystify': 1, 'locate': 1, 'interference': 1, 'milieus': 1, 'professional': 1, 'continually': 1, 'giving': 1, 'circle': 1, 'connections': 1, 'brilliant': 1, 'level—a': 1, 'broader': 1, 'audience—by': 1, 'keeping': 1, 'coinciding': 1, 'sustained': 1, 'identifying': 1, 'conspirators': 1, 'equation': 1, 'openness': 1, 'cultivating': 1, '144': 1, 'valued': 1, 'benefited': 1, 'appreciated': 1, 'teamwork': 1, 'engagements': 1, 'partner': 1, 'drawing': 1, 'sets': 1, 'diminish': 1, 'hopefully': 1, 'refinement': 1, 'progressed': 1, 'introduce': 1, 'explorations': 1, 'variously': 1, 'contextualized': 1, 'tenets': 1, 'strongest': 1, 'containing': 1, 'characteristics': 1, 'secondly': 1, 'interactivity': 1, 'trajectories': 1, 'integrates': 1, 'redefine': 1, 'microclimates': 1, 'interestingly': 1, 'eliminate': 1, 'establishing': 1, 'pollution': 1, 'static': 1, 'kinetic': 1, 'dynamic': 1, 'spectrums': 1, 'penchant': 1, 'founded': 1, 'filreis': 1, '2005': 1, 'largest': 1, 'invaluable': 1, 'preparation': 1, 'presentationarchiving': 1, 'occurs': 1, 'opposed': 1, 'foundations': 1, 'institutional': 1, 'enormous': 1, 'wellknown': 1, 'limitations': 1, 'downsides': 1, 'upsides': 1, 'housed': 1, 'usually': 1, 'accompanied': 1, 'dozens': 1, 'extensive': 1, 'article': 1, 'jacket2': 1, 'retrospective': 1, '2017': 1, 'fulllength': 1, 'chapbooks': 1, 'preverbs': 1, 'equaling': 1, 'mp3': 1, 'surgical': 1, 'accordance': 1, 'precise': 1, 'specifications': 1, 'tagging': 1, 'name': 1, 'copyright': 1, 'statement': 1, 'advantageous': 1, 'possess': 1, 'smartphones': 1, 'mobile': 1, 'devices': 1, 'collect': 1, 'microcollections': 1, 'propel': 1, 'articles': 1, 'regarding': 1, 'designing': 1, 'offered': 1, 'pioneered': 1, 'featuring': 1, 'enterprise': 1, 'andrews': 1, 'approximately': 1, 'twentyfour': 1, 'hours': 1, 'jukebox': 1, 'pulldown': 1, 'menus': 1, 'selective': 1, 'absorbing': 1, 'requires': 1, 'individually': 1, 'collectively': 1, 'decide': 1, 'tracks—now': 1, 'streaming': 1, 'mixable': 1, 'download': 1, 'web—might': 1, 'complementary': 1, 'riff': 1, 'deeply': 1, 'hyperly': 1, 'materiality': 1, 'sensory': 1, 'immersion': 1, 'living': 1, 'moments': 1, 'central': 1, 'activities': 1, 'scholar': 1, 'enhances': 1, 'refines': 1, 'realize': 1, 'activating': 1, 'publichtml': 1, 'populating': 1, 'crafted': 1, 'annotated': 1, 'thoroughly': 1, 'audiobased': 1, 'emerging': 1, 'passes': 1, 'neglect': 1, 'prime': 1, 'difficulties': 1, 'orchestrating': 1, 'maintenance': 1, 'seventy': 1, 'embedded': 1, 'browsers': 1, 'tracks': 1, 'width': 1, 'height': 1, 'autoplay': 1, 'controller': 1, 'loop': 1, 'anymore': 1, 'changes': 1, 'browser': 1, 'employed': 1, 'streamlined': 1, 'attending': 1, 'repairs': 1, 'maintaining': 1, 'collaborating': 1, 'acquired': 1, 'leased': 1, 'circulate': 1, 'continues': 1, 'contains': 1, 'spontaneously': 1, 'catchsome': 1, 'repository': 1, 'mp3s': 1, 'migrate': 1, 'pertains': 1, 'builds': 1, 'allows': 1, 'growth': 1, 'operation': 1, 'afforded': 1, 'liberties': 1, 'protocols': 1, 'fewer': 1, 'constraints': 1, 'spotty': 1, 'personalized': 1, 'primary': 1, 'promoted': 1, 'wordofmouth': 1, 'satisfaction': 1, 'imagined': 1, 'decentralize': 1, 'freely': 1, 'placedependent': 1, 'location': 1, 'summons': 1, 'computer': 1, 'embraces': 1, 'narrative': 1, 'synthesizing': 1, 'interfaces': 1, 'softwaredriven': 1, 'remediation': 1, 'american': 1, 'cecil': 1, 'coleading': 1, 'session': 1, 'event': 1, 'played': 1, '1994': 1, 'digitizing': 1, 'listened': 1, 'blend': 1, 'performances': 1, 'analyzing': 1, 'hierarchizing': 1, 'arranging': 1, 'succinctly': 1, 'technical': 1, 'source': 1, 'responsibility—to': 1, 'build': 1, 'inventive': 1, 'simultaneously—using': 1, 'aforementioned': 1, 'javascript—i': 1, 'hambone': 1, 'catalog': 1, 'adam': 1, 'pendleton': 1, 'queen': 1, 'resituates': 1, 'insights': 1, 'preservation': 1, 'recontextualization': 1, 'challenged': 1, 'analyze': 1, 'captivating': 1, 'remained': 1, 'laptop': 1, 'enhance': 1, 'climates': 1, 'compelled': 1, 'seeing': 1, 'eugenio': 1, 'tisselli': 1, 'biggest': 1, 'screen': 1, 'figuring': 1, 'sonuus': 1, 'discovery': 1, 'synchronize': 1, 'youtube': 1, 'channel': 1, 'hufnagel': 1, 'sophia': 1, 'sobers': 1, 'onstage': 1, 'midibass': 1, 'guide': 1, 'onthefly': 1, 'compositions': 1, 'tableaus': 1, 'vibrating': 1, 'crossgenre': 1, 'initiative': 1, 'synchronizes': 1, 'counterparts': 1, 'imagery': 1, 'drives': 1, 'textlanguage': 1, 'described': 1, 'pairing': 1, 'respective': 1, 'sonically': 1, 'synchronized': 1, 'unit': 1, 'incorporates': 1, 'discovered': 1, 'condenser': 1, 'phoneme': 1, 'orchestral': 1, 'inspired': 1, 'russian': 1, 'encountered': 1, 'taras': 1, 'norway': 1, 'activategenerate': 1, 'appearanceprojection': 1, 'managed': 1, 'apparatus': 1, 'occasions': 1, 'explained': 1, 'midiazine': 1, 'eastern': 1, 'bloc': 1, 'montreal': 1, 'august': 1, 'proceedings': 1, 'entails': 1, 'elaborate': 1, 'setup': 1, 'manageable': 1, 'unfamiliar': 1, 'performers': 1, 'track': 1, 'embody': 1, 'gestalt': 1, 'effective': 1, 'interconnection': 1, 'unveiled': 1, 'sanctioned': 1, 'provocative': 1, 'questions': 1, 'raised': 1, 'integrating': 1, 'supplement': 1, 'communicative': 1, 'mode': 1, 'integrated': 1, 'monthly': 1, 'hudson': 1, 'valley': 1, 'evolved': 1, 'commonplace': 1, 'regionally': 1, 'regional': 1, 'globally': 1, 'streamed': 1, 'audience': 1, 'greatly': 1, 'nonsynchronous': 1, 'component': 1, '2019': 1, 'coronavirus': 1, 'pandemic': 1, 'migrated': 1, 'podcastready': 1, 'prior': 1, 'programmers': 1, 'telephone': 1, 'facetime': 1, 'archived': 1, 'subscriptionpodcast': 1, 'portal': 1, 'sits': 1, 'organizational': 1, 'sharply': 1, 'defined': 1, 'discovers': 1, 'contemplative': 1, 'selfmotivated': 1, 'selfless': 1, 'closely': 1, 'underappreciated': 1, 'meditation': 1, 'initiated': 1, 'broadly—into': 1, 'trust': 1, 'intuition': 1, 'dialogos': 1, 'oral': 1, 'joins': 1, 'typewriter': 1, 'instrumentation': 1, 'prescient': 1, 'rings': 1, 'potentiality—one': 1, 'wideranging': 1, 'portability': 1, 'exorbitant': 1, 'concur': 1, 'salient': 1, 'observation': 1, 'inclined': 1, 'instructive': 1, 'spheres': 1, 'indicate': 1, 'focused': 1, 'encourage': 1, 'pursue': 1, 'moving': 1, 'onward': 1, 'expect': 1, 'layering': 1, 'conjunction': 1, 'wish': 1, 'potentials': 1, 'geolocational': 1, 'installations': 1, 'shaping': 1, 'investigate': 1, 'speechtotext': 1, 'njit': 1, 'bolstered': 1, 'courses': 1, 'graphic': 1, 'mindful': 1, 'encounters': 1, 'communications': 1, 'organize': 1, 'explorable': 1, 'increases': 1, 'impact': 1, '—christopher': 1, 'postcard': 1, 'wikipedia': 1, 'periodical': 1, 'consisting': 1, 'privately': 1, 'publishers': 1, 'comprehensive': 1, 'literally': 1, 'thousands': 1, 'heralding': 1, 'spread': 1, 'fanzine': 1, 'zine': 1, 'https': 1, 'enwikipediaorgwikifactsheetfive': 1, 'monographs': 1, 'archaeology': 1, '19591995': 1, 'alabama': 1, 'directions': 1, 'bloomsbury': 1, 'mexico': 1, 'national': 1, 'france': 1, 'nominated': 1, 'award': 1, '2014': 1, 'frontal': 1, 'renewal': 1, 'confoundered': 1, 'speak': 1, 'unkempted': 1, 'trek': 1, 'frieze': 1, 'daggery': 1, 'starvation': 1, 'pride': 1, 'brian': 1, 'maria': 1, 'damon': 1, 'gtrrunes': 1, 'intersection': 1, 'wealth': 1, 'horses': 1, 'estate': 1, 'frozen': 1, 'lake': 1, 'gift': 1, 'angst': 1, 'godhungry': 1, 'mouth': 1, 'watergift': 1, 'shooting': 1, 'torchgod': 1, 'wealthgod': 1, 'aurochs': 1, 'hailonbow': 1, 'mirth': 1, 'thorn': 1, 'thor': 1, 'endtime': 1, 'pole': 1, 'hunting': 1, 'journey': 1, 'thirst': 1, 'sore': 1, 'yewtree': 1, 'daydream': 1, 'travel': 1, 'richness': 1, 'generating': 1, 'revamped': 1, 'betaversion': 1, 'anglosaxon': 1, 'advantage': 1, 'pivotal': 1, 'anglosaxons': 1, 'vikings': 1, 'switch': 1, 'norse': 1, 'halfway': 1, 'intersecție': 1, 'runelor': 1, 'limba': 1, 'bogat': 1, 'lacuri': 1, 'înghețate': 1, 'angoasei': 1, 'dimineața': 1, 'gura': 1, 'ămândă': 1, 'apă': 1, 'vorbirii': 1, 'trăgând': 1, 'arcul': 1, 'gând': 1, 'zeutorță': 1, 'zeubogăție': 1, 'vrând': 1, 'zimbri': 1, 'ziua': 1, 'nevoii': 1, 'ziuantreagă': 1, 'nașterean': 1, 'hologramă': 1, 'bucurii': 1, 'grindini': 1, 'capul': 1, 'ghimpe': 1, 'stâlp': 1, 'deapoi': 1, 'criptă': 1, 'zin': 1, 'ceruri': 1, 'călărie': 1, 'vânat': 1, 'moartea': 1, 'soare': 1, 'legea': 1, 'zeului': 1, 'fericirea': 1, 'dea': 1, 'duce': 1, 'moștenirea': 1, 'gheții': 1, 'jgheaburi': 1, 'sfărâmate': 1, 'deatât': 1, 'ajunse': 1, 'lespezi': 1, 'sparte': 1, 'setea': 1, 'pânla': 1, 'rană': 1, 'omuluitisă': 1, 'iluminare': 1, 'titlul': 1, 'este': 1, 'visătoria': 1, 'altcuiva': 1, 'asimptotic': 1, 'suprafața': 1, 'ești': 1, 'bogăția': 1, 'călătorie': 1, 'vreme': 1, 'știam': 1, 'poetul': 1, 'generarea': 1, 'actualizată': 1, 'perfecționată': 1, 'respectivei': 1, 'platforme': 1, 'încă': 1, 'complet': 1, 'funcțională': 1, 'realizării': 1, 'proiect': 1, 'porțiuni': 1, 'ceea': 1, 'putut': 1, 'obține': 1, 'beta': 1, 'anglosaxone': 1, 'profitat': 1, 'punctul': 1, 'cotitură': 1, 'prezenței': 1, 'simbol': 1, 'deopotrivă': 1, 'anglosaxoni': 1, 'vikingi': 1, 'trece': 1, 'scandinave': 1, 'partea': 1, 'doua': 1, 'traducerii': 1, 'rezultatul': 1, 'engleză': 1, 'allocation': 1, 'malfunctioned': 1, 'asahi': 1, 'newly': 1, 'enormousness': 1, 'minuscule': 1, 'artillerists': 1, 'notice': 1, 'elastic': 1, 'motionlessly': 1, 'inconsistent': 1, 'necessitous': 1, 'exerts': 1, 'megacrash': 1, 'arrays': 1, 'neat': 1, 'envoi': 1, 'midwifery': 1, 'inglorious': 1, 'nouveau': 1, 'economics': 1, 'apparition': 1, 'illumined': 1, 'nightline': 1, 'evergreens': 1, 'reckon': 1, 'nontextual': 1, 'dissatisfaction': 1, 'pardonable': 1, 'affected': 1, 'illogical': 1, 'indefinite': 1, 'drill': 1, 'gathering': 1, 'close': 1, 'geographical': 1, 'region': 1, 'midtide': 1, 'sensational': 1, 'adroit': 1, 'infamous': 1, 'environmental': 1, 'science': 1, 'shed': 1, 'nightfall': 1, 'effect': 1, 'unholy': 1, 'hallocation': 1, 'twice': 1, 'procedure': 1, 'sick': 1, 'scenes': 1, 'disease': 1, 'republic': 1, 'mask': 1, 'equally': 1, 'liked': 1, 'tongues': 1, 'babies': 1, 'curve': 1, 'vacuum': 1, 'iterated': 1, 'swelling': 1, 'circuits': 1, 'toward': 1, 'tobacco': 1, 'plume': 1, 'attacking': 1, 'landscapes': 1, 'stream': 1, 'mile': 1, 'drifted': 1, 'rent': 1, 'fever': 1, 'noon': 1, 'plant': 1, 'constructed': 1, 'temporary': 1, 'iceberg': 1, 'idle': 1, 'symphony': 1, 'hell': 1, 'metropolitan': 1, 'resistance': 1, 'leaf': 1, 'generated': 1, 'iterating': 1, 'halocare': 1, 'lumească': 1, 'muzical': 1, 'miar': 1, 'nuanța': 1, 'întreaga': 1, 'procedură': 1, 'suntem': 1, 'început': 1, 'așa': 1, 'pervers': 1, 'scenele': 1, 'boală': 1, 'măruntă': 1, 'facă': 1, 'schimb': 1, 'republică': 1, 'valabilă': 1, 'masca': 1, 'stilului': 1, 'mâncare': 1, 'prizat': 1, 'când': 1, 'echilibrează': 1, 'practicile': 1, 'carearanjează': 1, 'fiecare': 1, 'gust': 1, 'iarba': 1, 'uențează': 1, 'dezbateri': 1, 'anumite': 1, 'deși': 1, 'aceste': 1, 'limbi': 1, 'erau': 1, 'copiii': 1, 'dramei': 1, 'dintre': 1, 'curbă': 1, 'hazard': 1, 'trebuie': 1, 'pună': 1, 'vidul': 1, 'semnul': 1, 'întrebării': 1, 'păcatul': 1, 'trinitar': 1, 'foto': 1, 'circuite': 1, 'umflânduse': 1, 'către': 1, 'tutun': 1, 'pana': 1, 'atacăm': 1, 'peisaje': 1, 'curent': 1, 'întârzie': 1, 'piatră': 1, 'kilometrul': 1, 'rătăceai': 1, 'întâmplase': 1, 'limbajul': 1, 'aerului': 1, 'deasupra': 1, 'casei': 1, 'chirie': 1, 'venit': 1, 'sădi': 1, 'febra': 1, 'amiezii': 1, 'construit': 1, 'componenta': 1, 'șiastfel': 1, 'nemișcată': 1, 'simfonie': 1, 'ghețarul': 1, 'iadul': 1, 'rezistență': 1, 'metropolitană': 1, 'exercițiile': 1, 'frunză': 1, 'risipei': 1, 'traducere': 1, 'chris': 1, 'tanasescu': 1, 'vedere': 1, 'originalele': 1, 'fuseseră': 1, 'generate': 1, 'programul': 1, 'prin': 1, 'iterație': 1, 'același': 1, 'obținut': 1, 'poemele': 1, 'leam': 1, 'authored': 1, 'side': 1, 'temporarily': 1, 'foreign': 1, 'illustrates': 1, 'stemming': 1, 'presuppositions': 1, 'nations': 1, 'modalities—and': 1, 'perceived': 1, 'strange': 1, 'bunkmates—may': 1, 'bridled': 1, 'lenses': 1, 'herculean': 1, 'illuminates': 1, 'appears': 1, 'fringe': 1, 'determined': 1, 'mainstream': 1, 'builtin': 1, 'transcreation': 1, 'bursting': 1, 'substance': 1, 'blasting': 1, 'proceeds': 1, 'uniquely': 1, 'chart': 1, 'disconnected': 1, 'approaches': 1, 'distinctly': 1, 'rigorous': 1, 'investigative': 1, 'editorship': 1, 'herein': 1, 'hefty': 1, 'diverse': 1, 'algorithm': 1, 'graphical': 1, 'partnering': 1, 'propulsiveness': 1, 'seemingly': 1, 'unprecedented': 1, 'compendium': 1, 'refracts': 1, 'conceptual': 1, 'policers': 1, 'polarity': 1, 'warlings': 1, 'dismissively': 1, 'cats': 1, 'medi': 1, 'cament': 1, 'metalurgically': 1, 'heated': 1, 'conversion': 1, 'poetrybeam': 1, 'convertible': 1, 'larks': 1, 'aview': 1, 'strategical': 1, 'stratiforms': 1, 'seizes': 1, 'fiery': 1, 'autoscopy': 1, 'alto': 1, 'looney': 1, 'hobnailed': 1, 'beach': 1, 'tradition': 1, 'manoeuvres': 1, 'pterodactyls': 1, 'psychologies': 1, 'surprise': 1, 'latchkey': 1, 'reverse': 1, 'surrounded': 1, 'lashing': 1, 'reviewers': 1, 'lathy': 1, 'mythologers': 1, 'conspired': 1, 'confrontation': 1, 'aidf': 1, 'international': 1, 'timpul': 1, 'lorrain': 1, 'baggaley': 1, 'carolyn': 1, 'isle': 1, 'wight': 1, 'gallery': 1, 'goodbye': 1, 'resonance': 1, 'erbaccepress': 1, 'general': 1, 'indenting': 1, 'emphasises': 1, 'occupies': 1, 'fraction': 1, 'echoing': 1, 'faintly': 1, 'fade': 1, 'sixteen': 1, '15913': 1, '1471113': 1, 'subsaharan': 1, 'african': 1, '1491113': 1, 'variation': 1, 'passage': 1, 'fall': 1, 'numbers': 1, 'syllables': 1, 'quarterbeats': 1, 'slightly': 1, 'stretch': 1, 'pronunciation': 1, 'fountainsabbey': 1, 'suffered': 1, 'partially': 1, 'reversed': 1, 'adds': 1, 'represent': 1, 'dual': 1, 'duel': 1, 'echoes': 1, 'decision': 1, 'hexameter—the': 1, 'military': 1, 'epic—to': 1, 'series': 1, 'staining': 1, 'sheets': 1, 'sketchpad': 1, 'cooking': 1, 'oven': 1, 'transformed': 1, 'photography': 1, 'erase': 1, 'border': 1, 'edges': 1, 'shapes': 1, 'float': 1, 'resultant': 1, 'traces': 1, 'integrations': 1, 'artwork': 1, 'illustrated': 1, 'relentless': 1, 'presents': 1, 'logistical': 1, 'problems': 1, 'recite': 1, 'perform': 1, 'lyrics': 1, 'past—i': 1, 'seeger': 1, 'eddie': 1, 'rods': 1, 'commie': 1, 'member': 1, '—had': 1, 'sevenbeat': 1, 'catching': 1, 'vacant': 1, 'seat': 1, 'bride': 1, 'walking': 1, 'pauses': 1, 'except': 1, 'twelveline': 1, 'stanza—certainly': 1, 'vocalist': 1, 'reciter': 1, 'anything': 1, 'cracking': 1, 'pace': 1, 'intended': 1, 'solution': 1, 'found—and': 1, 'rocks': 1, 'middle': 1, 'experimental': 1, 'counterculture': 1, 'centre': 1, 'fifteenminute': 1, 'cover': 1, 'threeminute': 1, 'bash': 1, 'replete': 1, 'horn': 1, 'guitars': 1, 'instruments': 1, 'chipping': 1, 'lead': 1, 'solos—yes': 1, 'interspersed': 1, 'equivalents': 1, 'ageless': 1, 'infinitely': 1, 'variable': 1, 'johnny': 1, 'goode': 1, 'alvin': 1, 'goin': 1, 'territory': 1, 'drum': 1, 'santana': 1, 'woodstock': 1, 'land': 1, 'hendrix': 1, 'ravel': 1, 'bolero': 1, 'finale': 1, 'personally': 1, 'prefer': 1, 'stay': 1, 'sixties': 1, 'stoned': 1, 'beer': 1, 'band': 1, 'crack': 1, 'hybridization': 1, 'contribution': 1, 'fluent': 1, 'fluid': 1, 'centers': 1, 'fluctuation': 1, 'contamination': 1, 'computational': 1, 'pinning': 1, 'undercurrents': 1, 'pool': 1, 'occurrence': 1, 'flux': 1, 'gravitate': 1, 'contaminate': 1, 'levels': 1, 'needs': 1, 'doubled': 1, 'excerpt': 1, '7000': 1, 'forthcoming': 1, 'revised': 1, 'athanor': 1, 'pohems': 1, 'gellu': 1, 'trans': 1, 'martin': 1, 'woodside': 1, 'calypso': 1, 'lists': 1, 'displayed': 1, 'hybridized': 1, 'diction': 1, 'flow': 1, 'contaminated': 1, 'advances': 1, 'replacements': 1, 'routes': 1, 'words—printed': 1, 'italicized': 1, 'satellites': 1, 'revolving': 1, 'words—are': 1, 'higher': 1, 'closer': 1, 'mediumrelated': 1, 'anybody': 1, 'andor': 1, 'apply': 1, 'filescorpora': 1, 'narrator': 1, 'writer': 1, 'block': 1, 'finishes': 1, 'project—a': 1, 'explores': 1, 'john': 1, 'clues': 1, 'explain': 1, 'ostracization': 1, 'crisis': 1, 'unable': 1, 'sensibility': 1, 'envisaged': 1, 'centres': 1, 'humourless': 1, 'voice—his': 1, 'dries': 1, 'rescue—an': 1, 'willing': 1, 'piecing': 1, 'collaging': 1, 'debate—between': 1, 'aesthetic': 1, 'ends': 1, 'considering': 1, 'constructs': 1, 'importance': 1, 'hierarchies': 1, 'reason': 1, 'why—it': 1, 'plain': 1, 'noone': 1, 'unstuck': 1, 'helped': 1, 'halfbaked': 1, 'woke': 1, 'argued': 1, 'contented': 1, 'sleep': 1, 'tore': 1, 'modified': 1, 'password': 1, 'career': 1, 'tatters': 1, 'despondent': 1, 'draw': 1, 'comfort—': 1, 'heartaches': 1, 'salvaged': 1, 'it—say': 1, 'burnt': 1, 'ashes': 1, 'grate': 1, 'thrown': 1, 'household': 1, 'detritus': 1, 'daily': 1, 'lives—': 1, 'desserts': 1, 'deserted': 1, 'overrated': 1, 'sellby': 1, 'outdated': 1, 'rearranged': 1, 'shorter': 1, 'stanzas': 1, 'disposing': 1, 'torn': 1, 'tattered': 1, 'sections': 1, 'intact': 1, 'interjects': 1, 'placated': 1, 'with—': 1, 'couldn': 1, 'missing': 1, 'luckily': 1, 'ones': 1, 'ripped': 1, 'garbage': 1, 'omission': 1, 'done—': 1, 'cunning': 1, 'fruition': 1, 'thank': 1, 'remains': 1, 'cities': 1, 'colosseum': 1, 'ephesus': 1, 'rebuilt': 1, 'allembracing': 1, 'vesuvius': 1, 'heyday—ruins': 1, 'picturesque': 1, 'title—': 1, 'dislocations—not': 1, 'disruptions': 1, 'bone': 1, 'joint': 1, 'interruptions': 1, 'crystal': 1, 'structure—all': 1, 'related': 1, 'etymology': 1, 'nicely': 1, 'locus': 1, 'prefix': 1, 'snappy': 1, 'smacking': 1, 'academe': 1, 'funny': 1, 'reverence': 1, 'irreverence': 1, 'intoxication': 1, 'high': 1, 'roundabout': 1, 'blunt': 1, 'relevance': 1, 'feelings': 1, 'affective': 1, 'route': 1, 'humanity': 1, 'extended': 1, 'froth': 1, 'shallows': 1, 'spray': 1, 'crash': 1, 'shore': 1, 'reveal': 1, 'earth': 1, 'unrelenting': 1, 'opposition': 1, 'theme—': 1, 'study—': 1, 'offspring': 1, 'siblings': 1, 'versions': 1, 'project—': 1, 'painful': 1, 'wrought': 1, 'cheek': 1, 'fluctuating': 1, 'tide—': 1, 'laps': 1, 'wild': 1, 'undulating': 1, 'fixed': 1, 'hopes': 1, 'madness': 1, 'tied': 1, 'untamed': 1, 'unwilling': 1, 'kowtow': 1, 'gatekeeper': 1, 'conservation': 1, 'caged': 1, 'leashed': 1, 'freedom': 1, 'captured': 1, 'ordered': 1, 'rebirth—': 1, 'favourite': 1, 'time—of': 1, 'leonardo': 1, 'botticelli': 1, 'donatello': 1, 'laocoön': 1, 'sculpture': 1, 'writhing': 1, 'snakes': 1, 'father': 1, 'guided': 1, 'titian': 1, 'believes': 1, 'renaissance—': 1, 'going': 1, 'greatest': 1, 'encouraged': 1, 'others—': 1, 'william': 1, 'loved': 1, 'attempted—': 1, 'kindred': 1, 'undiscovered': 1, 'midjuly': 1, 'ovidexile': 1, 'died': 1, 'invited': 1, 'hardly': 1, 'stopped': 1, 'drank': 1, 'patient': 1, 'caring': 1, 'complements': 1, 'sober': 1, 'listens': 1, 'ramblings': 1, 'brushed': 1, 'times—': 1, 'swept': 1, 'away—he': 1, 'struggles': 1, 'rambles': 1, 'infinitum': 1, 'bores': 1, 'witless': 1, 'lying': 1, 'drowned': 1, 'sorrows': 1, 'cause': 1, 'unhappy': 1, 'state—': 1, 'eight': 1, 'ease': 1, 'refrains': 1, 'weeks—you': 1, 'fast': 1, 'clock': 1, 'ticking': 1, 'flick': 1, 'looms': 1, 'himself': 1, 'arrives': 1, 'are—': 1, 'anguished': 1, 'states': 1, 'complicates': 1, 'drudge': 1, 'splash': 1, 'flight': 1, 'leaving': 1, 'sorry': 1, 'muggers—': 1, 'drummers': 1, 'lovers': 1, 'fond': 1, 'repetition': 1, 'repetition—': 1, 'import': 1, 'awkward': 1, 'restlessness': 1, 'worlds': 1, 'fumblings': 1, 'pleasures': 1, 'glass—': 1, 'muffle': 1, 'groans': 1, 'whispers': 1, 'halls': 1, 'function': 1, 'transparent—surely': 1, 'traps': 1, 'husband': 1, 'bites': 1, 'mirror': 1, 'discouraging': 1, 'cast': 1, 'others—louder': 1, 'shouts': 1, 'heads': 1, 'goals': 1, 'lotto': 1, 'tickets': 1, 'thick': 1, 'doubtful': 1, 'honour': 1, 'story—woeful': 1, 'boastful': 1, 'cooked': 1, 'meal': 1, 'sauce': 1, 'pasta': 1, 'repast': 1, 'served': 1, 'piped': 1, 'divine': 1, 'conducive': 1, 'throats': 1, 'palate': 1, 'fusty': 1, 'saying': 1, 'hosts': 1, 'elegance': 1, 'sharp': 1, 'resonates': 1, 'quantity': 1, 'splendid': 1, 'door': 1, 'slams': 1, 'amiss': 1, 'begins': 1, 'misadventure': 1, 'tragedies': 1, 'majorminor—': 1, 'ambuscade': 1, 'espionage': 1, 'wanting': 1, 'consumption—': 1, 'aiding': 1, 'scanning': 1, 'lines—': 1, 'scattered': 1, 'symmetry': 1, 'sight': 1, 'inducing': 1, 'torpor': 1, 'coupled': 1, 'answer': 1, 'equivalent': 1, 'limping': 1, 'phrase': 1, 'pose': 1, 'response': 1, 'riposte': 1, 'contrast': 1, 'fivebeat': 1, 'withstood': 1, 'grace': 1, 'centuries': 1, 'rhythmrhyme': 1, 'grew': 1, 'creole': 1, 'elvis': 1, 'presley': 1, 'tutti': 1, 'frutti': 1, 'ignored': 1, 'blood—': 1, 'drumsticks': 1, 'knows': 1, 'gave': 1, 'transport': 1, 'thing—without': 1, 'drums': 1, 'easier': 1, 'ignoring': 1, 'musicians': 1, 'joking': 1, 'laughing': 1, 'cleft': 1, 'converse': 1, 'argue': 1, 'joke': 1, 'funnily': 1, 'talking': 1, 'leather': 1, 'revolting': 1, 'kept': 1, 'receipt': 1, 'appalling': 1, 'lacking—': 1, 'kills': 1, 'jackets': 1, 'tight': 1, 'balding': 1, 'ageing': 1, 'regression': 1, 'weaker': 1, 'frame': 1, 'tended': 1, 'styles': 1, 'randomly': 1, 'enclose': 1, 'unlike': 1, 'before—': 1, 'wanders': 1, 'arcane': 1, 'bore': 1, 'carry': 1, 'persevere': 1, 'endeavour': 1, 'injecting': 1, 'constrict': 1, 'length': 1, 'predetermined': 1, 'cassandra': 1, 'judgment': 1, 'wasting': 1, 'rushed': 1, 'amendments': 1, 'support—': 1, 'phrasing': 1, 'sweet': 1, 'grow': 1, 'sifting': 1, 'errors': 1, 'mistakes': 1, 'heart': 1, 'folly': 1, 'lyric': 1, 'designs': 1, 'hubris': 1, 'curse': 1, 'thrust': 1, 'finest': 1, 'minds—': 1, 'tear': 1, 'overlooked—': 1, 'latest': 1, 'anticipating': 1, 'gaffes': 1, 'imagination': 1, 'consideration': 1, 'together—': 1, 'gathered': 1, 'subtle': 1, 'saucy': 1, 'bawdy': 1, 'brazen': 1, 'compare': 1, 'expounded': 1, 'briefly': 1, 'sadly': 1, 'shunned': 1, 'fame': 1, 'gained': 1, 'abroad': 1, 'younger': 1, 'fitter': 1, 'painter': 1, 'london—seems': 1, 'followed': 1, 'deterred': 1, 'keys—the': 1, 'chopin': 1, 'canon': 1, 'trains': 1, 'fear': 1, 'dear': 1, 'strangled': 1, 'disposed': 1, 'kitchen': 1, 'knife': 1, 'toilet': 1, 'bowl': 1, 'shower': 1, 'curtain': 1, 'messy': 1, 'yonder': 1, 'sofa': 1, 'stupor—spot': 1, 'bottle': 1, 'definitely': 1, 'certainly': 1, 'chore': 1, 'watching': 1, 'football': 1, 'team': 1, 'liverpool': 1, '2000': 1, 'anew': 1, 'view—from': 1, 'transcriptions': 1, 'attracted': 1, 'egoism': 1, 'transgression': 1, 'woes': 1, 'jove': 1, 'send': 1, 'afternoons': 1, '—was': 1, 'better—by': 1, 'couplets': 1, 'dangers': 1, 'risk': 1, 'suggesting': 1, 'recognised': 1, 'blame': 1, 'expressed': 1, 'shock—': 1, 'exceeded': 1, 'rules': 1, 'mistreated': 1, 'marloweovid—adolescents': 1, 'translatingwriting': 1, 'revolutioninterregnum': 1, 'regicide': 1, 'plague': 1, 'emerged': 1, 'opinion': 1, 'conviction': 1, 'protestant': 1, 'catholics': 1, 'protestants': 1, 'returns': 1, 'turncoat': 1, 'panegyrics': 1, 'catholic': 1, 'solace': 1, 'swimming': 1, 'rose': 1, 'alley': 1, 'garden': 1, 'remain': 1, 'unclear': 1, 'match—': 1, 'complement': 1, 'violent': 1, 'courts': 1, 'murder': 1, 'affray': 1, 'what—a': 1, 'reckoning': 1, 'london—marlowe': 1, 'dies': 1, 'tomis—ovid': 1, 'garden—dryden': 1, 'attacked': 1, 'urbane': 1, 'proximate': 1, 'powers': 1, 'outside': 1, 'unites': 1, 'worlds—augustan': 1, 'elizabethanrestoration': 1, 'constantatomis': 1, 'service': 1, 'lately': 1, 'separated': 1, 'pope': 1, 'illicit': 1, 'meetings': 1, 'trysts': 1, 'frustrations': 1, 'impotence': 1, 'deceit': 1, 'excitement': 1, 'adventures': 1, 'risking': 1, 'danger': 1, 'density': 1, 'relied': 1, '—protagonist': 1, 'opinion—mere': 1, 'fluidity': 1, 'climax': 1, 'restoration': 1, 'awaiting': 1, 'greatness': 1, 'marlowe—edward': 1, 'faustus': 1, 'come—his': 1, 'logically': 1, 'concentrate': 1, 'checking': 1, 'elegies': 1, 'touched': 1, 'hands': 1, 'dreaming': 1, 'completing': 1, 'dissecting': 1, 'minutiae': 1, 'triple': 1, 'thin': 1, 'tamburlaine': 1, 'lover': 1, 'lacks': 1, 'ending': 1, 'shallow': 1, 'seas': 1, 'gleaming': 1, 'shifting': 1, 'moods': 1, 'lots': 1, 'ocean': 1, 'plumbed': 1, 'depths': 1, 'dislike': 1, 'blue': 1, 'waters': 1, 'drown': 1, 'occasionally': 1, 'kick': 1, 'bottom': 1, 'meagre': 1, 'scribblings': 1, '219': 1, 'note—there': 1, 'thing—the': 1, 'sunburst': 1, 'italy—': 1, 'banish': 1, 'turner': 1, 'bright': 1, 'smaller': 1, 'hear': 1, 'fumbling': 1, 'light—': 1, 'dawn': 1, 'cruel': 1, 'eclipsing': 1, 'denying—': 1, 'majesty': 1, 'twenty': 1, 'eternity': 1, 'cups': 1, 'cigarette': 1, 'bloody': 1, 'consequence': 1, 'tethered': 1, 'string': 1, 'jokes': 1, 'clear': 1, 'halves': 1, 'smartly': 1, 'nuance': 1, 'clarify': 1, 'deliberate': 1, 'foremost': 1, 'confusion': 1, 'obfuscation': 1, 'breathe': 1, 'splashes': 1, 'canvases': 1, 'mark': 1, 'existed': 1, 'relation': 1, 'nuanced': 1, 'view': 1, 'picture': 1, 'hover': 1, 'viewing': 1, 'actor': 1, 'warmer': 1, 'goes': 1, 'happens': 1, 'everywhere': 1, 'phrases': 1, 'vague': 1, 'maligned': 1, 'time—': 1, 'complex': 1, 'victorian': 1, 'crowded': 1, 'epsom': 1, 'racecourse': 1, 'classes': 1, 'rubbing': 1, 'shoulders': 1, 'artful': 1, 'stories': 1, 'impressionism': 1, 'starting': 1, 'later—': 1, 'lacking': 1, 'character—': 1, 'example—maybe': 1, 'degas': 1, 'dancers': 1, 'movement': 1, 'graceful': 1, 'figures': 1, 'drawn': 1, 'one—': 1, 'sketch': 1, 'degas—intimation': 1, 'outline': 1, 'wall': 1, 'feel': 1, 'day—so': 1, 'many—even': 1, 'lord': 1, 'rochester': 1, 'incontinence': 1, 'stand': 1, 'equal': 1, 'festering': 1, 'subjugated': 1, 'flat': 1, 'fury': 1, 'signifying': 1, 'afterwards': 1, 'emboldened': 1, 'replaced': 1, 'satire': 1, 'modern—mourning': 1, 'couplet': 1, 'finish': 1, 'dispute': 1, 'ours': 1, 'envisage': 1, 'dialogue': 1, 'frank': 1, 'stifling': 1, 'nature': 1, 'wringing': 1, 'words—': 1, 'morbid': 1, 'centred': 1, 'thee': 1, 'wine—': 1, 'reflect': 1, 'deserves': 1, 'credit': 1, 'overlooked': 1, 'checked': 1, 'emails—there': 1, 'approved': 1, 'horror': 1, 'outlined': 1, 'artistswriters': 1, 'selfimposed': 1, 'zola': 1, 'courbet': 1, 'gauguin': 1, 'schwitters': 1, 'grosz': 1, 'hatoum': 1, 'abramovic': 1, 'list': 1, 'endless': 1, 'ambition': 1, 'killed': 1, 'successful': 1, 'names': 1, 'names—': 1, 'teaching': 1, 'appreciation': 1, 'stipulated': 1, 'complaining': 1, 'onoffline': 1, 'terrifying': 1, 'pasted': 1, 'amazon': 1, 'searched': 1, 'basketed': 1, 'bank': 1, 'assist—': 1, 'spend': 1, 'swotting': 1, 'knackered': 1, 'inspiration': 1, 'fret': 1, 'sources': 1, 'feeding': 1, 'current': 1, 'theories': 1, 'translate': 1, 'scan': 1, 'researched': 1, 'linguistically': 1, 'cross': 1, 'hard—': 1, 'prose': 1, 'knowledge—': 1, 'crushes': 1, 'options': 1, 'bypassing': 1, 'pass': 1, 'gods': 1, 'floating': 1, 'damning': 1, 'moral': 1, 'divergent': 1, 'life—': 1, 'negotiations': 1, 'spaces': 1, 'spoken—': 1, 'art': 1, 'bluster': 1, 'penned': 1, 'applause': 1, 'duplication—true': 1, 'damned': 1, 'share': 1, 'somehow': 1, 'admit': 1, 'xxxi': 1, 'exist': 1, 'facets': 1, 'rightly': 1, 'urgent': 1, 'nature—': 1, 'subjectivity': 1, 'contrary': 1, 'have—': 1, 'compared': 1, 'flagellate': 1, 'xxxii': 1, 'underestimate': 1, 'worth': 1, 'subjective': 1, 'speculation': 1, 'takes': 1, 'ostracizes': 1, 'flawed': 1, 'energizing': 1, 'xxxiii': 1, 'obnoxious': 1, 'incompetent': 1, 'two—and': 1, 'admitting': 1, 'right—': 1, 'democracy': 1, 'party': 1, 'xxxiv': 1, 'resolve': 1, 'solved': 1, 'square': 1, 'silly': 1, 'hopefulness': 1, 'exists': 1, 'tension': 1, 'leave': 1, 'peace': 1, 'xxxv': 1, 'halffull': 1, 'detached': 1, 'debated': 1, 'acknowledgement': 1, 'limits': 1, 'selfindulgence': 1, 'plays': 1, 'optimism': 1, 'infectious': 1, 'virus': 1, 'xxxvi': 1, 'wine—he': 1, 'anteroom': 1, 'around—': 1, 'confound': 1, 'expectations': 1, 'bottles—drinks': 1, 'shelf': 1, 'peanuts': 1, 'skip': 1, 'xxxvii': 1, 'dabbler': 1, 'beware': 1, 'throw': 1, 'caution': 1, 'worry': 1, 'dark': 1, 'delight': 1, 'righting': 1, 'xxxviii': 1, 'fits': 1, 'looks': 1, 'hates': 1, 'lysistrata': 1, 'strike': 1, 'deign': 1, 'hide': 1, 'wardrobe': 1, 'hanging': 1, 'behind': 1, 'suits': 1, 'ready': 1, 'proper': 1, 'twelvebar': 1, 'lines—enticing': 1, 'rhymes—they': 1, 'suit': 1, 'occasions—when': 1, 'xxxix': 1, 'conclusion': 1, 'pliant': 1, 'him—': 1, 'come—': 1, 'rewriting': 1, 'watched': 1, 'trying': 1, 'achieve': 1, 'goal—': 1, 'planned': 1, 'famous': 1, 'transformations': 1, 'dis': 1, 'dodgy': 1, 'goings': 1, 'opinion—': 1, 'xlii': 1, 'councilfunded': 1, 'organized': 1, 'alliance': 1, 'integration': 1, 'dobruja—': 1, 'cultures': 1, 'banished': 1, 'landed': 1, 'xliii': 1, 'protagonists': 1, 'display': 1, 'tragicomic': 1, 'tendencies': 1, 'monologues': 1, 'dialogues': 1, 'indecisions': 1, 'disagreements': 1, 'finally': 1, 'resolution—': 1, 'pairs': 1, 'wedded': 1, 'marlowedryden': 1, 'bedded': 1, 'players': 1, 'artistpoet': 1, 'sides': 1, 'xliv': 1, 'ship': 1, 'wizz': 1, 'flight—': 1, 'luton': 1, 'tourists': 1, 'dread': 1, 'runways': 1, 'seats': 1, 'token': 1, 'legroom': 1, 'turbulence': 1, 'transforms': 1, 'taxi': 1, 'runway': 1, 'hotel': 1, 'smiling': 1, 'drink—': 1, 'partaken': 1, 'forgotten': 1, 'this—': 1, 'lost': 1, 'reply': 1, 'assured': 1, 'saved': 1, 'grown': 1, 'parental': 1, 'independent': 1, 'website—': 1, 'average': 1, 'website': 1, 'bucharest': 1})\n"
     ]
    }
   ],
   "source": [
    "\n",
    "print(Count_total)"
   ]
  },
  {
   "cell_type": "code",
   "execution_count": 21,
   "metadata": {},
   "outputs": [
    {
     "name": "stdout",
     "output_type": "stream",
     "text": [
      "7899\n"
     ]
    }
   ],
   "source": [
    "\n",
    "for i in range(1):\n",
    "    print(len(texts_data[i]))"
   ]
  },
  {
   "cell_type": "code",
   "execution_count": 12,
   "metadata": {},
   "outputs": [],
   "source": [
    "\n",
    "for i in range(1):\n",
    "    texts_data[i] = [x for x in texts_data[i] if x not in stopwords]"
   ]
  },
  {
   "cell_type": "code",
   "execution_count": 17,
   "metadata": {},
   "outputs": [
    {
     "name": "stdout",
     "output_type": "stream",
     "text": [
      "7720\n"
     ]
    }
   ],
   "source": [
    "\n",
    "print(len(texts_data[0]))"
   ]
  },
  {
   "cell_type": "code",
   "execution_count": 18,
   "metadata": {},
   "outputs": [],
   "source": [
    "\n",
    "dictionary = corpora.Dictionary(texts_data)"
   ]
  },
  {
   "cell_type": "code",
   "execution_count": 19,
   "metadata": {},
   "outputs": [],
   "source": [
    "\n",
    "corpus = [dictionary.doc2bow(text) for text in texts_data]\n",
    "import pickle\n",
    "pickle.dump(corpus, open('corpus.pkl', 'wb'))\n",
    "dictionary.save('dictionary.gensim')"
   ]
  },
  {
   "cell_type": "code",
   "execution_count": 26,
   "metadata": {},
   "outputs": [],
   "source": [
    "\n",
    "def compute_coherence_values(dictionary, corpus, texts, limit, start = 2, step = 1):\n",
    "    coherence_values = []\n",
    "    model_list = []\n",
    "    for num_topics in range(start, limit, step):\n",
    "        model = gensim.models.ldamodel.LdaModel(corpus = corpus, num_topics = num_topics, id2word = dictionary, random_state = 100, update_every = 1, passes = 15, alpha = 'auto', per_word_topics = True)\n",
    "        model_list.append(model)\n",
    "        coherencemodel = CoherenceModel(model = model, texts = texts, dictionary = dictionary, coherence = 'c_v')\n",
    "        coherence_values.append(coherencemodel.get_coherence())\n",
    "\n",
    "    return model_list, coherence_values"
   ]
  },
  {
   "cell_type": "code",
   "execution_count": 27,
   "metadata": {},
   "outputs": [],
   "source": [
    "\n",
    "model_list, coherence_values = compute_coherence_values(dictionary = dictionary, corpus = corpus, texts = texts_data, start=2, limit=10, step=1)"
   ]
  },
  {
   "cell_type": "code",
   "execution_count": 28,
   "metadata": {},
   "outputs": [
    {
     "name": "stdout",
     "output_type": "stream",
     "text": [
      "Num Topics = 2  has Coherence Value of 0.2937\n",
      "Num Topics = 3  has Coherence Value of 0.2833\n",
      "Num Topics = 4  has Coherence Value of 0.2925\n",
      "Num Topics = 5  has Coherence Value of 0.2971\n",
      "Num Topics = 6  has Coherence Value of 0.3023\n",
      "Num Topics = 7  has Coherence Value of 0.2945\n",
      "Num Topics = 8  has Coherence Value of 0.3039\n",
      "Num Topics = 9  has Coherence Value of 0.2978\n"
     ]
    }
   ],
   "source": [
    "\n",
    "limit=10\n",
    "start=2\n",
    "step=1\n",
    "x = range(start, limit, step)\n",
    "\n",
    "for m, cv in zip(x, coherence_values):\n",
    "    print(\"Num Topics =\", m, \" has Coherence Value of\", round(cv, 4))"
   ]
  },
  {
   "cell_type": "code",
   "execution_count": 29,
   "metadata": {},
   "outputs": [],
   "source": [
    "\n",
    "NUM_TOPICS = 8\n",
    "ldamodel = gensim.models.ldamodel.LdaModel(corpus, num_topics = NUM_TOPICS, id2word=dictionary, random_state=100, update_every=1, passes=15, alpha='auto', per_word_topics=True)"
   ]
  },
  {
   "cell_type": "code",
   "execution_count": 34,
   "metadata": {},
   "outputs": [],
   "source": [
    "\n",
    "topics = ldamodel.print_topics(num_words=46)"
   ]
  },
  {
   "cell_type": "code",
   "execution_count": 35,
   "metadata": {},
   "outputs": [
    {
     "name": "stdout",
     "output_type": "stream",
     "text": [
      "[(0,\n",
      "  '0.000*\"verse\" + 0.000*\"ovid\" + 0.000*\"work\" + 0.000*\"other\" + 0.000*\"poet\" '\n",
      "  '+ 0.000*\"poetry\" + 0.000*\"audio\" + 0.000*\"time\" + 0.000*\"poem\" + '\n",
      "  '0.000*\"poets\" + 0.000*\"marlowe\" + 0.000*\"digital\" + 0.000*\"lines\" + '\n",
      "  '0.000*\"media\" + 0.000*\"both\" + 0.000*\"when\" + 0.000*\"said\" + 0.000*\"beat\" + '\n",
      "  '0.000*\"might\" + 0.000*\"write\" + 0.000*\"recordings\" + 0.000*\"made\" + '\n",
      "  '0.000*\"writing\" + 0.000*\"project\" + 0.000*\"thanks\" + 0.000*\"three\" + '\n",
      "  '0.000*\"dryden\" + 0.000*\"half\" + 0.000*\"production\" + 0.000*\"thought\" + '\n",
      "  '0.000*\"research\" + 0.000*\"sound\" + 0.000*\"line\" + 0.000*\"course\" + '\n",
      "  '0.000*\"voice\" + 0.000*\"making\" + 0.000*\"online\" + 0.000*\"used\" + '\n",
      "  '0.000*\"type\" + 0.000*\"humanities\" + 0.000*\"magazine\" + 0.000*\"form\" + '\n",
      "  '0.000*\"every\" + 0.000*\"plan\" + 0.000*\"perhaps\" + 0.000*\"again\"'),\n",
      " (1,\n",
      "  '0.000*\"ovid\" + 0.000*\"work\" + 0.000*\"verse\" + 0.000*\"poetry\" + 0.000*\"time\" '\n",
      "  '+ 0.000*\"poem\" + 0.000*\"lines\" + 0.000*\"audio\" + 0.000*\"other\" + '\n",
      "  '0.000*\"poets\" + 0.000*\"digital\" + 0.000*\"poet\" + 0.000*\"make\" + '\n",
      "  '0.000*\"marlowe\" + 0.000*\"when\" + 0.000*\"writing\" + 0.000*\"course\" + '\n",
      "  '0.000*\"used\" + 0.000*\"media\" + 0.000*\"made\" + 0.000*\"dryden\" + '\n",
      "  '0.000*\"recordings\" + 0.000*\"thanks\" + 0.000*\"beat\" + 0.000*\"write\" + '\n",
      "  '0.000*\"three\" + 0.000*\"research\" + 0.000*\"line\" + 0.000*\"thought\" + '\n",
      "  '0.000*\"might\" + 0.000*\"project\" + 0.000*\"half\" + 0.000*\"both\" + '\n",
      "  '0.000*\"best\" + 0.000*\"magazine\" + 0.000*\"voice\" + 0.000*\"sound\" + '\n",
      "  '0.000*\"rhythm\" + 0.000*\"know\" + 0.000*\"said\" + 0.000*\"every\" + '\n",
      "  '0.000*\"translation\" + 0.000*\"online\" + 0.000*\"perhaps\" + 0.000*\"better\" + '\n",
      "  '0.000*\"between\"'),\n",
      " (2,\n",
      "  '0.000*\"verse\" + 0.000*\"time\" + 0.000*\"poet\" + 0.000*\"work\" + 0.000*\"ovid\" + '\n",
      "  '0.000*\"other\" + 0.000*\"poetry\" + 0.000*\"poem\" + 0.000*\"digital\" + '\n",
      "  '0.000*\"when\" + 0.000*\"lines\" + 0.000*\"writing\" + 0.000*\"poets\" + '\n",
      "  '0.000*\"audio\" + 0.000*\"write\" + 0.000*\"thought\" + 0.000*\"media\" + '\n",
      "  '0.000*\"dryden\" + 0.000*\"marlowe\" + 0.000*\"beat\" + 0.000*\"both\" + '\n",
      "  '0.000*\"research\" + 0.000*\"line\" + 0.000*\"sound\" + 0.000*\"said\" + '\n",
      "  '0.000*\"might\" + 0.000*\"voice\" + 0.000*\"online\" + 0.000*\"make\" + '\n",
      "  '0.000*\"project\" + 0.000*\"better\" + 0.000*\"best\" + 0.000*\"course\" + '\n",
      "  '0.000*\"between\" + 0.000*\"half\" + 0.000*\"thanks\" + 0.000*\"made\" + '\n",
      "  '0.000*\"each\" + 0.000*\"alter\" + 0.000*\"recordings\" + 0.000*\"where\" + '\n",
      "  '0.000*\"used\" + 0.000*\"form\" + 0.000*\"three\" + 0.000*\"things\" + '\n",
      "  '0.000*\"production\"'),\n",
      " (3,\n",
      "  '0.000*\"work\" + 0.000*\"verse\" + 0.000*\"ovid\" + 0.000*\"poetry\" + 0.000*\"time\" '\n",
      "  '+ 0.000*\"poet\" + 0.000*\"other\" + 0.000*\"audio\" + 0.000*\"poem\" + '\n",
      "  '0.000*\"lines\" + 0.000*\"poets\" + 0.000*\"media\" + 0.000*\"beat\" + '\n",
      "  '0.000*\"dryden\" + 0.000*\"line\" + 0.000*\"when\" + 0.000*\"digital\" + '\n",
      "  '0.000*\"write\" + 0.000*\"writing\" + 0.000*\"said\" + 0.000*\"form\" + '\n",
      "  '0.000*\"production\" + 0.000*\"online\" + 0.000*\"years\" + 0.000*\"might\" + '\n",
      "  '0.000*\"recordings\" + 0.000*\"both\" + 0.000*\"three\" + 0.000*\"used\" + '\n",
      "  '0.000*\"where\" + 0.000*\"research\" + 0.000*\"others\" + 0.000*\"make\" + '\n",
      "  '0.000*\"best\" + 0.000*\"course\" + 0.000*\"sound\" + 0.000*\"magazine\" + '\n",
      "  '0.000*\"thanks\" + 0.000*\"half\" + 0.000*\"between\" + 0.000*\"better\" + '\n",
      "  '0.000*\"project\" + 0.000*\"each\" + 0.000*\"making\" + 0.000*\"life\" + '\n",
      "  '0.000*\"because\"'),\n",
      " (4,\n",
      "  '0.008*\"work\" + 0.007*\"verse\" + 0.006*\"ovid\" + 0.005*\"time\" + 0.005*\"poetry\" '\n",
      "  '+ 0.005*\"poet\" + 0.005*\"other\" + 0.004*\"poets\" + 0.004*\"digital\" + '\n",
      "  '0.004*\"audio\" + 0.004*\"lines\" + 0.004*\"poem\" + 0.003*\"writing\" + '\n",
      "  '0.003*\"when\" + 0.003*\"write\" + 0.003*\"media\" + 0.003*\"line\" + 0.003*\"beat\" '\n",
      "  '+ 0.003*\"marlowe\" + 0.003*\"might\" + 0.003*\"sound\" + 0.003*\"both\" + '\n",
      "  '0.002*\"dryden\" + 0.002*\"half\" + 0.002*\"thought\" + 0.002*\"said\" + '\n",
      "  '0.002*\"course\" + 0.002*\"voice\" + 0.002*\"recordings\" + 0.002*\"three\" + '\n",
      "  '0.002*\"project\" + 0.002*\"make\" + 0.002*\"thanks\" + 0.002*\"used\" + '\n",
      "  '0.002*\"research\" + 0.002*\"best\" + 0.002*\"production\" + 0.002*\"online\" + '\n",
      "  '0.002*\"form\" + 0.002*\"magazine\" + 0.002*\"made\" + 0.002*\"poems\" + '\n",
      "  '0.002*\"every\" + 0.002*\"where\" + 0.002*\"years\" + 0.002*\"better\"'),\n",
      " (5,\n",
      "  '0.000*\"verse\" + 0.000*\"work\" + 0.000*\"ovid\" + 0.000*\"poetry\" + 0.000*\"poet\" '\n",
      "  '+ 0.000*\"time\" + 0.000*\"audio\" + 0.000*\"poets\" + 0.000*\"other\" + '\n",
      "  '0.000*\"lines\" + 0.000*\"digital\" + 0.000*\"poem\" + 0.000*\"writing\" + '\n",
      "  '0.000*\"write\" + 0.000*\"line\" + 0.000*\"when\" + 0.000*\"marlowe\" + '\n",
      "  '0.000*\"media\" + 0.000*\"might\" + 0.000*\"both\" + 0.000*\"beat\" + '\n",
      "  '0.000*\"research\" + 0.000*\"half\" + 0.000*\"make\" + 0.000*\"thought\" + '\n",
      "  '0.000*\"thanks\" + 0.000*\"sound\" + 0.000*\"dryden\" + 0.000*\"course\" + '\n",
      "  '0.000*\"project\" + 0.000*\"recordings\" + 0.000*\"made\" + 0.000*\"best\" + '\n",
      "  '0.000*\"used\" + 0.000*\"online\" + 0.000*\"production\" + 0.000*\"every\" + '\n",
      "  '0.000*\"where\" + 0.000*\"material\" + 0.000*\"each\" + 0.000*\"magazine\" + '\n",
      "  '0.000*\"better\" + 0.000*\"said\" + 0.000*\"poems\" + 0.000*\"three\" + '\n",
      "  '0.000*\"between\"'),\n",
      " (6,\n",
      "  '0.000*\"work\" + 0.000*\"ovid\" + 0.000*\"verse\" + 0.000*\"other\" + 0.000*\"time\" '\n",
      "  '+ 0.000*\"poets\" + 0.000*\"poetry\" + 0.000*\"audio\" + 0.000*\"poet\" + '\n",
      "  '0.000*\"sound\" + 0.000*\"writing\" + 0.000*\"write\" + 0.000*\"beat\" + '\n",
      "  '0.000*\"digital\" + 0.000*\"poems\" + 0.000*\"media\" + 0.000*\"line\" + '\n",
      "  '0.000*\"might\" + 0.000*\"when\" + 0.000*\"lines\" + 0.000*\"poem\" + '\n",
      "  '0.000*\"thought\" + 0.000*\"used\" + 0.000*\"online\" + 0.000*\"research\" + '\n",
      "  '0.000*\"project\" + 0.000*\"both\" + 0.000*\"said\" + 0.000*\"half\" + '\n",
      "  '0.000*\"course\" + 0.000*\"marlowe\" + 0.000*\"form\" + 0.000*\"every\" + '\n",
      "  '0.000*\"voice\" + 0.000*\"production\" + 0.000*\"thanks\" + 0.000*\"know\" + '\n",
      "  '0.000*\"before\" + 0.000*\"magazine\" + 0.000*\"make\" + 0.000*\"between\" + '\n",
      "  '0.000*\"perhaps\" + 0.000*\"where\" + 0.000*\"years\" + 0.000*\"plan\" + '\n",
      "  '0.000*\"three\"'),\n",
      " (7,\n",
      "  '0.000*\"work\" + 0.000*\"verse\" + 0.000*\"ovid\" + 0.000*\"other\" + 0.000*\"time\" '\n",
      "  '+ 0.000*\"poet\" + 0.000*\"poetry\" + 0.000*\"digital\" + 0.000*\"poets\" + '\n",
      "  '0.000*\"writing\" + 0.000*\"media\" + 0.000*\"audio\" + 0.000*\"poem\" + '\n",
      "  '0.000*\"lines\" + 0.000*\"when\" + 0.000*\"course\" + 0.000*\"both\" + 0.000*\"line\" '\n",
      "  '+ 0.000*\"write\" + 0.000*\"beat\" + 0.000*\"sound\" + 0.000*\"voice\" + '\n",
      "  '0.000*\"three\" + 0.000*\"said\" + 0.000*\"half\" + 0.000*\"best\" + 0.000*\"thanks\" '\n",
      "  '+ 0.000*\"dryden\" + 0.000*\"production\" + 0.000*\"used\" + 0.000*\"project\" + '\n",
      "  '0.000*\"recordings\" + 0.000*\"might\" + 0.000*\"form\" + 0.000*\"thought\" + '\n",
      "  '0.000*\"magazine\" + 0.000*\"every\" + 0.000*\"made\" + 0.000*\"marlowe\" + '\n",
      "  '0.000*\"where\" + 0.000*\"something\" + 0.000*\"translation\" + 0.000*\"making\" + '\n",
      "  '0.000*\"better\" + 0.000*\"research\" + 0.000*\"make\"')]\n"
     ]
    }
   ],
   "source": [
    "\n",
    "pprint(topics)"
   ]
  },
  {
   "cell_type": "code",
   "execution_count": 20,
   "metadata": {},
   "outputs": [],
   "source": [
    "\n",
    "NUM_TOPICS = 2\n",
    "ldamodel = gensim.models.ldamodel.LdaModel(corpus, num_topics = NUM_TOPICS, id2word=dictionary, random_state=100, update_every=1, passes=15, alpha='auto', per_word_topics=True)"
   ]
  },
  {
   "cell_type": "code",
   "execution_count": 16,
   "metadata": {},
   "outputs": [],
   "source": [
    "\n",
    "topics = ldamodel.print_topics(num_words=46)"
   ]
  },
  {
   "cell_type": "code",
   "execution_count": 38,
   "metadata": {},
   "outputs": [
    {
     "name": "stdout",
     "output_type": "stream",
     "text": [
      "[(0,\n",
      "  '0.007*\"work\" + 0.006*\"verse\" + 0.005*\"ovid\" + 0.004*\"poetry\" + 0.004*\"time\" '\n",
      "  '+ 0.004*\"poet\" + 0.004*\"other\" + 0.003*\"poets\" + 0.003*\"audio\" + '\n",
      "  '0.003*\"digital\" + 0.003*\"poem\" + 0.003*\"lines\" + 0.003*\"writing\" + '\n",
      "  '0.003*\"when\" + 0.003*\"media\" + 0.003*\"write\" + 0.002*\"beat\" + 0.002*\"line\" '\n",
      "  '+ 0.002*\"marlowe\" + 0.002*\"both\" + 0.002*\"might\" + 0.002*\"sound\" + '\n",
      "  '0.002*\"dryden\" + 0.002*\"said\" + 0.002*\"half\" + 0.002*\"thought\" + '\n",
      "  '0.002*\"course\" + 0.002*\"project\" + 0.002*\"voice\" + 0.002*\"three\" + '\n",
      "  '0.002*\"recordings\" + 0.002*\"thanks\" + 0.002*\"research\" + 0.002*\"used\" + '\n",
      "  '0.002*\"make\" + 0.002*\"production\" + 0.002*\"online\" + 0.002*\"best\" + '\n",
      "  '0.002*\"form\" + 0.002*\"made\" + 0.002*\"magazine\" + 0.002*\"every\" + '\n",
      "  '0.002*\"poems\" + 0.002*\"where\" + 0.001*\"years\" + 0.001*\"better\"'),\n",
      " (1,\n",
      "  '0.000*\"work\" + 0.000*\"verse\" + 0.000*\"ovid\" + 0.000*\"time\" + 0.000*\"poetry\" '\n",
      "  '+ 0.000*\"lines\" + 0.000*\"poets\" + 0.000*\"poem\" + 0.000*\"digital\" + '\n",
      "  '0.000*\"audio\" + 0.000*\"other\" + 0.000*\"writing\" + 0.000*\"poet\" + '\n",
      "  '0.000*\"when\" + 0.000*\"make\" + 0.000*\"write\" + 0.000*\"line\" + 0.000*\"media\" '\n",
      "  '+ 0.000*\"course\" + 0.000*\"used\" + 0.000*\"dryden\" + 0.000*\"beat\" + '\n",
      "  '0.000*\"marlowe\" + 0.000*\"sound\" + 0.000*\"might\" + 0.000*\"thought\" + '\n",
      "  '0.000*\"best\" + 0.000*\"half\" + 0.000*\"research\" + 0.000*\"thanks\" + '\n",
      "  '0.000*\"recordings\" + 0.000*\"three\" + 0.000*\"voice\" + 0.000*\"project\" + '\n",
      "  '0.000*\"magazine\" + 0.000*\"both\" + 0.000*\"made\" + 0.000*\"using\" + '\n",
      "  '0.000*\"where\" + 0.000*\"rhythm\" + 0.000*\"online\" + 0.000*\"before\" + '\n",
      "  '0.000*\"poems\" + 0.000*\"years\" + 0.000*\"better\" + 0.000*\"life\"')]\n"
     ]
    }
   ],
   "source": [
    "\n",
    "pprint(topics)"
   ]
  },
  {
   "cell_type": "code",
   "execution_count": null,
   "metadata": {},
   "outputs": [],
   "source": []
  },
  {
   "cell_type": "code",
   "execution_count": 21,
   "metadata": {},
   "outputs": [],
   "source": [
    "\n",
    "l0 = list(ldamodel.show_topic(0, topn = 9000))"
   ]
  },
  {
   "cell_type": "code",
   "execution_count": 22,
   "metadata": {},
   "outputs": [],
   "source": [
    "l1 = list(ldamodel.show_topic(1, topn = 9000))"
   ]
  },
  {
   "cell_type": "code",
   "execution_count": 19,
   "metadata": {},
   "outputs": [
    {
     "data": {
      "text/plain": [
       "3647"
      ]
     },
     "execution_count": 19,
     "metadata": {},
     "output_type": "execute_result"
    }
   ],
   "source": [
    "\n",
    "len(l0)"
   ]
  },
  {
   "cell_type": "code",
   "execution_count": 25,
   "metadata": {},
   "outputs": [
    {
     "data": {
      "text/plain": [
       "3647"
      ]
     },
     "execution_count": 25,
     "metadata": {},
     "output_type": "execute_result"
    }
   ],
   "source": [
    "len(l1)"
   ]
  },
  {
   "cell_type": "code",
   "execution_count": 43,
   "metadata": {},
   "outputs": [
    {
     "name": "stdout",
     "output_type": "stream",
     "text": [
      "1618\n"
     ]
    }
   ],
   "source": [
    "\n",
    "for i in range(3593):\n",
    "    if l0[i][0]== \"hosts\":\n",
    "            print(i)"
   ]
  },
  {
   "cell_type": "code",
   "execution_count": 44,
   "metadata": {},
   "outputs": [
    {
     "name": "stdout",
     "output_type": "stream",
     "text": [
      "3219\n"
     ]
    }
   ],
   "source": [
    "\n",
    "for i in range(3593):\n",
    "    if l1[i][0]== \"hosts\":\n",
    "            print(i)"
   ]
  },
  {
   "cell_type": "code",
   "execution_count": null,
   "metadata": {},
   "outputs": [],
   "source": []
  },
  {
   "cell_type": "code",
   "execution_count": 45,
   "metadata": {},
   "outputs": [
    {
     "name": "stdout",
     "output_type": "stream",
     "text": [
      "('curve', 0.00015470575)\n",
      "('sporadically', 0.00015470575)\n",
      "('doubled', 0.00015470573)\n",
      "('expressed', 0.00015470572)\n",
      "('circulated', 0.00015470572)\n",
      "('receiver', 0.0001547057)\n",
      "('lots', 0.00015470569)\n",
      "('include', 0.00015470567)\n",
      "('entail', 0.00015470567)\n",
      "('why—it', 0.00015470565)\n",
      "('international', 0.00015470563)\n",
      "('discouraging', 0.00015470563)\n",
      "('drummers', 0.0001547056)\n",
      "('dispute', 0.00015470559)\n",
      "('jgheaburi', 0.00015470559)\n",
      "('imagination', 0.00015470557)\n",
      "('loan', 0.00015470554)\n",
      "('proliferation', 0.00015470553)\n",
      "('succeeded', 0.00015470551)\n",
      "('phrase', 0.00015470551)\n",
      "('heralding', 0.00015470544)\n",
      "('hosts', 0.00015470535)\n",
      "('feel', 0.00015470531)\n",
      "('cities', 0.00015470524)\n",
      "('draw', 0.00015470517)\n",
      "('torn', 0.00015470517)\n",
      "('doua', 0.00015470512)\n",
      "('rightly', 0.0001547051)\n",
      "('copied', 0.00015470505)\n",
      "('apă', 0.00015470505)\n",
      "('hotel', 0.00015470503)\n",
      "('opinion—mere', 0.00015470502)\n",
      "('apprenticeship', 0.00015470495)\n",
      "('courbet', 0.00015470493)\n",
      "('circuits', 0.00015470492)\n",
      "('majorminor—', 0.00015470492)\n",
      "('messy', 0.00015470489)\n",
      "('conviction', 0.00015470487)\n",
      "('typical', 0.00015470487)\n",
      "('schimb', 0.00015470485)\n",
      "('dobruja—', 0.00015470482)\n",
      "('oral', 0.00015470477)\n"
     ]
    }
   ],
   "source": [
    "\n",
    "for i in range(1597, 1639):\n",
    "    print(l0[i])"
   ]
  },
  {
   "cell_type": "code",
   "execution_count": 46,
   "metadata": {},
   "outputs": [
    {
     "name": "stdout",
     "output_type": "stream",
     "text": [
      "('countries', 0.00027738238)\n",
      "('oral', 0.00027738232)\n",
      "('dobruja—', 0.00027738215)\n",
      "('schimb', 0.00027738186)\n",
      "('typical', 0.00027738183)\n",
      "('messy', 0.00027738156)\n",
      "('circuits', 0.00027738154)\n",
      "('majorminor—', 0.00027738154)\n",
      "('conviction', 0.00027738148)\n",
      "('courbet', 0.00027738145)\n",
      "('apprenticeship', 0.00027738136)\n",
      "('opinion—mere', 0.00027738107)\n",
      "('hotel', 0.0002773809)\n",
      "('apă', 0.0002773808)\n",
      "('copied', 0.00027738066)\n",
      "('rightly', 0.0002773804)\n",
      "('draw', 0.00027738008)\n",
      "('doua', 0.00027738005)\n",
      "('torn', 0.00027737988)\n",
      "('cities', 0.00027737988)\n",
      "('feel', 0.00027737935)\n",
      "('hosts', 0.0002773792)\n",
      "('heralding', 0.0002773786)\n",
      "('succeeded', 0.00027737825)\n",
      "('phrase', 0.00027737816)\n",
      "('imagination', 0.00027737813)\n",
      "('proliferation', 0.00027737799)\n",
      "('loan', 0.00027737799)\n",
      "('drummers', 0.00027737799)\n",
      "('dispute', 0.00027737796)\n",
      "('jgheaburi', 0.00027737775)\n",
      "('why—it', 0.00027737767)\n",
      "('international', 0.00027737764)\n",
      "('discouraging', 0.00027737764)\n",
      "('entail', 0.00027737746)\n",
      "('lots', 0.00027737746)\n",
      "('include', 0.00027737743)\n",
      "('receiver', 0.00027737737)\n",
      "('doubled', 0.0002773773)\n",
      "('expressed', 0.00027737726)\n",
      "('sporadically', 0.0002773772)\n",
      "('curve', 0.0002773771)\n"
     ]
    }
   ],
   "source": [
    "\n",
    "for i in range(3198, 3240):\n",
    "    print(l1[i])"
   ]
  },
  {
   "cell_type": "code",
   "execution_count": 47,
   "metadata": {},
   "outputs": [
    {
     "name": "stdout",
     "output_type": "stream",
     "text": [
      "65\n"
     ]
    }
   ],
   "source": [
    "\n",
    "for i in range(3593):\n",
    "    if l0[i][0]== \"order\":\n",
    "            print(i)"
   ]
  },
  {
   "cell_type": "code",
   "execution_count": 48,
   "metadata": {},
   "outputs": [
    {
     "name": "stdout",
     "output_type": "stream",
     "text": [
      "68\n"
     ]
    },
    {
     "ename": "IndexError",
     "evalue": "list index out of range",
     "output_type": "error",
     "traceback": [
      "\u001b[0;31m---------------------------------------------------------------------------\u001b[0m",
      "\u001b[0;31mIndexError\u001b[0m                                Traceback (most recent call last)",
      "\u001b[0;32m<ipython-input-48-bd21bc4d336f>\u001b[0m in \u001b[0;36m<module>\u001b[0;34m\u001b[0m\n\u001b[1;32m      1\u001b[0m \u001b[0;32mfor\u001b[0m \u001b[0mi\u001b[0m \u001b[0;32min\u001b[0m \u001b[0mrange\u001b[0m\u001b[0;34m(\u001b[0m\u001b[0;36m3785\u001b[0m\u001b[0;34m)\u001b[0m\u001b[0;34m:\u001b[0m\u001b[0;34m\u001b[0m\u001b[0;34m\u001b[0m\u001b[0m\n\u001b[0;32m----> 2\u001b[0;31m     \u001b[0;32mif\u001b[0m \u001b[0ml1\u001b[0m\u001b[0;34m[\u001b[0m\u001b[0mi\u001b[0m\u001b[0;34m]\u001b[0m\u001b[0;34m[\u001b[0m\u001b[0;36m0\u001b[0m\u001b[0;34m]\u001b[0m\u001b[0;34m==\u001b[0m \u001b[0;34m\"order\"\u001b[0m\u001b[0;34m:\u001b[0m\u001b[0;34m\u001b[0m\u001b[0;34m\u001b[0m\u001b[0m\n\u001b[0m\u001b[1;32m      3\u001b[0m             \u001b[0mprint\u001b[0m\u001b[0;34m(\u001b[0m\u001b[0mi\u001b[0m\u001b[0;34m)\u001b[0m\u001b[0;34m\u001b[0m\u001b[0;34m\u001b[0m\u001b[0m\n",
      "\u001b[0;31mIndexError\u001b[0m: list index out of range"
     ]
    }
   ],
   "source": [
    "\n",
    "for i in range(3785):\n",
    "    if l1[i][0]== \"order\":\n",
    "            print(i)"
   ]
  },
  {
   "cell_type": "code",
   "execution_count": 49,
   "metadata": {},
   "outputs": [
    {
     "name": "stdout",
     "output_type": "stream",
     "text": [
      "('years', 0.0014956939)\n",
      "('better', 0.0014956937)\n",
      "('making', 0.0013931122)\n",
      "('others', 0.0013929555)\n",
      "('humanities', 0.0013929214)\n",
      "('plan', 0.0013928963)\n",
      "('pennsound', 0.0013927348)\n",
      "('each', 0.0013927148)\n",
      "('alter', 0.0013926955)\n",
      "('perhaps', 0.0013926775)\n",
      "('translation', 0.0013925313)\n",
      "('know', 0.0013924867)\n",
      "('between', 0.0013924098)\n",
      "('life', 0.0013924078)\n",
      "('rhythm', 0.0013923275)\n",
      "('only', 0.0012896862)\n",
      "('type', 0.0012896707)\n",
      "('literary', 0.0012896046)\n",
      "('part', 0.001289567)\n",
      "('voices', 0.001289509)\n",
      "('technology', 0.0012894431)\n",
      "('order', 0.0012894189)\n",
      "('came', 0.0012893794)\n",
      "('material', 0.0012893633)\n",
      "('working', 0.0012893245)\n",
      "('least', 0.0012892204)\n",
      "('before', 0.0012890969)\n",
      "('over', 0.0011865739)\n",
      "('verses', 0.0011865603)\n",
      "('times', 0.0011865592)\n",
      "('again', 0.0011864719)\n",
      "('creative', 0.0011864519)\n",
      "('electronic', 0.0011863944)\n",
      "('later', 0.0011863864)\n",
      "('types', 0.0011863599)\n",
      "('word', 0.0011862848)\n",
      "('wine', 0.0011862806)\n",
      "('take', 0.0011862704)\n",
      "('things', 0.0011862076)\n",
      "('something', 0.0011861869)\n",
      "('find', 0.0011861258)\n",
      "('text', 0.0011861209)\n"
     ]
    }
   ],
   "source": [
    "\n",
    "for i in range(44, 86):\n",
    "    print(l0[i])"
   ]
  },
  {
   "cell_type": "code",
   "execution_count": 50,
   "metadata": {},
   "outputs": [
    {
     "name": "stdout",
     "output_type": "stream",
     "text": [
      "('said', 0.00028704328)\n",
      "('every', 0.00028687992)\n",
      "('most', 0.0002867616)\n",
      "('know', 0.00028664275)\n",
      "('here', 0.00028654104)\n",
      "('least', 0.0002864969)\n",
      "('translation', 0.0002864019)\n",
      "('form', 0.0002861089)\n",
      "('down', 0.0002859939)\n",
      "('production', 0.00028594976)\n",
      "('working', 0.00028593963)\n",
      "('good', 0.00028581006)\n",
      "('being', 0.00028574013)\n",
      "('material', 0.00028573253)\n",
      "('sense', 0.00028568166)\n",
      "('came', 0.00028564624)\n",
      "('perhaps', 0.0002856192)\n",
      "('written', 0.00028555116)\n",
      "('alter', 0.0002855225)\n",
      "('text', 0.00028546122)\n",
      "('find', 0.00028543544)\n",
      "('order', 0.00028543395)\n",
      "('each', 0.00028541687)\n",
      "('pennsound', 0.0002853118)\n",
      "('technology', 0.00028530572)\n",
      "('something', 0.00028510767)\n",
      "('because', 0.0002850112)\n",
      "('things', 0.0002849951)\n",
      "('voices', 0.00028495255)\n",
      "('based', 0.00028491768)\n",
      "('practice', 0.0002846967)\n",
      "('early', 0.00028468)\n",
      "('take', 0.00028466227)\n",
      "('someone', 0.0002846588)\n",
      "('part', 0.00028464056)\n",
      "('wine', 0.00028460834)\n",
      "('word', 0.00028458514)\n",
      "('plan', 0.00028444768)\n",
      "('literary', 0.00028444218)\n",
      "('archives', 0.0002843367)\n",
      "('humanities', 0.00028431317)\n",
      "('types', 0.00028418293)\n"
     ]
    }
   ],
   "source": [
    "\n",
    "for i in range(47, 89):\n",
    "    print(l1[i])"
   ]
  },
  {
   "cell_type": "code",
   "execution_count": 51,
   "metadata": {},
   "outputs": [
    {
     "name": "stdout",
     "output_type": "stream",
     "text": [
      "2332\n"
     ]
    }
   ],
   "source": [
    "\n",
    "for i in range(3593):\n",
    "    if l0[i][0]== \"resonates\":\n",
    "            print(i)"
   ]
  },
  {
   "cell_type": "code",
   "execution_count": 52,
   "metadata": {},
   "outputs": [
    {
     "name": "stdout",
     "output_type": "stream",
     "text": [
      "1581\n"
     ]
    }
   ],
   "source": [
    "for i in range(3593):\n",
    "    if l1[i][0]== \"resonates\":\n",
    "            print(i)"
   ]
  },
  {
   "cell_type": "code",
   "execution_count": 53,
   "metadata": {},
   "outputs": [
    {
     "name": "stdout",
     "output_type": "stream",
     "text": [
      "('housed', 0.0001546892)\n",
      "('archaeology', 0.0001546892)\n",
      "('woodside', 0.00015468919)\n",
      "('contracted', 0.00015468914)\n",
      "('chipping', 0.00015468907)\n",
      "('fivebeat', 0.00015468906)\n",
      "('errors', 0.00015468903)\n",
      "('selective', 0.00015468903)\n",
      "('drum', 0.00015468901)\n",
      "('appeared', 0.00015468901)\n",
      "('catchsome', 0.00015468901)\n",
      "('laps', 0.000154689)\n",
      "('interjects', 0.00015468898)\n",
      "('fields', 0.00015468897)\n",
      "('clock', 0.00015468895)\n",
      "('website', 0.00015468894)\n",
      "('hufnagel', 0.00015468891)\n",
      "('hates', 0.00015468891)\n",
      "('godhungry', 0.0001546889)\n",
      "('preverbs', 0.00015468888)\n",
      "('translate', 0.00015468887)\n",
      "('resonates', 0.00015468887)\n",
      "('garden—dryden', 0.00015468885)\n",
      "('microcommunity', 0.00015468882)\n",
      "('trece', 0.00015468881)\n",
      "('numerous', 0.0001546888)\n",
      "('freedom', 0.00015468878)\n",
      "('ageless', 0.00015468878)\n",
      "('originalele', 0.00015468874)\n",
      "('tatters', 0.00015468874)\n",
      "('venit', 0.00015468869)\n",
      "('outdated', 0.00015468866)\n",
      "('poetrybeam', 0.00015468866)\n",
      "('219', 0.00015468863)\n",
      "('difficult', 0.00015468862)\n",
      "('8track', 0.00015468862)\n",
      "('frieze', 0.00015468859)\n",
      "('audiocassette', 0.00015468858)\n",
      "('watching', 0.00015468856)\n",
      "('nuance', 0.00015468856)\n",
      "('dread', 0.00015468855)\n",
      "('computational', 0.00015468852)\n"
     ]
    }
   ],
   "source": [
    "\n",
    "for i in range(2311, 2353):\n",
    "    print(l0[i])"
   ]
  },
  {
   "cell_type": "code",
   "execution_count": 54,
   "metadata": {},
   "outputs": [
    {
     "name": "stdout",
     "output_type": "stream",
     "text": [
      "('strange', 0.000277583)\n",
      "('hierarchies', 0.0002775828)\n",
      "('related', 0.00027758259)\n",
      "('intersection', 0.00027758256)\n",
      "('contaminate', 0.0002775821)\n",
      "('blue', 0.000277582)\n",
      "('retrospective', 0.000277582)\n",
      "('sections', 0.0002775818)\n",
      "('movement', 0.00027758154)\n",
      "('rudimentary', 0.00027758142)\n",
      "('xxxiii', 0.000277581)\n",
      "('kills', 0.00027758084)\n",
      "('bottles—drinks', 0.0002775808)\n",
      "('crude', 0.0002775808)\n",
      "('santana', 0.0002775808)\n",
      "('displayed', 0.0002775807)\n",
      "('solos—yes', 0.00027758066)\n",
      "('likely', 0.00027757988)\n",
      "('andrews', 0.0002775798)\n",
      "('selection', 0.00027757976)\n",
      "('appears', 0.00027757973)\n",
      "('contented', 0.00027757973)\n",
      "('cleft', 0.00027757918)\n",
      "('appreciation', 0.00027757906)\n",
      "('usefully', 0.00027757886)\n",
      "('designing', 0.00027757883)\n",
      "('regression', 0.00027757883)\n",
      "('reaching', 0.0002775788)\n",
      "('travel', 0.00027757874)\n",
      "('inventive', 0.0002775781)\n",
      "('challenged', 0.00027757804)\n",
      "('linebased', 0.00027757796)\n",
      "('wine—he', 0.00027757746)\n",
      "('fear', 0.00027757735)\n",
      "('rods', 0.00027757708)\n",
      "('keeping', 0.00027757662)\n",
      "('viewing', 0.00027757636)\n",
      "('sketchpad', 0.00027757612)\n",
      "('sustained', 0.000277576)\n",
      "('character—', 0.000277576)\n",
      "('layers', 0.00027757563)\n"
     ]
    }
   ],
   "source": [
    "\n",
    "for i in range(1560, 1601):\n",
    "    print(l1[i])"
   ]
  },
  {
   "cell_type": "code",
   "execution_count": 31,
   "metadata": {},
   "outputs": [
    {
     "name": "stdout",
     "output_type": "stream",
     "text": [
      "1861\n"
     ]
    }
   ],
   "source": [
    "\n",
    "for i in range(3593):\n",
    "    if l0[i][0]== \"scanning\":\n",
    "            print(i)"
   ]
  },
  {
   "cell_type": "code",
   "execution_count": 32,
   "metadata": {},
   "outputs": [
    {
     "name": "stdout",
     "output_type": "stream",
     "text": [
      "2976\n"
     ]
    }
   ],
   "source": [
    "\n",
    "for i in range(3593):\n",
    "    if l1[i][0]== \"scanning\":\n",
    "            print(i)"
   ]
  },
  {
   "cell_type": "code",
   "execution_count": 33,
   "metadata": {},
   "outputs": [
    {
     "name": "stdout",
     "output_type": "stream",
     "text": [
      "('richness', 0.00015469902)\n",
      "('drowned', 0.00015469902)\n",
      "('powers', 0.00015469897)\n",
      "('be—and', 0.00015469897)\n",
      "('foreign', 0.00015469894)\n",
      "('doctoral', 0.00015469892)\n",
      "('penchant', 0.00015469892)\n",
      "('daunting', 0.00015469885)\n",
      "('constructed', 0.00015469885)\n",
      "('detritus', 0.00015469882)\n",
      "('dissecting', 0.0001546988)\n",
      "('suits', 0.00015469879)\n",
      "('admitting', 0.00015469879)\n",
      "('speak', 0.00015469873)\n",
      "('believes', 0.00015469872)\n",
      "('project—a', 0.0001546987)\n",
      "('contribution', 0.00015469868)\n",
      "('rent', 0.00015469866)\n",
      "('tutun', 0.00015469866)\n",
      "('ești', 0.00015469866)\n",
      "('easytofollow', 0.00015469863)\n",
      "('scanning', 0.00015469857)\n",
      "('humanity', 0.00015469847)\n",
      "('shed', 0.00015469847)\n",
      "('repetition—', 0.00015469841)\n",
      "('pole', 0.00015469841)\n",
      "('delivery', 0.00015469838)\n",
      "('perform', 0.00015469831)\n",
      "('extended', 0.0001546983)\n",
      "('except', 0.0001546983)\n",
      "('nightline', 0.00015469825)\n",
      "('propel', 0.00015469825)\n",
      "('undiscovered', 0.00015469825)\n",
      "('conversion', 0.00015469822)\n",
      "('toilet', 0.00015469822)\n",
      "('ending', 0.00015469817)\n",
      "('sellby', 0.00015469815)\n",
      "('occurrence', 0.00015469812)\n",
      "('podcasts', 0.00015469812)\n",
      "('entails', 0.00015469812)\n",
      "('advances', 0.00015469811)\n",
      "('referred', 0.00015469806)\n"
     ]
    }
   ],
   "source": [
    "\n",
    "for i in range(1840, 1882):\n",
    "    print(l0[i])"
   ]
  },
  {
   "cell_type": "code",
   "execution_count": 34,
   "metadata": {},
   "outputs": [
    {
     "name": "stdout",
     "output_type": "stream",
     "text": [
      "('literally', 0.00027741797)\n",
      "('referred', 0.00027741794)\n",
      "('podcasts', 0.00027741774)\n",
      "('advances', 0.00027741768)\n",
      "('occurrence', 0.00027741762)\n",
      "('entails', 0.00027741762)\n",
      "('sellby', 0.0002774174)\n",
      "('ending', 0.00027741736)\n",
      "('toilet', 0.00027741716)\n",
      "('conversion', 0.00027741707)\n",
      "('undiscovered', 0.00027741698)\n",
      "('propel', 0.00027741687)\n",
      "('nightline', 0.00027741678)\n",
      "('extended', 0.00027741672)\n",
      "('perform', 0.00027741664)\n",
      "('except', 0.00027741655)\n",
      "('repetition—', 0.00027741608)\n",
      "('pole', 0.00027741602)\n",
      "('delivery', 0.000277416)\n",
      "('humanity', 0.00027741582)\n",
      "('shed', 0.0002774158)\n",
      "('scanning', 0.00027741533)\n",
      "('rent', 0.00027741477)\n",
      "('easytofollow', 0.00027741477)\n",
      "('ești', 0.00027741474)\n",
      "('contribution', 0.00027741469)\n",
      "('tutun', 0.00027741466)\n",
      "('project—a', 0.00027741454)\n",
      "('believes', 0.00027741442)\n",
      "('speak', 0.0002774142)\n",
      "('admitting', 0.00027741404)\n",
      "('suits', 0.00027741404)\n",
      "('dissecting', 0.00027741393)\n",
      "('detritus', 0.0002774138)\n",
      "('constructed', 0.00027741375)\n",
      "('daunting', 0.0002774136)\n",
      "('penchant', 0.00027741358)\n",
      "('doctoral', 0.00027741335)\n",
      "('foreign', 0.00027741323)\n",
      "('be—and', 0.00027741317)\n",
      "('powers', 0.000277413)\n",
      "('richness', 0.00027741282)\n",
      "('drowned', 0.00027741274)\n",
      "('accompanied', 0.0002774127)\n"
     ]
    }
   ],
   "source": [
    "\n",
    "for i in range(2955, 2999):\n",
    "    print(l1[i])"
   ]
  },
  {
   "cell_type": "code",
   "execution_count": 37,
   "metadata": {},
   "outputs": [
    {
     "name": "stdout",
     "output_type": "stream",
     "text": [
      "3466\n"
     ]
    }
   ],
   "source": [
    "\n",
    "for i in range(3593):\n",
    "    if l0[i][0]== \"symmetry\":\n",
    "            print(i)"
   ]
  },
  {
   "cell_type": "code",
   "execution_count": 38,
   "metadata": {},
   "outputs": [
    {
     "name": "stdout",
     "output_type": "stream",
     "text": [
      "1371\n"
     ]
    }
   ],
   "source": [
    "for i in range(3593):\n",
    "    if l1[i][0]== \"symmetry\":\n",
    "            print(i)"
   ]
  },
  {
   "cell_type": "code",
   "execution_count": 39,
   "metadata": {},
   "outputs": [
    {
     "name": "stdout",
     "output_type": "stream",
     "text": [
      "('described', 0.00015465746)\n",
      "('equivalent', 0.0001546574)\n",
      "('lotto', 0.0001546574)\n",
      "('mainstream', 0.00015465733)\n",
      "('relocating', 0.000154657)\n",
      "('suit', 0.00015465694)\n",
      "('burnt', 0.00015465694)\n",
      "('baggaley', 0.00015465687)\n",
      "('brilliant', 0.0001546568)\n",
      "('selfless', 0.00015465668)\n",
      "('rambles', 0.00015465643)\n",
      "('propulsiveness', 0.00015465643)\n",
      "('afternoons', 0.00015465636)\n",
      "('amendments', 0.00015465633)\n",
      "('presents', 0.00015465623)\n",
      "('rhythmrhyme', 0.00015465615)\n",
      "('misadventure', 0.00015465604)\n",
      "('proceeds', 0.00015465604)\n",
      "('zola', 0.00015465597)\n",
      "('exorbitant', 0.00015465594)\n",
      "('—was', 0.00015465592)\n",
      "('locate', 0.00015465579)\n",
      "('symmetry', 0.00015465573)\n",
      "('briefly', 0.00015465572)\n",
      "('lake', 0.00015465565)\n",
      "('it—say', 0.0001546555)\n",
      "('around—', 0.00015465547)\n",
      "('converse', 0.00015465531)\n",
      "('tickets', 0.0001546553)\n",
      "('web—might', 0.00015465527)\n",
      "('elaborate', 0.00015465527)\n",
      "('brian', 0.00015465516)\n",
      "('pool', 0.00015465515)\n",
      "('clear', 0.00015465506)\n",
      "('tied', 0.00015465503)\n",
      "('gtrrunes', 0.00015465502)\n",
      "('imagined', 0.00015465495)\n",
      "('fluent', 0.0001546548)\n",
      "('anybody', 0.00015465474)\n",
      "('frutti', 0.00015465468)\n",
      "('7000', 0.00015465457)\n",
      "('solution', 0.00015465448)\n",
      "('cunning', 0.00015465448)\n",
      "('onward', 0.00015465438)\n"
     ]
    }
   ],
   "source": [
    "\n",
    "for i in range(3444, 3488):\n",
    "    print(l0[i])"
   ]
  },
  {
   "cell_type": "code",
   "execution_count": 40,
   "metadata": {},
   "outputs": [
    {
     "name": "stdout",
     "output_type": "stream",
     "text": [
      "('onward', 0.00027764987)\n",
      "('cunning', 0.0002776495)\n",
      "('solution', 0.00027764926)\n",
      "('7000', 0.00027764894)\n",
      "('frutti', 0.00027764792)\n",
      "('anybody', 0.0002776478)\n",
      "('fluent', 0.00027764754)\n",
      "('imagined', 0.0002776468)\n",
      "('clear', 0.00027764632)\n",
      "('gtrrunes', 0.00027764632)\n",
      "('tied', 0.0002776463)\n",
      "('pool', 0.0002776458)\n",
      "('brian', 0.00027764568)\n",
      "('web—might', 0.00027764527)\n",
      "('converse', 0.00027764504)\n",
      "('tickets', 0.00027764498)\n",
      "('elaborate', 0.00027764498)\n",
      "('around—', 0.00027764417)\n",
      "('it—say', 0.00027764356)\n",
      "('lake', 0.00027764324)\n",
      "('briefly', 0.0002776427)\n",
      "('symmetry', 0.00027764248)\n",
      "('locate', 0.0002776424)\n",
      "('—was', 0.0002776417)\n",
      "('zola', 0.00027764155)\n",
      "('exorbitant', 0.0002776415)\n",
      "('proceeds', 0.0002776411)\n",
      "('misadventure', 0.00027764105)\n",
      "('rhythmrhyme', 0.0002776405)\n",
      "('presents', 0.0002776399)\n",
      "('amendments', 0.0002776393)\n",
      "('afternoons', 0.00027763928)\n",
      "('rambles', 0.00027763908)\n",
      "('propulsiveness', 0.0002776389)\n",
      "('selfless', 0.00027763756)\n",
      "('brilliant', 0.00027763686)\n",
      "('baggaley', 0.00027763666)\n",
      "('suit', 0.00027763625)\n",
      "('burnt', 0.00027763617)\n",
      "('relocating', 0.00027763605)\n",
      "('mainstream', 0.00027763404)\n",
      "('lotto', 0.00027763375)\n"
     ]
    }
   ],
   "source": [
    "\n",
    "for i in range(1350, 1392):\n",
    "    print(l1[i])"
   ]
  },
  {
   "cell_type": "code",
   "execution_count": 41,
   "metadata": {},
   "outputs": [
    {
     "name": "stdout",
     "output_type": "stream",
     "text": [
      "746\n"
     ]
    }
   ],
   "source": [
    "\n",
    "for i in range(3593):\n",
    "    if l0[i][0]== \"wake\":\n",
    "            print(i)"
   ]
  },
  {
   "cell_type": "code",
   "execution_count": 42,
   "metadata": {},
   "outputs": [
    {
     "name": "stdout",
     "output_type": "stream",
     "text": [
      "1180\n"
     ]
    }
   ],
   "source": [
    "\n",
    "for i in range(3593):\n",
    "    if l1[i][0]== \"wake\":\n",
    "            print(i)"
   ]
  },
  {
   "cell_type": "code",
   "execution_count": 43,
   "metadata": {},
   "outputs": [
    {
     "name": "stdout",
     "output_type": "stream",
     "text": [
      "('muse', 0.0002578964)\n",
      "('generator', 0.0002578963)\n",
      "('connecting', 0.00025789594)\n",
      "('refine', 0.00025789576)\n",
      "('multichannel', 0.00025789574)\n",
      "('hearing', 0.00025789413)\n",
      "('objective', 0.00025789402)\n",
      "('colour', 0.00025789402)\n",
      "('deadline', 0.00025789347)\n",
      "('purchase', 0.00025789332)\n",
      "('months', 0.00025789315)\n",
      "('rune', 0.00025789213)\n",
      "('references', 0.00025789192)\n",
      "('risky', 0.0002578915)\n",
      "('turns', 0.0002578905)\n",
      "('alongside', 0.0002578904)\n",
      "('discarding', 0.00025789032)\n",
      "('edit', 0.00025788957)\n",
      "('stein', 0.000257889)\n",
      "('initial', 0.00025788872)\n",
      "('ears', 0.00025788826)\n",
      "('wake', 0.00025788808)\n",
      "('helps', 0.00025788785)\n",
      "('walk', 0.00025788764)\n",
      "('configurations', 0.00025788756)\n",
      "('reader', 0.00025788744)\n",
      "('concerted', 0.0002578867)\n",
      "('enjoy', 0.00025788636)\n",
      "('desire', 0.000257886)\n",
      "('wear', 0.00025788558)\n",
      "('carried', 0.00025788558)\n",
      "('extra', 0.00025788537)\n",
      "('tedious', 0.0002578846)\n",
      "('shift', 0.0002578843)\n",
      "('plenty', 0.00025788406)\n",
      "('alterego', 0.000257884)\n",
      "('food', 0.00025788366)\n",
      "('translator', 0.00025788337)\n",
      "('factsheet', 0.0002578833)\n",
      "('inbetween', 0.0002578833)\n",
      "('adolescent', 0.0002578829)\n",
      "('enabling', 0.00025788214)\n"
     ]
    }
   ],
   "source": [
    "\n",
    "for i in range(725, 767):\n",
    "    print(l0[i])"
   ]
  },
  {
   "cell_type": "code",
   "execution_count": 44,
   "metadata": {},
   "outputs": [
    {
     "name": "stdout",
     "output_type": "stream",
     "text": [
      "('device', 0.00027798626)\n",
      "('enabling', 0.00027798407)\n",
      "('adolescent', 0.00027798026)\n",
      "('inbetween', 0.00027797805)\n",
      "('factsheet', 0.0002779779)\n",
      "('translator', 0.00027797758)\n",
      "('food', 0.00027797607)\n",
      "('plenty', 0.00027797418)\n",
      "('alterego', 0.0002779741)\n",
      "('shift', 0.00027797258)\n",
      "('tedious', 0.0002779708)\n",
      "('extra', 0.00027796693)\n",
      "('carried', 0.0002779661)\n",
      "('wear', 0.00027796603)\n",
      "('desire', 0.00027796428)\n",
      "('enjoy', 0.00027796158)\n",
      "('concerted', 0.0002779601)\n",
      "('reader', 0.00027795605)\n",
      "('configurations', 0.0002779556)\n",
      "('walk', 0.00027795497)\n",
      "('helps', 0.00027795392)\n",
      "('wake', 0.00027795267)\n",
      "('ears', 0.00027795162)\n",
      "('initial', 0.00027794924)\n",
      "('stein', 0.00027794775)\n",
      "('edit', 0.00027794484)\n",
      "('discarding', 0.00027794077)\n",
      "('alongside', 0.00027794024)\n",
      "('turns', 0.00027793995)\n",
      "('risky', 0.0002779344)\n",
      "('references', 0.00027793212)\n",
      "('rune', 0.00027793096)\n",
      "('months', 0.00027792592)\n",
      "('purchase', 0.00027792476)\n",
      "('deadline', 0.00027792394)\n",
      "('colour', 0.000277921)\n",
      "('objective', 0.00027792098)\n",
      "('hearing', 0.00027792063)\n",
      "('multichannel', 0.00027791192)\n",
      "('refine', 0.00027791184)\n",
      "('connecting', 0.00027791088)\n",
      "('generator', 0.0002779087)\n"
     ]
    }
   ],
   "source": [
    "\n",
    "for i in range(1159, 1201):\n",
    "    print(l1[i])"
   ]
  },
  {
   "cell_type": "code",
   "execution_count": 51,
   "metadata": {},
   "outputs": [
    {
     "name": "stdout",
     "output_type": "stream",
     "text": [
      "2316\n"
     ]
    }
   ],
   "source": [
    "\n",
    "for i in range(3593):\n",
    "    if l0[i][0]== \"fivebeat\":\n",
    "            print(i)"
   ]
  },
  {
   "cell_type": "code",
   "execution_count": 52,
   "metadata": {},
   "outputs": [
    {
     "name": "stdout",
     "output_type": "stream",
     "text": [
      "2521\n"
     ]
    }
   ],
   "source": [
    "\n",
    "for i in range(3593):\n",
    "    if l1[i][0]== \"fivebeat\":\n",
    "            print(i)"
   ]
  },
  {
   "cell_type": "code",
   "execution_count": 53,
   "metadata": {},
   "outputs": [
    {
     "name": "stdout",
     "output_type": "stream",
     "text": [
      "('bloc', 0.00015468955)\n",
      "('sophia', 0.00015468948)\n",
      "('london—seems', 0.00015468946)\n",
      "('așa', 0.00015468943)\n",
      "('looms', 0.00015468942)\n",
      "('reciter', 0.00015468938)\n",
      "('resituates', 0.00015468938)\n",
      "('lacks', 0.00015468938)\n",
      "('reflected', 0.00015468935)\n",
      "('noon', 0.00015468935)\n",
      "('obfuscation', 0.00015468927)\n",
      "('endtime', 0.00015468927)\n",
      "('regional', 0.00015468927)\n",
      "('goal—', 0.00015468926)\n",
      "('polarity', 0.00015468925)\n",
      "('pana', 0.00015468923)\n",
      "('housed', 0.0001546892)\n",
      "('archaeology', 0.0001546892)\n",
      "('woodside', 0.00015468919)\n",
      "('contracted', 0.00015468914)\n",
      "('chipping', 0.00015468907)\n",
      "('fivebeat', 0.00015468906)\n",
      "('errors', 0.00015468903)\n",
      "('selective', 0.00015468903)\n",
      "('drum', 0.00015468901)\n",
      "('appeared', 0.00015468901)\n",
      "('catchsome', 0.00015468901)\n",
      "('laps', 0.000154689)\n",
      "('interjects', 0.00015468898)\n",
      "('fields', 0.00015468897)\n",
      "('clock', 0.00015468895)\n",
      "('website', 0.00015468894)\n",
      "('hufnagel', 0.00015468891)\n",
      "('hates', 0.00015468891)\n",
      "('godhungry', 0.0001546889)\n",
      "('preverbs', 0.00015468888)\n",
      "('translate', 0.00015468887)\n",
      "('resonates', 0.00015468887)\n",
      "('garden—dryden', 0.00015468885)\n",
      "('microcommunity', 0.00015468882)\n",
      "('trece', 0.00015468881)\n",
      "('numerous', 0.0001546888)\n"
     ]
    }
   ],
   "source": [
    "\n",
    "for i in range(2295, 2337):\n",
    "    print(l0[i])"
   ]
  },
  {
   "cell_type": "code",
   "execution_count": 54,
   "metadata": {},
   "outputs": [
    {
     "name": "stdout",
     "output_type": "stream",
     "text": [
      "('trece', 0.00027746713)\n",
      "('ageless', 0.0002774671)\n",
      "('freedom', 0.00027746704)\n",
      "('microcommunity', 0.00027746693)\n",
      "('garden—dryden', 0.0002774669)\n",
      "('translate', 0.00027746684)\n",
      "('resonates', 0.0002774668)\n",
      "('preverbs', 0.00027746666)\n",
      "('hufnagel', 0.00027746666)\n",
      "('hates', 0.00027746646)\n",
      "('godhungry', 0.00027746643)\n",
      "('fields', 0.0002774663)\n",
      "('website', 0.00027746623)\n",
      "('clock', 0.0002774662)\n",
      "('laps', 0.00027746617)\n",
      "('interjects', 0.00027746614)\n",
      "('drum', 0.0002774661)\n",
      "('catchsome', 0.00027746608)\n",
      "('errors', 0.000277466)\n",
      "('appeared', 0.00027746594)\n",
      "('selective', 0.00027746588)\n",
      "('fivebeat', 0.00027746582)\n",
      "('chipping', 0.0002774656)\n",
      "('contracted', 0.0002774653)\n",
      "('housed', 0.00027746498)\n",
      "('archaeology', 0.00027746495)\n",
      "('pana', 0.00027746492)\n",
      "('woodside', 0.00027746486)\n",
      "('goal—', 0.00027746483)\n",
      "('polarity', 0.00027746474)\n",
      "('endtime', 0.0002774646)\n",
      "('obfuscation', 0.00027746457)\n",
      "('regional', 0.0002774645)\n",
      "('noon', 0.00027746422)\n",
      "('reflected', 0.00027746413)\n",
      "('lacks', 0.00027746407)\n",
      "('resituates', 0.00027746402)\n",
      "('reciter', 0.000277464)\n",
      "('looms', 0.0002774638)\n",
      "('așa', 0.00027746367)\n",
      "('sophia', 0.00027746364)\n",
      "('london—seems', 0.00027746338)\n"
     ]
    }
   ],
   "source": [
    "\n",
    "for i in range(2500, 2542):\n",
    "    print(l1[i])"
   ]
  },
  {
   "cell_type": "code",
   "execution_count": 56,
   "metadata": {},
   "outputs": [
    {
     "name": "stdout",
     "output_type": "stream",
     "text": [
      "2924\n"
     ]
    }
   ],
   "source": [
    "\n",
    "for i in range(3593):\n",
    "    if l0[i][0]== \"blood—\":\n",
    "            print(i)"
   ]
  },
  {
   "cell_type": "code",
   "execution_count": 57,
   "metadata": {},
   "outputs": [
    {
     "name": "stdout",
     "output_type": "stream",
     "text": [
      "1911\n"
     ]
    }
   ],
   "source": [
    "\n",
    "for i in range(3593):\n",
    "    if l1[i][0]== \"blood—\":\n",
    "            print(i)"
   ]
  },
  {
   "cell_type": "code",
   "execution_count": 58,
   "metadata": {},
   "outputs": [
    {
     "name": "stdout",
     "output_type": "stream",
     "text": [
      "('patient', 0.00015467731)\n",
      "('microclimates', 0.0001546773)\n",
      "('indicate', 0.00015467727)\n",
      "('frustrations', 0.00015467725)\n",
      "('reason', 0.00015467724)\n",
      "('incontinence', 0.00015467721)\n",
      "('drive', 0.00015467721)\n",
      "('sell', 0.00015467717)\n",
      "('publichtml', 0.00015467714)\n",
      "('andor', 0.00015467711)\n",
      "('outside', 0.0001546771)\n",
      "('eugenio', 0.00015467705)\n",
      "('halves', 0.000154677)\n",
      "('realize', 0.000154677)\n",
      "('names', 0.00015467699)\n",
      "('crowded', 0.00015467693)\n",
      "('welcomed', 0.00015467693)\n",
      "('index', 0.00015467693)\n",
      "('divergent', 0.00015467692)\n",
      "('article', 0.00015467685)\n",
      "('offered', 0.00015467685)\n",
      "('blood—', 0.00015467679)\n",
      "('bawdy', 0.00015467679)\n",
      "('dislike', 0.00015467677)\n",
      "('beware', 0.00015467676)\n",
      "('horror', 0.00015467675)\n",
      "('început', 0.00015467675)\n",
      "('sides', 0.00015467669)\n",
      "('tomis—ovid', 0.00015467669)\n",
      "('uniquely', 0.00015467667)\n",
      "('methodologies', 0.00015467664)\n",
      "('recite', 0.00015467664)\n",
      "('runway', 0.00015467663)\n",
      "('resonance', 0.00015467661)\n",
      "('chris', 0.00015467656)\n",
      "('crisis', 0.00015467647)\n",
      "('carearanjează', 0.00015467647)\n",
      "('contamination', 0.00015467645)\n",
      "('periodical', 0.00015467645)\n",
      "('ejournal', 0.00015467641)\n",
      "('mindful', 0.00015467637)\n",
      "('cause', 0.00015467637)\n"
     ]
    }
   ],
   "source": [
    "\n",
    "for i in range(2903, 2945):\n",
    "    print(l0[i])"
   ]
  },
  {
   "cell_type": "code",
   "execution_count": 59,
   "metadata": {},
   "outputs": [
    {
     "name": "stdout",
     "output_type": "stream",
     "text": [
      "('have—', 0.00027753334)\n",
      "('consequence', 0.00027753328)\n",
      "('wordofmouth', 0.00027753325)\n",
      "('mindful', 0.00027753317)\n",
      "('cause', 0.00027753314)\n",
      "('contamination', 0.00027753276)\n",
      "('periodical', 0.00027753267)\n",
      "('ejournal', 0.00027753264)\n",
      "('crisis', 0.00027753258)\n",
      "('carearanjează', 0.00027753238)\n",
      "('chris', 0.00027753218)\n",
      "('resonance', 0.00027753183)\n",
      "('methodologies', 0.0002775318)\n",
      "('recite', 0.00027753177)\n",
      "('runway', 0.0002775316)\n",
      "('sides', 0.00027753157)\n",
      "('tomis—ovid', 0.0002775315)\n",
      "('uniquely', 0.0002775314)\n",
      "('început', 0.0002775312)\n",
      "('horror', 0.00027753116)\n",
      "('dislike', 0.00027753104)\n",
      "('blood—', 0.000277531)\n",
      "('beware', 0.00027753095)\n",
      "('bawdy', 0.0002775309)\n",
      "('offered', 0.0002775306)\n",
      "('article', 0.00027753046)\n",
      "('index', 0.00027753023)\n",
      "('divergent', 0.00027753014)\n",
      "('welcomed', 0.00027753008)\n",
      "('crowded', 0.00027753008)\n",
      "('names', 0.00027752982)\n",
      "('halves', 0.00027752973)\n",
      "('realize', 0.00027752965)\n",
      "('eugenio', 0.0002775294)\n",
      "('outside', 0.00027752935)\n",
      "('andor', 0.00027752924)\n",
      "('publichtml', 0.0002775291)\n",
      "('incontinence', 0.00027752886)\n",
      "('sell', 0.0002775288)\n",
      "('reason', 0.0002775286)\n",
      "('drive', 0.00027752857)\n",
      "('frustrations', 0.00027752836)\n"
     ]
    }
   ],
   "source": [
    "\n",
    "for i in range(1890, 1932):\n",
    "    print(l1[i])"
   ]
  },
  {
   "cell_type": "code",
   "execution_count": 60,
   "metadata": {},
   "outputs": [
    {
     "name": "stdout",
     "output_type": "stream",
     "text": [
      "2800\n"
     ]
    }
   ],
   "source": [
    "\n",
    "for i in range(3593):\n",
    "    if l0[i][0]== \"drumsticks\":\n",
    "            print(i)"
   ]
  },
  {
   "cell_type": "code",
   "execution_count": 61,
   "metadata": {},
   "outputs": [
    {
     "name": "stdout",
     "output_type": "stream",
     "text": [
      "2036\n"
     ]
    }
   ],
   "source": [
    "\n",
    "for i in range(3593):\n",
    "    if l1[i][0]== \"drumsticks\":\n",
    "            print(i)"
   ]
  },
  {
   "cell_type": "code",
   "execution_count": 62,
   "metadata": {},
   "outputs": [
    {
     "name": "stdout",
     "output_type": "stream",
     "text": [
      "('hybridized', 0.00015468002)\n",
      "('what—a', 0.00015467998)\n",
      "('advantageous', 0.00015467998)\n",
      "('ubiquitous', 0.00015467995)\n",
      "('compositions', 0.00015467989)\n",
      "('telephone', 0.00015467989)\n",
      "('equation', 0.00015467989)\n",
      "('nations', 0.00015467987)\n",
      "('example—maybe', 0.00015467986)\n",
      "('nature—', 0.00015467984)\n",
      "('regarding', 0.00015467984)\n",
      "('renewal', 0.00015467984)\n",
      "('represent', 0.00015467984)\n",
      "('tradition', 0.00015467982)\n",
      "('torpor', 0.00015467982)\n",
      "('utter', 0.0001546798)\n",
      "('rings', 0.00015467977)\n",
      "('bucurii', 0.00015467974)\n",
      "('routes', 0.00015467974)\n",
      "('lofi', 0.00015467973)\n",
      "('pandemic', 0.0001546797)\n",
      "('drumsticks', 0.00015467963)\n",
      "('publishers', 0.00015467963)\n",
      "('eclipsing', 0.00015467954)\n",
      "('styles', 0.00015467945)\n",
      "('bowl', 0.00015467945)\n",
      "('limitation', 0.00015467942)\n",
      "('convertible', 0.00015467942)\n",
      "('hudson', 0.00015467941)\n",
      "('block', 0.00015467941)\n",
      "('circuite', 0.00015467938)\n",
      "('cannibalism', 0.00015467938)\n",
      "('ticking', 0.00015467935)\n",
      "('infinitely', 0.00015467935)\n",
      "('dreaming', 0.0001546793)\n",
      "('found—and', 0.00015467928)\n",
      "('member', 0.00015467928)\n",
      "('sobers', 0.00015467926)\n",
      "('ambition', 0.00015467926)\n",
      "('fanzine', 0.00015467918)\n",
      "('zimbri', 0.00015467918)\n",
      "('unstuck', 0.00015467916)\n"
     ]
    }
   ],
   "source": [
    "\n",
    "for i in range(2779, 2821):\n",
    "    print(l0[i])"
   ]
  },
  {
   "cell_type": "code",
   "execution_count": 63,
   "metadata": {},
   "outputs": [
    {
     "name": "stdout",
     "output_type": "stream",
     "text": [
      "('clues', 0.0002775183)\n",
      "('unstuck', 0.00027751827)\n",
      "('zimbri', 0.0002775182)\n",
      "('duce', 0.00027751818)\n",
      "('fanzine', 0.00027751797)\n",
      "('ambition', 0.00027751777)\n",
      "('found—and', 0.0002775177)\n",
      "('sobers', 0.00027751768)\n",
      "('member', 0.00027751763)\n",
      "('infinitely', 0.00027751754)\n",
      "('ticking', 0.00027751748)\n",
      "('dreaming', 0.00027751748)\n",
      "('cannibalism', 0.00027751713)\n",
      "('circuite', 0.00027751707)\n",
      "('block', 0.00027751704)\n",
      "('convertible', 0.000277517)\n",
      "('hudson', 0.00027751693)\n",
      "('limitation', 0.00027751687)\n",
      "('styles', 0.00027751687)\n",
      "('bowl', 0.00027751678)\n",
      "('eclipsing', 0.00027751608)\n",
      "('drumsticks', 0.00027751588)\n",
      "('publishers', 0.00027751582)\n",
      "('pandemic', 0.00027751556)\n",
      "('lofi', 0.0002775155)\n",
      "('bucurii', 0.00027751512)\n",
      "('rings', 0.000277515)\n",
      "('routes', 0.000277515)\n",
      "('utter', 0.00027751495)\n",
      "('tradition', 0.00027751483)\n",
      "('represent', 0.0002775148)\n",
      "('torpor', 0.00027751474)\n",
      "('example—maybe', 0.00027751471)\n",
      "('nature—', 0.00027751466)\n",
      "('regarding', 0.00027751463)\n",
      "('renewal', 0.00027751463)\n",
      "('telephone', 0.00027751448)\n",
      "('nations', 0.0002775144)\n",
      "('compositions', 0.00027751437)\n",
      "('equation', 0.00027751428)\n",
      "('ubiquitous', 0.00027751413)\n",
      "('advantageous', 0.00027751402)\n"
     ]
    }
   ],
   "source": [
    "\n",
    "for i in range(2015, 2057):\n",
    "    print(l1[i])"
   ]
  },
  {
   "cell_type": "code",
   "execution_count": 67,
   "metadata": {},
   "outputs": [
    {
     "name": "stdout",
     "output_type": "stream",
     "text": [
      "1297\n"
     ]
    }
   ],
   "source": [
    "\n",
    "for i in range(3593):\n",
    "    if l0[i][0]== \"transport\":\n",
    "            print(i)"
   ]
  },
  {
   "cell_type": "code",
   "execution_count": 68,
   "metadata": {},
   "outputs": [
    {
     "name": "stdout",
     "output_type": "stream",
     "text": [
      "3540\n"
     ]
    }
   ],
   "source": [
    "for i in range(3593):\n",
    "    if l1[i][0]== \"transport\":\n",
    "            print(i)"
   ]
  },
  {
   "cell_type": "code",
   "execution_count": 69,
   "metadata": {},
   "outputs": [
    {
     "name": "stdout",
     "output_type": "stream",
     "text": [
      "('fluctuation', 0.000154724)\n",
      "('nine', 0.00015472372)\n",
      "('occasionally', 0.00015472369)\n",
      "('science', 0.00015472344)\n",
      "('risk', 0.00015472338)\n",
      "('wrpi', 0.00015472328)\n",
      "('supplement', 0.0001547231)\n",
      "('stream', 0.00015472305)\n",
      "('occurring', 0.00015472302)\n",
      "('laocoön', 0.00015472287)\n",
      "('streamlined', 0.00015472287)\n",
      "('catalog', 0.00015472285)\n",
      "('risks', 0.0001547228)\n",
      "('—protagonist', 0.0001547227)\n",
      "('coinciding', 0.00015472261)\n",
      "('chapbooks', 0.0001547226)\n",
      "('timeconsuming', 0.00015472254)\n",
      "('revolutioninterregnum', 0.00015472223)\n",
      "('dancers', 0.00015472216)\n",
      "('represented', 0.00015472202)\n",
      "('desktop', 0.00015472202)\n",
      "('transport', 0.00015472193)\n",
      "('shore', 0.00015472175)\n",
      "('etymology', 0.00015472165)\n",
      "('attending', 0.00015472165)\n",
      "('silly', 0.00015472165)\n",
      "('judgment', 0.00015472154)\n",
      "('disc', 0.00015472139)\n",
      "('sharp', 0.00015472125)\n",
      "('titlul', 0.0001547212)\n",
      "('determined', 0.00015472114)\n",
      "('aerului', 0.00015472082)\n",
      "('omission', 0.00015472074)\n",
      "('moving', 0.00015472072)\n",
      "('envisage', 0.00015472056)\n",
      "('selfindulgence', 0.00015472056)\n",
      "('ajunse', 0.00015472036)\n",
      "('requires', 0.00015472031)\n",
      "('photography', 0.00015471996)\n",
      "('hunting', 0.00015471973)\n",
      "('checking', 0.0001547193)\n",
      "('players', 0.0001547193)\n"
     ]
    }
   ],
   "source": [
    "\n",
    "for i in range(1276, 1318):\n",
    "    print(l0[i])"
   ]
  },
  {
   "cell_type": "code",
   "execution_count": 70,
   "metadata": {},
   "outputs": [
    {
     "name": "stdout",
     "output_type": "stream",
     "text": [
      "('players', 0.0002773051)\n",
      "('pună', 0.000277305)\n",
      "('checking', 0.000277305)\n",
      "('hunting', 0.00027730284)\n",
      "('photography', 0.00027730156)\n",
      "('requires', 0.00027729958)\n",
      "('ajunse', 0.00027729952)\n",
      "('envisage', 0.00027729833)\n",
      "('selfindulgence', 0.00027729824)\n",
      "('moving', 0.00027729757)\n",
      "('omission', 0.00027729754)\n",
      "('aerului', 0.00027729696)\n",
      "('determined', 0.00027729513)\n",
      "('titlul', 0.00027729495)\n",
      "('sharp', 0.00027729463)\n",
      "('disc', 0.00027729408)\n",
      "('judgment', 0.00027729315)\n",
      "('attending', 0.00027729254)\n",
      "('etymology', 0.00027729254)\n",
      "('silly', 0.00027729242)\n",
      "('shore', 0.00027729178)\n",
      "('transport', 0.00027729105)\n",
      "('desktop', 0.00027729064)\n",
      "('represented', 0.00027729062)\n",
      "('dancers', 0.0002772898)\n",
      "('revolutioninterregnum', 0.00027728963)\n",
      "('timeconsuming', 0.00027728794)\n",
      "('coinciding', 0.0002772876)\n",
      "('chapbooks', 0.00027728756)\n",
      "('—protagonist', 0.00027728698)\n",
      "('risks', 0.00027728657)\n",
      "('catalog', 0.00027728637)\n",
      "('streamlined', 0.00027728613)\n",
      "('laocoön', 0.00027728584)\n",
      "('occurring', 0.00027728538)\n",
      "('stream', 0.00027728523)\n",
      "('supplement', 0.00027728488)\n",
      "('wrpi', 0.00027728363)\n",
      "('risk', 0.0002772834)\n",
      "('science', 0.0002772831)\n",
      "('nine', 0.00027728168)\n",
      "('occasionally', 0.0002772816)\n"
     ]
    }
   ],
   "source": [
    "\n",
    "for i in range(3519, 3561):\n",
    "    print(l1[i])"
   ]
  },
  {
   "cell_type": "code",
   "execution_count": 71,
   "metadata": {},
   "outputs": [
    {
     "name": "stdout",
     "output_type": "stream",
     "text": [
      "1733\n"
     ]
    }
   ],
   "source": [
    "\n",
    "for i in range(3593):\n",
    "    if l0[i][0]== \"ignoring\":\n",
    "            print(i)"
   ]
  },
  {
   "cell_type": "code",
   "execution_count": 72,
   "metadata": {},
   "outputs": [
    {
     "name": "stdout",
     "output_type": "stream",
     "text": [
      "3105\n"
     ]
    }
   ],
   "source": [
    "for i in range(3593):\n",
    "    if l1[i][0]== \"ignoring\":\n",
    "            print(i)"
   ]
  },
  {
   "cell_type": "code",
   "execution_count": 73,
   "metadata": {},
   "outputs": [
    {
     "name": "stdout",
     "output_type": "stream",
     "text": [
      "('taras', 0.00015470269)\n",
      "('1986', 0.00015470269)\n",
      "('facilitates', 0.00015470263)\n",
      "('shifting', 0.00015470262)\n",
      "('changing', 0.00015470255)\n",
      "('lacking', 0.00015470255)\n",
      "('realizării', 0.00015470253)\n",
      "('documentation', 0.00015470244)\n",
      "('virus', 0.00015470244)\n",
      "('opinion—', 0.00015470243)\n",
      "('side', 0.0001547024)\n",
      "('border', 0.00015470239)\n",
      "('synthesizing', 0.00015470237)\n",
      "('laptop', 0.00015470236)\n",
      "('rearranged', 0.00015470224)\n",
      "('fellow', 0.00015470221)\n",
      "('thee', 0.00015470211)\n",
      "('călărie', 0.00015470205)\n",
      "('sauce', 0.00015470205)\n",
      "('lives—', 0.00015470201)\n",
      "('xliii', 0.000154702)\n",
      "('ignoring', 0.000154702)\n",
      "('fluidity', 0.000154702)\n",
      "('lord', 0.00015470198)\n",
      "('thirty', 0.0001547019)\n",
      "('drank', 0.00015470189)\n",
      "('definitely', 0.00015470186)\n",
      "('dies', 0.00015470186)\n",
      "('linking', 0.00015470186)\n",
      "('continues', 0.00015470183)\n",
      "('ripped', 0.00015470182)\n",
      "('dialogues', 0.00015470179)\n",
      "('saturated', 0.00015470176)\n",
      "('rebirth—', 0.00015470176)\n",
      "('reflecting', 0.00015470167)\n",
      "('theories', 0.00015470161)\n",
      "('incorporates', 0.00015470161)\n",
      "('activating', 0.0001547016)\n",
      "('easier', 0.00015470159)\n",
      "('montreal', 0.00015470159)\n",
      "('ziua', 0.00015470154)\n",
      "('area', 0.00015470132)\n"
     ]
    }
   ],
   "source": [
    "\n",
    "for i in range(1712, 1754):\n",
    "    print(l0[i])"
   ]
  },
  {
   "cell_type": "code",
   "execution_count": 74,
   "metadata": {},
   "outputs": [
    {
     "name": "stdout",
     "output_type": "stream",
     "text": [
      "('area', 0.0002774006)\n",
      "('montreal', 0.00027739923)\n",
      "('activating', 0.00027739923)\n",
      "('ziua', 0.0002773992)\n",
      "('easier', 0.00027739917)\n",
      "('incorporates', 0.00027739911)\n",
      "('theories', 0.0002773989)\n",
      "('reflecting', 0.00027739877)\n",
      "('saturated', 0.00027739836)\n",
      "('dialogues', 0.00027739813)\n",
      "('ripped', 0.00027739804)\n",
      "('rebirth—', 0.00027739804)\n",
      "('continues', 0.0002773979)\n",
      "('definitely', 0.00027739775)\n",
      "('linking', 0.00027739772)\n",
      "('thirty', 0.00027739763)\n",
      "('dies', 0.00027739763)\n",
      "('drank', 0.00027739746)\n",
      "('lord', 0.0002773972)\n",
      "('xliii', 0.0002773971)\n",
      "('fluidity', 0.00027739705)\n",
      "('ignoring', 0.00027739705)\n",
      "('lives—', 0.00027739702)\n",
      "('călărie', 0.00027739676)\n",
      "('sauce', 0.00027739673)\n",
      "('thee', 0.00027739644)\n",
      "('fellow', 0.000277396)\n",
      "('rearranged', 0.00027739577)\n",
      "('laptop', 0.00027739507)\n",
      "('synthesizing', 0.0002773948)\n",
      "('side', 0.00027739475)\n",
      "('border', 0.00027739472)\n",
      "('opinion—', 0.00027739463)\n",
      "('documentation', 0.00027739457)\n",
      "('virus', 0.00027739457)\n",
      "('changing', 0.00027739423)\n",
      "('realizării', 0.00027739417)\n",
      "('lacking', 0.00027739382)\n",
      "('shifting', 0.0002773938)\n",
      "('facilitates', 0.00027739364)\n",
      "('1986', 0.00027739332)\n",
      "('taras', 0.0002773933)\n"
     ]
    }
   ],
   "source": [
    "\n",
    "for i in range(3084, 3126):\n",
    "    print(l1[i])"
   ]
  },
  {
   "cell_type": "code",
   "execution_count": 77,
   "metadata": {},
   "outputs": [],
   "source": [
    "\n",
    "for i in range(3593):\n",
    "    if l0[i][0]== \"car\":\n",
    "            print(i)"
   ]
  },
  {
   "cell_type": "code",
   "execution_count": 78,
   "metadata": {},
   "outputs": [],
   "source": [
    "\n",
    "for i in range(3593):\n",
    "    if l1[i][0]== \"car\":\n",
    "            print(i)"
   ]
  },
  {
   "cell_type": "code",
   "execution_count": 79,
   "metadata": {},
   "outputs": [
    {
     "name": "stdout",
     "output_type": "stream",
     "text": [
      "('thing—the', 0.00015464767)\n",
      "('turn', 0.00015464755)\n",
      "('ovidexile', 0.00015464755)\n",
      "('existence', 0.00015464715)\n",
      "('toolkit', 0.00015464709)\n",
      "('espionage', 0.00015464704)\n",
      "('pasta', 0.00015464655)\n",
      "('many—even', 0.00015464587)\n",
      "('seeing', 0.00015464587)\n",
      "('videos', 0.00015464574)\n",
      "('effective', 0.0001546457)\n",
      "('classroom—and', 0.00015464549)\n",
      "('hard—', 0.00015464546)\n",
      "('hologramă', 0.00015464527)\n",
      "('bridled', 0.0001546452)\n",
      "('party', 0.00015464507)\n",
      "('prin', 0.00015464507)\n",
      "('relevant', 0.00015464479)\n",
      "('stifling', 0.00015464403)\n",
      "('gellu', 0.00015464363)\n",
      "('tobacco', 0.00015464332)\n",
      "('shorter', 0.00015464323)\n",
      "('dozens', 0.00015464307)\n",
      "('are—', 0.00015464217)\n",
      "('forgotten', 0.00015464182)\n",
      "('study—', 0.00015464147)\n",
      "('crash', 0.00015464134)\n",
      "('valued', 0.00015464121)\n",
      "('kitchen', 0.00015463962)\n",
      "('damon', 0.00015463946)\n",
      "('luton', 0.00015463933)\n",
      "('aview', 0.00015463876)\n",
      "('complet', 0.00015463844)\n",
      "('partnering', 0.00015463731)\n",
      "('illustrate', 0.00015463687)\n",
      "('coleading', 0.00015463668)\n",
      "('band', 0.0001546365)\n",
      "('humorous', 0.00015463628)\n",
      "('protestants', 0.00015463571)\n",
      "('tongues', 0.00015463562)\n",
      "('murder', 0.00015463414)\n",
      "('basketed', 0.000154634)\n",
      "('redefine', 0.00015463398)\n",
      "('location', 0.00015463318)\n",
      "('tracks—now', 0.00015462819)\n",
      "('others—louder', 0.00015462794)\n",
      "('nevoii', 0.00015462769)\n",
      "('fond', 0.00015462475)\n",
      "('noone', 0.00015462417)\n",
      "('gathering', 0.00015462303)\n",
      "('tight', 0.00015460898)\n"
     ]
    }
   ],
   "source": [
    "\n",
    "for i in range(3542, 3593):\n",
    "    print(l0[i])"
   ]
  },
  {
   "cell_type": "code",
   "execution_count": 80,
   "metadata": {},
   "outputs": [
    {
     "name": "stdout",
     "output_type": "stream",
     "text": [
      "('represented', 0.00027729062)\n",
      "('dancers', 0.0002772898)\n",
      "('revolutioninterregnum', 0.00027728963)\n",
      "('timeconsuming', 0.00027728794)\n",
      "('coinciding', 0.0002772876)\n",
      "('chapbooks', 0.00027728756)\n",
      "('—protagonist', 0.00027728698)\n",
      "('risks', 0.00027728657)\n",
      "('catalog', 0.00027728637)\n",
      "('streamlined', 0.00027728613)\n",
      "('laocoön', 0.00027728584)\n",
      "('occurring', 0.00027728538)\n",
      "('stream', 0.00027728523)\n",
      "('supplement', 0.00027728488)\n",
      "('wrpi', 0.00027728363)\n",
      "('risk', 0.0002772834)\n",
      "('science', 0.0002772831)\n",
      "('nine', 0.00027728168)\n",
      "('occasionally', 0.0002772816)\n",
      "('fluctuation', 0.00027728025)\n",
      "('simfonie', 0.00027727964)\n",
      "('embark', 0.00027727854)\n",
      "('broader', 0.0002772781)\n",
      "('mechanism—with', 0.00027727694)\n",
      "('heyday—ruins', 0.00027727598)\n",
      "('migrate', 0.00027727452)\n",
      "('integration', 0.00027727275)\n",
      "('counterculture', 0.00027727216)\n",
      "('engagements', 0.0002772694)\n",
      "('asimptotic', 0.0002772687)\n",
      "('appreciated', 0.00027726704)\n",
      "('rocks', 0.0002772647)\n",
      "('caution', 0.00027726428)\n",
      "('debate—between', 0.000277263)\n",
      "('favourite', 0.00027726186)\n",
      "('unable', 0.0002772616)\n",
      "('larks', 0.00027725814)\n",
      "('bride', 0.00027725636)\n",
      "('figs', 0.00027725607)\n",
      "('autoscopy', 0.00027725496)\n",
      "('goes', 0.00027725293)\n",
      "('anne', 0.00027725028)\n",
      "('spectrums', 0.00027724827)\n",
      "('palate', 0.00027724108)\n",
      "('arose', 0.00027723348)\n",
      "('seeds', 0.00027722694)\n",
      "('translatingwriting', 0.000277222)\n",
      "('awareness', 0.00027722053)\n",
      "('counterparts', 0.00027721716)\n",
      "('hell', 0.00027720793)\n",
      "('lists', 0.00027719061)\n"
     ]
    }
   ],
   "source": [
    "\n",
    "for i in range(3542, 3593):\n",
    "    print(l1[i])"
   ]
  },
  {
   "cell_type": "code",
   "execution_count": 21,
   "metadata": {},
   "outputs": [
    {
     "name": "stdout",
     "output_type": "stream",
     "text": [
      "3251\n"
     ]
    }
   ],
   "source": [
    "\n",
    "for i in range(3593):\n",
    "    if l0[i][0]== \"regression\":\n",
    "            print(i)"
   ]
  },
  {
   "cell_type": "code",
   "execution_count": 22,
   "metadata": {},
   "outputs": [
    {
     "name": "stdout",
     "output_type": "stream",
     "text": [
      "1586\n"
     ]
    }
   ],
   "source": [
    "\n",
    "for i in range(3593):\n",
    "    if l1[i][0]== \"regression\":\n",
    "            print(i)"
   ]
  },
  {
   "cell_type": "code",
   "execution_count": 23,
   "metadata": {},
   "outputs": [
    {
     "name": "stdout",
     "output_type": "stream",
     "text": [
      "('elegance', 0.00015466851)\n",
      "('acquired', 0.00015466847)\n",
      "('flagellate', 0.00015466845)\n",
      "('bore', 0.00015466845)\n",
      "('emerge', 0.00015466839)\n",
      "('breathe', 0.00015466836)\n",
      "('layers', 0.00015466836)\n",
      "('2014', 0.00015466836)\n",
      "('sustained', 0.00015466832)\n",
      "('character—', 0.0001546683)\n",
      "('sketchpad', 0.00015466828)\n",
      "('viewing', 0.0001546682)\n",
      "('keeping', 0.00015466817)\n",
      "('rods', 0.00015466807)\n",
      "('fear', 0.00015466806)\n",
      "('wine—he', 0.000154668)\n",
      "('linebased', 0.00015466796)\n",
      "('challenged', 0.0001546679)\n",
      "('inventive', 0.0001546679)\n",
      "('reaching', 0.0001546678)\n",
      "('usefully', 0.00015466777)\n",
      "('regression', 0.00015466777)\n",
      "('designing', 0.00015466775)\n",
      "('travel', 0.00015466774)\n",
      "('cleft', 0.0001546677)\n",
      "('appreciation', 0.00015466766)\n",
      "('appears', 0.00015466759)\n",
      "('selection', 0.00015466759)\n",
      "('contented', 0.00015466758)\n",
      "('likely', 0.00015466756)\n",
      "('andrews', 0.00015466755)\n",
      "('solos—yes', 0.0001546674)\n",
      "('bottles—drinks', 0.0001546674)\n",
      "('crude', 0.00015466739)\n",
      "('santana', 0.00015466737)\n",
      "('kills', 0.00015466736)\n",
      "('displayed', 0.00015466736)\n",
      "('xxxiii', 0.00015466733)\n",
      "('rudimentary', 0.00015466729)\n",
      "('sections', 0.00015466721)\n",
      "('movement', 0.00015466721)\n",
      "('blue', 0.00015466716)\n"
     ]
    }
   ],
   "source": [
    "\n",
    "for i in range(3230, 3272):\n",
    "    print(l0[i])"
   ]
  },
  {
   "cell_type": "code",
   "execution_count": 24,
   "metadata": {},
   "outputs": [
    {
     "name": "stdout",
     "output_type": "stream",
     "text": [
      "('blue', 0.000277582)\n",
      "('retrospective', 0.000277582)\n",
      "('sections', 0.0002775818)\n",
      "('movement', 0.00027758154)\n",
      "('rudimentary', 0.00027758142)\n",
      "('xxxiii', 0.000277581)\n",
      "('kills', 0.00027758084)\n",
      "('bottles—drinks', 0.0002775808)\n",
      "('crude', 0.0002775808)\n",
      "('santana', 0.0002775808)\n",
      "('displayed', 0.0002775807)\n",
      "('solos—yes', 0.00027758066)\n",
      "('likely', 0.00027757988)\n",
      "('andrews', 0.0002775798)\n",
      "('selection', 0.00027757976)\n",
      "('appears', 0.00027757973)\n",
      "('contented', 0.00027757973)\n",
      "('cleft', 0.00027757918)\n",
      "('appreciation', 0.00027757906)\n",
      "('usefully', 0.00027757886)\n",
      "('designing', 0.00027757883)\n",
      "('regression', 0.00027757883)\n",
      "('reaching', 0.0002775788)\n",
      "('travel', 0.00027757874)\n",
      "('inventive', 0.0002775781)\n",
      "('challenged', 0.00027757804)\n",
      "('linebased', 0.00027757796)\n",
      "('wine—he', 0.00027757746)\n",
      "('fear', 0.00027757735)\n",
      "('rods', 0.00027757708)\n",
      "('keeping', 0.00027757662)\n",
      "('viewing', 0.00027757636)\n",
      "('sketchpad', 0.00027757612)\n",
      "('sustained', 0.000277576)\n",
      "('character—', 0.000277576)\n",
      "('layers', 0.00027757563)\n",
      "('breathe', 0.00027757557)\n",
      "('emerge', 0.00027757548)\n",
      "('2014', 0.00027757543)\n",
      "('bore', 0.0002775752)\n",
      "('flagellate', 0.00027757516)\n",
      "('acquired', 0.00027757508)\n"
     ]
    }
   ],
   "source": [
    "\n",
    "for i in range(1565, 1607):\n",
    "    print(l1[i])"
   ]
  },
  {
   "cell_type": "code",
   "execution_count": 25,
   "metadata": {},
   "outputs": [
    {
     "name": "stdout",
     "output_type": "stream",
     "text": [
      "1175\n"
     ]
    }
   ],
   "source": [
    "\n",
    "for i in range(3593):\n",
    "    if l0[i][0]== \"tunes\":\n",
    "            print(i)"
   ]
  },
  {
   "cell_type": "code",
   "execution_count": 26,
   "metadata": {},
   "outputs": [
    {
     "name": "stdout",
     "output_type": "stream",
     "text": [
      "731\n"
     ]
    }
   ],
   "source": [
    "\n",
    "for i in range(3593):\n",
    "    if l1[i][0]== \"tunes\":\n",
    "            print(i)"
   ]
  },
  {
   "cell_type": "code",
   "execution_count": 27,
   "metadata": {},
   "outputs": [
    {
     "name": "stdout",
     "output_type": "stream",
     "text": [
      "('pursuits', 0.00025781128)\n",
      "('runes', 0.00025781122)\n",
      "('teasing', 0.000257811)\n",
      "('xxviii', 0.0002578109)\n",
      "('drama', 0.00025781058)\n",
      "('historians', 0.00025781032)\n",
      "('genre', 0.00025781023)\n",
      "('embracing', 0.00025781008)\n",
      "('epic', 0.00025780965)\n",
      "('please', 0.00025780965)\n",
      "('playing', 0.0002578096)\n",
      "('riffs', 0.00025780883)\n",
      "('active', 0.0002578087)\n",
      "('organizing', 0.00025780854)\n",
      "('sseum', 0.0002578083)\n",
      "('coding', 0.0002578078)\n",
      "('experiments', 0.0002578078)\n",
      "('real', 0.00025780767)\n",
      "('england', 0.00025780738)\n",
      "('fred', 0.00025780723)\n",
      "('places', 0.0002578071)\n",
      "('tunes', 0.00025780618)\n",
      "('association', 0.00025780612)\n",
      "('recontextualized', 0.00025780502)\n",
      "('local', 0.00025780438)\n",
      "('wakes', 0.0002578039)\n",
      "('moten', 0.00025780342)\n",
      "('călărind', 0.0002578033)\n",
      "('dawning', 0.00025780246)\n",
      "('equipment', 0.00025780243)\n",
      "('positions', 0.00025780164)\n",
      "('fundamental', 0.00025780013)\n",
      "('creativity', 0.0002577987)\n",
      "('html', 0.00025779867)\n",
      "('potent', 0.00025779818)\n",
      "('manuscript', 0.00025779702)\n",
      "('composing', 0.00025779693)\n",
      "('troughs', 0.00025779687)\n",
      "('jazz', 0.0002577965)\n",
      "('shattered', 0.00025779623)\n",
      "('serves', 0.000257796)\n",
      "('constant', 0.0002577959)\n"
     ]
    }
   ],
   "source": [
    "\n",
    "for i in range(1154, 1196):\n",
    "    print(l0[i])"
   ]
  },
  {
   "cell_type": "code",
   "execution_count": 28,
   "metadata": {},
   "outputs": [
    {
     "name": "stdout",
     "output_type": "stream",
     "text": [
      "('jazz', 0.00027844135)\n",
      "('troughs', 0.0002784388)\n",
      "('composing', 0.00027843856)\n",
      "('manuscript', 0.000278438)\n",
      "('rhythms', 0.0002784329)\n",
      "('potent', 0.00027843192)\n",
      "('html', 0.00027842948)\n",
      "('creativity', 0.0002784289)\n",
      "('1992', 0.0002784245)\n",
      "('fundamental', 0.0002784212)\n",
      "('breaking', 0.00027841897)\n",
      "('positions', 0.0002784134)\n",
      "('equipment', 0.00027840937)\n",
      "('dawning', 0.00027840925)\n",
      "('disguise', 0.00027840567)\n",
      "('călărind', 0.00027840477)\n",
      "('moten', 0.00027840398)\n",
      "('wakes', 0.0002784013)\n",
      "('local', 0.00027839895)\n",
      "('recontextualized', 0.00027839537)\n",
      "('association', 0.0002783897)\n",
      "('tunes', 0.00027838923)\n",
      "('places', 0.00027838442)\n",
      "('covered', 0.000278384)\n",
      "('fred', 0.00027838376)\n",
      "('england', 0.00027838303)\n",
      "('real', 0.0002783812)\n",
      "('coding', 0.0002783807)\n",
      "('experiments', 0.0002783804)\n",
      "('sseum', 0.00027837846)\n",
      "('organizing', 0.00027837674)\n",
      "('active', 0.00027837613)\n",
      "('riffs', 0.00027837514)\n",
      "('cassettes', 0.00027837287)\n",
      "('playing', 0.0002783712)\n",
      "('please', 0.00027837115)\n",
      "('epic', 0.00027837083)\n",
      "('embracing', 0.00027836856)\n",
      "('genre', 0.00027836795)\n",
      "('historians', 0.0002783676)\n",
      "('drama', 0.00027836594)\n",
      "('troubled', 0.00027836452)\n"
     ]
    }
   ],
   "source": [
    "\n",
    "for i in range(710, 752):\n",
    "    print(l1[i])"
   ]
  },
  {
   "cell_type": "code",
   "execution_count": 29,
   "metadata": {},
   "outputs": [
    {
     "name": "stdout",
     "output_type": "stream",
     "text": [
      "2123\n"
     ]
    }
   ],
   "source": [
    "\n",
    "for i in range(3593):\n",
    "    if l0[i][0]== \"randomly\":\n",
    "            print(i)"
   ]
  },
  {
   "cell_type": "code",
   "execution_count": 30,
   "metadata": {},
   "outputs": [
    {
     "name": "stdout",
     "output_type": "stream",
     "text": [
      "2714\n"
     ]
    }
   ],
   "source": [
    "\n",
    "for i in range(3593):\n",
    "    if l1[i][0]== \"randomly\":\n",
    "            print(i)"
   ]
  },
  {
   "cell_type": "code",
   "execution_count": 31,
   "metadata": {},
   "outputs": [
    {
     "name": "stdout",
     "output_type": "stream",
     "text": [
      "('connections', 0.00015469325)\n",
      "('string', 0.00015469322)\n",
      "('selfmotivated', 0.00015469317)\n",
      "('cultivating', 0.00015469315)\n",
      "('dara', 0.00015469313)\n",
      "('possible', 0.00015469313)\n",
      "('metropolitan', 0.00015469313)\n",
      "('wtju', 0.00015469312)\n",
      "('casei', 0.00015469312)\n",
      "('wealthgod', 0.00015469312)\n",
      "('daily', 0.0001546931)\n",
      "('shouts', 0.00015469307)\n",
      "('saucy', 0.00015469306)\n",
      "('door', 0.00015469303)\n",
      "('died', 0.00015469303)\n",
      "('monologues', 0.000154693)\n",
      "('restoration', 0.000154693)\n",
      "('miar', 0.00015469297)\n",
      "('mail', 0.00015469294)\n",
      "('timpul', 0.00015469293)\n",
      "('invited', 0.0001546929)\n",
      "('randomly', 0.00015469287)\n",
      "('envisaged', 0.00015469285)\n",
      "('share', 0.00015469283)\n",
      "('sets', 0.00015469278)\n",
      "('actor', 0.00015469278)\n",
      "('guitars', 0.00015469277)\n",
      "('embedded', 0.00015469272)\n",
      "('midwifery', 0.00015469272)\n",
      "('phoneme', 0.00015469271)\n",
      "('kostelanetz', 0.00015469271)\n",
      "('lenses', 0.00015469271)\n",
      "('illumined', 0.0001546927)\n",
      "('exciting', 0.00015469265)\n",
      "('warlings', 0.00015469262)\n",
      "('joint', 0.0001546926)\n",
      "('explorable', 0.0001546926)\n",
      "('grindini', 0.0001546926)\n",
      "('jacket2', 0.00015469255)\n",
      "('traps', 0.00015469255)\n",
      "('duplicate', 0.00015469253)\n",
      "('needs', 0.00015469249)\n"
     ]
    }
   ],
   "source": [
    "\n",
    "for i in range(2102, 2144):\n",
    "    print(l0[i])"
   ]
  },
  {
   "cell_type": "code",
   "execution_count": 32,
   "metadata": {},
   "outputs": [
    {
     "name": "stdout",
     "output_type": "stream",
     "text": [
      "('tragedies', 0.00027744737)\n",
      "('duplicate', 0.00027744734)\n",
      "('jacket2', 0.00027744734)\n",
      "('needs', 0.0002774473)\n",
      "('traps', 0.00027744714)\n",
      "('grindini', 0.00027744705)\n",
      "('explorable', 0.00027744693)\n",
      "('joint', 0.00027744687)\n",
      "('warlings', 0.00027744682)\n",
      "('exciting', 0.00027744664)\n",
      "('illumined', 0.00027744644)\n",
      "('kostelanetz', 0.00027744644)\n",
      "('phoneme', 0.0002774463)\n",
      "('lenses', 0.00027744626)\n",
      "('embedded', 0.00027744618)\n",
      "('midwifery', 0.0002774461)\n",
      "('actor', 0.00027744606)\n",
      "('guitars', 0.00027744594)\n",
      "('share', 0.0002774459)\n",
      "('sets', 0.0002774459)\n",
      "('envisaged', 0.0002774457)\n",
      "('randomly', 0.00027744542)\n",
      "('invited', 0.00027744542)\n",
      "('timpul', 0.00027744513)\n",
      "('mail', 0.00027744504)\n",
      "('monologues', 0.00027744498)\n",
      "('miar', 0.00027744492)\n",
      "('restoration', 0.0002774448)\n",
      "('died', 0.00027744478)\n",
      "('door', 0.0002774447)\n",
      "('saucy', 0.00027744446)\n",
      "('shouts', 0.00027744446)\n",
      "('daily', 0.00027744434)\n",
      "('dara', 0.0002774442)\n",
      "('possible', 0.00027744417)\n",
      "('casei', 0.00027744417)\n",
      "('wealthgod', 0.00027744417)\n",
      "('cultivating', 0.00027744414)\n",
      "('wtju', 0.00027744408)\n",
      "('metropolitan', 0.00027744396)\n",
      "('selfmotivated', 0.00027744373)\n",
      "('connections', 0.00027744367)\n"
     ]
    }
   ],
   "source": [
    "\n",
    "for i in range(2693, 2735):\n",
    "    print(l1[i])"
   ]
  },
  {
   "cell_type": "code",
   "execution_count": 36,
   "metadata": {},
   "outputs": [
    {
     "name": "stdout",
     "output_type": "stream",
     "text": [
      "911\n"
     ]
    }
   ],
   "source": [
    "\n",
    "for i in range(3593):\n",
    "    if l0[i][0]== \"speech\":\n",
    "            print(i)"
   ]
  },
  {
   "cell_type": "code",
   "execution_count": 46,
   "metadata": {},
   "outputs": [
    {
     "name": "stdout",
     "output_type": "stream",
     "text": [
      "3298\n"
     ]
    }
   ],
   "source": [
    "\n",
    "for i in range(3593):\n",
    "    if l0[i][0]== \"commonspeech\":\n",
    "            print(i)"
   ]
  },
  {
   "cell_type": "code",
   "execution_count": 47,
   "metadata": {},
   "outputs": [
    {
     "name": "stdout",
     "output_type": "stream",
     "text": [
      "1539\n"
     ]
    }
   ],
   "source": [
    "for i in range(3593):\n",
    "    if l1[i][0]== \"commonspeech\":\n",
    "            print(i)"
   ]
  },
  {
   "cell_type": "code",
   "execution_count": 48,
   "metadata": {},
   "outputs": [
    {
     "name": "stdout",
     "output_type": "stream",
     "text": [
      "('virus', 0.00027749196)\n",
      "('emerging', 0.00027749196)\n",
      "('loan', 0.00027749193)\n",
      "('vesuvius', 0.00027749187)\n",
      "('conspired', 0.0002774917)\n",
      "('grow', 0.0002774917)\n",
      "('thee', 0.0002774914)\n",
      "('frank', 0.00027749137)\n",
      "('elvis', 0.00027749132)\n",
      "('altcuiva', 0.00027749126)\n",
      "('away—he', 0.0002774907)\n",
      "('heralding', 0.0002774906)\n",
      "('rapid', 0.00027749047)\n",
      "('pună', 0.0002774904)\n",
      "('blank', 0.00027749036)\n",
      "('contain', 0.00027749012)\n",
      "('anybody', 0.00027749)\n",
      "('epsom', 0.00027749)\n",
      "('tatters', 0.00027749)\n",
      "('revolutioninterregnum', 0.0002774899)\n",
      "('publichtml', 0.0002774899)\n",
      "('commonspeech', 0.00027748971)\n",
      "('track', 0.00027748963)\n",
      "('embedded', 0.00027748937)\n",
      "('amendments', 0.00027748887)\n",
      "('view', 0.00027748826)\n",
      "('surprise', 0.00027748817)\n",
      "('nuanced', 0.00027748806)\n",
      "('policers', 0.00027748782)\n",
      "('recorder—doing', 0.00027748753)\n",
      "('onthefly', 0.00027748747)\n",
      "('fourteen', 0.00027748742)\n",
      "('cent', 0.00027748724)\n",
      "('successful', 0.00027748698)\n",
      "('219', 0.00027748683)\n",
      "('gellu', 0.0002774868)\n",
      "('lots', 0.00027748678)\n",
      "('capable', 0.00027748657)\n",
      "('statement', 0.00027748654)\n",
      "('except', 0.00027748628)\n",
      "('ești', 0.00027748622)\n",
      "('poststructuralist', 0.00027748614)\n"
     ]
    }
   ],
   "source": [
    "\n",
    "for i in range(3277, 3319):\n",
    "    print(l0[i])"
   ]
  },
  {
   "cell_type": "code",
   "execution_count": 49,
   "metadata": {},
   "outputs": [
    {
     "name": "stdout",
     "output_type": "stream",
     "text": [
      "('shooting', 0.00015470809)\n",
      "('ești', 0.00015470796)\n",
      "('except', 0.00015470793)\n",
      "('poststructuralist', 0.00015470793)\n",
      "('statement', 0.00015470787)\n",
      "('gellu', 0.00015470784)\n",
      "('capable', 0.00015470784)\n",
      "('lots', 0.00015470784)\n",
      "('219', 0.00015470783)\n",
      "('successful', 0.0001547078)\n",
      "('cent', 0.00015470776)\n",
      "('fourteen', 0.00015470773)\n",
      "('recorder—doing', 0.00015470768)\n",
      "('onthefly', 0.00015470768)\n",
      "('policers', 0.00015470762)\n",
      "('nuanced', 0.00015470761)\n",
      "('surprise', 0.00015470758)\n",
      "('view', 0.00015470752)\n",
      "('amendments', 0.00015470738)\n",
      "('track', 0.00015470733)\n",
      "('embedded', 0.00015470732)\n",
      "('commonspeech', 0.00015470729)\n",
      "('revolutioninterregnum', 0.00015470726)\n",
      "('epsom', 0.00015470723)\n",
      "('publichtml', 0.00015470723)\n",
      "('tatters', 0.0001547072)\n",
      "('contain', 0.0001547072)\n",
      "('anybody', 0.00015470719)\n",
      "('blank', 0.00015470716)\n",
      "('rapid', 0.00015470716)\n",
      "('pună', 0.00015470713)\n",
      "('heralding', 0.00015470712)\n",
      "('away—he', 0.00015470709)\n",
      "('thee', 0.00015470697)\n",
      "('frank', 0.00015470697)\n",
      "('altcuiva', 0.00015470697)\n",
      "('elvis', 0.00015470694)\n",
      "('grow', 0.00015470688)\n",
      "('conspired', 0.00015470688)\n",
      "('vesuvius', 0.00015470687)\n",
      "('loan', 0.00015470687)\n",
      "('emerging', 0.00015470687)\n"
     ]
    }
   ],
   "source": [
    "\n",
    "for i in range(1518, 1560):\n",
    "    print(l1[i])"
   ]
  },
  {
   "cell_type": "code",
   "execution_count": 50,
   "metadata": {},
   "outputs": [
    {
     "data": {
      "text/plain": [
       "3594"
      ]
     },
     "execution_count": 50,
     "metadata": {},
     "output_type": "execute_result"
    }
   ],
   "source": [
    "\n",
    "len(l0)"
   ]
  },
  {
   "cell_type": "code",
   "execution_count": 51,
   "metadata": {},
   "outputs": [
    {
     "name": "stdout",
     "output_type": "stream",
     "text": [
      "1695\n"
     ]
    }
   ],
   "source": [
    "\n",
    "for i in range(3594):\n",
    "    if l0[i][0]== \"arcane\":\n",
    "            print(i)"
   ]
  },
  {
   "cell_type": "code",
   "execution_count": 52,
   "metadata": {},
   "outputs": [
    {
     "name": "stdout",
     "output_type": "stream",
     "text": [
      "3143\n"
     ]
    }
   ],
   "source": [
    "for i in range(3593):\n",
    "    if l1[i][0]== \"arcane\":\n",
    "            print(i)"
   ]
  },
  {
   "cell_type": "code",
   "execution_count": 53,
   "metadata": {},
   "outputs": [
    {
     "name": "stdout",
     "output_type": "stream",
     "text": [
      "('goodbye', 0.0002776449)\n",
      "('doctoral', 0.00027764463)\n",
      "('primary', 0.0002776445)\n",
      "('feel', 0.00027764446)\n",
      "('eliminate', 0.00027764443)\n",
      "('digitizing', 0.00027764437)\n",
      "('seemingly', 0.00027764423)\n",
      "('prose', 0.00027764373)\n",
      "('compositions', 0.00027764364)\n",
      "('tattered', 0.0002776436)\n",
      "('pardonable', 0.0002776434)\n",
      "('develop', 0.0002776432)\n",
      "('resonance', 0.00027764315)\n",
      "('iarba', 0.00027764295)\n",
      "('dialogos', 0.00027764292)\n",
      "('knife', 0.0002776428)\n",
      "('centers', 0.00027764266)\n",
      "('canon', 0.0002776425)\n",
      "('climates', 0.00027764228)\n",
      "('fits', 0.0002776422)\n",
      "('forthcoming', 0.0002776421)\n",
      "('countries', 0.0002776421)\n",
      "('earnest', 0.00027764193)\n",
      "('occasionally', 0.00027764187)\n",
      "('succinctly', 0.00027764184)\n",
      "('wellknown', 0.0002776417)\n",
      "('foto', 0.00027764135)\n",
      "('frieze', 0.0002776412)\n",
      "('rubbing', 0.00027764088)\n",
      "('underway', 0.00027764088)\n",
      "('service', 0.00027764068)\n",
      "('arcane', 0.00027764068)\n",
      "('switch', 0.0002776405)\n",
      "('sauce', 0.0002776405)\n",
      "('involving', 0.00027764044)\n",
      "('irreverence', 0.00027764036)\n",
      "('angoasei', 0.00027764033)\n",
      "('inclined', 0.00027764024)\n",
      "('two—and', 0.00027764004)\n",
      "('vivid', 0.0002776399)\n",
      "('displayed', 0.00027763986)\n",
      "('waldman', 0.0002776398)\n",
      "('admit', 0.00027763975)\n",
      "('responsibility—to', 0.00027763972)\n",
      "('famous', 0.0002776396)\n",
      "('concerned', 0.00027763954)\n",
      "('riposte', 0.00027763954)\n",
      "('current', 0.0002776395)\n",
      "('perceived', 0.00027763925)\n",
      "('token', 0.00027763916)\n",
      "('editorship', 0.00027763905)\n",
      "('hybridization', 0.000277639)\n",
      "('deapoi', 0.0002776389)\n"
     ]
    }
   ],
   "source": [
    "\n",
    "for i in range(1664, 1717):\n",
    "    print(l0[i])"
   ]
  },
  {
   "cell_type": "code",
   "execution_count": 54,
   "metadata": {},
   "outputs": [
    {
     "name": "stdout",
     "output_type": "stream",
     "text": [
      "('token', 0.00015467918)\n",
      "('editorship', 0.00015467916)\n",
      "('perceived', 0.00015467915)\n",
      "('deapoi', 0.00015467915)\n",
      "('current', 0.0001546791)\n",
      "('concerned', 0.00015467909)\n",
      "('riposte', 0.00015467909)\n",
      "('famous', 0.00015467906)\n",
      "('responsibility—to', 0.00015467906)\n",
      "('admit', 0.00015467904)\n",
      "('vivid', 0.00015467903)\n",
      "('waldman', 0.00015467903)\n",
      "('displayed', 0.00015467902)\n",
      "('two—and', 0.000154679)\n",
      "('angoasei', 0.00015467894)\n",
      "('irreverence', 0.00015467894)\n",
      "('inclined', 0.00015467894)\n",
      "('involving', 0.00015467891)\n",
      "('switch', 0.0001546789)\n",
      "('service', 0.0001546789)\n",
      "('sauce', 0.0001546789)\n",
      "('arcane', 0.00015467888)\n",
      "('underway', 0.00015467884)\n",
      "('rubbing', 0.00015467881)\n",
      "('frieze', 0.0001546788)\n",
      "('foto', 0.00015467872)\n",
      "('wellknown', 0.00015467867)\n",
      "('succinctly', 0.00015467865)\n",
      "('occasionally', 0.00015467865)\n",
      "('earnest', 0.00015467862)\n",
      "('countries', 0.00015467861)\n",
      "('forthcoming', 0.00015467861)\n",
      "('fits', 0.00015467854)\n",
      "('climates', 0.00015467852)\n",
      "('centers', 0.0001546785)\n",
      "('canon', 0.0001546785)\n",
      "('knife', 0.00015467848)\n",
      "('dialogos', 0.00015467845)\n",
      "('iarba', 0.00015467842)\n",
      "('develop', 0.0001546784)\n",
      "('resonance', 0.0001546784)\n",
      "('compositions', 0.00015467833)\n"
     ]
    }
   ],
   "source": [
    "\n",
    "for i in range(3122, 3164):\n",
    "    print(l1[i])"
   ]
  },
  {
   "cell_type": "code",
   "execution_count": 56,
   "metadata": {},
   "outputs": [
    {
     "name": "stdout",
     "output_type": "stream",
     "text": [
      "1980\n"
     ]
    }
   ],
   "source": [
    "\n",
    "for i in range(3594):\n",
    "    if l0[i][0]== \"constrict\":\n",
    "            print(i)"
   ]
  },
  {
   "cell_type": "code",
   "execution_count": 57,
   "metadata": {},
   "outputs": [
    {
     "name": "stdout",
     "output_type": "stream",
     "text": [
      "2856\n"
     ]
    }
   ],
   "source": [
    "\n",
    "for i in range(3594):\n",
    "    if l1[i][0]== \"constrict\":\n",
    "            print(i)"
   ]
  },
  {
   "cell_type": "code",
   "execution_count": 29,
   "metadata": {},
   "outputs": [
    {
     "name": "stdout",
     "output_type": "stream",
     "text": [
      "3028\n"
     ]
    }
   ],
   "source": [
    "\n",
    "for i in range(3581):\n",
    "    if l0[i][0]== \"predetermined\":\n",
    "            print(i)"
   ]
  },
  {
   "cell_type": "code",
   "execution_count": 32,
   "metadata": {},
   "outputs": [
    {
     "name": "stdout",
     "output_type": "stream",
     "text": [
      "744\n"
     ]
    }
   ],
   "source": [
    "\n",
    "for i in range(3581):\n",
    "    if l0[i][0]== \"skill\":\n",
    "            print(i)"
   ]
  },
  {
   "cell_type": "code",
   "execution_count": 33,
   "metadata": {},
   "outputs": [
    {
     "name": "stdout",
     "output_type": "stream",
     "text": [
      "1185\n"
     ]
    }
   ],
   "source": [
    "\n",
    "for i in range(3581):\n",
    "    if l1[i][0]== \"skill\":\n",
    "            print(i)"
   ]
  },
  {
   "cell_type": "code",
   "execution_count": 34,
   "metadata": {},
   "outputs": [
    {
     "name": "stdout",
     "output_type": "stream",
     "text": [
      "('playing', 0.00025842636)\n",
      "('british', 0.00025842467)\n",
      "('previously', 0.00025842403)\n",
      "('objective', 0.0002584236)\n",
      "('connect', 0.00025842144)\n",
      "('references', 0.00025842144)\n",
      "('empty', 0.00025841905)\n",
      "('transcription', 0.00025841882)\n",
      "('acts', 0.00025841792)\n",
      "('composition', 0.00025841792)\n",
      "('peoples', 0.00025841736)\n",
      "('html', 0.0002584172)\n",
      "('taner', 0.00025841675)\n",
      "('tool', 0.00025841527)\n",
      "('javascript', 0.00025841463)\n",
      "('academia', 0.0002584143)\n",
      "('multidecade', 0.00025841428)\n",
      "('combined', 0.00025841393)\n",
      "('understanding', 0.00025841364)\n",
      "('similar', 0.0002584128)\n",
      "('1987', 0.00025841268)\n",
      "('investing', 0.000258412)\n",
      "('color', 0.0002584118)\n",
      "('factsheet', 0.00025841052)\n",
      "('recontextualized', 0.00025841026)\n",
      "('community', 0.00025841026)\n",
      "('contained', 0.00025841015)\n",
      "('guess', 0.00025841003)\n",
      "('deep', 0.0002584099)\n",
      "('tales', 0.00025840907)\n",
      "('operations', 0.00025840878)\n",
      "('skill', 0.0002584074)\n",
      "('feeling', 0.0002584073)\n",
      "('stuck', 0.00025840677)\n",
      "('src', 0.00025840665)\n",
      "('zero', 0.00025840648)\n",
      "('samples', 0.00025840642)\n",
      "('specific', 0.0002584063)\n",
      "('obscure', 0.00025840622)\n",
      "('unde', 0.00025840598)\n",
      "('method', 0.00025840563)\n",
      "('roughly', 0.00025840488)\n",
      "('conversation', 0.0002584048)\n",
      "('alongside', 0.00025840465)\n",
      "('runes', 0.00025840438)\n",
      "('stated', 0.000258404)\n",
      "('guitar', 0.0002584034)\n",
      "('human', 0.0002584031)\n",
      "('history', 0.00025840302)\n",
      "('piss', 0.00025840287)\n",
      "('turned', 0.00025840272)\n",
      "('lack', 0.00025840252)\n"
     ]
    }
   ],
   "source": [
    "\n",
    "for i in range(713, 765):\n",
    "              print(l0[i])"
   ]
  },
  {
   "cell_type": "code",
   "execution_count": 35,
   "metadata": {},
   "outputs": [
    {
     "name": "stdout",
     "output_type": "stream",
     "text": [
      "('bored', 0.00027879715)\n",
      "('lack', 0.00027879662)\n",
      "('turned', 0.00027879523)\n",
      "('piss', 0.0002787946)\n",
      "('history', 0.00027879397)\n",
      "('human', 0.0002787934)\n",
      "('guitar', 0.00027879182)\n",
      "('stated', 0.0002787888)\n",
      "('runes', 0.00027878647)\n",
      "('alongside', 0.00027878516)\n",
      "('conversation', 0.00027878452)\n",
      "('roughly', 0.00027878396)\n",
      "('method', 0.00027877965)\n",
      "('unde', 0.00027877817)\n",
      "('obscure', 0.00027877686)\n",
      "('specific', 0.00027877637)\n",
      "('samples', 0.000278776)\n",
      "('zero', 0.0002787757)\n",
      "('src', 0.00027877427)\n",
      "('stuck', 0.0002787739)\n",
      "('feeling', 0.000278771)\n",
      "('skill', 0.00027877055)\n",
      "('operations', 0.00027876304)\n",
      "('tales', 0.00027876173)\n",
      "('deep', 0.00027875675)\n",
      "('guess', 0.00027875637)\n",
      "('contained', 0.00027875594)\n",
      "('recontextualized', 0.00027875532)\n",
      "('community', 0.00027875495)\n",
      "('factsheet', 0.0002787539)\n",
      "('color', 0.00027874738)\n",
      "('investing', 0.00027874572)\n",
      "('1987', 0.00027874234)\n",
      "('similar', 0.00027874167)\n",
      "('understanding', 0.00027873728)\n",
      "('combined', 0.00027873556)\n",
      "('multidecade', 0.00027873393)\n",
      "('academia', 0.0002787335)\n",
      "('javascript', 0.00027873198)\n",
      "('tool', 0.0002787285)\n",
      "('taner', 0.00027872046)\n",
      "('html', 0.0002787184)\n"
     ]
    }
   ],
   "source": [
    "\n",
    "for i in range(1164, 1206):\n",
    "              print(l1[i])"
   ]
  },
  {
   "cell_type": "code",
   "execution_count": 36,
   "metadata": {},
   "outputs": [
    {
     "name": "stdout",
     "output_type": "stream",
     "text": [
      "1668\n"
     ]
    }
   ],
   "source": [
    "\n",
    "for i in range(3581):\n",
    "    if l0[i][0]== \"sifting\":\n",
    "            print(i)"
   ]
  },
  {
   "cell_type": "code",
   "execution_count": 37,
   "metadata": {},
   "outputs": [
    {
     "name": "stdout",
     "output_type": "stream",
     "text": [
      "3160\n"
     ]
    }
   ],
   "source": [
    "\n",
    "for i in range(3581):\n",
    "    if l1[i][0]== \"sifting\":\n",
    "            print(i)"
   ]
  },
  {
   "cell_type": "code",
   "execution_count": 38,
   "metadata": {},
   "outputs": [
    {
     "name": "stdout",
     "output_type": "stream",
     "text": [
      "('amazon', 0.00015502032)\n",
      "('operation', 0.0001550203)\n",
      "('chipping', 0.00015502027)\n",
      "('crowded', 0.00015502027)\n",
      "('încă', 0.00015502026)\n",
      "('fanzine', 0.00015502024)\n",
      "('catching', 0.0001550202)\n",
      "('passes', 0.0001550201)\n",
      "('generated', 0.00015502007)\n",
      "('worldwide', 0.00015502005)\n",
      "('mediumrelated', 0.00015502)\n",
      "('opinion—mere', 0.00015501998)\n",
      "('orchestrating', 0.00015501992)\n",
      "('majorminor—', 0.00015501982)\n",
      "('anything', 0.00015501982)\n",
      "('incompetent', 0.00015501972)\n",
      "('outdated', 0.0001550197)\n",
      "('—protagonist', 0.00015501968)\n",
      "('streamlined', 0.0001550196)\n",
      "('caring', 0.0001550196)\n",
      "('illuminates', 0.00015501957)\n",
      "('sifting', 0.00015501957)\n",
      "('existence', 0.00015501952)\n",
      "('shock—', 0.0001550195)\n",
      "('prose', 0.0001550195)\n",
      "('discourse—even', 0.00015501949)\n",
      "('behind', 0.00015501941)\n",
      "('proper', 0.00015501933)\n",
      "('disc', 0.00015501921)\n",
      "('amendments', 0.00015501921)\n",
      "('instructive', 0.00015501914)\n",
      "('variation', 0.00015501911)\n",
      "('proximate', 0.00015501911)\n",
      "('aerului', 0.00015501911)\n",
      "('riff', 0.00015501911)\n",
      "('capacity', 0.00015501896)\n",
      "('reaching', 0.00015501892)\n",
      "('lacks', 0.00015501886)\n",
      "('trebuie', 0.00015501883)\n",
      "('righting', 0.00015501872)\n",
      "('sketchpad', 0.00015501864)\n",
      "('hobby', 0.00015501864)\n"
     ]
    }
   ],
   "source": [
    "\n",
    "for i in range(1647, 1689):\n",
    "              print(l0[i])"
   ]
  },
  {
   "cell_type": "code",
   "execution_count": 39,
   "metadata": {},
   "outputs": [
    {
     "name": "stdout",
     "output_type": "stream",
     "text": [
      "('sketchpad', 0.0002780058)\n",
      "('righting', 0.00027800564)\n",
      "('trebuie', 0.000278005)\n",
      "('lacks', 0.00027800477)\n",
      "('reaching', 0.00027800445)\n",
      "('capacity', 0.00027800436)\n",
      "('riff', 0.0002780036)\n",
      "('aerului', 0.00027800357)\n",
      "('proximate', 0.0002780035)\n",
      "('variation', 0.00027800346)\n",
      "('instructive', 0.00027800322)\n",
      "('disc', 0.00027800296)\n",
      "('amendments', 0.00027800282)\n",
      "('proper', 0.00027800226)\n",
      "('behind', 0.00027800165)\n",
      "('shock—', 0.0002780015)\n",
      "('discourse—even', 0.00027800148)\n",
      "('existence', 0.0002780014)\n",
      "('prose', 0.00027800133)\n",
      "('illuminates', 0.000278001)\n",
      "('streamlined', 0.00027800084)\n",
      "('sifting', 0.00027800084)\n",
      "('caring', 0.00027800084)\n",
      "('—protagonist', 0.00027800055)\n",
      "('outdated', 0.00027800037)\n",
      "('incompetent', 0.00027800025)\n",
      "('majorminor—', 0.00027799982)\n",
      "('anything', 0.0002779997)\n",
      "('orchestrating', 0.0002779991)\n",
      "('mediumrelated', 0.00027799883)\n",
      "('opinion—mere', 0.0002779988)\n",
      "('generated', 0.00027799845)\n",
      "('passes', 0.00027799825)\n",
      "('worldwide', 0.00027799822)\n",
      "('catching', 0.00027799763)\n",
      "('crowded', 0.00027799743)\n",
      "('fanzine', 0.0002779974)\n",
      "('încă', 0.00027799726)\n",
      "('chipping', 0.0002779972)\n",
      "('operation', 0.00027799708)\n",
      "('amazon', 0.00027799702)\n",
      "('environment', 0.00027799682)\n"
     ]
    }
   ],
   "source": [
    "\n",
    "for i in range(3139, 3181):\n",
    "              print(l1[i])"
   ]
  },
  {
   "cell_type": "code",
   "execution_count": 40,
   "metadata": {},
   "outputs": [
    {
     "name": "stdout",
     "output_type": "stream",
     "text": [
      "3215\n"
     ]
    }
   ],
   "source": [
    "\n",
    "for i in range(3581):\n",
    "    if l0[i][0]== \"curse\":\n",
    "            print(i)"
   ]
  },
  {
   "cell_type": "code",
   "execution_count": 41,
   "metadata": {},
   "outputs": [
    {
     "name": "stdout",
     "output_type": "stream",
     "text": [
      "1611\n"
     ]
    }
   ],
   "source": [
    "\n",
    "for i in range(3581):\n",
    "    if l1[i][0]== \"curse\":\n",
    "            print(i)"
   ]
  },
  {
   "cell_type": "code",
   "execution_count": 42,
   "metadata": {},
   "outputs": [
    {
     "name": "stdout",
     "output_type": "stream",
     "text": [
      "('efficient', 0.00015497641)\n",
      "('interval', 0.00015497638)\n",
      "('overlooked', 0.00015497633)\n",
      "('discouraging', 0.00015497631)\n",
      "('attending', 0.00015497608)\n",
      "('explorations', 0.00015497606)\n",
      "('halfway', 0.00015497603)\n",
      "('variously', 0.000154976)\n",
      "('dawn', 0.00015497599)\n",
      "('supplement', 0.00015497599)\n",
      "('personally', 0.00015497599)\n",
      "('dintre', 0.00015497596)\n",
      "('fourteen', 0.00015497593)\n",
      "('guided', 0.00015497592)\n",
      "('inconsistent', 0.00015497589)\n",
      "('ours', 0.00015497585)\n",
      "('twice', 0.00015497585)\n",
      "('experimental', 0.00015497579)\n",
      "('dries', 0.00015497574)\n",
      "('prescient', 0.00015497574)\n",
      "('density', 0.00015497571)\n",
      "('curse', 0.00015497571)\n",
      "('bluster', 0.00015497569)\n",
      "('exorbitant', 0.00015497567)\n",
      "('persevere', 0.0001549756)\n",
      "('dies', 0.00015497557)\n",
      "('protagonists', 0.00015497551)\n",
      "('possessing', 0.00015497544)\n",
      "('renewal', 0.00015497534)\n",
      "('news', 0.00015497528)\n",
      "('anglosaxon', 0.00015497525)\n",
      "('legroom', 0.00015497523)\n",
      "('containing', 0.00015497519)\n",
      "('intersecție', 0.00015497515)\n",
      "('mistreated', 0.00015497507)\n",
      "('zeului', 0.00015497505)\n",
      "('web—might', 0.00015497497)\n",
      "('fumbling', 0.00015497494)\n",
      "('sadly', 0.00015497478)\n",
      "('layering', 0.00015497472)\n",
      "('loop', 0.00015497471)\n",
      "('onstage', 0.00015497468)\n"
     ]
    }
   ],
   "source": [
    "\n",
    "for i in range(3194, 3236):\n",
    "              print(l0[i])"
   ]
  },
  {
   "cell_type": "code",
   "execution_count": 43,
   "metadata": {},
   "outputs": [
    {
     "name": "stdout",
     "output_type": "stream",
     "text": [
      "('elizabethanrestoration', 0.00027823955)\n",
      "('onstage', 0.00027823928)\n",
      "('loop', 0.0002782391)\n",
      "('layering', 0.0002782391)\n",
      "('sadly', 0.0002782387)\n",
      "('fumbling', 0.0002782379)\n",
      "('web—might', 0.00027823768)\n",
      "('zeului', 0.00027823733)\n",
      "('mistreated', 0.0002782371)\n",
      "('intersecție', 0.00027823675)\n",
      "('containing', 0.00027823646)\n",
      "('anglosaxon', 0.00027823634)\n",
      "('legroom', 0.00027823626)\n",
      "('news', 0.00027823605)\n",
      "('renewal', 0.0002782358)\n",
      "('possessing', 0.00027823524)\n",
      "('protagonists', 0.00027823483)\n",
      "('dies', 0.00027823454)\n",
      "('persevere', 0.0002782345)\n",
      "('exorbitant', 0.00027823407)\n",
      "('bluster', 0.0002782339)\n",
      "('curse', 0.0002782338)\n",
      "('density', 0.00027823378)\n",
      "('prescient', 0.00027823375)\n",
      "('dries', 0.00027823355)\n",
      "('experimental', 0.0002782334)\n",
      "('twice', 0.00027823306)\n",
      "('ours', 0.0002782329)\n",
      "('guided', 0.00027823282)\n",
      "('inconsistent', 0.0002782327)\n",
      "('fourteen', 0.00027823268)\n",
      "('dintre', 0.00027823247)\n",
      "('personally', 0.00027823244)\n",
      "('supplement', 0.0002782324)\n",
      "('dawn', 0.00027823233)\n",
      "('variously', 0.00027823227)\n",
      "('halfway', 0.00027823198)\n",
      "('explorations', 0.0002782319)\n",
      "('attending', 0.0002782318)\n",
      "('discouraging', 0.00027823047)\n",
      "('overlooked', 0.0002782304)\n",
      "('interval', 0.0002782303)\n"
     ]
    }
   ],
   "source": [
    "\n",
    "for i in range(1590, 1632):\n",
    "              print(l1[i])"
   ]
  },
  {
   "cell_type": "code",
   "execution_count": 26,
   "metadata": {},
   "outputs": [
    {
     "name": "stdout",
     "output_type": "stream",
     "text": [
      "1714\n"
     ]
    }
   ],
   "source": [
    "\n",
    "for i in range(3647):\n",
    "    if l0[i][0]== \"shunned\":\n",
    "            print(i)"
   ]
  },
  {
   "cell_type": "code",
   "execution_count": 27,
   "metadata": {},
   "outputs": [
    {
     "name": "stdout",
     "output_type": "stream",
     "text": [
      "3151\n"
     ]
    }
   ],
   "source": [
    "\n",
    "for i in range(3647):\n",
    "    if l1[i][0]== \"shunned\":\n",
    "            print(i)"
   ]
  },
  {
   "cell_type": "code",
   "execution_count": 28,
   "metadata": {},
   "outputs": [
    {
     "name": "stdout",
     "output_type": "stream",
     "text": [
      "('derbydays', 0.0002732741)\n",
      "('emphasises', 0.00027327397)\n",
      "('affective', 0.00027327394)\n",
      "('diminish', 0.00027327376)\n",
      "('warmer', 0.00027327376)\n",
      "('microcollections', 0.00027327362)\n",
      "('dimension', 0.0002732735)\n",
      "('beddeddown', 0.00027327298)\n",
      "('transcreation', 0.0002732725)\n",
      "('hotel', 0.00027327178)\n",
      "('nations', 0.00027327167)\n",
      "('pânla', 0.0002732709)\n",
      "('dreaming', 0.00027327068)\n",
      "('before—', 0.0002732703)\n",
      "('factsheet', 0.00027327024)\n",
      "('cover', 0.00027327013)\n",
      "('woke', 0.0002732698)\n",
      "('tide—', 0.00027326954)\n",
      "('torchgod', 0.0002732693)\n",
      "('relevant', 0.0002732692)\n",
      "('procedură', 0.00027326905)\n",
      "('shunned', 0.00027326884)\n",
      "('cunning', 0.0002732686)\n",
      "('ours', 0.00027326855)\n",
      "('snappy', 0.00027326847)\n",
      "('african', 0.0002732684)\n",
      "('relevance', 0.00027326835)\n",
      "('woodside', 0.0002732683)\n",
      "('lorrain', 0.0002732682)\n",
      "('dread', 0.00027326812)\n",
      "('conceptual', 0.0002732681)\n",
      "('unaware', 0.00027326806)\n",
      "('ethos', 0.000273268)\n",
      "('anew', 0.00027326788)\n",
      "('list', 0.00027326783)\n",
      "('conjunction', 0.00027326727)\n",
      "('grate', 0.000273267)\n",
      "('strangled', 0.00027326628)\n",
      "('unstuck', 0.00027326608)\n",
      "('lathy', 0.00027326585)\n",
      "('ovidexile', 0.00027326576)\n",
      "('jove', 0.00027326567)\n"
     ]
    }
   ],
   "source": [
    "\n",
    "for i in range(1693, 1735):\n",
    "              print(l0[i])"
   ]
  },
  {
   "cell_type": "code",
   "execution_count": 29,
   "metadata": {},
   "outputs": [
    {
     "name": "stdout",
     "output_type": "stream",
     "text": [
      "('lathy', 0.00015714167)\n",
      "('unstuck', 0.00015714167)\n",
      "('strangled', 0.00015714162)\n",
      "('grate', 0.00015714146)\n",
      "('conjunction', 0.00015714142)\n",
      "('anew', 0.00015714132)\n",
      "('list', 0.00015714132)\n",
      "('unaware', 0.00015714129)\n",
      "('conceptual', 0.00015714129)\n",
      "('ethos', 0.00015714127)\n",
      "('dread', 0.00015714124)\n",
      "('lorrain', 0.00015714124)\n",
      "('woodside', 0.00015714124)\n",
      "('african', 0.00015714123)\n",
      "('relevance', 0.00015714118)\n",
      "('ours', 0.00015714117)\n",
      "('snappy', 0.00015714117)\n",
      "('cunning', 0.00015714111)\n",
      "('procedură', 0.0001571411)\n",
      "('relevant', 0.00015714105)\n",
      "('torchgod', 0.00015714104)\n",
      "('shunned', 0.00015714104)\n",
      "('tide—', 0.000157141)\n",
      "('woke', 0.00015714095)\n",
      "('cover', 0.0001571409)\n",
      "('before—', 0.00015714085)\n",
      "('factsheet', 0.00015714084)\n",
      "('dreaming', 0.00015714075)\n",
      "('pânla', 0.0001571407)\n",
      "('hotel', 0.00015714056)\n",
      "('nations', 0.00015714054)\n",
      "('transcreation', 0.00015714038)\n",
      "('beddeddown', 0.0001571403)\n",
      "('dimension', 0.00015714021)\n",
      "('microcollections', 0.0001571402)\n",
      "('affective', 0.00015714014)\n",
      "('warmer', 0.00015714014)\n",
      "('emphasises', 0.00015714012)\n",
      "('diminish', 0.00015714012)\n",
      "('jukebox', 0.00015714008)\n",
      "('skip', 0.00015714008)\n",
      "('derbydays', 0.00015714006)\n"
     ]
    }
   ],
   "source": [
    "\n",
    "for i in range(3130, 3172):\n",
    "              print(l1[i])"
   ]
  },
  {
   "cell_type": "code",
   "execution_count": 30,
   "metadata": {},
   "outputs": [
    {
     "name": "stdout",
     "output_type": "stream",
     "text": [
      "3381\n"
     ]
    }
   ],
   "source": [
    "\n",
    "for i in range(3647):\n",
    "    if l0[i][0]== \"abroad\":\n",
    "            print(i)"
   ]
  },
  {
   "cell_type": "code",
   "execution_count": 31,
   "metadata": {},
   "outputs": [
    {
     "name": "stdout",
     "output_type": "stream",
     "text": [
      "1483\n"
     ]
    }
   ],
   "source": [
    "for i in range(3647):\n",
    "    if l1[i][0]== \"abroad\":\n",
    "            print(i)"
   ]
  },
  {
   "cell_type": "code",
   "execution_count": 32,
   "metadata": {},
   "outputs": [
    {
     "name": "stdout",
     "output_type": "stream",
     "text": [
      "('documentaryaudio', 0.00027304102)\n",
      "('grown', 0.00027304085)\n",
      "('honour', 0.00027304076)\n",
      "('algorithm', 0.00027304073)\n",
      "('hobby', 0.0002730406)\n",
      "('are—', 0.00027304055)\n",
      "('muggers—', 0.00027304035)\n",
      "('existence', 0.0002730403)\n",
      "('majesty', 0.0002730403)\n",
      "('poeticdiscourse', 0.00027303965)\n",
      "('shed', 0.00027303942)\n",
      "('tenets', 0.00027303895)\n",
      "('stifling', 0.0002730389)\n",
      "('leaf', 0.00027303887)\n",
      "('alvin', 0.00027303875)\n",
      "('deserves', 0.0002730385)\n",
      "('plant', 0.00027303837)\n",
      "('muffle', 0.00027303834)\n",
      "('words—', 0.00027303808)\n",
      "('geographical', 0.00027303796)\n",
      "('perceived', 0.00027303796)\n",
      "('abroad', 0.0002730379)\n",
      "('selfmotivated', 0.00027303776)\n",
      "('ie', 0.00027303764)\n",
      "('drum', 0.0002730374)\n",
      "('subsaharan', 0.00027303718)\n",
      "('linguistically', 0.0002730371)\n",
      "('household', 0.00027303683)\n",
      "('tobacco', 0.00027303645)\n",
      "('institution', 0.00027303636)\n",
      "('fall', 0.0002730359)\n",
      "('saucy', 0.00027303584)\n",
      "('wanted', 0.00027303584)\n",
      "('pose', 0.00027303578)\n",
      "('leaving', 0.00027303555)\n",
      "('happened', 0.00027303497)\n",
      "('forgotten', 0.0002730345)\n",
      "('curtain', 0.00027303435)\n",
      "('discusses', 0.00027303398)\n",
      "('develop', 0.0002730338)\n",
      "('actor', 0.00027303345)\n",
      "('horror', 0.00027303313)\n"
     ]
    }
   ],
   "source": [
    "\n",
    "for i in range(3360, 3402):\n",
    "              print(l0[i])"
   ]
  },
  {
   "cell_type": "code",
   "execution_count": 33,
   "metadata": {},
   "outputs": [
    {
     "name": "stdout",
     "output_type": "stream",
     "text": [
      "('actor', 0.00015718688)\n",
      "('develop', 0.00015718683)\n",
      "('discusses', 0.00015718675)\n",
      "('curtain', 0.00015718672)\n",
      "('forgotten', 0.00015718669)\n",
      "('happened', 0.00015718656)\n",
      "('leaving', 0.0001571865)\n",
      "('saucy', 0.00015718644)\n",
      "('wanted', 0.00015718641)\n",
      "('fall', 0.00015718641)\n",
      "('pose', 0.00015718641)\n",
      "('institution', 0.00015718632)\n",
      "('tobacco', 0.0001571863)\n",
      "('household', 0.00015718624)\n",
      "('linguistically', 0.0001571862)\n",
      "('subsaharan', 0.00015718616)\n",
      "('ie', 0.0001571861)\n",
      "('drum', 0.00015718606)\n",
      "('selfmotivated', 0.00015718605)\n",
      "('geographical', 0.00015718602)\n",
      "('perceived', 0.00015718602)\n",
      "('abroad', 0.00015718602)\n",
      "('words—', 0.000157186)\n",
      "('plant', 0.00015718593)\n",
      "('muffle', 0.00015718592)\n",
      "('deserves', 0.00015718592)\n",
      "('alvin', 0.00015718582)\n",
      "('leaf', 0.00015718582)\n",
      "('stifling', 0.00015718582)\n",
      "('tenets', 0.00015718579)\n",
      "('shed', 0.00015718574)\n",
      "('poeticdiscourse', 0.00015718571)\n",
      "('majesty', 0.00015718557)\n",
      "('existence', 0.00015718557)\n",
      "('muggers—', 0.00015718554)\n",
      "('hobby', 0.00015718551)\n",
      "('are—', 0.00015718551)\n",
      "('algorithm', 0.0001571855)\n",
      "('grown', 0.00015718547)\n",
      "('honour', 0.00015718542)\n",
      "('documentaryaudio', 0.00015718542)\n",
      "('centers', 0.00015718536)\n"
     ]
    }
   ],
   "source": [
    "\n",
    "for i in range(1462, 1504):\n",
    "              print(l1[i])"
   ]
  },
  {
   "cell_type": "code",
   "execution_count": 34,
   "metadata": {},
   "outputs": [
    {
     "name": "stdout",
     "output_type": "stream",
     "text": [
      "201\n"
     ]
    }
   ],
   "source": [
    "\n",
    "for i in range(3647):\n",
    "    if l0[i][0]== \"minor\":\n",
    "            print(i)"
   ]
  },
  {
   "cell_type": "code",
   "execution_count": 35,
   "metadata": {},
   "outputs": [
    {
     "name": "stdout",
     "output_type": "stream",
     "text": [
      "212\n"
     ]
    }
   ],
   "source": [
    "for i in range(3647):\n",
    "    if l1[i][0]== \"minor\":\n",
    "            print(i)"
   ]
  },
  {
   "cell_type": "code",
   "execution_count": 36,
   "metadata": {},
   "outputs": [
    {
     "name": "stdout",
     "output_type": "stream",
     "text": [
      "('electronic', 0.00027829662)\n",
      "('after', 0.00027827456)\n",
      "('people', 0.0002782712)\n",
      "('agree', 0.00027826565)\n",
      "('power', 0.0002782571)\n",
      "('performance', 0.0002782091)\n",
      "('network', 0.0002781543)\n",
      "('naropa', 0.00027814668)\n",
      "('death', 0.00027812482)\n",
      "('full', 0.000278111)\n",
      "('access', 0.00027806373)\n",
      "('applied', 0.00027805698)\n",
      "('level', 0.0002780486)\n",
      "('uniting', 0.0002780432)\n",
      "('group', 0.00027803984)\n",
      "('efforts', 0.00027803276)\n",
      "('diddley', 0.0002779822)\n",
      "('pattern', 0.00027795622)\n",
      "('editors', 0.00027792886)\n",
      "('never', 0.00027792106)\n",
      "('published', 0.0002778932)\n",
      "('minor', 0.00027789167)\n",
      "('beyond', 0.00027786597)\n",
      "('truth', 0.0002778314)\n",
      "('useful', 0.00027782834)\n",
      "('fine', 0.00027781984)\n",
      "('documentary', 0.00027775558)\n",
      "('book', 0.00027774757)\n",
      "('until', 0.00027773622)\n",
      "('contemporary', 0.0002777344)\n",
      "('perfect', 0.00027768442)\n",
      "('went', 0.000277675)\n",
      "('computers', 0.00027766597)\n",
      "('2012', 0.0002776626)\n",
      "('towards', 0.0002776595)\n",
      "('process', 0.0002776591)\n",
      "('despair', 0.00027764624)\n",
      "('night', 0.00027764085)\n",
      "('poor', 0.00027761725)\n",
      "('problem', 0.00027756547)\n",
      "('fourfour', 0.0002775642)\n",
      "('dislocation', 0.0002775618)\n"
     ]
    }
   ],
   "source": [
    "\n",
    "for i in range(180, 222):\n",
    "              print(l0[i])"
   ]
  },
  {
   "cell_type": "code",
   "execution_count": 41,
   "metadata": {},
   "outputs": [
    {
     "name": "stdout",
     "output_type": "stream",
     "text": [
      "2869\n"
     ]
    }
   ],
   "source": [
    "\n",
    "for i in range(3647):\n",
    "    if l0[i][0]== \"canon\":\n",
    "            print(i)"
   ]
  },
  {
   "cell_type": "code",
   "execution_count": 42,
   "metadata": {},
   "outputs": [
    {
     "name": "stdout",
     "output_type": "stream",
     "text": [
      "1993\n"
     ]
    }
   ],
   "source": [
    "\n",
    "for i in range(3647):\n",
    "    if l1[i][0]== \"canon\":\n",
    "            print(i)"
   ]
  },
  {
   "cell_type": "code",
   "execution_count": 43,
   "metadata": {},
   "outputs": [
    {
     "name": "stdout",
     "output_type": "stream",
     "text": [
      "('hefty', 0.00027312408)\n",
      "('foremost', 0.00027312408)\n",
      "('separated', 0.00027312382)\n",
      "('inspired', 0.00027312376)\n",
      "('writer', 0.00027312362)\n",
      "('halfway', 0.0002731235)\n",
      "('equally', 0.00027312347)\n",
      "('considering', 0.00027312335)\n",
      "('regard', 0.00027312327)\n",
      "('ignored', 0.0002731232)\n",
      "('depths', 0.00027312292)\n",
      "('repetition—', 0.00027312274)\n",
      "('punk', 0.0002731227)\n",
      "('nuance', 0.0002731223)\n",
      "('sell', 0.00027312187)\n",
      "('wikipedia', 0.00027312178)\n",
      "('herein', 0.00027312175)\n",
      "('possibility', 0.00027312167)\n",
      "('blasting', 0.00027312135)\n",
      "('potentials', 0.00027312126)\n",
      "('graphical', 0.0002731211)\n",
      "('canon', 0.00027312097)\n",
      "('found—and', 0.0002731207)\n",
      "('njit', 0.00027312047)\n",
      "('watergift', 0.0002731204)\n",
      "('scattered', 0.00027312033)\n",
      "('viable', 0.00027312012)\n",
      "('repast', 0.00027312007)\n",
      "('suprafața', 0.00027311995)\n",
      "('couldn', 0.00027311995)\n",
      "('computational', 0.0002731199)\n",
      "('poetul', 0.0002731198)\n",
      "('ripped', 0.00027311975)\n",
      "('scenele', 0.0002731196)\n",
      "('visualdesign', 0.0002731195)\n",
      "('takeitback', 0.00027311945)\n",
      "('tutun', 0.00027311934)\n",
      "('receiver', 0.0002731193)\n",
      "('halfbaked', 0.00027311925)\n",
      "('leather', 0.00027311884)\n",
      "('bright', 0.0002731188)\n",
      "('substance', 0.00027311876)\n"
     ]
    }
   ],
   "source": [
    "\n",
    "for i in range(2848, 2890):\n",
    "              print(l0[i])"
   ]
  },
  {
   "cell_type": "code",
   "execution_count": 44,
   "metadata": {},
   "outputs": [
    {
     "name": "stdout",
     "output_type": "stream",
     "text": [
      "('awaiting', 0.00015717033)\n",
      "('leather', 0.0001571703)\n",
      "('bright', 0.0001571703)\n",
      "('substance', 0.0001571703)\n",
      "('tutun', 0.00015717022)\n",
      "('receiver', 0.0001571702)\n",
      "('scenele', 0.00015717017)\n",
      "('halfbaked', 0.00015717017)\n",
      "('takeitback', 0.00015717016)\n",
      "('visualdesign', 0.00015717014)\n",
      "('ripped', 0.00015717013)\n",
      "('poetul', 0.0001571701)\n",
      "('suprafața', 0.0001571701)\n",
      "('couldn', 0.00015717007)\n",
      "('computational', 0.00015717007)\n",
      "('viable', 0.00015717006)\n",
      "('repast', 0.00015717006)\n",
      "('watergift', 0.00015717)\n",
      "('scattered', 0.00015717)\n",
      "('njit', 0.00015716995)\n",
      "('found—and', 0.00015716992)\n",
      "('canon', 0.00015716988)\n",
      "('graphical', 0.00015716985)\n",
      "('potentials', 0.00015716981)\n",
      "('blasting', 0.00015716978)\n",
      "('herein', 0.00015716972)\n",
      "('wikipedia', 0.0001571697)\n",
      "('sell', 0.00015716969)\n",
      "('possibility', 0.00015716969)\n",
      "('nuance', 0.00015716962)\n",
      "('punk', 0.00015716955)\n",
      "('depths', 0.00015716949)\n"
     ]
    }
   ],
   "source": [
    "\n",
    "for i in range(1972, 2004):\n",
    "              print(l1[i])"
   ]
  },
  {
   "cell_type": "code",
   "execution_count": 45,
   "metadata": {},
   "outputs": [
    {
     "name": "stdout",
     "output_type": "stream",
     "text": [
      "3356\n"
     ]
    }
   ],
   "source": [
    "\n",
    "for i in range(3647):\n",
    "    if l0[i][0]== \"sofa\":\n",
    "            print(i)"
   ]
  },
  {
   "cell_type": "code",
   "execution_count": 46,
   "metadata": {},
   "outputs": [
    {
     "name": "stdout",
     "output_type": "stream",
     "text": [
      "1505\n"
     ]
    }
   ],
   "source": [
    "for i in range(3647):\n",
    "    if l1[i][0]== \"sofa\":\n",
    "            print(i)"
   ]
  },
  {
   "cell_type": "code",
   "execution_count": 47,
   "metadata": {},
   "outputs": [
    {
     "name": "stdout",
     "output_type": "stream",
     "text": [
      "('gust', 0.00027304594)\n",
      "('reckoning', 0.00027304582)\n",
      "('founded', 0.00027304553)\n",
      "('looms', 0.0002730453)\n",
      "('land', 0.0002730451)\n",
      "('realizării', 0.00027304483)\n",
      "('ămândă', 0.0002730447)\n",
      "('zimbri', 0.00027304454)\n",
      "('thoroughly', 0.00027304448)\n",
      "('generarea', 0.0002730442)\n",
      "('foundations', 0.00027304355)\n",
      "('explorable', 0.00027304352)\n",
      "('reflect', 0.00027304344)\n",
      "('organize', 0.00027304338)\n",
      "('amplification', 0.00027304285)\n",
      "('fulllength', 0.0002730428)\n",
      "('trăgând', 0.00027304213)\n",
      "('mâncare', 0.00027304213)\n",
      "('passes', 0.00027304198)\n",
      "('courses', 0.00027304192)\n",
      "('territory', 0.00027304178)\n",
      "('sofa', 0.00027304163)\n",
      "('enclose', 0.00027304157)\n",
      "('conversion', 0.00027304143)\n",
      "('centers', 0.00027304125)\n",
      "('documentaryaudio', 0.00027304102)\n",
      "('grown', 0.00027304085)\n",
      "('honour', 0.00027304076)\n",
      "('algorithm', 0.00027304073)\n",
      "('hobby', 0.0002730406)\n",
      "('are—', 0.00027304055)\n",
      "('muggers—', 0.00027304035)\n",
      "('existence', 0.0002730403)\n",
      "('majesty', 0.0002730403)\n",
      "('poeticdiscourse', 0.00027303965)\n",
      "('shed', 0.00027303942)\n",
      "('tenets', 0.00027303895)\n",
      "('stifling', 0.0002730389)\n",
      "('leaf', 0.00027303887)\n",
      "('alvin', 0.00027303875)\n",
      "('deserves', 0.0002730385)\n",
      "('plant', 0.00027303837)\n"
     ]
    }
   ],
   "source": [
    "\n",
    "for i in range(3335, 3377):\n",
    "              print(l0[i])"
   ]
  },
  {
   "cell_type": "code",
   "execution_count": 48,
   "metadata": {},
   "outputs": [
    {
     "name": "stdout",
     "output_type": "stream",
     "text": [
      "('words—', 0.000157186)\n",
      "('plant', 0.00015718593)\n",
      "('muffle', 0.00015718592)\n",
      "('deserves', 0.00015718592)\n",
      "('alvin', 0.00015718582)\n",
      "('leaf', 0.00015718582)\n",
      "('stifling', 0.00015718582)\n",
      "('tenets', 0.00015718579)\n",
      "('shed', 0.00015718574)\n",
      "('poeticdiscourse', 0.00015718571)\n",
      "('majesty', 0.00015718557)\n",
      "('existence', 0.00015718557)\n",
      "('muggers—', 0.00015718554)\n",
      "('hobby', 0.00015718551)\n",
      "('are—', 0.00015718551)\n",
      "('algorithm', 0.0001571855)\n",
      "('grown', 0.00015718547)\n",
      "('honour', 0.00015718542)\n",
      "('documentaryaudio', 0.00015718542)\n",
      "('centers', 0.00015718536)\n",
      "('conversion', 0.00015718534)\n",
      "('sofa', 0.00015718534)\n",
      "('enclose', 0.00015718532)\n",
      "('territory', 0.00015718525)\n",
      "('trăgând', 0.00015718525)\n",
      "('passes', 0.00015718525)\n",
      "('mâncare', 0.00015718522)\n",
      "('courses', 0.00015718519)\n",
      "('amplification', 0.00015718507)\n",
      "('fulllength', 0.00015718507)\n",
      "('reflect', 0.00015718497)\n",
      "('organize', 0.00015718494)\n",
      "('explorable', 0.00015718494)\n",
      "('foundations', 0.00015718491)\n",
      "('generarea', 0.00015718481)\n",
      "('zimbri', 0.00015718474)\n",
      "('thoroughly', 0.00015718471)\n",
      "('ămândă', 0.0001571847)\n",
      "('realizării', 0.0001571847)\n",
      "('land', 0.00015718464)\n",
      "('founded', 0.00015718455)\n",
      "('looms', 0.00015718455)\n"
     ]
    }
   ],
   "source": [
    "\n",
    "for i in range(1484, 1526):\n",
    "              print(l1[i])"
   ]
  },
  {
   "cell_type": "code",
   "execution_count": 51,
   "metadata": {},
   "outputs": [
    {
     "name": "stdout",
     "output_type": "stream",
     "text": [
      "1571\n"
     ]
    }
   ],
   "source": [
    "\n",
    "for i in range(3647):\n",
    "    if l0[i][0]== \"bottle\":\n",
    "            print(i)"
   ]
  },
  {
   "cell_type": "code",
   "execution_count": 52,
   "metadata": {},
   "outputs": [
    {
     "name": "stdout",
     "output_type": "stream",
     "text": [
      "3291\n"
     ]
    }
   ],
   "source": [
    "\n",
    "for i in range(3647):\n",
    "    if l1[i][0]== \"bottle\":\n",
    "            print(i)"
   ]
  },
  {
   "cell_type": "code",
   "execution_count": 53,
   "metadata": {},
   "outputs": [
    {
     "name": "stdout",
     "output_type": "stream",
     "text": [
      "('discovered', 0.0002733013)\n",
      "('resolution', 0.00027330106)\n",
      "('asimptotic', 0.00027330074)\n",
      "('arcane', 0.00027330065)\n",
      "('replete', 0.00027330057)\n",
      "('moments', 0.00027330033)\n",
      "('outlined', 0.00027330001)\n",
      "('definitely', 0.00027329978)\n",
      "('suntem', 0.00027329972)\n",
      "('curse', 0.00027329935)\n",
      "('receipt', 0.00027329926)\n",
      "('hybridization', 0.00027329905)\n",
      "('colosseum', 0.00027329903)\n",
      "('tendencies', 0.00027329882)\n",
      "('contains', 0.0002732987)\n",
      "('guided', 0.00027329827)\n",
      "('display', 0.00027329804)\n",
      "('youtube', 0.00027329795)\n",
      "('ramblings', 0.00027329792)\n",
      "('explained', 0.00027329786)\n",
      "('exciting', 0.00027329783)\n",
      "('bottle', 0.0002732977)\n",
      "('precise', 0.00027329757)\n",
      "('protestant', 0.0002732974)\n",
      "('france', 0.0002732974)\n",
      "('pulldown', 0.000273297)\n",
      "('dark', 0.00027329693)\n",
      "('excerpt', 0.00027329684)\n",
      "('explain', 0.00027329684)\n",
      "('apparatus', 0.0002732968)\n",
      "('importance', 0.00027329655)\n",
      "('going', 0.00027329611)\n",
      "('faustus', 0.00027329606)\n",
      "('risking', 0.00027329565)\n",
      "('collectives', 0.00027329565)\n",
      "('argue', 0.0002732953)\n",
      "('dodgy', 0.00027329518)\n",
      "('xxxvi', 0.00027329463)\n",
      "('formidable', 0.00027329425)\n",
      "('allows', 0.00027329416)\n",
      "('august', 0.0002732939)\n",
      "('fretaway', 0.0002732939)\n"
     ]
    }
   ],
   "source": [
    "\n",
    "for i in range(1550, 1592):\n",
    "              print(l0[i])"
   ]
  },
  {
   "cell_type": "code",
   "execution_count": 54,
   "metadata": {},
   "outputs": [
    {
     "name": "stdout",
     "output_type": "stream",
     "text": [
      "('exercițiile', 0.00027305834)\n",
      "('clear', 0.0002730582)\n",
      "('decide', 0.000273058)\n",
      "('significance', 0.00027305793)\n",
      "('unholy', 0.0002730578)\n",
      "('contented', 0.0002730577)\n",
      "('audioinkineticrealms', 0.00027305746)\n",
      "('institute', 0.00027305746)\n",
      "('portal', 0.00027305743)\n",
      "('designing', 0.0002730574)\n",
      "('phrasing', 0.0002730573)\n",
      "('compile', 0.00027305688)\n",
      "('wealth', 0.0002730568)\n",
      "('burnt', 0.00027305653)\n",
      "('beginners', 0.00027305644)\n",
      "('ticking', 0.00027305612)\n",
      "('download', 0.00027305612)\n",
      "('febra', 0.0002730559)\n",
      "('allembracing', 0.00027305578)\n",
      "('audioproduction', 0.00027305575)\n",
      "('boldfaced', 0.00027305546)\n",
      "('musicians', 0.00027305546)\n",
      "('ejournal', 0.00027305522)\n",
      "('transfer', 0.0002730546)\n",
      "('circulate', 0.00027305444)\n",
      "('morbid', 0.00027305406)\n",
      "('fond', 0.00027305403)\n",
      "('invited', 0.00027305388)\n",
      "('primary', 0.00027305353)\n",
      "('token', 0.0002730534)\n",
      "('videos', 0.00027305298)\n",
      "('elegance', 0.00027305295)\n",
      "('phrase', 0.00027305275)\n",
      "('browser', 0.00027305243)\n",
      "('environmental', 0.00027305243)\n",
      "('plain', 0.00027305237)\n",
      "('creativepractice', 0.00027305144)\n",
      "('orchestral', 0.0002730514)\n",
      "('rearranged', 0.0002730513)\n",
      "('solved', 0.00027305115)\n",
      "('upsides', 0.0002730507)\n",
      "('community', 0.00027305065)\n"
     ]
    }
   ],
   "source": [
    "\n",
    "for i in range(3270, 3312):\n",
    "              print(l0[i])"
   ]
  },
  {
   "cell_type": "code",
   "execution_count": 55,
   "metadata": {},
   "outputs": [
    {
     "name": "stdout",
     "output_type": "stream",
     "text": [
      "736\n"
     ]
    }
   ],
   "source": [
    "\n",
    "for i in range(3647):\n",
    "    if l0[i][0]== \"empty\":\n",
    "            print(i)"
   ]
  },
  {
   "cell_type": "code",
   "execution_count": 56,
   "metadata": {},
   "outputs": [
    {
     "name": "stdout",
     "output_type": "stream",
     "text": [
      "1134\n"
     ]
    }
   ],
   "source": [
    "for i in range(3647):\n",
    "    if l1[i][0]== \"empty\":\n",
    "            print(i)"
   ]
  },
  {
   "cell_type": "code",
   "execution_count": 57,
   "metadata": {},
   "outputs": [
    {
     "name": "stdout",
     "output_type": "stream",
     "text": [
      "('extra', 0.00027437767)\n",
      "('invest', 0.0002743731)\n",
      "('annals', 0.0002743728)\n",
      "('embed', 0.0002743727)\n",
      "('college', 0.00027437168)\n",
      "('created', 0.00027436952)\n",
      "('hologram', 0.00027436772)\n",
      "('taught', 0.00027436748)\n",
      "('create', 0.00027436606)\n",
      "('fund', 0.00027436495)\n",
      "('converter', 0.0002743649)\n",
      "('unusual', 0.0002743648)\n",
      "('alter', 0.00027436437)\n",
      "('marks', 0.00027436306)\n",
      "('composition', 0.00027436216)\n",
      "('troughs', 0.00027436216)\n",
      "('longer', 0.00027436131)\n",
      "('worn', 0.0002743563)\n",
      "('fundamental', 0.00027435488)\n",
      "('left', 0.00027435325)\n",
      "('minutes', 0.00027435002)\n",
      "('empty', 0.00027434833)\n",
      "('increasingly', 0.00027434755)\n",
      "('question', 0.00027434638)\n",
      "('heard', 0.00027434173)\n",
      "('alternative', 0.00027433594)\n",
      "('studies', 0.00027433448)\n",
      "('arranged', 0.00027433413)\n",
      "('guitar', 0.00027433244)\n",
      "('multichannel', 0.0002743285)\n",
      "('components', 0.00027432668)\n",
      "('case', 0.0002743265)\n",
      "('degree', 0.00027432406)\n",
      "('capturing', 0.0002743225)\n",
      "('shattered', 0.0002743205)\n",
      "('discuss', 0.00027431932)\n",
      "('names', 0.00027431763)\n",
      "('managing', 0.00027431702)\n",
      "('issues', 0.00027431635)\n",
      "('rune', 0.00027431452)\n",
      "('moment', 0.00027431408)\n",
      "('română', 0.0002743122)\n"
     ]
    }
   ],
   "source": [
    "\n",
    "for i in range(715, 757):\n",
    "              print(l0[i])"
   ]
  },
  {
   "cell_type": "code",
   "execution_count": 58,
   "metadata": {},
   "outputs": [
    {
     "name": "stdout",
     "output_type": "stream",
     "text": [
      "216\n"
     ]
    }
   ],
   "source": [
    "\n",
    "for i in range(3647):\n",
    "    if l0[i][0]== \"despair\":\n",
    "            print(i)"
   ]
  },
  {
   "cell_type": "code",
   "execution_count": 60,
   "metadata": {},
   "outputs": [
    {
     "name": "stdout",
     "output_type": "stream",
     "text": [
      "303\n"
     ]
    }
   ],
   "source": [
    "\n",
    "for i in range(3647):\n",
    "    if l1[i][0]== \"despair\":\n",
    "            print(i)"
   ]
  },
  {
   "cell_type": "code",
   "execution_count": 61,
   "metadata": {},
   "outputs": [
    {
     "name": "stdout",
     "output_type": "stream",
     "text": [
      "('efforts', 0.00027803276)\n",
      "('diddley', 0.0002779822)\n",
      "('pattern', 0.00027795622)\n",
      "('editors', 0.00027792886)\n",
      "('never', 0.00027792106)\n",
      "('published', 0.0002778932)\n",
      "('minor', 0.00027789167)\n",
      "('beyond', 0.00027786597)\n",
      "('truth', 0.0002778314)\n",
      "('useful', 0.00027782834)\n",
      "('fine', 0.00027781984)\n",
      "('documentary', 0.00027775558)\n",
      "('book', 0.00027774757)\n",
      "('until', 0.00027773622)\n",
      "('contemporary', 0.0002777344)\n",
      "('perfect', 0.00027768442)\n",
      "('went', 0.000277675)\n",
      "('computers', 0.00027766597)\n",
      "('2012', 0.0002776626)\n",
      "('towards', 0.0002776595)\n",
      "('process', 0.0002776591)\n",
      "('despair', 0.00027764624)\n",
      "('night', 0.00027764085)\n",
      "('poor', 0.00027761725)\n",
      "('problem', 0.00027756547)\n",
      "('fourfour', 0.0002775642)\n",
      "('dislocation', 0.0002775618)\n",
      "('school', 0.0002775444)\n",
      "('need', 0.00027754417)\n",
      "('ability', 0.00027751864)\n",
      "('wrote', 0.00027751678)\n",
      "('collection', 0.00027748614)\n",
      "('london', 0.00027747746)\n",
      "('important', 0.00027746675)\n",
      "('somebody', 0.00027745758)\n",
      "('critical', 0.0002774423)\n",
      "('presenting', 0.00027743843)\n",
      "('idea', 0.0002774373)\n",
      "('brought', 0.0002774214)\n",
      "('albany', 0.00027740377)\n",
      "('happen', 0.00027738584)\n",
      "('space', 0.0002773744)\n"
     ]
    }
   ],
   "source": [
    "\n",
    "for i in range(195, 237):\n",
    "              print(l0[i])"
   ]
  },
  {
   "cell_type": "code",
   "execution_count": 62,
   "metadata": {},
   "outputs": [
    {
     "name": "stdout",
     "output_type": "stream",
     "text": [
      "('play', 0.00057628314)\n",
      "('theme', 0.0005762702)\n",
      "('addition', 0.0005762641)\n",
      "('improvisedishowthevoiceisused', 0.00057626073)\n",
      "('particular', 0.0005762591)\n",
      "('drummer', 0.0005762566)\n",
      "('users', 0.00057625433)\n",
      "('poetic', 0.00057625206)\n",
      "('space', 0.00057624583)\n",
      "('happen', 0.0005762435)\n",
      "('albany', 0.00057624007)\n",
      "('idea', 0.0005762336)\n",
      "('critical', 0.0005762327)\n",
      "('somebody', 0.00057622953)\n",
      "('london', 0.00057622575)\n",
      "('collection', 0.00057622406)\n",
      "('school', 0.000576213)\n",
      "('need', 0.0005762129)\n",
      "('dislocation', 0.00057620957)\n",
      "('fourfour', 0.00057620904)\n",
      "('night', 0.00057619426)\n",
      "('despair', 0.00057619315)\n",
      "('computers', 0.0005761894)\n",
      "('went', 0.0005761876)\n",
      "('published', 0.0005761454)\n",
      "('group', 0.0005761172)\n",
      "('power', 0.0005760751)\n",
      "('conference', 0.00057600293)\n",
      "('writers', 0.0005759242)\n",
      "('drinks', 0.00047183107)\n",
      "('whatever', 0.00047182842)\n",
      "('greater', 0.0004717318)\n",
      "('controls', 0.00047172685)\n",
      "('collage', 0.00047171421)\n",
      "('below', 0.000471711)\n",
      "('subject', 0.00047170938)\n",
      "('believe', 0.0004717046)\n",
      "('humour', 0.0004716958)\n",
      "('forms', 0.00047169006)\n",
      "('page', 0.0004716869)\n",
      "('value', 0.0004716838)\n",
      "('benefit', 0.00047167548)\n"
     ]
    }
   ],
   "source": [
    "\n",
    "for i in range(282, 324):\n",
    "              print(l1[i])"
   ]
  },
  {
   "cell_type": "code",
   "execution_count": 63,
   "metadata": {},
   "outputs": [
    {
     "name": "stdout",
     "output_type": "stream",
     "text": [
      "1390\n"
     ]
    }
   ],
   "source": [
    "\n",
    "for i in range(3647):\n",
    "    if l0[i][0]== \"transgression\":\n",
    "            print(i)"
   ]
  },
  {
   "cell_type": "code",
   "execution_count": 64,
   "metadata": {},
   "outputs": [
    {
     "name": "stdout",
     "output_type": "stream",
     "text": [
      "3472\n"
     ]
    }
   ],
   "source": [
    "\n",
    "for i in range(3647):\n",
    "    if l1[i][0]== \"transgression\":\n",
    "            print(i)"
   ]
  },
  {
   "cell_type": "code",
   "execution_count": 65,
   "metadata": {},
   "outputs": [
    {
     "name": "stdout",
     "output_type": "stream",
     "text": [
      "('cats', 0.00027335)\n",
      "('expressiveaudio', 0.00027335)\n",
      "('coding', 0.0002733494)\n",
      "('undulating', 0.00027334754)\n",
      "('digitizing', 0.0002733474)\n",
      "('share', 0.00027334722)\n",
      "('cruel', 0.0002733467)\n",
      "('peterlambornwilson', 0.00027334658)\n",
      "('finale', 0.0002733465)\n",
      "('sorry', 0.0002733463)\n",
      "('grosz', 0.0002733461)\n",
      "('maintained', 0.00027334597)\n",
      "('contamination', 0.00027334562)\n",
      "('strike', 0.00027334518)\n",
      "('culture', 0.00027334507)\n",
      "('coproduce', 0.0002733445)\n",
      "('involving', 0.00027334422)\n",
      "('incontinence', 0.000273344)\n",
      "('expressed', 0.00027334396)\n",
      "('crude', 0.00027334393)\n",
      "('utter', 0.00027334364)\n",
      "('transgression', 0.00027334364)\n",
      "('microphones', 0.00027334286)\n",
      "('către', 0.00027334245)\n",
      "('speculation', 0.00027334134)\n",
      "('foto', 0.00027333904)\n",
      "('activategenerate', 0.00027333893)\n",
      "('cigarette', 0.00027333878)\n",
      "('grace', 0.00027333875)\n",
      "('2000', 0.0002733387)\n",
      "('alabama', 0.00027333846)\n",
      "('audience', 0.00027333808)\n",
      "('likeminded', 0.00027333773)\n",
      "('partea', 0.00027333768)\n",
      "('organizational', 0.00027333765)\n",
      "('725000', 0.00027333753)\n",
      "('begins', 0.00027333738)\n",
      "('pliant', 0.00027333703)\n",
      "('defined', 0.00027333703)\n",
      "('temporarily', 0.00027333686)\n",
      "('ship', 0.0002733367)\n",
      "('iluminare', 0.0002733363)\n"
     ]
    }
   ],
   "source": [
    "\n",
    "for i in range(1369, 1411):\n",
    "              print(l0[i])"
   ]
  },
  {
   "cell_type": "code",
   "execution_count": 66,
   "metadata": {},
   "outputs": [
    {
     "name": "stdout",
     "output_type": "stream",
     "text": [
      "('instrumentation', 0.00015712806)\n",
      "('iluminare', 0.000157128)\n",
      "('ship', 0.00015712793)\n",
      "('temporarily', 0.00015712788)\n",
      "('defined', 0.00015712783)\n",
      "('pliant', 0.0001571278)\n",
      "('begins', 0.00015712775)\n",
      "('likeminded', 0.00015712772)\n",
      "('organizational', 0.00015712772)\n",
      "('725000', 0.00015712772)\n",
      "('partea', 0.0001571277)\n",
      "('audience', 0.00015712761)\n",
      "('alabama', 0.00015712758)\n",
      "('2000', 0.00015712752)\n",
      "('cigarette', 0.0001571275)\n",
      "('grace', 0.0001571275)\n",
      "('activategenerate', 0.00015712748)\n",
      "('foto', 0.00015712748)\n",
      "('speculation', 0.000157127)\n",
      "('către', 0.00015712678)\n",
      "('microphones', 0.00015712672)\n",
      "('transgression', 0.00015712657)\n",
      "('utter', 0.00015712655)\n",
      "('expressed', 0.00015712652)\n",
      "('crude', 0.0001571265)\n",
      "('incontinence', 0.00015712647)\n",
      "('coproduce', 0.0001571264)\n",
      "('involving', 0.0001571264)\n",
      "('culture', 0.00015712627)\n",
      "('strike', 0.00015712625)\n",
      "('contamination', 0.0001571262)\n",
      "('maintained', 0.00015712612)\n",
      "('sorry', 0.00015712605)\n",
      "('grosz', 0.00015712605)\n",
      "('finale', 0.00015712602)\n",
      "('peterlambornwilson', 0.000157126)\n",
      "('cruel', 0.00015712592)\n",
      "('digitizing', 0.00015712588)\n",
      "('share', 0.00015712588)\n",
      "('undulating', 0.00015712582)\n",
      "('coding', 0.00015712543)\n",
      "('lover', 0.00015712531)\n"
     ]
    }
   ],
   "source": [
    "\n",
    "for i in range(3451, 3493):\n",
    "              print(l1[i])"
   ]
  },
  {
   "cell_type": "code",
   "execution_count": 67,
   "metadata": {},
   "outputs": [
    {
     "name": "stdout",
     "output_type": "stream",
     "text": [
      "596\n"
     ]
    }
   ],
   "source": [
    "\n",
    "for i in range(3647):\n",
    "    if l0[i][0]== \"live\":\n",
    "            print(i)"
   ]
  },
  {
   "cell_type": "code",
   "execution_count": 68,
   "metadata": {},
   "outputs": [
    {
     "name": "stdout",
     "output_type": "stream",
     "text": [
      "('number', 0.00027488408)\n",
      "('javascript', 0.0002748771)\n",
      "('common', 0.0002748651)\n",
      "('year', 0.00027486042)\n",
      "('dream', 0.00027485215)\n",
      "('disguise', 0.0002748454)\n",
      "('rhymes', 0.00027484496)\n",
      "('company', 0.00027484)\n",
      "('festival', 0.0002748358)\n",
      "('opportunity', 0.00027483224)\n",
      "('learned', 0.00027483108)\n",
      "('further', 0.00027482855)\n",
      "('explore', 0.00027482843)\n",
      "('argument', 0.00027482645)\n",
      "('studied', 0.00027482628)\n",
      "('potential', 0.00027481467)\n",
      "('dropped', 0.00027480492)\n",
      "('piece', 0.0002748048)\n",
      "('application', 0.00027480104)\n",
      "('detail', 0.00027479386)\n",
      "('dull', 0.0002747886)\n",
      "('live', 0.00027478675)\n",
      "('music', 0.0002747789)\n",
      "('operations', 0.0002747677)\n",
      "('title', 0.00027475727)\n",
      "('beauty', 0.00027475547)\n",
      "('implications', 0.00027475157)\n",
      "('reviews', 0.00027474505)\n",
      "('meant', 0.0002747419)\n",
      "('pict', 0.0002747335)\n",
      "('continue', 0.00027473186)\n",
      "('2015', 0.0002747299)\n",
      "('anticus', 0.0002747199)\n",
      "('final', 0.00027470745)\n",
      "('quotes', 0.00027470326)\n",
      "('rhythms', 0.0002746988)\n",
      "('authentic', 0.0002746918)\n",
      "('xxviii', 0.00027467773)\n",
      "('says', 0.00027467773)\n",
      "('organization', 0.0002746706)\n",
      "('previously', 0.00027466848)\n",
      "('splendour', 0.00027466135)\n"
     ]
    }
   ],
   "source": [
    "\n",
    "for i in range(575, 617):\n",
    "              print(l0[i])"
   ]
  },
  {
   "cell_type": "code",
   "execution_count": 71,
   "metadata": {},
   "outputs": [
    {
     "name": "stdout",
     "output_type": "stream",
     "text": [
      "3579\n"
     ]
    }
   ],
   "source": [
    "\n",
    "for i in range(3647):\n",
    "    if l0[i][0]== \"afternoons\":\n",
    "            print(i)"
   ]
  },
  {
   "cell_type": "code",
   "execution_count": 72,
   "metadata": {},
   "outputs": [
    {
     "name": "stdout",
     "output_type": "stream",
     "text": [
      "1283\n"
     ]
    }
   ],
   "source": [
    "\n",
    "for i in range(3647):\n",
    "    if l1[i][0]== \"afternoons\":\n",
    "            print(i)"
   ]
  },
  {
   "cell_type": "code",
   "execution_count": 73,
   "metadata": {},
   "outputs": [
    {
     "name": "stdout",
     "output_type": "stream",
     "text": [
      "('sketch', 0.00027297795)\n",
      "('risk', 0.00027297734)\n",
      "('rhymingverse', 0.00027297676)\n",
      "('captured', 0.00027297635)\n",
      "('seeds', 0.0002729762)\n",
      "('rană', 0.0002729755)\n",
      "('controller', 0.00027297542)\n",
      "('speechtotext', 0.00027297504)\n",
      "('thor', 0.00027297303)\n",
      "('circle', 0.00027297295)\n",
      "('biggest', 0.00027297286)\n",
      "('seizingthemedia', 0.00027297277)\n",
      "('easytofollow', 0.0002729723)\n",
      "('email', 0.00027297172)\n",
      "('editorship', 0.00027297135)\n",
      "('undercurrents', 0.0002729697)\n",
      "('signifying', 0.00027296957)\n",
      "('analogous', 0.00027296934)\n",
      "('doctoral', 0.00027296826)\n",
      "('telephone', 0.0002729676)\n",
      "('bottom', 0.0002729674)\n",
      "('afternoons', 0.00027296692)\n",
      "('unwilling', 0.0002729669)\n",
      "('indecisions', 0.00027296628)\n",
      "('lashing', 0.00027296573)\n",
      "('clock', 0.00027296506)\n",
      "('același', 0.0002729649)\n",
      "('lacking—', 0.00027296488)\n",
      "('oven', 0.00027296186)\n",
      "('fitter', 0.00027295764)\n",
      "('cultural', 0.000272956)\n",
      "('republic', 0.00027295586)\n",
      "('charm', 0.00027295476)\n",
      "('exist', 0.00027295412)\n",
      "('șiastfel', 0.0002729536)\n",
      "('rebuilt', 0.00027295333)\n",
      "('ascii', 0.00027295318)\n",
      "('piatră', 0.00027295278)\n",
      "('timeconsuming', 0.00027295251)\n",
      "('greatness', 0.000272952)\n",
      "('drowned', 0.0002729517)\n",
      "('bestow', 0.00027295155)\n"
     ]
    }
   ],
   "source": [
    "\n",
    "for i in range(3558, 3600):\n",
    "              print(l0[i])"
   ]
  },
  {
   "cell_type": "code",
   "execution_count": 74,
   "metadata": {},
   "outputs": [
    {
     "name": "stdout",
     "output_type": "stream",
     "text": [
      "('sculpture', 0.00015720294)\n",
      "('drowned', 0.0001572028)\n",
      "('bestow', 0.00015720278)\n",
      "('greatness', 0.00015720274)\n",
      "('timeconsuming', 0.00015720262)\n",
      "('piatră', 0.00015720256)\n",
      "('ascii', 0.00015720249)\n",
      "('rebuilt', 0.00015720248)\n",
      "('șiastfel', 0.00015720245)\n",
      "('exist', 0.00015720233)\n",
      "('charm', 0.00015720223)\n",
      "('republic', 0.00015720195)\n",
      "('cultural', 0.00015720195)\n",
      "('fitter', 0.0001572016)\n",
      "('oven', 0.00015720079)\n",
      "('același', 0.00015720024)\n",
      "('lacking—', 0.00015720024)\n",
      "('clock', 0.00015720016)\n",
      "('lashing', 0.00015720006)\n",
      "('indecisions', 0.00015719995)\n",
      "('unwilling', 0.00015719983)\n",
      "('afternoons', 0.00015719981)\n",
      "('bottom', 0.00015719973)\n",
      "('telephone', 0.0001571997)\n",
      "('doctoral', 0.00015719954)\n",
      "('analogous', 0.00015719933)\n",
      "('signifying', 0.00015719929)\n",
      "('undercurrents', 0.00015719929)\n",
      "('editorship', 0.00015719894)\n",
      "('email', 0.00015719885)\n",
      "('easytofollow', 0.00015719878)\n",
      "('seizingthemedia', 0.00015719866)\n",
      "('biggest', 0.00015719865)\n",
      "('circle', 0.00015719864)\n",
      "('thor', 0.00015719862)\n",
      "('speechtotext', 0.00015719823)\n",
      "('controller', 0.00015719818)\n",
      "('rană', 0.00015719816)\n",
      "('seeds', 0.00015719801)\n",
      "('captured', 0.00015719795)\n",
      "('rhymingverse', 0.00015719791)\n",
      "('risk', 0.00015719779)\n"
     ]
    }
   ],
   "source": [
    "\n",
    "for i in range(1262, 1304):\n",
    "              print(l1[i])"
   ]
  },
  {
   "cell_type": "code",
   "execution_count": 75,
   "metadata": {},
   "outputs": [
    {
     "name": "stdout",
     "output_type": "stream",
     "text": [
      "2780\n"
     ]
    }
   ],
   "source": [
    "\n",
    "for i in range(3647):\n",
    "    if l0[i][0]== \"couplets\":\n",
    "            print(i)"
   ]
  },
  {
   "cell_type": "code",
   "execution_count": 76,
   "metadata": {},
   "outputs": [
    {
     "name": "stdout",
     "output_type": "stream",
     "text": [
      "2082\n"
     ]
    }
   ],
   "source": [
    "for i in range(3647):\n",
    "    if l1[i][0]== \"couplets\":\n",
    "            print(i)"
   ]
  },
  {
   "cell_type": "code",
   "execution_count": 77,
   "metadata": {},
   "outputs": [
    {
     "name": "stdout",
     "output_type": "stream",
     "text": [
      "('respectivei', 0.0002731354)\n",
      "('angst', 0.00027313532)\n",
      "('sick', 0.00027313532)\n",
      "('difficulties', 0.00027313465)\n",
      "('strongest', 0.0002731345)\n",
      "('mechanical', 0.00027313438)\n",
      "('contextualized', 0.0002731342)\n",
      "('authors', 0.000273134)\n",
      "('largescaleprojects', 0.00027313398)\n",
      "('earnest', 0.00027313398)\n",
      "('styles', 0.00027313386)\n",
      "('enormousness', 0.00027313357)\n",
      "('activities', 0.0002731335)\n",
      "('aerului', 0.0002731334)\n",
      "('worldwideweb', 0.00027313334)\n",
      "('prescient', 0.0002731333)\n",
      "('generating', 0.00027313322)\n",
      "('preservation', 0.00027313308)\n",
      "('roundabout', 0.00027313296)\n",
      "('news', 0.00027313293)\n",
      "('confoundered', 0.0002731328)\n",
      "('couplets', 0.00027313278)\n",
      "('reason', 0.00027313232)\n",
      "('writhing', 0.00027313206)\n",
      "('climates', 0.00027313203)\n",
      "('illuminates', 0.00027313203)\n",
      "('suffered', 0.000273132)\n",
      "('landscapes', 0.00027313194)\n",
      "('partnering', 0.00027313182)\n",
      "('dabbler', 0.0002731318)\n",
      "('liberties', 0.00027313177)\n",
      "('lofi', 0.00027313156)\n",
      "('scholarlywork', 0.00027313156)\n",
      "('frustrations', 0.00027313136)\n",
      "('sharingmoving', 0.00027313113)\n",
      "('stipulated', 0.00027313107)\n",
      "('meal', 0.00027313083)\n",
      "('cofounded', 0.0002731303)\n",
      "('thin', 0.00027313014)\n",
      "('decision', 0.00027313008)\n",
      "('usefully', 0.00027313)\n",
      "('strange', 0.00027312996)\n"
     ]
    }
   ],
   "source": [
    "\n",
    "for i in range(2759, 2801):\n",
    "              print(l0[i])"
   ]
  },
  {
   "cell_type": "code",
   "execution_count": 78,
   "metadata": {},
   "outputs": [
    {
     "name": "stdout",
     "output_type": "stream",
     "text": [
      "('strange', 0.00015716812)\n",
      "('trebuie', 0.0001571681)\n",
      "('usefully', 0.0001571681)\n",
      "('decision', 0.00015716809)\n",
      "('thin', 0.00015716809)\n",
      "('cofounded', 0.00015716808)\n",
      "('meal', 0.00015716797)\n",
      "('stipulated', 0.00015716792)\n",
      "('sharingmoving', 0.0001571679)\n",
      "('lofi', 0.00015716783)\n",
      "('frustrations', 0.00015716783)\n",
      "('scholarlywork', 0.00015716781)\n",
      "('liberties', 0.00015716779)\n",
      "('dabbler', 0.00015716779)\n",
      "('partnering', 0.00015716777)\n",
      "('landscapes', 0.00015716774)\n",
      "('illuminates', 0.00015716774)\n",
      "('writhing', 0.00015716774)\n",
      "('climates', 0.00015716773)\n",
      "('suffered', 0.00015716771)\n",
      "('reason', 0.00015716764)\n",
      "('couplets', 0.0001571676)\n",
      "('confoundered', 0.00015716757)\n",
      "('news', 0.00015716755)\n",
      "('roundabout', 0.00015716754)\n",
      "('generating', 0.00015716752)\n",
      "('worldwideweb', 0.0001571675)\n",
      "('preservation', 0.0001571675)\n",
      "('aerului', 0.00015716748)\n",
      "('activities', 0.00015716747)\n",
      "('prescient', 0.00015716744)\n",
      "('enormousness', 0.00015716742)\n",
      "('authors', 0.00015716735)\n",
      "('earnest', 0.00015716735)\n",
      "('styles', 0.00015716732)\n",
      "('largescaleprojects', 0.00015716732)\n",
      "('contextualized', 0.00015716729)\n",
      "('strongest', 0.00015716726)\n",
      "('mechanical', 0.00015716722)\n",
      "('difficulties', 0.00015716722)\n",
      "('angst', 0.0001571671)\n",
      "('audioinstaticrealms', 0.00015716709)\n"
     ]
    }
   ],
   "source": [
    "\n",
    "for i in range(2061, 2103):\n",
    "              print(l1[i])"
   ]
  },
  {
   "cell_type": "code",
   "execution_count": 24,
   "metadata": {},
   "outputs": [
    {
     "data": {
      "text/plain": [
       "3648"
      ]
     },
     "execution_count": 24,
     "metadata": {},
     "output_type": "execute_result"
    }
   ],
   "source": [
    "\n",
    "len(l1)"
   ]
  },
  {
   "cell_type": "code",
   "execution_count": 25,
   "metadata": {},
   "outputs": [
    {
     "name": "stdout",
     "output_type": "stream",
     "text": [
      "1577\n"
     ]
    },
    {
     "ename": "IndexError",
     "evalue": "list index out of range",
     "output_type": "error",
     "traceback": [
      "\u001b[0;31m---------------------------------------------------------------------------\u001b[0m",
      "\u001b[0;31mIndexError\u001b[0m                                Traceback (most recent call last)",
      "\u001b[0;32m<ipython-input-25-cac9165f155d>\u001b[0m in \u001b[0;36m<module>\u001b[0;34m\u001b[0m\n\u001b[1;32m      1\u001b[0m \u001b[0;32mfor\u001b[0m \u001b[0mi\u001b[0m \u001b[0;32min\u001b[0m \u001b[0mrange\u001b[0m\u001b[0;34m(\u001b[0m\u001b[0;36m3649\u001b[0m\u001b[0;34m)\u001b[0m\u001b[0;34m:\u001b[0m\u001b[0;34m\u001b[0m\u001b[0;34m\u001b[0m\u001b[0m\n\u001b[0;32m----> 2\u001b[0;31m     \u001b[0;32mif\u001b[0m \u001b[0ml1\u001b[0m\u001b[0;34m[\u001b[0m\u001b[0mi\u001b[0m\u001b[0;34m]\u001b[0m\u001b[0;34m[\u001b[0m\u001b[0;36m0\u001b[0m\u001b[0;34m]\u001b[0m\u001b[0;34m==\u001b[0m \u001b[0;34m\"orderoftheday\"\u001b[0m\u001b[0;34m:\u001b[0m\u001b[0;34m\u001b[0m\u001b[0;34m\u001b[0m\u001b[0m\n\u001b[0m\u001b[1;32m      3\u001b[0m             \u001b[0mprint\u001b[0m\u001b[0;34m(\u001b[0m\u001b[0mi\u001b[0m\u001b[0;34m)\u001b[0m\u001b[0;34m\u001b[0m\u001b[0;34m\u001b[0m\u001b[0m\n",
      "\u001b[0;31mIndexError\u001b[0m: list index out of range"
     ]
    }
   ],
   "source": [
    "\n",
    "for i in range(3649):\n",
    "    if l1[i][0]== \"orderoftheday\":\n",
    "            print(i)"
   ]
  },
  {
   "cell_type": "code",
   "execution_count": 28,
   "metadata": {},
   "outputs": [
    {
     "name": "stdout",
     "output_type": "stream",
     "text": [
      "3286\n"
     ]
    }
   ],
   "source": [
    "\n",
    "for i in range(3648):\n",
    "    if l0[i][0]== \"orderoftheday\":\n",
    "            print(i)"
   ]
  },
  {
   "cell_type": "code",
   "execution_count": 29,
   "metadata": {},
   "outputs": [
    {
     "name": "stdout",
     "output_type": "stream",
     "text": [
      "('photography', 0.00015712235)\n",
      "('seeger', 0.00015712234)\n",
      "('date', 0.00015712228)\n",
      "('moral', 0.00015712224)\n",
      "('broaderaudience', 0.0001571222)\n",
      "('technicalwork', 0.00015712218)\n",
      "('debate—between', 0.00015712218)\n",
      "('shelf', 0.00015712215)\n",
      "('enhance', 0.00015712215)\n",
      "('article', 0.00015712212)\n",
      "('—drinks', 0.00015712205)\n",
      "('laptop', 0.00015712202)\n",
      "('fusty', 0.000157122)\n",
      "('embraced', 0.00015712199)\n",
      "('electronicpoetry', 0.00015712196)\n",
      "('immersion', 0.00015712195)\n",
      "('fitter', 0.00015712195)\n",
      "('kept', 0.00015712192)\n",
      "('weaker', 0.00015712187)\n",
      "('programul', 0.0001571218)\n",
      "('călătorie', 0.0001571218)\n",
      "('orderoftheday', 0.00015712177)\n",
      "('artful', 0.00015712177)\n",
      "('frozen', 0.00015712177)\n",
      "('selfless', 0.0001571217)\n",
      "('sparte', 0.0001571217)\n",
      "('donbyrd', 0.0001571217)\n",
      "('hours', 0.0001571217)\n",
      "('drill', 0.00015712167)\n",
      "('analyze', 0.00015712167)\n",
      "('sharingmoving', 0.00015712158)\n",
      "('criptă', 0.00015712154)\n",
      "('frustrations', 0.00015712154)\n",
      "('television', 0.00015712148)\n",
      "('cofounded', 0.00015712148)\n",
      "('involving', 0.00015712145)\n",
      "('employed', 0.0001571214)\n",
      "('splendid', 0.00015712138)\n",
      "('exists', 0.00015712132)\n",
      "('propel', 0.00015712126)\n",
      "('considering', 0.00015712122)\n",
      "('subjugated', 0.0001571212)\n"
     ]
    }
   ],
   "source": [
    "\n",
    "for i in range(3265, 3307):\n",
    "              print(l0[i])"
   ]
  },
  {
   "cell_type": "code",
   "execution_count": 30,
   "metadata": {},
   "outputs": [
    {
     "name": "stdout",
     "output_type": "stream",
     "text": [
      "('subjugated', 0.00027364772)\n",
      "('traducere', 0.00027364772)\n",
      "('considering', 0.00027364743)\n",
      "('propel', 0.0002736474)\n",
      "('exists', 0.00027364714)\n",
      "('splendid', 0.0002736469)\n",
      "('employed', 0.0002736467)\n",
      "('involving', 0.00027364635)\n",
      "('cofounded', 0.00027364623)\n",
      "('television', 0.00027364618)\n",
      "('criptă', 0.00027364594)\n",
      "('frustrations', 0.00027364586)\n",
      "('sharingmoving', 0.00027364568)\n",
      "('analyze', 0.00027364527)\n",
      "('hours', 0.00027364524)\n",
      "('drill', 0.0002736452)\n",
      "('donbyrd', 0.00027364513)\n",
      "('selfless', 0.000273645)\n",
      "('sparte', 0.00027364495)\n",
      "('artful', 0.00027364478)\n",
      "('frozen', 0.00027364478)\n",
      "('orderoftheday', 0.0002736447)\n",
      "('programul', 0.00027364443)\n",
      "('călătorie', 0.00027364443)\n",
      "('weaker', 0.0002736442)\n",
      "('kept', 0.00027364393)\n",
      "('immersion', 0.00027364393)\n",
      "('electronicpoetry', 0.00027364376)\n",
      "('fitter', 0.00027364376)\n",
      "('embraced', 0.00027364373)\n",
      "('fusty', 0.00027364338)\n",
      "('laptop', 0.00027364332)\n",
      "('—drinks', 0.00027364315)\n",
      "('debate—between', 0.0002736427)\n",
      "('technicalwork', 0.0002736427)\n",
      "('enhance', 0.00027364262)\n",
      "('broaderaudience', 0.0002736426)\n",
      "('article', 0.0002736426)\n",
      "('shelf', 0.00027364254)\n",
      "('moral', 0.0002736423)\n",
      "('date', 0.00027364207)\n",
      "('seeger', 0.0002736418)\n"
     ]
    }
   ],
   "source": [
    "\n",
    "for i in range(1556, 1598):\n",
    "              print(l1[i])"
   ]
  },
  {
   "cell_type": "code",
   "execution_count": 31,
   "metadata": {},
   "outputs": [
    {
     "name": "stdout",
     "output_type": "stream",
     "text": [
      "1608\n"
     ]
    }
   ],
   "source": [
    "\n",
    "for i in range(3648):\n",
    "    if l0[i][0]== \"rules\":\n",
    "            print(i)"
   ]
  },
  {
   "cell_type": "code",
   "execution_count": 32,
   "metadata": {},
   "outputs": [
    {
     "name": "stdout",
     "output_type": "stream",
     "text": [
      "3255\n"
     ]
    }
   ],
   "source": [
    "for i in range(3648):\n",
    "    if l1[i][0]== \"rules\":\n",
    "            print(i)"
   ]
  },
  {
   "cell_type": "code",
   "execution_count": 33,
   "metadata": {},
   "outputs": [
    {
     "name": "stdout",
     "output_type": "stream",
     "text": [
      "('life—', 0.00027351012)\n",
      "('reflecting', 0.0002735101)\n",
      "('metropolitană', 0.00027350994)\n",
      "('hide', 0.00027350982)\n",
      "('drown', 0.00027350974)\n",
      "('liberties', 0.00027350968)\n",
      "('succinctly', 0.00027350956)\n",
      "('figures', 0.0002735095)\n",
      "('fellow', 0.00027350945)\n",
      "('illicit', 0.00027350936)\n",
      "('manageable', 0.0002735093)\n",
      "('originalele', 0.00027350924)\n",
      "('engages', 0.0002735092)\n",
      "('piecing', 0.00027350918)\n",
      "('arrives', 0.0002735091)\n",
      "('caring', 0.00027350895)\n",
      "('latest', 0.00027350883)\n",
      "('lysistrata', 0.0002735088)\n",
      "('float', 0.0002735086)\n",
      "('imagepersonandplace', 0.00027350854)\n",
      "('welcomed', 0.0002735081)\n",
      "('rules', 0.00027350808)\n",
      "('catchsome', 0.000273508)\n",
      "('megacrash', 0.0002735079)\n",
      "('adventures', 0.0002735077)\n",
      "('dark', 0.00027350755)\n",
      "('diminish', 0.00027350738)\n",
      "('hover', 0.00027350732)\n",
      "('largeonlineworks', 0.0002735073)\n",
      "('xliii', 0.00027350726)\n",
      "('kick', 0.0002735072)\n",
      "('brian', 0.00027350718)\n",
      "('victorian', 0.00027350677)\n",
      "('serving', 0.0002735067)\n",
      "('lacks', 0.00027350665)\n",
      "('culture', 0.00027350656)\n",
      "('brilliant', 0.0002735065)\n",
      "('import', 0.00027350645)\n",
      "('noon', 0.0002735064)\n",
      "('spaces', 0.00027350633)\n",
      "('acrosstheworld', 0.00027350633)\n",
      "('hufnagel', 0.00027350622)\n"
     ]
    }
   ],
   "source": [
    "\n",
    "for i in range(3234, 3276):\n",
    "              print(l1[i])"
   ]
  },
  {
   "cell_type": "code",
   "execution_count": 34,
   "metadata": {},
   "outputs": [
    {
     "name": "stdout",
     "output_type": "stream",
     "text": [
      "('writer', 0.00015714871)\n",
      "('hufnagel', 0.00015714864)\n",
      "('noon', 0.00015714859)\n",
      "('acrosstheworld', 0.00015714859)\n",
      "('spaces', 0.00015714859)\n",
      "('import', 0.00015714858)\n",
      "('brilliant', 0.00015714856)\n",
      "('lacks', 0.00015714852)\n",
      "('culture', 0.00015714852)\n",
      "('serving', 0.00015714852)\n",
      "('victorian', 0.0001571485)\n",
      "('brian', 0.00015714849)\n",
      "('hover', 0.00015714843)\n",
      "('largeonlineworks', 0.00015714842)\n",
      "('xliii', 0.00015714842)\n",
      "('kick', 0.0001571484)\n",
      "('dark', 0.00015714839)\n",
      "('diminish', 0.00015714837)\n",
      "('adventures', 0.00015714833)\n",
      "('megacrash', 0.00015714829)\n",
      "('catchsome', 0.00015714829)\n",
      "('rules', 0.00015714829)\n",
      "('welcomed', 0.00015714827)\n",
      "('imagepersonandplace', 0.00015714818)\n",
      "('float', 0.00015714816)\n",
      "('lysistrata', 0.00015714814)\n",
      "('latest', 0.00015714811)\n",
      "('caring', 0.00015714808)\n",
      "('arrives', 0.00015714808)\n",
      "('engages', 0.00015714807)\n",
      "('piecing', 0.00015714807)\n",
      "('originalele', 0.00015714807)\n",
      "('illicit', 0.00015714802)\n",
      "('manageable', 0.000157148)\n",
      "('fellow', 0.000157148)\n",
      "('figures', 0.00015714798)\n",
      "('succinctly', 0.00015714798)\n",
      "('drown', 0.00015714795)\n",
      "('hide', 0.00015714795)\n",
      "('liberties', 0.00015714795)\n",
      "('reflecting', 0.00015714788)\n",
      "('life—', 0.00015714788)\n"
     ]
    }
   ],
   "source": [
    "\n",
    "for i in range(1587, 1629):\n",
    "              print(l0[i])"
   ]
  },
  {
   "cell_type": "code",
   "execution_count": 35,
   "metadata": {},
   "outputs": [
    {
     "name": "stdout",
     "output_type": "stream",
     "text": [
      "789\n"
     ]
    }
   ],
   "source": [
    "\n",
    "for i in range(3648):\n",
    "    if l0[i][0]== \"adolescent\":\n",
    "            print(i)"
   ]
  },
  {
   "cell_type": "code",
   "execution_count": 36,
   "metadata": {},
   "outputs": [
    {
     "name": "stdout",
     "output_type": "stream",
     "text": [
      "1091\n"
     ]
    }
   ],
   "source": [
    "for i in range(3648):\n",
    "    if l1[i][0]== \"adolescent\":\n",
    "            print(i)"
   ]
  },
  {
   "cell_type": "code",
   "execution_count": 37,
   "metadata": {},
   "outputs": [
    {
     "name": "stdout",
     "output_type": "stream",
     "text": [
      "('connect', 0.0002619622)\n",
      "('generator', 0.00026196215)\n",
      "('talk', 0.0002619621)\n",
      "('dawning', 0.00026196204)\n",
      "('yours', 0.00026196198)\n",
      "('mixed', 0.00026196195)\n",
      "('return', 0.00026196192)\n",
      "('hypermedia', 0.00026196166)\n",
      "('shattered', 0.0002619616)\n",
      "('case', 0.00026196116)\n",
      "('fifty', 0.00026196073)\n",
      "('esque', 0.00026196073)\n",
      "('beaten', 0.0002619605)\n",
      "('links', 0.00026196046)\n",
      "('potentially', 0.00026196046)\n",
      "('uncovered', 0.00026196038)\n",
      "('casting', 0.00026196014)\n",
      "('expertise', 0.00026196014)\n",
      "('nota', 0.00026196011)\n",
      "('split', 0.00026196003)\n",
      "('elizabethan', 0.00026195974)\n",
      "('adolescent', 0.0002619593)\n",
      "('tape', 0.00026195913)\n",
      "('body', 0.0002619591)\n",
      "('details', 0.00026195895)\n",
      "('minutes', 0.00026195892)\n",
      "('deep', 0.0002619588)\n",
      "('funded', 0.0002619586)\n",
      "('1977', 0.00026195805)\n",
      "('invites', 0.0002619579)\n",
      "('earlier', 0.00026195784)\n",
      "('crypt', 0.00026195752)\n",
      "('pentameter', 0.00026195744)\n",
      "('insight', 0.0002619573)\n",
      "('playback', 0.00026195723)\n",
      "('bass', 0.0002619571)\n",
      "('gone', 0.0002619571)\n",
      "('layered', 0.00026195656)\n",
      "('occurred', 0.00026195645)\n",
      "('curiosity', 0.00026195645)\n",
      "('college', 0.00026195621)\n",
      "('discuss', 0.00026195616)\n"
     ]
    }
   ],
   "source": [
    "\n",
    "for i in range(768, 810):\n",
    "              print(l0[i])"
   ]
  },
  {
   "cell_type": "code",
   "execution_count": 38,
   "metadata": {},
   "outputs": [
    {
     "name": "stdout",
     "output_type": "stream",
     "text": [
      "('fools', 0.0002739789)\n",
      "('discuss', 0.0002739787)\n",
      "('college', 0.00027397813)\n",
      "('curiosity', 0.00027397738)\n",
      "('occurred', 0.00027397723)\n",
      "('layered', 0.00027397668)\n",
      "('bass', 0.0002739742)\n",
      "('gone', 0.00027397386)\n",
      "('playback', 0.0002739728)\n",
      "('insight', 0.00027397278)\n",
      "('pentameter', 0.0002739722)\n",
      "('crypt', 0.00027397167)\n",
      "('invites', 0.00027396978)\n",
      "('earlier', 0.00027396966)\n",
      "('1977', 0.00027396885)\n",
      "('funded', 0.00027396626)\n",
      "('deep', 0.00027396512)\n",
      "('minutes', 0.0002739644)\n",
      "('details', 0.0002739642)\n",
      "('body', 0.0002739635)\n",
      "('tape', 0.0002739634)\n",
      "('adolescent', 0.00027396285)\n",
      "('elizabethan', 0.0002739606)\n",
      "('split', 0.0002739586)\n",
      "('expertise', 0.0002739582)\n",
      "('nota', 0.00027395817)\n",
      "('casting', 0.0002739579)\n",
      "('uncovered', 0.0002739569)\n",
      "('beaten', 0.00027395657)\n",
      "('links', 0.00027395645)\n",
      "('potentially', 0.00027395628)\n",
      "('fifty', 0.00027395508)\n",
      "('esque', 0.00027395497)\n",
      "('case', 0.000273953)\n",
      "('shattered', 0.00027395017)\n",
      "('hypermedia', 0.00027395017)\n",
      "('return', 0.00027394915)\n",
      "('yours', 0.0002739487)\n",
      "('mixed', 0.0002739486)\n",
      "('dawning', 0.00027394856)\n",
      "('talk', 0.00027394807)\n",
      "('generator', 0.00027394795)\n"
     ]
    }
   ],
   "source": [
    "\n",
    "for i in range(1070, 1112):\n",
    "              print(l1[i])"
   ]
  },
  {
   "cell_type": "code",
   "execution_count": 39,
   "metadata": {},
   "outputs": [
    {
     "name": "stdout",
     "output_type": "stream",
     "text": [
      "3491\n"
     ]
    }
   ],
   "source": [
    "\n",
    "for i in range(3648):\n",
    "    if l0[i][0]== \"urbane\":\n",
    "            print(i)"
   ]
  },
  {
   "cell_type": "code",
   "execution_count": 40,
   "metadata": {},
   "outputs": [
    {
     "name": "stdout",
     "output_type": "stream",
     "text": [
      "1372\n"
     ]
    }
   ],
   "source": [
    "for i in range(3648):\n",
    "    if l1[i][0]== \"urbane\":\n",
    "            print(i)"
   ]
  },
  {
   "cell_type": "code",
   "execution_count": 41,
   "metadata": {},
   "outputs": [
    {
     "name": "stdout",
     "output_type": "stream",
     "text": [
      "('mode', 0.00015711588)\n",
      "('high', 0.00015711588)\n",
      "('time—of', 0.00015711588)\n",
      "('bucurii', 0.00015711572)\n",
      "('brazen', 0.00015711572)\n",
      "('midiazine', 0.00015711562)\n",
      "('forgotten', 0.00015711562)\n",
      "('locations', 0.0001571156)\n",
      "('xxxvi', 0.00015711554)\n",
      "('ejournal', 0.00015711541)\n",
      "('primitive', 0.00015711534)\n",
      "('njit', 0.00015711534)\n",
      "('channel', 0.00015711534)\n",
      "('band', 0.00015711528)\n",
      "('dabbler', 0.00015711527)\n",
      "('obfuscation', 0.00015711524)\n",
      "('before—', 0.00015711522)\n",
      "('approximately', 0.0001571152)\n",
      "('lovers', 0.00015711512)\n",
      "('rushed', 0.00015711511)\n",
      "('primary', 0.0001571151)\n",
      "('urbane', 0.00015711506)\n",
      "('machines', 0.00015711505)\n",
      "('cent', 0.00015711504)\n",
      "('progressed', 0.00015711499)\n",
      "('rebirth—', 0.00015711493)\n",
      "('caution', 0.00015711492)\n",
      "('throats', 0.00015711486)\n",
      "('muffle', 0.0001571148)\n",
      "('sounddesign', 0.00015711477)\n",
      "('splashes', 0.00015711476)\n",
      "('babies', 0.00015711473)\n",
      "('prizat', 0.00015711471)\n",
      "('freedom', 0.0001571147)\n",
      "('players', 0.00015711453)\n",
      "('constantatomis', 0.00015711447)\n",
      "('obsession', 0.00015711445)\n",
      "('searched', 0.00015711444)\n",
      "('circuite', 0.0001571144)\n",
      "('download', 0.00015711437)\n",
      "('phoneme', 0.00015711437)\n",
      "('wikipedia', 0.0001571143)\n"
     ]
    }
   ],
   "source": [
    "\n",
    "for i in range(3470, 3512):\n",
    "              print(l0[i])"
   ]
  },
  {
   "cell_type": "code",
   "execution_count": 42,
   "metadata": {},
   "outputs": [
    {
     "name": "stdout",
     "output_type": "stream",
     "text": [
      "('ascii', 0.000273684)\n",
      "('wikipedia', 0.00027368325)\n",
      "('phoneme', 0.00027368293)\n",
      "('download', 0.00027368288)\n",
      "('searched', 0.00027368258)\n",
      "('circuite', 0.00027368253)\n",
      "('constantatomis', 0.00027368244)\n",
      "('obsession', 0.00027368235)\n",
      "('players', 0.00027368192)\n",
      "('freedom', 0.0002736813)\n",
      "('prizat', 0.00027368127)\n",
      "('babies', 0.000273681)\n",
      "('splashes', 0.00027368087)\n",
      "('sounddesign', 0.00027368075)\n",
      "('muffle', 0.00027368055)\n",
      "('throats', 0.0002736802)\n",
      "('caution', 0.00027368014)\n",
      "('rebirth—', 0.00027367994)\n",
      "('progressed', 0.00027367967)\n",
      "('cent', 0.00027367944)\n",
      "('machines', 0.0002736793)\n",
      "('urbane', 0.00027367927)\n",
      "('lovers', 0.00027367906)\n",
      "('primary', 0.000273679)\n",
      "('rushed', 0.00027367895)\n",
      "('approximately', 0.00027367863)\n",
      "('before—', 0.0002736783)\n",
      "('band', 0.00027367828)\n",
      "('dabbler', 0.00027367816)\n",
      "('obfuscation', 0.00027367804)\n",
      "('channel', 0.0002736779)\n",
      "('primitive', 0.0002736779)\n",
      "('njit', 0.00027367784)\n",
      "('ejournal', 0.00027367737)\n",
      "('xxxvi', 0.0002736768)\n",
      "('forgotten', 0.00027367644)\n",
      "('locations', 0.00027367639)\n",
      "('midiazine', 0.00027367636)\n",
      "('bucurii', 0.00027367586)\n",
      "('brazen', 0.0002736757)\n",
      "('high', 0.00027367508)\n"
     ]
    }
   ],
   "source": [
    "\n",
    "for i in range(1351, 1392):\n",
    "              print(l1[i])"
   ]
  },
  {
   "cell_type": "code",
   "execution_count": 44,
   "metadata": {},
   "outputs": [
    {
     "name": "stdout",
     "output_type": "stream",
     "text": [
      "3313\n"
     ]
    }
   ],
   "source": [
    "\n",
    "for i in range(3648):\n",
    "    if l0[i][0]== \"outside\":\n",
    "            print(i)"
   ]
  },
  {
   "cell_type": "code",
   "execution_count": 45,
   "metadata": {},
   "outputs": [
    {
     "name": "stdout",
     "output_type": "stream",
     "text": [
      "1551\n"
     ]
    }
   ],
   "source": [
    "\n",
    "for i in range(3648):\n",
    "    if l1[i][0]== \"outside\":\n",
    "            print(i)"
   ]
  },
  {
   "cell_type": "code",
   "execution_count": 46,
   "metadata": {},
   "outputs": [
    {
     "name": "stdout",
     "output_type": "stream",
     "text": [
      "('hours', 0.0001571217)\n",
      "('drill', 0.00015712167)\n",
      "('analyze', 0.00015712167)\n",
      "('sharingmoving', 0.00015712158)\n",
      "('criptă', 0.00015712154)\n",
      "('frustrations', 0.00015712154)\n",
      "('television', 0.00015712148)\n",
      "('cofounded', 0.00015712148)\n",
      "('involving', 0.00015712145)\n",
      "('employed', 0.0001571214)\n",
      "('splendid', 0.00015712138)\n",
      "('exists', 0.00015712132)\n",
      "('propel', 0.00015712126)\n",
      "('considering', 0.00015712122)\n",
      "('subjugated', 0.0001571212)\n",
      "('confound', 0.00015712119)\n",
      "('traducere', 0.00015712118)\n",
      "('shock—', 0.00015712115)\n",
      "('variables', 0.00015712115)\n",
      "('idle', 0.0001571211)\n",
      "('cotitură', 0.00015712103)\n",
      "('outside', 0.000157121)\n",
      "('penchant', 0.000157121)\n",
      "('leonardo', 0.00015712097)\n",
      "('crash', 0.00015712094)\n",
      "('california', 0.00015712094)\n",
      "('mixable', 0.00015712094)\n",
      "('artillerists', 0.00015712091)\n",
      "('egoism', 0.00015712091)\n",
      "('hypertext', 0.00015712086)\n",
      "('calypso', 0.00015712083)\n",
      "('found—and', 0.00015712083)\n",
      "('rent', 0.0001571208)\n",
      "('19591995', 0.00015712077)\n",
      "('compared', 0.00015712075)\n",
      "('twentyfour', 0.00015712075)\n",
      "('party', 0.00015712065)\n",
      "('solace', 0.00015712062)\n",
      "('reflect', 0.00015712062)\n",
      "('randomly', 0.0001571206)\n",
      "('anglosaxoni', 0.00015712055)\n",
      "('predetermined', 0.00015712054)\n"
     ]
    }
   ],
   "source": [
    "\n",
    "for i in range(3292, 3334):\n",
    "              print(l0[i])"
   ]
  },
  {
   "cell_type": "code",
   "execution_count": 47,
   "metadata": {},
   "outputs": [
    {
     "name": "stdout",
     "output_type": "stream",
     "text": [
      "('anglosaxoni', 0.00027365104)\n",
      "('predetermined', 0.00027365095)\n",
      "('reflect', 0.00027365083)\n",
      "('randomly', 0.00027365077)\n",
      "('solace', 0.00027365074)\n",
      "('party', 0.0002736503)\n",
      "('twentyfour', 0.00027365002)\n",
      "('compared', 0.00027365)\n",
      "('19591995', 0.0002736499)\n",
      "('rent', 0.00027364973)\n",
      "('calypso', 0.00027364958)\n",
      "('found—and', 0.00027364958)\n",
      "('hypertext', 0.00027364938)\n",
      "('artillerists', 0.00027364917)\n",
      "('crash', 0.00027364914)\n",
      "('egoism', 0.00027364914)\n",
      "('mixable', 0.0002736491)\n",
      "('leonardo', 0.0002736489)\n",
      "('california', 0.0002736489)\n",
      "('penchant', 0.00027364865)\n",
      "('cotitură', 0.00027364862)\n",
      "('outside', 0.00027364856)\n",
      "('idle', 0.0002736483)\n",
      "('shock—', 0.00027364807)\n",
      "('variables', 0.00027364792)\n",
      "('confound', 0.00027364783)\n",
      "('subjugated', 0.00027364772)\n",
      "('traducere', 0.00027364772)\n",
      "('considering', 0.00027364743)\n",
      "('propel', 0.0002736474)\n",
      "('exists', 0.00027364714)\n",
      "('splendid', 0.0002736469)\n",
      "('employed', 0.0002736467)\n",
      "('involving', 0.00027364635)\n",
      "('cofounded', 0.00027364623)\n",
      "('television', 0.00027364618)\n",
      "('criptă', 0.00027364594)\n",
      "('frustrations', 0.00027364586)\n",
      "('sharingmoving', 0.00027364568)\n",
      "('analyze', 0.00027364527)\n",
      "('hours', 0.00027364524)\n",
      "('drill', 0.0002736452)\n"
     ]
    }
   ],
   "source": [
    "\n",
    "for i in range(1530, 1572):\n",
    "              print(l1[i])"
   ]
  },
  {
   "cell_type": "code",
   "execution_count": 49,
   "metadata": {},
   "outputs": [
    {
     "name": "stdout",
     "output_type": "stream",
     "text": [
      "3505\n"
     ]
    }
   ],
   "source": [
    "\n",
    "for i in range(3648):\n",
    "    if l0[i][0]== \"constantatomis\":\n",
    "            print(i)"
   ]
  },
  {
   "cell_type": "code",
   "execution_count": 50,
   "metadata": {},
   "outputs": [
    {
     "name": "stdout",
     "output_type": "stream",
     "text": [
      "1357\n"
     ]
    }
   ],
   "source": [
    "\n",
    "for i in range(3648):\n",
    "    if l1[i][0]== \"constantatomis\":\n",
    "            print(i)"
   ]
  },
  {
   "cell_type": "code",
   "execution_count": 51,
   "metadata": {},
   "outputs": [
    {
     "name": "stdout",
     "output_type": "stream",
     "text": [
      "('dabbler', 0.00015711527)\n",
      "('obfuscation', 0.00015711524)\n",
      "('before—', 0.00015711522)\n",
      "('approximately', 0.0001571152)\n",
      "('lovers', 0.00015711512)\n",
      "('rushed', 0.00015711511)\n",
      "('primary', 0.0001571151)\n",
      "('urbane', 0.00015711506)\n",
      "('machines', 0.00015711505)\n",
      "('cent', 0.00015711504)\n",
      "('progressed', 0.00015711499)\n",
      "('rebirth—', 0.00015711493)\n",
      "('caution', 0.00015711492)\n",
      "('throats', 0.00015711486)\n",
      "('muffle', 0.0001571148)\n",
      "('sounddesign', 0.00015711477)\n",
      "('splashes', 0.00015711476)\n",
      "('babies', 0.00015711473)\n",
      "('prizat', 0.00015711471)\n",
      "('freedom', 0.0001571147)\n",
      "('players', 0.00015711453)\n",
      "('constantatomis', 0.00015711447)\n",
      "('obsession', 0.00015711445)\n",
      "('searched', 0.00015711444)\n",
      "('circuite', 0.0001571144)\n",
      "('download', 0.00015711437)\n",
      "('phoneme', 0.00015711437)\n",
      "('wikipedia', 0.0001571143)\n",
      "('legroom', 0.00015711412)\n",
      "('ascii', 0.0001571141)\n",
      "('sixteen', 0.000157114)\n",
      "('tendencies', 0.00015711391)\n",
      "('hear', 0.0001571139)\n",
      "('scribblings', 0.00015711389)\n",
      "('timeconsuming', 0.00015711381)\n",
      "('dries', 0.00015711381)\n",
      "('stratiforms', 0.00015711375)\n",
      "('rings', 0.00015711374)\n",
      "('explorable', 0.00015711365)\n",
      "('nuanța', 0.00015711361)\n",
      "('humorous', 0.00015711348)\n",
      "('nouveau', 0.00015711348)\n"
     ]
    }
   ],
   "source": [
    "\n",
    "for i in range(3484, 3526):\n",
    "              print(l0[i])"
   ]
  },
  {
   "cell_type": "code",
   "execution_count": 52,
   "metadata": {},
   "outputs": [
    {
     "name": "stdout",
     "output_type": "stream",
     "text": [
      "('foundations', 0.00027368768)\n",
      "('humorous', 0.00027368765)\n",
      "('nouveau', 0.0002736874)\n",
      "('nuanța', 0.00027368678)\n",
      "('explorable', 0.00027368654)\n",
      "('rings', 0.00027368614)\n",
      "('stratiforms', 0.00027368605)\n",
      "('dries', 0.0002736859)\n",
      "('timeconsuming', 0.0002736856)\n",
      "('apoi', 0.00027368558)\n",
      "('hear', 0.00027368538)\n",
      "('scribblings', 0.00027368532)\n",
      "('tendencies', 0.00027368517)\n",
      "('sixteen', 0.0002736846)\n",
      "('legroom', 0.00027368404)\n",
      "('ascii', 0.000273684)\n",
      "('wikipedia', 0.00027368325)\n",
      "('phoneme', 0.00027368293)\n",
      "('download', 0.00027368288)\n",
      "('searched', 0.00027368258)\n",
      "('circuite', 0.00027368253)\n",
      "('constantatomis', 0.00027368244)\n",
      "('obsession', 0.00027368235)\n",
      "('players', 0.00027368192)\n",
      "('freedom', 0.0002736813)\n",
      "('prizat', 0.00027368127)\n",
      "('babies', 0.000273681)\n",
      "('splashes', 0.00027368087)\n",
      "('sounddesign', 0.00027368075)\n",
      "('muffle', 0.00027368055)\n",
      "('throats', 0.0002736802)\n",
      "('caution', 0.00027368014)\n",
      "('rebirth—', 0.00027367994)\n",
      "('progressed', 0.00027367967)\n",
      "('cent', 0.00027367944)\n",
      "('machines', 0.0002736793)\n",
      "('urbane', 0.00027367927)\n",
      "('lovers', 0.00027367906)\n",
      "('primary', 0.000273679)\n",
      "('rushed', 0.00027367895)\n",
      "('approximately', 0.00027367863)\n",
      "('before—', 0.0002736783)\n"
     ]
    }
   ],
   "source": [
    "\n",
    "for i in range(1336, 1378):\n",
    "              print(l1[i])"
   ]
  },
  {
   "cell_type": "code",
   "execution_count": 54,
   "metadata": {},
   "outputs": [
    {
     "name": "stdout",
     "output_type": "stream",
     "text": [
      "1738\n"
     ]
    }
   ],
   "source": [
    "\n",
    "for i in range(3648):\n",
    "    if l0[i][0]== \"trysts\":\n",
    "            print(i)"
   ]
  },
  {
   "cell_type": "code",
   "execution_count": 55,
   "metadata": {},
   "outputs": [
    {
     "name": "stdout",
     "output_type": "stream",
     "text": [
      "3128\n"
     ]
    }
   ],
   "source": [
    "\n",
    "for i in range(3648):\n",
    "    if l1[i][0]== \"trysts\":\n",
    "            print(i)"
   ]
  },
  {
   "cell_type": "code",
   "execution_count": 60,
   "metadata": {},
   "outputs": [
    {
     "name": "stdout",
     "output_type": "stream",
     "text": [
      "('gleaming', 0.0001571462)\n",
      "('interconnection', 0.0001571462)\n",
      "('anguished', 0.0001571462)\n",
      "('explained', 0.00015714619)\n",
      "('combining', 0.00015714619)\n",
      "('minuscule', 0.00015714616)\n",
      "('regard', 0.00015714612)\n",
      "('knife', 0.00015714612)\n",
      "('tamburlaine', 0.0001571461)\n",
      "('nuanced', 0.0001571461)\n",
      "('rochester', 0.00015714609)\n",
      "('viable', 0.00015714607)\n",
      "('wealth', 0.00015714603)\n",
      "('returns', 0.00015714603)\n",
      "('climax', 0.00015714603)\n",
      "('webbasedliterary', 0.00015714602)\n",
      "('—protagonist', 0.00015714602)\n",
      "('suntem', 0.00015714593)\n",
      "('sources', 0.00015714591)\n",
      "('gestalt', 0.00015714591)\n",
      "('zeubogăție', 0.0001571459)\n",
      "('trysts', 0.0001571459)\n",
      "('surgicalfileedits', 0.0001571459)\n",
      "('accompanied', 0.00015714586)\n",
      "('collectively', 0.00015714586)\n",
      "('crisis', 0.00015714586)\n",
      "('formatting', 0.00015714584)\n",
      "('poeticdiscourse', 0.00015714584)\n",
      "('procedură', 0.00015714584)\n",
      "('words—are', 0.00015714583)\n",
      "('reciter', 0.00015714583)\n",
      "('what—a', 0.00015714583)\n",
      "('selfmotivated', 0.00015714578)\n",
      "('hell', 0.00015714578)\n",
      "('wordofmouth', 0.00015714578)\n",
      "('selfindulgence', 0.00015714575)\n",
      "('mask', 0.00015714574)\n",
      "('succeeded', 0.00015714567)\n",
      "('remediation', 0.00015714567)\n",
      "('equaling', 0.00015714565)\n",
      "('erau', 0.00015714564)\n",
      "('attacked', 0.00015714564)\n"
     ]
    }
   ],
   "source": [
    "\n",
    "for i in range(1717, 1759):\n",
    "              print(l0[i])"
   ]
  },
  {
   "cell_type": "code",
   "execution_count": 61,
   "metadata": {},
   "outputs": [
    {
     "name": "stdout",
     "output_type": "stream",
     "text": [
      "('effective', 0.00027352234)\n",
      "('codingtechniques', 0.0002735223)\n",
      "('hefty', 0.00027352228)\n",
      "('thirst', 0.00027352222)\n",
      "('nominated', 0.00027352193)\n",
      "('poetryandaudiopractice', 0.00027352181)\n",
      "('deliverysystems', 0.00027352181)\n",
      "('attacked', 0.00027352164)\n",
      "('proper', 0.00027352164)\n",
      "('equaling', 0.0002735216)\n",
      "('erau', 0.00027352155)\n",
      "('succeeded', 0.00027352152)\n",
      "('remediation', 0.0002735214)\n",
      "('mask', 0.00027352123)\n",
      "('selfindulgence', 0.0002735212)\n",
      "('wordofmouth', 0.00027352117)\n",
      "('hell', 0.00027352094)\n",
      "('selfmotivated', 0.00027352083)\n",
      "('words—are', 0.00027352074)\n",
      "('crisis', 0.0002735207)\n",
      "('procedură', 0.0002735207)\n",
      "('reciter', 0.00027352068)\n",
      "('poeticdiscourse', 0.00027352062)\n",
      "('what—a', 0.00027352048)\n",
      "('accompanied', 0.00027352048)\n",
      "('formatting', 0.00027352045)\n",
      "('collectively', 0.00027352042)\n",
      "('surgicalfileedits', 0.0002735204)\n",
      "('sources', 0.00027352036)\n",
      "('gestalt', 0.00027352027)\n",
      "('zeubogăție', 0.00027352027)\n",
      "('trysts', 0.00027352013)\n",
      "('suntem', 0.00027352013)\n",
      "('—protagonist', 0.00027351998)\n",
      "('returns', 0.00027351987)\n",
      "('webbasedliterary', 0.00027351984)\n",
      "('wealth', 0.00027351966)\n",
      "('climax', 0.0002735196)\n",
      "('viable', 0.00027351946)\n",
      "('nuanced', 0.00027351943)\n",
      "('rochester', 0.00027351934)\n",
      "('regard', 0.0002735192)\n",
      "('tamburlaine', 0.00027351914)\n",
      "('knife', 0.0002735191)\n",
      "('minuscule', 0.00027351888)\n",
      "('gleaming', 0.00027351882)\n",
      "('explained', 0.00027351882)\n",
      "('interconnection', 0.0002735187)\n",
      "('wringing', 0.00027351864)\n",
      "('combining', 0.0002735186)\n",
      "('anguished', 0.00027351858)\n",
      "('arriving', 0.00027351844)\n"
     ]
    }
   ],
   "source": [
    "\n",
    "for i in range(3097, 3149):\n",
    "              print(l1[i])"
   ]
  },
  {
   "cell_type": "code",
   "execution_count": 56,
   "metadata": {},
   "outputs": [
    {
     "name": "stdout",
     "output_type": "stream",
     "text": [
      "1619\n"
     ]
    }
   ],
   "source": [
    "\n",
    "for i in range(3648):\n",
    "    if l0[i][0]== \"illicit\":\n",
    "            print(i)"
   ]
  },
  {
   "cell_type": "code",
   "execution_count": 57,
   "metadata": {},
   "outputs": [
    {
     "name": "stdout",
     "output_type": "stream",
     "text": [
      "3243\n"
     ]
    }
   ],
   "source": [
    "\n",
    "for i in range(3648):\n",
    "    if l1[i][0]== \"illicit\":\n",
    "            print(i)"
   ]
  },
  {
   "cell_type": "code",
   "execution_count": 62,
   "metadata": {},
   "outputs": [
    {
     "name": "stdout",
     "output_type": "stream",
     "text": [
      "1282\n"
     ]
    }
   ],
   "source": [
    "\n",
    "for i in range(3648):\n",
    "    if l0[i][0]== \"impotence\":\n",
    "            print(i)"
   ]
  },
  {
   "cell_type": "code",
   "execution_count": 59,
   "metadata": {},
   "outputs": [
    {
     "name": "stdout",
     "output_type": "stream",
     "text": [
      "3581\n"
     ]
    }
   ],
   "source": [
    "\n",
    "for i in range(3648):\n",
    "    if l1[i][0]== \"impotence\":\n",
    "            print(i)"
   ]
  },
  {
   "cell_type": "code",
   "execution_count": 64,
   "metadata": {},
   "outputs": [
    {
     "name": "stdout",
     "output_type": "stream",
     "text": [
      "('pole', 0.00015716127)\n",
      "('platforme', 0.00015716121)\n",
      "('sophisticated', 0.00015716121)\n",
      "('expressiveaudio', 0.00015716118)\n",
      "('credit', 0.00015716115)\n",
      "('mystify', 0.00015716105)\n",
      "('spoken—', 0.00015716096)\n",
      "('hands', 0.00015716093)\n",
      "('goin', 0.00015716092)\n",
      "('zin', 0.00015716073)\n",
      "('midtide', 0.00015716068)\n",
      "('living', 0.00015716063)\n",
      "('cruel', 0.0001571606)\n",
      "('checking', 0.00015716052)\n",
      "('drawn', 0.00015716036)\n",
      "('saucy', 0.00015716012)\n",
      "('maligned', 0.00015716004)\n",
      "('risking', 0.00015715964)\n",
      "('anumite', 0.0001571596)\n",
      "('academicstudy', 0.00015715953)\n",
      "('italicized', 0.00015715952)\n",
      "('impotence', 0.00015715948)\n",
      "('instructed', 0.0001571591)\n",
      "('seas', 0.00015715908)\n",
      "('scan', 0.00015715907)\n",
      "('excerpt', 0.00015715891)\n",
      "('facetime', 0.00015715891)\n",
      "('foto', 0.00015715887)\n",
      "('overlooked—', 0.00015715862)\n",
      "('goes', 0.00015715862)\n",
      "('satisfaction', 0.0001571585)\n",
      "('concerned', 0.00015715843)\n",
      "('woke', 0.0001571584)\n",
      "('believes', 0.00015715836)\n",
      "('experimental', 0.00015715831)\n",
      "('transparent—surely', 0.00015715825)\n",
      "('researchmechanism', 0.00015715817)\n",
      "('attacking', 0.00015715817)\n",
      "('thor', 0.00015715814)\n",
      "('referred', 0.00015715812)\n",
      "('instantaneous', 0.00015715805)\n",
      "('xxxviii', 0.00015715793)\n"
     ]
    }
   ],
   "source": [
    "\n",
    "for i in range(1261, 1303):\n",
    "              print(l0[i])"
   ]
  },
  {
   "cell_type": "code",
   "execution_count": 63,
   "metadata": {},
   "outputs": [
    {
     "name": "stdout",
     "output_type": "stream",
     "text": [
      "('construit', 0.00027345866)\n",
      "('xxxviii', 0.00027345808)\n",
      "('instantaneous', 0.0002734576)\n",
      "('thor', 0.0002734573)\n",
      "('referred', 0.0002734572)\n",
      "('researchmechanism', 0.00027345706)\n",
      "('attacking', 0.000273457)\n",
      "('transparent—surely', 0.0002734564)\n",
      "('experimental', 0.00027345624)\n",
      "('woke', 0.00027345584)\n",
      "('believes', 0.00027345578)\n",
      "('concerned', 0.0002734557)\n",
      "('satisfaction', 0.00027345523)\n",
      "('overlooked—', 0.00027345459)\n",
      "('goes', 0.00027345453)\n",
      "('foto', 0.00027345357)\n",
      "('facetime', 0.00027345313)\n",
      "('excerpt', 0.000273453)\n",
      "('scan', 0.00027345237)\n",
      "('instructed', 0.0002734521)\n",
      "('seas', 0.00027345208)\n",
      "('impotence', 0.0002734503)\n",
      "('italicized', 0.0002734501)\n",
      "('academicstudy', 0.00027345)\n",
      "('anumite', 0.00027344972)\n",
      "('risking', 0.00027344926)\n",
      "('maligned', 0.00027344737)\n",
      "('saucy', 0.0002734468)\n",
      "('drawn', 0.00027344574)\n",
      "('checking', 0.0002734449)\n",
      "('living', 0.00027344434)\n",
      "('cruel', 0.00027344434)\n",
      "('midtide', 0.00027344408)\n",
      "('zin', 0.00027344387)\n",
      "('goin', 0.00027344289)\n",
      "('hands', 0.00027344283)\n",
      "('spoken—', 0.00027344254)\n",
      "('mystify', 0.00027344236)\n",
      "('expressiveaudio', 0.0002734415)\n",
      "('credit', 0.00027344137)\n",
      "('sophisticated', 0.00027344134)\n",
      "('platforme', 0.00027344134)\n"
     ]
    }
   ],
   "source": [
    "\n",
    "for i in range(3560, 3602):\n",
    "              print(l1[i])"
   ]
  },
  {
   "cell_type": "code",
   "execution_count": 66,
   "metadata": {},
   "outputs": [
    {
     "name": "stdout",
     "output_type": "stream",
     "text": [
      "1605\n"
     ]
    }
   ],
   "source": [
    "\n",
    "for i in range(3648):\n",
    "    if l0[i][0]== \"adventures\":\n",
    "            print(i)"
   ]
  },
  {
   "cell_type": "code",
   "execution_count": 67,
   "metadata": {},
   "outputs": [
    {
     "name": "stdout",
     "output_type": "stream",
     "text": [
      "3258\n"
     ]
    }
   ],
   "source": [
    "\n",
    "for i in range(3648):\n",
    "    if l1[i][0]== \"adventures\":\n",
    "            print(i)"
   ]
  },
  {
   "cell_type": "code",
   "execution_count": 69,
   "metadata": {},
   "outputs": [
    {
     "name": "stdout",
     "output_type": "stream",
     "text": [
      "('fluctuation', 0.00015714878)\n",
      "('annotated', 0.00015714875)\n",
      "('offered', 0.00015714871)\n",
      "('writer', 0.00015714871)\n",
      "('hufnagel', 0.00015714864)\n",
      "('noon', 0.00015714859)\n",
      "('acrosstheworld', 0.00015714859)\n",
      "('spaces', 0.00015714859)\n",
      "('import', 0.00015714858)\n",
      "('brilliant', 0.00015714856)\n",
      "('lacks', 0.00015714852)\n",
      "('culture', 0.00015714852)\n",
      "('serving', 0.00015714852)\n",
      "('victorian', 0.0001571485)\n",
      "('brian', 0.00015714849)\n",
      "('hover', 0.00015714843)\n",
      "('largeonlineworks', 0.00015714842)\n",
      "('xliii', 0.00015714842)\n",
      "('kick', 0.0001571484)\n",
      "('dark', 0.00015714839)\n",
      "('diminish', 0.00015714837)\n",
      "('adventures', 0.00015714833)\n",
      "('megacrash', 0.00015714829)\n",
      "('catchsome', 0.00015714829)\n",
      "('rules', 0.00015714829)\n",
      "('welcomed', 0.00015714827)\n",
      "('imagepersonandplace', 0.00015714818)\n",
      "('float', 0.00015714816)\n",
      "('lysistrata', 0.00015714814)\n",
      "('latest', 0.00015714811)\n",
      "('caring', 0.00015714808)\n",
      "('arrives', 0.00015714808)\n",
      "('engages', 0.00015714807)\n",
      "('piecing', 0.00015714807)\n",
      "('originalele', 0.00015714807)\n",
      "('illicit', 0.00015714802)\n",
      "('manageable', 0.000157148)\n",
      "('fellow', 0.000157148)\n",
      "('figures', 0.00015714798)\n",
      "('succinctly', 0.00015714798)\n",
      "('drown', 0.00015714795)\n",
      "('hide', 0.00015714795)\n",
      "('liberties', 0.00015714795)\n",
      "('reflecting', 0.00015714788)\n",
      "('life—', 0.00015714788)\n",
      "('metropolitană', 0.00015714785)\n",
      "('tended', 0.0001571478)\n",
      "('institutional', 0.00015714778)\n",
      "('ashes', 0.00015714773)\n",
      "('insights', 0.00015714772)\n",
      "('anew', 0.0001571477)\n"
     ]
    }
   ],
   "source": [
    "\n",
    "for i in range(1584, 1635):\n",
    "              print(l0[i])"
   ]
  },
  {
   "cell_type": "code",
   "execution_count": 70,
   "metadata": {},
   "outputs": [
    {
     "name": "stdout",
     "output_type": "stream",
     "text": [
      "('hide', 0.00027350982)\n",
      "('drown', 0.00027350974)\n",
      "('liberties', 0.00027350968)\n",
      "('succinctly', 0.00027350956)\n",
      "('figures', 0.0002735095)\n",
      "('fellow', 0.00027350945)\n",
      "('illicit', 0.00027350936)\n",
      "('manageable', 0.0002735093)\n",
      "('originalele', 0.00027350924)\n",
      "('engages', 0.0002735092)\n",
      "('piecing', 0.00027350918)\n",
      "('arrives', 0.0002735091)\n",
      "('caring', 0.00027350895)\n",
      "('latest', 0.00027350883)\n",
      "('lysistrata', 0.0002735088)\n",
      "('float', 0.0002735086)\n",
      "('imagepersonandplace', 0.00027350854)\n",
      "('welcomed', 0.0002735081)\n",
      "('rules', 0.00027350808)\n",
      "('catchsome', 0.000273508)\n",
      "('megacrash', 0.0002735079)\n",
      "('adventures', 0.0002735077)\n",
      "('dark', 0.00027350755)\n",
      "('diminish', 0.00027350738)\n",
      "('hover', 0.00027350732)\n",
      "('largeonlineworks', 0.0002735073)\n",
      "('xliii', 0.00027350726)\n",
      "('kick', 0.0002735072)\n",
      "('brian', 0.00027350718)\n",
      "('victorian', 0.00027350677)\n",
      "('serving', 0.0002735067)\n",
      "('lacks', 0.00027350665)\n",
      "('culture', 0.00027350656)\n",
      "('brilliant', 0.0002735065)\n",
      "('import', 0.00027350645)\n",
      "('noon', 0.0002735064)\n",
      "('spaces', 0.00027350633)\n",
      "('acrosstheworld', 0.00027350633)\n",
      "('hufnagel', 0.00027350622)\n",
      "('writer', 0.00027350584)\n",
      "('offered', 0.0002735057)\n",
      "('annotated', 0.00027350555)\n"
     ]
    }
   ],
   "source": [
    "\n",
    "for i in range(3237, 3279):\n",
    "              print(l1[i])"
   ]
  },
  {
   "cell_type": "code",
   "execution_count": 71,
   "metadata": {},
   "outputs": [
    {
     "name": "stdout",
     "output_type": "stream",
     "text": [
      "2801\n"
     ]
    }
   ],
   "source": [
    "\n",
    "for i in range(3648):\n",
    "    if l0[i][0]== \"danger\":\n",
    "            print(i)"
   ]
  },
  {
   "cell_type": "code",
   "execution_count": 72,
   "metadata": {},
   "outputs": [
    {
     "name": "stdout",
     "output_type": "stream",
     "text": [
      "2063\n"
     ]
    }
   ],
   "source": [
    "\n",
    "for i in range(3648):\n",
    "    if l1[i][0]== \"danger\":\n",
    "            print(i)"
   ]
  },
  {
   "cell_type": "code",
   "execution_count": 73,
   "metadata": {},
   "outputs": [
    {
     "name": "stdout",
     "output_type": "stream",
     "text": [
      "('consisting', 0.00015713078)\n",
      "('institution', 0.00015713075)\n",
      "('dryup', 0.00015713075)\n",
      "('immense', 0.00015713075)\n",
      "('historically', 0.00015713075)\n",
      "('screen', 0.00015713074)\n",
      "('setup', 0.00015713074)\n",
      "('catalog', 0.00015713072)\n",
      "('bypassing', 0.0001571307)\n",
      "('continually', 0.0001571307)\n",
      "('william', 0.0001571307)\n",
      "('amateur', 0.0001571307)\n",
      "('sore', 0.0001571307)\n",
      "('connections', 0.00015713068)\n",
      "('nonsynchronous', 0.00015713068)\n",
      "('înghețate', 0.00015713068)\n",
      "('series', 0.00015713066)\n",
      "('temporarily', 0.00015713066)\n",
      "('știam', 0.00015713065)\n",
      "('halocare', 0.00015713062)\n",
      "('draw', 0.0001571306)\n",
      "('danger', 0.00015713059)\n",
      "('sketch', 0.00015713055)\n",
      "('enwikipediaorgwikifactsheetfive', 0.00015713055)\n",
      "('almost', 0.00015713052)\n",
      "('audioeditions', 0.0001571305)\n",
      "('bogat', 0.0001571305)\n",
      "('arranging', 0.00015713049)\n",
      "('preservation', 0.00015713047)\n",
      "('wishing', 0.00015713046)\n",
      "('founded', 0.00015713046)\n",
      "('translate', 0.00015713045)\n",
      "('suprafața', 0.00015713045)\n",
      "('sifting', 0.00015713042)\n",
      "('mark', 0.0001571304)\n",
      "('meagre', 0.0001571304)\n",
      "('underestimate', 0.00015713037)\n",
      "('discovering', 0.00015713037)\n",
      "('professional', 0.00015713036)\n",
      "('constrict', 0.00015713036)\n",
      "('benefited', 0.00015713036)\n",
      "('resistance', 0.00015713033)\n"
     ]
    }
   ],
   "source": [
    "\n",
    "for i in range(2780, 2822):\n",
    "              print(l0[i])"
   ]
  },
  {
   "cell_type": "code",
   "execution_count": 74,
   "metadata": {},
   "outputs": [
    {
     "name": "stdout",
     "output_type": "stream",
     "text": [
      "('constrict', 0.00027360057)\n",
      "('discovering', 0.00027360057)\n",
      "('professional', 0.00027360054)\n",
      "('underestimate', 0.0002736005)\n",
      "('benefited', 0.0002736004)\n",
      "('resistance', 0.00027360028)\n",
      "('meagre', 0.00027360028)\n",
      "('sifting', 0.00027360025)\n",
      "('translate', 0.00027360002)\n",
      "('mark', 0.00027360002)\n",
      "('suprafața', 0.00027360002)\n",
      "('founded', 0.0002736)\n",
      "('wishing', 0.00027359993)\n",
      "('audioeditions', 0.00027359984)\n",
      "('preservation', 0.00027359984)\n",
      "('arranging', 0.00027359976)\n",
      "('almost', 0.00027359964)\n",
      "('bogat', 0.0002735996)\n",
      "('sketch', 0.00027359955)\n",
      "('enwikipediaorgwikifactsheetfive', 0.0002735995)\n",
      "('draw', 0.00027359932)\n",
      "('danger', 0.0002735993)\n",
      "('halocare', 0.00027359917)\n",
      "('connections', 0.00027359888)\n",
      "('temporarily', 0.00027359888)\n",
      "('nonsynchronous', 0.00027359882)\n",
      "('continually', 0.0002735988)\n",
      "('înghețate', 0.00027359877)\n",
      "('bypassing', 0.00027359877)\n",
      "('amateur', 0.00027359877)\n",
      "('series', 0.00027359874)\n",
      "('william', 0.0002735987)\n",
      "('știam', 0.0002735987)\n",
      "('screen', 0.00027359865)\n",
      "('catalog', 0.00027359862)\n",
      "('sore', 0.0002735985)\n",
      "('setup', 0.0002735984)\n",
      "('institution', 0.00027359833)\n",
      "('immense', 0.00027359833)\n",
      "('historically', 0.00027359833)\n",
      "('incompetent', 0.0002735983)\n",
      "('sight', 0.0002735983)\n"
     ]
    }
   ],
   "source": [
    "\n",
    "for i in range(2042, 2084):\n",
    "              print(l1[i])"
   ]
  },
  {
   "cell_type": "code",
   "execution_count": 75,
   "metadata": {},
   "outputs": [
    {
     "name": "stdout",
     "output_type": "stream",
     "text": [
      "962\n"
     ]
    }
   ],
   "source": [
    "\n",
    "for i in range(3648):\n",
    "    if l0[i][0]== \"intrigue\":\n",
    "            print(i)"
   ]
  },
  {
   "cell_type": "code",
   "execution_count": 76,
   "metadata": {},
   "outputs": [
    {
     "name": "stdout",
     "output_type": "stream",
     "text": [
      "('local', 0.00026193995)\n",
      "('broadly', 0.0002619399)\n",
      "('acts', 0.00026193986)\n",
      "('control', 0.0002619395)\n",
      "('inbetween', 0.0002619395)\n",
      "('waves', 0.00026193945)\n",
      "('refine', 0.0002619394)\n",
      "('irrelevant', 0.00026193936)\n",
      "('extra', 0.00026193936)\n",
      "('xxix', 0.00026193928)\n",
      "('mashtalir', 0.00026193916)\n",
      "('components', 0.00026193875)\n",
      "('epic', 0.00026193834)\n",
      "('2010', 0.00026193834)\n",
      "('directly', 0.00026193826)\n",
      "('easy', 0.00026193794)\n",
      "('deptford', 0.0002619379)\n",
      "('designed', 0.00026193773)\n",
      "('stuck', 0.00026193724)\n",
      "('false', 0.0002619371)\n",
      "('stronger', 0.00026193704)\n",
      "('intrigue', 0.00026193695)\n",
      "('analog', 0.00026193683)\n",
      "('mechanism', 0.00026193683)\n",
      "('active', 0.00026193674)\n",
      "('hand', 0.00026193654)\n",
      "('influences', 0.00026193637)\n",
      "('artworks', 0.0002619363)\n",
      "('atât', 0.00026193578)\n",
      "('blues', 0.00026193575)\n",
      "('converter', 0.00026193558)\n",
      "('crucial', 0.00026193543)\n",
      "('prewww', 0.00026193523)\n",
      "('covent', 0.00026193517)\n",
      "('large', 0.00026193503)\n",
      "('riffs', 0.000261935)\n",
      "('microphone', 0.00026193494)\n",
      "('real', 0.0002619348)\n",
      "('knowing', 0.0002619347)\n",
      "('frith', 0.0002619344)\n",
      "('cassetterecorder', 0.00026193412)\n",
      "('bored', 0.00026193404)\n"
     ]
    }
   ],
   "source": [
    "\n",
    "for i in range(941, 983):\n",
    "              print(l0[i])"
   ]
  },
  {
   "cell_type": "code",
   "execution_count": 77,
   "metadata": {},
   "outputs": [
    {
     "name": "stdout",
     "output_type": "stream",
     "text": [
      "917\n"
     ]
    }
   ],
   "source": [
    "\n",
    "for i in range(3648):\n",
    "    if l1[i][0]== \"intrigue\":\n",
    "            print(i)"
   ]
  },
  {
   "cell_type": "code",
   "execution_count": 78,
   "metadata": {},
   "outputs": [
    {
     "name": "stdout",
     "output_type": "stream",
     "text": [
      "('bored', 0.00027409312)\n",
      "('cassetterecorder', 0.00027409272)\n",
      "('frith', 0.00027409132)\n",
      "('knowing', 0.0002740895)\n",
      "('real', 0.0002740894)\n",
      "('riffs', 0.00027408855)\n",
      "('microphone', 0.00027408823)\n",
      "('large', 0.000274088)\n",
      "('prewww', 0.00027408727)\n",
      "('covent', 0.00027408722)\n",
      "('crucial', 0.00027408596)\n",
      "('converter', 0.00027408512)\n",
      "('eventually', 0.00027408442)\n",
      "('blues', 0.00027408425)\n",
      "('atât', 0.00027408387)\n",
      "('artworks', 0.00027408142)\n",
      "('influences', 0.0002740811)\n",
      "('hand', 0.0002740805)\n",
      "('active', 0.00027407962)\n",
      "('analog', 0.00027407895)\n",
      "('mechanism', 0.00027407857)\n",
      "('intrigue', 0.00027407822)\n",
      "('stronger', 0.00027407779)\n",
      "('false', 0.00027407726)\n",
      "('stuck', 0.00027407683)\n",
      "('designed', 0.0002740744)\n",
      "('deptford', 0.00027407365)\n",
      "('easy', 0.00027407316)\n",
      "('directly', 0.00027407156)\n",
      "('epic', 0.00027407098)\n",
      "('2010', 0.00027407074)\n",
      "('components', 0.000274069)\n",
      "('berry', 0.000274069)\n",
      "('mashtalir', 0.00027406696)\n",
      "('xxix', 0.00027406611)\n",
      "('refine', 0.00027406565)\n",
      "('irrelevant', 0.00027406547)\n",
      "('extra', 0.00027406545)\n",
      "('waves', 0.00027406536)\n",
      "('control', 0.000274065)\n",
      "('inbetween', 0.00027406495)\n",
      "('broadly', 0.00027406318)\n"
     ]
    }
   ],
   "source": [
    "\n",
    "for i in range(896, 938):\n",
    "              print(l1[i])"
   ]
  },
  {
   "cell_type": "code",
   "execution_count": 81,
   "metadata": {},
   "outputs": [
    {
     "name": "stdout",
     "output_type": "stream",
     "text": [
      "1404\n"
     ]
    }
   ],
   "source": [
    "\n",
    "for i in range(3648):\n",
    "    if l0[i][0]== \"density\":\n",
    "            print(i)"
   ]
  },
  {
   "cell_type": "code",
   "execution_count": 82,
   "metadata": {},
   "outputs": [
    {
     "name": "stdout",
     "output_type": "stream",
     "text": [
      "3459\n"
     ]
    }
   ],
   "source": [
    "for i in range(3648):\n",
    "    if l1[i][0]== \"density\":\n",
    "            print(i)"
   ]
  },
  {
   "cell_type": "code",
   "execution_count": 83,
   "metadata": {},
   "outputs": [
    {
     "name": "stdout",
     "output_type": "stream",
     "text": [
      "('stories', 0.00015715437)\n",
      "('coronavirus', 0.00015715435)\n",
      "('fast', 0.00015715434)\n",
      "('ethos', 0.00015715428)\n",
      "('fields', 0.00015715428)\n",
      "('hierarchies', 0.00015715427)\n",
      "('movement', 0.0001571542)\n",
      "('marlowe—edward', 0.0001571542)\n",
      "('ravel', 0.0001571542)\n",
      "('tourists', 0.00015715418)\n",
      "('basketed', 0.0001571541)\n",
      "('tragedies', 0.0001571541)\n",
      "('anglosaxone', 0.00015715409)\n",
      "('convertible', 0.00015715406)\n",
      "('numerous', 0.00015715403)\n",
      "('london—marlowe', 0.00015715403)\n",
      "('support—', 0.00015715402)\n",
      "('notably', 0.00015715396)\n",
      "('resolve', 0.00015715393)\n",
      "('subsaharan', 0.00015715385)\n",
      "('keepup', 0.00015715377)\n",
      "('density', 0.00015715376)\n",
      "('emphasises', 0.00015715361)\n",
      "('worldwide', 0.00015715357)\n",
      "('listeningsession', 0.00015715357)\n",
      "('feel', 0.00015715351)\n",
      "('joined', 0.00015715348)\n",
      "('fericirea', 0.00015715347)\n",
      "('revised', 0.00015715347)\n",
      "('sofa', 0.00015715344)\n",
      "('acquired', 0.00015715336)\n",
      "('activategenerate', 0.00015715335)\n",
      "('drudge', 0.00015715334)\n",
      "('hybridized', 0.0001571533)\n",
      "('solved', 0.00015715329)\n",
      "('occurrence', 0.00015715329)\n",
      "('specifications', 0.00015715325)\n",
      "('gave', 0.00015715322)\n",
      "('rebuilt', 0.00015715316)\n",
      "('cunning', 0.00015715316)\n",
      "('anglosaxons', 0.00015715312)\n",
      "('madness', 0.00015715306)\n"
     ]
    }
   ],
   "source": [
    "\n",
    "for i in range(1383, 1425):\n",
    "              print(l0[i])"
   ]
  },
  {
   "cell_type": "code",
   "execution_count": 84,
   "metadata": {},
   "outputs": [
    {
     "name": "stdout",
     "output_type": "stream",
     "text": [
      "('limits', 0.00027348334)\n",
      "('metropolitan', 0.0002734833)\n",
      "('anglosaxons', 0.00027348305)\n",
      "('cunning', 0.00027348276)\n",
      "('rebuilt', 0.00027348273)\n",
      "('specifications', 0.0002734824)\n",
      "('gave', 0.00027348235)\n",
      "('solved', 0.0002734822)\n",
      "('hybridized', 0.00027348206)\n",
      "('occurrence', 0.00027348203)\n",
      "('activategenerate', 0.00027348188)\n",
      "('acquired', 0.00027348177)\n",
      "('drudge', 0.00027348168)\n",
      "('sofa', 0.0002734813)\n",
      "('fericirea', 0.00027348124)\n",
      "('joined', 0.0002734812)\n",
      "('revised', 0.00027348116)\n",
      "('feel', 0.00027348095)\n",
      "('worldwide', 0.00027348078)\n",
      "('listeningsession', 0.0002734807)\n",
      "('emphasises', 0.00027348043)\n",
      "('density', 0.00027347976)\n",
      "('keepup', 0.0002734796)\n",
      "('subsaharan', 0.0002734794)\n",
      "('resolve', 0.00027347883)\n",
      "('notably', 0.00027347868)\n",
      "('support—', 0.00027347848)\n",
      "('numerous', 0.00027347845)\n",
      "('london—marlowe', 0.00027347833)\n",
      "('convertible', 0.00027347813)\n",
      "('tragedies', 0.0002734781)\n",
      "('anglosaxone', 0.0002734781)\n",
      "('basketed', 0.000273478)\n",
      "('tourists', 0.00027347764)\n",
      "('marlowe—edward', 0.0002734776)\n",
      "('movement', 0.00027347758)\n",
      "('ravel', 0.00027347737)\n",
      "('hierarchies', 0.00027347714)\n",
      "('ethos', 0.00027347702)\n",
      "('fields', 0.00027347694)\n",
      "('fast', 0.0002734768)\n",
      "('coronavirus', 0.00027347673)\n"
     ]
    }
   ],
   "source": [
    "\n",
    "for i in range(3438, 3480):\n",
    "              print(l1[i])"
   ]
  },
  {
   "cell_type": "code",
   "execution_count": 85,
   "metadata": {},
   "outputs": [
    {
     "name": "stdout",
     "output_type": "stream",
     "text": [
      "1531\n"
     ]
    }
   ],
   "source": [
    "\n",
    "for i in range(3648):\n",
    "    if l0[i][0]== \"fluidity\":\n",
    "            print(i)"
   ]
  },
  {
   "cell_type": "code",
   "execution_count": 86,
   "metadata": {},
   "outputs": [
    {
     "name": "stdout",
     "output_type": "stream",
     "text": [
      "3332\n"
     ]
    }
   ],
   "source": [
    "\n",
    "for i in range(3648):\n",
    "    if l1[i][0]== \"fluidity\":\n",
    "            print(i)"
   ]
  },
  {
   "cell_type": "code",
   "execution_count": 87,
   "metadata": {},
   "outputs": [
    {
     "name": "stdout",
     "output_type": "stream",
     "text": [
      "669\n"
     ]
    }
   ],
   "source": [
    "\n",
    "for i in range(3648):\n",
    "    if l0[i][0]== \"authentic\":\n",
    "            print(i)"
   ]
  },
  {
   "cell_type": "code",
   "execution_count": 88,
   "metadata": {},
   "outputs": [
    {
     "name": "stdout",
     "output_type": "stream",
     "text": [
      "('preparation', 0.00015715082)\n",
      "('confusion', 0.00015715082)\n",
      "('meal', 0.0001571508)\n",
      "('switch', 0.0001571508)\n",
      "('opposition', 0.00015715076)\n",
      "('sell', 0.00015715072)\n",
      "('219', 0.00015715072)\n",
      "('provocative', 0.00015715066)\n",
      "('african', 0.00015715064)\n",
      "('inclined', 0.00015715064)\n",
      "('infamous', 0.00015715061)\n",
      "('bores', 0.00015715054)\n",
      "('dynamic', 0.00015715047)\n",
      "('etymology', 0.00015715047)\n",
      "('networkinterfaces', 0.00015715044)\n",
      "('resolution', 0.00015715044)\n",
      "('bucharest', 0.00015715043)\n",
      "('remain', 0.00015715041)\n",
      "('goodbye', 0.00015715041)\n",
      "('view—from', 0.00015715038)\n",
      "('prehistoricdigitalpoetry', 0.00015715038)\n",
      "('fluidity', 0.00015715037)\n",
      "('ableton', 0.00015715034)\n",
      "('frieze', 0.00015715027)\n",
      "('april', 0.00015715027)\n",
      "('husband', 0.00015715022)\n",
      "('tagging', 0.00015715009)\n",
      "('concentrate', 0.00015715006)\n",
      "('woes', 0.00015714992)\n",
      "('bridled', 0.00015714989)\n",
      "('mobiletechnologies', 0.00015714986)\n",
      "('narrator', 0.00015714984)\n",
      "('balding', 0.00015714984)\n",
      "('newarkreview', 0.00015714981)\n",
      "('publichtml', 0.0001571498)\n",
      "('middle', 0.00015714979)\n",
      "('instruction', 0.00015714976)\n",
      "('upsides', 0.00015714974)\n",
      "('nicely', 0.00015714968)\n",
      "('rhymingverse', 0.00015714958)\n",
      "('witless', 0.00015714957)\n",
      "('colosseum', 0.00015714954)\n"
     ]
    }
   ],
   "source": [
    "\n",
    "for i in range(1510, 1552):\n",
    "              print(l0[i])"
   ]
  },
  {
   "cell_type": "code",
   "execution_count": 89,
   "metadata": {},
   "outputs": [
    {
     "name": "stdout",
     "output_type": "stream",
     "text": [
      "('endeavour', 0.00027350162)\n",
      "('colosseum', 0.00027350147)\n",
      "('rhymingverse', 0.00027350138)\n",
      "('witless', 0.00027350127)\n",
      "('nicely', 0.00027350074)\n",
      "('upsides', 0.00027350045)\n",
      "('instruction', 0.00027350034)\n",
      "('middle', 0.0002735002)\n",
      "('publichtml', 0.0002735001)\n",
      "('newarkreview', 0.0002735001)\n",
      "('narrator', 0.0002734999)\n",
      "('mobiletechnologies', 0.00027349987)\n",
      "('balding', 0.00027349978)\n",
      "('bridled', 0.00027349975)\n",
      "('woes', 0.00027349973)\n",
      "('concentrate', 0.0002734989)\n",
      "('tagging', 0.0002734988)\n",
      "('husband', 0.00027349795)\n",
      "('frieze', 0.00027349783)\n",
      "('april', 0.00027349766)\n",
      "('ableton', 0.00027349737)\n",
      "('fluidity', 0.00027349725)\n",
      "('view—from', 0.00027349713)\n",
      "('bucharest', 0.0002734971)\n",
      "('remain', 0.00027349702)\n",
      "('prehistoricdigitalpoetry', 0.00027349693)\n",
      "('networkinterfaces', 0.00027349687)\n",
      "('goodbye', 0.00027349687)\n",
      "('resolution', 0.00027349687)\n",
      "('dynamic', 0.0002734968)\n",
      "('etymology', 0.00027349673)\n",
      "('bores', 0.00027349632)\n",
      "('infamous', 0.00027349606)\n",
      "('african', 0.00027349603)\n",
      "('inclined', 0.00027349588)\n",
      "('provocative', 0.0002734958)\n",
      "('sell', 0.0002734954)\n",
      "('219', 0.00027349533)\n",
      "('opposition', 0.00027349516)\n",
      "('switch', 0.000273495)\n",
      "('preparation', 0.00027349492)\n",
      "('meal', 0.00027349492)\n"
     ]
    }
   ],
   "source": [
    "\n",
    "for i in range(3311, 3353):\n",
    "              print(l1[i])"
   ]
  },
  {
   "cell_type": "code",
   "execution_count": null,
   "metadata": {},
   "outputs": [],
   "source": []
  }
 ],
 "metadata": {
  "kernelspec": {
   "display_name": "Python 3",
   "language": "python",
   "name": "python3"
  },
  "language_info": {
   "codemirror_mode": {
    "name": "ipython",
    "version": 3
   },
   "file_extension": ".py",
   "mimetype": "text/x-python",
   "name": "python",
   "nbconvert_exporter": "python",
   "pygments_lexer": "ipython3",
   "version": "3.7.6"
  }
 },
 "nbformat": 4,
 "nbformat_minor": 2
}
