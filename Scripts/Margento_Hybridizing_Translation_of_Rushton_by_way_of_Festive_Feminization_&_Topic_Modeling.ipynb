{
 "cells": [
  {
   "cell_type": "code",
   "execution_count": 1,
   "metadata": {},
   "outputs": [],
   "source": [
    "import sys"
   ]
  },
  {
   "cell_type": "code",
   "execution_count": 2,
   "metadata": {},
   "outputs": [
    {
     "data": {
      "text/plain": [
       "'/Users/christanasescu/opt/anaconda3/bin/python3'"
      ]
     },
     "execution_count": 2,
     "metadata": {},
     "output_type": "execute_result"
    }
   ],
   "source": [
    "sys.executable"
   ]
  },
  {
   "cell_type": "code",
   "execution_count": 3,
   "metadata": {},
   "outputs": [
    {
     "data": {
      "text/plain": [
       "['/Users/christanasescu',\n",
       " '/Users/christanasescu/opt/anaconda3/lib/python37.zip',\n",
       " '/Users/christanasescu/opt/anaconda3/lib/python3.7',\n",
       " '/Users/christanasescu/opt/anaconda3/lib/python3.7/lib-dynload',\n",
       " '',\n",
       " '/Users/christanasescu/opt/anaconda3/lib/python3.7/site-packages',\n",
       " '/Users/christanasescu/opt/anaconda3/lib/python3.7/site-packages/IPython/extensions',\n",
       " '/Users/christanasescu/.ipython']"
      ]
     },
     "execution_count": 3,
     "metadata": {},
     "output_type": "execute_result"
    }
   ],
   "source": [
    "sys.path"
   ]
  },
  {
   "cell_type": "code",
   "execution_count": 1,
   "metadata": {},
   "outputs": [
    {
     "ename": "ModuleNotFoundError",
     "evalue": "No module named 'pyLDAvis'",
     "output_type": "error",
     "traceback": [
      "\u001b[0;31m---------------------------------------------------------------------------\u001b[0m",
      "\u001b[0;31mModuleNotFoundError\u001b[0m                       Traceback (most recent call last)",
      "\u001b[0;32m<ipython-input-1-d85ed8ac68a8>\u001b[0m in \u001b[0;36m<module>\u001b[0;34m\u001b[0m\n\u001b[1;32m     23\u001b[0m \u001b[0;34m\u001b[0m\u001b[0m\n\u001b[1;32m     24\u001b[0m \u001b[0;31m# Plotting tools\u001b[0m\u001b[0;34m\u001b[0m\u001b[0;34m\u001b[0m\u001b[0;34m\u001b[0m\u001b[0m\n\u001b[0;32m---> 25\u001b[0;31m \u001b[0;32mimport\u001b[0m \u001b[0mpyLDAvis\u001b[0m\u001b[0;34m\u001b[0m\u001b[0;34m\u001b[0m\u001b[0m\n\u001b[0m\u001b[1;32m     26\u001b[0m \u001b[0;32mimport\u001b[0m \u001b[0mpyLDAvis\u001b[0m\u001b[0;34m.\u001b[0m\u001b[0mgensim\u001b[0m  \u001b[0;31m# don't skip this\u001b[0m\u001b[0;34m\u001b[0m\u001b[0;34m\u001b[0m\u001b[0m\n\u001b[1;32m     27\u001b[0m \u001b[0;32mimport\u001b[0m \u001b[0mmatplotlib\u001b[0m\u001b[0;34m.\u001b[0m\u001b[0mpyplot\u001b[0m \u001b[0;32mas\u001b[0m \u001b[0mplt\u001b[0m\u001b[0;34m\u001b[0m\u001b[0;34m\u001b[0m\u001b[0m\n",
      "\u001b[0;31mModuleNotFoundError\u001b[0m: No module named 'pyLDAvis'"
     ]
    }
   ],
   "source": [
    "import re\n",
    "import numpy as np\n",
    "import pandas as pd\n",
    "from pprint import pprint\n",
    "from nltk.tokenize import sent_tokenize, word_tokenize\n",
    "import os\n",
    "#The OS module in Python provides a way of using operating system dependent functionality. \n",
    "#The functions that the OS module provides allows you to interface with the underlying operating system \n",
    "#that Python is running on – be that Windows, Mac or Linux.\n",
    "\n",
    "from os import listdir\n",
    "from os.path import isfile, join\n",
    "\n",
    "# Gensim\n",
    "import gensim\n",
    "import gensim.corpora as corpora\n",
    "from gensim import models, corpora\n",
    "from gensim.utils import simple_preprocess\n",
    "from gensim.models import CoherenceModel\n",
    "\n",
    "# spacy for lemmatization\n",
    "import spacy\n",
    "\n",
    "# Plotting tools\n",
    "import pyLDAvis\n",
    "import pyLDAvis.gensim  # don't skip this\n",
    "import matplotlib.pyplot as plt\n",
    "%matplotlib inline\n",
    "\n",
    "# Enable logging for gensim - optional\n",
    "import logging\n",
    "logging.basicConfig(format='%(asctime)s : %(levelname)s : %(message)s', level=logging.ERROR)\n",
    "\n",
    "import warnings\n",
    "warnings.filterwarnings(\"ignore\",category=DeprecationWarning)"
   ]
  },
  {
   "cell_type": "code",
   "execution_count": 2,
   "metadata": {},
   "outputs": [
    {
     "name": "stderr",
     "output_type": "stream",
     "text": [
      "[nltk_data] Downloading package stopwords to\n",
      "[nltk_data]     /Users/christanasescu/nltk_data...\n",
      "[nltk_data]   Unzipping corpora/stopwords.zip.\n"
     ]
    },
    {
     "data": {
      "text/plain": [
       "True"
      ]
     },
     "execution_count": 2,
     "metadata": {},
     "output_type": "execute_result"
    }
   ],
   "source": [
    "import nltk as nltk \n",
    "nltk.download('stopwords')"
   ]
  },
  {
   "cell_type": "code",
   "execution_count": 3,
   "metadata": {},
   "outputs": [],
   "source": [
    "stopwords = nltk.corpus.stopwords.words('stop_words_poetry.txt')\n",
    "\n",
    "stopwords.append('...')\n",
    "stopwords.append(\"'d\")\n",
    "stopwords.append('...')\n",
    "stopwords.append(\"&\")\n",
    "stopwords.append(\"upon\")\n",
    "stopwords.append(\"also\")\n",
    "stopwords.append(\"hath\")\n",
    "stopwords.append(\"must\")\n",
    "stopwords.append(\"therefore\")\n",
    "stopwords.append(\"doth\")\n",
    "stopwords.append(\"could\")\n",
    "stopwords.append(\"would\")\n",
    "stopwords.append(\"another\")\n",
    "stopwords.append(\"much\")\n",
    "stopwords.append(\"give\")\n",
    "stopwords.append(\"like\")\n",
    "stopwords.append(\"since\")\n",
    "stopwords.append(\"many\")\n",
    "stopwords.append(\"without\")\n",
    "stopwords.append(\"first\")\n",
    "stopwords.append(\"though\")\n",
    "stopwords.append(\"well\")\n",
    "stopwords.append(\"often\")\n",
    "stopwords.append(\"great\")\n",
    "stopwords.append(\"either\")\n",
    "stopwords.append(\"even\")\n",
    "stopwords.append(\"shall\")\n",
    "stopwords.append(\"they\")\n",
    "stopwords.append(\"what\")\n",
    "stopwords.append(\"their\")\n",
    "stopwords.append(\"more\")\n",
    "stopwords.append(\"there\")\n",
    "stopwords.append(\"your\")\n",
    "stopwords.append(\"them\")"
   ]
  },
  {
   "cell_type": "code",
   "execution_count": 4,
   "metadata": {},
   "outputs": [],
   "source": [
    "def tokenize(text):\n",
    "    tokens = word_tokenize(text)\n",
    "    tokens = _pre_clean(tokens)\n",
    "    tokens = [token for token in tokens if len(token) > 0]\n",
    "    tokens = [token for token in tokens if token not in stopwords]\n",
    "    #tokens = [get_lemma(token) for token in tokens]\n",
    "    return tokens"
   ]
  },
  {
   "cell_type": "code",
   "execution_count": 5,
   "metadata": {},
   "outputs": [
    {
     "data": {
      "text/plain": [
       "'/Users/christanasescu'"
      ]
     },
     "execution_count": 5,
     "metadata": {},
     "output_type": "execute_result"
    }
   ],
   "source": [
    "pwd"
   ]
  },
  {
   "cell_type": "code",
   "execution_count": 5,
   "metadata": {},
   "outputs": [],
   "source": [
    "import os"
   ]
  },
  {
   "cell_type": "code",
   "execution_count": 11,
   "metadata": {},
   "outputs": [],
   "source": [
    "#cd fastText_multilingual-master"
   ]
  },
  {
   "cell_type": "code",
   "execution_count": 6,
   "metadata": {},
   "outputs": [],
   "source": [
    "\n",
    "HOME = os.getcwd()"
   ]
  },
  {
   "cell_type": "code",
   "execution_count": 7,
   "metadata": {},
   "outputs": [],
   "source": [
    "def _pre_clean(list_of_text):\n",
    "        '''\n",
    "        preliminary cleaning of the text\n",
    "        - remove new line character i.e. \\n or \\r\n",
    "        - remove tabs i.e. \\t\n",
    "        - remove extra spaces\n",
    "        '''\n",
    "        cleaned_list = []\n",
    "        for text in list_of_text:\n",
    "            # print(\"original:\", text)\n",
    "            text = text.replace('\\\\n', ' ')\n",
    "            text = text.replace('\\\\r', ' ')\n",
    "            text = text.replace('\\\\t', ' ')\n",
    "            pattern = re.compile(r'\\s+')\n",
    "            text = re.sub(pattern, ' ', text)\n",
    "            text = text.strip()\n",
    "            text = text.lower()\n",
    "            # check for empty strings\n",
    "            if text != '' and text is not None:\n",
    "                cleaned_list.append(text)\n",
    "\n",
    "        return cleaned_list"
   ]
  },
  {
   "cell_type": "code",
   "execution_count": 8,
   "metadata": {},
   "outputs": [
    {
     "name": "stdout",
     "output_type": "stream",
     "text": [
      "{0: 'rushton_festive_feminization.txt'}\n"
     ]
    }
   ],
   "source": [
    "TEXTS_DIR = HOME + \"/rushton_festive_feminization_for_margento_trans/\"\n",
    "\n",
    "filelabels = {}\n",
    "\n",
    "texts_data = []\n",
    "\n",
    "files = [f for f in os.listdir(TEXTS_DIR) if os.path.isfile(os.path.join(TEXTS_DIR, f))]\n",
    "\n",
    "import string\n",
    "from string import punctuation\n",
    "\n",
    "remove_punct_map = dict.fromkeys(map(ord, string.punctuation))\n",
    "\n",
    "tokens_total = []\n",
    "\n",
    "count = -1\n",
    " \n",
    "os.chdir(TEXTS_DIR)\n",
    "    \n",
    "for f in files:\n",
    "    #os.chdir(TEXTS_DIR)\n",
    "    with open(f, \"r\", encoding='utf-8', errors = 'ignore') as openf:\n",
    "        tokens = []\n",
    "        count = count + 1\n",
    "        filelabels[count] = os.path.basename(openf.name)\n",
    "        for line in openf:\n",
    "            sent_text = nltk.sent_tokenize(line)\n",
    "            for sentence in sent_text:\n",
    "                tokens1 = tokenize(sentence)\n",
    "                tokens1 = [item.translate(remove_punct_map)\n",
    "                      for item in tokens1]\n",
    "                #filter_object = filter(lambda x: x != \"\", tokens1)\n",
    "                tokens1 = [x for x in tokens1 if x!= \"\"]\n",
    "                for token in tokens1:\n",
    "                    tokens.append(token)\n",
    "                    tokens_total.append(token)\n",
    "                #if random.random() > .99:\n",
    "                #print(tokens)\n",
    "    #print(tokens_total)\n",
    "    texts_data.append(tokens)\n",
    "\n",
    "print(filelabels)"
   ]
  },
  {
   "cell_type": "code",
   "execution_count": 9,
   "metadata": {},
   "outputs": [
    {
     "data": {
      "text/plain": [
       "19310"
      ]
     },
     "execution_count": 9,
     "metadata": {},
     "output_type": "execute_result"
    }
   ],
   "source": [
    "\n",
    "len(tokens_total)"
   ]
  },
  {
   "cell_type": "code",
   "execution_count": 10,
   "metadata": {},
   "outputs": [],
   "source": [
    "tokens_total = [x for x in tokens_total if x not in stopwords]"
   ]
  },
  {
   "cell_type": "code",
   "execution_count": 11,
   "metadata": {},
   "outputs": [
    {
     "data": {
      "text/plain": [
       "19253"
      ]
     },
     "execution_count": 11,
     "metadata": {},
     "output_type": "execute_result"
    }
   ],
   "source": [
    "\n",
    "len(tokens_total)"
   ]
  },
  {
   "cell_type": "code",
   "execution_count": 19,
   "metadata": {},
   "outputs": [],
   "source": [
    "from collections import Counter\n",
    "\n",
    "Count_total = Counter(tokens_total)"
   ]
  },
  {
   "cell_type": "code",
   "execution_count": 20,
   "metadata": {},
   "outputs": [
    {
     "name": "stdout",
     "output_type": "stream",
     "text": [
      "Counter({'work': 65, 'verse': 62, 'ovid': 52, 'poetry': 42, 'time': 42, 'other': 39, 'poet': 39, 'poets': 32, 'digital': 31, 'audio': 31, 'lines': 30, 'poem': 30, 'writing': 28, 'when': 26, 'media': 25, 'write': 25, 'beat': 23, 'line': 23, 'marlowe': 22, 'sound': 21, 'both': 21, 'might': 21, 'dryden': 20, 'course': 19, 'thought': 19, 'half': 19, 'said': 19, 'research': 18, 'three': 18, 'voice': 18, 'used': 18, 'recordings': 18, 'project': 18, 'make': 18, 'thanks': 18, 'best': 17, 'production': 17, 'online': 17, 'magazine': 16, 'made': 16, 'form': 16, 'where': 15, 'every': 15, 'poems': 15, 'years': 14, 'better': 14, 'humanities': 13, 'others': 13, 'life': 13, 'making': 13, 'each': 13, 'perhaps': 13, 'know': 13, 'plan': 13, 'between': 13, 'pennsound': 13, 'translation': 13, 'rhythm': 13, 'alter': 13, 'working': 12, 'literary': 12, 'voices': 12, 'technology': 12, 'least': 12, 'only': 12, 'order': 12, 'material': 12, 'came': 12, 'type': 12, 'before': 12, 'part': 12, 'types': 11, 'creative': 11, 'using': 11, 'later': 11, 'word': 11, 'sense': 11, 'again': 11, 'most': 11, 'things': 11, 'electronic': 11, 'text': 11, 'over': 11, 'written': 11, 'take': 11, 'something': 11, 'find': 11, 'here': 11, 'times': 11, 'down': 11, 'verses': 11, 'wine': 11, 'based': 10, 'press': 10, 'because': 10, 'being': 10, 'artists': 10, 'less': 10, 'words': 10, 'presentation': 10, 'thoughts': 10, 'archives': 10, 'artist': 10, 'translated': 10, 'personal': 9, 'projects': 9, 'people': 9, 'networks': 9, 'interests': 9, 'began': 9, 'recording': 9, 'radio': 9, 'materials': 9, 'produced': 9, 'read': 9, 'language': 9, 'works': 9, 'available': 9, 'five': 9, 'able': 9, 'network': 9, 'very': 9, 'study': 9, 'practice': 9, 'good': 9, 'found': 9, 'someone': 9, 'always': 9, 'examples': 9, 'different': 9, 'still': 9, 'worse': 9, 'glass': 9, 'change': 9, 'right': 9, 'engagement': 8, 'during': 8, 'cassette': 8, 'design': 8, 'early': 8, 'start': 8, 'issue': 8, 'publications': 8, 'edition': 8, 'recorded': 8, 'home': 8, 'finding': 8, 'long': 8, 'version': 8, 'point': 8, 'interactive': 8, 'full': 8, 'margento': 8, 'translations': 8, 'second': 8, 'poetic': 7, 'documentary': 7, 'uniting': 7, 'tape': 7, 'same': 7, 'small': 7, 'never': 7, 'somewhat': 7, 'after': 7, 'producing': 7, 'performance': 7, 'including': 7, 'important': 7, 'publication': 7, 'until': 7, 'brought': 7, 'studio': 7, 'sounds': 7, 'internet': 7, 'reading': 7, 'example': 7, 'book': 7, 'content': 7, 'software': 7, 'place': 7, 'prepared': 7, 'funk': 7, 'soundbox': 7, 'modern': 7, 'style': 7, 'taste': 7, 'love': 7, 'problem': 7, 'egos': 7, 'mine': 7, 'rome': 7, 'applied': 6, 'processes': 6, 'ability': 6, 'program': 6, 'naropa': 6, 'computers': 6, 'spoken': 6, 'knew': 6, 'wrote': 6, 'approach': 6, 'several': 6, 'strong': 6, 'various': 6, 'information': 6, 'effort': 6, 'state': 6, 'towards': 6, 'enabled': 6, 'school': 6, 'access': 6, 'editors': 6, 'once': 6, 'world': 6, 'process': 6, 'presenting': 6, 'listen': 6, 'efforts': 6, 'contemporary': 6, 'help': 6, 'mind': 6, 'beyond': 6, 'useful': 6, 'archive': 6, '2012': 6, 'together': 6, 'author': 6, 'away': 6, 'four': 6, 'death': 6, 'english': 6, 'think': 6, 'illustrations': 6, 'pattern': 6, 'diddley': 6, 'last': 6, 'topic': 6, 'exile': 6, 'agree': 6, 'ancient': 6, 'perfect': 6, 'story': 6, 'fine': 6, 'poor': 6, 'minor': 6, 'truth': 6, 'effectively': 5, 'critical': 5, 'idea': 5, 'little': 5, 'involved': 5, 'quality': 5, 'context': 5, 'friends': 5, 'published': 5, 'methods': 5, 'individual': 5, 'collection': 5, 'particular': 5, 'artistic': 5, 'public': 5, 'result': 5, 'arts': 5, 'fact': 5, 'went': 5, 'experience': 5, 'albany': 5, 'exploring': 5, 'journal': 5, 'addition': 5, 'ever': 5, 'files': 5, 'distribution': 5, 'level': 5, 'power': 5, 'worthy': 5, 'visual': 5, 'group': 5, 'students': 5, 'multimedia': 5, 'around': 5, 'image': 5, 'video': 5, 'look': 5, 'become': 5, 'past': 5, 'developed': 5, 'poetics': 5, 'needed': 5, 'users': 5, 'happen': 5, 'somebody': 5, 'need': 5, 'space': 5, 'sonic': 5, 'background': 5, 'notes': 5, 'improvised': 5, 'taylor': 5, 'live': 5, 'midi': 5, 'play': 5, 'literature': 5, 'funkhouser': 5, 'care': 5, 'light': 5, 'discussion': 5, 'drummer': 5, 'syncopated': 5, 'under': 5, 'dislocation': 5, 'head': 5, 'waiting': 5, 'night': 5, 'conference': 5, 'amores': 5, 'despair': 5, 'worst': 5, 'latin': 5, 'meaning': 5, 'theme': 5, 'constanta': 5, 'drunk': 5, 'till': 5, 'vintage': 5, 'fourfour': 5, 'london': 5, 'derby': 5, 'practices': 4, 'range': 4, 'across': 4, 'harness': 4, 'whatever': 4, 'forms': 4, 'university': 4, 'ginsberg': 4, 'became': 4, 'recorder': 4, 'covers': 4, 'resources': 4, 'somewhere': 4, '1980s': 4, 'printed': 4, 'taking': 4, 'interesting': 4, 'basic': 4, 'circulation': 4, 'introduction': 4, 'document': 4, 'expression': 4, 'fully': 4, 'controls': 4, 'contexts': 4, 'creating': 4, 'completely': 4, 'mentioned': 4, 'selected': 4, 'larger': 4, 'next': 4, 'images': 4, 'contents': 4, 'grant': 4, '1993': 4, 'scale': 4, 'writers': 4, 'graduate': 4, 'hardware': 4, 'eg': 4, 'texts': 4, 'learning': 4, 'editing': 4, 'days': 4, 'twelve': 4, 'readers': 4, 'academic': 4, 'communication': 4, 'learn': 4, 'expand': 4, 'below': 4, 'especially': 4, 'worked': 4, 'cdrom': 4, 'front': 4, 'complete': 4, 'becoming': 4, 'benefit': 4, 'textual': 4, 'large': 4, 'books': 4, 'discipline': 4, 'above': 4, 'figure': 4, 'developing': 4, 'value': 4, 'scholarship': 4, 'scholars': 4, 'taken': 4, 'come': 4, 'writes': 4, 'comes': 4, 'charles': 4, '2016': 4, 'technologies': 4, 'interface': 4, 'collage': 4, 'whole': 4, 'hope': 4, 'page': 4, 'common': 4, 'believe': 4, 'chance': 4, 'instead': 4, 'listening': 4, 'makes': 4, 'ideas': 4, '2018': 4, 'tradus': 4, 'pyprose': 4, 'debate': 4, 'rock': 4, 'sometimes': 4, 'council': 4, 'trochaic': 4, 'syllable': 4, 'fourbeat': 4, 'regular': 4, 'round': 4, 'thinking': 4, 'modeling': 4, 'dislocations': 4, 'romantic': 4, 'seem': 4, 'subjects': 4, 'tortured': 4, 'playful': 4, 'greater': 4, 'metamorphoses': 4, 'exiled': 4, 'drinks': 4, 'drunken': 4, 'maybe': 4, 'happy': 4, 'wrong': 4, 'rhyme': 4, 'explanation': 4, 'jacket': 4, 'feet': 4, 'subject': 4, 'humour': 4, 'tell': 4, 'helping': 4, 'seems': 4, 'coming': 4, 'inside': 4, 'essay': 3, 'decades': 3, 'opportunity': 3, 'serve': 3, 'consider': 3, 'activate': 3, 'however': 3, 'summer': 3, 'student': 3, 'taught': 3, 'events': 3, 'publishing': 3, 'studies': 3, 'pages': 3, 'started': 3, 'grassroots': 3, 'setting': 3, 'format': 3, 'thus': 3, 'cassettes': 3, 'opened': 3, 'experiment': 3, 'provides': 3, 'mass': 3, 'culture': 3, 'heard': 3, 'looking': 3, 'organization': 3, 'master': 3, 'implications': 3, 'copies': 3, 'teachers': 3, 'wilson': 3, 'reviews': 3, 'attention': 3, 'funding': 3, 'partly': 3, 'music': 3, 'overall': 3, 'editions': 3, '1992': 3, 'mention': 3, 'portable': 3, 'continue': 3, 'keep': 3, 'exposed': 3, 'usenet': 3, 'position': 3, 'subsequently': 3, 'conducted': 3, 'informed': 3, 'connected': 3, 'explore': 3, 'mean': 3, 'meant': 3, 'presented': 3, 'mechanism': 3, 'global': 3, 'received': 3, 'privilege': 3, 'major': 3, 'dramatic': 3, 'street': 3, 'hundred': 3, 'pieces': 3, 'direct': 3, 'contact': 3, 'learned': 3, 'engage': 3, 'eventually': 3, 'produce': 3, 'discussed': 3, 'initiatives': 3, 'includes': 3, 'programmer': 3, 'year': 3, 'steve': 3, 'hypermedia': 3, 'programming': 3, 'animation': 3, 'section': 3, 'purpose': 3, 'support': 3, 'stage': 3, 'given': 3, 'expressive': 3, 'present': 3, 'expanded': 3, 'primarily': 3, 'sanders': 3, 'piece': 3, 'titled': 3, 'volume': 3, 'data': 3, 'took': 3, 'purposes': 3, 'anyone': 3, 'expected': 3, 'respectable': 3, 'field': 3, 'facing': 3, 'application': 3, 'designed': 3, 'wider': 3, 'unexpected': 3, 'beauty': 3, 'hold': 3, 'amount': 3, 'recent': 3, 'despite': 3, 'combination': 3, 'called': 3, 'documentarian': 3, 'resource': 3, 'covered': 3, 'quasha': 3, '2015': 3, 'seven': 3, 'title': 3, 'number': 3, 'techniques': 3, 'html5': 3, 'archival': 3, 'uses': 3, 'thing': 3, 'certain': 3, '2013': 3, 'code': 3, 'true': 3, 'house': 3, 'free': 3, 'shared': 3, 'library': 3, 'museum': 3, 'ableton': 3, 'projected': 3, 'original': 3, 'originally': 3, 'itself': 3, 'person': 3, 'midipoet': 3, 'plus': 3, 'festival': 3, 'performed': 3, 'potential': 3, 'broadcasts': 3, 'knowledge': 3, 'mostly': 3, 'matter': 3, 'morning': 3, 'glory': 3, 'riding': 3, 'needing': 3, 'heaven': 3, 'note': 3, 'romanian': 3, 'română': 3, 'pentru': 3, 'hello': 3, 'christopher': 3, 'șapte': 3, 'cineva': 3, 'final': 3, 'further': 3, 'becomes': 3, 'alternate': 3, 'rushton': 3, 'preface': 3, 'prologue': 3, 'british': 3, 'king': 3, 'telling': 3, 'rhythms': 3, 'iambic': 3, 'breaking': 3, 'beats': 3, 'built': 3, 'forum': 3, 'splendour': 3, 'pompeii': 3, 'tend': 3, 'disguise': 3, 'stress': 3, 'insistent': 3, 'roll': 3, 'berry': 3, 'denver': 3, 'baby': 3, 'rich': 3, 'reasons': 3, 'drink': 3, 'distress': 3, 'rest': 3, 'former': 3, 'unless': 3, 'hidden': 3, 'against': 3, 'dull': 3, 'suited': 3, 'wife': 3, 'renaissance': 3, 'translating': 3, 'musings': 3, 'gets': 3, 'pain': 3, 'secret': 3, 'plot': 3, 'bought': 3, 'company': 3, 'soon': 3, 'impossible': 3, 'dream': 3, 'says': 3, 'nothing': 3, 'older': 3, 'practised': 3, 'argument': 3, 'detail': 3, 'july': 3, 'mighty': 3, 'troubled': 3, 'appendices': 3, 'quotes': 3, 'actors': 3, 'clarity': 3, 'painting': 3, 'stop': 3, 'trouble': 3, 'abstract': 2, 'divulging': 2, 'intent': 2, 'disciplines': 2, 'discuss': 2, 'control': 2, 'recontextualized': 2, 'composing': 2, 'broadcasting': 2, 'period': 2, 'analog': 2, 'endeavor': 2, 'allen': 2, 'introduced': 2, 'social': 2, 'cultural': 2, 'values': 2, 'device': 2, 'months': 2, 'operations': 2, 'issues': 2, '1987': 2, 'purchase': 2, 'studied': 2, 'layout': 2, 'zines': 2, 'hard': 2, 'guess': 2, 'local': 2, 'magazines': 2, 'machines': 2, 'known': 2, 'decided': 2, 'mediabased': 2, 'terms': 2, 'sent': 2, 'call': 2, 'submissions': 2, 'obtained': 2, 'richard': 2, 'expanding': 2, 'reach': 2, 'formats': 2, 'unknown': 2, 'systems': 2, 'nondigital': 2, 'possibilities': 2, 'connect': 2, 'participate': 2, 'consuming': 2, 'machinery': 2, 'increasingly': 2, 'occupy': 2, 'positions': 2, '1989': 2, 'plenty': 2, 'input': 2, 'aspects': 2, 'tedious': 2, 'peter': 2, 'lamborn': 2, 'previously': 2, 'factsheet': 2, 'future': 2, 'serious': 2, 'fund': 2, '1991': 2, 'mixed': 2, 'improve': 2, 'compiling': 2, 'continued': 2, 'publish': 2, 'artifacts': 2, '1990s': 2, 'historical': 2, 'myself': 2, 'rehear': 2, 'degree': 2, 'constant': 2, 'disparate': 2, 'returning': 2, 'occurred': 2, 'invest': 2, 'recorders': 2, 'unusual': 2, 'prewww': 2, 'tools': 2, 'managing': 2, 'editor': 2, 'named': 2, 'formatting': 2, 'appear': 2, 'moment': 2, 'fundamental': 2, 'technological': 2, 'printing': 2, 'million': 2, 'connecting': 2, 'functioned': 2, 'seemed': 2, 'wise': 2, 'ascii': 2, 'quickly': 2, 'distributed': 2, 'open': 2, 'preparing': 2, 'wide': 2, 'expansion': 2, 'shift': 2, 'significantly': 2, 'offer': 2, '2007': 2, 'prehistoric': 2, 'assemble': 2, 'gifted': 2, 'spent': 2, 'mixing': 2, 'concerted': 2, 'challenge': 2, '1995': 2, 'titles': 2, 'sort': 2, 'task': 2, 'included': 2, 'color': 2, 'featured': 2, 'contained': 2, 'dedicated': 2, 'select': 2, 'easily': 2, 'serves': 2, '1996': 2, 'html': 2, 'links': 2, 'anthology': 2, 'combined': 2, 'curiosity': 2, 'cooperation': 2, 'encouragement': 2, 'presence': 2, 'active': 2, 'scholarly': 2, 'pursuits': 2, 'history': 2, 'productions': 2, 'playing': 2, 'focus': 2, 'initial': 2, 'crucial': 2, 'whose': 2, 'notion': 2, 'multidecade': 2, 'details': 2, 'creativity': 2, 'bard': 2, 'disembodied': 2, 'annals': 2, 'jack': 2, 'kerouac': 2, 'largely': 2, 'method': 2, 'composition': 2, 'collecting': 2, 'clusters': 2, 'mediated': 2, 'specific': 2, 'possibly': 2, 'brings': 2, 'references': 2, 'message': 2, 'investing': 2, 'create': 2, 'wait': 2, 'colleagues': 2, 'challenges': 2, 'imperfections': 2, 'academia': 2, 'extend': 2, 'walls': 2, 'desire': 2, 'complications': 2, 'presentations': 2, 'obscure': 2, 'organizing': 2, 'single': 2, 'engaging': 2, 'seeking': 2, 'sharing': 2, 'significant': 2, 'ultimately': 2, 'cooperatively': 2, 'fred': 2, 'moten': 2, 'collaboration': 2, 'spirit': 2, 'require': 2, 'expertise': 2, 'skill': 2, 'similar': 2, 'largescale': 2, 'earlier': 2, 'stated': 2, 'experiments': 2, 'connection': 2, 'modalities': 2, 'literacy': 2, 'invites': 2, 'refine': 2, 'focuses': 2, 'participatory': 2, 'realms': 2, 'knowing': 2, 'objective': 2, '2010': 2, 'invitation': 2, 'bernstein': 2, 'aware': 2, 'achieved': 2, 'resulting': 2, 'decade': 2, 'potent': 2, 'hand': 2, 'posted': 2, 'george': 2, 'stein': 2, 'fascinating': 2, 'thousand': 2, 'necessary': 2, 'file': 2, 'edits': 2, 'genre': 2, 'equipment': 2, 'unique': 2, 'enabling': 2, 'settings': 2, 'building': 2, 'coding': 2, 'javascript': 2, 'layered': 2, 'want': 2, 'engineering': 2, 'capturing': 2, 'compelling': 2, 'otherwise': 2, 'intellectual': 2, 'account': 2, 'documented': 2, 'ongoing': 2, 'completion': 2, 'edit': 2, 'playback': 2, 'longer': 2, 'embed': 2, 'src': 2, 'bolukinterrupt1mp3': 2, 'false': 2, 'configurations': 2, 'size': 2, 'servers': 2, 'documents': 2, 'imposed': 2, 'visit': 2, 'whitney': 2, 'exhibition': 2, 'samples': 2, 'multichannel': 2, 'interview': 2, 'conversation': 2, 'real': 2, 'uncovered': 2, 'understanding': 2, '2020': 2, 'directly': 2, 'alongside': 2, 'fragmentation': 2, 'bring': 2, 'enjoy': 2, 'musical': 2, 'instrument': 2, 'community': 2, 'bass': 2, 'pitchtomidi': 2, 'converter': 2, 'appearance': 2, 'guitar': 2, 'brown': 2, 'influences': 2, 'collaborative': 2, 'created': 2, 'components': 2, 'microphone': 2, 'mashtalir': 2, 'installation': 2, 'multiple': 2, 'valid': 2, 'exploration': 2, 'recently': 2, 'wgxc': 2, 'station': 2, 'talk': 2, 'record': 2, 'locations': 2, 'acts': 2, 'delivers': 2, 'insight': 2, '1977': 2, 'muse': 2, 'dated': 2, 'valuable': 2, 'potentially': 2, 'tool': 2, 'carried': 2, 'focusing': 2, 'feeling': 2, 'hologram': 2, 'naissance': 2, 'headwise': 2, 'shattered': 2, 'worn': 2, 'troughs': 2, 'slabthrown': 2, 'illumination': 2, 'surface': 2, 'asymptotic': 2, 'crypt': 2, 'speech': 2, 'heritage': 2, 'translator': 2, 'workbench': 2, 'latter': 2, 'parts': 2, 'output': 2, 'runes': 2, 'everything': 2, 'având': 2, 'darul': 2, 'călărind': 2, 'vine': 2, 'unde': 2, 'după': 2, 'nota': 2, 'traducătorului': 2, 'folosit': 2, 'acestui': 2, 'varianta': 2, 'rune': 2, 'apoi': 2, 'arrogant': 2, 'lives': 2, 'zero': 2, 'fancy': 2, 'transcription': 2, 'body': 2, 'tiny': 2, 'food': 2, 'balance': 2, 'arranged': 2, 'grass': 2, 'drama': 2, 'question': 2, 'camera': 2, 'delays': 2, 'jazz': 2, 'waste': 2, 'hartman': 2, 'atât': 2, 'algorithmic': 2, 'generator': 2, 'human': 2, 'reader': 2, 'effusive': 2, 'casting': 2, 'matters': 2, 'taner': 2, 'murat': 2, 'acknowledgements': 2, 'beginning': 2, 'england': 2, 'development': 2, 'anticus': 2, 'multicultural': 2, 'association': 2, 'tales': 2, 'stanza': 2, 'preceding': 2, 'tetrameter': 2, 'blues': 2, 'songs': 2, 'traditions': 2, 'riffs': 2, 'bold': 2, 'indented': 2, 'extra': 2, 'sseum': 2, 'ephe': 2, 'embracing': 2, 'fountains': 2, 'abbey': 2, 'vius': 2, 'pict': 2, 'esque': 2, 'move': 2, 'pentameter': 2, 'alternative': 2, 'elegy': 2, 'artworks': 2, 'paper': 2, 'minutes': 2, 'black': 2, 'white': 2, 'photo': 2, 'left': 2, 'tones': 2, 'chuck': 2, 'nadine': 2, 'breath': 2, 'city': 2, 'dropped': 2, 'solo': 2, 'staid': 2, 'analogy': 2, 'added': 2, 'arrived': 2, 'probability': 2, 'roughly': 2, 'enlarged': 2, 'naum': 2, 'authentic': 2, 'turns': 2, 'apart': 2, 'established': 2, 'drumming': 2, 'dreadful': 2, 'rhymes': 2, 'slept': 2, 'deep': 2, 'gone': 2, 'threw': 2, 'dross': 2, 'deleted': 2, 'changed': 2, 'hearing': 2, 'normal': 2, 'manuscript': 2, 'fragmented': 2, 'alterego': 2, 'sure': 2, 'kind': 2, 'touch': 2, 'irrelevant': 2, 'waves': 2, 'tide': 2, 'born': 2, 'tongue': 2, 'begin': 2, 'chosen': 2, 'inspiring': 2, 'link': 2, 'shakespeare': 2, 'differences': 2, 'asked': 2, 'unformed': 2, 'stuck': 2, 'thinks': 2, 'turned': 2, 'asleep': 2, 'draft': 2, 'fifty': 2, 'week': 2, 'deadline': 2, 'wakes': 2, 'mess': 2, 'paint': 2, 'canvas': 2, 'boring': 2, 'intrigue': 2, 'risky': 2, 'stone': 2, 'thickest': 2, 'wants': 2, 'hiding': 2, 'stones': 2, 'stronger': 2, 'case': 2, 'please': 2, 'piss': 2, 'overarching': 2, 'fools': 2, 'patterns': 2, 'teasing': 2, 'ears': 2, 'wake': 2, 'foil': 2, 'remembered': 2, 'split': 2, 'bored': 2, 'wear': 2, 'tunes': 2, 'fitted': 2, 'discarding': 2, 'finds': 2, 'easy': 2, 'yours': 2, 'metre': 2, 'praise': 2, 'marriage': 2, 'enough': 2, 'scene': 2, 'talent': 2, 'return': 2, 'really': 2, 'waking': 2, 'lies': 2, 'empty': 2, 'cheers': 2, 'enjoying': 2, 'unnamed': 2, 'seen': 2, 'adolescent': 2, 'xxiii': 2, 'elizabethan': 2, 'lived': 2, 'xxiv': 2, 'cambridge': 2, 'favour': 2, 'beaten': 2, 'badly': 2, 'covent': 2, 'deptford': 2, 'xxvi': 2, 'threat': 2, 'xxvii': 2, 'church': 2, 'college': 2, 'historians': 2, 'xxviii': 2, 'xxix': 2, 'verse—': 2, 'lecture': 2, 'alone': 2, 'depth': 2, 'swim': 2, 'dawning': 2, 'tomis': 2, 'colour': 2, 'rhyming': 2, 'marks': 2, 'places': 2, 'frith': 2, 'doubt': 2, 'epic': 2, 'inbetween': 2, 'points': 2, 'celebration': 2, 'walk': 2, 'lack': 2, 'waits': 2, 'brain': 2, 'celebrate': 2, 'friendship': 2, 'helps': 2, 'peoples': 2, 'airport': 2, 'applying': 1, 'recounting': 1, 'discusses': 1, 'experiences': 1, 'relevant': 1, 'practical': 1, 'objectives': 1, 'illustrate': 1, 'offers': 1, 'possesses': 1, 'ideally': 1, 'recollections': 1, 'perspectives': 1, 'compel': 1, 'entail': 1, 'choose': 1, 'seeds': 1, 'planted': 1, '1986': 1, 'institute': 1, 'commitment': 1, 'researching': 1, 'documenting': 1, 'attuned': 1, 'anne': 1, 'waldman': 1, 'consequently': 1, 'purchased': 1, 'sony': 1, 'handheld': 1, 'cofounded': 1, 'hosting': 1, 'oriented': 1, 'virginia': 1, 'wtju': 1, 'homely': 1, 'amateur': 1, 'figs': 1, 'endeavors': 1, 'financial': 1, 'decent': 1, 'crude': 1, 'layout—like': 1, 'spaghetti—but': 1, 'punk': 1, 'charm': 1, 'typical': 1, 'xeroxphotocopy': 1, 'beginners': 1, 'accessible': 1, 'entity—it': 1, 'nonprofessional': 1, 'twopage': 1, 'relocating': 1, 'california': 1, 'desktop': 1, 'possessing': 1, 'interest': 1, 'combining': 1, 'compile': 1, 'audiocassette': 1, 'acquiring': 1, 'notices': 1, 'flash': 1, 'area': 1, 'newspaper': 1, 'joanne': 1, 'kyger': 1, 'kostelanetz': 1, 'earnest': 1, 'filled': 1, 'audiences': 1, 'venues': 1, 'authors': 1, 'participated': 1, 'yourself': 1, 'subculture': 1, 'exciting': 1, 'variables': 1, 'resisted': 1, 'ordinary': 1, 'delivery': 1, 'prepare': 1, 'sophisticated': 1, 'platforms': 1, 'historically': 1, 'likeminded': 1, 'opening': 1, 'broadly': 1, 'accustomed': 1, 'television': 1, 'positioned': 1, 'humorous': 1, 'rudimentary': 1, 'collective': 1, 'though—as': 1, 'previously—almost': 1, 'fiscal': 1, 'duplicate': 1, 'seventeen': 1, 'blank': 1, 'copied': 1, 'mechanical': 1, 'bestow': 1, 'significance': 1, 'evaded': 1, 'referred': 1, 'seizing': 1, 'dimension': 1, 'considered': 1, 'primitive': 1, 'distributing': 1, 'benefits': 1, 'serving': 1, 'evidence': 1, 'sell': 1, 'acquire': 1, 'grants': 1, 'fourteen': 1, 'compact': 1, 'disc': 1, 'dara': 1, 'wolochow': 1, 'notably': 1, '8track': 1, 'purchasing': 1, 'deck': 1, 'engineer': 1, 'printbased': 1, 'subsequent': 1, 'insert': 1, 'lofi': 1, 'institutionally': 1, 'funded': 1, 'efficient': 1, 'momentum': 1, 'existence': 1, 'custom': 1, 'readings': 1, 'recorder—doing': 1, 'documentation': 1, 'reflecting': 1, 'attended': 1, 'wishing': 1, 'microcommunity': 1, 'joined': 1, 'practitioners': 1, 'unaware': 1, 'recognize': 1, 'irreplaceable': 1, 'changing': 1, 'doctoral': 1, 'adviser': 1, 'byrd': 1, 'instructed': 1, 'loan': 1, 'money': 1, 'microphones': 1, 'amplification': 1, 'arriving': 1, 'being—what': 1, 'coincidentally': 1, 'concerned': 1, 'fortunate': 1, 'apprenticeship': 1, 'linebased': 1, 'commands': 1, 'emacs': 1, 'sustaining': 1, 'ejournal': 1, 'serially': 1, 'eighteen': 1, 'april': 1, 'change—analogous': 1, 'invention': 1, 'press—was': 1, 'underway': 1, 'late': 1, '725000': 1, 'host': 1, 'linking': 1, 'thirty': 1, 'countries': 1, 'news': 1, 'worldwide': 1, 'bulletin': 1, 'board': 1, 'system': 1, 'poststructuralist': 1, 'putting': 1, 'mail': 1, 'postings': 1, 'groups': 1, 'recartspoems': 1, 'altzines': 1, 'capability': 1, 'reaching': 1, 'opulently': 1, 'pretense': 1, 'dispersion': 1, 'succeeded': 1, 'sharingmoving': 1, 'distances': 1, 'selection': 1, 'limitation': 1, 'include': 1, 'italics': 1, 'underline': 1, 'boldfaced': 1, 'transferring': 1, 'suddenly': 1, 'instantaneous': 1, 'welcomed': 1, 'ubiquitous': 1, 'rapid': 1, 'possible': 1, 'discovering': 1, 'possibility': 1, 'advancement': 1, 'wordslanguage': 1, 'circulated': 1, 'represented': 1, 'leap': 1, 'awareness': 1, 'recognizing': 1, 'twoway': 1, 'cent': 1, 'email': 1, 'correspondence': 1, 'journals—along': 1, 'requests': 1, 'print': 1, 'hardcopy': 1, 'methodologies': 1, 'viable': 1, 'distribute': 1, 'discourse—even': 1, 'opportunities': 1, 'coproduce': 1, 'webbased': 1, 'nine': 1, 'newark': 1, 'review': 1, 'appeared': 1, 'sporadically': 1, 'turn': 1, 'cannibalism': 1, 'numerous': 1, 'collectives': 1, 'purkinge': 1, '199394': 1, 'wrpi': 1, '19921996': 1, 'popularized': 1, 'fellow': 1, 'embraced': 1, 'immense': 1, 'coproducing': 1, 'laufer': 1, 'asymetrix': 1, 'toolkit': 1, 'eighty': 1, 'vivid': 1, 'hypertext': 1, 'appearing': 1, 'layers': 1, 'index': 1, 'interactors': 1, 'sitting': 1, 'contain': 1, 'combinations': 1, 'elements': 1, 'transfer': 1, 'formidable': 1, 'mechanism—with': 1, 'receiver': 1, 'sender—and': 1, 'easytofollow': 1, 'instruction': 1, 'probably': 1, 'exigent': 1, 'capabilities': 1, 'genericlooking': 1, 'hypertextual': 1, 'proto': 1, 'arose': 1, 'necessity': 1, 'evermediated': 1, 'environment': 1, 'be—and': 1, 'being—recontextualized': 1, 'engaged': 1, 'wanted': 1, 'occurring': 1, 'fields': 1, 'difficult': 1, 'intensified': 1, 'normalized—not': 1, 'podcasts': 1, 'nontrivial': 1, 'roles': 1, 'proliferation': 1, 'contracted': 1, 'interval': 1, 'influence': 1, 'utter': 1, 'retrievable': 1, 'strengthens': 1, 'conscious': 1, 'saturated': 1, 'embark': 1, 'happened': 1, 'technically': 1, 'capable': 1, 'maintained': 1, 'dedication': 1, 'obsession': 1, 'quick': 1, 'search': 1, 'ethos': 1, 'countless': 1, 'promote': 1, 'regard': 1, 'sponsor': 1, 'reflected': 1, 'independently': 1, 'impassioned': 1, 'drive': 1, 'agencies': 1, 'institutions': 1, 'date': 1, 'emerge': 1, 'occur': 1, 'seize': 1, 'capacity': 1, 'passionate': 1, 'develop': 1, 'hobby': 1, 'ie': 1, 'classroom—and': 1, 'classroom': 1, 'institution': 1, 'pastime': 1, 'stemmed': 1, 'naturally': 1, 'engages': 1, 'likely': 1, 'complexities': 1, 'arise': 1, 'insurmountable': 1, 'daunting': 1, 'attempts': 1, 'overcome': 1, 'main': 1, 'downside': 1, 'risks': 1, 'timeconsuming': 1, 'pathway': 1, 'involving': 1, 'videos': 1, 'recirculate': 1, 'texts—usefully': 1, 'facilitates': 1, 'informs': 1, 'usefully': 1, 'mystify': 1, 'locate': 1, 'interference': 1, 'milieus': 1, 'professional': 1, 'continually': 1, 'giving': 1, 'circle': 1, 'connections': 1, 'brilliant': 1, 'level—a': 1, 'broader': 1, 'audience—by': 1, 'keeping': 1, 'coinciding': 1, 'sustained': 1, 'identifying': 1, 'conspirators': 1, 'equation': 1, 'openness': 1, 'cultivating': 1, '144': 1, 'valued': 1, 'benefited': 1, 'appreciated': 1, 'teamwork': 1, 'engagements': 1, 'partner': 1, 'drawing': 1, 'sets': 1, 'diminish': 1, 'hopefully': 1, 'refinement': 1, 'progressed': 1, 'introduce': 1, 'explorations': 1, 'variously': 1, 'contextualized': 1, 'tenets': 1, 'strongest': 1, 'containing': 1, 'characteristics': 1, 'secondly': 1, 'interactivity': 1, 'trajectories': 1, 'integrates': 1, 'redefine': 1, 'microclimates': 1, 'interestingly': 1, 'eliminate': 1, 'establishing': 1, 'pollution': 1, 'static': 1, 'kinetic': 1, 'dynamic': 1, 'spectrums': 1, 'penchant': 1, 'founded': 1, 'filreis': 1, '2005': 1, 'largest': 1, 'invaluable': 1, 'preparation': 1, 'presentationarchiving': 1, 'occurs': 1, 'opposed': 1, 'foundations': 1, 'institutional': 1, 'enormous': 1, 'wellknown': 1, 'limitations': 1, 'downsides': 1, 'upsides': 1, 'housed': 1, 'usually': 1, 'accompanied': 1, 'dozens': 1, 'extensive': 1, 'article': 1, 'jacket2': 1, 'retrospective': 1, '2017': 1, 'fulllength': 1, 'chapbooks': 1, 'preverbs': 1, 'equaling': 1, 'mp3': 1, 'surgical': 1, 'accordance': 1, 'precise': 1, 'specifications': 1, 'tagging': 1, 'name': 1, 'copyright': 1, 'statement': 1, 'advantageous': 1, 'possess': 1, 'smartphones': 1, 'mobile': 1, 'devices': 1, 'collect': 1, 'microcollections': 1, 'propel': 1, 'articles': 1, 'regarding': 1, 'designing': 1, 'offered': 1, 'pioneered': 1, 'featuring': 1, 'enterprise': 1, 'andrews': 1, 'approximately': 1, 'twentyfour': 1, 'hours': 1, 'jukebox': 1, 'pulldown': 1, 'menus': 1, 'selective': 1, 'absorbing': 1, 'requires': 1, 'individually': 1, 'collectively': 1, 'decide': 1, 'tracks—now': 1, 'streaming': 1, 'mixable': 1, 'download': 1, 'web—might': 1, 'complementary': 1, 'riff': 1, 'deeply': 1, 'hyperly': 1, 'materiality': 1, 'sensory': 1, 'immersion': 1, 'living': 1, 'moments': 1, 'central': 1, 'activities': 1, 'scholar': 1, 'enhances': 1, 'refines': 1, 'realize': 1, 'activating': 1, 'publichtml': 1, 'populating': 1, 'crafted': 1, 'annotated': 1, 'thoroughly': 1, 'audiobased': 1, 'emerging': 1, 'passes': 1, 'neglect': 1, 'prime': 1, 'difficulties': 1, 'orchestrating': 1, 'maintenance': 1, 'seventy': 1, 'embedded': 1, 'browsers': 1, 'tracks': 1, 'width': 1, 'height': 1, 'autoplay': 1, 'controller': 1, 'loop': 1, 'anymore': 1, 'changes': 1, 'browser': 1, 'employed': 1, 'streamlined': 1, 'attending': 1, 'repairs': 1, 'maintaining': 1, 'collaborating': 1, 'acquired': 1, 'leased': 1, 'circulate': 1, 'continues': 1, 'contains': 1, 'spontaneously': 1, 'catchsome': 1, 'repository': 1, 'mp3s': 1, 'migrate': 1, 'pertains': 1, 'builds': 1, 'allows': 1, 'growth': 1, 'operation': 1, 'afforded': 1, 'liberties': 1, 'protocols': 1, 'fewer': 1, 'constraints': 1, 'spotty': 1, 'personalized': 1, 'primary': 1, 'promoted': 1, 'wordofmouth': 1, 'satisfaction': 1, 'imagined': 1, 'decentralize': 1, 'freely': 1, 'placedependent': 1, 'location': 1, 'summons': 1, 'computer': 1, 'embraces': 1, 'narrative': 1, 'synthesizing': 1, 'interfaces': 1, 'softwaredriven': 1, 'remediation': 1, 'american': 1, 'cecil': 1, 'coleading': 1, 'session': 1, 'event': 1, 'played': 1, '1994': 1, 'digitizing': 1, 'listened': 1, 'blend': 1, 'performances': 1, 'analyzing': 1, 'hierarchizing': 1, 'arranging': 1, 'succinctly': 1, 'technical': 1, 'source': 1, 'responsibility—to': 1, 'build': 1, 'inventive': 1, 'simultaneously—using': 1, 'aforementioned': 1, 'javascript—i': 1, 'hambone': 1, 'catalog': 1, 'adam': 1, 'pendleton': 1, 'queen': 1, 'resituates': 1, 'insights': 1, 'preservation': 1, 'recontextualization': 1, 'challenged': 1, 'analyze': 1, 'captivating': 1, 'remained': 1, 'laptop': 1, 'enhance': 1, 'climates': 1, 'compelled': 1, 'seeing': 1, 'eugenio': 1, 'tisselli': 1, 'biggest': 1, 'screen': 1, 'figuring': 1, 'sonuus': 1, 'discovery': 1, 'synchronize': 1, 'youtube': 1, 'channel': 1, 'hufnagel': 1, 'sophia': 1, 'sobers': 1, 'onstage': 1, 'midibass': 1, 'guide': 1, 'onthefly': 1, 'compositions': 1, 'tableaus': 1, 'vibrating': 1, 'crossgenre': 1, 'initiative': 1, 'synchronizes': 1, 'counterparts': 1, 'imagery': 1, 'drives': 1, 'textlanguage': 1, 'described': 1, 'pairing': 1, 'respective': 1, 'sonically': 1, 'synchronized': 1, 'unit': 1, 'incorporates': 1, 'discovered': 1, 'condenser': 1, 'phoneme': 1, 'orchestral': 1, 'inspired': 1, 'russian': 1, 'encountered': 1, 'taras': 1, 'norway': 1, 'activategenerate': 1, 'appearanceprojection': 1, 'managed': 1, 'apparatus': 1, 'occasions': 1, 'explained': 1, 'midiazine': 1, 'eastern': 1, 'bloc': 1, 'montreal': 1, 'august': 1, 'proceedings': 1, 'entails': 1, 'elaborate': 1, 'setup': 1, 'manageable': 1, 'unfamiliar': 1, 'performers': 1, 'track': 1, 'embody': 1, 'gestalt': 1, 'effective': 1, 'interconnection': 1, 'unveiled': 1, 'sanctioned': 1, 'provocative': 1, 'questions': 1, 'raised': 1, 'integrating': 1, 'supplement': 1, 'communicative': 1, 'mode': 1, 'integrated': 1, 'monthly': 1, 'hudson': 1, 'valley': 1, 'evolved': 1, 'commonplace': 1, 'regionally': 1, 'regional': 1, 'globally': 1, 'streamed': 1, 'audience': 1, 'greatly': 1, 'nonsynchronous': 1, 'component': 1, '2019': 1, 'coronavirus': 1, 'pandemic': 1, 'migrated': 1, 'podcastready': 1, 'prior': 1, 'programmers': 1, 'telephone': 1, 'facetime': 1, 'archived': 1, 'subscriptionpodcast': 1, 'portal': 1, 'sits': 1, 'organizational': 1, 'sharply': 1, 'defined': 1, 'discovers': 1, 'contemplative': 1, 'selfmotivated': 1, 'selfless': 1, 'closely': 1, 'underappreciated': 1, 'meditation': 1, 'initiated': 1, 'broadly—into': 1, 'trust': 1, 'intuition': 1, 'dialogos': 1, 'oral': 1, 'joins': 1, 'typewriter': 1, 'instrumentation': 1, 'prescient': 1, 'rings': 1, 'potentiality—one': 1, 'wideranging': 1, 'portability': 1, 'exorbitant': 1, 'concur': 1, 'salient': 1, 'observation': 1, 'inclined': 1, 'instructive': 1, 'spheres': 1, 'indicate': 1, 'focused': 1, 'encourage': 1, 'pursue': 1, 'moving': 1, 'onward': 1, 'expect': 1, 'layering': 1, 'conjunction': 1, 'wish': 1, 'potentials': 1, 'geolocational': 1, 'installations': 1, 'shaping': 1, 'investigate': 1, 'speechtotext': 1, 'njit': 1, 'bolstered': 1, 'courses': 1, 'graphic': 1, 'mindful': 1, 'encounters': 1, 'communications': 1, 'organize': 1, 'explorable': 1, 'increases': 1, 'impact': 1, '—christopher': 1, 'postcard': 1, 'wikipedia': 1, 'periodical': 1, 'consisting': 1, 'privately': 1, 'publishers': 1, 'comprehensive': 1, 'literally': 1, 'thousands': 1, 'heralding': 1, 'spread': 1, 'fanzine': 1, 'zine': 1, 'https': 1, 'enwikipediaorgwikifactsheetfive': 1, 'monographs': 1, 'archaeology': 1, '19591995': 1, 'alabama': 1, 'directions': 1, 'bloomsbury': 1, 'mexico': 1, 'national': 1, 'france': 1, 'nominated': 1, 'award': 1, '2014': 1, 'frontal': 1, 'renewal': 1, 'confoundered': 1, 'speak': 1, 'unkempted': 1, 'trek': 1, 'frieze': 1, 'daggery': 1, 'starvation': 1, 'pride': 1, 'brian': 1, 'maria': 1, 'damon': 1, 'gtrrunes': 1, 'intersection': 1, 'wealth': 1, 'horses': 1, 'estate': 1, 'frozen': 1, 'lake': 1, 'gift': 1, 'angst': 1, 'godhungry': 1, 'mouth': 1, 'watergift': 1, 'shooting': 1, 'torchgod': 1, 'wealthgod': 1, 'aurochs': 1, 'hailonbow': 1, 'mirth': 1, 'thorn': 1, 'thor': 1, 'endtime': 1, 'pole': 1, 'hunting': 1, 'journey': 1, 'thirst': 1, 'sore': 1, 'yewtree': 1, 'daydream': 1, 'travel': 1, 'richness': 1, 'generating': 1, 'revamped': 1, 'betaversion': 1, 'anglosaxon': 1, 'advantage': 1, 'pivotal': 1, 'anglosaxons': 1, 'vikings': 1, 'switch': 1, 'norse': 1, 'halfway': 1, 'intersecție': 1, 'runelor': 1, 'limba': 1, 'bogat': 1, 'lacuri': 1, 'înghețate': 1, 'angoasei': 1, 'dimineața': 1, 'gura': 1, 'ămândă': 1, 'apă': 1, 'vorbirii': 1, 'trăgând': 1, 'arcul': 1, 'gând': 1, 'zeutorță': 1, 'zeubogăție': 1, 'vrând': 1, 'zimbri': 1, 'ziua': 1, 'nevoii': 1, 'ziuantreagă': 1, 'nașterean': 1, 'hologramă': 1, 'bucurii': 1, 'grindini': 1, 'capul': 1, 'ghimpe': 1, 'stâlp': 1, 'deapoi': 1, 'criptă': 1, 'zin': 1, 'ceruri': 1, 'călărie': 1, 'vânat': 1, 'moartea': 1, 'soare': 1, 'legea': 1, 'zeului': 1, 'fericirea': 1, 'dea': 1, 'duce': 1, 'moștenirea': 1, 'gheții': 1, 'jgheaburi': 1, 'sfărâmate': 1, 'deatât': 1, 'ajunse': 1, 'lespezi': 1, 'sparte': 1, 'setea': 1, 'pânla': 1, 'rană': 1, 'omuluitisă': 1, 'iluminare': 1, 'titlul': 1, 'este': 1, 'visătoria': 1, 'altcuiva': 1, 'asimptotic': 1, 'suprafața': 1, 'ești': 1, 'bogăția': 1, 'călătorie': 1, 'vreme': 1, 'știam': 1, 'poetul': 1, 'generarea': 1, 'actualizată': 1, 'perfecționată': 1, 'respectivei': 1, 'platforme': 1, 'încă': 1, 'complet': 1, 'funcțională': 1, 'realizării': 1, 'proiect': 1, 'porțiuni': 1, 'ceea': 1, 'putut': 1, 'obține': 1, 'beta': 1, 'anglosaxone': 1, 'profitat': 1, 'punctul': 1, 'cotitură': 1, 'prezenței': 1, 'simbol': 1, 'deopotrivă': 1, 'anglosaxoni': 1, 'vikingi': 1, 'trece': 1, 'scandinave': 1, 'partea': 1, 'doua': 1, 'traducerii': 1, 'rezultatul': 1, 'engleză': 1, 'allocation': 1, 'malfunctioned': 1, 'asahi': 1, 'newly': 1, 'enormousness': 1, 'minuscule': 1, 'artillerists': 1, 'notice': 1, 'elastic': 1, 'motionlessly': 1, 'inconsistent': 1, 'necessitous': 1, 'exerts': 1, 'megacrash': 1, 'arrays': 1, 'neat': 1, 'envoi': 1, 'midwifery': 1, 'inglorious': 1, 'nouveau': 1, 'economics': 1, 'apparition': 1, 'illumined': 1, 'nightline': 1, 'evergreens': 1, 'reckon': 1, 'nontextual': 1, 'dissatisfaction': 1, 'pardonable': 1, 'affected': 1, 'illogical': 1, 'indefinite': 1, 'drill': 1, 'gathering': 1, 'close': 1, 'geographical': 1, 'region': 1, 'midtide': 1, 'sensational': 1, 'adroit': 1, 'infamous': 1, 'environmental': 1, 'science': 1, 'shed': 1, 'nightfall': 1, 'effect': 1, 'unholy': 1, 'hallocation': 1, 'twice': 1, 'procedure': 1, 'sick': 1, 'scenes': 1, 'disease': 1, 'republic': 1, 'mask': 1, 'equally': 1, 'liked': 1, 'tongues': 1, 'babies': 1, 'curve': 1, 'vacuum': 1, 'iterated': 1, 'swelling': 1, 'circuits': 1, 'toward': 1, 'tobacco': 1, 'plume': 1, 'attacking': 1, 'landscapes': 1, 'stream': 1, 'mile': 1, 'drifted': 1, 'rent': 1, 'fever': 1, 'noon': 1, 'plant': 1, 'constructed': 1, 'temporary': 1, 'iceberg': 1, 'idle': 1, 'symphony': 1, 'hell': 1, 'metropolitan': 1, 'resistance': 1, 'leaf': 1, 'generated': 1, 'iterating': 1, 'halocare': 1, 'lumească': 1, 'muzical': 1, 'miar': 1, 'nuanța': 1, 'întreaga': 1, 'procedură': 1, 'suntem': 1, 'început': 1, 'așa': 1, 'pervers': 1, 'scenele': 1, 'boală': 1, 'măruntă': 1, 'facă': 1, 'schimb': 1, 'republică': 1, 'valabilă': 1, 'masca': 1, 'stilului': 1, 'mâncare': 1, 'prizat': 1, 'când': 1, 'echilibrează': 1, 'practicile': 1, 'carearanjează': 1, 'fiecare': 1, 'gust': 1, 'iarba': 1, 'uențează': 1, 'dezbateri': 1, 'anumite': 1, 'deși': 1, 'aceste': 1, 'limbi': 1, 'erau': 1, 'copiii': 1, 'dramei': 1, 'dintre': 1, 'curbă': 1, 'hazard': 1, 'trebuie': 1, 'pună': 1, 'vidul': 1, 'semnul': 1, 'întrebării': 1, 'păcatul': 1, 'trinitar': 1, 'foto': 1, 'circuite': 1, 'umflânduse': 1, 'către': 1, 'tutun': 1, 'pana': 1, 'atacăm': 1, 'peisaje': 1, 'curent': 1, 'întârzie': 1, 'piatră': 1, 'kilometrul': 1, 'rătăceai': 1, 'întâmplase': 1, 'limbajul': 1, 'aerului': 1, 'deasupra': 1, 'casei': 1, 'chirie': 1, 'venit': 1, 'sădi': 1, 'febra': 1, 'amiezii': 1, 'construit': 1, 'componenta': 1, 'șiastfel': 1, 'nemișcată': 1, 'simfonie': 1, 'ghețarul': 1, 'iadul': 1, 'rezistență': 1, 'metropolitană': 1, 'exercițiile': 1, 'frunză': 1, 'risipei': 1, 'traducere': 1, 'chris': 1, 'tanasescu': 1, 'vedere': 1, 'originalele': 1, 'fuseseră': 1, 'generate': 1, 'programul': 1, 'prin': 1, 'iterație': 1, 'același': 1, 'obținut': 1, 'poemele': 1, 'leam': 1, 'authored': 1, 'side': 1, 'temporarily': 1, 'foreign': 1, 'illustrates': 1, 'stemming': 1, 'presuppositions': 1, 'nations': 1, 'modalities—and': 1, 'perceived': 1, 'strange': 1, 'bunkmates—may': 1, 'bridled': 1, 'lenses': 1, 'herculean': 1, 'illuminates': 1, 'appears': 1, 'fringe': 1, 'determined': 1, 'mainstream': 1, 'builtin': 1, 'transcreation': 1, 'bursting': 1, 'substance': 1, 'blasting': 1, 'proceeds': 1, 'uniquely': 1, 'chart': 1, 'disconnected': 1, 'approaches': 1, 'distinctly': 1, 'rigorous': 1, 'investigative': 1, 'editorship': 1, 'herein': 1, 'hefty': 1, 'diverse': 1, 'algorithm': 1, 'graphical': 1, 'partnering': 1, 'propulsiveness': 1, 'seemingly': 1, 'unprecedented': 1, 'compendium': 1, 'refracts': 1, 'conceptual': 1, 'policers': 1, 'polarity': 1, 'warlings': 1, 'dismissively': 1, 'cats': 1, 'medi': 1, 'cament': 1, 'metalurgically': 1, 'heated': 1, 'conversion': 1, 'poetrybeam': 1, 'convertible': 1, 'larks': 1, 'aview': 1, 'strategical': 1, 'stratiforms': 1, 'seizes': 1, 'fiery': 1, 'autoscopy': 1, 'alto': 1, 'looney': 1, 'hobnailed': 1, 'beach': 1, 'tradition': 1, 'manoeuvres': 1, 'pterodactyls': 1, 'psychologies': 1, 'surprise': 1, 'latchkey': 1, 'reverse': 1, 'surrounded': 1, 'lashing': 1, 'reviewers': 1, 'lathy': 1, 'mythologers': 1, 'conspired': 1, 'confrontation': 1, 'aidf': 1, 'international': 1, 'timpul': 1, 'lorrain': 1, 'baggaley': 1, 'carolyn': 1, 'isle': 1, 'wight': 1, 'gallery': 1, 'goodbye': 1, 'resonance': 1, 'erbaccepress': 1, 'general': 1, 'indenting': 1, 'emphasises': 1, 'occupies': 1, 'fraction': 1, 'echoing': 1, 'faintly': 1, 'fade': 1, 'sixteen': 1, '15913': 1, '1471113': 1, 'subsaharan': 1, 'african': 1, '1491113': 1, 'variation': 1, 'passage': 1, 'fall': 1, 'numbers': 1, 'syllables': 1, 'quarterbeats': 1, 'slightly': 1, 'stretch': 1, 'pronunciation': 1, 'fountainsabbey': 1, 'suffered': 1, 'partially': 1, 'reversed': 1, 'adds': 1, 'represent': 1, 'dual': 1, 'duel': 1, 'echoes': 1, 'decision': 1, 'hexameter—the': 1, 'military': 1, 'epic—to': 1, 'series': 1, 'staining': 1, 'sheets': 1, 'sketchpad': 1, 'cooking': 1, 'oven': 1, 'transformed': 1, 'photography': 1, 'erase': 1, 'border': 1, 'edges': 1, 'shapes': 1, 'float': 1, 'resultant': 1, 'traces': 1, 'integrations': 1, 'artwork': 1, 'illustrated': 1, 'relentless': 1, 'presents': 1, 'logistical': 1, 'problems': 1, 'recite': 1, 'perform': 1, 'lyrics': 1, 'past—i': 1, 'seeger': 1, 'eddie': 1, 'rods': 1, 'commie': 1, 'member': 1, '—had': 1, 'sevenbeat': 1, 'catching': 1, 'vacant': 1, 'seat': 1, 'bride': 1, 'walking': 1, 'pauses': 1, 'except': 1, 'twelveline': 1, 'stanza—certainly': 1, 'vocalist': 1, 'reciter': 1, 'anything': 1, 'cracking': 1, 'pace': 1, 'intended': 1, 'solution': 1, 'found—and': 1, 'rocks': 1, 'middle': 1, 'experimental': 1, 'counterculture': 1, 'centre': 1, 'fifteenminute': 1, 'cover': 1, 'threeminute': 1, 'bash': 1, 'replete': 1, 'horn': 1, 'guitars': 1, 'instruments': 1, 'chipping': 1, 'lead': 1, 'solos—yes': 1, 'interspersed': 1, 'equivalents': 1, 'ageless': 1, 'infinitely': 1, 'variable': 1, 'johnny': 1, 'goode': 1, 'alvin': 1, 'goin': 1, 'territory': 1, 'drum': 1, 'santana': 1, 'woodstock': 1, 'land': 1, 'hendrix': 1, 'ravel': 1, 'bolero': 1, 'finale': 1, 'personally': 1, 'prefer': 1, 'stay': 1, 'sixties': 1, 'stoned': 1, 'beer': 1, 'band': 1, 'crack': 1, 'hybridization': 1, 'contribution': 1, 'fluent': 1, 'fluid': 1, 'centers': 1, 'fluctuation': 1, 'contamination': 1, 'computational': 1, 'pinning': 1, 'undercurrents': 1, 'pool': 1, 'occurrence': 1, 'flux': 1, 'gravitate': 1, 'contaminate': 1, 'levels': 1, 'needs': 1, 'doubled': 1, 'excerpt': 1, '7000': 1, 'forthcoming': 1, 'revised': 1, 'athanor': 1, 'pohems': 1, 'gellu': 1, 'trans': 1, 'martin': 1, 'woodside': 1, 'calypso': 1, 'lists': 1, 'displayed': 1, 'hybridized': 1, 'diction': 1, 'flow': 1, 'contaminated': 1, 'advances': 1, 'replacements': 1, 'routes': 1, 'words—printed': 1, 'italicized': 1, 'satellites': 1, 'revolving': 1, 'words—are': 1, 'higher': 1, 'closer': 1, 'mediumrelated': 1, 'anybody': 1, 'andor': 1, 'apply': 1, 'filescorpora': 1, 'narrator': 1, 'writer': 1, 'block': 1, 'finishes': 1, 'project—a': 1, 'explores': 1, 'john': 1, 'clues': 1, 'explain': 1, 'ostracization': 1, 'crisis': 1, 'unable': 1, 'sensibility': 1, 'envisaged': 1, 'centres': 1, 'humourless': 1, 'voice—his': 1, 'dries': 1, 'rescue—an': 1, 'willing': 1, 'piecing': 1, 'collaging': 1, 'debate—between': 1, 'aesthetic': 1, 'ends': 1, 'considering': 1, 'constructs': 1, 'importance': 1, 'hierarchies': 1, 'reason': 1, 'why—it': 1, 'plain': 1, 'noone': 1, 'unstuck': 1, 'helped': 1, 'halfbaked': 1, 'woke': 1, 'argued': 1, 'contented': 1, 'sleep': 1, 'tore': 1, 'modified': 1, 'password': 1, 'career': 1, 'tatters': 1, 'despondent': 1, 'draw': 1, 'comfort—': 1, 'heartaches': 1, 'salvaged': 1, 'it—say': 1, 'burnt': 1, 'ashes': 1, 'grate': 1, 'thrown': 1, 'household': 1, 'detritus': 1, 'daily': 1, 'lives—': 1, 'desserts': 1, 'deserted': 1, 'overrated': 1, 'sellby': 1, 'outdated': 1, 'rearranged': 1, 'shorter': 1, 'stanzas': 1, 'disposing': 1, 'torn': 1, 'tattered': 1, 'sections': 1, 'intact': 1, 'interjects': 1, 'placated': 1, 'with—': 1, 'couldn': 1, 'missing': 1, 'luckily': 1, 'ones': 1, 'ripped': 1, 'garbage': 1, 'omission': 1, 'done—': 1, 'cunning': 1, 'fruition': 1, 'thank': 1, 'remains': 1, 'cities': 1, 'colosseum': 1, 'ephesus': 1, 'rebuilt': 1, 'allembracing': 1, 'vesuvius': 1, 'heyday—ruins': 1, 'picturesque': 1, 'title—': 1, 'dislocations—not': 1, 'disruptions': 1, 'bone': 1, 'joint': 1, 'interruptions': 1, 'crystal': 1, 'structure—all': 1, 'related': 1, 'etymology': 1, 'nicely': 1, 'locus': 1, 'prefix': 1, 'snappy': 1, 'smacking': 1, 'academe': 1, 'funny': 1, 'reverence': 1, 'irreverence': 1, 'intoxication': 1, 'high': 1, 'roundabout': 1, 'blunt': 1, 'relevance': 1, 'feelings': 1, 'affective': 1, 'route': 1, 'humanity': 1, 'extended': 1, 'froth': 1, 'shallows': 1, 'spray': 1, 'crash': 1, 'shore': 1, 'reveal': 1, 'earth': 1, 'unrelenting': 1, 'opposition': 1, 'theme—': 1, 'study—': 1, 'offspring': 1, 'siblings': 1, 'versions': 1, 'project—': 1, 'painful': 1, 'wrought': 1, 'cheek': 1, 'fluctuating': 1, 'tide—': 1, 'laps': 1, 'wild': 1, 'undulating': 1, 'fixed': 1, 'hopes': 1, 'madness': 1, 'tied': 1, 'untamed': 1, 'unwilling': 1, 'kowtow': 1, 'gatekeeper': 1, 'conservation': 1, 'caged': 1, 'leashed': 1, 'freedom': 1, 'captured': 1, 'ordered': 1, 'rebirth—': 1, 'favourite': 1, 'time—of': 1, 'leonardo': 1, 'botticelli': 1, 'donatello': 1, 'laocoön': 1, 'sculpture': 1, 'writhing': 1, 'snakes': 1, 'father': 1, 'guided': 1, 'titian': 1, 'believes': 1, 'renaissance—': 1, 'going': 1, 'greatest': 1, 'encouraged': 1, 'others—': 1, 'william': 1, 'loved': 1, 'attempted—': 1, 'kindred': 1, 'undiscovered': 1, 'midjuly': 1, 'ovidexile': 1, 'died': 1, 'invited': 1, 'hardly': 1, 'stopped': 1, 'drank': 1, 'patient': 1, 'caring': 1, 'complements': 1, 'sober': 1, 'listens': 1, 'ramblings': 1, 'brushed': 1, 'times—': 1, 'swept': 1, 'away—he': 1, 'struggles': 1, 'rambles': 1, 'infinitum': 1, 'bores': 1, 'witless': 1, 'lying': 1, 'drowned': 1, 'sorrows': 1, 'cause': 1, 'unhappy': 1, 'state—': 1, 'eight': 1, 'ease': 1, 'refrains': 1, 'weeks—you': 1, 'fast': 1, 'clock': 1, 'ticking': 1, 'flick': 1, 'looms': 1, 'himself': 1, 'arrives': 1, 'are—': 1, 'anguished': 1, 'states': 1, 'complicates': 1, 'drudge': 1, 'splash': 1, 'flight': 1, 'leaving': 1, 'sorry': 1, 'muggers—': 1, 'drummers': 1, 'lovers': 1, 'fond': 1, 'repetition': 1, 'repetition—': 1, 'import': 1, 'awkward': 1, 'restlessness': 1, 'worlds': 1, 'fumblings': 1, 'pleasures': 1, 'glass—': 1, 'muffle': 1, 'groans': 1, 'whispers': 1, 'halls': 1, 'function': 1, 'transparent—surely': 1, 'traps': 1, 'husband': 1, 'bites': 1, 'mirror': 1, 'discouraging': 1, 'cast': 1, 'others—louder': 1, 'shouts': 1, 'heads': 1, 'goals': 1, 'lotto': 1, 'tickets': 1, 'thick': 1, 'doubtful': 1, 'honour': 1, 'story—woeful': 1, 'boastful': 1, 'cooked': 1, 'meal': 1, 'sauce': 1, 'pasta': 1, 'repast': 1, 'served': 1, 'piped': 1, 'divine': 1, 'conducive': 1, 'throats': 1, 'palate': 1, 'fusty': 1, 'saying': 1, 'hosts': 1, 'elegance': 1, 'sharp': 1, 'resonates': 1, 'quantity': 1, 'splendid': 1, 'door': 1, 'slams': 1, 'amiss': 1, 'begins': 1, 'misadventure': 1, 'tragedies': 1, 'majorminor—': 1, 'ambuscade': 1, 'espionage': 1, 'wanting': 1, 'consumption—': 1, 'aiding': 1, 'scanning': 1, 'lines—': 1, 'scattered': 1, 'symmetry': 1, 'sight': 1, 'inducing': 1, 'torpor': 1, 'coupled': 1, 'answer': 1, 'equivalent': 1, 'limping': 1, 'phrase': 1, 'pose': 1, 'response': 1, 'riposte': 1, 'contrast': 1, 'fivebeat': 1, 'withstood': 1, 'grace': 1, 'centuries': 1, 'rhythmrhyme': 1, 'grew': 1, 'creole': 1, 'elvis': 1, 'presley': 1, 'tutti': 1, 'frutti': 1, 'ignored': 1, 'blood—': 1, 'drumsticks': 1, 'knows': 1, 'gave': 1, 'transport': 1, 'thing—without': 1, 'drums': 1, 'easier': 1, 'ignoring': 1, 'musicians': 1, 'joking': 1, 'laughing': 1, 'cleft': 1, 'converse': 1, 'argue': 1, 'joke': 1, 'funnily': 1, 'talking': 1, 'leather': 1, 'revolting': 1, 'kept': 1, 'receipt': 1, 'appalling': 1, 'lacking—': 1, 'kills': 1, 'jackets': 1, 'tight': 1, 'balding': 1, 'ageing': 1, 'regression': 1, 'weaker': 1, 'frame': 1, 'tended': 1, 'styles': 1, 'randomly': 1, 'enclose': 1, 'unlike': 1, 'before—': 1, 'wanders': 1, 'arcane': 1, 'bore': 1, 'carry': 1, 'persevere': 1, 'endeavour': 1, 'injecting': 1, 'constrict': 1, 'length': 1, 'predetermined': 1, 'cassandra': 1, 'judgment': 1, 'wasting': 1, 'rushed': 1, 'amendments': 1, 'support—': 1, 'phrasing': 1, 'sweet': 1, 'grow': 1, 'sifting': 1, 'errors': 1, 'mistakes': 1, 'heart': 1, 'folly': 1, 'lyric': 1, 'designs': 1, 'hubris': 1, 'curse': 1, 'thrust': 1, 'finest': 1, 'minds—': 1, 'tear': 1, 'overlooked—': 1, 'latest': 1, 'anticipating': 1, 'gaffes': 1, 'imagination': 1, 'consideration': 1, 'together—': 1, 'gathered': 1, 'subtle': 1, 'saucy': 1, 'bawdy': 1, 'brazen': 1, 'compare': 1, 'expounded': 1, 'briefly': 1, 'sadly': 1, 'shunned': 1, 'fame': 1, 'gained': 1, 'abroad': 1, 'younger': 1, 'fitter': 1, 'painter': 1, 'london—seems': 1, 'followed': 1, 'deterred': 1, 'keys—the': 1, 'chopin': 1, 'canon': 1, 'trains': 1, 'fear': 1, 'dear': 1, 'strangled': 1, 'disposed': 1, 'kitchen': 1, 'knife': 1, 'toilet': 1, 'bowl': 1, 'shower': 1, 'curtain': 1, 'messy': 1, 'yonder': 1, 'sofa': 1, 'stupor—spot': 1, 'bottle': 1, 'definitely': 1, 'certainly': 1, 'chore': 1, 'watching': 1, 'football': 1, 'team': 1, 'liverpool': 1, '2000': 1, 'anew': 1, 'view—from': 1, 'transcriptions': 1, 'attracted': 1, 'egoism': 1, 'transgression': 1, 'woes': 1, 'jove': 1, 'send': 1, 'afternoons': 1, '—was': 1, 'better—by': 1, 'couplets': 1, 'dangers': 1, 'risk': 1, 'suggesting': 1, 'recognised': 1, 'blame': 1, 'expressed': 1, 'shock—': 1, 'exceeded': 1, 'rules': 1, 'mistreated': 1, 'marloweovid—adolescents': 1, 'translatingwriting': 1, 'revolutioninterregnum': 1, 'regicide': 1, 'plague': 1, 'emerged': 1, 'opinion': 1, 'conviction': 1, 'protestant': 1, 'catholics': 1, 'protestants': 1, 'returns': 1, 'turncoat': 1, 'panegyrics': 1, 'catholic': 1, 'solace': 1, 'swimming': 1, 'rose': 1, 'alley': 1, 'garden': 1, 'remain': 1, 'unclear': 1, 'match—': 1, 'complement': 1, 'violent': 1, 'courts': 1, 'murder': 1, 'affray': 1, 'what—a': 1, 'reckoning': 1, 'london—marlowe': 1, 'dies': 1, 'tomis—ovid': 1, 'garden—dryden': 1, 'attacked': 1, 'urbane': 1, 'proximate': 1, 'powers': 1, 'outside': 1, 'unites': 1, 'worlds—augustan': 1, 'elizabethanrestoration': 1, 'constantatomis': 1, 'service': 1, 'lately': 1, 'separated': 1, 'pope': 1, 'illicit': 1, 'meetings': 1, 'trysts': 1, 'frustrations': 1, 'impotence': 1, 'deceit': 1, 'excitement': 1, 'adventures': 1, 'risking': 1, 'danger': 1, 'density': 1, 'relied': 1, '—protagonist': 1, 'opinion—mere': 1, 'fluidity': 1, 'climax': 1, 'restoration': 1, 'awaiting': 1, 'greatness': 1, 'marlowe—edward': 1, 'faustus': 1, 'come—his': 1, 'logically': 1, 'concentrate': 1, 'checking': 1, 'elegies': 1, 'touched': 1, 'hands': 1, 'dreaming': 1, 'completing': 1, 'dissecting': 1, 'minutiae': 1, 'triple': 1, 'thin': 1, 'tamburlaine': 1, 'lover': 1, 'lacks': 1, 'ending': 1, 'shallow': 1, 'seas': 1, 'gleaming': 1, 'shifting': 1, 'moods': 1, 'lots': 1, 'ocean': 1, 'plumbed': 1, 'depths': 1, 'dislike': 1, 'blue': 1, 'waters': 1, 'drown': 1, 'occasionally': 1, 'kick': 1, 'bottom': 1, 'meagre': 1, 'scribblings': 1, '219': 1, 'note—there': 1, 'thing—the': 1, 'sunburst': 1, 'italy—': 1, 'banish': 1, 'turner': 1, 'bright': 1, 'smaller': 1, 'hear': 1, 'fumbling': 1, 'light—': 1, 'dawn': 1, 'cruel': 1, 'eclipsing': 1, 'denying—': 1, 'majesty': 1, 'twenty': 1, 'eternity': 1, 'cups': 1, 'cigarette': 1, 'bloody': 1, 'consequence': 1, 'tethered': 1, 'string': 1, 'jokes': 1, 'clear': 1, 'halves': 1, 'smartly': 1, 'nuance': 1, 'clarify': 1, 'deliberate': 1, 'foremost': 1, 'confusion': 1, 'obfuscation': 1, 'breathe': 1, 'splashes': 1, 'canvases': 1, 'mark': 1, 'existed': 1, 'relation': 1, 'nuanced': 1, 'view': 1, 'picture': 1, 'hover': 1, 'viewing': 1, 'actor': 1, 'warmer': 1, 'goes': 1, 'happens': 1, 'everywhere': 1, 'phrases': 1, 'vague': 1, 'maligned': 1, 'time—': 1, 'complex': 1, 'victorian': 1, 'crowded': 1, 'epsom': 1, 'racecourse': 1, 'classes': 1, 'rubbing': 1, 'shoulders': 1, 'artful': 1, 'stories': 1, 'impressionism': 1, 'starting': 1, 'later—': 1, 'lacking': 1, 'character—': 1, 'example—maybe': 1, 'degas': 1, 'dancers': 1, 'movement': 1, 'graceful': 1, 'figures': 1, 'drawn': 1, 'one—': 1, 'sketch': 1, 'degas—intimation': 1, 'outline': 1, 'wall': 1, 'feel': 1, 'day—so': 1, 'many—even': 1, 'lord': 1, 'rochester': 1, 'incontinence': 1, 'stand': 1, 'equal': 1, 'festering': 1, 'subjugated': 1, 'flat': 1, 'fury': 1, 'signifying': 1, 'afterwards': 1, 'emboldened': 1, 'replaced': 1, 'satire': 1, 'modern—mourning': 1, 'couplet': 1, 'finish': 1, 'dispute': 1, 'ours': 1, 'envisage': 1, 'dialogue': 1, 'frank': 1, 'stifling': 1, 'nature': 1, 'wringing': 1, 'words—': 1, 'morbid': 1, 'centred': 1, 'thee': 1, 'wine—': 1, 'reflect': 1, 'deserves': 1, 'credit': 1, 'overlooked': 1, 'checked': 1, 'emails—there': 1, 'approved': 1, 'horror': 1, 'outlined': 1, 'artistswriters': 1, 'selfimposed': 1, 'zola': 1, 'courbet': 1, 'gauguin': 1, 'schwitters': 1, 'grosz': 1, 'hatoum': 1, 'abramovic': 1, 'list': 1, 'endless': 1, 'ambition': 1, 'killed': 1, 'successful': 1, 'names': 1, 'names—': 1, 'teaching': 1, 'appreciation': 1, 'stipulated': 1, 'complaining': 1, 'onoffline': 1, 'terrifying': 1, 'pasted': 1, 'amazon': 1, 'searched': 1, 'basketed': 1, 'bank': 1, 'assist—': 1, 'spend': 1, 'swotting': 1, 'knackered': 1, 'inspiration': 1, 'fret': 1, 'sources': 1, 'feeding': 1, 'current': 1, 'theories': 1, 'translate': 1, 'scan': 1, 'researched': 1, 'linguistically': 1, 'cross': 1, 'hard—': 1, 'prose': 1, 'knowledge—': 1, 'crushes': 1, 'options': 1, 'bypassing': 1, 'pass': 1, 'gods': 1, 'floating': 1, 'damning': 1, 'moral': 1, 'divergent': 1, 'life—': 1, 'negotiations': 1, 'spaces': 1, 'spoken—': 1, 'art': 1, 'bluster': 1, 'penned': 1, 'applause': 1, 'duplication—true': 1, 'damned': 1, 'share': 1, 'somehow': 1, 'admit': 1, 'xxxi': 1, 'exist': 1, 'facets': 1, 'rightly': 1, 'urgent': 1, 'nature—': 1, 'subjectivity': 1, 'contrary': 1, 'have—': 1, 'compared': 1, 'flagellate': 1, 'xxxii': 1, 'underestimate': 1, 'worth': 1, 'subjective': 1, 'speculation': 1, 'takes': 1, 'ostracizes': 1, 'flawed': 1, 'energizing': 1, 'xxxiii': 1, 'obnoxious': 1, 'incompetent': 1, 'two—and': 1, 'admitting': 1, 'right—': 1, 'democracy': 1, 'party': 1, 'xxxiv': 1, 'resolve': 1, 'solved': 1, 'square': 1, 'silly': 1, 'hopefulness': 1, 'exists': 1, 'tension': 1, 'leave': 1, 'peace': 1, 'xxxv': 1, 'halffull': 1, 'detached': 1, 'debated': 1, 'acknowledgement': 1, 'limits': 1, 'selfindulgence': 1, 'plays': 1, 'optimism': 1, 'infectious': 1, 'virus': 1, 'xxxvi': 1, 'wine—he': 1, 'anteroom': 1, 'around—': 1, 'confound': 1, 'expectations': 1, 'bottles—drinks': 1, 'shelf': 1, 'peanuts': 1, 'skip': 1, 'xxxvii': 1, 'dabbler': 1, 'beware': 1, 'throw': 1, 'caution': 1, 'worry': 1, 'dark': 1, 'delight': 1, 'righting': 1, 'xxxviii': 1, 'fits': 1, 'looks': 1, 'hates': 1, 'lysistrata': 1, 'strike': 1, 'deign': 1, 'hide': 1, 'wardrobe': 1, 'hanging': 1, 'behind': 1, 'suits': 1, 'ready': 1, 'proper': 1, 'twelvebar': 1, 'lines—enticing': 1, 'rhymes—they': 1, 'suit': 1, 'occasions—when': 1, 'xxxix': 1, 'conclusion': 1, 'pliant': 1, 'him—': 1, 'come—': 1, 'rewriting': 1, 'watched': 1, 'trying': 1, 'achieve': 1, 'goal—': 1, 'planned': 1, 'famous': 1, 'transformations': 1, 'dis': 1, 'dodgy': 1, 'goings': 1, 'opinion—': 1, 'xlii': 1, 'councilfunded': 1, 'organized': 1, 'alliance': 1, 'integration': 1, 'dobruja—': 1, 'cultures': 1, 'banished': 1, 'landed': 1, 'xliii': 1, 'protagonists': 1, 'display': 1, 'tragicomic': 1, 'tendencies': 1, 'monologues': 1, 'dialogues': 1, 'indecisions': 1, 'disagreements': 1, 'finally': 1, 'resolution—': 1, 'pairs': 1, 'wedded': 1, 'marlowedryden': 1, 'bedded': 1, 'players': 1, 'artistpoet': 1, 'sides': 1, 'xliv': 1, 'ship': 1, 'wizz': 1, 'flight—': 1, 'luton': 1, 'tourists': 1, 'dread': 1, 'runways': 1, 'seats': 1, 'token': 1, 'legroom': 1, 'turbulence': 1, 'transforms': 1, 'taxi': 1, 'runway': 1, 'hotel': 1, 'smiling': 1, 'drink—': 1, 'partaken': 1, 'forgotten': 1, 'this—': 1, 'lost': 1, 'reply': 1, 'assured': 1, 'saved': 1, 'grown': 1, 'parental': 1, 'independent': 1, 'website—': 1, 'average': 1, 'website': 1, 'bucharest': 1})\n"
     ]
    }
   ],
   "source": [
    "\n",
    "print(Count_total)"
   ]
  },
  {
   "cell_type": "code",
   "execution_count": 21,
   "metadata": {},
   "outputs": [
    {
     "name": "stdout",
     "output_type": "stream",
     "text": [
      "7899\n"
     ]
    }
   ],
   "source": [
    "\n",
    "for i in range(1):\n",
    "    print(len(texts_data[i]))"
   ]
  },
  {
   "cell_type": "code",
   "execution_count": 12,
   "metadata": {},
   "outputs": [],
   "source": [
    "\n",
    "for i in range(1):\n",
    "    texts_data[i] = [x for x in texts_data[i] if x not in stopwords]"
   ]
  },
  {
   "cell_type": "code",
   "execution_count": 13,
   "metadata": {},
   "outputs": [
    {
     "name": "stdout",
     "output_type": "stream",
     "text": [
      "19253\n"
     ]
    }
   ],
   "source": [
    "\n",
    "print(len(texts_data[0]))"
   ]
  },
  {
   "cell_type": "code",
   "execution_count": 14,
   "metadata": {},
   "outputs": [],
   "source": [
    "\n",
    "dictionary = corpora.Dictionary(texts_data)"
   ]
  },
  {
   "cell_type": "code",
   "execution_count": 15,
   "metadata": {},
   "outputs": [],
   "source": [
    "\n",
    "corpus = [dictionary.doc2bow(text) for text in texts_data]\n",
    "import pickle\n",
    "pickle.dump(corpus, open('corpus.pkl', 'wb'))\n",
    "dictionary.save('dictionary.gensim')"
   ]
  },
  {
   "cell_type": "code",
   "execution_count": 26,
   "metadata": {},
   "outputs": [],
   "source": [
    "\n",
    "def compute_coherence_values(dictionary, corpus, texts, limit, start = 2, step = 1):\n",
    "    coherence_values = []\n",
    "    model_list = []\n",
    "    for num_topics in range(start, limit, step):\n",
    "        model = gensim.models.ldamodel.LdaModel(corpus = corpus, num_topics = num_topics, id2word = dictionary, random_state = 100, update_every = 1, passes = 15, alpha = 'auto', per_word_topics = True)\n",
    "        model_list.append(model)\n",
    "        coherencemodel = CoherenceModel(model = model, texts = texts, dictionary = dictionary, coherence = 'c_v')\n",
    "        coherence_values.append(coherencemodel.get_coherence())\n",
    "\n",
    "    return model_list, coherence_values"
   ]
  },
  {
   "cell_type": "code",
   "execution_count": 27,
   "metadata": {},
   "outputs": [],
   "source": [
    "\n",
    "model_list, coherence_values = compute_coherence_values(dictionary = dictionary, corpus = corpus, texts = texts_data, start=2, limit=10, step=1)"
   ]
  },
  {
   "cell_type": "code",
   "execution_count": 28,
   "metadata": {},
   "outputs": [
    {
     "name": "stdout",
     "output_type": "stream",
     "text": [
      "Num Topics = 2  has Coherence Value of 0.2937\n",
      "Num Topics = 3  has Coherence Value of 0.2833\n",
      "Num Topics = 4  has Coherence Value of 0.2925\n",
      "Num Topics = 5  has Coherence Value of 0.2971\n",
      "Num Topics = 6  has Coherence Value of 0.3023\n",
      "Num Topics = 7  has Coherence Value of 0.2945\n",
      "Num Topics = 8  has Coherence Value of 0.3039\n",
      "Num Topics = 9  has Coherence Value of 0.2978\n"
     ]
    }
   ],
   "source": [
    "\n",
    "limit=10\n",
    "start=2\n",
    "step=1\n",
    "x = range(start, limit, step)\n",
    "\n",
    "for m, cv in zip(x, coherence_values):\n",
    "    print(\"Num Topics =\", m, \" has Coherence Value of\", round(cv, 4))"
   ]
  },
  {
   "cell_type": "code",
   "execution_count": 29,
   "metadata": {},
   "outputs": [],
   "source": [
    "\n",
    "NUM_TOPICS = 8\n",
    "ldamodel = gensim.models.ldamodel.LdaModel(corpus, num_topics = NUM_TOPICS, id2word=dictionary, random_state=100, update_every=1, passes=15, alpha='auto', per_word_topics=True)"
   ]
  },
  {
   "cell_type": "code",
   "execution_count": 34,
   "metadata": {},
   "outputs": [],
   "source": [
    "\n",
    "topics = ldamodel.print_topics(num_words=46)"
   ]
  },
  {
   "cell_type": "code",
   "execution_count": 35,
   "metadata": {},
   "outputs": [
    {
     "name": "stdout",
     "output_type": "stream",
     "text": [
      "[(0,\n",
      "  '0.000*\"verse\" + 0.000*\"ovid\" + 0.000*\"work\" + 0.000*\"other\" + 0.000*\"poet\" '\n",
      "  '+ 0.000*\"poetry\" + 0.000*\"audio\" + 0.000*\"time\" + 0.000*\"poem\" + '\n",
      "  '0.000*\"poets\" + 0.000*\"marlowe\" + 0.000*\"digital\" + 0.000*\"lines\" + '\n",
      "  '0.000*\"media\" + 0.000*\"both\" + 0.000*\"when\" + 0.000*\"said\" + 0.000*\"beat\" + '\n",
      "  '0.000*\"might\" + 0.000*\"write\" + 0.000*\"recordings\" + 0.000*\"made\" + '\n",
      "  '0.000*\"writing\" + 0.000*\"project\" + 0.000*\"thanks\" + 0.000*\"three\" + '\n",
      "  '0.000*\"dryden\" + 0.000*\"half\" + 0.000*\"production\" + 0.000*\"thought\" + '\n",
      "  '0.000*\"research\" + 0.000*\"sound\" + 0.000*\"line\" + 0.000*\"course\" + '\n",
      "  '0.000*\"voice\" + 0.000*\"making\" + 0.000*\"online\" + 0.000*\"used\" + '\n",
      "  '0.000*\"type\" + 0.000*\"humanities\" + 0.000*\"magazine\" + 0.000*\"form\" + '\n",
      "  '0.000*\"every\" + 0.000*\"plan\" + 0.000*\"perhaps\" + 0.000*\"again\"'),\n",
      " (1,\n",
      "  '0.000*\"ovid\" + 0.000*\"work\" + 0.000*\"verse\" + 0.000*\"poetry\" + 0.000*\"time\" '\n",
      "  '+ 0.000*\"poem\" + 0.000*\"lines\" + 0.000*\"audio\" + 0.000*\"other\" + '\n",
      "  '0.000*\"poets\" + 0.000*\"digital\" + 0.000*\"poet\" + 0.000*\"make\" + '\n",
      "  '0.000*\"marlowe\" + 0.000*\"when\" + 0.000*\"writing\" + 0.000*\"course\" + '\n",
      "  '0.000*\"used\" + 0.000*\"media\" + 0.000*\"made\" + 0.000*\"dryden\" + '\n",
      "  '0.000*\"recordings\" + 0.000*\"thanks\" + 0.000*\"beat\" + 0.000*\"write\" + '\n",
      "  '0.000*\"three\" + 0.000*\"research\" + 0.000*\"line\" + 0.000*\"thought\" + '\n",
      "  '0.000*\"might\" + 0.000*\"project\" + 0.000*\"half\" + 0.000*\"both\" + '\n",
      "  '0.000*\"best\" + 0.000*\"magazine\" + 0.000*\"voice\" + 0.000*\"sound\" + '\n",
      "  '0.000*\"rhythm\" + 0.000*\"know\" + 0.000*\"said\" + 0.000*\"every\" + '\n",
      "  '0.000*\"translation\" + 0.000*\"online\" + 0.000*\"perhaps\" + 0.000*\"better\" + '\n",
      "  '0.000*\"between\"'),\n",
      " (2,\n",
      "  '0.000*\"verse\" + 0.000*\"time\" + 0.000*\"poet\" + 0.000*\"work\" + 0.000*\"ovid\" + '\n",
      "  '0.000*\"other\" + 0.000*\"poetry\" + 0.000*\"poem\" + 0.000*\"digital\" + '\n",
      "  '0.000*\"when\" + 0.000*\"lines\" + 0.000*\"writing\" + 0.000*\"poets\" + '\n",
      "  '0.000*\"audio\" + 0.000*\"write\" + 0.000*\"thought\" + 0.000*\"media\" + '\n",
      "  '0.000*\"dryden\" + 0.000*\"marlowe\" + 0.000*\"beat\" + 0.000*\"both\" + '\n",
      "  '0.000*\"research\" + 0.000*\"line\" + 0.000*\"sound\" + 0.000*\"said\" + '\n",
      "  '0.000*\"might\" + 0.000*\"voice\" + 0.000*\"online\" + 0.000*\"make\" + '\n",
      "  '0.000*\"project\" + 0.000*\"better\" + 0.000*\"best\" + 0.000*\"course\" + '\n",
      "  '0.000*\"between\" + 0.000*\"half\" + 0.000*\"thanks\" + 0.000*\"made\" + '\n",
      "  '0.000*\"each\" + 0.000*\"alter\" + 0.000*\"recordings\" + 0.000*\"where\" + '\n",
      "  '0.000*\"used\" + 0.000*\"form\" + 0.000*\"three\" + 0.000*\"things\" + '\n",
      "  '0.000*\"production\"'),\n",
      " (3,\n",
      "  '0.000*\"work\" + 0.000*\"verse\" + 0.000*\"ovid\" + 0.000*\"poetry\" + 0.000*\"time\" '\n",
      "  '+ 0.000*\"poet\" + 0.000*\"other\" + 0.000*\"audio\" + 0.000*\"poem\" + '\n",
      "  '0.000*\"lines\" + 0.000*\"poets\" + 0.000*\"media\" + 0.000*\"beat\" + '\n",
      "  '0.000*\"dryden\" + 0.000*\"line\" + 0.000*\"when\" + 0.000*\"digital\" + '\n",
      "  '0.000*\"write\" + 0.000*\"writing\" + 0.000*\"said\" + 0.000*\"form\" + '\n",
      "  '0.000*\"production\" + 0.000*\"online\" + 0.000*\"years\" + 0.000*\"might\" + '\n",
      "  '0.000*\"recordings\" + 0.000*\"both\" + 0.000*\"three\" + 0.000*\"used\" + '\n",
      "  '0.000*\"where\" + 0.000*\"research\" + 0.000*\"others\" + 0.000*\"make\" + '\n",
      "  '0.000*\"best\" + 0.000*\"course\" + 0.000*\"sound\" + 0.000*\"magazine\" + '\n",
      "  '0.000*\"thanks\" + 0.000*\"half\" + 0.000*\"between\" + 0.000*\"better\" + '\n",
      "  '0.000*\"project\" + 0.000*\"each\" + 0.000*\"making\" + 0.000*\"life\" + '\n",
      "  '0.000*\"because\"'),\n",
      " (4,\n",
      "  '0.008*\"work\" + 0.007*\"verse\" + 0.006*\"ovid\" + 0.005*\"time\" + 0.005*\"poetry\" '\n",
      "  '+ 0.005*\"poet\" + 0.005*\"other\" + 0.004*\"poets\" + 0.004*\"digital\" + '\n",
      "  '0.004*\"audio\" + 0.004*\"lines\" + 0.004*\"poem\" + 0.003*\"writing\" + '\n",
      "  '0.003*\"when\" + 0.003*\"write\" + 0.003*\"media\" + 0.003*\"line\" + 0.003*\"beat\" '\n",
      "  '+ 0.003*\"marlowe\" + 0.003*\"might\" + 0.003*\"sound\" + 0.003*\"both\" + '\n",
      "  '0.002*\"dryden\" + 0.002*\"half\" + 0.002*\"thought\" + 0.002*\"said\" + '\n",
      "  '0.002*\"course\" + 0.002*\"voice\" + 0.002*\"recordings\" + 0.002*\"three\" + '\n",
      "  '0.002*\"project\" + 0.002*\"make\" + 0.002*\"thanks\" + 0.002*\"used\" + '\n",
      "  '0.002*\"research\" + 0.002*\"best\" + 0.002*\"production\" + 0.002*\"online\" + '\n",
      "  '0.002*\"form\" + 0.002*\"magazine\" + 0.002*\"made\" + 0.002*\"poems\" + '\n",
      "  '0.002*\"every\" + 0.002*\"where\" + 0.002*\"years\" + 0.002*\"better\"'),\n",
      " (5,\n",
      "  '0.000*\"verse\" + 0.000*\"work\" + 0.000*\"ovid\" + 0.000*\"poetry\" + 0.000*\"poet\" '\n",
      "  '+ 0.000*\"time\" + 0.000*\"audio\" + 0.000*\"poets\" + 0.000*\"other\" + '\n",
      "  '0.000*\"lines\" + 0.000*\"digital\" + 0.000*\"poem\" + 0.000*\"writing\" + '\n",
      "  '0.000*\"write\" + 0.000*\"line\" + 0.000*\"when\" + 0.000*\"marlowe\" + '\n",
      "  '0.000*\"media\" + 0.000*\"might\" + 0.000*\"both\" + 0.000*\"beat\" + '\n",
      "  '0.000*\"research\" + 0.000*\"half\" + 0.000*\"make\" + 0.000*\"thought\" + '\n",
      "  '0.000*\"thanks\" + 0.000*\"sound\" + 0.000*\"dryden\" + 0.000*\"course\" + '\n",
      "  '0.000*\"project\" + 0.000*\"recordings\" + 0.000*\"made\" + 0.000*\"best\" + '\n",
      "  '0.000*\"used\" + 0.000*\"online\" + 0.000*\"production\" + 0.000*\"every\" + '\n",
      "  '0.000*\"where\" + 0.000*\"material\" + 0.000*\"each\" + 0.000*\"magazine\" + '\n",
      "  '0.000*\"better\" + 0.000*\"said\" + 0.000*\"poems\" + 0.000*\"three\" + '\n",
      "  '0.000*\"between\"'),\n",
      " (6,\n",
      "  '0.000*\"work\" + 0.000*\"ovid\" + 0.000*\"verse\" + 0.000*\"other\" + 0.000*\"time\" '\n",
      "  '+ 0.000*\"poets\" + 0.000*\"poetry\" + 0.000*\"audio\" + 0.000*\"poet\" + '\n",
      "  '0.000*\"sound\" + 0.000*\"writing\" + 0.000*\"write\" + 0.000*\"beat\" + '\n",
      "  '0.000*\"digital\" + 0.000*\"poems\" + 0.000*\"media\" + 0.000*\"line\" + '\n",
      "  '0.000*\"might\" + 0.000*\"when\" + 0.000*\"lines\" + 0.000*\"poem\" + '\n",
      "  '0.000*\"thought\" + 0.000*\"used\" + 0.000*\"online\" + 0.000*\"research\" + '\n",
      "  '0.000*\"project\" + 0.000*\"both\" + 0.000*\"said\" + 0.000*\"half\" + '\n",
      "  '0.000*\"course\" + 0.000*\"marlowe\" + 0.000*\"form\" + 0.000*\"every\" + '\n",
      "  '0.000*\"voice\" + 0.000*\"production\" + 0.000*\"thanks\" + 0.000*\"know\" + '\n",
      "  '0.000*\"before\" + 0.000*\"magazine\" + 0.000*\"make\" + 0.000*\"between\" + '\n",
      "  '0.000*\"perhaps\" + 0.000*\"where\" + 0.000*\"years\" + 0.000*\"plan\" + '\n",
      "  '0.000*\"three\"'),\n",
      " (7,\n",
      "  '0.000*\"work\" + 0.000*\"verse\" + 0.000*\"ovid\" + 0.000*\"other\" + 0.000*\"time\" '\n",
      "  '+ 0.000*\"poet\" + 0.000*\"poetry\" + 0.000*\"digital\" + 0.000*\"poets\" + '\n",
      "  '0.000*\"writing\" + 0.000*\"media\" + 0.000*\"audio\" + 0.000*\"poem\" + '\n",
      "  '0.000*\"lines\" + 0.000*\"when\" + 0.000*\"course\" + 0.000*\"both\" + 0.000*\"line\" '\n",
      "  '+ 0.000*\"write\" + 0.000*\"beat\" + 0.000*\"sound\" + 0.000*\"voice\" + '\n",
      "  '0.000*\"three\" + 0.000*\"said\" + 0.000*\"half\" + 0.000*\"best\" + 0.000*\"thanks\" '\n",
      "  '+ 0.000*\"dryden\" + 0.000*\"production\" + 0.000*\"used\" + 0.000*\"project\" + '\n",
      "  '0.000*\"recordings\" + 0.000*\"might\" + 0.000*\"form\" + 0.000*\"thought\" + '\n",
      "  '0.000*\"magazine\" + 0.000*\"every\" + 0.000*\"made\" + 0.000*\"marlowe\" + '\n",
      "  '0.000*\"where\" + 0.000*\"something\" + 0.000*\"translation\" + 0.000*\"making\" + '\n",
      "  '0.000*\"better\" + 0.000*\"research\" + 0.000*\"make\"')]\n"
     ]
    }
   ],
   "source": [
    "\n",
    "pprint(topics)"
   ]
  },
  {
   "cell_type": "code",
   "execution_count": 16,
   "metadata": {},
   "outputs": [],
   "source": [
    "\n",
    "NUM_TOPICS = 2\n",
    "ldamodel = gensim.models.ldamodel.LdaModel(corpus, num_topics = NUM_TOPICS, id2word=dictionary, random_state=100, update_every=1, passes=15, alpha='auto', per_word_topics=True)"
   ]
  },
  {
   "cell_type": "code",
   "execution_count": 14,
   "metadata": {},
   "outputs": [],
   "source": [
    "\n",
    "topics = ldamodel.print_topics(num_words=46)"
   ]
  },
  {
   "cell_type": "code",
   "execution_count": 16,
   "metadata": {},
   "outputs": [
    {
     "name": "stdout",
     "output_type": "stream",
     "text": [
      "[(0,\n",
      "  '0.003*\"verse\" + 0.003*\"translation\" + 0.003*\"ovid\" + 0.003*\"work\" + '\n",
      "  '0.003*\"poem\" + 0.003*\"other\" + 0.002*\"poet\" + 0.002*\"when\" + 0.002*\"time\" + '\n",
      "  '0.002*\"music\" + 0.002*\"might\" + 0.002*\"lines\" + 0.002*\"romanian\" + '\n",
      "  '0.002*\"write\" + 0.002*\"care\" + 0.002*\"both\" + 0.002*\"know\" + '\n",
      "  '0.001*\"writing\" + 0.001*\"line\" + 0.001*\"said\" + 0.001*\"only\" + 0.001*\"rock\" '\n",
      "  '+ 0.001*\"before\" + 0.001*\"beat\" + 0.001*\"chiriac\" + 0.001*\"marlowe\" + '\n",
      "  '0.001*\"where\" + 0.001*\"pentru\" + 0.001*\"here\" + 0.001*\"radio\" + '\n",
      "  '0.001*\"rules\" + 0.001*\"romania\" + 0.001*\"course\" + 0.001*\"thought\" + '\n",
      "  '0.001*\"found\" + 0.001*\"between\" + 0.001*\"form\" + 0.001*\"pitti\" + '\n",
      "  '0.001*\"half\" + 0.001*\"poets\" + 0.001*\"dryden\" + 0.001*\"after\" + '\n",
      "  '0.001*\"second\" + 0.001*\"life\" + 0.001*\"text\" + 0.001*\"subject\"'),\n",
      " (1,\n",
      "  '0.000*\"ovid\" + 0.000*\"translation\" + 0.000*\"verse\" + 0.000*\"work\" + '\n",
      "  '0.000*\"poem\" + 0.000*\"when\" + 0.000*\"poet\" + 0.000*\"time\" + 0.000*\"other\" + '\n",
      "  '0.000*\"might\" + 0.000*\"write\" + 0.000*\"music\" + 0.000*\"romanian\" + '\n",
      "  '0.000*\"radio\" + 0.000*\"before\" + 0.000*\"only\" + 0.000*\"know\" + '\n",
      "  '0.000*\"dryden\" + 0.000*\"said\" + 0.000*\"care\" + 0.000*\"pentru\" + '\n",
      "  '0.000*\"where\" + 0.000*\"line\" + 0.000*\"both\" + 0.000*\"course\" + '\n",
      "  '0.000*\"poets\" + 0.000*\"lines\" + 0.000*\"rock\" + 0.000*\"half\" + '\n",
      "  '0.000*\"romania\" + 0.000*\"rules\" + 0.000*\"pitti\" + 0.000*\"form\" + '\n",
      "  '0.000*\"writing\" + 0.000*\"second\" + 0.000*\"marlowe\" + 0.000*\"chiriac\" + '\n",
      "  '0.000*\"here\" + 0.000*\"between\" + 0.000*\"under\" + 0.000*\"take\" + '\n",
      "  '0.000*\"words\" + 0.000*\"prin\" + 0.000*\"after\" + 0.000*\"found\" + '\n",
      "  '0.000*\"peignot\"')]\n"
     ]
    }
   ],
   "source": [
    "\n",
    "pprint(topics)"
   ]
  },
  {
   "cell_type": "code",
   "execution_count": null,
   "metadata": {},
   "outputs": [],
   "source": []
  },
  {
   "cell_type": "code",
   "execution_count": 17,
   "metadata": {},
   "outputs": [],
   "source": [
    "\n",
    "l0 = list(ldamodel.show_topic(0, topn = 9000))"
   ]
  },
  {
   "cell_type": "code",
   "execution_count": 18,
   "metadata": {},
   "outputs": [],
   "source": [
    "l1 = list(ldamodel.show_topic(1, topn = 9000))"
   ]
  },
  {
   "cell_type": "code",
   "execution_count": 19,
   "metadata": {},
   "outputs": [
    {
     "data": {
      "text/plain": [
       "7964"
      ]
     },
     "execution_count": 19,
     "metadata": {},
     "output_type": "execute_result"
    }
   ],
   "source": [
    "\n",
    "len(l0)"
   ]
  },
  {
   "cell_type": "code",
   "execution_count": 20,
   "metadata": {},
   "outputs": [
    {
     "data": {
      "text/plain": [
       "7964"
      ]
     },
     "execution_count": 20,
     "metadata": {},
     "output_type": "execute_result"
    }
   ],
   "source": [
    "len(l1)"
   ]
  },
  {
   "cell_type": "code",
   "execution_count": 21,
   "metadata": {},
   "outputs": [
    {
     "name": "stdout",
     "output_type": "stream",
     "text": [
      "2740\n"
     ]
    }
   ],
   "source": [
    "\n",
    "for i in range(7473):\n",
    "    if l0[i][0]== \"dreamingofatimewhentheycouldmakealongverserhyme\":\n",
    "            print(i)"
   ]
  },
  {
   "cell_type": "code",
   "execution_count": 22,
   "metadata": {},
   "outputs": [
    {
     "name": "stdout",
     "output_type": "stream",
     "text": [
      "6768\n"
     ]
    }
   ],
   "source": [
    "\n",
    "for i in range(7473):\n",
    "    if l1[i][0]== \"dreamingofatimewhentheycouldmakealongverserhyme\":\n",
    "            print(i)"
   ]
  },
  {
   "cell_type": "code",
   "execution_count": 23,
   "metadata": {},
   "outputs": [
    {
     "name": "stdout",
     "output_type": "stream",
     "text": [
      "('mistreated', 8.4028245e-05)\n",
      "('thoroughly', 8.4028245e-05)\n",
      "('focusing', 8.4028245e-05)\n",
      "('americanization', 8.4028245e-05)\n",
      "('ceruri', 8.402824e-05)\n",
      "('shallow', 8.4028215e-05)\n",
      "('progeny', 8.4028215e-05)\n",
      "('immodest', 8.4028215e-05)\n",
      "('inprisonforexposingpoliticianstaxevasionandembezzlement', 8.4028215e-05)\n",
      "('tinde', 8.402821e-05)\n",
      "('whatwouldisay', 8.402821e-05)\n",
      "('poétiquecurieuse', 8.40282e-05)\n",
      "('xxxv', 8.402818e-05)\n",
      "('usinthetitlethusbecomestheus', 8.402818e-05)\n",
      "('punctuaţia', 8.402816e-05)\n",
      "('bury', 8.402815e-05)\n",
      "('heart', 8.402815e-05)\n",
      "('slippage', 8.402814e-05)\n",
      "('whenithinkofsuchmagnitudeasifseducedipaniccompulsivelyjustasyearsbeforeilayonthegrassandwasgraspedbyinfinity', 8.4028135e-05)\n",
      "('sights', 8.4028135e-05)\n",
      "('14daysincaptivity', 8.402813e-05)\n",
      "('stabili', 8.402812e-05)\n",
      "('compress', 8.402811e-05)\n",
      "('hurt', 8.402811e-05)\n",
      "('țină', 8.402811e-05)\n",
      "('sets', 8.40281e-05)\n",
      "('poeți', 8.402809e-05)\n",
      "('bitly2d077l4', 8.402808e-05)\n",
      "('altminteri', 8.402806e-05)\n",
      "('intact', 8.402806e-05)\n",
      "('transgression', 8.402805e-05)\n",
      "('elaborative', 8.402803e-05)\n",
      "('fetei', 8.402802e-05)\n",
      "('yonder', 8.402802e-05)\n",
      "('criptici', 8.402802e-05)\n",
      "('harder', 8.4028004e-05)\n",
      "('păstrez', 8.4028e-05)\n",
      "('revolutioninterregnum', 8.4028e-05)\n",
      "('computerenvironment', 8.4028e-05)\n",
      "('susanbee', 8.402799e-05)\n",
      "('dreamingofatimewhentheycouldmakealongverserhyme', 8.402797e-05)\n",
      "('eleşteu', 8.402797e-05)\n",
      "('structure', 8.402795e-05)\n",
      "('uscat', 8.402795e-05)\n",
      "('decade', 8.4027946e-05)\n",
      "('conține', 8.402794e-05)\n",
      "('rhythmrhyme', 8.402794e-05)\n",
      "('moods', 8.402792e-05)\n",
      "('cârpeautomate', 8.40279e-05)\n",
      "('folly', 8.40279e-05)\n",
      "('frenzyofsongwithintheflux', 8.4027895e-05)\n",
      "('iisus', 8.4027844e-05)\n",
      "('eyeful', 8.4027844e-05)\n",
      "('1960–1989', 8.4027844e-05)\n",
      "('creolecocoaloca', 8.402783e-05)\n",
      "('mișcăriletexturatealereînnoiriiambigue', 8.402782e-05)\n",
      "('graphpoemalgorithms', 8.402782e-05)\n",
      "('formulation', 8.402782e-05)\n",
      "('serie', 8.402779e-05)\n",
      "('puneți', 8.402778e-05)\n",
      "('compelling', 8.402778e-05)\n",
      "('fusty', 8.402775e-05)\n",
      "('pleasure', 8.402775e-05)\n",
      "('relevance', 8.402775e-05)\n",
      "('suspendată', 8.402775e-05)\n",
      "('producer', 8.402774e-05)\n",
      "('memelesecombinășiseregenerează', 8.402774e-05)\n",
      "('flowers', 8.402774e-05)\n",
      "('displayed', 8.402774e-05)\n",
      "('pariu', 8.402774e-05)\n",
      "('oraș', 8.402774e-05)\n",
      "('concasorul', 8.402771e-05)\n",
      "('righting', 8.402771e-05)\n",
      "('enunciate', 8.40277e-05)\n",
      "('modifying', 8.4027684e-05)\n",
      "('corneliumpopescu', 8.402767e-05)\n",
      "('speakfromthepositionofthemachine', 8.402767e-05)\n",
      "('constrict', 8.402766e-05)\n",
      "('înaintare', 8.402765e-05)\n",
      "('căptușeala', 8.402765e-05)\n",
      "('plimbă', 8.402763e-05)\n"
     ]
    }
   ],
   "source": [
    "\n",
    "for i in range(2700, 2781):\n",
    "              print(l0[i])"
   ]
  },
  {
   "cell_type": "code",
   "execution_count": 24,
   "metadata": {},
   "outputs": [
    {
     "name": "stdout",
     "output_type": "stream",
     "text": [
      "('pasta', 0.00013344904)\n",
      "('îngână', 0.00013344898)\n",
      "('căptușeala', 0.00013344894)\n",
      "('plimbă', 0.00013344889)\n",
      "('constrict', 0.00013344886)\n",
      "('modifying', 0.00013344876)\n",
      "('înaintare', 0.00013344873)\n",
      "('speakfromthepositionofthemachine', 0.00013344867)\n",
      "('corneliumpopescu', 0.00013344863)\n",
      "('righting', 0.00013344862)\n",
      "('memelesecombinășiseregenerează', 0.00013344857)\n",
      "('concasorul', 0.00013344853)\n",
      "('displayed', 0.0001334485)\n",
      "('producer', 0.00013344848)\n",
      "('suspendată', 0.00013344848)\n",
      "('flowers', 0.00013344847)\n",
      "('pariu', 0.00013344844)\n",
      "('relevance', 0.00013344841)\n",
      "('fusty', 0.0001334484)\n",
      "('enunciate', 0.00013344838)\n",
      "('oraș', 0.00013344835)\n",
      "('serie', 0.0001334483)\n",
      "('pleasure', 0.0001334483)\n",
      "('puneți', 0.00013344822)\n",
      "('formulation', 0.0001334482)\n",
      "('graphpoemalgorithms', 0.00013344815)\n",
      "('compelling', 0.00013344815)\n",
      "('mișcăriletexturatealereînnoiriiambigue', 0.00013344812)\n",
      "('creolecocoaloca', 0.00013344812)\n",
      "('eyeful', 0.00013344805)\n",
      "('1960–1989', 0.00013344803)\n",
      "('iisus', 0.00013344795)\n",
      "('frenzyofsongwithintheflux', 0.00013344783)\n",
      "('cârpeautomate', 0.00013344779)\n",
      "('folly', 0.00013344768)\n",
      "('moods', 0.00013344768)\n",
      "('rhythmrhyme', 0.00013344758)\n",
      "('decade', 0.00013344754)\n",
      "('structure', 0.0001334475)\n",
      "('conține', 0.00013344747)\n",
      "('eleşteu', 0.00013344744)\n",
      "('dreamingofatimewhentheycouldmakealongverserhyme', 0.00013344742)\n",
      "('susanbee', 0.00013344741)\n",
      "('revolutioninterregnum', 0.00013344736)\n",
      "('păstrez', 0.00013344733)\n",
      "('uscat', 0.00013344732)\n",
      "('harder', 0.00013344732)\n",
      "('computerenvironment', 0.00013344726)\n",
      "('criptici', 0.00013344717)\n",
      "('yonder', 0.00013344717)\n",
      "('fetei', 0.00013344713)\n",
      "('elaborative', 0.00013344709)\n",
      "('transgression', 0.00013344707)\n",
      "('altminteri', 0.00013344697)\n",
      "('intact', 0.00013344697)\n",
      "('bitly2d077l4', 0.00013344688)\n",
      "('poeți', 0.00013344683)\n",
      "('compress', 0.0001334468)\n",
      "('sets', 0.0001334468)\n",
      "('hurt', 0.00013344678)\n",
      "('sights', 0.00013344672)\n",
      "('heart', 0.00013344664)\n",
      "('14daysincaptivity', 0.00013344662)\n",
      "('țină', 0.0001334466)\n",
      "('bury', 0.00013344659)\n",
      "('whenithinkofsuchmagnitudeasifseducedipaniccompulsivelyjustasyearsbeforeilayonthegrassandwasgraspedbyinfinity', 0.00013344655)\n",
      "('punctuaţia', 0.00013344652)\n",
      "('xxxv', 0.00013344645)\n",
      "('slippage', 0.00013344643)\n",
      "('stabili', 0.00013344642)\n",
      "('poétiquecurieuse', 0.00013344639)\n",
      "('progeny', 0.00013344634)\n",
      "('immodest', 0.00013344634)\n",
      "('usinthetitlethusbecomestheus', 0.00013344633)\n",
      "('tinde', 0.00013344627)\n",
      "('inprisonforexposingpoliticianstaxevasionandembezzlement', 0.00013344627)\n",
      "('ceruri', 0.00013344623)\n",
      "('americanization', 0.00013344618)\n",
      "('mistreated', 0.00013344617)\n",
      "('enunciativesystems', 0.00013344613)\n",
      "('focusing', 0.00013344611)\n",
      "('whatwouldisay', 0.0001334461)\n"
     ]
    }
   ],
   "source": [
    "\n",
    "for i in range(6727, 6809):\n",
    "              print(l1[i])"
   ]
  },
  {
   "cell_type": "code",
   "execution_count": 25,
   "metadata": {},
   "outputs": [
    {
     "name": "stdout",
     "output_type": "stream",
     "text": [
      "4757\n"
     ]
    }
   ],
   "source": [
    "\n",
    "for i in range(7473):\n",
    "    if l0[i][0]== \"translatinghecouldreallyfly\":\n",
    "            print(i)"
   ]
  },
  {
   "cell_type": "code",
   "execution_count": 26,
   "metadata": {},
   "outputs": [
    {
     "name": "stdout",
     "output_type": "stream",
     "text": [
      "4752\n"
     ]
    }
   ],
   "source": [
    "for i in range(7473):\n",
    "    if l1[i][0]== \"translatinghecouldreallyfly\":\n",
    "            print(i)"
   ]
  },
  {
   "cell_type": "code",
   "execution_count": 27,
   "metadata": {},
   "outputs": [
    {
     "name": "stdout",
     "output_type": "stream",
     "text": [
      "('descompunere', 8.401679e-05)\n",
      "('sixwhitevaportrailsacrossthebleakterrain', 8.401679e-05)\n",
      "('armele', 8.401678e-05)\n",
      "('articulated', 8.401678e-05)\n",
      "('sibiu', 8.401676e-05)\n",
      "('addresses', 8.401676e-05)\n",
      "('oralwrittenrecorded', 8.401676e-05)\n",
      "('publication', 8.401676e-05)\n",
      "('distillation', 8.401675e-05)\n",
      "('statistically', 8.401675e-05)\n",
      "('fitter', 8.401675e-05)\n",
      "('ostilă', 8.4016734e-05)\n",
      "('katherinebode', 8.4016734e-05)\n",
      "('merenghe', 8.401672e-05)\n",
      "('singularities', 8.401672e-05)\n",
      "('computationalclassifiersasexplorativeexperimentaltools', 8.401671e-05)\n",
      "('theseloinsofmoltenstonedoessheknowheaches', 8.4016705e-05)\n",
      "('suna', 8.4016705e-05)\n",
      "('urbane', 8.40167e-05)\n",
      "('deaia', 8.401668e-05)\n",
      "('exposed', 8.401668e-05)\n",
      "('hardships', 8.4016676e-05)\n",
      "('brancusi', 8.401667e-05)\n",
      "('plain', 8.401667e-05)\n",
      "('crayfishcrayola', 8.4016654e-05)\n",
      "('burying', 8.4016654e-05)\n",
      "('fulness', 8.401665e-05)\n",
      "('canvases', 8.401665e-05)\n",
      "('strokes', 8.401665e-05)\n",
      "('céan', 8.401665e-05)\n",
      "('plants', 8.401664e-05)\n",
      "('subtlenymphs', 8.401663e-05)\n",
      "('craci', 8.401662e-05)\n",
      "('channel', 8.401661e-05)\n",
      "('miracle', 8.40166e-05)\n",
      "('înaintea', 8.40166e-05)\n",
      "('adăpostul', 8.4016596e-05)\n",
      "('curiosity', 8.401659e-05)\n",
      "('îndepărtată', 8.401659e-05)\n",
      "('legăna', 8.401658e-05)\n",
      "('piece', 8.4016574e-05)\n",
      "('romanian—a', 8.4016574e-05)\n",
      "('plumbed', 8.401657e-05)\n",
      "('anomalies', 8.401657e-05)\n",
      "('exercises', 8.401657e-05)\n",
      "('isolated', 8.4016545e-05)\n",
      "('opinions', 8.401654e-05)\n",
      "('dorință', 8.401654e-05)\n",
      "('orchestrează', 8.401653e-05)\n",
      "('agencies', 8.401652e-05)\n",
      "('protestants', 8.401652e-05)\n",
      "('translatinghecouldreallyfly', 8.401652e-05)\n",
      "('upbeat', 8.401652e-05)\n",
      "('allembracing', 8.401652e-05)\n",
      "('bawdy', 8.401651e-05)\n",
      "('3817', 8.4016494e-05)\n",
      "('didnotgaincurrencyonlybecauseofthethrillofthebanned', 8.4016494e-05)\n",
      "('poète', 8.4016494e-05)\n",
      "('grows', 8.401649e-05)\n",
      "('release', 8.401649e-05)\n",
      "('barren', 8.401649e-05)\n",
      "('speakingandspokensubjects', 8.401649e-05)\n",
      "('mire', 8.401649e-05)\n",
      "('porumbel', 8.401649e-05)\n",
      "('rapid', 8.401647e-05)\n",
      "('floor', 8.401647e-05)\n",
      "('rețelelor', 8.401646e-05)\n",
      "('20page', 8.401646e-05)\n",
      "('impresioneze', 8.401646e-05)\n",
      "('curse', 8.401644e-05)\n",
      "('murderer', 8.401644e-05)\n",
      "('afară', 8.401644e-05)\n",
      "('ilovesuchpeople', 8.401643e-05)\n",
      "('provable', 8.401643e-05)\n",
      "('fetter', 8.401643e-05)\n",
      "('examine', 8.401643e-05)\n",
      "('dissident', 8.401643e-05)\n",
      "('colective', 8.401642e-05)\n",
      "('acte', 8.401642e-05)\n",
      "('graphpoem', 8.4016414e-05)\n",
      "('cvartal', 8.4016414e-05)\n",
      "('investigate', 8.4016414e-05)\n",
      "('americanii', 8.40164e-05)\n",
      "('halls', 8.40164e-05)\n",
      "('vacanță', 8.40164e-05)\n",
      "('bejinia', 8.40164e-05)\n",
      "('thenamejudastheiscariotewhichderivesfromthelatinsicariusanassassinamurderer', 8.401639e-05)\n",
      "('ezat', 8.401639e-05)\n",
      "('acknowledgethatotherwithintheconditionsofproduction', 8.401639e-05)\n",
      "('scurtă', 8.401639e-05)\n",
      "('botnik', 8.401639e-05)\n",
      "('banished', 8.401638e-05)\n"
     ]
    }
   ],
   "source": [
    "\n",
    "for i in range(4706, 4798):\n",
    "              print(l0[i])"
   ]
  },
  {
   "cell_type": "code",
   "execution_count": 28,
   "metadata": {},
   "outputs": [
    {
     "name": "stdout",
     "output_type": "stream",
     "text": [
      "('americanii', 0.00013350147)\n",
      "('capitalpresencesinthebackground', 0.00013350147)\n",
      "('reperând', 0.00013350142)\n",
      "('grace', 0.00013350141)\n",
      "('vacanță', 0.0001335014)\n",
      "('scurtă', 0.0001335014)\n",
      "('graphpoem', 0.00013350138)\n",
      "('acknowledgethatotherwithintheconditionsofproduction', 0.00013350138)\n",
      "('halls', 0.00013350138)\n",
      "('bejinia', 0.00013350137)\n",
      "('banished', 0.00013350135)\n",
      "('thenamejudastheiscariotewhichderivesfromthelatinsicariusanassassinamurderer', 0.00013350134)\n",
      "('acte', 0.00013350132)\n",
      "('ilovesuchpeople', 0.0001335013)\n",
      "('examine', 0.00013350126)\n",
      "('murderer', 0.00013350126)\n",
      "('afară', 0.00013350125)\n",
      "('colective', 0.00013350125)\n",
      "('fetter', 0.00013350123)\n",
      "('curse', 0.00013350123)\n",
      "('provable', 0.00013350122)\n",
      "('rețelelor', 0.0001335012)\n",
      "('investigate', 0.00013350115)\n",
      "('dissident', 0.00013350113)\n",
      "('cvartal', 0.00013350112)\n",
      "('grows', 0.00013350109)\n",
      "('mire', 0.00013350107)\n",
      "('20page', 0.00013350107)\n",
      "('rapid', 0.00013350103)\n",
      "('3817', 0.00013350103)\n",
      "('floor', 0.00013350103)\n",
      "('speakingandspokensubjects', 0.00013350103)\n",
      "('release', 0.00013350102)\n",
      "('impresioneze', 0.00013350097)\n",
      "('didnotgaincurrencyonlybecauseofthethrillofthebanned', 0.00013350097)\n",
      "('porumbel', 0.00013350096)\n",
      "('poète', 0.00013350091)\n",
      "('barren', 0.0001335009)\n",
      "('allembracing', 0.00013350087)\n",
      "('agencies', 0.00013350086)\n",
      "('isolated', 0.0001335008)\n",
      "('translatinghecouldreallyfly', 0.0001335008)\n",
      "('dorință', 0.00013350078)\n",
      "('opinions', 0.00013350078)\n",
      "('orchestrează', 0.00013350078)\n",
      "('bawdy', 0.00013350077)\n",
      "('upbeat', 0.00013350071)\n",
      "('protestants', 0.00013350067)\n",
      "('romanian—a', 0.00013350065)\n",
      "('îndepărtată', 0.00013350065)\n",
      "('exercises', 0.00013350064)\n",
      "('înaintea', 0.0001335006)\n",
      "('anomalies', 0.00013350054)\n",
      "('curiosity', 0.00013350054)\n",
      "('piece', 0.00013350052)\n",
      "('legăna', 0.00013350052)\n",
      "('miracle', 0.00013350049)\n",
      "('craci', 0.00013350046)\n",
      "('adăpostul', 0.00013350045)\n",
      "('channel', 0.00013350045)\n",
      "('plumbed', 0.00013350039)\n",
      "('plants', 0.00013350038)\n",
      "('subtlenymphs', 0.00013350038)\n",
      "('strokes', 0.00013350033)\n",
      "('fulness', 0.0001335003)\n",
      "('crayfishcrayola', 0.0001335003)\n",
      "('canvases', 0.00013350022)\n",
      "('burying', 0.00013350019)\n",
      "('plain', 0.00013350019)\n",
      "('céan', 0.00013350016)\n",
      "('deaia', 0.00013350013)\n",
      "('exposed', 0.00013350009)\n",
      "('theseloinsofmoltenstonedoessheknowheaches', 0.00013350007)\n",
      "('hardships', 0.00013350004)\n",
      "('suna', 0.00013350001)\n",
      "('urbane', 0.0001335)\n",
      "('brancusi', 0.00013349998)\n",
      "('computationalclassifiersasexplorativeexperimentaltools', 0.0001334999)\n",
      "('merenghe', 0.0001334999)\n",
      "('singularities', 0.00013349985)\n",
      "('fitter', 0.00013349984)\n",
      "('addresses', 0.0001334998)\n"
     ]
    }
   ],
   "source": [
    "\n",
    "for i in range(4711, 4793):\n",
    "              print(l1[i])"
   ]
  },
  {
   "cell_type": "code",
   "execution_count": 29,
   "metadata": {},
   "outputs": [
    {
     "name": "stdout",
     "output_type": "stream",
     "text": [
      "3468\n"
     ]
    }
   ],
   "source": [
    "\n",
    "for i in range(7473):\n",
    "    if l0[i][0]== \"andlotsoffunbutnotanocean\":\n",
    "            print(i)"
   ]
  },
  {
   "cell_type": "code",
   "execution_count": 30,
   "metadata": {},
   "outputs": [
    {
     "name": "stdout",
     "output_type": "stream",
     "text": [
      "6035\n"
     ]
    }
   ],
   "source": [
    "for i in range(7473):\n",
    "    if l1[i][0]== \"andlotsoffunbutnotanocean\":\n",
    "            print(i)"
   ]
  },
  {
   "cell_type": "code",
   "execution_count": 31,
   "metadata": {},
   "outputs": [
    {
     "name": "stdout",
     "output_type": "stream",
     "text": [
      "('generații', 8.4023195e-05)\n",
      "('limbuța', 8.402319e-05)\n",
      "('weconversewithand', 8.402319e-05)\n",
      "('bottles', 8.402319e-05)\n",
      "('largi', 8.402318e-05)\n",
      "('thousand', 8.4023166e-05)\n",
      "('dangling', 8.402316e-05)\n",
      "('discipline', 8.402316e-05)\n",
      "('how—where—is', 8.402315e-05)\n",
      "('imobiliare', 8.402315e-05)\n",
      "('frustrarea', 8.402315e-05)\n",
      "('neamule', 8.402315e-05)\n",
      "('intra', 8.402314e-05)\n",
      "('orderoftheday', 8.402313e-05)\n",
      "('presidentkennedyisexaggerating', 8.402313e-05)\n",
      "('vede', 8.402313e-05)\n",
      "('dust', 8.402311e-05)\n",
      "('bunicii', 8.402311e-05)\n",
      "('spuse', 8.402311e-05)\n",
      "('bundles', 8.402311e-05)\n",
      "('maligned', 8.40231e-05)\n",
      "('bere', 8.4023086e-05)\n",
      "('presley', 8.402308e-05)\n",
      "('bright', 8.402307e-05)\n",
      "('încăpățânare', 8.402307e-05)\n",
      "('condamnat', 8.402307e-05)\n",
      "('veste', 8.402307e-05)\n",
      "('conștientă', 8.402307e-05)\n",
      "('ships', 8.4023064e-05)\n",
      "('arksbythedamdivertingtheflow', 8.4023064e-05)\n",
      "('apropiat', 8.402306e-05)\n",
      "('sprințare', 8.402306e-05)\n",
      "('prezența', 8.402306e-05)\n",
      "('tools', 8.402306e-05)\n",
      "('lire', 8.402305e-05)\n",
      "('vino', 8.402303e-05)\n",
      "('subversive', 8.402301e-05)\n",
      "('impress', 8.402301e-05)\n",
      "('formespeciallytorhyme', 8.402301e-05)\n",
      "('delight', 8.4023006e-05)\n",
      "('vandalized', 8.4023006e-05)\n",
      "('andlotsoffunbutnotanocean', 8.402299e-05)\n",
      "('delivered', 8.402299e-05)\n",
      "('knows', 8.402299e-05)\n",
      "('divizează', 8.402299e-05)\n",
      "('tapili', 8.402299e-05)\n",
      "('restoration', 8.402299e-05)\n",
      "('şiapoi', 8.4022984e-05)\n",
      "('locul', 8.4022984e-05)\n",
      "('inhabitable', 8.4022984e-05)\n",
      "('grosz', 8.4022984e-05)\n",
      "('nameyourpriceigoteverything', 8.402298e-05)\n",
      "('sorts', 8.402298e-05)\n",
      "('atâta', 8.402298e-05)\n",
      "('lookingdownoneverything', 8.402297e-05)\n",
      "('cryptic', 8.402296e-05)\n",
      "('unul', 8.4022955e-05)\n",
      "('roase', 8.402295e-05)\n",
      "('energie', 8.402295e-05)\n",
      "('egoism', 8.402295e-05)\n",
      "('enclavebotanice', 8.402294e-05)\n",
      "('althoughheavilycontrolledbythesecuritate', 8.402294e-05)\n",
      "('liberatoryrhetoric', 8.402293e-05)\n",
      "('topreservetheirperformativity', 8.4022926e-05)\n",
      "('digitalwork', 8.402291e-05)\n",
      "('itwasfoundthatthisstoryeraseditselfasiwrote', 8.4022904e-05)\n",
      "('clinging', 8.4022904e-05)\n",
      "('addictions', 8.4022904e-05)\n",
      "('source', 8.40229e-05)\n",
      "('it—say', 8.402288e-05)\n",
      "('arises', 8.402288e-05)\n",
      "('analysis', 8.402287e-05)\n",
      "('—had', 8.402287e-05)\n",
      "('sentenced', 8.402287e-05)\n",
      "('produs', 8.402286e-05)\n",
      "('shrug', 8.402285e-05)\n",
      "('thrown', 8.402285e-05)\n",
      "('inimilegrele', 8.402284e-05)\n",
      "('întregimea', 8.402284e-05)\n",
      "('hypersynthesis', 8.402284e-05)\n",
      "('omelette', 8.402283e-05)\n",
      "('gaze', 8.402283e-05)\n"
     ]
    }
   ],
   "source": [
    "\n",
    "for i in range(3427, 3509):\n",
    "              print(l0[i])"
   ]
  },
  {
   "cell_type": "code",
   "execution_count": 33,
   "metadata": {},
   "outputs": [
    {
     "name": "stdout",
     "output_type": "stream",
     "text": [
      "('leavetomorrowfortomorrowoponderonlyupontoday', 0.00013347162)\n",
      "('disposing', 0.00013347159)\n",
      "('obraz', 0.00013347159)\n",
      "('shapes', 0.00013347153)\n",
      "('gaze', 0.00013347145)\n",
      "('inimilegrele', 0.00013347139)\n",
      "('wringing', 0.00013347136)\n",
      "('omelette', 0.00013347133)\n",
      "('shrug', 0.00013347133)\n",
      "('thrown', 0.00013347133)\n",
      "('howthenetworkeffectincreasesthereachoftranslations', 0.00013347132)\n",
      "('hypersynthesis', 0.00013347129)\n",
      "('întregimea', 0.00013347129)\n",
      "('produs', 0.00013347121)\n",
      "('risking', 0.00013347121)\n",
      "('arises', 0.0001334712)\n",
      "('sentenced', 0.00013347119)\n",
      "('addictions', 0.00013347114)\n",
      "('—had', 0.00013347111)\n",
      "('it—say', 0.0001334711)\n",
      "('analysis', 0.0001334711)\n",
      "('liberatoryrhetoric', 0.00013347108)\n",
      "('clinging', 0.00013347107)\n",
      "('source', 0.00013347104)\n",
      "('topreservetheirperformativity', 0.00013347101)\n",
      "('digitalwork', 0.00013347101)\n",
      "('itwasfoundthatthisstoryeraseditselfasiwrote', 0.00013347095)\n",
      "('althoughheavilycontrolledbythesecuritate', 0.00013347091)\n",
      "('cryptic', 0.0001334708)\n",
      "('egoism', 0.00013347079)\n",
      "('unul', 0.00013347078)\n",
      "('enclavebotanice', 0.00013347078)\n",
      "('locul', 0.00013347076)\n",
      "('lookingdownoneverything', 0.00013347075)\n",
      "('grosz', 0.00013347073)\n",
      "('nameyourpriceigoteverything', 0.00013347072)\n",
      "('roase', 0.00013347072)\n",
      "('delivered', 0.0001334707)\n",
      "('sorts', 0.00013347069)\n",
      "('atâta', 0.00013347068)\n",
      "('restoration', 0.00013347066)\n",
      "('andlotsoffunbutnotanocean', 0.00013347066)\n",
      "('tapili', 0.00013347066)\n",
      "('şiapoi', 0.00013347063)\n",
      "('divizează', 0.00013347063)\n",
      "('inhabitable', 0.0001334706)\n",
      "('energie', 0.00013347059)\n",
      "('vandalized', 0.00013347057)\n",
      "('subversive', 0.00013347057)\n",
      "('knows', 0.00013347057)\n",
      "('formespeciallytorhyme', 0.00013347054)\n",
      "('impress', 0.0001334705)\n",
      "('delight', 0.00013347044)\n",
      "('tools', 0.00013347041)\n",
      "('sprințare', 0.0001334704)\n",
      "('vino', 0.00013347038)\n",
      "('arksbythedamdivertingtheflow', 0.00013347038)\n",
      "('apropiat', 0.00013347037)\n",
      "('prezența', 0.00013347037)\n",
      "('ships', 0.00013347031)\n",
      "('veste', 0.00013347027)\n",
      "('condamnat', 0.00013347027)\n",
      "('încăpățânare', 0.00013347024)\n",
      "('lire', 0.00013347022)\n",
      "('conștientă', 0.00013347021)\n",
      "('presley', 0.00013347018)\n",
      "('maligned', 0.00013347014)\n",
      "('bere', 0.00013347014)\n",
      "('bundles', 0.00013347008)\n",
      "('bright', 0.00013347006)\n",
      "('dust', 0.00013347005)\n",
      "('spuse', 0.00013347005)\n",
      "('vede', 0.00013347005)\n",
      "('orderoftheday', 0.00013347002)\n",
      "('intra', 0.00013346998)\n",
      "('presidentkennedyisexaggerating', 0.00013346989)\n",
      "('imobiliare', 0.00013346988)\n",
      "('how—where—is', 0.00013346985)\n",
      "('neamule', 0.00013346982)\n",
      "('frustrarea', 0.0001334698)\n",
      "('thousand', 0.0001334698)\n",
      "('discipline', 0.00013346979)\n"
     ]
    }
   ],
   "source": [
    "\n",
    "for i in range(5994, 6076):\n",
    "              print(l1[i])"
   ]
  },
  {
   "cell_type": "code",
   "execution_count": 21,
   "metadata": {},
   "outputs": [
    {
     "name": "stdout",
     "output_type": "stream",
     "text": [
      "6828\n"
     ]
    }
   ],
   "source": [
    "\n",
    "for i in range(7467):\n",
    "    if l0[i][0]== \"swimoindeepbluewatersandthendrown\":\n",
    "            print(i)"
   ]
  },
  {
   "cell_type": "code",
   "execution_count": 22,
   "metadata": {},
   "outputs": [
    {
     "name": "stdout",
     "output_type": "stream",
     "text": [
      "2660\n"
     ]
    }
   ],
   "source": [
    "\n",
    "for i in range(7467):\n",
    "    if l1[i][0]== \"swimoindeepbluewatersandthendrown\":\n",
    "            print(i)"
   ]
  },
  {
   "cell_type": "code",
   "execution_count": 23,
   "metadata": {},
   "outputs": [
    {
     "name": "stdout",
     "output_type": "stream",
     "text": [
      "('deși', 8.444695e-05)\n",
      "('contented', 8.444695e-05)\n",
      "('dangling', 8.444691e-05)\n",
      "('thrust', 8.444688e-05)\n",
      "('tremur', 8.444685e-05)\n",
      "('leitmotif', 8.444685e-05)\n",
      "('hostile', 8.4446845e-05)\n",
      "('râsete', 8.4446845e-05)\n",
      "('iisuscristosmania', 8.4446845e-05)\n",
      "('away—he', 8.444683e-05)\n",
      "('janet', 8.4446816e-05)\n",
      "('driver', 8.44468e-05)\n",
      "('shamanism', 8.44468e-05)\n",
      "('lied', 8.4446765e-05)\n",
      "('trăgând', 8.4446765e-05)\n",
      "('statele', 8.444675e-05)\n",
      "('ethics', 8.444674e-05)\n",
      "('connotations', 8.444674e-05)\n",
      "('neve', 8.4446656e-05)\n",
      "('intimation', 8.444663e-05)\n",
      "('simți', 8.444662e-05)\n",
      "('muggers—', 8.444658e-05)\n",
      "('translatinghecouldreallyfly', 8.444658e-05)\n",
      "('enunciations', 8.444658e-05)\n",
      "('grandmère', 8.444656e-05)\n",
      "('totdeauna', 8.444656e-05)\n",
      "('adaptshistranslationaccordingly', 8.4446496e-05)\n",
      "('triple', 8.444649e-05)\n",
      "('avântă', 8.444645e-05)\n",
      "('victime', 8.444641e-05)\n",
      "('rockpanorama', 8.444639e-05)\n",
      "('biata', 8.444639e-05)\n",
      "('calypso', 8.444636e-05)\n",
      "('emanated', 8.444625e-05)\n",
      "('seexecutaucu', 8.4446234e-05)\n",
      "('mymissionistopresentromanianyouthwithsuchundergroundculture', 8.444622e-05)\n",
      "('duriantrees', 8.44462e-05)\n",
      "('personality', 8.444618e-05)\n",
      "('angkorwat', 8.4446125e-05)\n",
      "('nkatherinehayles', 8.4446125e-05)\n",
      "('generații', 8.444612e-05)\n",
      "('swimoindeepbluewatersandthendrown', 8.444609e-05)\n",
      "('deceit', 8.444602e-05)\n",
      "('conversewith', 8.444601e-05)\n",
      "('semn', 8.4445994e-05)\n",
      "('middletown', 8.444598e-05)\n",
      "('banish', 8.444598e-05)\n",
      "('unfruitful', 8.4445965e-05)\n",
      "('conștientă', 8.4445965e-05)\n",
      "('intersectează', 8.444595e-05)\n",
      "('blushing', 8.444595e-05)\n",
      "('makeitgowitha', 8.444595e-05)\n",
      "('vision', 8.444595e-05)\n",
      "('cimbru', 8.444594e-05)\n",
      "('coasta', 8.4445855e-05)\n",
      "('crede', 8.4445805e-05)\n",
      "('direcții', 8.444579e-05)\n",
      "('lipsa', 8.444573e-05)\n",
      "('whileyourfriends', 8.444571e-05)\n",
      "('1971', 8.444568e-05)\n",
      "('showeroffthedust', 8.444566e-05)\n",
      "('algoritmul', 8.4445644e-05)\n",
      "('așteaptă', 8.444562e-05)\n",
      "('attentionto', 8.44456e-05)\n",
      "('towritelikeanalgorithm', 8.4445586e-05)\n",
      "('firstpublication', 8.444558e-05)\n",
      "('interjects', 8.444557e-05)\n",
      "('multinațional', 8.4445564e-05)\n",
      "('meal', 8.444555e-05)\n",
      "('zicem', 8.444552e-05)\n",
      "('regicide', 8.444552e-05)\n",
      "('merge', 8.444552e-05)\n",
      "('transgression', 8.4445506e-05)\n",
      "('searches—coincided', 8.4445506e-05)\n",
      "('actine', 8.4445506e-05)\n",
      "('219', 8.4445484e-05)\n",
      "('xxxii', 8.444544e-05)\n",
      "('blood—', 8.4445346e-05)\n",
      "('waltwhitman', 8.444533e-05)\n",
      "('autoarea', 8.444532e-05)\n",
      "('coursing', 8.4445295e-05)\n",
      "('internetului', 8.444524e-05)\n"
     ]
    }
   ],
   "source": [
    "\n",
    "for i in range(6787, 6869):\n",
    "              print(l0[i])"
   ]
  },
  {
   "cell_type": "code",
   "execution_count": 24,
   "metadata": {},
   "outputs": [
    {
     "name": "stdout",
     "output_type": "stream",
     "text": [
      "('jewishgravesootheworkofmuslimarabpalestinianohands', 0.00013327366)\n",
      "('internetului', 0.00013327335)\n",
      "('coursing', 0.00013327318)\n",
      "('autoarea', 0.00013327303)\n",
      "('blood—', 0.00013327299)\n",
      "('waltwhitman', 0.00013327296)\n",
      "('xxxii', 0.00013327251)\n",
      "('219', 0.00013327226)\n",
      "('transgression', 0.00013327211)\n",
      "('zicem', 0.00013327211)\n",
      "('regicide', 0.00013327201)\n",
      "('merge', 0.00013327201)\n",
      "('meal', 0.00013327201)\n",
      "('searches—coincided', 0.00013327201)\n",
      "('actine', 0.00013327195)\n",
      "('multinațional', 0.00013327193)\n",
      "('interjects', 0.00013327181)\n",
      "('firstpublication', 0.00013327181)\n",
      "('towritelikeanalgorithm', 0.00013327162)\n",
      "('așteaptă', 0.00013327158)\n",
      "('algoritmul', 0.00013327156)\n",
      "('attentionto', 0.00013327142)\n",
      "('showeroffthedust', 0.00013327137)\n",
      "('1971', 0.00013327136)\n",
      "('whileyourfriends', 0.00013327114)\n",
      "('lipsa', 0.00013327107)\n",
      "('crede', 0.00013327086)\n",
      "('direcții', 0.00013327066)\n",
      "('coasta', 0.00013327053)\n",
      "('vision', 0.00013327015)\n",
      "('cimbru', 0.00013327012)\n",
      "('blushing', 0.00013327008)\n",
      "('makeitgowitha', 0.00013327005)\n",
      "('intersectează', 0.00013327002)\n",
      "('banish', 0.00013327)\n",
      "('middletown', 0.00013326996)\n",
      "('conștientă', 0.00013326996)\n",
      "('semn', 0.00013326993)\n",
      "('unfruitful', 0.00013326989)\n",
      "('conversewith', 0.00013326987)\n",
      "('deceit', 0.00013326952)\n",
      "('swimoindeepbluewatersandthendrown', 0.00013326951)\n",
      "('nkatherinehayles', 0.00013326925)\n",
      "('generații', 0.0001332692)\n",
      "('angkorwat', 0.00013326913)\n",
      "('personality', 0.00013326909)\n",
      "('duriantrees', 0.00013326906)\n",
      "('mymissionistopresentromanianyouthwithsuchundergroundculture', 0.0001332689)\n",
      "('emanated', 0.00013326874)\n",
      "('seexecutaucu', 0.00013326868)\n",
      "('calypso', 0.00013326826)\n",
      "('rockpanorama', 0.00013326817)\n",
      "('biata', 0.00013326817)\n",
      "('victime', 0.00013326798)\n",
      "('avântă', 0.00013326778)\n",
      "('triple', 0.0001332676)\n",
      "('adaptshistranslationaccordingly', 0.00013326747)\n",
      "('grandmère', 0.00013326737)\n",
      "('totdeauna', 0.00013326721)\n",
      "('muggers—', 0.0001332672)\n",
      "('translatinghecouldreallyfly', 0.00013326715)\n",
      "('enunciations', 0.000133267)\n",
      "('simți', 0.00013326698)\n",
      "('intimation', 0.00013326698)\n",
      "('neve', 0.00013326686)\n",
      "('ethics', 0.00013326647)\n",
      "('lied', 0.00013326641)\n",
      "('connotations', 0.0001332664)\n",
      "('statele', 0.00013326637)\n",
      "('trăgând', 0.00013326637)\n",
      "('janet', 0.00013326627)\n",
      "('driver', 0.00013326624)\n",
      "('shamanism', 0.00013326624)\n",
      "('hostile', 0.00013326602)\n",
      "('away—he', 0.00013326602)\n",
      "('tremur', 0.00013326597)\n",
      "('iisuscristosmania', 0.00013326596)\n",
      "('râsete', 0.0001332659)\n",
      "('leitmotif', 0.00013326583)\n",
      "('thrust', 0.00013326578)\n",
      "('dangling', 0.00013326561)\n",
      "('deși', 0.0001332656)\n"
     ]
    }
   ],
   "source": [
    "\n",
    "for i in range(2619, 2701):\n",
    "              print(l1[i])"
   ]
  },
  {
   "cell_type": "code",
   "execution_count": 25,
   "metadata": {},
   "outputs": [
    {
     "name": "stdout",
     "output_type": "stream",
     "text": [
      "6334\n"
     ]
    }
   ],
   "source": [
    "\n",
    "for i in range(7467):\n",
    "    if l0[i][0]== \"seeappendicestofindoselectedquotesthathavebeenchosen\":\n",
    "            print(i)"
   ]
  },
  {
   "cell_type": "code",
   "execution_count": 26,
   "metadata": {},
   "outputs": [
    {
     "name": "stdout",
     "output_type": "stream",
     "text": [
      "3155\n"
     ]
    }
   ],
   "source": [
    "\n",
    "for i in range(7467):\n",
    "    if l1[i][0]== \"seeappendicestofindoselectedquotesthathavebeenchosen\":\n",
    "            print(i)"
   ]
  },
  {
   "cell_type": "code",
   "execution_count": 27,
   "metadata": {},
   "outputs": [
    {
     "name": "stdout",
     "output_type": "stream",
     "text": [
      "('amplu', 8.445506e-05)\n",
      "('thesis', 8.445504e-05)\n",
      "('stifling', 8.445504e-05)\n",
      "('tismaneanu', 8.445501e-05)\n",
      "('miseryplayedoutinthecollectivetone', 8.4454994e-05)\n",
      "('soulsister', 8.445498e-05)\n",
      "('mergea', 8.4454965e-05)\n",
      "('invention', 8.4454965e-05)\n",
      "('scared', 8.445496e-05)\n",
      "('demoralizat', 8.445494e-05)\n",
      "('collective', 8.445493e-05)\n",
      "('cupru', 8.445493e-05)\n",
      "('polly', 8.4454914e-05)\n",
      "('financial', 8.4454914e-05)\n",
      "('roundabout', 8.44549e-05)\n",
      "('fans', 8.445486e-05)\n",
      "('provocation', 8.445485e-05)\n",
      "('secrets', 8.445485e-05)\n",
      "('sixwhitevaportrailsacrossthebleakterrain', 8.4454834e-05)\n",
      "('clotlikecrystals', 8.4454805e-05)\n",
      "('folklore', 8.4454805e-05)\n",
      "('ideals', 8.4454805e-05)\n",
      "('mișcăriletexturatealereînnoiriiambigue', 8.4454805e-05)\n",
      "('aieșitprinperețișișiaspusprofeția', 8.445479e-05)\n",
      "('draw', 8.445479e-05)\n",
      "('sections', 8.4454776e-05)\n",
      "('pierdută', 8.445477e-05)\n",
      "('talkshows', 8.4454754e-05)\n",
      "('subsequently', 8.4454696e-05)\n",
      "('functions', 8.445469e-05)\n",
      "('parodic', 8.445469e-05)\n",
      "('efface', 8.445468e-05)\n",
      "('liberties', 8.4454674e-05)\n",
      "('chosen', 8.445465e-05)\n",
      "('lăsate', 8.4454645e-05)\n",
      "('slams', 8.4454645e-05)\n",
      "('sixties', 8.445463e-05)\n",
      "('rising', 8.445463e-05)\n",
      "('generozităţii', 8.445462e-05)\n",
      "('camera', 8.445461e-05)\n",
      "('fortune', 8.44546e-05)\n",
      "('seeappendicestofindoselectedquotesthathavebeenchosen', 8.4454594e-05)\n",
      "('wakefulness', 8.4454594e-05)\n",
      "('vacant', 8.445459e-05)\n",
      "('wesleyan', 8.445459e-05)\n",
      "('spulberenpulberi', 8.445458e-05)\n",
      "('explicat', 8.4454536e-05)\n",
      "('creaturile', 8.445453e-05)\n",
      "('acknowledge', 8.445451e-05)\n",
      "('understand', 8.445451e-05)\n",
      "('travaillait', 8.44545e-05)\n",
      "('întunecate', 8.445448e-05)\n",
      "('speakingalgorithm', 8.445447e-05)\n",
      "('thankyousomuchforaragingandbeautifulweek', 8.445446e-05)\n",
      "('donc', 8.4454456e-05)\n",
      "('wordsfallawayowith', 8.4454456e-05)\n",
      "('promotedjazzandrockmusicduringthecommunistregimesometimesattheexpenseoftheirownlives', 8.445443e-05)\n",
      "('vreodat', 8.445441e-05)\n",
      "('conducătorilor', 8.445441e-05)\n",
      "('tamburlaine', 8.4454405e-05)\n",
      "('fraction', 8.445439e-05)\n",
      "('dimensions', 8.445439e-05)\n",
      "('ziarul', 8.445437e-05)\n",
      "('divizează', 8.445436e-05)\n",
      "('escapist', 8.445434e-05)\n",
      "('uturau', 8.445433e-05)\n",
      "('bunicii', 8.4454325e-05)\n",
      "('venele', 8.445431e-05)\n",
      "('towriteasanalgorithm', 8.445428e-05)\n",
      "('îngheț', 8.445424e-05)\n",
      "('throat', 8.445424e-05)\n",
      "('précis', 8.445423e-05)\n",
      "('thong', 8.445419e-05)\n",
      "('support—', 8.445419e-05)\n",
      "('generalizableprinciples', 8.445412e-05)\n",
      "('hooting', 8.445411e-05)\n",
      "('merchants', 8.445411e-05)\n",
      "('victorieni', 8.445411e-05)\n",
      "('maș', 8.445409e-05)\n",
      "('habit', 8.4454085e-05)\n",
      "('destroying', 8.4454085e-05)\n",
      "('blame', 8.4454055e-05)\n"
     ]
    }
   ],
   "source": [
    "\n",
    "for i in range(6293, 6375):\n",
    "              print(l0[i])"
   ]
  },
  {
   "cell_type": "code",
   "execution_count": 28,
   "metadata": {},
   "outputs": [
    {
     "name": "stdout",
     "output_type": "stream",
     "text": [
      "('primeminister', 0.00013323367)\n",
      "('union', 0.00013323364)\n",
      "('acute', 0.00013323348)\n",
      "('grotești', 0.00013323345)\n",
      "('affectlesscomposure', 0.00013323342)\n",
      "('roofs', 0.00013323335)\n",
      "('adică', 0.00013323314)\n",
      "('doare', 0.00013323304)\n",
      "('linguisticform', 0.00013323296)\n",
      "('radiopresenters', 0.00013323282)\n",
      "('habit', 0.0001332326)\n",
      "('blame', 0.0001332326)\n",
      "('maș', 0.00013323256)\n",
      "('merchants', 0.00013323252)\n",
      "('hooting', 0.00013323239)\n",
      "('destroying', 0.00013323239)\n",
      "('generalizableprinciples', 0.00013323232)\n",
      "('victorieni', 0.00013323223)\n",
      "('support—', 0.00013323207)\n",
      "('thong', 0.00013323202)\n",
      "('précis', 0.00013323192)\n",
      "('îngheț', 0.00013323185)\n",
      "('throat', 0.00013323169)\n",
      "('towriteasanalgorithm', 0.00013323157)\n",
      "('venele', 0.00013323156)\n",
      "('bunicii', 0.00013323147)\n",
      "('escapist', 0.00013323137)\n",
      "('uturau', 0.00013323137)\n",
      "('divizează', 0.00013323131)\n",
      "('ziarul', 0.00013323127)\n",
      "('fraction', 0.00013323117)\n",
      "('tamburlaine', 0.00013323114)\n",
      "('dimensions', 0.00013323111)\n",
      "('conducătorilor', 0.00013323108)\n",
      "('promotedjazzandrockmusicduringthecommunistregimesometimesattheexpenseoftheirownlives', 0.00013323089)\n",
      "('vreodat', 0.00013323086)\n",
      "('speakingalgorithm', 0.00013323076)\n",
      "('wordsfallawayowith', 0.00013323076)\n",
      "('thankyousomuchforaragingandbeautifulweek', 0.00013323074)\n",
      "('donc', 0.0001332307)\n",
      "('întunecate', 0.0001332307)\n",
      "('acknowledge', 0.00013323067)\n",
      "('understand', 0.00013323048)\n",
      "('travaillait', 0.00013323044)\n",
      "('explicat', 0.0001332304)\n",
      "('vacant', 0.00013323035)\n",
      "('wesleyan', 0.00013323035)\n",
      "('creaturile', 0.00013323032)\n",
      "('spulberenpulberi', 0.00013323026)\n",
      "('fortune', 0.00013323019)\n",
      "('camera', 0.00013323016)\n",
      "('seeappendicestofindoselectedquotesthathavebeenchosen', 0.00013323013)\n",
      "('generozităţii', 0.00013323005)\n",
      "('rising', 0.00013323)\n",
      "('chosen', 0.00013322999)\n",
      "('slams', 0.00013322997)\n",
      "('wakefulness', 0.00013322997)\n",
      "('lăsate', 0.00013322994)\n",
      "('sixties', 0.00013322993)\n",
      "('liberties', 0.00013322977)\n",
      "('parodic', 0.00013322974)\n",
      "('functions', 0.0001332297)\n",
      "('efface', 0.00013322961)\n",
      "('subsequently', 0.0001332296)\n",
      "('talkshows', 0.00013322938)\n",
      "('pierdută', 0.0001332293)\n",
      "('mișcăriletexturatealereînnoiriiambigue', 0.00013322929)\n",
      "('ideals', 0.00013322929)\n",
      "('aieșitprinperețișișiaspusprofeția', 0.00013322927)\n",
      "('folklore', 0.00013322924)\n",
      "('sections', 0.00013322917)\n",
      "('clotlikecrystals', 0.00013322917)\n",
      "('draw', 0.00013322913)\n",
      "('sixwhitevaportrailsacrossthebleakterrain', 0.0001332291)\n",
      "('provocation', 0.00013322904)\n",
      "('secrets', 0.00013322903)\n",
      "('fans', 0.000133229)\n",
      "('collective', 0.00013322875)\n",
      "('cupru', 0.0001332287)\n",
      "('financial', 0.00013322869)\n",
      "('scared', 0.00013322863)\n",
      "('roundabout', 0.00013322859)\n",
      "('invention', 0.00013322856)\n",
      "('polly', 0.00013322853)\n",
      "('demoralizat', 0.00013322852)\n",
      "('soulsister', 0.00013322846)\n",
      "('mergea', 0.00013322833)\n",
      "('miseryplayedoutinthecollectivetone', 0.00013322833)\n",
      "('tismaneanu', 0.0001332281)\n",
      "('thesis', 0.00013322808)\n",
      "('iunie', 0.00013322795)\n",
      "('amplu', 0.00013322795)\n"
     ]
    }
   ],
   "source": [
    "for i in range(3104, 3196):\n",
    "              print(l1[i])"
   ]
  },
  {
   "cell_type": "code",
   "execution_count": 29,
   "metadata": {},
   "outputs": [
    {
     "name": "stdout",
     "output_type": "stream",
     "text": [
      "6141\n"
     ]
    }
   ],
   "source": [
    "for i in range(7467):\n",
    "    if l0[i][0]== \"sunburstisthethemeinformedbyancientitaly\":\n",
    "            print(i)"
   ]
  },
  {
   "cell_type": "code",
   "execution_count": 30,
   "metadata": {},
   "outputs": [
    {
     "name": "stdout",
     "output_type": "stream",
     "text": [
      "3346\n"
     ]
    }
   ],
   "source": [
    "\n",
    "for i in range(7467):\n",
    "    if l1[i][0]== \"sunburstisthethemeinformedbyancientitaly\":\n",
    "            print(i)"
   ]
  },
  {
   "cell_type": "code",
   "execution_count": 31,
   "metadata": {},
   "outputs": [
    {
     "name": "stdout",
     "output_type": "stream",
     "text": [
      "('giving', 8.445746e-05)\n",
      "('rejoicing', 8.4457446e-05)\n",
      "('referă', 8.445743e-05)\n",
      "('treetops', 8.445742e-05)\n",
      "('distilled', 8.445742e-05)\n",
      "('walking', 8.445741e-05)\n",
      "('dontthinktwiceitsallright', 8.445738e-05)\n",
      "('wetrainedourownpoetrycorpusinformedwordembeddingsthatprovedsignificantlybetterthantheubiquitous', 8.445738e-05)\n",
      "('șiau', 8.445738e-05)\n",
      "('espagnol', 8.4457366e-05)\n",
      "('refuzau', 8.445733e-05)\n",
      "('vertical', 8.445732e-05)\n",
      "('acest', 8.445727e-05)\n",
      "('picăturăn', 8.445727e-05)\n",
      "('evada', 8.445724e-05)\n",
      "('2003', 8.4457235e-05)\n",
      "('commotion', 8.4457235e-05)\n",
      "('cambogienilor', 8.4457235e-05)\n",
      "('colectiv', 8.445723e-05)\n",
      "('redeems', 8.445719e-05)\n",
      "('pierzaniei', 8.445714e-05)\n",
      "('șăfuare', 8.445714e-05)\n",
      "('audă', 8.4457126e-05)\n",
      "('goal', 8.445711e-05)\n",
      "('roughstuff', 8.445711e-05)\n",
      "('limits', 8.445707e-05)\n",
      "('cryptic', 8.445707e-05)\n",
      "('gasway', 8.445705e-05)\n",
      "('idreamedof747soovergeometricfarms', 8.445704e-05)\n",
      "('skill', 8.445703e-05)\n",
      "('dress', 8.445702e-05)\n",
      "('cords', 8.445702e-05)\n",
      "('source', 8.4457e-05)\n",
      "('centuries', 8.445699e-05)\n",
      "('largi', 8.445698e-05)\n",
      "('fallenorganisms', 8.445697e-05)\n",
      "('stateowned', 8.445695e-05)\n",
      "('hint', 8.445694e-05)\n",
      "('fiction', 8.4456915e-05)\n",
      "('tipsydrunk', 8.4456886e-05)\n",
      "('attempted—', 8.445688e-05)\n",
      "('sunburstisthethemeinformedbyancientitaly', 8.445687e-05)\n",
      "('translationshowshisdeepengagementwiththemessageoftheopera', 8.445685e-05)\n",
      "('conviction', 8.445684e-05)\n",
      "('dhers', 8.445684e-05)\n",
      "('tâmplă', 8.445683e-05)\n",
      "('caș', 8.44568e-05)\n",
      "('hammer', 8.445678e-05)\n",
      "('anichemodeofengagementwiththeaudiences', 8.445677e-05)\n",
      "('outdated', 8.445675e-05)\n",
      "('quoted', 8.445673e-05)\n",
      "('acţiuni', 8.4456726e-05)\n",
      "('organismele', 8.445669e-05)\n",
      "('lastditch', 8.445669e-05)\n",
      "('opri', 8.445668e-05)\n",
      "('analogenvironments', 8.4456675e-05)\n",
      "('albums', 8.4456675e-05)\n",
      "('victory', 8.4456675e-05)\n",
      "('keith', 8.445667e-05)\n",
      "('vroia', 8.445667e-05)\n",
      "('beatlemania', 8.445665e-05)\n",
      "('scream', 8.4456624e-05)\n",
      "('originated', 8.4456624e-05)\n",
      "('ceși', 8.445661e-05)\n",
      "('rubberlife', 8.4456595e-05)\n",
      "('hitting', 8.4456595e-05)\n",
      "('inhabitable', 8.445658e-05)\n",
      "('unmentionabledimension', 8.445658e-05)\n",
      "('catholic', 8.4456566e-05)\n",
      "('ionscu', 8.4456566e-05)\n",
      "('modelled', 8.4456544e-05)\n",
      "('european', 8.4456515e-05)\n",
      "('checked', 8.445649e-05)\n",
      "('earlier', 8.445648e-05)\n",
      "('expertise', 8.445648e-05)\n",
      "('vândutepepostdeorganismecăzute', 8.4456464e-05)\n",
      "('printed', 8.445645e-05)\n",
      "('vrej', 8.445643e-05)\n",
      "('gods', 8.445643e-05)\n",
      "('crescuse', 8.445641e-05)\n",
      "('ivesti', 8.445641e-05)\n",
      "('switchbacks', 8.4456406e-05)\n"
     ]
    }
   ],
   "source": [
    "\n",
    "for i in range(6100, 6182):\n",
    "              print(l0[i])"
   ]
  },
  {
   "cell_type": "code",
   "execution_count": 33,
   "metadata": {},
   "outputs": [
    {
     "name": "stdout",
     "output_type": "stream",
     "text": [
      "3672\n"
     ]
    }
   ],
   "source": [
    "for i in range(7467):\n",
    "    if l0[i][0]== \"inreadingallthisrhymingwritingostarttoseeanotherdawning\":\n",
    "            print(i)"
   ]
  },
  {
   "cell_type": "code",
   "execution_count": 34,
   "metadata": {},
   "outputs": [
    {
     "name": "stdout",
     "output_type": "stream",
     "text": [
      "5818\n"
     ]
    }
   ],
   "source": [
    "\n",
    "for i in range(7467):\n",
    "    if l1[i][0]== \"inreadingallthisrhymingwritingostarttoseeanotherdawning\":\n",
    "            print(i)"
   ]
  },
  {
   "cell_type": "code",
   "execution_count": 35,
   "metadata": {},
   "outputs": [
    {
     "name": "stdout",
     "output_type": "stream",
     "text": [
      "('designs', 8.448381e-05)\n",
      "('apropiat', 8.448381e-05)\n",
      "('stickinga', 8.448381e-05)\n",
      "('pheromonetrails', 8.448379e-05)\n",
      "('trembled', 8.448379e-05)\n",
      "('unele', 8.448376e-05)\n",
      "('agenţie', 8.448374e-05)\n",
      "('acoperi', 8.4483734e-05)\n",
      "('precedents', 8.4483734e-05)\n",
      "('wearing', 8.4483734e-05)\n",
      "('licked', 8.4483705e-05)\n",
      "('muncamultoriubirișicupieleacelorpierduți', 8.448366e-05)\n",
      "('jurnal', 8.448366e-05)\n",
      "('gained', 8.4483654e-05)\n",
      "('repetitions', 8.448365e-05)\n",
      "('travail', 8.448364e-05)\n",
      "('heads', 8.448364e-05)\n",
      "('arabi', 8.4483625e-05)\n",
      "('snap', 8.448362e-05)\n",
      "('higher', 8.448361e-05)\n",
      "('thesituationofreading', 8.44836e-05)\n",
      "('basketed', 8.4483574e-05)\n",
      "('sharp', 8.448356e-05)\n",
      "('polițistă', 8.448356e-05)\n",
      "('uncovered', 8.448354e-05)\n",
      "('therearedifferenttwosbutanirritatingminimumwage', 8.448354e-05)\n",
      "('iau', 8.448354e-05)\n",
      "('ițiri', 8.448354e-05)\n",
      "('demonstrate', 8.448352e-05)\n",
      "('sosoase', 8.448351e-05)\n",
      "('subtil', 8.4483494e-05)\n",
      "('myinitialcontinuingcontrdiction', 8.448349e-05)\n",
      "('javra', 8.448348e-05)\n",
      "('brilliantversionsemergedfromhisheartfeltdedicationplayfulingenuityandresourcefulcreativity', 8.448347e-05)\n",
      "('send', 8.4483436e-05)\n",
      "('bobbing', 8.448343e-05)\n",
      "('jokes', 8.448342e-05)\n",
      "('youusedtohockyourhambone', 8.44834e-05)\n",
      "('laugh', 8.448339e-05)\n",
      "('usual', 8.448338e-05)\n",
      "('dispărea', 8.448338e-05)\n",
      "('inreadingallthisrhymingwritingostarttoseeanotherdawning', 8.448338e-05)\n",
      "('extended', 8.448336e-05)\n",
      "('lying', 8.4483356e-05)\n",
      "('respect', 8.448334e-05)\n",
      "('sold', 8.4483334e-05)\n",
      "('cântă', 8.448333e-05)\n",
      "('periferie', 8.448333e-05)\n",
      "('lacked', 8.448331e-05)\n",
      "('wizz', 8.44833e-05)\n",
      "('rightful', 8.448329e-05)\n",
      "('cinetice', 8.448329e-05)\n",
      "('halves', 8.448328e-05)\n",
      "('intrigued', 8.448328e-05)\n",
      "('greekepigrams', 8.448326e-05)\n",
      "('prefix', 8.4483254e-05)\n",
      "('înceapă', 8.448324e-05)\n",
      "('fpcut', 8.4483225e-05)\n",
      "('avoluntaryappropriationofallthingsamerican', 8.4483196e-05)\n",
      "('prăbuşesc', 8.448315e-05)\n",
      "('workcapacitymusicalknowledgeaninfallibletasteaspiritualopennesstowardsanyviableexperimentknowledgeofsubtletiesinliteraryenglish', 8.448315e-05)\n",
      "('prindezbinarecombinațiilestăpânescpământul', 8.4483145e-05)\n",
      "('echoes', 8.448313e-05)\n",
      "('emerges', 8.448313e-05)\n",
      "('nights', 8.448311e-05)\n",
      "('pernelemoi', 8.4483094e-05)\n",
      "('algorithmicsubjectivity', 8.4483094e-05)\n",
      "('textului', 8.4483094e-05)\n",
      "('criticalstance', 8.4483094e-05)\n",
      "('thorough', 8.448309e-05)\n",
      "('fatal', 8.448308e-05)\n",
      "('dying', 8.448307e-05)\n",
      "('cișmele', 8.448305e-05)\n",
      "('guided', 8.448305e-05)\n",
      "('primacyoftheagentnetworkandthemedia', 8.448303e-05)\n",
      "('hendrix', 8.448302e-05)\n",
      "('rescued', 8.4483014e-05)\n",
      "('illicit', 8.448301e-05)\n",
      "('haunt', 8.448299e-05)\n",
      "('nameyourpriceigoteverything', 8.448299e-05)\n",
      "('wouldreadlucianblagaonlybecausehewasbanned', 8.4482956e-05)\n",
      "('runways', 8.4482956e-05)\n"
     ]
    }
   ],
   "source": [
    "\n",
    "for i in range(3631, 3713):\n",
    "              print(l0[i])"
   ]
  },
  {
   "cell_type": "code",
   "execution_count": 36,
   "metadata": {},
   "outputs": [
    {
     "name": "stdout",
     "output_type": "stream",
     "text": [
      "('nameyourpriceigoteverything', 0.0001330992)\n",
      "('runways', 0.0001330992)\n",
      "('haunt', 0.00013309918)\n",
      "('illicit', 0.00013309915)\n",
      "('primacyoftheagentnetworkandthemedia', 0.00013309899)\n",
      "('rescued', 0.00013309899)\n",
      "('hendrix', 0.00013309893)\n",
      "('cișmele', 0.00013309892)\n",
      "('dying', 0.00013309879)\n",
      "('pernelemoi', 0.00013309877)\n",
      "('guided', 0.00013309874)\n",
      "('fatal', 0.00013309873)\n",
      "('thorough', 0.00013309873)\n",
      "('nights', 0.00013309867)\n",
      "('criticalstance', 0.00013309863)\n",
      "('textului', 0.00013309861)\n",
      "('algorithmicsubjectivity', 0.00013309861)\n",
      "('prindezbinarecombinațiilestăpânescpământul', 0.00013309845)\n",
      "('prăbuşesc', 0.00013309844)\n",
      "('workcapacitymusicalknowledgeaninfallibletasteaspiritualopennesstowardsanyviableexperimentknowledgeofsubtletiesinliteraryenglish', 0.00013309842)\n",
      "('emerges', 0.00013309842)\n",
      "('echoes', 0.0001330984)\n",
      "('avoluntaryappropriationofallthingsamerican', 0.00013309818)\n",
      "('fpcut', 0.00013309804)\n",
      "('înceapă', 0.00013309803)\n",
      "('prefix', 0.00013309799)\n",
      "('greekepigrams', 0.00013309799)\n",
      "('cinetice', 0.00013309784)\n",
      "('intrigued', 0.00013309781)\n",
      "('rightful', 0.00013309777)\n",
      "('halves', 0.00013309771)\n",
      "('wizz', 0.0001330977)\n",
      "('lacked', 0.00013309756)\n",
      "('sold', 0.00013309756)\n",
      "('periferie', 0.00013309756)\n",
      "('respect', 0.0001330975)\n",
      "('lying', 0.00013309748)\n",
      "('extended', 0.00013309746)\n",
      "('cântă', 0.00013309742)\n",
      "('dispărea', 0.0001330974)\n",
      "('usual', 0.00013309738)\n",
      "('inreadingallthisrhymingwritingostarttoseeanotherdawning', 0.00013309733)\n",
      "('youusedtohockyourhambone', 0.0001330973)\n",
      "('laugh', 0.00013309723)\n",
      "('send', 0.00013309719)\n",
      "('jokes', 0.00013309713)\n",
      "('bobbing', 0.000133097)\n",
      "('myinitialcontinuingcontrdiction', 0.00013309685)\n",
      "('brilliantversionsemergedfromhisheartfeltdedicationplayfulingenuityandresourcefulcreativity', 0.00013309684)\n",
      "('demonstrate', 0.00013309678)\n",
      "('subtil', 0.00013309678)\n",
      "('therearedifferenttwosbutanirritatingminimumwage', 0.00013309676)\n",
      "('sosoase', 0.00013309676)\n",
      "('javra', 0.0001330967)\n",
      "('iau', 0.00013309665)\n",
      "('ițiri', 0.00013309662)\n",
      "('uncovered', 0.00013309653)\n",
      "('basketed', 0.00013309652)\n",
      "('polițistă', 0.00013309652)\n",
      "('higher', 0.00013309643)\n",
      "('sharp', 0.00013309636)\n",
      "('thesituationofreading', 0.00013309631)\n",
      "('heads', 0.0001330963)\n",
      "('travail', 0.00013309626)\n",
      "('arabi', 0.00013309626)\n",
      "('snap', 0.00013309624)\n",
      "('repetitions', 0.00013309621)\n",
      "('muncamultoriubirișicupieleacelorpierduți', 0.00013309611)\n",
      "('gained', 0.00013309601)\n",
      "('jurnal', 0.0001330959)\n",
      "('licked', 0.00013309589)\n",
      "('acoperi', 0.00013309582)\n",
      "('agenţie', 0.0001330958)\n",
      "('precedents', 0.00013309577)\n",
      "('wearing', 0.00013309564)\n",
      "('unele', 0.00013309554)\n",
      "('stickinga', 0.00013309545)\n",
      "('pheromonetrails', 0.00013309544)\n",
      "('trembled', 0.0001330954)\n",
      "('designs', 0.00013309538)\n",
      "('apropiat', 0.00013309534)\n",
      "('dawning', 0.00013309518)\n"
     ]
    }
   ],
   "source": [
    "\n",
    "for i in range(5777, 5859):\n",
    "              print(l1[i])"
   ]
  },
  {
   "cell_type": "code",
   "execution_count": 37,
   "metadata": {},
   "outputs": [
    {
     "name": "stdout",
     "output_type": "stream",
     "text": [
      "2164\n"
     ]
    }
   ],
   "source": [
    "\n",
    "for i in range(7467):\n",
    "    if l0[i][0]== \"seemslikeaneternityothreecupsofteaonecigarette\":\n",
    "            print(i)"
   ]
  },
  {
   "cell_type": "code",
   "execution_count": 38,
   "metadata": {},
   "outputs": [
    {
     "name": "stdout",
     "output_type": "stream",
     "text": [
      "7324\n"
     ]
    }
   ],
   "source": [
    "for i in range(7467):\n",
    "    if l1[i][0]== \"seemslikeaneternityothreecupsofteaonecigarette\":\n",
    "            print(i)"
   ]
  },
  {
   "cell_type": "code",
   "execution_count": 39,
   "metadata": {},
   "outputs": [
    {
     "name": "stdout",
     "output_type": "stream",
     "text": [
      "('faceomlet', 8.4517174e-05)\n",
      "('povestea', 8.451713e-05)\n",
      "('crushes', 8.4517036e-05)\n",
      "('fric', 8.4517014e-05)\n",
      "('altoi', 8.451699e-05)\n",
      "('professionally', 8.451695e-05)\n",
      "('reclame', 8.451691e-05)\n",
      "('brewery', 8.451682e-05)\n",
      "('însăţi', 8.451669e-05)\n",
      "('muerteși', 8.451663e-05)\n",
      "('disseminate', 8.451652e-05)\n",
      "('occasionally', 8.451651e-05)\n",
      "('repetitivework', 8.451628e-05)\n",
      "('făceam', 8.451624e-05)\n",
      "('kneehighboots', 8.451623e-05)\n",
      "('thepoetryofyoungmusic', 8.451618e-05)\n",
      "('priorități', 8.4515974e-05)\n",
      "('modeledonthosepestsoftheinternetthatassailedsurfersofyorewithunsolicitedadvertisementsorwarnings', 8.4515916e-05)\n",
      "('communityisafortresswebegantoforesee', 8.45158e-05)\n",
      "('parental', 8.451573e-05)\n",
      "('pelicule', 8.451571e-05)\n",
      "('theworldnotthattiredofeveryonemaybe', 8.4515705e-05)\n",
      "('leading', 8.4515676e-05)\n",
      "('walkthestreets', 8.451562e-05)\n",
      "('actofplayingwiththesecodes', 8.451558e-05)\n",
      "('piety', 8.451554e-05)\n",
      "('admit', 8.451553e-05)\n",
      "('legii', 8.451544e-05)\n",
      "('obiecte', 8.4515435e-05)\n",
      "('șoricar', 8.451541e-05)\n",
      "('alex', 8.451526e-05)\n",
      "('audienceother', 8.451511e-05)\n",
      "('celiaandlouiszukovskystranslationsofcatullus', 8.451503e-05)\n",
      "('towering', 8.4514984e-05)\n",
      "('listens', 8.451496e-05)\n",
      "('accompanied', 8.451475e-05)\n",
      "('poemul', 8.451463e-05)\n",
      "('vagoaneentropice', 8.451457e-05)\n",
      "('directions', 8.451454e-05)\n",
      "('jerome', 8.4514475e-05)\n",
      "('invites', 8.4514475e-05)\n",
      "('seemslikeaneternityothreecupsofteaonecigarette', 8.451446e-05)\n",
      "('exploiting', 8.451441e-05)\n",
      "('createsasubjectofthatsign', 8.4514315e-05)\n",
      "('detaliului', 8.451421e-05)\n",
      "('readerininternationalmediapiracy', 8.451416e-05)\n",
      "('inprisonforexposingpoliticianstaxevasionandembezzlement', 8.451407e-05)\n",
      "('drumsticks', 8.451402e-05)\n",
      "('aguirre', 8.451379e-05)\n",
      "('late', 8.451368e-05)\n",
      "('sundontshineabovetheground', 8.451362e-05)\n",
      "('rockmusicians', 8.45136e-05)\n",
      "('emphasizing', 8.451356e-05)\n",
      "('algorithmicallyinitiatedwritingpractices', 8.4513544e-05)\n",
      "('cărți', 8.45135e-05)\n",
      "('whospeaksinthehundredthiteration', 8.4513464e-05)\n",
      "('furtunile', 8.451342e-05)\n",
      "('startingoutasasuccessfulactor', 8.451331e-05)\n",
      "('restlessness', 8.451324e-05)\n",
      "('easily', 8.451322e-05)\n",
      "('punctured', 8.451314e-05)\n",
      "('somewitwillwriteabetterverseoemboldenedbythispoorexample', 8.451307e-05)\n",
      "('mistake', 8.451302e-05)\n",
      "('chitarelor', 8.451297e-05)\n",
      "('games', 8.4512954e-05)\n",
      "('jumatea', 8.451295e-05)\n",
      "('parcului', 8.451293e-05)\n",
      "('identité', 8.45129e-05)\n",
      "('reflection', 8.4512896e-05)\n",
      "('călătoresc', 8.451282e-05)\n",
      "('încăpățânare', 8.451279e-05)\n",
      "('rambles', 8.451271e-05)\n",
      "('americanizationonthestealth', 8.451264e-05)\n",
      "('vorbit', 8.4512416e-05)\n",
      "('society', 8.451225e-05)\n",
      "('suficient', 8.451225e-05)\n",
      "('begging', 8.451223e-05)\n",
      "('imayhavedecidedthatthestatesarenotthattired', 8.4512154e-05)\n",
      "('ciocan', 8.451202e-05)\n",
      "('boatofhope', 8.451202e-05)\n",
      "('backintheussr', 8.4512e-05)\n",
      "('rollingstones', 8.4511936e-05)\n"
     ]
    }
   ],
   "source": [
    "\n",
    "for i in range(2123, 2205):\n",
    "              print(l0[i])"
   ]
  },
  {
   "cell_type": "code",
   "execution_count": 40,
   "metadata": {
    "scrolled": true
   },
   "outputs": [
    {
     "name": "stdout",
     "output_type": "stream",
     "text": [
      "('americanizationonthestealth', 0.00013296232)\n",
      "('rambles', 0.00013296177)\n",
      "('încăpățânare', 0.00013296153)\n",
      "('călătoresc', 0.00013296136)\n",
      "('reflection', 0.00013296102)\n",
      "('identité', 0.00013296097)\n",
      "('parcului', 0.00013296095)\n",
      "('jumatea', 0.0001329608)\n",
      "('games', 0.00013296078)\n",
      "('chitarelor', 0.00013296069)\n",
      "('mistake', 0.00013296051)\n",
      "('somewitwillwriteabetterverseoemboldenedbythispoorexample', 0.00013296017)\n",
      "('punctured', 0.00013295973)\n",
      "('easily', 0.00013295967)\n",
      "('restlessness', 0.00013295957)\n",
      "('startingoutasasuccessfulactor', 0.00013295925)\n",
      "('furtunile', 0.00013295861)\n",
      "('whospeaksinthehundredthiteration', 0.0001329585)\n",
      "('cărți', 0.00013295836)\n",
      "('emphasizing', 0.000132958)\n",
      "('algorithmicallyinitiatedwritingpractices', 0.00013295787)\n",
      "('rockmusicians', 0.00013295784)\n",
      "('sundontshineabovetheground', 0.00013295781)\n",
      "('late', 0.00013295734)\n",
      "('aguirre', 0.00013295686)\n",
      "('drumsticks', 0.00013295586)\n",
      "('inprisonforexposingpoliticianstaxevasionandembezzlement', 0.0001329555)\n",
      "('readerininternationalmediapiracy', 0.00013295516)\n",
      "('detaliului', 0.00013295477)\n",
      "('createsasubjectofthatsign', 0.00013295446)\n",
      "('exploiting', 0.0001329541)\n",
      "('seemslikeaneternityothreecupsofteaonecigarette', 0.00013295394)\n",
      "('jerome', 0.00013295382)\n",
      "('invites', 0.0001329537)\n",
      "('directions', 0.00013295344)\n",
      "('vagoaneentropice', 0.00013295333)\n",
      "('poemul', 0.00013295315)\n",
      "('accompanied', 0.00013295254)\n",
      "('listens', 0.0001329515)\n",
      "('towering', 0.00013295145)\n",
      "('celiaandlouiszukovskystranslationsofcatullus', 0.00013295123)\n",
      "('audienceother', 0.00013295078)\n",
      "('alex', 0.0001329501)\n",
      "('șoricar', 0.0001329496)\n",
      "('obiecte', 0.00013294925)\n",
      "('legii', 0.00013294924)\n",
      "('admit', 0.00013294903)\n",
      "('piety', 0.00013294889)\n",
      "('actofplayingwiththesecodes', 0.00013294867)\n",
      "('walkthestreets', 0.00013294854)\n",
      "('leading', 0.00013294833)\n",
      "('theworldnotthattiredofeveryonemaybe', 0.00013294815)\n",
      "('pelicule', 0.00013294806)\n",
      "('parental', 0.00013294772)\n",
      "('communityisafortresswebegantoforesee', 0.00013294758)\n",
      "('modeledonthosepestsoftheinternetthatassailedsurfersofyorewithunsolicitedadvertisementsorwarnings', 0.00013294692)\n",
      "('priorități', 0.00013294688)\n",
      "('thepoetryofyoungmusic', 0.00013294585)\n",
      "('kneehighboots', 0.00013294574)\n",
      "('făceam', 0.00013294551)\n",
      "('repetitivework', 0.0001329454)\n",
      "('disseminate', 0.00013294443)\n",
      "('occasionally', 0.00013294432)\n",
      "('muerteși', 0.00013294375)\n",
      "('însăţi', 0.00013294339)\n",
      "('brewery', 0.0001329431)\n",
      "('reclame', 0.00013294241)\n",
      "('professionally', 0.00013294228)\n",
      "('crushes', 0.00013294206)\n",
      "('altoi', 0.00013294206)\n",
      "('fric', 0.000132942)\n",
      "('povestea', 0.00013294147)\n"
     ]
    }
   ],
   "source": [
    "for i in range(7293, 7365):\n",
    "              print(l1[i])"
   ]
  },
  {
   "cell_type": "code",
   "execution_count": 41,
   "metadata": {},
   "outputs": [
    {
     "name": "stdout",
     "output_type": "stream",
     "text": [
      "4326\n"
     ]
    }
   ],
   "source": [
    "\n",
    "for i in range(7467):\n",
    "    if l0[i][0]== \"thatsnotartorpoetry\":\n",
    "            print(i)"
   ]
  },
  {
   "cell_type": "code",
   "execution_count": 42,
   "metadata": {},
   "outputs": [
    {
     "name": "stdout",
     "output_type": "stream",
     "text": [
      "5160\n"
     ]
    }
   ],
   "source": [
    "for i in range(7467):\n",
    "    if l1[i][0]== \"thatsnotartorpoetry\":\n",
    "            print(i)"
   ]
  },
  {
   "cell_type": "code",
   "execution_count": 43,
   "metadata": {
    "scrolled": true
   },
   "outputs": [
    {
     "name": "stdout",
     "output_type": "stream",
     "text": [
      "('casting', 8.4477164e-05)\n",
      "('weeks—you', 8.447715e-05)\n",
      "('neaminteşte', 8.4477135e-05)\n",
      "('nonodejustanode', 8.4477135e-05)\n",
      "('bride', 8.4477135e-05)\n",
      "('trigonometry', 8.447713e-05)\n",
      "('suggesting', 8.447712e-05)\n",
      "('dezamăgită', 8.4477106e-05)\n",
      "('instancesofuse', 8.4477106e-05)\n",
      "('memelor', 8.4477106e-05)\n",
      "('semnele', 8.4477084e-05)\n",
      "('makeourcountrygrowlikeafieldofpatiencedock', 8.447706e-05)\n",
      "('walks', 8.4477055e-05)\n",
      "('—protagonist', 8.447704e-05)\n",
      "('text—opening', 8.447704e-05)\n",
      "('appealing', 8.4477026e-05)\n",
      "('sideman', 8.447702e-05)\n",
      "('vezi', 8.447701e-05)\n",
      "('excavate', 8.447699e-05)\n",
      "('uităte', 8.447697e-05)\n",
      "('înfășurată', 8.4476946e-05)\n",
      "('laînălțime', 8.4476946e-05)\n",
      "('chinuie', 8.4476946e-05)\n",
      "('libertatea', 8.447694e-05)\n",
      "('thaw', 8.447693e-05)\n",
      "('literatura', 8.447692e-05)\n",
      "('enact', 8.447692e-05)\n",
      "('rapid', 8.447691e-05)\n",
      "('writingsofchurchfathers', 8.4476895e-05)\n",
      "('doubtful', 8.447689e-05)\n",
      "('phoenix', 8.447689e-05)\n",
      "('azalee', 8.447689e-05)\n",
      "('generate', 8.447688e-05)\n",
      "('publication', 8.4476866e-05)\n",
      "('structuralist', 8.447686e-05)\n",
      "('curtain', 8.4476844e-05)\n",
      "('rocksongs', 8.447684e-05)\n",
      "('cashonthefinestterms', 8.447684e-05)\n",
      "('sadly', 8.4476815e-05)\n",
      "('hexameter—the', 8.4476786e-05)\n",
      "('rupture', 8.447674e-05)\n",
      "('thatsnotartorpoetry', 8.447674e-05)\n",
      "('johnny', 8.447673e-05)\n",
      "('wait', 8.447673e-05)\n",
      "('fierbințeală', 8.447672e-05)\n",
      "('depozitată', 8.447669e-05)\n",
      "('depends', 8.4476684e-05)\n",
      "('caius', 8.447668e-05)\n",
      "('dated', 8.447667e-05)\n",
      "('gloomier', 8.447667e-05)\n",
      "('pierduți', 8.447667e-05)\n",
      "('murmurând', 8.447666e-05)\n",
      "('subtle', 8.4476655e-05)\n",
      "('speranțele', 8.4476655e-05)\n",
      "('density', 8.447665e-05)\n",
      "('15913', 8.447664e-05)\n",
      "('recaughtinredundancyitsbecausewevereacheduroborealityapointofspatiorhetoricalchoke', 8.4476625e-05)\n",
      "('bent', 8.447662e-05)\n",
      "('lutonairport', 8.447661e-05)\n",
      "('lea', 8.447658e-05)\n",
      "('merit', 8.447657e-05)\n",
      "('paracăi', 8.447655e-05)\n",
      "('influence', 8.4476545e-05)\n",
      "('rendition', 8.447651e-05)\n",
      "('adds', 8.44765e-05)\n",
      "('snuffedouttheflameofrebellion', 8.44765e-05)\n",
      "('capta', 8.4476495e-05)\n",
      "('morminte', 8.447648e-05)\n",
      "('sheen', 8.4476436e-05)\n",
      "('darkening', 8.447642e-05)\n",
      "('finest', 8.447642e-05)\n",
      "('main', 8.447641e-05)\n",
      "('node', 8.447641e-05)\n",
      "('label', 8.447641e-05)\n",
      "('drops', 8.44764e-05)\n",
      "('computation', 8.447638e-05)\n",
      "('dezvolte', 8.447638e-05)\n",
      "('sâsâie', 8.447637e-05)\n",
      "('margine', 8.447636e-05)\n",
      "('hover', 8.447634e-05)\n",
      "('appreciation', 8.447631e-05)\n",
      "('strangers', 8.44763e-05)\n"
     ]
    }
   ],
   "source": [
    "\n",
    "for i in range(4285, 4367):\n",
    "              print(l0[i])"
   ]
  },
  {
   "cell_type": "code",
   "execution_count": 44,
   "metadata": {},
   "outputs": [
    {
     "name": "stdout",
     "output_type": "stream",
     "text": [
      "('integrativedecompositionalperformancethemultigraphpoem', 0.00013313012)\n",
      "('rambleiere', 0.00013313009)\n",
      "('appreciation', 0.00013313009)\n",
      "('strangers', 0.00013313)\n",
      "('hotărâre', 0.00013313)\n",
      "('margine', 0.00013312988)\n",
      "('hover', 0.00013312986)\n",
      "('drops', 0.00013312972)\n",
      "('sâsâie', 0.00013312971)\n",
      "('dezvolte', 0.00013312962)\n",
      "('computation', 0.00013312961)\n",
      "('node', 0.00013312952)\n",
      "('main', 0.0001331295)\n",
      "('label', 0.00013312945)\n",
      "('finest', 0.00013312939)\n",
      "('darkening', 0.00013312939)\n",
      "('sheen', 0.00013312933)\n",
      "('capta', 0.00013312914)\n",
      "('snuffedouttheflameofrebellion', 0.0001331291)\n",
      "('adds', 0.0001331291)\n",
      "('morminte', 0.00013312907)\n",
      "('rendition', 0.00013312898)\n",
      "('influence', 0.00013312892)\n",
      "('paracăi', 0.00013312885)\n",
      "('merit', 0.00013312876)\n",
      "('lea', 0.00013312866)\n",
      "('lutonairport', 0.00013312863)\n",
      "('recaughtinredundancyitsbecausewevereacheduroborealityapointofspatiorhetoricalchoke', 0.00013312846)\n",
      "('pierduți', 0.00013312846)\n",
      "('15913', 0.00013312844)\n",
      "('bent', 0.00013312843)\n",
      "('density', 0.0001331284)\n",
      "('speranțele', 0.0001331284)\n",
      "('subtle', 0.00013312834)\n",
      "('dated', 0.00013312834)\n",
      "('depozitată', 0.00013312825)\n",
      "('caius', 0.00013312825)\n",
      "('murmurând', 0.00013312824)\n",
      "('depends', 0.00013312821)\n",
      "('gloomier', 0.00013312815)\n",
      "('wait', 0.00013312807)\n",
      "('thatsnotartorpoetry', 0.00013312804)\n",
      "('johnny', 0.00013312802)\n",
      "('rupture', 0.00013312801)\n",
      "('fierbințeală', 0.00013312785)\n",
      "('hexameter—the', 0.00013312777)\n",
      "('sadly', 0.00013312767)\n",
      "('curtain', 0.00013312763)\n",
      "('cashonthefinestterms', 0.00013312753)\n",
      "('generate', 0.00013312747)\n",
      "('publication', 0.00013312741)\n",
      "('writingsofchurchfathers', 0.00013312735)\n",
      "('rocksongs', 0.00013312734)\n",
      "('azalee', 0.00013312731)\n",
      "('structuralist', 0.00013312731)\n",
      "('phoenix', 0.0001331273)\n",
      "('literatura', 0.00013312727)\n",
      "('doubtful', 0.00013312718)\n",
      "('rapid', 0.00013312718)\n",
      "('libertatea', 0.0001331271)\n",
      "('laînălțime', 0.0001331271)\n",
      "('thaw', 0.00013312709)\n",
      "('enact', 0.00013312706)\n",
      "('înfășurată', 0.00013312706)\n",
      "('chinuie', 0.00013312699)\n",
      "('vezi', 0.0001331268)\n",
      "('uităte', 0.00013312678)\n",
      "('excavate', 0.00013312674)\n",
      "('appealing', 0.00013312674)\n",
      "('—protagonist', 0.00013312671)\n",
      "('text—opening', 0.00013312668)\n",
      "('sideman', 0.00013312668)\n",
      "('makeourcountrygrowlikeafieldofpatiencedock', 0.00013312661)\n",
      "('walks', 0.0001331266)\n",
      "('semnele', 0.00013312655)\n",
      "('nonodejustanode', 0.00013312628)\n",
      "('dezamăgită', 0.00013312625)\n",
      "('trigonometry', 0.00013312622)\n",
      "('suggesting', 0.00013312619)\n",
      "('instancesofuse', 0.00013312619)\n",
      "('neaminteşte', 0.00013312616)\n",
      "('casting', 0.00013312613)\n"
     ]
    }
   ],
   "source": [
    "\n",
    "for i in range(5119, 5201):\n",
    "              print(l1[i])"
   ]
  },
  {
   "cell_type": "code",
   "execution_count": 45,
   "metadata": {},
   "outputs": [
    {
     "name": "stdout",
     "output_type": "stream",
     "text": [
      "5798\n"
     ]
    }
   ],
   "source": [
    "\n",
    "for i in range(7467):\n",
    "    if l0[i][0]== \"andnotconfusionobfuscationotermsthatbreathetheairofverse\":\n",
    "            print(i)"
   ]
  },
  {
   "cell_type": "code",
   "execution_count": 46,
   "metadata": {},
   "outputs": [
    {
     "name": "stdout",
     "output_type": "stream",
     "text": [
      "3690\n"
     ]
    }
   ],
   "source": [
    "\n",
    "for i in range(7467):\n",
    "    if l1[i][0]== \"andnotconfusionobfuscationotermsthatbreathetheairofverse\":\n",
    "            print(i)"
   ]
  },
  {
   "cell_type": "code",
   "execution_count": 47,
   "metadata": {},
   "outputs": [
    {
     "name": "stdout",
     "output_type": "stream",
     "text": [
      "('acasă', 8.446168e-05)\n",
      "('indoctrination', 8.446167e-05)\n",
      "('flowswastewateroflushednorthoto', 8.446165e-05)\n",
      "('ended', 8.446162e-05)\n",
      "('patient', 8.446161e-05)\n",
      "('signed', 8.446161e-05)\n",
      "('intervalul', 8.446159e-05)\n",
      "('howitmightfeeltoinhabitthespaceofsuchanenunciation', 8.446157e-05)\n",
      "('laughingintherain', 8.446156e-05)\n",
      "('gatekeeper', 8.446156e-05)\n",
      "('strategiesforcomposition', 8.446156e-05)\n",
      "('anassassinationpossiblycommissionedbytheromaniansecuritate', 8.446154e-05)\n",
      "('cause', 8.446153e-05)\n",
      "('modifies', 8.446153e-05)\n",
      "('alsousedtranslationcreatively', 8.446152e-05)\n",
      "('concasorul', 8.446152e-05)\n",
      "('poésie', 8.446151e-05)\n",
      "('postindustrial', 8.446151e-05)\n",
      "('atins', 8.446148e-05)\n",
      "('uplifted', 8.446148e-05)\n",
      "('organization', 8.446146e-05)\n",
      "('illclimbyourlacedstaysmiladyrungforrung', 8.446146e-05)\n",
      "('nepregătite', 8.446146e-05)\n",
      "('journey', 8.4461455e-05)\n",
      "('sunet', 8.4461426e-05)\n",
      "('glove', 8.4461426e-05)\n",
      "('limbă', 8.446141e-05)\n",
      "('romanianversionisbuiltonaperfectlyregularpentameter', 8.4461404e-05)\n",
      "('coherent', 8.446139e-05)\n",
      "('events', 8.446138e-05)\n",
      "('pittisshow', 8.446134e-05)\n",
      "('leavetomorrowfortomorrowoponderonlyupontoday', 8.446133e-05)\n",
      "('curge', 8.446133e-05)\n",
      "('preliminariile', 8.446132e-05)\n",
      "('crească', 8.446131e-05)\n",
      "('amanta', 8.446128e-05)\n",
      "('ducă', 8.4461266e-05)\n",
      "('melodioasă', 8.4461244e-05)\n",
      "('stonesomeonetodeath', 8.4461244e-05)\n",
      "('felicitous', 8.4461244e-05)\n",
      "('bawdy', 8.446124e-05)\n",
      "('andnotconfusionobfuscationotermsthatbreathetheairofverse', 8.446124e-05)\n",
      "('communications', 8.446123e-05)\n",
      "('easement', 8.446122e-05)\n",
      "('identification', 8.446121e-05)\n",
      "('danseze', 8.446119e-05)\n",
      "('facets', 8.446118e-05)\n",
      "('bigger', 8.446118e-05)\n",
      "('moses', 8.446116e-05)\n",
      "('embedded', 8.446115e-05)\n",
      "('thoroughly', 8.446113e-05)\n",
      "('grasptheserules', 8.446111e-05)\n",
      "('întrerup', 8.446109e-05)\n",
      "('argued', 8.446109e-05)\n",
      "('neologism', 8.4461084e-05)\n",
      "('choir', 8.4461084e-05)\n",
      "('increasingly', 8.446106e-05)\n",
      "('thesunthatlightstheday', 8.446106e-05)\n",
      "('vaster', 8.446105e-05)\n",
      "('murit', 8.446104e-05)\n",
      "('officialdom', 8.4461026e-05)\n",
      "('printrun', 8.446102e-05)\n",
      "('trade', 8.4461004e-05)\n",
      "('greșeli', 8.4461e-05)\n",
      "('matthewhurst', 8.446098e-05)\n",
      "('cruzime', 8.446098e-05)\n",
      "('variind', 8.446098e-05)\n",
      "('amazing', 8.4460975e-05)\n",
      "('prometeus', 8.446097e-05)\n",
      "('films', 8.446096e-05)\n",
      "('translationisaformofwritingthroughthewordsofothers', 8.446095e-05)\n",
      "('abovementioned', 8.4460946e-05)\n",
      "('artful', 8.446094e-05)\n",
      "('detritus', 8.446094e-05)\n",
      "('whims', 8.446092e-05)\n",
      "('maintain', 8.446091e-05)\n",
      "('ademenitoareaautoaresăiubeascămajoritateascrisorilorprincontradictoriiscuze', 8.446088e-05)\n",
      "('musulmani', 8.446088e-05)\n",
      "('transcriptions', 8.446088e-05)\n",
      "('tedious', 8.446088e-05)\n",
      "('verseconstellatedevolutivecommunities', 8.446087e-05)\n",
      "('încearcă', 8.446087e-05)\n"
     ]
    }
   ],
   "source": [
    "\n",
    "for i in range(5757, 5839):\n",
    "              print(l0[i])"
   ]
  },
  {
   "cell_type": "code",
   "execution_count": 48,
   "metadata": {},
   "outputs": [
    {
     "name": "stdout",
     "output_type": "stream",
     "text": [
      "('chimicalelor', 0.0001332013)\n",
      "('preservation', 0.00013320129)\n",
      "('ademenitoareaautoaresăiubeascămajoritateascrisorilorprincontradictoriiscuze', 0.00013320117)\n",
      "('musulmani', 0.00013320117)\n",
      "('maintain', 0.00013320109)\n",
      "('verseconstellatedevolutivecommunities', 0.00013320109)\n",
      "('tedious', 0.00013320107)\n",
      "('transcriptions', 0.00013320101)\n",
      "('abovementioned', 0.00013320101)\n",
      "('detritus', 0.000133201)\n",
      "('whims', 0.00013320099)\n",
      "('artful', 0.00013320096)\n",
      "('translationisaformofwritingthroughthewordsofothers', 0.00013320085)\n",
      "('prometeus', 0.0001332008)\n",
      "('matthewhurst', 0.00013320077)\n",
      "('films', 0.00013320071)\n",
      "('amazing', 0.0001332007)\n",
      "('cruzime', 0.00013320068)\n",
      "('greșeli', 0.00013320065)\n",
      "('variind', 0.0001332006)\n",
      "('officialdom', 0.0001332006)\n",
      "('printrun', 0.00013320058)\n",
      "('trade', 0.00013320056)\n",
      "('vaster', 0.00013320053)\n",
      "('murit', 0.00013320049)\n",
      "('argued', 0.00013320039)\n",
      "('thesunthatlightstheday', 0.00013320033)\n",
      "('întrerup', 0.00013320032)\n",
      "('grasptheserules', 0.00013320023)\n",
      "('neologism', 0.0001332002)\n",
      "('thoroughly', 0.00013320011)\n",
      "('embedded', 0.0001332001)\n",
      "('increasingly', 0.00013320008)\n",
      "('choir', 0.00013320004)\n",
      "('moses', 0.00013319994)\n",
      "('danseze', 0.00013319985)\n",
      "('facets', 0.0001331998)\n",
      "('bigger', 0.00013319979)\n",
      "('stonesomeonetodeath', 0.00013319968)\n",
      "('identification', 0.00013319963)\n",
      "('bawdy', 0.00013319957)\n",
      "('andnotconfusionobfuscationotermsthatbreathetheairofverse', 0.00013319953)\n",
      "('easement', 0.00013319952)\n",
      "('communications', 0.00013319949)\n",
      "('ducă', 0.00013319947)\n",
      "('melodioasă', 0.00013319944)\n",
      "('felicitous', 0.00013319931)\n",
      "('amanta', 0.0001331993)\n",
      "('preliminariile', 0.0001331992)\n",
      "('crească', 0.00013319917)\n",
      "('leavetomorrowfortomorrowoponderonlyupontoday', 0.00013319914)\n",
      "('curge', 0.00013319912)\n",
      "('pittisshow', 0.00013319905)\n",
      "('limbă', 0.00013319888)\n",
      "('coherent', 0.00013319885)\n",
      "('romanianversionisbuiltonaperfectlyregularpentameter', 0.0001331988)\n",
      "('sunet', 0.00013319879)\n",
      "('events', 0.00013319873)\n",
      "('illclimbyourlacedstaysmiladyrungforrung', 0.00013319858)\n",
      "('glove', 0.00013319857)\n",
      "('uplifted', 0.00013319854)\n",
      "('nepregătite', 0.00013319853)\n",
      "('journey', 0.00013319853)\n",
      "('atins', 0.00013319848)\n",
      "('organization', 0.00013319842)\n",
      "('poésie', 0.00013319837)\n",
      "('concasorul', 0.00013319819)\n",
      "('postindustrial', 0.00013319816)\n",
      "('strategiesforcomposition', 0.00013319812)\n",
      "('modifies', 0.00013319809)\n",
      "('cause', 0.00013319807)\n",
      "('anassassinationpossiblycommissionedbytheromaniansecuritate', 0.00013319806)\n",
      "('gatekeeper', 0.00013319806)\n",
      "('howitmightfeeltoinhabitthespaceofsuchanenunciation', 0.00013319803)\n",
      "('intervalul', 0.00013319802)\n",
      "('patient', 0.0001331979)\n",
      "('alsousedtranslationcreatively', 0.00013319787)\n",
      "('laughingintherain', 0.00013319784)\n",
      "('signed', 0.00013319784)\n",
      "('ended', 0.00013319781)\n",
      "('flowswastewateroflushednorthoto', 0.00013319767)\n",
      "('literarywork', 0.0001331975)\n",
      "('indoctrination', 0.0001331975)\n",
      "('websiteul', 0.00013319749)\n",
      "('networkworkwarweir', 0.00013319743)\n",
      "('cineo', 0.0001331974)\n",
      "('sintaxa', 0.00013319739)\n",
      "('compares', 0.00013319732)\n",
      "('putting', 0.0001331973)\n",
      "('acasă', 0.00013319729)\n",
      "('task', 0.00013319726)\n",
      "('whatyouseeiswhatyougetonoonesbeendisappointedyet', 0.00013319706)\n"
     ]
    }
   ],
   "source": [
    "for i in range(3649, 3741):\n",
    "              print(l1[i])"
   ]
  },
  {
   "cell_type": "code",
   "execution_count": 49,
   "metadata": {},
   "outputs": [
    {
     "name": "stdout",
     "output_type": "stream",
     "text": [
      "4116\n"
     ]
    }
   ],
   "source": [
    "\n",
    "for i in range(7467):\n",
    "    if l0[i][0]== \"apaintingworkswhenallthishappensoeverywhereuponthecanvas\":\n",
    "            print(i)"
   ]
  },
  {
   "cell_type": "code",
   "execution_count": 52,
   "metadata": {},
   "outputs": [
    {
     "name": "stdout",
     "output_type": "stream",
     "text": [
      "5371\n"
     ]
    }
   ],
   "source": [
    "\n",
    "for i in range(7467):\n",
    "    if l1[i][0]== \"apaintingworkswhenallthishappensoeverywhereuponthecanvas\":\n",
    "            print(i)"
   ]
  },
  {
   "cell_type": "code",
   "execution_count": 53,
   "metadata": {},
   "outputs": [
    {
     "name": "stdout",
     "output_type": "stream",
     "text": [
      "('meadows', 8.447922e-05)\n",
      "('andpère', 8.4479216e-05)\n",
      "('menajeră', 8.4479194e-05)\n",
      "('espagne', 8.447919e-05)\n",
      "('aibă', 8.447917e-05)\n",
      "('isthatviolenceorviolins', 8.447914e-05)\n",
      "('dislocations—not', 8.447914e-05)\n",
      "('dense', 8.447913e-05)\n",
      "('synthesis', 8.447913e-05)\n",
      "('blackmarket', 8.447913e-05)\n",
      "('documentelor', 8.447911e-05)\n",
      "('iwasprocessingnotwriting', 8.447909e-05)\n",
      "('seed', 8.447905e-05)\n",
      "('marvelous', 8.447905e-05)\n",
      "('doesanalgorithmhaveareferent', 8.447902e-05)\n",
      "('meaningproduction', 8.4479005e-05)\n",
      "('radorro', 8.4479005e-05)\n",
      "('format', 8.4479e-05)\n",
      "('human', 8.447898e-05)\n",
      "('îndrăznește', 8.447897e-05)\n",
      "('cerurileprimordiale', 8.447896e-05)\n",
      "('apărut', 8.4478954e-05)\n",
      "('neighbor', 8.4478954e-05)\n",
      "('appelait', 8.447894e-05)\n",
      "('liked', 8.447894e-05)\n",
      "('mcdonald', 8.4478925e-05)\n",
      "('bandă', 8.4478925e-05)\n",
      "('audienceasother', 8.447892e-05)\n",
      "('deployment', 8.447892e-05)\n",
      "('morphozooicmemesdivideandruletheearth', 8.44789e-05)\n",
      "('sfâr', 8.44789e-05)\n",
      "('satire', 8.4478874e-05)\n",
      "('bitlykerimpittis', 8.447886e-05)\n",
      "('ștergea', 8.447886e-05)\n",
      "('darkearth', 8.447885e-05)\n",
      "('repetition—', 8.4478816e-05)\n",
      "('pietate', 8.447881e-05)\n",
      "('detached', 8.447879e-05)\n",
      "('frustrarea', 8.447878e-05)\n",
      "('pope', 8.447878e-05)\n",
      "('567–585', 8.4478765e-05)\n",
      "('apaintingworkswhenallthishappensoeverywhereuponthecanvas', 8.4478765e-05)\n",
      "('pierdute', 8.4478765e-05)\n",
      "('backs', 8.447875e-05)\n",
      "('documentaryaccount', 8.447875e-05)\n",
      "('adaptations', 8.4478736e-05)\n",
      "('intervention', 8.447873e-05)\n",
      "('chioșcul', 8.447873e-05)\n",
      "('severelydecomposingcorpseofacanadianjournalist', 8.4478714e-05)\n",
      "('generoasă', 8.4478714e-05)\n",
      "('bundles', 8.447869e-05)\n",
      "('stiu', 8.4478685e-05)\n",
      "('șia', 8.4478685e-05)\n",
      "('reported', 8.4478685e-05)\n",
      "('reports', 8.447868e-05)\n",
      "('acknowledgement', 8.447865e-05)\n",
      "('interpreted', 8.447864e-05)\n",
      "('rătăcit', 8.447864e-05)\n",
      "('theylltakeyouwhenyoureonyourwayhome', 8.447864e-05)\n",
      "('primei', 8.447864e-05)\n",
      "('whenithinkofsuchmagnitudeasifseducedipaniccompulsivelyjustasyearsbeforeilayonthegrassandwasgraspedbyinfinity', 8.447864e-05)\n",
      "('shrub', 8.4478634e-05)\n",
      "('priveliștea', 8.4478634e-05)\n",
      "('putință', 8.4478605e-05)\n",
      "('rotund', 8.447859e-05)\n",
      "('99oisnot100apickeratthebrazilianlandfillremindsus', 8.4478575e-05)\n",
      "('tapilicongo', 8.4478575e-05)\n",
      "('tactics', 8.447856e-05)\n",
      "('glacial', 8.447851e-05)\n",
      "('tookitstoll', 8.4478495e-05)\n",
      "('behaviorthroughasetofprocedures', 8.447849e-05)\n",
      "('leashed', 8.447848e-05)\n",
      "('târziu', 8.4478466e-05)\n",
      "('attendait', 8.4478444e-05)\n",
      "('crayongumboboca', 8.4478444e-05)\n",
      "('inclusivedigitalseacityscapeinmotion', 8.447842e-05)\n",
      "('maxim', 8.4478415e-05)\n",
      "('joint', 8.4478386e-05)\n",
      "('service', 8.4478386e-05)\n",
      "('graandpère', 8.447837e-05)\n",
      "('coate', 8.4478364e-05)\n",
      "('rumexpatientia', 8.4478364e-05)\n"
     ]
    }
   ],
   "source": [
    "\n",
    "for i in range(4075, 4157):\n",
    "              print(l0[i])"
   ]
  },
  {
   "cell_type": "code",
   "execution_count": 54,
   "metadata": {},
   "outputs": [
    {
     "name": "stdout",
     "output_type": "stream",
     "text": [
      "('puns', 0.00013312059)\n",
      "('coate', 0.00013312059)\n",
      "('executed', 0.00013312056)\n",
      "('joint', 0.00013312054)\n",
      "('murdered', 0.00013312051)\n",
      "('leam', 0.00013312044)\n",
      "('service', 0.00013312032)\n",
      "('crayongumboboca', 0.00013312021)\n",
      "('maxim', 0.0001331202)\n",
      "('inclusivedigitalseacityscapeinmotion', 0.00013312018)\n",
      "('attendait', 0.00013312013)\n",
      "('târziu', 0.00013312003)\n",
      "('leashed', 0.00013311997)\n",
      "('tookitstoll', 0.00013311987)\n",
      "('behaviorthroughasetofprocedures', 0.00013311984)\n",
      "('glacial', 0.00013311974)\n",
      "('99oisnot100apickeratthebrazilianlandfillremindsus', 0.00013311958)\n",
      "('rotund', 0.0001331195)\n",
      "('tactics', 0.00013311944)\n",
      "('shrub', 0.0001331194)\n",
      "('tapilicongo', 0.00013311935)\n",
      "('rătăcit', 0.00013311932)\n",
      "('theylltakeyouwhenyoureonyourwayhome', 0.00013311932)\n",
      "('putință', 0.0001331193)\n",
      "('priveliștea', 0.0001331193)\n",
      "('interpreted', 0.00013311928)\n",
      "('whenithinkofsuchmagnitudeasifseducedipaniccompulsivelyjustasyearsbeforeilayonthegrassandwasgraspedbyinfinity', 0.0001331192)\n",
      "('primei', 0.00013311919)\n",
      "('reports', 0.00013311907)\n",
      "('adaptations', 0.00013311904)\n",
      "('șia', 0.00013311903)\n",
      "('reported', 0.000133119)\n",
      "('stiu', 0.00013311899)\n",
      "('severelydecomposingcorpseofacanadianjournalist', 0.00013311887)\n",
      "('generoasă', 0.00013311885)\n",
      "('backs', 0.00013311885)\n",
      "('bundles', 0.00013311884)\n",
      "('chioșcul', 0.00013311883)\n",
      "('acknowledgement', 0.00013311874)\n",
      "('intervention', 0.00013311871)\n",
      "('documentaryaccount', 0.00013311866)\n",
      "('apaintingworkswhenallthishappensoeverywhereuponthecanvas', 0.00013311862)\n",
      "('pope', 0.00013311862)\n",
      "('pierdute', 0.0001331186)\n",
      "('detached', 0.00013311852)\n",
      "('frustrarea', 0.0001331185)\n",
      "('567–585', 0.0001331184)\n",
      "('pietate', 0.00013311832)\n",
      "('repetition—', 0.00013311824)\n",
      "('ștergea', 0.00013311817)\n",
      "('sfâr', 0.00013311811)\n",
      "('darkearth', 0.00013311811)\n",
      "('bitlykerimpittis', 0.0001331181)\n",
      "('satire', 0.00013311807)\n",
      "('deployment', 0.00013311804)\n",
      "('audienceasother', 0.00013311792)\n",
      "('appelait', 0.0001331179)\n",
      "('bandă', 0.00013311786)\n",
      "('mcdonald', 0.00013311784)\n",
      "('cerurileprimordiale', 0.00013311784)\n",
      "('neighbor', 0.00013311782)\n",
      "('morphozooicmemesdivideandruletheearth', 0.0001331178)\n",
      "('îndrăznește', 0.00013311773)\n",
      "('apărut', 0.0001331177)\n",
      "('liked', 0.00013311769)\n",
      "('human', 0.00013311765)\n",
      "('format', 0.00013311757)\n",
      "('meaningproduction', 0.00013311756)\n",
      "('doesanalgorithmhaveareferent', 0.00013311744)\n",
      "('marvelous', 0.00013311736)\n",
      "('radorro', 0.00013311722)\n",
      "('seed', 0.00013311711)\n",
      "('documentelor', 0.00013311708)\n",
      "('iwasprocessingnotwriting', 0.00013311704)\n",
      "('dislocations—not', 0.00013311704)\n",
      "('dense', 0.000133117)\n",
      "('isthatviolenceorviolins', 0.00013311698)\n",
      "('synthesis', 0.00013311686)\n",
      "('aibă', 0.00013311685)\n",
      "('blackmarket', 0.00013311685)\n",
      "('espagne', 0.00013311673)\n",
      "('menajeră', 0.00013311663)\n"
     ]
    }
   ],
   "source": [
    "\n",
    "for i in range(5330, 5412):\n",
    "              print(l1[i])"
   ]
  },
  {
   "cell_type": "code",
   "execution_count": 55,
   "metadata": {},
   "outputs": [
    {
     "name": "stdout",
     "output_type": "stream",
     "text": [
      "4457\n"
     ]
    }
   ],
   "source": [
    "\n",
    "for i in range(7467):\n",
    "    if l0[i][0]== \"inyourpoemyesnotmineoolinesweremineooalthoughtheyremuchmalignedobyyourpoorverseandfourfourtime\":\n",
    "            print(i)"
   ]
  },
  {
   "cell_type": "code",
   "execution_count": 56,
   "metadata": {},
   "outputs": [
    {
     "name": "stdout",
     "output_type": "stream",
     "text": [
      "5031\n"
     ]
    }
   ],
   "source": [
    "\n",
    "for i in range(7467):\n",
    "    if l1[i][0]== \"inyourpoemyesnotmineoolinesweremineooalthoughtheyremuchmalignedobyyourpoorverseandfourfourtime\":\n",
    "            print(i)"
   ]
  },
  {
   "cell_type": "code",
   "execution_count": 57,
   "metadata": {},
   "outputs": [
    {
     "name": "stdout",
     "output_type": "stream",
     "text": [
      "('worried', 8.447574e-05)\n",
      "('concomitantly', 8.447572e-05)\n",
      "('deserted', 8.44757e-05)\n",
      "('translatinglivethelyricsoftherockbandspresented', 8.4475694e-05)\n",
      "('piece', 8.4475665e-05)\n",
      "('telephone', 8.447565e-05)\n",
      "('penchant', 8.447565e-05)\n",
      "('duel', 8.447564e-05)\n",
      "('neroditoare', 8.447564e-05)\n",
      "('singlewordwe', 8.4475636e-05)\n",
      "('bronzes', 8.4475636e-05)\n",
      "('manipulation', 8.447563e-05)\n",
      "('rating', 8.4475614e-05)\n",
      "('cultură', 8.4475614e-05)\n",
      "('howdoeszepparellalovethee', 8.4475614e-05)\n",
      "('idols', 8.44756e-05)\n",
      "('rearrangements', 8.447558e-05)\n",
      "('augustine', 8.447557e-05)\n",
      "('chattingplayingswitchingswitchingagainstrummingandstreaming', 8.447557e-05)\n",
      "('amusementphilologiques', 8.4475556e-05)\n",
      "('capitalist', 8.4475534e-05)\n",
      "('nenorociri', 8.447551e-05)\n",
      "('cărunt', 8.44755e-05)\n",
      "('utmost', 8.447548e-05)\n",
      "('șii', 8.447548e-05)\n",
      "('artscouncil', 8.447548e-05)\n",
      "('unit', 8.447546e-05)\n",
      "('seasons', 8.4475454e-05)\n",
      "('players', 8.447545e-05)\n",
      "('descompunere', 8.447544e-05)\n",
      "('darkened', 8.447542e-05)\n",
      "('inthesubwayslotmachine', 8.447541e-05)\n",
      "('lampletit', 8.447541e-05)\n",
      "('vieții', 8.447541e-05)\n",
      "('satellites', 8.447539e-05)\n",
      "('dangers', 8.4475345e-05)\n",
      "('solace', 8.4475316e-05)\n",
      "('educating', 8.447531e-05)\n",
      "('intrăn', 8.44753e-05)\n",
      "('iai', 8.447528e-05)\n",
      "('materială', 8.4475265e-05)\n",
      "('inyourpoemyesnotmineoolinesweremineooalthoughtheyremuchmalignedobyyourpoorverseandfourfourtime', 8.447525e-05)\n",
      "('entertaining', 8.447522e-05)\n",
      "('relentless', 8.447522e-05)\n",
      "('feromoni', 8.4475214e-05)\n",
      "('outoftheblue', 8.447521e-05)\n",
      "('difference', 8.44752e-05)\n",
      "('fetei', 8.447518e-05)\n",
      "('williamsburg', 8.447517e-05)\n",
      "('inimă', 8.4475156e-05)\n",
      "('parece', 8.447514e-05)\n",
      "('super', 8.4475134e-05)\n",
      "('aceea', 8.447511e-05)\n",
      "('procedures', 8.4475076e-05)\n",
      "('omui', 8.447507e-05)\n",
      "('nationgirdedandgunning', 8.447505e-05)\n",
      "('—had', 8.447505e-05)\n",
      "('lasting', 8.447504e-05)\n",
      "('terrain', 8.4474996e-05)\n",
      "('pornographic', 8.447499e-05)\n",
      "('magazinului', 8.447498e-05)\n",
      "('poprock', 8.447498e-05)\n",
      "('demascat', 8.447498e-05)\n",
      "('affective', 8.4474974e-05)\n",
      "('plagued', 8.4474974e-05)\n",
      "('evaziuni', 8.447497e-05)\n",
      "('portiera', 8.447497e-05)\n",
      "('shapes', 8.447496e-05)\n",
      "('ieri', 8.447494e-05)\n",
      "('cuffs', 8.447493e-05)\n",
      "('complaint', 8.447492e-05)\n",
      "('cleft', 8.447491e-05)\n",
      "('societies', 8.44749e-05)\n",
      "('craze', 8.44749e-05)\n",
      "('neamule', 8.44749e-05)\n",
      "('instrumental', 8.447489e-05)\n",
      "('orchestre', 8.447489e-05)\n",
      "('uncertainties', 8.447486e-05)\n",
      "('framed', 8.4474836e-05)\n",
      "('duhului', 8.447483e-05)\n",
      "('colloquial', 8.447482e-05)\n",
      "('damned', 8.447482e-05)\n"
     ]
    }
   ],
   "source": [
    "\n",
    "for i in range(4416, 4498):\n",
    "              print(l0[i])"
   ]
  },
  {
   "cell_type": "code",
   "execution_count": 58,
   "metadata": {},
   "outputs": [
    {
     "name": "stdout",
     "output_type": "stream",
     "text": [
      "('louisarmstrong', 0.00013313685)\n",
      "('damned', 0.00013313685)\n",
      "('colloquial', 0.00013313683)\n",
      "('framed', 0.00013313681)\n",
      "('instrumental', 0.00013313671)\n",
      "('uncertainties', 0.00013313655)\n",
      "('duhului', 0.00013313653)\n",
      "('complaint', 0.00013313648)\n",
      "('neamule', 0.00013313646)\n",
      "('craze', 0.00013313646)\n",
      "('societies', 0.00013313642)\n",
      "('cleft', 0.0001331364)\n",
      "('orchestre', 0.00013313637)\n",
      "('ieri', 0.00013313636)\n",
      "('cuffs', 0.00013313633)\n",
      "('terrain', 0.00013313621)\n",
      "('evaziuni', 0.0001331362)\n",
      "('portiera', 0.00013313619)\n",
      "('magazinului', 0.00013313617)\n",
      "('shapes', 0.00013313614)\n",
      "('affective', 0.00013313613)\n",
      "('plagued', 0.00013313613)\n",
      "('poprock', 0.0001331361)\n",
      "('pornographic', 0.00013313603)\n",
      "('demascat', 0.000133136)\n",
      "('lasting', 0.00013313598)\n",
      "('nationgirdedandgunning', 0.0001331359)\n",
      "('—had', 0.00013313585)\n",
      "('omui', 0.00013313557)\n",
      "('procedures', 0.00013313557)\n",
      "('aceea', 0.00013313556)\n",
      "('super', 0.00013313533)\n",
      "('williamsburg', 0.00013313525)\n",
      "('parece', 0.00013313525)\n",
      "('inimă', 0.00013313524)\n",
      "('fetei', 0.00013313521)\n",
      "('difference', 0.00013313515)\n",
      "('feromoni', 0.00013313506)\n",
      "('entertaining', 0.00013313502)\n",
      "('outoftheblue', 0.00013313502)\n",
      "('relentless', 0.000133135)\n",
      "('inyourpoemyesnotmineoolinesweremineooalthoughtheyremuchmalignedobyyourpoorverseandfourfourtime', 0.00013313492)\n",
      "('materială', 0.00013313482)\n",
      "('intrăn', 0.00013313474)\n",
      "('iai', 0.0001331347)\n",
      "('educating', 0.00013313445)\n",
      "('dangers', 0.00013313444)\n",
      "('solace', 0.00013313437)\n",
      "('vieții', 0.00013313424)\n",
      "('descompunere', 0.00013313419)\n",
      "('lampletit', 0.00013313419)\n",
      "('darkened', 0.00013313418)\n",
      "('inthesubwayslotmachine', 0.00013313416)\n",
      "('satellites', 0.00013313415)\n",
      "('players', 0.00013313405)\n",
      "('artscouncil', 0.00013313387)\n",
      "('seasons', 0.00013313386)\n",
      "('unit', 0.00013313378)\n",
      "('șii', 0.00013313371)\n",
      "('nenorociri', 0.00013313371)\n",
      "('cărunt', 0.00013313364)\n",
      "('utmost', 0.00013313358)\n",
      "('capitalist', 0.00013313357)\n",
      "('amusementphilologiques', 0.00013313344)\n",
      "('chattingplayingswitchingswitchingagainstrummingandstreaming', 0.00013313342)\n",
      "('howdoeszepparellalovethee', 0.00013313339)\n",
      "('augustine', 0.00013313338)\n",
      "('idols', 0.00013313329)\n",
      "('cultură', 0.00013313322)\n",
      "('rating', 0.00013313316)\n",
      "('rearrangements', 0.00013313314)\n",
      "('bronzes', 0.00013313312)\n",
      "('duel', 0.00013313303)\n",
      "('penchant', 0.00013313303)\n",
      "('neroditoare', 0.00013313301)\n",
      "('translatinglivethelyricsoftherockbandspresented', 0.00013313298)\n",
      "('singlewordwe', 0.00013313294)\n",
      "('manipulation', 0.00013313293)\n",
      "('piece', 0.00013313288)\n",
      "('telephone', 0.00013313284)\n",
      "('concomitantly', 0.00013313281)\n",
      "('deserted', 0.00013313281)\n"
     ]
    }
   ],
   "source": [
    "\n",
    "for i in range(4990, 5072):\n",
    "              print(l1[i])"
   ]
  },
  {
   "cell_type": "code",
   "execution_count": 59,
   "metadata": {},
   "outputs": [
    {
     "name": "stdout",
     "output_type": "stream",
     "text": [
      "6465\n"
     ]
    }
   ],
   "source": [
    "\n",
    "for i in range(7467):\n",
    "    if l0[i][0]== \"fulloflightandmovementlines\":\n",
    "            print(i)"
   ]
  },
  {
   "cell_type": "code",
   "execution_count": 60,
   "metadata": {},
   "outputs": [
    {
     "name": "stdout",
     "output_type": "stream",
     "text": [
      "3026\n"
     ]
    }
   ],
   "source": [
    "for i in range(7467):\n",
    "    if l1[i][0]== \"fulloflightandmovementlines\":\n",
    "            print(i)"
   ]
  },
  {
   "cell_type": "code",
   "execution_count": 61,
   "metadata": {},
   "outputs": [
    {
     "name": "stdout",
     "output_type": "stream",
     "text": [
      "('improbable', 8.4453175e-05)\n",
      "('détermination', 8.445315e-05)\n",
      "('bune', 8.445315e-05)\n",
      "('unrecognizableeventoitsoriginalauthor', 8.445315e-05)\n",
      "('inherited', 8.445314e-05)\n",
      "('lucrezi', 8.4453095e-05)\n",
      "('generic', 8.4453095e-05)\n",
      "('favorite', 8.4453066e-05)\n",
      "('enesc', 8.445305e-05)\n",
      "('excopper', 8.4453044e-05)\n",
      "('şiapoi', 8.445303e-05)\n",
      "('limping', 8.4453e-05)\n",
      "('slip', 8.445297e-05)\n",
      "('linguisticsystems', 8.445297e-05)\n",
      "('atâtea', 8.445297e-05)\n",
      "('symbolism', 8.445297e-05)\n",
      "('twothousandth', 8.445296e-05)\n",
      "('propagate', 8.4452906e-05)\n",
      "('veden', 8.4452884e-05)\n",
      "('caged', 8.445287e-05)\n",
      "('inimile', 8.445285e-05)\n",
      "('tinde', 8.445285e-05)\n",
      "('emphasises', 8.445283e-05)\n",
      "('mouth', 8.445283e-05)\n",
      "('presentations', 8.445279e-05)\n",
      "('grosz', 8.445279e-05)\n",
      "('nimfe', 8.4452775e-05)\n",
      "('iterativestringofcode', 8.445277e-05)\n",
      "('speakingspoken', 8.445276e-05)\n",
      "('extensivă', 8.4452746e-05)\n",
      "('rodents', 8.44527e-05)\n",
      "('thedoors', 8.445269e-05)\n",
      "('exposed', 8.445267e-05)\n",
      "('espionage', 8.445267e-05)\n",
      "('capricii', 8.4452666e-05)\n",
      "('typically', 8.4452666e-05)\n",
      "('relevance', 8.445265e-05)\n",
      "('anomalies', 8.445265e-05)\n",
      "('contează', 8.445263e-05)\n",
      "('primăgenerație', 8.445262e-05)\n",
      "('forthehighhopeshaillaball', 8.445261e-05)\n",
      "('fulloflightandmovementlines', 8.445259e-05)\n",
      "('voltelen', 8.445259e-05)\n",
      "('armele', 8.445259e-05)\n",
      "('avaient', 8.445257e-05)\n",
      "('reality', 8.445257e-05)\n",
      "('apară', 8.445256e-05)\n",
      "('reporting', 8.445253e-05)\n",
      "('urge', 8.445251e-05)\n",
      "('likemysisterbrewing', 8.445249e-05)\n",
      "('internet', 8.445248e-05)\n",
      "('țină', 8.445248e-05)\n",
      "('disciplinei', 8.445246e-05)\n",
      "('the3yearoldgirlwhoinsistedonhelpingmechangemystringsbeforetheshow', 8.445241e-05)\n",
      "('chris', 8.445235e-05)\n",
      "('mentioned', 8.4452324e-05)\n",
      "('itspresidentkennedycallinmeup', 8.4452324e-05)\n",
      "('interpret', 8.445232e-05)\n",
      "('stickyfingerlickingchicken', 8.445231e-05)\n",
      "('with—', 8.445231e-05)\n",
      "('video', 8.44523e-05)\n",
      "('rhizhomaticperformance', 8.445229e-05)\n",
      "('roadleadscursedandcharmed', 8.445227e-05)\n",
      "('fountainsabbey', 8.4452244e-05)\n",
      "('washington', 8.4452244e-05)\n",
      "('casă', 8.44522e-05)\n",
      "('widens', 8.445218e-05)\n",
      "('algorithmsareourbestuntranslatablepoems', 8.445214e-05)\n",
      "('theairwebreathe', 8.4452135e-05)\n",
      "('negresă', 8.44521e-05)\n",
      "('passe', 8.445209e-05)\n",
      "('nesfârșite', 8.445206e-05)\n",
      "('cage', 8.445205e-05)\n",
      "('serious', 8.445202e-05)\n",
      "('2526', 8.4452004e-05)\n",
      "('ceau', 8.4452004e-05)\n",
      "('major', 8.4451975e-05)\n",
      "('collectivized', 8.4451975e-05)\n",
      "('soarele', 8.445197e-05)\n",
      "('actualitatea', 8.445194e-05)\n",
      "('băgam', 8.445189e-05)\n",
      "('țiplă', 8.445188e-05)\n"
     ]
    }
   ],
   "source": [
    "\n",
    "for i in range(6424, 6506):\n",
    "              print(l0[i])"
   ]
  },
  {
   "cell_type": "code",
   "execution_count": 62,
   "metadata": {},
   "outputs": [
    {
     "name": "stdout",
     "output_type": "stream",
     "text": [
      "('actualitatea', 0.00013324252)\n",
      "('collectivized', 0.00013324233)\n",
      "('major', 0.00013324227)\n",
      "('ceau', 0.00013324224)\n",
      "('2526', 0.00013324223)\n",
      "('serious', 0.0001332422)\n",
      "('soarele', 0.00013324212)\n",
      "('nesfârșite', 0.00013324186)\n",
      "('cage', 0.00013324182)\n",
      "('passe', 0.00013324175)\n",
      "('negresă', 0.0001332417)\n",
      "('algorithmsareourbestuntranslatablepoems', 0.00013324166)\n",
      "('theairwebreathe', 0.00013324157)\n",
      "('widens', 0.0001332413)\n",
      "('casă', 0.00013324122)\n",
      "('washington', 0.00013324115)\n",
      "('fountainsabbey', 0.0001332409)\n",
      "('roadleadscursedandcharmed', 0.00013324087)\n",
      "('with—', 0.00013324078)\n",
      "('interpret', 0.00013324076)\n",
      "('rhizhomaticperformance', 0.00013324073)\n",
      "('stickyfingerlickingchicken', 0.0001332407)\n",
      "('mentioned', 0.00013324064)\n",
      "('itspresidentkennedycallinmeup', 0.0001332406)\n",
      "('video', 0.00013324057)\n",
      "('chris', 0.0001332403)\n",
      "('the3yearoldgirlwhoinsistedonhelpingmechangemystringsbeforetheshow', 0.0001332403)\n",
      "('disciplinei', 0.00013324013)\n",
      "('internet', 0.00013324003)\n",
      "('likemysisterbrewing', 0.00013324003)\n",
      "('țină', 0.00013323994)\n",
      "('reporting', 0.00013323981)\n",
      "('urge', 0.00013323974)\n",
      "('apară', 0.00013323958)\n",
      "('avaient', 0.00013323958)\n",
      "('voltelen', 0.00013323946)\n",
      "('forthehighhopeshaillaball', 0.00013323946)\n",
      "('reality', 0.00013323945)\n",
      "('primăgenerație', 0.0001332394)\n",
      "('armele', 0.00013323936)\n",
      "('contează', 0.0001332393)\n",
      "('fulloflightandmovementlines', 0.0001332393)\n",
      "('capricii', 0.00013323923)\n",
      "('anomalies', 0.00013323923)\n",
      "('relevance', 0.00013323921)\n",
      "('typically', 0.0001332391)\n",
      "('exposed', 0.00013323907)\n",
      "('thedoors', 0.00013323898)\n",
      "('rodents', 0.00013323892)\n",
      "('espionage', 0.00013323888)\n",
      "('extensivă', 0.00013323888)\n",
      "('nimfe', 0.00013323875)\n",
      "('speakingspoken', 0.00013323873)\n",
      "('iterativestringofcode', 0.00013323849)\n",
      "('presentations', 0.00013323846)\n",
      "('emphasises', 0.00013323838)\n",
      "('mouth', 0.00013323831)\n",
      "('grosz', 0.0001332383)\n",
      "('tinde', 0.0001332382)\n",
      "('inimile', 0.00013323817)\n",
      "('caged', 0.00013323812)\n",
      "('propagate', 0.000133238)\n",
      "('veden', 0.000133238)\n",
      "('atâtea', 0.00013323777)\n",
      "('slip', 0.00013323776)\n",
      "('twothousandth', 0.00013323767)\n",
      "('linguisticsystems', 0.00013323763)\n",
      "('symbolism', 0.00013323755)\n",
      "('limping', 0.00013323751)\n",
      "('excopper', 0.00013323744)\n",
      "('şiapoi', 0.0001332374)\n",
      "('enesc', 0.00013323723)\n",
      "('generic', 0.0001332371)\n",
      "('lucrezi', 0.0001332371)\n",
      "('favorite', 0.00013323709)\n",
      "('unrecognizableeventoitsoriginalauthor', 0.00013323691)\n",
      "('inherited', 0.00013323677)\n",
      "('détermination', 0.00013323674)\n",
      "('bune', 0.00013323674)\n",
      "('improbable', 0.00013323665)\n",
      "('parallels…', 0.00013323664)\n",
      "('august', 0.0001332366)\n"
     ]
    }
   ],
   "source": [
    "\n",
    "for i in range(2985, 3067):\n",
    "              print(l1[i])"
   ]
  },
  {
   "cell_type": "code",
   "execution_count": 64,
   "metadata": {},
   "outputs": [
    {
     "name": "stdout",
     "output_type": "stream",
     "text": [
      "3820\n"
     ]
    }
   ],
   "source": [
    "\n",
    "for i in range(7467):\n",
    "    if l0[i][0]== \"sbetternottowriteatallothanwritelikethis\":\n",
    "            print(i)"
   ]
  },
  {
   "cell_type": "code",
   "execution_count": 65,
   "metadata": {},
   "outputs": [
    {
     "name": "stdout",
     "output_type": "stream",
     "text": [
      "5668\n"
     ]
    }
   ],
   "source": [
    "\n",
    "for i in range(7467):\n",
    "    if l1[i][0]== \"sbetternottowriteatallothanwritelikethis\":\n",
    "            print(i)"
   ]
  },
  {
   "cell_type": "code",
   "execution_count": 66,
   "metadata": {},
   "outputs": [
    {
     "name": "stdout",
     "output_type": "stream",
     "text": [
      "('radiofreeeurope', 8.44822e-05)\n",
      "('fourth', 8.448219e-05)\n",
      "('nagâț', 8.448219e-05)\n",
      "('urgență', 8.4482184e-05)\n",
      "('annodeofndimensionalsongthrongsflowgrowth', 8.448218e-05)\n",
      "('ransacked', 8.448216e-05)\n",
      "('nadie', 8.448216e-05)\n",
      "('drawn', 8.448216e-05)\n",
      "('blewaway', 8.4482155e-05)\n",
      "('colective', 8.448214e-05)\n",
      "('nebune', 8.4482126e-05)\n",
      "('reintrând', 8.448211e-05)\n",
      "('affixes', 8.448211e-05)\n",
      "('execution', 8.4482104e-05)\n",
      "('highlight', 8.4482104e-05)\n",
      "('ombinations', 8.448209e-05)\n",
      "('looks', 8.448206e-05)\n",
      "('knit', 8.4482e-05)\n",
      "('trec', 8.448199e-05)\n",
      "('contribution', 8.4481966e-05)\n",
      "('linelength', 8.4481944e-05)\n",
      "('auzea', 8.4481886e-05)\n",
      "('lanul', 8.448188e-05)\n",
      "('cămări', 8.448188e-05)\n",
      "('radioprogrammerswouldalsotranslatethelyrics', 8.448186e-05)\n",
      "('fifth', 8.448185e-05)\n",
      "('investiga', 8.4481835e-05)\n",
      "('importanceofthemessageratherthanitsoriginalityoraccuracy', 8.4481835e-05)\n",
      "('versiunea', 8.4481835e-05)\n",
      "('reliance', 8.448183e-05)\n",
      "('isteric', 8.4481806e-05)\n",
      "('humming', 8.44818e-05)\n",
      "('opiniile', 8.448179e-05)\n",
      "('theft', 8.448179e-05)\n",
      "('froth', 8.448177e-05)\n",
      "('before—', 8.448177e-05)\n",
      "('spectacles', 8.448177e-05)\n",
      "('culdesac', 8.448176e-05)\n",
      "('câtorva', 8.4481755e-05)\n",
      "('wiggleroom', 8.448175e-05)\n",
      "('smartly', 8.4481726e-05)\n",
      "('sbetternottowriteatallothanwritelikethis', 8.448172e-05)\n",
      "('surprizedkitty', 8.448172e-05)\n",
      "('noduroase', 8.448172e-05)\n",
      "('sketch', 8.448172e-05)\n",
      "('absolute', 8.44817e-05)\n",
      "('pairs', 8.448168e-05)\n",
      "('contemporanul', 8.4481675e-05)\n",
      "('avertismente', 8.448167e-05)\n",
      "('opportunities', 8.448165e-05)\n",
      "('canfixyourwildestneeds', 8.4481646e-05)\n",
      "('sivitatea', 8.4481646e-05)\n",
      "('brazen', 8.448163e-05)\n",
      "('vizualizări', 8.448163e-05)\n",
      "('restoration', 8.4481624e-05)\n",
      "('atnightthestatewhistle', 8.4481624e-05)\n",
      "('drive', 8.448162e-05)\n",
      "('maintained', 8.448157e-05)\n",
      "('currenttheories', 8.448156e-05)\n",
      "('usabasedpoets', 8.448154e-05)\n",
      "('wetakethenewedgesandpathsoftheexpandinggraph', 8.448152e-05)\n",
      "('vocalists', 8.4481515e-05)\n",
      "('approaching', 8.4481515e-05)\n",
      "('edward', 8.44815e-05)\n",
      "('hittingonthemoonshine', 8.44815e-05)\n",
      "('justify', 8.448149e-05)\n",
      "('singinginthesunshine', 8.4481486e-05)\n",
      "('exposure', 8.4481464e-05)\n",
      "('slippingintothevoice', 8.4481464e-05)\n",
      "('iatunci', 8.448146e-05)\n",
      "('deceselor', 8.4481435e-05)\n",
      "('antihegemonicsubvers€ions', 8.4481435e-05)\n",
      "('cushions', 8.448143e-05)\n",
      "('done—', 8.4481406e-05)\n",
      "('voice—his', 8.4481384e-05)\n",
      "('perfection', 8.448138e-05)\n",
      "('țâșnește', 8.448137e-05)\n",
      "('clichésandlamentation', 8.448136e-05)\n",
      "('gretchenmenn', 8.4481355e-05)\n",
      "('burs', 8.4481355e-05)\n",
      "('condiția', 8.448135e-05)\n",
      "('ephesus', 8.448134e-05)\n"
     ]
    }
   ],
   "source": [
    "\n",
    "for i in range(3779, 3861):\n",
    "              print(l0[i])"
   ]
  },
  {
   "cell_type": "code",
   "execution_count": 67,
   "metadata": {},
   "outputs": [
    {
     "name": "stdout",
     "output_type": "stream",
     "text": [
      "('gretchenmenn', 0.00013310682)\n",
      "('ephesus', 0.00013310682)\n",
      "('clichésandlamentation', 0.00013310679)\n",
      "('condiția', 0.00013310679)\n",
      "('torpor', 0.00013310679)\n",
      "('languageacttransformsovertime', 0.00013310673)\n",
      "('voice—his', 0.00013310666)\n",
      "('perfection', 0.00013310657)\n",
      "('țâșnește', 0.00013310656)\n",
      "('antihegemonicsubvers€ions', 0.00013310654)\n",
      "('cushions', 0.00013310634)\n",
      "('done—', 0.00013310632)\n",
      "('deceselor', 0.00013310628)\n",
      "('iatunci', 0.00013310625)\n",
      "('exposure', 0.00013310621)\n",
      "('singinginthesunshine', 0.00013310618)\n",
      "('edward', 0.00013310612)\n",
      "('hittingonthemoonshine', 0.00013310612)\n",
      "('slippingintothevoice', 0.00013310609)\n",
      "('justify', 0.00013310608)\n",
      "('vocalists', 0.000133106)\n",
      "('usabasedpoets', 0.00013310599)\n",
      "('wetakethenewedgesandpathsoftheexpandinggraph', 0.00013310589)\n",
      "('approaching', 0.00013310587)\n",
      "('maintained', 0.00013310574)\n",
      "('currenttheories', 0.00013310561)\n",
      "('atnightthestatewhistle', 0.00013310555)\n",
      "('brazen', 0.00013310552)\n",
      "('drive', 0.0001331055)\n",
      "('canfixyourwildestneeds', 0.00013310547)\n",
      "('vizualizări', 0.00013310542)\n",
      "('sivitatea', 0.00013310541)\n",
      "('restoration', 0.00013310536)\n",
      "('contemporanul', 0.00013310532)\n",
      "('opportunities', 0.00013310522)\n",
      "('avertismente', 0.00013310516)\n",
      "('absolute', 0.00013310507)\n",
      "('surprizedkitty', 0.00013310506)\n",
      "('sketch', 0.00013310506)\n",
      "('pairs', 0.00013310503)\n",
      "('noduroase', 0.00013310499)\n",
      "('sbetternottowriteatallothanwritelikethis', 0.00013310496)\n",
      "('smartly', 0.00013310493)\n",
      "('wiggleroom', 0.00013310484)\n",
      "('froth', 0.00013310483)\n",
      "('culdesac', 0.00013310483)\n",
      "('câtorva', 0.00013310483)\n",
      "('opiniile', 0.00013310481)\n",
      "('humming', 0.00013310477)\n",
      "('spectacles', 0.00013310468)\n",
      "('before—', 0.00013310465)\n",
      "('theft', 0.00013310465)\n",
      "('importanceofthemessageratherthanitsoriginalityoraccuracy', 0.0001331046)\n",
      "('investiga', 0.00013310445)\n",
      "('radioprogrammerswouldalsotranslatethelyrics', 0.00013310445)\n",
      "('isteric', 0.00013310445)\n",
      "('fifth', 0.00013310443)\n",
      "('reliance', 0.00013310439)\n",
      "('cămări', 0.00013310437)\n",
      "('versiunea', 0.00013310429)\n",
      "('auzea', 0.00013310424)\n",
      "('lanul', 0.00013310423)\n",
      "('linelength', 0.00013310388)\n",
      "('contribution', 0.0001331038)\n",
      "('knit', 0.00013310376)\n",
      "('trec', 0.00013310375)\n",
      "('looks', 0.00013310356)\n",
      "('ombinations', 0.00013310339)\n",
      "('execution', 0.00013310334)\n",
      "('highlight', 0.00013310328)\n",
      "('affixes', 0.00013310324)\n",
      "('reintrând', 0.00013310308)\n",
      "('drawn', 0.00013310308)\n",
      "('nadie', 0.000133103)\n",
      "('ransacked', 0.00013310295)\n",
      "('annodeofndimensionalsongthrongsflowgrowth', 0.00013310293)\n",
      "('urgență', 0.00013310292)\n",
      "('nebune', 0.0001331029)\n",
      "('nagâț', 0.00013310289)\n",
      "('colective', 0.00013310286)\n",
      "('blewaway', 0.00013310286)\n",
      "('unheavylevee', 0.00013310275)\n"
     ]
    }
   ],
   "source": [
    "\n",
    "for i in range(5627, 5709):\n",
    "              print(l1[i])"
   ]
  },
  {
   "cell_type": "code",
   "execution_count": 16,
   "metadata": {},
   "outputs": [
    {
     "name": "stdout",
     "output_type": "stream",
     "text": [
      "3873\n"
     ]
    }
   ],
   "source": [
    "\n",
    "for i in range(7467):\n",
    "    if l0[i][0]== \"apoetryincontinenceobutintranslationoaclarityofmindapplied\":\n",
    "            print(i)"
   ]
  },
  {
   "cell_type": "code",
   "execution_count": 17,
   "metadata": {},
   "outputs": [
    {
     "name": "stdout",
     "output_type": "stream",
     "text": [
      "6344\n"
     ]
    }
   ],
   "source": [
    "\n",
    "for i in range(7467):\n",
    "    if l1[i][0]== \"apoetryincontinenceobutintranslationoaclarityofmindapplied\":\n",
    "            print(i)"
   ]
  },
  {
   "cell_type": "code",
   "execution_count": 19,
   "metadata": {},
   "outputs": [
    {
     "name": "stdout",
     "output_type": "stream",
     "text": [
      "('smartly', 0.00012401915)\n",
      "('vesuvius', 0.00012401896)\n",
      "('ratherthananeffectofthemuchcitedusculturalimperialism', 0.00012401894)\n",
      "('nouă', 0.00012401886)\n",
      "('ifyoudidn', 0.00012401884)\n",
      "('taximotocicletă', 0.0001240188)\n",
      "('recently', 0.00012401877)\n",
      "('bou', 0.00012401876)\n",
      "('panegyrics', 0.00012401874)\n",
      "('lips', 0.00012401855)\n",
      "('stephenpoljakoff', 0.00012401855)\n",
      "('telefonul', 0.00012401854)\n",
      "('wind', 0.00012401848)\n",
      "('expansive', 0.00012401846)\n",
      "('handled', 0.00012401844)\n",
      "('borrow', 0.00012401839)\n",
      "('provable', 0.0001240183)\n",
      "('destroying', 0.0001240182)\n",
      "('sundontshineabovetheground', 0.00012401813)\n",
      "('ivind', 0.00012401812)\n",
      "('oneself', 0.0001240181)\n",
      "('poema', 0.00012401801)\n",
      "('desserts', 0.00012401796)\n",
      "('urmele', 0.00012401793)\n",
      "('gates', 0.00012401788)\n",
      "('thesepiecescorethefrustrationofdefactodigitaleffortstoapprehendecochemicalcalamityasarchaeology', 0.00012401787)\n",
      "('shallow', 0.00012401774)\n",
      "('turncoat', 0.00012401765)\n",
      "('impotence', 0.00012401737)\n",
      "('șăfuare', 0.00012401729)\n",
      "('flesh', 0.00012401727)\n",
      "('aspiringtoalgorithmicsubjectivity', 0.00012401716)\n",
      "('chipping', 0.00012401716)\n",
      "('contains', 0.00012401714)\n",
      "('curious', 0.00012401714)\n",
      "('tourists', 0.00012401711)\n",
      "('zodiac', 0.00012401711)\n",
      "('rulebasedproductioninpoeticforms', 0.00012401711)\n",
      "('fuseseră', 0.00012401707)\n",
      "('săși', 0.00012401704)\n",
      "('tonul', 0.00012401701)\n",
      "('apoetryincontinenceobutintranslationoaclarityofmindapplied', 0.00012401662)\n",
      "('generoasă', 0.0001240166)\n",
      "('videorecorder', 0.0001240164)\n",
      "('rockisstillverymuchahowl', 0.00012401634)\n",
      "('sunet', 0.00012401633)\n",
      "('valued', 0.00012401631)\n",
      "('project—a', 0.00012401618)\n",
      "('factual', 0.00012401602)\n",
      "('moved', 0.00012401598)\n",
      "('ilendmoney', 0.0001240159)\n",
      "('monologues', 0.0001240159)\n",
      "('nus', 0.00012401587)\n",
      "('seeappendicestofindoselectedquotesthathavebeenchosen', 0.00012401587)\n",
      "('links', 0.00012401583)\n",
      "('automatahavetheirway', 0.00012401569)\n",
      "('reciter', 0.00012401555)\n",
      "('imagination', 0.00012401547)\n",
      "('irige', 0.00012401544)\n",
      "('blurbs', 0.00012401529)\n",
      "('modelled', 0.0001240151)\n",
      "('participatory', 0.00012401507)\n",
      "('sets', 0.00012401497)\n",
      "('weeks—you', 0.00012401497)\n",
      "('pass', 0.00012401478)\n",
      "('foreground', 0.00012401477)\n",
      "('willdeepenpeepinglovers', 0.00012401464)\n",
      "('deloc', 0.00012401464)\n",
      "('drummers', 0.00012401462)\n",
      "('electrice', 0.0001240146)\n",
      "('warned', 0.00012401449)\n",
      "('automatedprocesses', 0.00012401446)\n",
      "('pământ', 0.00012401443)\n",
      "('blockbuster', 0.00012401442)\n",
      "('nowimsingingallmysongstothegirlwhowonmyheart', 0.0001240144)\n",
      "('ția', 0.00012401432)\n",
      "('didyousendyourinsignia', 0.0001240142)\n",
      "('actsofwritingspeakus', 0.0001240142)\n",
      "('couple', 0.00012401413)\n",
      "('tracks', 0.0001240141)\n",
      "('ziua', 0.00012401401)\n",
      "('runways', 0.000124014)\n"
     ]
    }
   ],
   "source": [
    "\n",
    "for i in range(3832, 3914):\n",
    "              print(l0[i])"
   ]
  },
  {
   "cell_type": "code",
   "execution_count": 18,
   "metadata": {},
   "outputs": [
    {
     "name": "stdout",
     "output_type": "stream",
     "text": [
      "('inauguration', 6.4988664e-05)\n",
      "('ziua', 6.4988635e-05)\n",
      "('runways', 6.4988635e-05)\n",
      "('couple', 6.498863e-05)\n",
      "('didyousendyourinsignia', 6.498862e-05)\n",
      "('actsofwritingspeakus', 6.4988606e-05)\n",
      "('ția', 6.49886e-05)\n",
      "('warned', 6.498858e-05)\n",
      "('tracks', 6.498858e-05)\n",
      "('pământ', 6.498857e-05)\n",
      "('nowimsingingallmysongstothegirlwhowonmyheart', 6.498857e-05)\n",
      "('deloc', 6.4988555e-05)\n",
      "('automatedprocesses', 6.4988555e-05)\n",
      "('blockbuster', 6.498855e-05)\n",
      "('drummers', 6.498853e-05)\n",
      "('electrice', 6.498853e-05)\n",
      "('foreground', 6.4988526e-05)\n",
      "('willdeepenpeepinglovers', 6.498851e-05)\n",
      "('pass', 6.498848e-05)\n",
      "('weeks—you', 6.4988475e-05)\n",
      "('sets', 6.498846e-05)\n",
      "('participatory', 6.4988446e-05)\n",
      "('modelled', 6.4988446e-05)\n",
      "('blurbs', 6.4988424e-05)\n",
      "('imagination', 6.4988395e-05)\n",
      "('irige', 6.498839e-05)\n",
      "('reciter', 6.498837e-05)\n",
      "('automatahavetheirway', 6.498836e-05)\n",
      "('seeappendicestofindoselectedquotesthathavebeenchosen', 6.498833e-05)\n",
      "('nus', 6.498833e-05)\n",
      "('links', 6.4988315e-05)\n",
      "('ilendmoney', 6.498831e-05)\n",
      "('factual', 6.49883e-05)\n",
      "('moved', 6.49883e-05)\n",
      "('monologues', 6.498829e-05)\n",
      "('project—a', 6.4988264e-05)\n",
      "('valued', 6.4988235e-05)\n",
      "('sunet', 6.498823e-05)\n",
      "('rockisstillverymuchahowl', 6.498822e-05)\n",
      "('videorecorder', 6.4988206e-05)\n",
      "('generoasă', 6.4988184e-05)\n",
      "('apoetryincontinenceobutintranslationoaclarityofmindapplied', 6.498817e-05)\n",
      "('tonul', 6.4988126e-05)\n",
      "('săși', 6.4988104e-05)\n",
      "('curious', 6.4988104e-05)\n",
      "('tourists', 6.49881e-05)\n",
      "('zodiac', 6.49881e-05)\n",
      "('aspiringtoalgorithmicsubjectivity', 6.49881e-05)\n",
      "('fuseseră', 6.498809e-05)\n",
      "('rulebasedproductioninpoeticforms', 6.4988075e-05)\n",
      "('contains', 6.4988075e-05)\n",
      "('chipping', 6.4988075e-05)\n",
      "('șăfuare', 6.498805e-05)\n",
      "('flesh', 6.4988046e-05)\n",
      "('impotence', 6.4988e-05)\n",
      "('turncoat', 6.4987995e-05)\n",
      "('shallow', 6.4987966e-05)\n",
      "('urmele', 6.498796e-05)\n",
      "('gates', 6.498795e-05)\n",
      "('thesepiecescorethefrustrationofdefactodigitaleffortstoapprehendecochemicalcalamityasarchaeology', 6.498795e-05)\n",
      "('ivind', 6.4987915e-05)\n",
      "('sundontshineabovetheground', 6.49879e-05)\n",
      "('poema', 6.49879e-05)\n",
      "('desserts', 6.498789e-05)\n",
      "('destroying', 6.498787e-05)\n",
      "('provable', 6.498787e-05)\n",
      "('oneself', 6.4987864e-05)\n",
      "('telefonul', 6.498785e-05)\n",
      "('wind', 6.498785e-05)\n",
      "('borrow', 6.498784e-05)\n",
      "('handled', 6.498784e-05)\n",
      "('stephenpoljakoff', 6.498783e-05)\n",
      "('lips', 6.4987806e-05)\n",
      "('expansive', 6.49878e-05)\n",
      "('nouă', 6.4987784e-05)\n",
      "('ifyoudidn', 6.4987784e-05)\n",
      "('taximotocicletă', 6.498778e-05)\n",
      "('recently', 6.498778e-05)\n",
      "('panegyrics', 6.498778e-05)\n",
      "('bou', 6.498778e-05)\n",
      "('ratherthananeffectofthemuchcitedusculturalimperialism', 6.498775e-05)\n",
      "('vesuvius', 6.498774e-05)\n"
     ]
    }
   ],
   "source": [
    "\n",
    "for i in range(6303, 6385):\n",
    "              print(l1[i])"
   ]
  },
  {
   "cell_type": "code",
   "execution_count": 20,
   "metadata": {},
   "outputs": [
    {
     "name": "stdout",
     "output_type": "stream",
     "text": [
      "5967\n"
     ]
    }
   ],
   "source": [
    "\n",
    "for i in range(7940):\n",
    "    if l0[i][0]== \"forfartoolongromanticthoughtsolikeyourshavesubjugatedverse\":\n",
    "            print(i)"
   ]
  },
  {
   "cell_type": "code",
   "execution_count": 21,
   "metadata": {},
   "outputs": [
    {
     "name": "stdout",
     "output_type": "stream",
     "text": [
      "4251\n"
     ]
    }
   ],
   "source": [
    "\n",
    "for i in range(7940):\n",
    "    if l1[i][0]== \"forfartoolongromanticthoughtsolikeyourshavesubjugatedverse\":\n",
    "            print(i)"
   ]
  },
  {
   "cell_type": "code",
   "execution_count": 22,
   "metadata": {},
   "outputs": [
    {
     "name": "stdout",
     "output_type": "stream",
     "text": [
      "('buzele', 0.00012387302)\n",
      "('choir', 0.00012387292)\n",
      "('generații', 0.00012387287)\n",
      "('improve', 0.00012387277)\n",
      "('visit', 0.00012387274)\n",
      "('selforganized', 0.00012387271)\n",
      "('cushions', 0.00012387267)\n",
      "('fulloflightandmovementlines', 0.00012387267)\n",
      "('verseconstellatedevolutivecommunities', 0.0001238726)\n",
      "('knit', 0.00012387255)\n",
      "('duringatimewhenliteratureandmusicweretheonlyrefugeformanyyoungpeople', 0.0001238725)\n",
      "('statements', 0.0001238724)\n",
      "('obraz', 0.00012387239)\n",
      "('io', 0.00012387239)\n",
      "('cerurileprimordiale', 0.00012387232)\n",
      "('persevere', 0.00012387222)\n",
      "('video', 0.00012387216)\n",
      "('spellsout', 0.00012387212)\n",
      "('scribblings', 0.000123872)\n",
      "('stickinga', 0.00012387183)\n",
      "('santana', 0.00012387175)\n",
      "('dezintoxirenovarea', 0.00012387143)\n",
      "('enlarged', 0.00012387137)\n",
      "('oraș', 0.00012387137)\n",
      "('returned', 0.00012387134)\n",
      "('uităte', 0.00012387132)\n",
      "('spartă', 0.00012387123)\n",
      "('electrecord', 0.0001238712)\n",
      "('learnhowtospeakasacompressionalgorithm', 0.00012387085)\n",
      "('rolling', 0.00012387085)\n",
      "('cityscapes', 0.0001238708)\n",
      "('vroia', 0.00012387078)\n",
      "('renewal', 0.0001238707)\n",
      "('artefact', 0.0001238706)\n",
      "('xl', 0.00012387059)\n",
      "('ontologically', 0.00012387059)\n",
      "('per', 0.00012387046)\n",
      "('contamination', 0.00012387038)\n",
      "('manipulative', 0.00012387033)\n",
      "('optimism', 0.0001238703)\n",
      "('arecaughtintheseenunciativesystems', 0.00012387004)\n",
      "('forfartoolongromanticthoughtsolikeyourshavesubjugatedverse', 0.00012386999)\n",
      "('fluxofthepoemmakesthewordswithin', 0.00012386992)\n",
      "('bară', 0.00012386982)\n",
      "('țâșnește', 0.0001238698)\n",
      "('professional', 0.00012386977)\n",
      "('94', 0.00012386974)\n",
      "('rockmusicians', 0.00012386973)\n",
      "('onereferstoalcoholandonereferstopoliticalinterferenceinpeopleslives', 0.0001238697)\n",
      "('dup', 0.00012386969)\n",
      "('șiau', 0.00012386953)\n",
      "('wider', 0.00012386945)\n",
      "('whosedeathwillnotbeinvestigated', 0.00012386938)\n",
      "('openness', 0.00012386932)\n",
      "('amușinând', 0.00012386931)\n",
      "('maintain', 0.00012386926)\n",
      "('săp', 0.0001238692)\n",
      "('bun', 0.00012386905)\n",
      "('satellites', 0.00012386899)\n",
      "('ourselvesaspoemdrivers4driversdatarivers', 0.00012386894)\n",
      "('deceselor', 0.00012386891)\n",
      "('inconsistencies', 0.00012386877)\n",
      "('citysugar', 0.00012386874)\n",
      "('legănânduse', 0.0001238687)\n",
      "('ieșeau', 0.00012386865)\n",
      "('june', 0.00012386858)\n",
      "('poșta', 0.0001238684)\n",
      "('présenter', 0.00012386838)\n",
      "('terrain', 0.00012386838)\n",
      "('makeitgowithasinglewordwe', 0.00012386833)\n",
      "('decorum', 0.00012386827)\n",
      "('thenamejudastheiscariotewhichderivesfromthelatinsicariusanassassinamurderer', 0.00012386813)\n",
      "('contained', 0.00012386809)\n",
      "('involving', 0.00012386803)\n",
      "('plunge', 0.00012386788)\n",
      "('striclă', 0.00012386782)\n",
      "('analysts', 0.0001238677)\n",
      "('enunciations', 0.00012386766)\n",
      "('branșărilor', 0.00012386756)\n",
      "('graandpère', 0.00012386755)\n",
      "('trouver', 0.00012386742)\n",
      "('sorrows', 0.00012386736)\n"
     ]
    }
   ],
   "source": [
    "\n",
    "for i in range(5926, 6008):\n",
    "              print(l0[i])"
   ]
  },
  {
   "cell_type": "code",
   "execution_count": 23,
   "metadata": {},
   "outputs": [
    {
     "name": "stdout",
     "output_type": "stream",
     "text": [
      "('trouver', 6.501516e-05)\n",
      "('sorrows', 6.501513e-05)\n",
      "('branșărilor', 6.501513e-05)\n",
      "('graandpère', 6.501511e-05)\n",
      "('enunciations', 6.5015105e-05)\n",
      "('analysts', 6.5015076e-05)\n",
      "('plunge', 6.501507e-05)\n",
      "('striclă', 6.5015054e-05)\n",
      "('involving', 6.501504e-05)\n",
      "('thenamejudastheiscariotewhichderivesfromthelatinsicariusanassassinamurderer', 6.501502e-05)\n",
      "('présenter', 6.5015e-05)\n",
      "('contained', 6.5014996e-05)\n",
      "('decorum', 6.501498e-05)\n",
      "('terrain', 6.5014974e-05)\n",
      "('poșta', 6.501496e-05)\n",
      "('makeitgowithasinglewordwe', 6.501496e-05)\n",
      "('ieșeau', 6.5014945e-05)\n",
      "('june', 6.5014916e-05)\n",
      "('citysugar', 6.5014916e-05)\n",
      "('legănânduse', 6.5014894e-05)\n",
      "('inconsistencies', 6.501489e-05)\n",
      "('deceselor', 6.501488e-05)\n",
      "('satellites', 6.5014865e-05)\n",
      "('ourselvesaspoemdrivers4driversdatarivers', 6.501485e-05)\n",
      "('săp', 6.5014836e-05)\n",
      "('maintain', 6.501482e-05)\n",
      "('whosedeathwillnotbeinvestigated', 6.501481e-05)\n",
      "('amușinând', 6.50148e-05)\n",
      "('bun', 6.50148e-05)\n",
      "('șiau', 6.501478e-05)\n",
      "('94', 6.501476e-05)\n",
      "('wider', 6.501476e-05)\n",
      "('openness', 6.5014756e-05)\n",
      "('rockmusicians', 6.5014756e-05)\n",
      "('țâșnește', 6.5014734e-05)\n",
      "('fluxofthepoemmakesthewordswithin', 6.5014734e-05)\n",
      "('bară', 6.501473e-05)\n",
      "('onereferstoalcoholandonereferstopoliticalinterferenceinpeopleslives', 6.501473e-05)\n",
      "('professional', 6.501472e-05)\n",
      "('dup', 6.501469e-05)\n",
      "('arecaughtintheseenunciativesystems', 6.501468e-05)\n",
      "('forfartoolongromanticthoughtsolikeyourshavesubjugatedverse', 6.501468e-05)\n",
      "('manipulative', 6.501464e-05)\n",
      "('optimism', 6.5014625e-05)\n",
      "('per', 6.501461e-05)\n",
      "('contamination', 6.5014596e-05)\n",
      "('ontologically', 6.5014596e-05)\n",
      "('xl', 6.501458e-05)\n",
      "('artefact', 6.501456e-05)\n",
      "('cityscapes', 6.501456e-05)\n",
      "('rolling', 6.501455e-05)\n",
      "('vroia', 6.501455e-05)\n",
      "('renewal', 6.5014545e-05)\n",
      "('learnhowtospeakasacompressionalgorithm', 6.5014516e-05)\n",
      "('returned', 6.501446e-05)\n",
      "('electrecord', 6.501445e-05)\n",
      "('enlarged', 6.501444e-05)\n",
      "('uităte', 6.5014436e-05)\n",
      "('dezintoxirenovarea', 6.5014436e-05)\n",
      "('spartă', 6.501443e-05)\n",
      "('oraș', 6.5014414e-05)\n",
      "('stickinga', 6.5014356e-05)\n",
      "('santana', 6.501434e-05)\n",
      "('spellsout', 6.5014305e-05)\n",
      "('video', 6.5014305e-05)\n",
      "('scribblings', 6.5014305e-05)\n",
      "('persevere', 6.501429e-05)\n",
      "('statements', 6.501426e-05)\n",
      "('obraz', 6.501426e-05)\n",
      "('io', 6.501426e-05)\n",
      "('cerurileprimordiale', 6.501424e-05)\n",
      "('duringatimewhenliteratureandmusicweretheonlyrefugeformanyyoungpeople', 6.501423e-05)\n",
      "('verseconstellatedevolutivecommunities', 6.5014225e-05)\n",
      "('cushions', 6.50142e-05)\n",
      "('knit', 6.50142e-05)\n",
      "('improve', 6.5014196e-05)\n",
      "('fulloflightandmovementlines', 6.5014196e-05)\n",
      "('choir', 6.501418e-05)\n",
      "('selforganized', 6.501416e-05)\n",
      "('generații', 6.501416e-05)\n",
      "('poésie', 6.501415e-05)\n",
      "('visit', 6.5014145e-05)\n"
     ]
    }
   ],
   "source": [
    "\n",
    "for i in range(4210, 4292):\n",
    "              print(l1[i])"
   ]
  },
  {
   "cell_type": "code",
   "execution_count": 24,
   "metadata": {},
   "outputs": [
    {
     "name": "stdout",
     "output_type": "stream",
     "text": [
      "7882\n"
     ]
    }
   ],
   "source": [
    "\n",
    "for i in range(7940):\n",
    "    if l0[i][0]== \"somewitwillwriteabetterverseoemboldenedbythispoorexample\":\n",
    "            print(i)"
   ]
  },
  {
   "cell_type": "code",
   "execution_count": 25,
   "metadata": {},
   "outputs": [
    {
     "name": "stdout",
     "output_type": "stream",
     "text": [
      "2335\n"
     ]
    }
   ],
   "source": [
    "\n",
    "for i in range(7940):\n",
    "    if l1[i][0]== \"somewitwillwriteabetterverseoemboldenedbythispoorexample\":\n",
    "            print(i)"
   ]
  },
  {
   "cell_type": "code",
   "execution_count": 26,
   "metadata": {},
   "outputs": [
    {
     "name": "stdout",
     "output_type": "stream",
     "text": [
      "('dracu', 0.00012363138)\n",
      "('algorithmsofcomposition', 0.0001236307)\n",
      "('ambition', 0.00012362986)\n",
      "('famouslyturneddowneventheirrequesttohavehishaircut', 0.00012362884)\n",
      "('vie', 0.00012362833)\n",
      "('finale', 0.00012362753)\n",
      "('coincidă', 0.00012362633)\n",
      "('joy', 0.0001236263)\n",
      "('serving', 0.0001236252)\n",
      "('lanțul', 0.00012362488)\n",
      "('antidot', 0.00012362459)\n",
      "('eai', 0.00012362315)\n",
      "('blindcheeks', 0.00012362283)\n",
      "('protagonists', 0.00012362115)\n",
      "('divizează', 0.00012362075)\n",
      "('lacualbastru', 0.00012361954)\n",
      "('vocal', 0.00012361775)\n",
      "('selfamericanization', 0.00012361573)\n",
      "('mining', 0.00012361532)\n",
      "('legănânduise', 0.0001236143)\n",
      "('widens', 0.00012361327)\n",
      "('strună', 0.00012361251)\n",
      "('greșeli', 0.0001236114)\n",
      "('algorithmic', 0.00012361008)\n",
      "('buricul', 0.00012361002)\n",
      "('ready', 0.00012360934)\n",
      "('munții', 0.00012360721)\n",
      "('brațele', 0.00012360715)\n",
      "('acute', 0.00012360641)\n",
      "('noduroase', 0.00012360577)\n",
      "('myinitialcontinuingcontrdiction', 0.00012360548)\n",
      "('wwwestcomproeminescuglosshtml', 0.00012360443)\n",
      "('liniște', 0.00012360419)\n",
      "('problems', 0.00012360374)\n",
      "('physical', 0.00012360359)\n",
      "('ruju', 0.00012360202)\n",
      "('deaths', 0.00012360104)\n",
      "('airport', 0.00012360004)\n",
      "('nimfe', 0.0001235997)\n",
      "('completion', 0.00012359921)\n",
      "('scriam', 0.00012359474)\n",
      "('veden', 0.00012359426)\n",
      "('aguirre', 0.00012359317)\n",
      "('somewitwillwriteabetterverseoemboldenedbythispoorexample', 0.00012359231)\n",
      "('lacking', 0.00012359153)\n",
      "('believes', 0.0001235905)\n",
      "('darkened', 0.00012359027)\n",
      "('completing', 0.0001235896)\n",
      "('acquisitionofnoveltiesandanomalies', 0.00012358912)\n",
      "('snap', 0.00012358525)\n",
      "('heempathisedwithitsthirstforfreedomandpeaceitsaversiontowarandbrutality', 0.00012358488)\n",
      "('momentîntimp', 0.00012358418)\n",
      "('resultant', 0.00012358215)\n",
      "('theairwebreathe', 0.00012358137)\n",
      "('convergente', 0.00012357981)\n",
      "('fortunately', 0.00012357935)\n",
      "('nadie', 0.00012357929)\n",
      "('properties', 0.00012357786)\n",
      "('andpère', 0.00012357488)\n",
      "('protestând', 0.00012357275)\n",
      "('pero', 0.00012357267)\n",
      "('învârtit', 0.00012357249)\n",
      "('urmă', 0.00012357208)\n",
      "('săncerce', 0.00012357181)\n",
      "('ambiguous', 0.00012357149)\n",
      "('condiția', 0.00012356996)\n",
      "('buildingblock', 0.00012356897)\n",
      "('lessons', 0.00012356836)\n",
      "('compress', 0.00012356832)\n",
      "('held', 0.00012356654)\n",
      "('choices', 0.0001235659)\n",
      "('adapt', 0.00012356503)\n",
      "('fantasytext', 0.00012356372)\n",
      "('vaudeville—characterized', 0.00012356097)\n",
      "('discursivă', 0.00012355996)\n",
      "('suna', 0.00012355976)\n",
      "('amazon', 0.00012355902)\n",
      "('mirării', 0.00012355813)\n",
      "('whatifitwereowhat', 0.00012355713)\n",
      "('gon', 0.00012355493)\n",
      "('sirises', 0.00012355168)\n",
      "('drops', 0.00012354774)\n",
      "('albums', 0.00012354589)\n",
      "('poesia', 0.00012354479)\n",
      "('bible', 0.00012353592)\n",
      "('bag', 0.00012353559)\n",
      "('providesatranslationthathasadifferentrhythmandmeter', 0.00012353389)\n",
      "('jove', 0.00012352726)\n",
      "('rely', 0.00012352518)\n",
      "('evolved', 0.00012352451)\n",
      "('pheromonetrails', 0.0001235179)\n",
      "('station', 0.00012351562)\n",
      "('vivid', 0.00012350669)\n",
      "('niște', 0.00012350536)\n",
      "('whospeaksinanalgorithm', 0.0001235036)\n",
      "('ceasul', 0.00012349914)\n",
      "('topităn', 0.00012349723)\n",
      "('mixed', 0.00012349157)\n",
      "('plantele', 0.00012348357)\n",
      "('șobolan', 0.00012347214)\n"
     ]
    }
   ],
   "source": [
    "\n",
    "for i in range(7839, 7939):\n",
    "              print(l0[i])"
   ]
  },
  {
   "cell_type": "code",
   "execution_count": 27,
   "metadata": {},
   "outputs": [
    {
     "name": "stdout",
     "output_type": "stream",
     "text": [
      "('bible', 6.5075015e-05)\n",
      "('poesia', 6.507341e-05)\n",
      "('albums', 6.50732e-05)\n",
      "('drops', 6.507289e-05)\n",
      "('sirises', 6.507219e-05)\n",
      "('gon', 6.507159e-05)\n",
      "('whatifitwereowhat', 6.50712e-05)\n",
      "('mirării', 6.507101e-05)\n",
      "('amazon', 6.507086e-05)\n",
      "('suna', 6.507074e-05)\n",
      "('discursivă', 6.507067e-05)\n",
      "('vaudeville—characterized', 6.507048e-05)\n",
      "('fantasytext', 6.507001e-05)\n",
      "('adapt', 6.506977e-05)\n",
      "('choices', 6.506961e-05)\n",
      "('held', 6.506948e-05)\n",
      "('compress', 6.5069195e-05)\n",
      "('lessons', 6.5069195e-05)\n",
      "('buildingblock', 6.506907e-05)\n",
      "('condiția', 6.506888e-05)\n",
      "('ambiguous', 6.506861e-05)\n",
      "('săncerce', 6.506852e-05)\n",
      "('urmă', 6.506851e-05)\n",
      "('învârtit', 6.506843e-05)\n",
      "('pero', 6.5068394e-05)\n",
      "('protestând', 6.506839e-05)\n",
      "('andpère', 6.506798e-05)\n",
      "('properties', 6.5067485e-05)\n",
      "('fortunately', 6.5067194e-05)\n",
      "('nadie', 6.506717e-05)\n",
      "('convergente', 6.506712e-05)\n",
      "('theairwebreathe', 6.506683e-05)\n",
      "('resultant', 6.5066706e-05)\n",
      "('momentîntimp', 6.506632e-05)\n",
      "('heempathisedwithitsthirstforfreedomandpeaceitsaversiontowarandbrutality', 6.506619e-05)\n",
      "('snap', 6.506612e-05)\n",
      "('acquisitionofnoveltiesandanomalies', 6.506541e-05)\n",
      "('completing', 6.506534e-05)\n",
      "('darkened', 6.506522e-05)\n",
      "('believes', 6.506519e-05)\n",
      "('lacking', 6.506497e-05)\n",
      "('somewitwillwriteabetterverseoemboldenedbythispoorexample', 6.506483e-05)\n",
      "('aguirre', 6.506464e-05)\n",
      "('veden', 6.50645e-05)\n",
      "('scriam', 6.50644e-05)\n",
      "('completion', 6.506359e-05)\n",
      "('nimfe', 6.5063476e-05)\n",
      "('airport', 6.506342e-05)\n",
      "('deaths', 6.506327e-05)\n",
      "('ruju', 6.506309e-05)\n",
      "('physical', 6.5062784e-05)\n",
      "('problems', 6.506276e-05)\n",
      "('liniște', 6.506271e-05)\n",
      "('wwwestcomproeminescuglosshtml', 6.506263e-05)\n",
      "('myinitialcontinuingcontrdiction', 6.5062486e-05)\n",
      "('noduroase', 6.506243e-05)\n",
      "('acute', 6.506229e-05)\n",
      "('munții', 6.5062195e-05)\n",
      "('brațele', 6.5062144e-05)\n",
      "('ready', 6.5061766e-05)\n",
      "('buricul', 6.506164e-05)\n",
      "('algorithmic', 6.5061635e-05)\n",
      "('greșeli', 6.506137e-05)\n",
      "('strună', 6.506116e-05)\n",
      "('widens', 6.506107e-05)\n",
      "('legănânduise', 6.506086e-05)\n",
      "('mining', 6.50607e-05)\n",
      "('selfamericanization', 6.506063e-05)\n",
      "('vocal', 6.506028e-05)\n",
      "('lacualbastru', 6.505992e-05)\n",
      "('divizează', 6.505974e-05)\n",
      "('protagonists', 6.505964e-05)\n",
      "('blindcheeks', 6.505932e-05)\n",
      "('eai', 6.505926e-05)\n",
      "('antidot', 6.505902e-05)\n",
      "('lanțul', 6.5058965e-05)\n",
      "('serving', 6.50589e-05)\n",
      "('joy', 6.5058724e-05)\n",
      "('coincidă', 6.50587e-05)\n",
      "('finale', 6.505848e-05)\n",
      "('vie', 6.505836e-05)\n",
      "('famouslyturneddowneventheirrequesttohavehishaircut', 6.505822e-05)\n"
     ]
    }
   ],
   "source": [
    "\n",
    "for i in range(2294, 2376):\n",
    "              print(l1[i])"
   ]
  },
  {
   "cell_type": "code",
   "execution_count": 28,
   "metadata": {},
   "outputs": [
    {
     "name": "stdout",
     "output_type": "stream",
     "text": [
      "4105\n"
     ]
    }
   ],
   "source": [
    "\n",
    "for i in range(7940):\n",
    "    if l0[i][0]== \"canyouenvisageoinyourworkaplaceforthisofordialogueandfrankdiscussion\":\n",
    "            print(i)"
   ]
  },
  {
   "cell_type": "code",
   "execution_count": 29,
   "metadata": {},
   "outputs": [
    {
     "name": "stdout",
     "output_type": "stream",
     "text": [
      "6113\n"
     ]
    }
   ],
   "source": [
    "for i in range(7940):\n",
    "    if l1[i][0]== \"canyouenvisageoinyourworkaplaceforthisofordialogueandfrankdiscussion\":\n",
    "            print(i)"
   ]
  },
  {
   "cell_type": "code",
   "execution_count": 30,
   "metadata": {},
   "outputs": [
    {
     "name": "stdout",
     "output_type": "stream",
     "text": [
      "('frumoasă', 0.00012400112)\n",
      "('secolul', 0.00012400108)\n",
      "('officer', 0.00012400102)\n",
      "('fifteenminute', 0.0001240008)\n",
      "('writtenscripts', 0.0001240007)\n",
      "('morminte', 0.00012400068)\n",
      "('ripped', 0.0001240006)\n",
      "('ştiut', 0.0001240006)\n",
      "('consumption—', 0.00012400046)\n",
      "('execuţii', 0.00012400038)\n",
      "('moods', 0.0001240003)\n",
      "('strategiesforcomposition', 0.00012400025)\n",
      "('salvaged', 0.00012400022)\n",
      "('pereți', 0.0001240002)\n",
      "('blame', 0.00012400003)\n",
      "('îngână', 0.00012399987)\n",
      "('frenzyofsongwithintheflux', 0.00012399977)\n",
      "('readerininternationalmediapiracy', 0.00012399974)\n",
      "('celeilalte', 0.00012399962)\n",
      "('xxx', 0.0001239996)\n",
      "('sculă', 0.00012399956)\n",
      "('organele', 0.00012399949)\n",
      "('108', 0.00012399926)\n",
      "('leafy', 0.00012399913)\n",
      "('reducible', 0.00012399901)\n",
      "('illusionofessentialuniqueidentity', 0.00012399901)\n",
      "('bardot', 0.00012399873)\n",
      "('replenishment', 0.00012399863)\n",
      "('classical', 0.00012399859)\n",
      "('cărui', 0.00012399859)\n",
      "('dissecting', 0.00012399856)\n",
      "('whitman', 0.00012399853)\n",
      "('toute', 0.00012399815)\n",
      "('interview', 0.00012399808)\n",
      "('rezultatele', 0.00012399806)\n",
      "('poemautomatizat', 0.00012399802)\n",
      "('spuse', 0.00012399798)\n",
      "('cătușele', 0.00012399786)\n",
      "('knackered', 0.0001239978)\n",
      "('textanalysis', 0.00012399773)\n",
      "('import', 0.00012399766)\n",
      "('canyouenvisageoinyourworkaplaceforthisofordialogueandfrankdiscussion', 0.00012399764)\n",
      "('nuntro', 0.00012399764)\n",
      "('species', 0.00012399757)\n",
      "('manner', 0.00012399757)\n",
      "('structure', 0.0001239975)\n",
      "('ecologice', 0.00012399741)\n",
      "('speechacts', 0.00012399738)\n",
      "('breast', 0.00012399734)\n",
      "('counterpart', 0.00012399712)\n",
      "('artwork', 0.00012399709)\n",
      "('rockandroll', 0.00012399702)\n",
      "('characterized', 0.00012399694)\n",
      "('clichésandlamentation', 0.00012399642)\n",
      "('shrug', 0.0001239964)\n",
      "('identificase', 0.00012399637)\n",
      "('milk', 0.00012399633)\n",
      "('libidândul', 0.00012399632)\n",
      "('criticallytranslate', 0.00012399621)\n",
      "('steep', 0.00012399616)\n",
      "('whatwouldisay', 0.00012399597)\n",
      "('shaped', 0.00012399595)\n",
      "('morsel', 0.00012399594)\n",
      "('înmulțește', 0.00012399594)\n",
      "('itspresidentkennedycallingmeup', 0.00012399592)\n",
      "('pelicule', 0.0001239959)\n",
      "('publishers', 0.0001239958)\n",
      "('criticalimagination', 0.00012399576)\n",
      "('suprapună', 0.00012399575)\n",
      "('august', 0.00012399552)\n",
      "('mânmâncaicaiaș', 0.00012399552)\n",
      "('scrambleorchestras', 0.00012399549)\n",
      "('toți', 0.00012399533)\n",
      "('suspended', 0.00012399518)\n",
      "('obfuscation', 0.00012399505)\n",
      "('simplicity', 0.00012399493)\n",
      "('separated', 0.00012399486)\n",
      "('clare', 0.00012399479)\n",
      "('facto', 0.00012399477)\n",
      "('datum', 0.00012399477)\n",
      "('janet', 0.00012399466)\n",
      "('inherited', 0.0001239946)\n"
     ]
    }
   ],
   "source": [
    "\n",
    "for i in range(4064, 4146):\n",
    "              print(l0[i])"
   ]
  },
  {
   "cell_type": "code",
   "execution_count": 31,
   "metadata": {},
   "outputs": [
    {
     "name": "stdout",
     "output_type": "stream",
     "text": [
      "('janet', 6.499217e-05)\n",
      "('inherited', 6.4992164e-05)\n",
      "('facto', 6.499214e-05)\n",
      "('clare', 6.4992135e-05)\n",
      "('datum', 6.499212e-05)\n",
      "('separated', 6.499211e-05)\n",
      "('simplicity', 6.499211e-05)\n",
      "('obfuscation', 6.49921e-05)\n",
      "('suspended', 6.499208e-05)\n",
      "('toți', 6.4992026e-05)\n",
      "('august', 6.4992004e-05)\n",
      "('scrambleorchestras', 6.4992e-05)\n",
      "('mânmâncaicaiaș', 6.499199e-05)\n",
      "('înmulțește', 6.499195e-05)\n",
      "('pelicule', 6.4991946e-05)\n",
      "('suprapună', 6.499193e-05)\n",
      "('criticalimagination', 6.499193e-05)\n",
      "('publishers', 6.4991924e-05)\n",
      "('whatwouldisay', 6.499192e-05)\n",
      "('shaped', 6.499192e-05)\n",
      "('morsel', 6.4991895e-05)\n",
      "('steep', 6.4991895e-05)\n",
      "('itspresidentkennedycallingmeup', 6.4991895e-05)\n",
      "('criticallytranslate', 6.499188e-05)\n",
      "('milk', 6.4991844e-05)\n",
      "('identificase', 6.4991844e-05)\n",
      "('libidândul', 6.4991844e-05)\n",
      "('clichésandlamentation', 6.499183e-05)\n",
      "('shrug', 6.49918e-05)\n",
      "('characterized', 6.499176e-05)\n",
      "('rockandroll', 6.499174e-05)\n",
      "('counterpart', 6.4991706e-05)\n",
      "('artwork', 6.4991706e-05)\n",
      "('breast', 6.499168e-05)\n",
      "('speechacts', 6.499168e-05)\n",
      "('ecologice', 6.4991655e-05)\n",
      "('structure', 6.499164e-05)\n",
      "('species', 6.499163e-05)\n",
      "('nuntro', 6.4991626e-05)\n",
      "('import', 6.499162e-05)\n",
      "('manner', 6.4991604e-05)\n",
      "('canyouenvisageoinyourworkaplaceforthisofordialogueandfrankdiscussion', 6.4991604e-05)\n",
      "('knackered', 6.49916e-05)\n",
      "('cătușele', 6.499157e-05)\n",
      "('textanalysis', 6.499156e-05)\n",
      "('poemautomatizat', 6.499155e-05)\n",
      "('interview', 6.499154e-05)\n",
      "('rezultatele', 6.499153e-05)\n",
      "('spuse', 6.499153e-05)\n",
      "('toute', 6.499151e-05)\n",
      "('whitman', 6.4991465e-05)\n",
      "('classical', 6.499146e-05)\n",
      "('cărui', 6.4991444e-05)\n",
      "('dissecting', 6.4991444e-05)\n",
      "('bardot', 6.499142e-05)\n",
      "('replenishment', 6.499141e-05)\n",
      "('illusionofessentialuniqueidentity', 6.4991385e-05)\n",
      "('reducible', 6.499136e-05)\n",
      "('leafy', 6.4991335e-05)\n",
      "('108', 6.49913e-05)\n",
      "('organele', 6.4991276e-05)\n",
      "('celeilalte', 6.499126e-05)\n",
      "('xxx', 6.4991254e-05)\n",
      "('readerininternationalmediapiracy', 6.499124e-05)\n",
      "('sculă', 6.4991225e-05)\n",
      "('îngână', 6.499122e-05)\n",
      "('frenzyofsongwithintheflux', 6.499122e-05)\n",
      "('blame', 6.499118e-05)\n",
      "('salvaged', 6.499115e-05)\n",
      "('pereți', 6.4991145e-05)\n",
      "('strategiesforcomposition', 6.4991145e-05)\n",
      "('moods', 6.499113e-05)\n",
      "('consumption—', 6.499111e-05)\n",
      "('execuţii', 6.49911e-05)\n",
      "('ştiut', 6.4991094e-05)\n",
      "('writtenscripts', 6.4991065e-05)\n",
      "('ripped', 6.4991065e-05)\n",
      "('morminte', 6.499106e-05)\n",
      "('fifteenminute', 6.499102e-05)\n",
      "('officer', 6.499101e-05)\n",
      "('secolul', 6.4990985e-05)\n",
      "('grandmother', 6.4990985e-05)\n"
     ]
    }
   ],
   "source": [
    "for i in range(6072, 6154):\n",
    "              print(l1[i])"
   ]
  },
  {
   "cell_type": "code",
   "execution_count": 18,
   "metadata": {},
   "outputs": [
    {
     "name": "stdout",
     "output_type": "stream",
     "text": [
      "5475\n"
     ]
    }
   ],
   "source": [
    "\n",
    "for i in range(7957):\n",
    "    if l0[i][0]== \"wakeupmypoetlookandseeotheworldiscentrednotroundthee\":\n",
    "            print(i)"
   ]
  },
  {
   "cell_type": "code",
   "execution_count": 19,
   "metadata": {},
   "outputs": [
    {
     "name": "stdout",
     "output_type": "stream",
     "text": [
      "4750\n"
     ]
    }
   ],
   "source": [
    "\n",
    "for i in range(7957):\n",
    "    if l1[i][0]== \"wakeupmypoetlookandseeotheworldiscentrednotroundthee\":\n",
    "            print(i)"
   ]
  },
  {
   "cell_type": "code",
   "execution_count": 20,
   "metadata": {},
   "outputs": [
    {
     "name": "stdout",
     "output_type": "stream",
     "text": [
      "('xxxiii', 6.482153e-05)\n",
      "('simți', 6.482153e-05)\n",
      "('mobile', 6.4821514e-05)\n",
      "('regulă', 6.4821514e-05)\n",
      "('plimbărilor', 6.4821514e-05)\n",
      "('lipit', 6.4821514e-05)\n",
      "('westernworld', 6.48215e-05)\n",
      "('exposure', 6.482149e-05)\n",
      "('pinning', 6.482149e-05)\n",
      "('mail', 6.482149e-05)\n",
      "('transmite', 6.482149e-05)\n",
      "('affective', 6.482149e-05)\n",
      "('leather', 6.4821485e-05)\n",
      "('extreme', 6.4821485e-05)\n",
      "('setofrulesgoverningactions', 6.4821485e-05)\n",
      "('1975', 6.4821485e-05)\n",
      "('composing', 6.4821485e-05)\n",
      "('burs', 6.4821485e-05)\n",
      "('vertical', 6.4821485e-05)\n",
      "('compress', 6.482148e-05)\n",
      "('această', 6.482148e-05)\n",
      "('aud', 6.482148e-05)\n",
      "('conducătoare', 6.482147e-05)\n",
      "('interruptions', 6.482146e-05)\n",
      "('flick', 6.482146e-05)\n",
      "('thick', 6.4821455e-05)\n",
      "('disentanglement', 6.482145e-05)\n",
      "('cet', 6.482145e-05)\n",
      "('destroying', 6.482144e-05)\n",
      "('bury', 6.482144e-05)\n",
      "('picturepostcardcharms', 6.482144e-05)\n",
      "('orchestre', 6.482144e-05)\n",
      "('frominsidethesubjectpositionofaspeakingalgorithm', 6.482144e-05)\n",
      "('doesitseeitself', 6.482144e-05)\n",
      "('soft', 6.482143e-05)\n",
      "('eachsongprecededbyhisown', 6.482143e-05)\n",
      "('tore', 6.482143e-05)\n",
      "('mothers', 6.4821426e-05)\n",
      "('ţara', 6.4821426e-05)\n",
      "('cinetice', 6.4821426e-05)\n",
      "('passion', 6.4821426e-05)\n",
      "('wakeupmypoetlookandseeotheworldiscentrednotroundthee', 6.482142e-05)\n",
      "('producer', 6.482142e-05)\n",
      "('observed', 6.482142e-05)\n",
      "('properties', 6.482142e-05)\n",
      "('reamintirea', 6.482142e-05)\n",
      "('3817', 6.4821405e-05)\n",
      "('casanecreascataracalanuldestevie', 6.4821405e-05)\n",
      "('withooyourself', 6.4821405e-05)\n",
      "('niciun', 6.48214e-05)\n",
      "('nightmarketplace', 6.482139e-05)\n",
      "('producedprogrammatically', 6.482139e-05)\n",
      "('damning', 6.482139e-05)\n",
      "('composed', 6.482139e-05)\n",
      "('proved', 6.482139e-05)\n",
      "('rumour', 6.482139e-05)\n",
      "('wearealltakentipsy', 6.482139e-05)\n",
      "('stringsofmyguitar', 6.4821375e-05)\n",
      "('semn', 6.4821375e-05)\n",
      "('same—digital—page', 6.482137e-05)\n",
      "('canadian', 6.482137e-05)\n",
      "('ținta', 6.482137e-05)\n",
      "('systemofpositions', 6.482136e-05)\n",
      "('audienceasother', 6.482135e-05)\n",
      "('undeprindeunorificiuînmodexpresîncapacanădelicille', 6.4821346e-05)\n",
      "('libertate', 6.4821346e-05)\n",
      "('wrapped', 6.4821346e-05)\n",
      "('blondă', 6.4821346e-05)\n",
      "('replacements', 6.4821346e-05)\n",
      "('ghostofaviation', 6.482134e-05)\n",
      "('grabs', 6.482134e-05)\n",
      "('deceit', 6.482134e-05)\n",
      "('graandpère', 6.482133e-05)\n",
      "('ov', 6.482133e-05)\n",
      "('lively', 6.482133e-05)\n",
      "('thirstforknowingallkindsofthings', 6.482133e-05)\n",
      "('diversified', 6.4821324e-05)\n",
      "('cassettes', 6.4821324e-05)\n",
      "('hoarde', 6.4821324e-05)\n",
      "('horn', 6.4821324e-05)\n",
      "('incomplete', 6.482132e-05)\n",
      "('stiu', 6.482131e-05)\n"
     ]
    }
   ],
   "source": [
    "\n",
    "for i in range(5434, 5516):\n",
    "              print(l0[i])"
   ]
  },
  {
   "cell_type": "code",
   "execution_count": 21,
   "metadata": {},
   "outputs": [
    {
     "name": "stdout",
     "output_type": "stream",
     "text": [
      "('sărea', 0.000125388)\n",
      "('graandpère', 0.00012538799)\n",
      "('safe', 0.00012538797)\n",
      "('thirstforknowingallkindsofthings', 0.00012538792)\n",
      "('songsformyself', 0.00012538787)\n",
      "('unrelenting', 0.00012538786)\n",
      "('undeprindeunorificiuînmodexpresîncapacanădelicille', 0.00012538784)\n",
      "('stiu', 0.00012538784)\n",
      "('diversified', 0.00012538784)\n",
      "('incomplete', 0.00012538783)\n",
      "('minoră', 0.00012538781)\n",
      "('lively', 0.0001253878)\n",
      "('hoarde', 0.00012538779)\n",
      "('horn', 0.00012538779)\n",
      "('deceit', 0.00012538777)\n",
      "('audienceasother', 0.00012538777)\n",
      "('cassettes', 0.00012538776)\n",
      "('ghostofaviation', 0.00012538776)\n",
      "('ov', 0.00012538771)\n",
      "('wrapped', 0.00012538768)\n",
      "('replacements', 0.00012538768)\n",
      "('blondă', 0.00012538765)\n",
      "('grabs', 0.00012538764)\n",
      "('systemofpositions', 0.00012538764)\n",
      "('same—digital—page', 0.00012538763)\n",
      "('semn', 0.0001253876)\n",
      "('libertate', 0.00012538758)\n",
      "('niciun', 0.00012538757)\n",
      "('stringsofmyguitar', 0.00012538757)\n",
      "('wearealltakentipsy', 0.00012538757)\n",
      "('rumour', 0.00012538755)\n",
      "('proved', 0.00012538755)\n",
      "('ținta', 0.00012538752)\n",
      "('producedprogrammatically', 0.0001253875)\n",
      "('composed', 0.00012538748)\n",
      "('canadian', 0.00012538747)\n",
      "('properties', 0.00012538745)\n",
      "('reamintirea', 0.00012538745)\n",
      "('cinetice', 0.00012538742)\n",
      "('tore', 0.00012538742)\n",
      "('3817', 0.00012538742)\n",
      "('wakeupmypoetlookandseeotheworldiscentrednotroundthee', 0.0001253874)\n",
      "('withooyourself', 0.0001253874)\n",
      "('damning', 0.00012538739)\n",
      "('casanecreascataracalanuldestevie', 0.00012538738)\n",
      "('soft', 0.00012538735)\n",
      "('mothers', 0.00012538733)\n",
      "('nightmarketplace', 0.00012538732)\n",
      "('observed', 0.00012538729)\n",
      "('eachsongprecededbyhisown', 0.00012538728)\n",
      "('destroying', 0.00012538726)\n",
      "('ţara', 0.00012538725)\n",
      "('passion', 0.00012538723)\n",
      "('frominsidethesubjectpositionofaspeakingalgorithm', 0.00012538723)\n",
      "('producer', 0.00012538723)\n",
      "('bury', 0.00012538723)\n",
      "('orchestre', 0.00012538722)\n",
      "('interruptions', 0.00012538719)\n",
      "('doesitseeitself', 0.00012538715)\n",
      "('cet', 0.00012538713)\n",
      "('picturepostcardcharms', 0.0001253871)\n",
      "('burs', 0.00012538707)\n",
      "('thick', 0.00012538707)\n",
      "('flick', 0.00012538703)\n",
      "('această', 0.00012538703)\n",
      "('setofrulesgoverningactions', 0.00012538703)\n",
      "('composing', 0.00012538701)\n",
      "('leather', 0.00012538699)\n",
      "('conducătoare', 0.00012538699)\n",
      "('1975', 0.00012538699)\n",
      "('regulă', 0.00012538697)\n",
      "('mail', 0.00012538697)\n",
      "('pinning', 0.00012538697)\n",
      "('extreme', 0.00012538694)\n",
      "('mobile', 0.00012538694)\n",
      "('exposure', 0.00012538694)\n",
      "('compress', 0.00012538691)\n",
      "('aud', 0.00012538691)\n",
      "('disentanglement', 0.00012538688)\n",
      "('affective', 0.00012538687)\n",
      "('vertical', 0.00012538685)\n",
      "('transmite', 0.00012538684)\n"
     ]
    }
   ],
   "source": [
    "\n",
    "for i in range(4709, 4791):\n",
    "              print(l1[i])"
   ]
  },
  {
   "cell_type": "code",
   "execution_count": null,
   "metadata": {},
   "outputs": [],
   "source": [
    "\n",
    "# at this stage we pick from each line of the original the word that is closest to the line[s] that automatically translated the line[s] picked from that stanza of the same original; \n",
    "# the first case here [stanza iv, xxi], the lines \"wake up my poet look and see/ the world is centred not round thee\" were translated by \"produced programmatically — in fact,/ the forms are, in essence, programs for production\"\n",
    "# hence we look in each line for the word[s] closest in both topics to these two latter lines"
   ]
  },
  {
   "cell_type": "code",
   "execution_count": 22,
   "metadata": {},
   "outputs": [
    {
     "name": "stdout",
     "output_type": "stream",
     "text": [
      "5115\n"
     ]
    }
   ],
   "source": [
    "\n",
    "for i in range(7957):\n",
    "    if l0[i][0]== \"stifling\":\n",
    "            print(i)"
   ]
  },
  {
   "cell_type": "code",
   "execution_count": 24,
   "metadata": {},
   "outputs": [
    {
     "name": "stdout",
     "output_type": "stream",
     "text": [
      "428\n"
     ]
    }
   ],
   "source": [
    "\n",
    "for i in range(7957):\n",
    "    if l0[i][0]== \"nature\":\n",
    "            print(i)"
   ]
  },
  {
   "cell_type": "code",
   "execution_count": 25,
   "metadata": {},
   "outputs": [
    {
     "name": "stdout",
     "output_type": "stream",
     "text": [
      "57\n"
     ]
    }
   ],
   "source": [
    "\n",
    "for i in range(7957):\n",
    "    if l0[i][0]== \"writing\":\n",
    "            print(i)"
   ]
  },
  {
   "cell_type": "code",
   "execution_count": 26,
   "metadata": {},
   "outputs": [
    {
     "name": "stdout",
     "output_type": "stream",
     "text": [
      "3306\n"
     ]
    }
   ],
   "source": [
    "\n",
    "for i in range(7957):\n",
    "    if l0[i][0]== \"wringing\":\n",
    "            print(i)"
   ]
  },
  {
   "cell_type": "code",
   "execution_count": 27,
   "metadata": {},
   "outputs": [
    {
     "name": "stdout",
     "output_type": "stream",
     "text": [
      "453\n"
     ]
    }
   ],
   "source": [
    "\n",
    "for i in range(7957):\n",
    "    if l0[i][0]== \"truth\":\n",
    "            print(i)"
   ]
  },
  {
   "cell_type": "code",
   "execution_count": 28,
   "metadata": {},
   "outputs": [
    {
     "name": "stdout",
     "output_type": "stream",
     "text": [
      "107\n"
     ]
    }
   ],
   "source": [
    "for i in range(7957):\n",
    "    if l0[i][0]== \"words\":\n",
    "            print(i)"
   ]
  },
  {
   "cell_type": "code",
   "execution_count": 29,
   "metadata": {},
   "outputs": [
    {
     "name": "stdout",
     "output_type": "stream",
     "text": [
      "134\n"
     ]
    }
   ],
   "source": [
    "for i in range(7957):\n",
    "    if l0[i][0]== \"best\":\n",
    "            print(i)"
   ]
  },
  {
   "cell_type": "code",
   "execution_count": 30,
   "metadata": {},
   "outputs": [
    {
     "name": "stdout",
     "output_type": "stream",
     "text": [
      "588\n"
     ]
    }
   ],
   "source": [
    "\n",
    "for i in range(7957):\n",
    "    if l0[i][0]== \"sad\":\n",
    "            print(i)"
   ]
  },
  {
   "cell_type": "code",
   "execution_count": 32,
   "metadata": {},
   "outputs": [
    {
     "name": "stdout",
     "output_type": "stream",
     "text": [
      "541\n"
     ]
    }
   ],
   "source": [
    "for i in range(7957):\n",
    "    if l0[i][0]== \"worst\":\n",
    "            print(i)"
   ]
  },
  {
   "cell_type": "code",
   "execution_count": 33,
   "metadata": {},
   "outputs": [
    {
     "name": "stdout",
     "output_type": "stream",
     "text": [
      "5229\n"
     ]
    }
   ],
   "source": [
    "for i in range(7957):\n",
    "    if l0[i][0]== \"morbid\":\n",
    "            print(i)"
   ]
  },
  {
   "cell_type": "code",
   "execution_count": 34,
   "metadata": {},
   "outputs": [
    {
     "name": "stdout",
     "output_type": "stream",
     "text": [
      "1727\n"
     ]
    }
   ],
   "source": [
    "for i in range(7957):\n",
    "    if l0[i][0]== \"inbetween\":\n",
    "            print(i)"
   ]
  },
  {
   "cell_type": "code",
   "execution_count": 35,
   "metadata": {},
   "outputs": [
    {
     "name": "stdout",
     "output_type": "stream",
     "text": [
      "33\n"
     ]
    }
   ],
   "source": [
    "for i in range(7957):\n",
    "    if l0[i][0]== \"two\":\n",
    "            print(i)"
   ]
  },
  {
   "cell_type": "code",
   "execution_count": 39,
   "metadata": {},
   "outputs": [
    {
     "name": "stdout",
     "output_type": "stream",
     "text": [
      "460\n"
     ]
    }
   ],
   "source": [
    "for i in range(7957):\n",
    "    if l0[i][0]== \"go\":\n",
    "            print(i)"
   ]
  },
  {
   "cell_type": "code",
   "execution_count": 40,
   "metadata": {},
   "outputs": [
    {
     "name": "stdout",
     "output_type": "stream",
     "text": [
      "714\n"
     ]
    }
   ],
   "source": [
    "\n",
    "for i in range(7957):\n",
    "    if l0[i][0]== \"fourfour\":\n",
    "            print(i)"
   ]
  },
  {
   "cell_type": "code",
   "execution_count": 41,
   "metadata": {},
   "outputs": [
    {
     "name": "stdout",
     "output_type": "stream",
     "text": [
      "174\n"
     ]
    }
   ],
   "source": [
    "for i in range(7957):\n",
    "    if l0[i][0]== \"rhythm\":\n",
    "            print(i)"
   ]
  },
  {
   "cell_type": "code",
   "execution_count": 42,
   "metadata": {},
   "outputs": [
    {
     "name": "stdout",
     "output_type": "stream",
     "text": [
      "349\n"
     ]
    }
   ],
   "source": [
    "for i in range(7957):\n",
    "    if l0[i][0]== \"rhyme\":\n",
    "            print(i)"
   ]
  },
  {
   "cell_type": "code",
   "execution_count": 43,
   "metadata": {},
   "outputs": [
    {
     "name": "stdout",
     "output_type": "stream",
     "text": [
      "5987\n"
     ]
    }
   ],
   "source": [
    "\n",
    "for i in range(7957):\n",
    "    if l0[i][0]== \"itakeyourpointsmypoetsaid\":\n",
    "            print(i)"
   ]
  },
  {
   "cell_type": "code",
   "execution_count": 44,
   "metadata": {},
   "outputs": [
    {
     "name": "stdout",
     "output_type": "stream",
     "text": [
      "4254\n"
     ]
    }
   ],
   "source": [
    "\n",
    "for i in range(7957):\n",
    "    if l1[i][0]== \"itakeyourpointsmypoetsaid\":\n",
    "            print(i)"
   ]
  },
  {
   "cell_type": "code",
   "execution_count": 45,
   "metadata": {},
   "outputs": [
    {
     "name": "stdout",
     "output_type": "stream",
     "text": [
      "('roughstuff', 6.482023e-05)\n",
      "('origin', 6.4820226e-05)\n",
      "('passage', 6.482022e-05)\n",
      "('animată', 6.482022e-05)\n",
      "('algorithmictechniquesforprocedural', 6.482022e-05)\n",
      "('bright', 6.482021e-05)\n",
      "('altor', 6.482021e-05)\n",
      "('admirable', 6.482021e-05)\n",
      "('neamule', 6.482021e-05)\n",
      "('prototyp', 6.482021e-05)\n",
      "('chris', 6.482021e-05)\n",
      "('passe', 6.482021e-05)\n",
      "('lacking', 6.482021e-05)\n",
      "('raw', 6.48202e-05)\n",
      "('revolt', 6.48202e-05)\n",
      "('distinction', 6.482019e-05)\n",
      "('dorința', 6.482019e-05)\n",
      "('impacted', 6.482019e-05)\n",
      "('agenţie', 6.482018e-05)\n",
      "('productive', 6.482017e-05)\n",
      "('disposing', 6.482017e-05)\n",
      "('willdeepenpeepinglovers', 6.482017e-05)\n",
      "('laugh', 6.482016e-05)\n",
      "('revered', 6.482016e-05)\n",
      "('instancesofuse', 6.4820146e-05)\n",
      "('iguessthatisthetruth', 6.4820146e-05)\n",
      "('whirring', 6.4820146e-05)\n",
      "('ad', 6.4820146e-05)\n",
      "('guitar', 6.4820146e-05)\n",
      "('eforturilor', 6.482014e-05)\n",
      "('animalele', 6.482014e-05)\n",
      "('erbaccepress', 6.482014e-05)\n",
      "('bachelor', 6.482013e-05)\n",
      "('escapism', 6.4820124e-05)\n",
      "('month', 6.4820124e-05)\n",
      "('notorious', 6.4820124e-05)\n",
      "('sundontshineabovetheground', 6.4820124e-05)\n",
      "('trimis', 6.482012e-05)\n",
      "('capricii', 6.482012e-05)\n",
      "('definitely', 6.482012e-05)\n",
      "('acknowledgementofthe', 6.482012e-05)\n",
      "('itakeyourpointsmypoetsaid', 6.482011e-05)\n",
      "('ah', 6.482011e-05)\n",
      "('enjoy', 6.482011e-05)\n",
      "('pouches', 6.482011e-05)\n",
      "('rhetorically', 6.482011e-05)\n",
      "('cords', 6.4820095e-05)\n",
      "('creatures', 6.4820095e-05)\n",
      "('ultima', 6.4820095e-05)\n",
      "('algorithmsarealsowrittenlanguage', 6.4820095e-05)\n",
      "('morph', 6.4820095e-05)\n",
      "('time—of', 6.4820095e-05)\n",
      "('controls', 6.482009e-05)\n",
      "('tânăra', 6.482009e-05)\n",
      "('tencoa', 6.482009e-05)\n",
      "('protecţie', 6.482009e-05)\n",
      "('ending', 6.482009e-05)\n",
      "('firea', 6.482009e-05)\n",
      "('amușinând', 6.482009e-05)\n",
      "('slashings', 6.482009e-05)\n",
      "('schwitters', 6.482008e-05)\n",
      "('rostesc', 6.482007e-05)\n",
      "('connotations', 6.482007e-05)\n",
      "('maid', 6.482007e-05)\n",
      "('moarte', 6.482007e-05)\n",
      "('înecare', 6.4820066e-05)\n",
      "('deabia', 6.482006e-05)\n",
      "('insulă', 6.482006e-05)\n",
      "('herds', 6.482005e-05)\n",
      "('gifted', 6.482005e-05)\n",
      "('niște', 6.482005e-05)\n",
      "('neveste', 6.482005e-05)\n",
      "('zoomorphseatthebloodofmemes', 6.482005e-05)\n",
      "('admit', 6.482005e-05)\n",
      "('personality', 6.482005e-05)\n",
      "('conducpământul', 6.482005e-05)\n",
      "('policeman', 6.4820044e-05)\n",
      "('staging', 6.482004e-05)\n",
      "('canibalii', 6.482004e-05)\n",
      "('execută', 6.482004e-05)\n",
      "('sellby', 6.482004e-05)\n",
      "('neighbor', 6.482004e-05)\n"
     ]
    }
   ],
   "source": [
    "\n",
    "for i in range(5946, 6028):\n",
    "              print(l0[i])"
   ]
  },
  {
   "cell_type": "code",
   "execution_count": 46,
   "metadata": {},
   "outputs": [
    {
     "name": "stdout",
     "output_type": "stream",
     "text": [
      "('niște', 0.0001253951)\n",
      "('conducpământul', 0.00012539509)\n",
      "('maid', 0.00012539509)\n",
      "('emblems', 0.00012539508)\n",
      "('canibalii', 0.00012539506)\n",
      "('neighbor', 0.00012539506)\n",
      "('sellby', 0.00012539505)\n",
      "('herds', 0.00012539505)\n",
      "('personality', 0.00012539505)\n",
      "('gifted', 0.00012539505)\n",
      "('scramblestimeandseasons', 0.00012539505)\n",
      "('admit', 0.00012539503)\n",
      "('deabia', 0.00012539502)\n",
      "('tencoa', 0.00012539499)\n",
      "('înecare', 0.00012539499)\n",
      "('rostesc', 0.00012539496)\n",
      "('ending', 0.00012539494)\n",
      "('connotations', 0.00012539494)\n",
      "('policeman', 0.00012539493)\n",
      "('protecţie', 0.00012539492)\n",
      "('insulă', 0.0001253949)\n",
      "('moarte', 0.0001253949)\n",
      "('ah', 0.0001253949)\n",
      "('time—of', 0.0001253949)\n",
      "('morph', 0.0001253949)\n",
      "('creatures', 0.00012539489)\n",
      "('neveste', 0.00012539489)\n",
      "('pouches', 0.00012539487)\n",
      "('slashings', 0.00012539487)\n",
      "('controls', 0.00012539484)\n",
      "('tânăra', 0.00012539484)\n",
      "('cords', 0.00012539483)\n",
      "('schwitters', 0.00012539481)\n",
      "('amușinând', 0.00012539478)\n",
      "('ultima', 0.00012539476)\n",
      "('definitely', 0.00012539476)\n",
      "('firea', 0.00012539473)\n",
      "('enjoy', 0.00012539471)\n",
      "('algorithmsarealsowrittenlanguage', 0.0001253947)\n",
      "('acknowledgementofthe', 0.00012539464)\n",
      "('escapism', 0.00012539461)\n",
      "('trimis', 0.00012539461)\n",
      "('rhetorically', 0.00012539461)\n",
      "('bachelor', 0.0001253946)\n",
      "('sundontshineabovetheground', 0.0001253946)\n",
      "('month', 0.00012539457)\n",
      "('iguessthatisthetruth', 0.00012539457)\n",
      "('eforturilor', 0.00012539455)\n",
      "('animalele', 0.00012539454)\n",
      "('erbaccepress', 0.00012539451)\n",
      "('revered', 0.0001253945)\n",
      "('itakeyourpointsmypoetsaid', 0.0001253945)\n",
      "('instancesofuse', 0.0001253945)\n",
      "('ad', 0.00012539448)\n",
      "('laugh', 0.00012539445)\n",
      "('notorious', 0.00012539444)\n",
      "('willdeepenpeepinglovers', 0.00012539444)\n",
      "('productive', 0.00012539444)\n",
      "('guitar', 0.00012539439)\n",
      "('capricii', 0.00012539438)\n",
      "('disposing', 0.00012539435)\n",
      "('revolt', 0.00012539433)\n",
      "('whirring', 0.00012539429)\n",
      "('altor', 0.00012539428)\n",
      "('prototyp', 0.00012539425)\n",
      "('agenţie', 0.00012539423)\n",
      "('raw', 0.00012539423)\n",
      "('passe', 0.00012539422)\n",
      "('dorința', 0.0001253942)\n",
      "('distinction', 0.0001253942)\n",
      "('impacted', 0.00012539419)\n",
      "('algorithmictechniquesforprocedural', 0.00012539414)\n",
      "('stubbornness', 0.00012539414)\n",
      "('bright', 0.00012539413)\n",
      "('roughstuff', 0.00012539412)\n",
      "('lacking', 0.00012539412)\n",
      "('chris', 0.00012539412)\n",
      "('chain', 0.00012539404)\n",
      "('expectations', 0.00012539403)\n",
      "('origin', 0.00012539403)\n",
      "('animată', 0.000125394)\n",
      "('passage', 0.000125394)\n",
      "('atuncii', 0.00012539396)\n",
      "('începând', 0.00012539394)\n",
      "('neamule', 0.00012539394)\n",
      "('amoureux', 0.00012539394)\n",
      "('rehabbing', 0.00012539394)\n",
      "('primeminister', 0.00012539394)\n",
      "('actualreader', 0.00012539393)\n",
      "('lately', 0.00012539391)\n",
      "('merenghe', 0.00012539387)\n",
      "('admirable', 0.00012539382)\n"
     ]
    }
   ],
   "source": [
    "\n",
    "for i in range(4203, 4295):\n",
    "              print(l1[i])"
   ]
  },
  {
   "cell_type": "code",
   "execution_count": 47,
   "metadata": {},
   "outputs": [
    {
     "name": "stdout",
     "output_type": "stream",
     "text": [
      "76\n"
     ]
    }
   ],
   "source": [
    "\n",
    "for i in range(7957):\n",
    "    if l0[i][0]== \"course\":\n",
    "            print(i)"
   ]
  },
  {
   "cell_type": "code",
   "execution_count": 48,
   "metadata": {},
   "outputs": [
    {
     "name": "stdout",
     "output_type": "stream",
     "text": [
      "5758\n"
     ]
    }
   ],
   "source": [
    "for i in range(7957):\n",
    "    if l0[i][0]== \"reflect\":\n",
    "            print(i)"
   ]
  },
  {
   "cell_type": "code",
   "execution_count": 49,
   "metadata": {},
   "outputs": [
    {
     "name": "stdout",
     "output_type": "stream",
     "text": [
      "141\n"
     ]
    }
   ],
   "source": [
    "\n",
    "for i in range(7957):\n",
    "    if l0[i][0]== \"perhaps\":\n",
    "            print(i)"
   ]
  },
  {
   "cell_type": "code",
   "execution_count": 50,
   "metadata": {},
   "outputs": [
    {
     "name": "stdout",
     "output_type": "stream",
     "text": [
      "1709\n"
     ]
    }
   ],
   "source": [
    "for i in range(7957):\n",
    "    if l0[i][0]== \"deserves\":\n",
    "            print(i)"
   ]
  },
  {
   "cell_type": "code",
   "execution_count": 51,
   "metadata": {},
   "outputs": [
    {
     "name": "stdout",
     "output_type": "stream",
     "text": [
      "2002\n"
     ]
    }
   ],
   "source": [
    "for i in range(7957):\n",
    "    if l0[i][0]== \"credit\":\n",
    "            print(i)"
   ]
  },
  {
   "cell_type": "code",
   "execution_count": 52,
   "metadata": {},
   "outputs": [
    {
     "name": "stdout",
     "output_type": "stream",
     "text": [
      "1\n"
     ]
    }
   ],
   "source": [
    "\n",
    "for i in range(7957):\n",
    "    if l0[i][0]== \"i\":\n",
    "            print(i)"
   ]
  },
  {
   "cell_type": "code",
   "execution_count": 53,
   "metadata": {},
   "outputs": [
    {
     "name": "stdout",
     "output_type": "stream",
     "text": [
      "775\n"
     ]
    }
   ],
   "source": [
    "for i in range(7957):\n",
    "    if l0[i][0]== \"given\":\n",
    "            print(i)"
   ]
  },
  {
   "cell_type": "code",
   "execution_count": 54,
   "metadata": {},
   "outputs": [
    {
     "name": "stdout",
     "output_type": "stream",
     "text": [
      "319\n"
     ]
    }
   ],
   "source": [
    "for i in range(7957):\n",
    "    if l0[i][0]== \"least\":\n",
    "            print(i)"
   ]
  },
  {
   "cell_type": "code",
   "execution_count": 55,
   "metadata": {},
   "outputs": [
    {
     "name": "stdout",
     "output_type": "stream",
     "text": [
      "33\n"
     ]
    }
   ],
   "source": [
    "for i in range(7957):\n",
    "    if l0[i][0]== \"two\":\n",
    "            print(i)"
   ]
  },
  {
   "cell_type": "code",
   "execution_count": 56,
   "metadata": {},
   "outputs": [
    {
     "name": "stdout",
     "output_type": "stream",
     "text": [
      "305\n"
     ]
    }
   ],
   "source": [
    "for i in range(7957):\n",
    "    if l0[i][0]== \"important\":\n",
    "            print(i)"
   ]
  },
  {
   "cell_type": "code",
   "execution_count": 57,
   "metadata": {},
   "outputs": [
    {
     "name": "stdout",
     "output_type": "stream",
     "text": [
      "7334\n"
     ]
    }
   ],
   "source": [
    "for i in range(7957):\n",
    "    if l0[i][0]== \"points\":\n",
    "            print(i)"
   ]
  },
  {
   "cell_type": "code",
   "execution_count": 58,
   "metadata": {},
   "outputs": [
    {
     "name": "stdout",
     "output_type": "stream",
     "text": [
      "2611\n"
     ]
    }
   ],
   "source": [
    "\n",
    "for i in range(7957):\n",
    "    if l0[i][0]== \"overlooked\":\n",
    "            print(i)"
   ]
  },
  {
   "cell_type": "code",
   "execution_count": 59,
   "metadata": {},
   "outputs": [],
   "source": [
    "for i in range(7957):\n",
    "    if l0[i][0]== \"be\":\n",
    "            print(i)"
   ]
  },
  {
   "cell_type": "code",
   "execution_count": 60,
   "metadata": {},
   "outputs": [
    {
     "name": "stdout",
     "output_type": "stream",
     "text": [
      "254\n"
     ]
    }
   ],
   "source": [
    "\n",
    "for i in range(7957):\n",
    "    if l0[i][0]== \"presentation\":\n",
    "            print(i)"
   ]
  },
  {
   "cell_type": "code",
   "execution_count": 61,
   "metadata": {},
   "outputs": [
    {
     "name": "stdout",
     "output_type": "stream",
     "text": [
      "690\n"
     ]
    }
   ],
   "source": [
    "\n",
    "for i in range(7957):\n",
    "    if l0[i][0]== \"forum\":\n",
    "            print(i)"
   ]
  },
  {
   "cell_type": "code",
   "execution_count": 62,
   "metadata": {},
   "outputs": [
    {
     "name": "stdout",
     "output_type": "stream",
     "text": [
      "506\n"
     ]
    }
   ],
   "source": [
    "\n",
    "for i in range(7957):\n",
    "    if l0[i][0]== \"constanta\":\n",
    "            print(i)"
   ]
  },
  {
   "cell_type": "code",
   "execution_count": 63,
   "metadata": {},
   "outputs": [
    {
     "name": "stdout",
     "output_type": "stream",
     "text": [
      "743\n"
     ]
    }
   ],
   "source": [
    "for i in range(7957):\n",
    "    if l0[i][0]== \"july\":\n",
    "            print(i)"
   ]
  },
  {
   "cell_type": "code",
   "execution_count": 64,
   "metadata": {},
   "outputs": [
    {
     "name": "stdout",
     "output_type": "stream",
     "text": [
      "4227\n"
     ]
    }
   ],
   "source": [
    "\n",
    "for i in range(7957):\n",
    "    if l0[i][0]== \"checked\":\n",
    "            print(i)"
   ]
  },
  {
   "cell_type": "code",
   "execution_count": 65,
   "metadata": {},
   "outputs": [
    {
     "name": "stdout",
     "output_type": "stream",
     "text": [
      "5703\n"
     ]
    }
   ],
   "source": [
    "for i in range(7957):\n",
    "    if l0[i][0]== \"emails\":\n",
    "            print(i)"
   ]
  },
  {
   "cell_type": "code",
   "execution_count": 66,
   "metadata": {},
   "outputs": [
    {
     "name": "stdout",
     "output_type": "stream",
     "text": [
      "1095\n"
     ]
    }
   ],
   "source": [
    "\n",
    "for i in range(7957):\n",
    "    if l0[i][0]== \"application\":\n",
    "            print(i)"
   ]
  },
  {
   "cell_type": "code",
   "execution_count": 67,
   "metadata": {},
   "outputs": [
    {
     "name": "stdout",
     "output_type": "stream",
     "text": [
      "1040\n"
     ]
    }
   ],
   "source": [
    "for i in range(7957):\n",
    "    if l0[i][0]== \"grant\":\n",
    "            print(i)"
   ]
  },
  {
   "cell_type": "code",
   "execution_count": 68,
   "metadata": {},
   "outputs": [
    {
     "name": "stdout",
     "output_type": "stream",
     "text": [
      "3795\n"
     ]
    }
   ],
   "source": [
    "\n",
    "for i in range(7957):\n",
    "    if l0[i][0]== \"andhalfinhorrorhalfinjoy\":\n",
    "            print(i)"
   ]
  },
  {
   "cell_type": "code",
   "execution_count": 69,
   "metadata": {},
   "outputs": [
    {
     "name": "stdout",
     "output_type": "stream",
     "text": [
      "6432\n"
     ]
    }
   ],
   "source": [
    "\n",
    "for i in range(7957):\n",
    "    if l1[i][0]== \"andhalfinhorrorhalfinjoy\":\n",
    "            print(i)"
   ]
  },
  {
   "cell_type": "code",
   "execution_count": 70,
   "metadata": {},
   "outputs": [
    {
     "name": "stdout",
     "output_type": "stream",
     "text": [
      "('peculiar', 6.4825406e-05)\n",
      "('absence', 6.4825406e-05)\n",
      "('toți', 6.482539e-05)\n",
      "('relatespeoplesrequestforawrittenprooffromjesustoautographsofferedtofans', 6.482539e-05)\n",
      "('lee', 6.4825384e-05)\n",
      "('lewiscarroll', 6.4825384e-05)\n",
      "('ideals', 6.482537e-05)\n",
      "('redeems', 6.482537e-05)\n",
      "('acelei', 6.482536e-05)\n",
      "('iapoi', 6.4825355e-05)\n",
      "('completelynewworkethicsinromanianradio', 6.4825355e-05)\n",
      "('edwardii', 6.4825355e-05)\n",
      "('reziduale', 6.482534e-05)\n",
      "('putea', 6.482534e-05)\n",
      "('eyesofquietevenness', 6.482534e-05)\n",
      "('vreodată', 6.482534e-05)\n",
      "('fountainsabbey', 6.482534e-05)\n",
      "('interbellum', 6.482533e-05)\n",
      "('săp', 6.482533e-05)\n",
      "('transcription', 6.482533e-05)\n",
      "('chioarâș', 6.482533e-05)\n",
      "('architect', 6.482533e-05)\n",
      "('thrived', 6.482532e-05)\n",
      "('colective', 6.482532e-05)\n",
      "('uprisings', 6.482531e-05)\n",
      "('storm', 6.482531e-05)\n",
      "('survey', 6.4825304e-05)\n",
      "('țară', 6.482528e-05)\n",
      "('buzele', 6.482528e-05)\n",
      "('banished', 6.482528e-05)\n",
      "('concerns', 6.482528e-05)\n",
      "('systematic', 6.482528e-05)\n",
      "('ilovesuchpeople', 6.482528e-05)\n",
      "('întors', 6.482527e-05)\n",
      "('disciplines', 6.482527e-05)\n",
      "('ivindu', 6.482526e-05)\n",
      "('așteptând', 6.482526e-05)\n",
      "('instrument', 6.482526e-05)\n",
      "('peacolo', 6.4825246e-05)\n",
      "('deaia', 6.4825246e-05)\n",
      "('cesăjuraeragiurumea', 6.4825246e-05)\n",
      "('andhalfinhorrorhalfinjoy', 6.4825246e-05)\n",
      "('rotten', 6.4825246e-05)\n",
      "('modelled', 6.482524e-05)\n",
      "('bespeaks', 6.482524e-05)\n",
      "('fifth', 6.482524e-05)\n",
      "('remarks', 6.482524e-05)\n",
      "('melted', 6.482524e-05)\n",
      "('minunat', 6.482523e-05)\n",
      "('democracyinsidethebrain', 6.482523e-05)\n",
      "('foodstuffs', 6.482523e-05)\n",
      "('fusty', 6.482523e-05)\n",
      "('variind', 6.482523e-05)\n",
      "('shapes', 6.4825224e-05)\n",
      "('nomcfish', 6.4825224e-05)\n",
      "('moneylenders', 6.482522e-05)\n",
      "('digitalpoem', 6.482521e-05)\n",
      "('literă', 6.48252e-05)\n",
      "('bananatrees', 6.48252e-05)\n",
      "('signalswhenthetextgoesbacktotheinitialmeter', 6.48252e-05)\n",
      "('océan', 6.48252e-05)\n",
      "('poema', 6.48252e-05)\n",
      "('fleoșc', 6.4825195e-05)\n",
      "('pasiv', 6.4825195e-05)\n",
      "('sorts', 6.4825195e-05)\n",
      "('spanishcivilwarexiles', 6.482519e-05)\n",
      "('canibecomethesubjectofanalgorithm', 6.482519e-05)\n",
      "('fric', 6.482519e-05)\n",
      "('beatlemania', 6.482517e-05)\n",
      "('torpor', 6.482517e-05)\n",
      "('memelecelulare', 6.482517e-05)\n",
      "('precum', 6.482517e-05)\n",
      "('palatineanthology', 6.482517e-05)\n",
      "('unstuck', 6.4825166e-05)\n",
      "('cam', 6.4825166e-05)\n",
      "('obrajii', 6.4825166e-05)\n",
      "('corpul', 6.4825166e-05)\n",
      "('signed', 6.4825166e-05)\n",
      "('allheartsbeopenono', 6.4825166e-05)\n",
      "('presidentkennedysexaggerating', 6.482516e-05)\n",
      "('excitement', 6.482516e-05)\n",
      "('automateleîșifacdecap', 6.482516e-05)\n"
     ]
    }
   ],
   "source": [
    "\n",
    "for i in range(3754, 3836):\n",
    "              print(l0[i])"
   ]
  },
  {
   "cell_type": "code",
   "execution_count": 71,
   "metadata": {},
   "outputs": [
    {
     "name": "stdout",
     "output_type": "stream",
     "text": [
      "('eyeglasses', 0.00012536626)\n",
      "('automateleîșifacdecap', 0.00012536623)\n",
      "('legii', 0.00012536622)\n",
      "('cam', 0.0001253662)\n",
      "('excitement', 0.0001253662)\n",
      "('obrajii', 0.00012536616)\n",
      "('corpul', 0.00012536616)\n",
      "('playawholelotmoremore', 0.00012536616)\n",
      "('presidentkennedysexaggerating', 0.00012536616)\n",
      "('allheartsbeopenono', 0.00012536616)\n",
      "('signed', 0.00012536616)\n",
      "('precum', 0.00012536615)\n",
      "('torpor', 0.00012536615)\n",
      "('spanishcivilwarexiles', 0.00012536613)\n",
      "('park', 0.00012536612)\n",
      "('beatlemania', 0.0001253661)\n",
      "('palatineanthology', 0.0001253661)\n",
      "('signalswhenthetextgoesbacktotheinitialmeter', 0.00012536606)\n",
      "('sorts', 0.00012536603)\n",
      "('fleoșc', 0.00012536602)\n",
      "('literă', 0.00012536602)\n",
      "('pasiv', 0.00012536599)\n",
      "('océan', 0.00012536599)\n",
      "('unstuck', 0.00012536599)\n",
      "('canibecomethesubjectofanalgorithm', 0.00012536597)\n",
      "('shapes', 0.00012536596)\n",
      "('digitalpoem', 0.00012536596)\n",
      "('nomcfish', 0.00012536594)\n",
      "('bananatrees', 0.0001253659)\n",
      "('fric', 0.0001253659)\n",
      "('poema', 0.00012536588)\n",
      "('moneylenders', 0.00012536587)\n",
      "('variind', 0.00012536586)\n",
      "('bespeaks', 0.00012536584)\n",
      "('ivindu', 0.0001253658)\n",
      "('fifth', 0.00012536578)\n",
      "('democracyinsidethebrain', 0.00012536575)\n",
      "('instrument', 0.00012536574)\n",
      "('melted', 0.00012536572)\n",
      "('cesăjuraeragiurumea', 0.00012536571)\n",
      "('fusty', 0.00012536571)\n",
      "('andhalfinhorrorhalfinjoy', 0.00012536568)\n",
      "('foodstuffs', 0.00012536568)\n",
      "('deaia', 0.00012536568)\n",
      "('remarks', 0.00012536565)\n",
      "('rotten', 0.00012536565)\n",
      "('minunat', 0.00012536565)\n",
      "('modelled', 0.0001253656)\n",
      "('peacolo', 0.00012536558)\n",
      "('întors', 0.00012536556)\n",
      "('așteptând', 0.00012536555)\n",
      "('disciplines', 0.00012536554)\n",
      "('systematic', 0.00012536554)\n",
      "('banished', 0.00012536554)\n",
      "('concerns', 0.0001253655)\n",
      "('țară', 0.0001253655)\n",
      "('buzele', 0.00012536546)\n",
      "('survey', 0.00012536545)\n",
      "('ilovesuchpeople', 0.00012536543)\n",
      "('uprisings', 0.00012536542)\n",
      "('colective', 0.00012536538)\n",
      "('storm', 0.00012536536)\n",
      "('săp', 0.0001253653)\n",
      "('architect', 0.00012536526)\n",
      "('thrived', 0.00012536523)\n",
      "('chioarâș', 0.0001253652)\n",
      "('completelynewworkethicsinromanianradio', 0.0001253652)\n",
      "('putea', 0.0001253652)\n",
      "('interbellum', 0.00012536516)\n",
      "('acelei', 0.00012536516)\n",
      "('vreodată', 0.00012536514)\n",
      "('eyesofquietevenness', 0.00012536513)\n",
      "('transcription', 0.00012536513)\n",
      "('fountainsabbey', 0.00012536511)\n",
      "('edwardii', 0.00012536507)\n",
      "('lee', 0.00012536506)\n",
      "('iapoi', 0.00012536504)\n",
      "('redeems', 0.00012536501)\n",
      "('ideals', 0.00012536501)\n",
      "('reziduale', 0.000125365)\n",
      "('lewiscarroll', 0.00012536495)\n",
      "('toți', 0.00012536494)\n"
     ]
    }
   ],
   "source": [
    "\n",
    "for i in range(6391, 6473):\n",
    "              print(l1[i])"
   ]
  },
  {
   "cell_type": "code",
   "execution_count": 73,
   "metadata": {},
   "outputs": [
    {
     "name": "stdout",
     "output_type": "stream",
     "text": [
      "586\n"
     ]
    }
   ],
   "source": [
    "\n",
    "for i in range(7957):\n",
    "    if l1[i][0]== \"detail\":\n",
    "            print(i)"
   ]
  },
  {
   "cell_type": "code",
   "execution_count": 74,
   "metadata": {},
   "outputs": [
    {
     "name": "stdout",
     "output_type": "stream",
     "text": [
      "7810\n"
     ]
    }
   ],
   "source": [
    "\n",
    "for i in range(7957):\n",
    "    if l1[i][0]== \"outlined\":\n",
    "            print(i)"
   ]
  },
  {
   "cell_type": "code",
   "execution_count": 75,
   "metadata": {},
   "outputs": [
    {
     "name": "stdout",
     "output_type": "stream",
     "text": [
      "343\n"
     ]
    }
   ],
   "source": [
    "\n",
    "for i in range(7957):\n",
    "    if l1[i][0]== \"presentation\":\n",
    "            print(i)"
   ]
  },
  {
   "cell_type": "code",
   "execution_count": 77,
   "metadata": {},
   "outputs": [
    {
     "name": "stdout",
     "output_type": "stream",
     "text": [
      "595\n"
     ]
    }
   ],
   "source": [
    "\n",
    "for i in range(7957):\n",
    "    if l1[i][0]== \"constanta\":\n",
    "            print(i)"
   ]
  },
  {
   "cell_type": "code",
   "execution_count": 79,
   "metadata": {},
   "outputs": [
    {
     "name": "stdout",
     "output_type": "stream",
     "text": [
      "4649\n"
     ]
    }
   ],
   "source": [
    "\n",
    "for i in range(7957):\n",
    "    if l1[i][0]== \"focusing\":\n",
    "            print(i)"
   ]
  },
  {
   "cell_type": "code",
   "execution_count": 80,
   "metadata": {},
   "outputs": [
    {
     "name": "stdout",
     "output_type": "stream",
     "text": [
      "444\n"
     ]
    }
   ],
   "source": [
    "for i in range(7957):\n",
    "    if l1[i][0]== \"dislocation\":\n",
    "            print(i)"
   ]
  },
  {
   "cell_type": "code",
   "execution_count": 82,
   "metadata": {},
   "outputs": [
    {
     "name": "stdout",
     "output_type": "stream",
     "text": [
      "371\n"
     ]
    }
   ],
   "source": [
    "\n",
    "for i in range(7957):\n",
    "    if l1[i][0]== \"artists\":\n",
    "            print(i)"
   ]
  },
  {
   "cell_type": "code",
   "execution_count": 83,
   "metadata": {},
   "outputs": [
    {
     "name": "stdout",
     "output_type": "stream",
     "text": [
      "819\n"
     ]
    }
   ],
   "source": [
    "for i in range(7957):\n",
    "    if l1[i][0]== \"writers\":\n",
    "            print(i)"
   ]
  },
  {
   "cell_type": "code",
   "execution_count": 84,
   "metadata": {},
   "outputs": [
    {
     "name": "stdout",
     "output_type": "stream",
     "text": [
      "598\n"
     ]
    }
   ],
   "source": [
    "for i in range(7957):\n",
    "    if l1[i][0]== \"exiled\":\n",
    "            print(i)"
   ]
  },
  {
   "cell_type": "code",
   "execution_count": 85,
   "metadata": {},
   "outputs": [
    {
     "name": "stdout",
     "output_type": "stream",
     "text": [
      "207\n"
     ]
    }
   ],
   "source": [
    "for i in range(7957):\n",
    "    if l1[i][0]== \"state\":\n",
    "            print(i)"
   ]
  },
  {
   "cell_type": "code",
   "execution_count": 86,
   "metadata": {},
   "outputs": [
    {
     "name": "stdout",
     "output_type": "stream",
     "text": [
      "5459\n"
     ]
    }
   ],
   "source": [
    "for i in range(7957):\n",
    "    if l1[i][0]== \"selfimposed\":\n",
    "            print(i)"
   ]
  },
  {
   "cell_type": "code",
   "execution_count": 87,
   "metadata": {},
   "outputs": [
    {
     "name": "stdout",
     "output_type": "stream",
     "text": [
      "2421\n"
     ]
    }
   ],
   "source": [
    "\n",
    "for i in range(7957):\n",
    "    if l1[i][0]== \"zola\":\n",
    "            print(i)"
   ]
  },
  {
   "cell_type": "code",
   "execution_count": 88,
   "metadata": {},
   "outputs": [
    {
     "name": "stdout",
     "output_type": "stream",
     "text": [
      "6861\n"
     ]
    }
   ],
   "source": [
    "\n",
    "for i in range(7957):\n",
    "    if l1[i][0]== \"courbet\":\n",
    "            print(i)"
   ]
  },
  {
   "cell_type": "code",
   "execution_count": 90,
   "metadata": {},
   "outputs": [
    {
     "name": "stdout",
     "output_type": "stream",
     "text": [
      "6349\n"
     ]
    }
   ],
   "source": [
    "\n",
    "for i in range(7957):\n",
    "    if l1[i][0]== \"gauguin\":\n",
    "            print(i)"
   ]
  },
  {
   "cell_type": "code",
   "execution_count": 91,
   "metadata": {},
   "outputs": [
    {
     "name": "stdout",
     "output_type": "stream",
     "text": [
      "4235\n"
     ]
    }
   ],
   "source": [
    "for i in range(7957):\n",
    "    if l1[i][0]== \"schwitters\":\n",
    "            print(i)"
   ]
  },
  {
   "cell_type": "code",
   "execution_count": 92,
   "metadata": {},
   "outputs": [
    {
     "name": "stdout",
     "output_type": "stream",
     "text": [
      "5527\n"
     ]
    }
   ],
   "source": [
    "\n",
    "for i in range(7957):\n",
    "    if l1[i][0]== \"grosz\":\n",
    "            print(i)"
   ]
  },
  {
   "cell_type": "code",
   "execution_count": 93,
   "metadata": {},
   "outputs": [
    {
     "name": "stdout",
     "output_type": "stream",
     "text": [
      "6989\n"
     ]
    }
   ],
   "source": [
    "for i in range(7957):\n",
    "    if l1[i][0]== \"hatoum\":\n",
    "            print(i)"
   ]
  },
  {
   "cell_type": "code",
   "execution_count": 94,
   "metadata": {},
   "outputs": [
    {
     "name": "stdout",
     "output_type": "stream",
     "text": [
      "3393\n"
     ]
    }
   ],
   "source": [
    "for i in range(7957):\n",
    "    if l1[i][0]== \"abramovic\":\n",
    "            print(i)"
   ]
  },
  {
   "cell_type": "code",
   "execution_count": 95,
   "metadata": {},
   "outputs": [
    {
     "name": "stdout",
     "output_type": "stream",
     "text": [
      "5078\n"
     ]
    }
   ],
   "source": [
    "\n",
    "for i in range(7957):\n",
    "    if l1[i][0]== \"list\":\n",
    "            print(i)"
   ]
  },
  {
   "cell_type": "code",
   "execution_count": 96,
   "metadata": {},
   "outputs": [
    {
     "name": "stdout",
     "output_type": "stream",
     "text": [
      "5772\n"
     ]
    }
   ],
   "source": [
    "for i in range(7957):\n",
    "    if l1[i][0]== \"endless\":\n",
    "            print(i)"
   ]
  },
  {
   "cell_type": "code",
   "execution_count": 97,
   "metadata": {},
   "outputs": [
    {
     "name": "stdout",
     "output_type": "stream",
     "text": [
      "772\n"
     ]
    }
   ],
   "source": [
    "for i in range(7957):\n",
    "    if l1[i][0]== \"worthy\":\n",
    "            print(i)"
   ]
  },
  {
   "cell_type": "code",
   "execution_count": 98,
   "metadata": {},
   "outputs": [
    {
     "name": "stdout",
     "output_type": "stream",
     "text": [
      "302\n"
     ]
    }
   ],
   "source": [
    "for i in range(7957):\n",
    "    if l1[i][0]== \"study\":\n",
    "            print(i)"
   ]
  },
  {
   "cell_type": "code",
   "execution_count": 99,
   "metadata": {},
   "outputs": [],
   "source": [
    "for i in range(7957):\n",
    "    if l1[i][0]== \"give\":\n",
    "            print(i)"
   ]
  },
  {
   "cell_type": "code",
   "execution_count": 101,
   "metadata": {},
   "outputs": [
    {
     "name": "stdout",
     "output_type": "stream",
     "text": [
      "7699\n"
     ]
    }
   ],
   "source": [
    "\n",
    "for i in range(7957):\n",
    "    if l0[i][0]== \"ambitionkilledothecatnotcuriosity\":\n",
    "            print(i)"
   ]
  },
  {
   "cell_type": "code",
   "execution_count": 100,
   "metadata": {},
   "outputs": [
    {
     "name": "stdout",
     "output_type": "stream",
     "text": [
      "2530\n"
     ]
    }
   ],
   "source": [
    "for i in range(7957):\n",
    "    if l1[i][0]== \"ambitionkilledothecatnotcuriosity\":\n",
    "            print(i)"
   ]
  },
  {
   "cell_type": "code",
   "execution_count": 102,
   "metadata": {},
   "outputs": [
    {
     "name": "stdout",
     "output_type": "stream",
     "text": [
      "('ambiguous', 6.481314e-05)\n",
      "('emanated', 6.481313e-05)\n",
      "('sketchpad', 6.4813124e-05)\n",
      "('moscova', 6.48131e-05)\n",
      "('artificialidentity', 6.4813095e-05)\n",
      "('swottingup', 6.4813066e-05)\n",
      "('mirrored', 6.4813066e-05)\n",
      "('201228', 6.4813044e-05)\n",
      "('—a', 6.4813044e-05)\n",
      "('majorminor—', 6.4813044e-05)\n",
      "('comprim', 6.4813044e-05)\n",
      "('westernculturalproducts', 6.481301e-05)\n",
      "('chestiuni', 6.4812986e-05)\n",
      "('vital', 6.4812986e-05)\n",
      "('durio', 6.4812986e-05)\n",
      "('weapons', 6.481298e-05)\n",
      "('embedded', 6.481298e-05)\n",
      "('abundance', 6.481297e-05)\n",
      "('pastorals', 6.481297e-05)\n",
      "('quiconque', 6.481297e-05)\n",
      "('lipsa', 6.481296e-05)\n",
      "('joint', 6.481296e-05)\n",
      "('fluctuating', 6.481296e-05)\n",
      "('partially', 6.481295e-05)\n",
      "('topită', 6.481295e-05)\n",
      "('deschisă', 6.481295e-05)\n",
      "('aduceodatăcudorințajertfa', 6.481294e-05)\n",
      "('cacao', 6.481293e-05)\n",
      "('restul', 6.481293e-05)\n",
      "('echoing', 6.481292e-05)\n",
      "('substituieeficientinfluențaeclectică', 6.481291e-05)\n",
      "('enunciativeact', 6.4812884e-05)\n",
      "('mistake', 6.481287e-05)\n",
      "('frame', 6.4812855e-05)\n",
      "('măsură', 6.481285e-05)\n",
      "('bien', 6.481283e-05)\n",
      "('crudelor', 6.481283e-05)\n",
      "('iloveothecurveofitagainstthewhite', 6.4812826e-05)\n",
      "('nebune', 6.4812826e-05)\n",
      "('compelling', 6.481281e-05)\n",
      "('allembracing', 6.4812804e-05)\n",
      "('ambitionkilledothecatnotcuriosity', 6.48128e-05)\n",
      "('helpingout', 6.48128e-05)\n",
      "('branch', 6.48128e-05)\n",
      "('cumprumutare', 6.48128e-05)\n",
      "('hybridization', 6.481278e-05)\n",
      "('freetobreathetheair', 6.481277e-05)\n",
      "('weight', 6.481277e-05)\n",
      "('celiaandlouiszukovskystranslationsofcatullus', 6.481277e-05)\n",
      "('atacockandbullpawnshop', 6.481277e-05)\n",
      "('exhaustedwords', 6.481274e-05)\n",
      "('roses', 6.481273e-05)\n",
      "('afară', 6.481273e-05)\n",
      "('formallanguages', 6.4812724e-05)\n",
      "('rescue—an', 6.481271e-05)\n",
      "('edward', 6.481271e-05)\n",
      "('deschise', 6.481269e-05)\n",
      "('italicized', 6.4812666e-05)\n",
      "('thousand', 6.481264e-05)\n",
      "('rugăciune', 6.481262e-05)\n",
      "('exploiting', 6.481261e-05)\n",
      "('cause', 6.4812586e-05)\n",
      "('mozeu', 6.4812564e-05)\n",
      "('soundandfury', 6.4812564e-05)\n",
      "('tear', 6.4812564e-05)\n",
      "('acceptată', 6.481255e-05)\n",
      "('transnationalism', 6.4812535e-05)\n",
      "('fallenorganisms', 6.481253e-05)\n",
      "('obey', 6.481251e-05)\n",
      "('dignify', 6.481251e-05)\n",
      "('idilen', 6.481251e-05)\n",
      "('statistics', 6.4812484e-05)\n",
      "('perseverezi', 6.481248e-05)\n",
      "('sudului', 6.481248e-05)\n",
      "('impress', 6.481244e-05)\n",
      "('strămoș', 6.481244e-05)\n",
      "('pesubrândurirânduri', 6.4812426e-05)\n",
      "('fills', 6.4812426e-05)\n",
      "('fluent', 6.481241e-05)\n",
      "('quantity', 6.481241e-05)\n",
      "('taie', 6.4812404e-05)\n",
      "('blush', 6.481238e-05)\n"
     ]
    }
   ],
   "source": [
    "for i in range(7658, 7740):\n",
    "              print(l0[i])"
   ]
  },
  {
   "cell_type": "code",
   "execution_count": 103,
   "metadata": {},
   "outputs": [
    {
     "name": "stdout",
     "output_type": "stream",
     "text": [
      "('quantity', 0.0001254381)\n",
      "('fills', 0.00012543808)\n",
      "('taie', 0.00012543806)\n",
      "('impress', 0.00012543803)\n",
      "('pesubrândurirânduri', 0.00012543797)\n",
      "('strămoș', 0.00012543796)\n",
      "('perseverezi', 0.00012543781)\n",
      "('statistics', 0.00012543777)\n",
      "('sudului', 0.00012543776)\n",
      "('dignify', 0.00012543757)\n",
      "('obey', 0.00012543757)\n",
      "('tear', 0.00012543744)\n",
      "('acceptată', 0.00012543738)\n",
      "('mozeu', 0.00012543732)\n",
      "('idilen', 0.00012543732)\n",
      "('transnationalism', 0.00012543729)\n",
      "('fallenorganisms', 0.00012543729)\n",
      "('unformed', 0.00012543725)\n",
      "('exploiting', 0.00012543712)\n",
      "('soundandfury', 0.0001254371)\n",
      "('cause', 0.00012543707)\n",
      "('thousand', 0.00012543696)\n",
      "('rugăciune', 0.00012543691)\n",
      "('italicized', 0.00012543665)\n",
      "('deschise', 0.00012543656)\n",
      "('rescue—an', 0.00012543656)\n",
      "('edward', 0.00012543645)\n",
      "('exhaustedwords', 0.00012543642)\n",
      "('formallanguages', 0.00012543637)\n",
      "('afară', 0.00012543636)\n",
      "('roses', 0.0001254362)\n",
      "('weight', 0.0001254362)\n",
      "('celiaandlouiszukovskystranslationsofcatullus', 0.00012543613)\n",
      "('atacockandbullpawnshop', 0.00012543613)\n",
      "('freetobreathetheair', 0.00012543605)\n",
      "('allembracing', 0.00012543601)\n",
      "('branch', 0.00012543597)\n",
      "('hybridization', 0.00012543597)\n",
      "('compelling', 0.00012543586)\n",
      "('iloveothecurveofitagainstthewhite', 0.00012543586)\n",
      "('nebune', 0.00012543585)\n",
      "('ambitionkilledothecatnotcuriosity', 0.00012543582)\n",
      "('frame', 0.0001254358)\n",
      "('crudelor', 0.00012543579)\n",
      "('cumprumutare', 0.00012543576)\n",
      "('helpingout', 0.00012543573)\n",
      "('măsură', 0.00012543572)\n",
      "('bien', 0.00012543566)\n",
      "('enunciativeact', 0.00012543547)\n",
      "('mistake', 0.0001254353)\n",
      "('substituieeficientinfluențaeclectică', 0.00012543528)\n",
      "('aduceodatăcudorințajertfa', 0.00012543522)\n",
      "('restul', 0.00012543521)\n",
      "('topită', 0.00012543517)\n",
      "('joint', 0.00012543517)\n",
      "('echoing', 0.00012543514)\n",
      "('abundance', 0.00012543512)\n",
      "('deschisă', 0.0001254351)\n",
      "('cacao', 0.0001254351)\n",
      "('quiconque', 0.0001254351)\n",
      "('lipsa', 0.00012543505)\n",
      "('fluctuating', 0.000125435)\n",
      "('partially', 0.000125435)\n",
      "('durio', 0.00012543496)\n",
      "('embedded', 0.00012543495)\n",
      "('pastorals', 0.00012543493)\n",
      "('chestiuni', 0.0001254349)\n",
      "('westernculturalproducts', 0.00012543489)\n",
      "('vital', 0.00012543485)\n",
      "('weapons', 0.00012543477)\n",
      "('majorminor—', 0.00012543466)\n",
      "('comprim', 0.0001254346)\n",
      "('201228', 0.0001254346)\n",
      "('—a', 0.0001254346)\n",
      "('swottingup', 0.00012543437)\n",
      "('mirrored', 0.00012543431)\n",
      "('moscova', 0.0001254343)\n",
      "('sketchpad', 0.00012543412)\n",
      "('emanated', 0.0001254341)\n",
      "('artificialidentity', 0.00012543409)\n",
      "('traseul', 0.00012543399)\n",
      "('writingdown', 0.00012543397)\n"
     ]
    }
   ],
   "source": [
    "\n",
    "for i in range(2489, 2571):\n",
    "              print(l1[i])"
   ]
  },
  {
   "cell_type": "code",
   "execution_count": 104,
   "metadata": {},
   "outputs": [
    {
     "name": "stdout",
     "output_type": "stream",
     "text": [
      "27\n"
     ]
    }
   ],
   "source": [
    "\n",
    "for i in range(7957):\n",
    "    if l0[i][0]== \"work\":\n",
    "            print(i)"
   ]
  },
  {
   "cell_type": "code",
   "execution_count": 105,
   "metadata": {},
   "outputs": [
    {
     "name": "stdout",
     "output_type": "stream",
     "text": [
      "254\n"
     ]
    }
   ],
   "source": [
    "for i in range(7957):\n",
    "    if l0[i][0]== \"presentation\":\n",
    "            print(i)"
   ]
  },
  {
   "cell_type": "code",
   "execution_count": 106,
   "metadata": {},
   "outputs": [
    {
     "name": "stdout",
     "output_type": "stream",
     "text": [
      "1040\n"
     ]
    }
   ],
   "source": [
    "\n",
    "for i in range(7957):\n",
    "    if l0[i][0]== \"grant\":\n",
    "            print(i)"
   ]
  },
  {
   "cell_type": "code",
   "execution_count": 107,
   "metadata": {},
   "outputs": [
    {
     "name": "stdout",
     "output_type": "stream",
     "text": [
      "974\n"
     ]
    }
   ],
   "source": [
    "for i in range(7957):\n",
    "    if l0[i][0]== \"successful\":\n",
    "            print(i)"
   ]
  },
  {
   "cell_type": "code",
   "execution_count": 108,
   "metadata": {},
   "outputs": [
    {
     "name": "stdout",
     "output_type": "stream",
     "text": [
      "486\n"
     ]
    }
   ],
   "source": [
    "for i in range(7957):\n",
    "    if l0[i][0]== \"knew\":\n",
    "            print(i)"
   ]
  },
  {
   "cell_type": "code",
   "execution_count": 109,
   "metadata": {},
   "outputs": [
    {
     "name": "stdout",
     "output_type": "stream",
     "text": [
      "1672\n"
     ]
    }
   ],
   "source": [
    "\n",
    "for i in range(7957):\n",
    "    if l0[i][0]== \"dropped\":\n",
    "            print(i)"
   ]
  },
  {
   "cell_type": "code",
   "execution_count": 110,
   "metadata": {},
   "outputs": [
    {
     "name": "stdout",
     "output_type": "stream",
     "text": [
      "245\n"
     ]
    }
   ],
   "source": [
    "for i in range(7957):\n",
    "    if l0[i][0]== \"few\":\n",
    "            print(i)"
   ]
  },
  {
   "cell_type": "code",
   "execution_count": 111,
   "metadata": {},
   "outputs": [
    {
     "name": "stdout",
     "output_type": "stream",
     "text": [
      "437\n"
     ]
    }
   ],
   "source": [
    "for i in range(7957):\n",
    "    if l0[i][0]== \"names\":\n",
    "            print(i)"
   ]
  },
  {
   "cell_type": "code",
   "execution_count": 112,
   "metadata": {},
   "outputs": [
    {
     "name": "stdout",
     "output_type": "stream",
     "text": [
      "749\n"
     ]
    }
   ],
   "source": [
    "\n",
    "for i in range(7957):\n",
    "    if l0[i][0]== \"seems\":\n",
    "            print(i)"
   ]
  },
  {
   "cell_type": "code",
   "execution_count": 113,
   "metadata": {},
   "outputs": [
    {
     "name": "stdout",
     "output_type": "stream",
     "text": [
      "330\n"
     ]
    }
   ],
   "source": [
    "for i in range(7957):\n",
    "    if l0[i][0]== \"problem\":\n",
    "            print(i)"
   ]
  },
  {
   "cell_type": "code",
   "execution_count": 114,
   "metadata": {},
   "outputs": [
    {
     "name": "stdout",
     "output_type": "stream",
     "text": [
      "49\n"
     ]
    }
   ],
   "source": [
    "\n",
    "for i in range(7957):\n",
    "    if l0[i][0]== \"write\":\n",
    "            print(i)"
   ]
  },
  {
   "cell_type": "code",
   "execution_count": 115,
   "metadata": {},
   "outputs": [
    {
     "name": "stdout",
     "output_type": "stream",
     "text": [
      "18\n"
     ]
    }
   ],
   "source": [
    "\n",
    "for i in range(7957):\n",
    "    if l0[i][0]== \"verse\":\n",
    "            print(i)"
   ]
  },
  {
   "cell_type": "code",
   "execution_count": 116,
   "metadata": {},
   "outputs": [
    {
     "name": "stdout",
     "output_type": "stream",
     "text": [
      "437\n"
     ]
    }
   ],
   "source": [
    "for i in range(7957):\n",
    "    if l0[i][0]== \"names\":\n",
    "            print(i)"
   ]
  },
  {
   "cell_type": "code",
   "execution_count": 117,
   "metadata": {},
   "outputs": [
    {
     "name": "stdout",
     "output_type": "stream",
     "text": [
      "159\n"
     ]
    }
   ],
   "source": [
    "\n",
    "for i in range(7957):\n",
    "    if l0[i][0]== \"think\":\n",
    "            print(i)"
   ]
  },
  {
   "cell_type": "code",
   "execution_count": 118,
   "metadata": {},
   "outputs": [
    {
     "name": "stdout",
     "output_type": "stream",
     "text": [
      "76\n"
     ]
    }
   ],
   "source": [
    "for i in range(7957):\n",
    "    if l0[i][0]== \"course\":\n",
    "            print(i)"
   ]
  },
  {
   "cell_type": "code",
   "execution_count": 119,
   "metadata": {},
   "outputs": [
    {
     "name": "stdout",
     "output_type": "stream",
     "text": [
      "4511\n"
     ]
    }
   ],
   "source": [
    "\n",
    "for i in range(7957):\n",
    "    if l0[i][0]== \"workonsomegoodexplanation\":\n",
    "            print(i)"
   ]
  },
  {
   "cell_type": "code",
   "execution_count": 120,
   "metadata": {},
   "outputs": [
    {
     "name": "stdout",
     "output_type": "stream",
     "text": [
      "5728\n"
     ]
    }
   ],
   "source": [
    "for i in range(7957):\n",
    "    if l1[i][0]== \"workonsomegoodexplanation\":\n",
    "            print(i)"
   ]
  },
  {
   "cell_type": "code",
   "execution_count": 121,
   "metadata": {},
   "outputs": [
    {
     "name": "stdout",
     "output_type": "stream",
     "text": [
      "('florii', 6.482362e-05)\n",
      "('poésie', 6.482361e-05)\n",
      "('towritelikeanalgorithm', 6.482361e-05)\n",
      "('galben', 6.482361e-05)\n",
      "('delusional', 6.48236e-05)\n",
      "('goodbye', 6.48236e-05)\n",
      "('processor', 6.48236e-05)\n",
      "('passenger', 6.48236e-05)\n",
      "('venir', 6.4823595e-05)\n",
      "('suspended', 6.4823595e-05)\n",
      "('număr', 6.4823595e-05)\n",
      "('appelait', 6.4823595e-05)\n",
      "('discursivă', 6.4823595e-05)\n",
      "('wevedonefouralreadybutnowweresteady', 6.482359e-05)\n",
      "('household', 6.482359e-05)\n",
      "('appreciation', 6.482357e-05)\n",
      "('risk', 6.482357e-05)\n",
      "('hăulea', 6.4823565e-05)\n",
      "('famouslyturneddowneventheirrequesttohavehishaircut', 6.4823565e-05)\n",
      "('protagonist', 6.482356e-05)\n",
      "('films', 6.482356e-05)\n",
      "('humanspeaker', 6.482356e-05)\n",
      "('depuis', 6.482356e-05)\n",
      "('hadprivaterevelations', 6.482356e-05)\n",
      "('delivered', 6.482356e-05)\n",
      "('captivitate', 6.482356e-05)\n",
      "('unnaturalselection', 6.4823544e-05)\n",
      "('fierbințeală', 6.4823544e-05)\n",
      "('asigurat', 6.4823544e-05)\n",
      "('consciousnessandpoetry', 6.4823544e-05)\n",
      "('camerele', 6.4823544e-05)\n",
      "('knows', 6.4823544e-05)\n",
      "('ymbolicsystem', 6.482354e-05)\n",
      "('craci', 6.482353e-05)\n",
      "('supplies', 6.482352e-05)\n",
      "('dumnezeului', 6.482352e-05)\n",
      "('dislocations—not', 6.482352e-05)\n",
      "('rushed', 6.482352e-05)\n",
      "('făcând', 6.482352e-05)\n",
      "('wegottogether', 6.482352e-05)\n",
      "('francă', 6.482352e-05)\n",
      "('workonsomegoodexplanation', 6.482352e-05)\n",
      "('encounter', 6.4823515e-05)\n",
      "('arrestedontrumpedupcharges', 6.4823515e-05)\n",
      "('waltwhitman', 6.4823515e-05)\n",
      "('racecourse', 6.4823515e-05)\n",
      "('dezabstractizare', 6.4823515e-05)\n",
      "('threatened', 6.4823515e-05)\n",
      "('memelor', 6.48235e-05)\n",
      "('variationwhichmeansderivingnewpoemsfromthekeyvocabularyofpoemshetranslated', 6.48235e-05)\n",
      "('pasted', 6.48235e-05)\n",
      "('tpayforitisitstolen', 6.48235e-05)\n",
      "('descent', 6.48235e-05)\n",
      "('voice—his', 6.482349e-05)\n",
      "('banii', 6.482349e-05)\n",
      "('expert', 6.482349e-05)\n",
      "('culturally', 6.482349e-05)\n",
      "('xxxix', 6.4823485e-05)\n",
      "('dirt', 6.4823485e-05)\n",
      "('topreservetheirperformativity', 6.4823485e-05)\n",
      "('brațele', 6.4823485e-05)\n",
      "('tur', 6.4823485e-05)\n",
      "('influence', 6.4823485e-05)\n",
      "('jumatea', 6.4823485e-05)\n",
      "('rapidcycleofgenerations', 6.4823485e-05)\n",
      "('clubs', 6.4823485e-05)\n",
      "('believedinthepowerofpeopletoshapetheworld', 6.482348e-05)\n",
      "('bitlynavelpittis', 6.482348e-05)\n",
      "('cashonthefinestterms', 6.482348e-05)\n",
      "('esp', 6.482348e-05)\n",
      "('opărească', 6.482347e-05)\n",
      "('withintheprotocolsofaprogram', 6.482347e-05)\n",
      "('swept', 6.482347e-05)\n",
      "('comentând', 6.482347e-05)\n",
      "('simpleelisionsoflessfamiliarreferences', 6.482347e-05)\n",
      "('sensibility', 6.482347e-05)\n",
      "('taximotocicletă', 6.482346e-05)\n",
      "('lists', 6.482346e-05)\n",
      "('colorate', 6.4823456e-05)\n",
      "('housesarequiteroofish', 6.4823456e-05)\n",
      "('cal', 6.4823456e-05)\n",
      "('sketch', 6.4823456e-05)\n"
     ]
    }
   ],
   "source": [
    "\n",
    "for i in range(4470, 4552):\n",
    "              print(l0[i])"
   ]
  },
  {
   "cell_type": "code",
   "execution_count": 122,
   "metadata": {},
   "outputs": [
    {
     "name": "stdout",
     "output_type": "stream",
     "text": [
      "('conspicuous', 0.00012537578)\n",
      "('dirt', 0.00012537577)\n",
      "('brațele', 0.00012537575)\n",
      "('rapidcycleofgenerations', 0.00012537575)\n",
      "('um', 0.00012537575)\n",
      "('cal', 0.00012537574)\n",
      "('xxxix', 0.00012537572)\n",
      "('esp', 0.00012537572)\n",
      "('culturally', 0.00012537571)\n",
      "('bitlynavelpittis', 0.00012537571)\n",
      "('colorate', 0.00012537568)\n",
      "('topreservetheirperformativity', 0.00012537566)\n",
      "('withintheprotocolsofaprogram', 0.00012537566)\n",
      "('tur', 0.00012537566)\n",
      "('descent', 0.00012537565)\n",
      "('memelor', 0.00012537565)\n",
      "('influence', 0.00012537565)\n",
      "('waltwhitman', 0.00012537558)\n",
      "('expert', 0.00012537558)\n",
      "('jumatea', 0.00012537556)\n",
      "('encounter', 0.00012537555)\n",
      "('banii', 0.00012537555)\n",
      "('swept', 0.00012537552)\n",
      "('supplies', 0.00012537552)\n",
      "('variationwhichmeansderivingnewpoemsfromthekeyvocabularyofpoemshetranslated', 0.0001253755)\n",
      "('tpayforitisitstolen', 0.00012537549)\n",
      "('pasted', 0.00012537547)\n",
      "('threatened', 0.00012537547)\n",
      "('racecourse', 0.00012537547)\n",
      "('dezabstractizare', 0.00012537547)\n",
      "('arrestedontrumpedupcharges', 0.00012537545)\n",
      "('rushed', 0.00012537545)\n",
      "('francă', 0.00012537543)\n",
      "('knows', 0.0001253754)\n",
      "('dumnezeului', 0.0001253754)\n",
      "('dislocations—not', 0.0001253754)\n",
      "('voice—his', 0.0001253754)\n",
      "('ymbolicsystem', 0.00012537539)\n",
      "('camerele', 0.00012537537)\n",
      "('asigurat', 0.00012537537)\n",
      "('făcând', 0.00012537536)\n",
      "('workonsomegoodexplanation', 0.00012537531)\n",
      "('craci', 0.00012537531)\n",
      "('unnaturalselection', 0.0001253753)\n",
      "('hăulea', 0.00012537527)\n",
      "('famouslyturneddowneventheirrequesttohavehishaircut', 0.00012537526)\n",
      "('depuis', 0.00012537526)\n",
      "('films', 0.00012537523)\n",
      "('hadprivaterevelations', 0.00012537523)\n",
      "('protagonist', 0.00012537523)\n",
      "('consciousnessandpoetry', 0.00012537521)\n",
      "('fierbințeală', 0.00012537521)\n",
      "('număr', 0.0001253752)\n",
      "('delivered', 0.0001253752)\n",
      "('suspended', 0.00012537518)\n",
      "('appreciation', 0.00012537515)\n",
      "('risk', 0.00012537514)\n",
      "('wegottogether', 0.00012537514)\n",
      "('captivitate', 0.00012537514)\n",
      "('goodbye', 0.00012537513)\n",
      "('venir', 0.00012537507)\n",
      "('humanspeaker', 0.00012537505)\n",
      "('household', 0.00012537504)\n",
      "('florii', 0.00012537501)\n",
      "('delusional', 0.00012537501)\n",
      "('passenger', 0.00012537501)\n",
      "('appelait', 0.000125375)\n",
      "('discursivă', 0.000125375)\n",
      "('poésie', 0.00012537498)\n",
      "('wevedonefouralreadybutnowweresteady', 0.00012537494)\n",
      "('galben', 0.00012537489)\n",
      "('processor', 0.00012537489)\n",
      "('taxevasion', 0.00012537488)\n",
      "('canalizată', 0.00012537486)\n",
      "('memorialdeislanegra', 0.00012537482)\n",
      "('overrated', 0.0001253748)\n",
      "('island', 0.00012537479)\n",
      "('november', 0.00012537478)\n",
      "('towritelikeanalgorithm', 0.00012537478)\n",
      "('criticizedlocalstrongmen', 0.00012537476)\n",
      "('placing', 0.00012537476)\n",
      "('calamitatea', 0.00012537475)\n"
     ]
    }
   ],
   "source": [
    "\n",
    "for i in range(5687, 5769):\n",
    "              print(l1[i])"
   ]
  },
  {
   "cell_type": "code",
   "execution_count": 123,
   "metadata": {},
   "outputs": [
    {
     "name": "stdout",
     "output_type": "stream",
     "text": [
      "353\n"
     ]
    }
   ],
   "source": [
    "\n",
    "for i in range(7957):\n",
    "    if l1[i][0]== \"god\":\n",
    "            print(i)"
   ]
  },
  {
   "cell_type": "code",
   "execution_count": 124,
   "metadata": {},
   "outputs": [
    {
     "name": "stdout",
     "output_type": "stream",
     "text": [
      "246\n"
     ]
    }
   ],
   "source": [
    "\n",
    "for i in range(7957):\n",
    "    if l1[i][0]== \"glass\":\n",
    "            print(i)"
   ]
  },
  {
   "cell_type": "code",
   "execution_count": 125,
   "metadata": {},
   "outputs": [
    {
     "name": "stdout",
     "output_type": "stream",
     "text": [
      "161\n"
     ]
    }
   ],
   "source": [
    "for i in range(7957):\n",
    "    if l1[i][0]== \"always\":\n",
    "            print(i)"
   ]
  },
  {
   "cell_type": "code",
   "execution_count": 126,
   "metadata": {},
   "outputs": [
    {
     "name": "stdout",
     "output_type": "stream",
     "text": [
      "1819\n"
     ]
    }
   ],
   "source": [
    "for i in range(7957):\n",
    "    if l1[i][0]== \"empty\":\n",
    "            print(i)"
   ]
  },
  {
   "cell_type": "code",
   "execution_count": 127,
   "metadata": {},
   "outputs": [
    {
     "name": "stdout",
     "output_type": "stream",
     "text": [
      "162\n"
     ]
    }
   ],
   "source": [
    "for i in range(7957):\n",
    "    if l1[i][0]== \"never\":\n",
    "            print(i)"
   ]
  },
  {
   "cell_type": "code",
   "execution_count": 128,
   "metadata": {},
   "outputs": [
    {
     "name": "stdout",
     "output_type": "stream",
     "text": [
      "277\n"
     ]
    }
   ],
   "source": [
    "for i in range(7957):\n",
    "    if l1[i][0]== \"full\":\n",
    "            print(i)"
   ]
  },
  {
   "cell_type": "code",
   "execution_count": 129,
   "metadata": {},
   "outputs": [
    {
     "name": "stdout",
     "output_type": "stream",
     "text": [
      "111\n"
     ]
    }
   ],
   "source": [
    "for i in range(7957):\n",
    "    if l1[i][0]== \"see\":\n",
    "            print(i)"
   ]
  },
  {
   "cell_type": "code",
   "execution_count": 130,
   "metadata": {},
   "outputs": [
    {
     "name": "stdout",
     "output_type": "stream",
     "text": [
      "1568\n"
     ]
    }
   ],
   "source": [
    "for i in range(7957):\n",
    "    if l1[i][0]== \"arts\":\n",
    "            print(i)"
   ]
  },
  {
   "cell_type": "code",
   "execution_count": 131,
   "metadata": {},
   "outputs": [
    {
     "name": "stdout",
     "output_type": "stream",
     "text": [
      "1743\n"
     ]
    }
   ],
   "source": [
    "for i in range(7957):\n",
    "    if l1[i][0]== \"council\":\n",
    "            print(i)"
   ]
  },
  {
   "cell_type": "code",
   "execution_count": 132,
   "metadata": {},
   "outputs": [
    {
     "name": "stdout",
     "output_type": "stream",
     "text": [
      "1912\n"
     ]
    }
   ],
   "source": [
    "for i in range(7957):\n",
    "    if l1[i][0]== \"remembered\":\n",
    "            print(i)"
   ]
  },
  {
   "cell_type": "code",
   "execution_count": 133,
   "metadata": {},
   "outputs": [
    {
     "name": "stdout",
     "output_type": "stream",
     "text": [
      "3436\n"
     ]
    }
   ],
   "source": [
    "for i in range(7957):\n",
    "    if l1[i][0]== \"stipulated\":\n",
    "            print(i)"
   ]
  },
  {
   "cell_type": "code",
   "execution_count": 134,
   "metadata": {},
   "outputs": [
    {
     "name": "stdout",
     "output_type": "stream",
     "text": [
      "37\n"
     ]
    }
   ],
   "source": [
    "for i in range(7957):\n",
    "    if l1[i][0]== \"work\":\n",
    "            print(i)"
   ]
  },
  {
   "cell_type": "code",
   "execution_count": 135,
   "metadata": {},
   "outputs": [
    {
     "name": "stdout",
     "output_type": "stream",
     "text": [
      "332\n"
     ]
    }
   ],
   "source": [
    "for i in range(7957):\n",
    "    if l1[i][0]== \"beyond\":\n",
    "            print(i)"
   ]
  },
  {
   "cell_type": "code",
   "execution_count": 136,
   "metadata": {},
   "outputs": [
    {
     "name": "stdout",
     "output_type": "stream",
     "text": [
      "1076\n"
     ]
    }
   ],
   "source": [
    "for i in range(7957):\n",
    "    if l1[i][0]== \"stop\":\n",
    "            print(i)"
   ]
  },
  {
   "cell_type": "code",
   "execution_count": 137,
   "metadata": {},
   "outputs": [
    {
     "name": "stdout",
     "output_type": "stream",
     "text": [
      "6960\n"
     ]
    }
   ],
   "source": [
    "for i in range(7957):\n",
    "    if l1[i][0]== \"complaining\":\n",
    "            print(i)"
   ]
  },
  {
   "cell_type": "code",
   "execution_count": 138,
   "metadata": {},
   "outputs": [
    {
     "name": "stdout",
     "output_type": "stream",
     "text": [
      "1049\n"
     ]
    }
   ],
   "source": [
    "for i in range(7957):\n",
    "    if l1[i][0]== \"projects\":\n",
    "            print(i)"
   ]
  },
  {
   "cell_type": "code",
   "execution_count": 139,
   "metadata": {},
   "outputs": [
    {
     "name": "stdout",
     "output_type": "stream",
     "text": [
      "204\n"
     ]
    }
   ],
   "source": [
    "for i in range(7957):\n",
    "    if l1[i][0]== \"end\":\n",
    "            print(i)"
   ]
  },
  {
   "cell_type": "code",
   "execution_count": 140,
   "metadata": {},
   "outputs": [
    {
     "name": "stdout",
     "output_type": "stream",
     "text": [
      "843\n"
     ]
    }
   ],
   "source": [
    "for i in range(7957):\n",
    "    if l1[i][0]== \"celebration\":\n",
    "            print(i)"
   ]
  },
  {
   "cell_type": "code",
   "execution_count": 141,
   "metadata": {},
   "outputs": [
    {
     "name": "stdout",
     "output_type": "stream",
     "text": [
      "772\n"
     ]
    }
   ],
   "source": [
    "for i in range(7957):\n",
    "    if l1[i][0]== \"worthy\":\n",
    "            print(i)"
   ]
  },
  {
   "cell_type": "code",
   "execution_count": 142,
   "metadata": {},
   "outputs": [
    {
     "name": "stdout",
     "output_type": "stream",
     "text": [
      "1090\n"
     ]
    }
   ],
   "source": [
    "\n",
    "for i in range(7957):\n",
    "    if l1[i][0]== \"mighty\":\n",
    "            print(i)"
   ]
  },
  {
   "cell_type": "code",
   "execution_count": 143,
   "metadata": {},
   "outputs": [
    {
     "name": "stdout",
     "output_type": "stream",
     "text": [
      "68\n"
     ]
    }
   ],
   "source": [
    "for i in range(7957):\n",
    "    if l1[i][0]== \"second\":\n",
    "            print(i)"
   ]
  },
  {
   "cell_type": "code",
   "execution_count": 144,
   "metadata": {},
   "outputs": [
    {
     "name": "stdout",
     "output_type": "stream",
     "text": [
      "348\n"
     ]
    }
   ],
   "source": [
    "for i in range(7957):\n",
    "    if l1[i][0]== \"point\":\n",
    "            print(i)"
   ]
  },
  {
   "cell_type": "code",
   "execution_count": 145,
   "metadata": {},
   "outputs": [
    {
     "name": "stdout",
     "output_type": "stream",
     "text": [
      "64\n"
     ]
    }
   ],
   "source": [
    "for i in range(7957):\n",
    "    if l1[i][0]== \"said\":\n",
    "            print(i)"
   ]
  },
  {
   "cell_type": "code",
   "execution_count": null,
   "metadata": {},
   "outputs": [],
   "source": [
    "for i in range(7957):\n",
    "    if l1[i][0]== \"god\":\n",
    "            print(i)"
   ]
  },
  {
   "cell_type": "code",
   "execution_count": 147,
   "metadata": {},
   "outputs": [
    {
     "name": "stdout",
     "output_type": "stream",
     "text": [
      "269\n"
     ]
    }
   ],
   "source": [
    "\n",
    "for i in range(7957):\n",
    "    if l1[i][0]== \"worse\":\n",
    "            print(i)"
   ]
  },
  {
   "cell_type": "code",
   "execution_count": 148,
   "metadata": {},
   "outputs": [
    {
     "name": "stdout",
     "output_type": "stream",
     "text": [
      "3131\n"
     ]
    }
   ],
   "source": [
    "\n",
    "for i in range(7957):\n",
    "    if l0[i][0]== \"onofflineisterrifying\":\n",
    "            print(i)\n",
    "            \n"
   ]
  },
  {
   "cell_type": "code",
   "execution_count": 149,
   "metadata": {},
   "outputs": [
    {
     "name": "stdout",
     "output_type": "stream",
     "text": [
      "7103\n"
     ]
    }
   ],
   "source": [
    "\n",
    "for i in range(7957):\n",
    "    if l1[i][0]== \"onofflineisterrifying\":\n",
    "            print(i)"
   ]
  },
  {
   "cell_type": "code",
   "execution_count": 150,
   "metadata": {},
   "outputs": [
    {
     "name": "stdout",
     "output_type": "stream",
     "text": [
      "('duriantrees', 6.482747e-05)\n",
      "('gates', 6.482747e-05)\n",
      "('clichésandlamentation', 6.482747e-05)\n",
      "('famille', 6.482747e-05)\n",
      "('investigarea', 6.482746e-05)\n",
      "('contractorilor', 6.482746e-05)\n",
      "('studies', 6.482745e-05)\n",
      "('1960–1989', 6.482745e-05)\n",
      "('london—seems', 6.482745e-05)\n",
      "('constrained', 6.482745e-05)\n",
      "('vâneaz', 6.482745e-05)\n",
      "('aesthetic', 6.4827436e-05)\n",
      "('walt', 6.482743e-05)\n",
      "('întuneric', 6.482743e-05)\n",
      "('lines—', 6.4827414e-05)\n",
      "('theclinamenofpataphysics', 6.4827414e-05)\n",
      "('rewriting', 6.4827414e-05)\n",
      "('breeds', 6.482741e-05)\n",
      "('voyeurleers', 6.482741e-05)\n",
      "('rightly', 6.482741e-05)\n",
      "('replicants', 6.48274e-05)\n",
      "('îi', 6.48274e-05)\n",
      "('statement', 6.4827385e-05)\n",
      "('pairs', 6.4827385e-05)\n",
      "('iwasdrivingacrosstheburningdesert', 6.4827385e-05)\n",
      "('arecaughtintheseenunciativesystems', 6.482738e-05)\n",
      "('deodată', 6.482738e-05)\n",
      "('footsoutsidethedoor', 6.482738e-05)\n",
      "('hopefulness', 6.482737e-05)\n",
      "('uşa', 6.482736e-05)\n",
      "('gleaming', 6.482736e-05)\n",
      "('garbage', 6.482736e-05)\n",
      "('amanții', 6.4827356e-05)\n",
      "('pereți', 6.4827356e-05)\n",
      "('dăi', 6.4827356e-05)\n",
      "('halves', 6.4827356e-05)\n",
      "('caring', 6.4827356e-05)\n",
      "('quantitative', 6.482735e-05)\n",
      "('heavenontheirminds', 6.482735e-05)\n",
      "('zoomorfele', 6.482735e-05)\n",
      "('andlotsoffunbutnotanocean', 6.482734e-05)\n",
      "('onofflineisterrifying', 6.482734e-05)\n",
      "('philological', 6.4827334e-05)\n",
      "('meal', 6.482733e-05)\n",
      "('niște', 6.482733e-05)\n",
      "('primăveri', 6.482733e-05)\n",
      "('snappy', 6.482733e-05)\n",
      "('risksoftrustingalgorithmsandcomputationalityuncritically', 6.482733e-05)\n",
      "('seara', 6.482732e-05)\n",
      "('jungle', 6.482731e-05)\n",
      "('copies', 6.482731e-05)\n",
      "('modelate', 6.482731e-05)\n",
      "('1845', 6.4827305e-05)\n",
      "('accompagné', 6.48273e-05)\n",
      "('muncamultoriubirișicupieleacelorpierduți', 6.48273e-05)\n",
      "('locuită', 6.48273e-05)\n",
      "('weareenteringodeeperanddeepergazebygazeothisplacebeyondtheotherplacesobeyondthebodyitselfwearemakingolove', 6.482729e-05)\n",
      "('fulloflightandmovementlines', 6.482729e-05)\n",
      "('constructing', 6.482729e-05)\n",
      "('stonesomeonetodeath', 6.482729e-05)\n",
      "('întrebi', 6.482729e-05)\n",
      "('rar', 6.482729e-05)\n",
      "('₫', 6.482728e-05)\n",
      "('memelemorfozoice', 6.4827276e-05)\n",
      "('trec', 6.4827276e-05)\n",
      "('trajectory', 6.482727e-05)\n",
      "('spanac', 6.482727e-05)\n",
      "('desfășurată', 6.4827254e-05)\n",
      "('sc', 6.4827254e-05)\n",
      "('alții', 6.4827254e-05)\n",
      "('friday', 6.4827254e-05)\n",
      "('repetitivework', 6.4827254e-05)\n",
      "('makinggoodtheforetoldhistory', 6.4827254e-05)\n",
      "('advances', 6.482724e-05)\n",
      "('documentelor', 6.482724e-05)\n",
      "('tolănită', 6.482723e-05)\n",
      "('bântui', 6.482722e-05)\n",
      "('jove', 6.482722e-05)\n",
      "('pline', 6.482722e-05)\n",
      "('undercurrents', 6.482721e-05)\n",
      "('literarywork', 6.482721e-05)\n",
      "('perennial', 6.48272e-05)\n"
     ]
    }
   ],
   "source": [
    "\n",
    "for i in range(3090, 3172):\n",
    "              print(l0[i])"
   ]
  },
  {
   "cell_type": "code",
   "execution_count": 151,
   "metadata": {},
   "outputs": [
    {
     "name": "stdout",
     "output_type": "stream",
     "text": [
      "('advances', 0.00012535452)\n",
      "('tolănită', 0.0001253545)\n",
      "('documentelor', 0.00012535449)\n",
      "('desfășurată', 0.00012535448)\n",
      "('jove', 0.00012535445)\n",
      "('makinggoodtheforetoldhistory', 0.00012535437)\n",
      "('sc', 0.00012535437)\n",
      "('pline', 0.00012535433)\n",
      "('alții', 0.0001253543)\n",
      "('spanac', 0.0001253543)\n",
      "('trec', 0.00012535429)\n",
      "('trajectory', 0.00012535424)\n",
      "('întrebi', 0.0001253542)\n",
      "('₫', 0.0001253542)\n",
      "('constructing', 0.0001253542)\n",
      "('repetitivework', 0.0001253542)\n",
      "('weareenteringodeeperanddeepergazebygazeothisplacebeyondtheotherplacesobeyondthebodyitselfwearemakingolove', 0.00012535417)\n",
      "('muncamultoriubirișicupieleacelorpierduți', 0.00012535416)\n",
      "('memelemorfozoice', 0.00012535414)\n",
      "('fulloflightandmovementlines', 0.00012535413)\n",
      "('1845', 0.00012535413)\n",
      "('risksoftrustingalgorithmsandcomputationalityuncritically', 0.00012535411)\n",
      "('modelate', 0.00012535411)\n",
      "('rar', 0.0001253541)\n",
      "('copies', 0.00012535407)\n",
      "('primăveri', 0.00012535405)\n",
      "('locuită', 0.00012535404)\n",
      "('jungle', 0.00012535404)\n",
      "('stonesomeonetodeath', 0.00012535404)\n",
      "('friday', 0.00012535402)\n",
      "('accompagné', 0.00012535402)\n",
      "('meal', 0.00012535398)\n",
      "('philological', 0.00012535398)\n",
      "('niște', 0.00012535398)\n",
      "('seara', 0.00012535397)\n",
      "('heavenontheirminds', 0.00012535394)\n",
      "('snappy', 0.00012535392)\n",
      "('andlotsoffunbutnotanocean', 0.00012535392)\n",
      "('pereți', 0.00012535391)\n",
      "('caring', 0.0001253539)\n",
      "('uşa', 0.00012535386)\n",
      "('onofflineisterrifying', 0.00012535384)\n",
      "('quantitative', 0.00012535382)\n",
      "('arecaughtintheseenunciativesystems', 0.0001253538)\n",
      "('deodată', 0.0001253538)\n",
      "('zoomorfele', 0.00012535379)\n",
      "('footsoutsidethedoor', 0.00012535375)\n",
      "('halves', 0.00012535375)\n",
      "('amanții', 0.00012535373)\n",
      "('hopefulness', 0.00012535372)\n",
      "('gleaming', 0.00012535369)\n",
      "('garbage', 0.00012535369)\n",
      "('dăi', 0.00012535363)\n",
      "('statement', 0.0001253536)\n",
      "('rewriting', 0.0001253536)\n",
      "('voyeurleers', 0.00012535356)\n",
      "('replicants', 0.00012535354)\n",
      "('îi', 0.00012535354)\n",
      "('rightly', 0.00012535352)\n",
      "('pairs', 0.00012535352)\n",
      "('iwasdrivingacrosstheburningdesert', 0.0001253535)\n",
      "('lines—', 0.00012535349)\n",
      "('breeds', 0.00012535347)\n",
      "('theclinamenofpataphysics', 0.00012535344)\n",
      "('walt', 0.00012535344)\n",
      "('aesthetic', 0.00012535338)\n",
      "('london—seems', 0.0001253533)\n",
      "('vâneaz', 0.00012535328)\n",
      "('1960–1989', 0.00012535328)\n",
      "('constrained', 0.00012535327)\n",
      "('gates', 0.00012535321)\n",
      "('claptrap', 0.00012535318)\n",
      "('întuneric', 0.00012535315)\n",
      "('contractorilor', 0.00012535315)\n",
      "('studies', 0.00012535314)\n",
      "('investigarea', 0.00012535314)\n",
      "('famille', 0.00012535311)\n",
      "('duriantrees', 0.00012535311)\n",
      "('williamsburgbrooklyn', 0.00012535311)\n",
      "('juba', 0.00012535305)\n",
      "('stins', 0.00012535304)\n",
      "('clichésandlamentation', 0.00012535304)\n"
     ]
    }
   ],
   "source": [
    "\n",
    "for i in range(7062, 7144):\n",
    "              print(l1[i])"
   ]
  },
  {
   "cell_type": "code",
   "execution_count": 152,
   "metadata": {},
   "outputs": [
    {
     "name": "stdout",
     "output_type": "stream",
     "text": [
      "1187\n"
     ]
    }
   ],
   "source": [
    "for i in range(7957):\n",
    "    if l1[i][0]== \"cut\":\n",
    "            print(i)"
   ]
  },
  {
   "cell_type": "code",
   "execution_count": 153,
   "metadata": {},
   "outputs": [
    {
     "name": "stdout",
     "output_type": "stream",
     "text": [
      "5713\n"
     ]
    }
   ],
   "source": [
    "for i in range(7957):\n",
    "    if l1[i][0]== \"pasted\":\n",
    "            print(i)"
   ]
  },
  {
   "cell_type": "code",
   "execution_count": 154,
   "metadata": {},
   "outputs": [
    {
     "name": "stdout",
     "output_type": "stream",
     "text": [
      "471\n"
     ]
    }
   ],
   "source": [
    "for i in range(7957):\n",
    "    if l1[i][0]== \"references\":\n",
    "            print(i)"
   ]
  },
  {
   "cell_type": "code",
   "execution_count": 155,
   "metadata": {},
   "outputs": [
    {
     "name": "stdout",
     "output_type": "stream",
     "text": [
      "2866\n"
     ]
    }
   ],
   "source": [
    "for i in range(7957):\n",
    "    if l1[i][0]== \"amazon\":\n",
    "            print(i)"
   ]
  },
  {
   "cell_type": "code",
   "execution_count": 156,
   "metadata": {},
   "outputs": [
    {
     "name": "stdout",
     "output_type": "stream",
     "text": [
      "947\n"
     ]
    }
   ],
   "source": [
    "for i in range(7957):\n",
    "    if l1[i][0]== \"searched\":\n",
    "            print(i)"
   ]
  },
  {
   "cell_type": "code",
   "execution_count": 157,
   "metadata": {},
   "outputs": [
    {
     "name": "stdout",
     "output_type": "stream",
     "text": [
      "4124\n"
     ]
    }
   ],
   "source": [
    "\n",
    "for i in range(7957):\n",
    "    if l1[i][0]== \"bank\":\n",
    "            print(i)"
   ]
  },
  {
   "cell_type": "code",
   "execution_count": 158,
   "metadata": {},
   "outputs": [
    {
     "name": "stdout",
     "output_type": "stream",
     "text": [
      "1551\n"
     ]
    }
   ],
   "source": [
    "for i in range(7957):\n",
    "    if l1[i][0]== \"account\":\n",
    "            print(i)"
   ]
  },
  {
   "cell_type": "code",
   "execution_count": 159,
   "metadata": {},
   "outputs": [
    {
     "name": "stdout",
     "output_type": "stream",
     "text": [
      "1921\n"
     ]
    }
   ],
   "source": [
    "for i in range(7957):\n",
    "    if l1[i][0]== \"cry\":\n",
    "            print(i)"
   ]
  },
  {
   "cell_type": "code",
   "execution_count": 160,
   "metadata": {},
   "outputs": [
    {
     "name": "stdout",
     "output_type": "stream",
     "text": [
      "4385\n"
     ]
    }
   ],
   "source": [
    "for i in range(7957):\n",
    "    if l1[i][0]== \"assist\":\n",
    "            print(i)"
   ]
  },
  {
   "cell_type": "code",
   "execution_count": 161,
   "metadata": {},
   "outputs": [
    {
     "name": "stdout",
     "output_type": "stream",
     "text": [
      "1817\n"
     ]
    }
   ],
   "source": [
    "for i in range(7957):\n",
    "    if l1[i][0]== \"british\":\n",
    "            print(i)"
   ]
  },
  {
   "cell_type": "code",
   "execution_count": 162,
   "metadata": {},
   "outputs": [
    {
     "name": "stdout",
     "output_type": "stream",
     "text": [
      "5835\n"
     ]
    }
   ],
   "source": [
    "for i in range(7957):\n",
    "    if l1[i][0]== \"library\":\n",
    "            print(i)"
   ]
  },
  {
   "cell_type": "code",
   "execution_count": 163,
   "metadata": {},
   "outputs": [
    {
     "name": "stdout",
     "output_type": "stream",
     "text": [
      "7338\n"
     ]
    }
   ],
   "source": [
    "\n",
    "for i in range(7957):\n",
    "    if l1[i][0]== \"knackered\":\n",
    "            print(i)"
   ]
  },
  {
   "cell_type": "code",
   "execution_count": 164,
   "metadata": {},
   "outputs": [
    {
     "name": "stdout",
     "output_type": "stream",
     "text": [
      "86\n"
     ]
    }
   ],
   "source": [
    "\n",
    "for i in range(7957):\n",
    "    if l1[i][0]== \"thought\":\n",
    "            print(i)"
   ]
  },
  {
   "cell_type": "code",
   "execution_count": 165,
   "metadata": {},
   "outputs": [
    {
     "name": "stdout",
     "output_type": "stream",
     "text": [
      "118\n"
     ]
    }
   ],
   "source": [
    "for i in range(7957):\n",
    "    if l1[i][0]== \"every\":\n",
    "            print(i)"
   ]
  },
  {
   "cell_type": "code",
   "execution_count": 166,
   "metadata": {},
   "outputs": [
    {
     "name": "stdout",
     "output_type": "stream",
     "text": [
      "110\n"
     ]
    }
   ],
   "source": [
    "\n",
    "for i in range(7957):\n",
    "    if l1[i][0]== \"before\":\n",
    "            print(i)"
   ]
  },
  {
   "cell_type": "code",
   "execution_count": 167,
   "metadata": {},
   "outputs": [
    {
     "name": "stdout",
     "output_type": "stream",
     "text": [
      "643\n"
     ]
    }
   ],
   "source": [
    "for i in range(7957):\n",
    "    if l1[i][0]== \"wrong\":\n",
    "            print(i)"
   ]
  },
  {
   "cell_type": "code",
   "execution_count": 168,
   "metadata": {},
   "outputs": [
    {
     "name": "stdout",
     "output_type": "stream",
     "text": [
      "1220\n"
     ]
    }
   ],
   "source": [
    "for i in range(7957):\n",
    "    if l1[i][0]== \"partly\":\n",
    "            print(i)"
   ]
  },
  {
   "cell_type": "code",
   "execution_count": 169,
   "metadata": {},
   "outputs": [
    {
     "name": "stdout",
     "output_type": "stream",
     "text": [
      "132\n"
     ]
    }
   ],
   "source": [
    "for i in range(7957):\n",
    "    if l1[i][0]== \"best\":\n",
    "            print(i)"
   ]
  },
  {
   "cell_type": "code",
   "execution_count": 170,
   "metadata": {},
   "outputs": [
    {
     "name": "stdout",
     "output_type": "stream",
     "text": [
      "9\n"
     ]
    }
   ],
   "source": [
    "\n",
    "for i in range(7957):\n",
    "    if l1[i][0]== \"all\":\n",
    "            print(i)"
   ]
  },
  {
   "cell_type": "code",
   "execution_count": 171,
   "metadata": {},
   "outputs": [
    {
     "name": "stdout",
     "output_type": "stream",
     "text": [
      "1235\n"
     ]
    }
   ],
   "source": [
    "for i in range(7957):\n",
    "    if l1[i][0]== \"inspiration\":\n",
    "            print(i)"
   ]
  },
  {
   "cell_type": "code",
   "execution_count": 172,
   "metadata": {},
   "outputs": [
    {
     "name": "stdout",
     "output_type": "stream",
     "text": [
      "997\n"
     ]
    }
   ],
   "source": [
    "for i in range(7957):\n",
    "    if l1[i][0]== \"gone\":\n",
    "            print(i)"
   ]
  },
  {
   "cell_type": "code",
   "execution_count": 173,
   "metadata": {},
   "outputs": [
    {
     "name": "stdout",
     "output_type": "stream",
     "text": [
      "7751\n"
     ]
    }
   ],
   "source": [
    "\n",
    "for i in range(7957):\n",
    "    if l0[i][0]== \"butitsnotartorpoetry\":\n",
    "            print(i)"
   ]
  },
  {
   "cell_type": "code",
   "execution_count": 174,
   "metadata": {},
   "outputs": [
    {
     "name": "stdout",
     "output_type": "stream",
     "text": [
      "2475\n"
     ]
    }
   ],
   "source": [
    "\n",
    "for i in range(7957):\n",
    "    if l1[i][0]== \"butitsnotartorpoetry\":\n",
    "            print(i)"
   ]
  },
  {
   "cell_type": "code",
   "execution_count": 175,
   "metadata": {},
   "outputs": [
    {
     "name": "stdout",
     "output_type": "stream",
     "text": [
      "('afară', 6.481273e-05)\n",
      "('formallanguages', 6.4812724e-05)\n",
      "('rescue—an', 6.481271e-05)\n",
      "('edward', 6.481271e-05)\n",
      "('deschise', 6.481269e-05)\n",
      "('italicized', 6.4812666e-05)\n",
      "('thousand', 6.481264e-05)\n",
      "('rugăciune', 6.481262e-05)\n",
      "('exploiting', 6.481261e-05)\n",
      "('cause', 6.4812586e-05)\n",
      "('mozeu', 6.4812564e-05)\n",
      "('soundandfury', 6.4812564e-05)\n",
      "('tear', 6.4812564e-05)\n",
      "('acceptată', 6.481255e-05)\n",
      "('transnationalism', 6.4812535e-05)\n",
      "('fallenorganisms', 6.481253e-05)\n",
      "('obey', 6.481251e-05)\n",
      "('dignify', 6.481251e-05)\n",
      "('idilen', 6.481251e-05)\n",
      "('statistics', 6.4812484e-05)\n",
      "('perseverezi', 6.481248e-05)\n",
      "('sudului', 6.481248e-05)\n",
      "('impress', 6.481244e-05)\n",
      "('strămoș', 6.481244e-05)\n",
      "('pesubrândurirânduri', 6.4812426e-05)\n",
      "('fills', 6.4812426e-05)\n",
      "('fluent', 6.481241e-05)\n",
      "('quantity', 6.481241e-05)\n",
      "('taie', 6.4812404e-05)\n",
      "('blush', 6.481238e-05)\n",
      "('radios', 6.4812375e-05)\n",
      "('formei', 6.481237e-05)\n",
      "('knit', 6.481237e-05)\n",
      "('discussed', 6.481235e-05)\n",
      "('furnicături', 6.481235e-05)\n",
      "('agreeartistpoetovidmarlowelinesfinallyindecisionscomplicationsmonologuestragicomicprotagonistsprologueplanheritagelandedsomepeoplebetweenintegrationmulticulturalorganizedjulyconferencebritishcouncilpartfundedpresentationconstanta2018anticusallianceaimdobrujaculturesbanishedad8celebrateplayarcdisplaytendenciesdialoguesplotdisagreementsresolutionweddedbeddeddownplayerssidesofmeplaytheendtolast', 6.481233e-05)\n",
      "('violent', 6.481232e-05)\n",
      "('1965', 6.481231e-05)\n",
      "('danseze', 6.481229e-05)\n",
      "('analyze', 6.481228e-05)\n",
      "('lire', 6.481227e-05)\n",
      "('butitsnotartorpoetry', 6.481226e-05)\n",
      "('cărți', 6.481223e-05)\n",
      "('trains', 6.481221e-05)\n",
      "('textualities', 6.481221e-05)\n",
      "('splashes', 6.4812164e-05)\n",
      "('options', 6.4812164e-05)\n",
      "('maintain', 6.481215e-05)\n",
      "('carriage', 6.4812135e-05)\n",
      "('logically', 6.481211e-05)\n",
      "('province', 6.48121e-05)\n",
      "('uită', 6.4812084e-05)\n",
      "('măslinie', 6.481207e-05)\n",
      "('ducă', 6.4812055e-05)\n",
      "('uncertainties', 6.4812055e-05)\n",
      "('221', 6.481202e-05)\n",
      "('bunicii', 6.481201e-05)\n",
      "('monologues', 6.481201e-05)\n",
      "('youth', 6.481198e-05)\n",
      "('balding', 6.481195e-05)\n",
      "('airport', 6.481195e-05)\n",
      "('eternity', 6.481192e-05)\n",
      "('canfixyourwildestneeds', 6.481192e-05)\n",
      "('containing', 6.481191e-05)\n",
      "('adaptations', 6.481191e-05)\n",
      "('doze', 6.4811895e-05)\n",
      "('catching', 6.481189e-05)\n",
      "('altoi', 6.4811866e-05)\n",
      "('levels', 6.481185e-05)\n",
      "('moses', 6.481184e-05)\n",
      "('seats', 6.481181e-05)\n",
      "('major', 6.4811786e-05)\n",
      "('altminteri', 6.4811764e-05)\n",
      "('contributorsro', 6.481175e-05)\n",
      "('anagrams', 6.481174e-05)\n",
      "('hiskindnesswithoutselfregardoalmostwithoutself', 6.4811735e-05)\n",
      "('blewaway', 6.481171e-05)\n",
      "('dabbler', 6.4811706e-05)\n",
      "('soin', 6.48117e-05)\n",
      "('bluster', 6.481169e-05)\n",
      "('hierarchies', 6.481169e-05)\n",
      "('currently', 6.481168e-05)\n"
     ]
    }
   ],
   "source": [
    "\n",
    "for i in range(7710, 7792):\n",
    "              print(l0[i])"
   ]
  },
  {
   "cell_type": "code",
   "execution_count": 176,
   "metadata": {},
   "outputs": [
    {
     "name": "stdout",
     "output_type": "stream",
     "text": [
      "('digitale', 0.00012544241)\n",
      "('bluster', 0.00012544231)\n",
      "('currently', 0.00012544225)\n",
      "('dabbler', 0.00012544217)\n",
      "('hierarchies', 0.00012544214)\n",
      "('soin', 0.00012544211)\n",
      "('blewaway', 0.00012544211)\n",
      "('anagrams', 0.00012544202)\n",
      "('hiskindnesswithoutselfregardoalmostwithoutself', 0.00012544187)\n",
      "('contributorsro', 0.00012544187)\n",
      "('altminteri', 0.00012544167)\n",
      "('major', 0.00012544164)\n",
      "('seats', 0.00012544163)\n",
      "('moses', 0.00012544155)\n",
      "('altoi', 0.00012544128)\n",
      "('levels', 0.0001254412)\n",
      "('doze', 0.00012544109)\n",
      "('eternity', 0.00012544106)\n",
      "('catching', 0.00012544106)\n",
      "('canfixyourwildestneeds', 0.00012544089)\n",
      "('containing', 0.00012544086)\n",
      "('adaptations', 0.00012544086)\n",
      "('balding', 0.00012544073)\n",
      "('airport', 0.00012544045)\n",
      "('221', 0.0001254403)\n",
      "('youth', 0.00012544025)\n",
      "('bunicii', 0.00012544025)\n",
      "('monologues', 0.00012544022)\n",
      "('uncertainties', 0.0001254402)\n",
      "('măslinie', 0.00012544006)\n",
      "('ducă', 0.00012544004)\n",
      "('uită', 0.00012543992)\n",
      "('province', 0.0001254399)\n",
      "('logically', 0.0001254398)\n",
      "('carriage', 0.00012543975)\n",
      "('maintain', 0.00012543958)\n",
      "('options', 0.0001254395)\n",
      "('splashes', 0.00012543943)\n",
      "('textualities', 0.00012543928)\n",
      "('trains', 0.00012543914)\n",
      "('cărți', 0.00012543907)\n",
      "('butitsnotartorpoetry', 0.00012543894)\n",
      "('lire', 0.0001254389)\n",
      "('analyze', 0.00012543882)\n",
      "('danseze', 0.00012543879)\n",
      "('1965', 0.00012543866)\n",
      "('agreeartistpoetovidmarlowelinesfinallyindecisionscomplicationsmonologuestragicomicprotagonistsprologueplanheritagelandedsomepeoplebetweenintegrationmulticulturalorganizedjulyconferencebritishcouncilpartfundedpresentationconstanta2018anticusallianceaimdobrujaculturesbanishedad8celebrateplayarcdisplaytendenciesdialoguesplotdisagreementsresolutionweddedbeddeddownplayerssidesofmeplaytheendtolast', 0.00012543863)\n",
      "('violent', 0.00012543862)\n",
      "('discussed', 0.00012543841)\n",
      "('radios', 0.00012543838)\n",
      "('furnicături', 0.00012543837)\n",
      "('knit', 0.00012543837)\n",
      "('formei', 0.0001254383)\n",
      "('blush', 0.00012543828)\n",
      "('fluent', 0.00012543818)\n",
      "('quantity', 0.0001254381)\n",
      "('fills', 0.00012543808)\n",
      "('taie', 0.00012543806)\n",
      "('impress', 0.00012543803)\n",
      "('pesubrândurirânduri', 0.00012543797)\n",
      "('strămoș', 0.00012543796)\n",
      "('perseverezi', 0.00012543781)\n",
      "('statistics', 0.00012543777)\n",
      "('sudului', 0.00012543776)\n",
      "('dignify', 0.00012543757)\n",
      "('obey', 0.00012543757)\n",
      "('tear', 0.00012543744)\n",
      "('acceptată', 0.00012543738)\n",
      "('mozeu', 0.00012543732)\n",
      "('idilen', 0.00012543732)\n",
      "('transnationalism', 0.00012543729)\n",
      "('fallenorganisms', 0.00012543729)\n"
     ]
    }
   ],
   "source": [
    "\n",
    "for i in range(2434, 2506):\n",
    "              print(l1[i])"
   ]
  },
  {
   "cell_type": "code",
   "execution_count": 181,
   "metadata": {},
   "outputs": [
    {
     "name": "stdout",
     "output_type": "stream",
     "text": [
      "484\n"
     ]
    }
   ],
   "source": [
    "\n",
    "for i in range(7957):\n",
    "    if l0[i][0]== \"nothing\":\n",
    "            print(i)"
   ]
  },
  {
   "cell_type": "code",
   "execution_count": 182,
   "metadata": {},
   "outputs": [
    {
     "name": "stdout",
     "output_type": "stream",
     "text": [
      "635\n"
     ]
    }
   ],
   "source": [
    "for i in range(7957):\n",
    "    if l0[i][0]== \"left\":\n",
    "            print(i)"
   ]
  },
  {
   "cell_type": "code",
   "execution_count": 183,
   "metadata": {},
   "outputs": [
    {
     "name": "stdout",
     "output_type": "stream",
     "text": [
      "43\n"
     ]
    }
   ],
   "source": [
    "for i in range(7957):\n",
    "    if l0[i][0]== \"no\":\n",
    "            print(i)"
   ]
  },
  {
   "cell_type": "code",
   "execution_count": 184,
   "metadata": {},
   "outputs": [
    {
     "name": "stdout",
     "output_type": "stream",
     "text": [
      "398\n"
     ]
    }
   ],
   "source": [
    "\n",
    "for i in range(7957):\n",
    "    if l1[i][0]== \"sources\":\n",
    "            print(i)"
   ]
  },
  {
   "cell_type": "code",
   "execution_count": 185,
   "metadata": {},
   "outputs": [
    {
     "name": "stdout",
     "output_type": "stream",
     "text": [
      "5368\n"
     ]
    }
   ],
   "source": [
    "for i in range(7957):\n",
    "    if l1[i][0]== \"currenttheories\":\n",
    "            print(i)"
   ]
  },
  {
   "cell_type": "code",
   "execution_count": 186,
   "metadata": {},
   "outputs": [
    {
     "name": "stdout",
     "output_type": "stream",
     "text": [
      "164\n"
     ]
    }
   ],
   "source": [
    "for i in range(7957):\n",
    "    if l1[i][0]== \"day\":\n",
    "            print(i)"
   ]
  },
  {
   "cell_type": "code",
   "execution_count": 187,
   "metadata": {},
   "outputs": [
    {
     "name": "stdout",
     "output_type": "stream",
     "text": [
      "222\n"
     ]
    }
   ],
   "source": [
    "for i in range(7957):\n",
    "    if l1[i][0]== \"art\":\n",
    "            print(i)"
   ]
  },
  {
   "cell_type": "code",
   "execution_count": 188,
   "metadata": {},
   "outputs": [
    {
     "name": "stdout",
     "output_type": "stream",
     "text": [
      "449\n"
     ]
    }
   ],
   "source": [
    "for i in range(7957):\n",
    "    if l0[i][0]== \"try\":\n",
    "            print(i)"
   ]
  },
  {
   "cell_type": "code",
   "execution_count": 189,
   "metadata": {},
   "outputs": [
    {
     "name": "stdout",
     "output_type": "stream",
     "text": [
      "49\n"
     ]
    }
   ],
   "source": [
    "\n",
    "for i in range(7957):\n",
    "    if l0[i][0]== \"write\":\n",
    "            print(i)"
   ]
  },
  {
   "cell_type": "code",
   "execution_count": 190,
   "metadata": {},
   "outputs": [
    {
     "name": "stdout",
     "output_type": "stream",
     "text": [
      "611\n"
     ]
    }
   ],
   "source": [
    "for i in range(7957):\n",
    "    if l0[i][0]== \"next\":\n",
    "            print(i)"
   ]
  },
  {
   "cell_type": "code",
   "execution_count": 191,
   "metadata": {},
   "outputs": [
    {
     "name": "stdout",
     "output_type": "stream",
     "text": [
      "275\n"
     ]
    }
   ],
   "source": [
    "for i in range(7957):\n",
    "    if l0[i][0]== \"word\":\n",
    "            print(i)"
   ]
  },
  {
   "cell_type": "code",
   "execution_count": 193,
   "metadata": {},
   "outputs": [
    {
     "name": "stdout",
     "output_type": "stream",
     "text": [
      "982\n"
     ]
    }
   ],
   "source": [
    "for i in range(7957):\n",
    "    if l0[i][0]== \"translate\":\n",
    "            print(i)"
   ]
  },
  {
   "cell_type": "code",
   "execution_count": 194,
   "metadata": {},
   "outputs": [
    {
     "name": "stdout",
     "output_type": "stream",
     "text": [
      "56\n"
     ]
    }
   ],
   "source": [
    "for i in range(7957):\n",
    "    if l0[i][0]== \"how\":\n",
    "            print(i)"
   ]
  },
  {
   "cell_type": "code",
   "execution_count": 195,
   "metadata": {},
   "outputs": [],
   "source": [
    "for i in range(7957):\n",
    "    if l0[i][0]== \"great\":\n",
    "            print(i)"
   ]
  },
  {
   "cell_type": "code",
   "execution_count": 196,
   "metadata": {},
   "outputs": [
    {
     "name": "stdout",
     "output_type": "stream",
     "text": [
      "120\n"
     ]
    }
   ],
   "source": [
    "for i in range(7957):\n",
    "    if l0[i][0]== \"language\":\n",
    "            print(i)"
   ]
  },
  {
   "cell_type": "code",
   "execution_count": 18,
   "metadata": {},
   "outputs": [
    {
     "name": "stdout",
     "output_type": "stream",
     "text": [
      "7647\n"
     ]
    }
   ],
   "source": [
    "\n",
    "for i in range(7918):\n",
    "    if l0[i][0]== \"withvoicesfloatingplayfulteasing\":\n",
    "            print(i)\n"
   ]
  },
  {
   "cell_type": "code",
   "execution_count": 19,
   "metadata": {},
   "outputs": [
    {
     "name": "stdout",
     "output_type": "stream",
     "text": [
      "2535\n"
     ]
    }
   ],
   "source": [
    "\n",
    "for i in range(7918):\n",
    "    if l1[i][0]== \"withvoicesfloatingplayfulteasing\":\n",
    "            print(i)"
   ]
  },
  {
   "cell_type": "code",
   "execution_count": 20,
   "metadata": {},
   "outputs": [
    {
     "name": "stdout",
     "output_type": "stream",
     "text": [
      "('powers', 6.485125e-05)\n",
      "('intensified', 6.485124e-05)\n",
      "('opri', 6.485124e-05)\n",
      "('reporting', 6.485124e-05)\n",
      "('amoureux', 6.485124e-05)\n",
      "('suits', 6.4851236e-05)\n",
      "('gurăngurăars', 6.4851236e-05)\n",
      "('ability', 6.485123e-05)\n",
      "('waltwhitman', 6.485118e-05)\n",
      "('screen', 6.485118e-05)\n",
      "('thedoors', 6.485116e-05)\n",
      "('african', 6.485113e-05)\n",
      "('onathursdaynight', 6.485109e-05)\n",
      "('takeitback', 6.4851054e-05)\n",
      "('prezențe', 6.485105e-05)\n",
      "('literalinscription', 6.485104e-05)\n",
      "('chords', 6.4851025e-05)\n",
      "('rhymingverse', 6.485102e-05)\n",
      "('acel', 6.485099e-05)\n",
      "('youshallbefreebydegreesandpedigrees', 6.485098e-05)\n",
      "('acţiuni', 6.4850974e-05)\n",
      "('parcului', 6.485095e-05)\n",
      "('policeman', 6.485093e-05)\n",
      "('disposing', 6.485092e-05)\n",
      "('abundance', 6.4850916e-05)\n",
      "('amarul', 6.4850916e-05)\n",
      "('fluidly', 6.48509e-05)\n",
      "('trăi', 6.485083e-05)\n",
      "('pittisshow', 6.485083e-05)\n",
      "('rejoicing', 6.485081e-05)\n",
      "('neuitat', 6.485078e-05)\n",
      "('departenimicnueralafel', 6.485078e-05)\n",
      "('appears', 6.485077e-05)\n",
      "('onetwothreefour', 6.485077e-05)\n",
      "('întro', 6.4850756e-05)\n",
      "('darkened', 6.485075e-05)\n",
      "('delicately', 6.485075e-05)\n",
      "('drafts', 6.485074e-05)\n",
      "('generoasă', 6.4850676e-05)\n",
      "('hop', 6.485067e-05)\n",
      "('expansive', 6.485066e-05)\n",
      "('withvoicesfloatingplayfulteasing', 6.485059e-05)\n",
      "('excitement', 6.485059e-05)\n",
      "('șia', 6.485059e-05)\n",
      "('ovidexile', 6.485056e-05)\n",
      "('throughfreelaboroutofpersonalinterestandviamanifoldcreativeprocesses', 6.4850545e-05)\n",
      "('itspresidentkennedycallingmeup', 6.485053e-05)\n",
      "('searches—coincided', 6.485053e-05)\n",
      "('single', 6.485052e-05)\n",
      "('vertical', 6.48505e-05)\n",
      "('1971', 6.4850436e-05)\n",
      "('wait', 6.485043e-05)\n",
      "('responsibility', 6.485039e-05)\n",
      "('etymology', 6.485038e-05)\n",
      "('promoted', 6.485038e-05)\n",
      "('ruju', 6.485037e-05)\n",
      "('itsmoredifficulttoliethaninanyothergenre', 6.485035e-05)\n",
      "('₫', 6.485033e-05)\n",
      "('io', 6.485033e-05)\n",
      "('bețivul', 6.48503e-05)\n",
      "('spectru', 6.485028e-05)\n",
      "('claptrap', 6.485028e-05)\n",
      "('torpor', 6.485024e-05)\n",
      "('corpul', 6.485023e-05)\n",
      "('eds', 6.485023e-05)\n",
      "('minunata', 6.485021e-05)\n",
      "('hundredyearsgallery', 6.4850174e-05)\n",
      "('mishaps', 6.485015e-05)\n",
      "('descoperiri', 6.4850145e-05)\n",
      "('piety', 6.4850145e-05)\n",
      "('newstravelledthroughthecoolly', 6.485013e-05)\n",
      "('hubris', 6.4850115e-05)\n",
      "('murmuring', 6.48501e-05)\n",
      "('etica', 6.485009e-05)\n",
      "('service', 6.485008e-05)\n",
      "('andtheworksbytheweir', 6.485007e-05)\n",
      "('pasttension', 6.485006e-05)\n",
      "('davis', 6.4850035e-05)\n",
      "('martorul', 6.485002e-05)\n",
      "('throwoff', 6.4850006e-05)\n",
      "('morminte', 6.4850006e-05)\n",
      "('dedorsăbântuipământulgreu', 6.485e-05)\n"
     ]
    }
   ],
   "source": [
    "\n",
    "for i in range(7606, 7688):\n",
    "    print(l0[i])"
   ]
  },
  {
   "cell_type": "code",
   "execution_count": 21,
   "metadata": {},
   "outputs": [
    {
     "name": "stdout",
     "output_type": "stream",
     "text": [
      "('carefully', 0.00012592296)\n",
      "('machinationseattheanticcreatures', 0.00012592252)\n",
      "('throwoff', 0.00012592251)\n",
      "('morminte', 0.00012592251)\n",
      "('martorul', 0.00012592235)\n",
      "('dedorsăbântuipământulgreu', 0.00012592226)\n",
      "('davis', 0.00012592226)\n",
      "('pasttension', 0.00012592222)\n",
      "('service', 0.00012592207)\n",
      "('etica', 0.00012592196)\n",
      "('murmuring', 0.0001259219)\n",
      "('hubris', 0.00012592187)\n",
      "('andtheworksbytheweir', 0.00012592186)\n",
      "('newstravelledthroughthecoolly', 0.00012592181)\n",
      "('piety', 0.00012592175)\n",
      "('mishaps', 0.00012592168)\n",
      "('descoperiri', 0.00012592167)\n",
      "('hundredyearsgallery', 0.0001259216)\n",
      "('corpul', 0.00012592133)\n",
      "('minunata', 0.0001259212)\n",
      "('torpor', 0.00012592111)\n",
      "('eds', 0.00012592108)\n",
      "('claptrap', 0.00012592094)\n",
      "('spectru', 0.00012592092)\n",
      "('₫', 0.00012592091)\n",
      "('bețivul', 0.00012592087)\n",
      "('io', 0.00012592063)\n",
      "('itsmoredifficulttoliethaninanyothergenre', 0.00012592044)\n",
      "('ruju', 0.00012592039)\n",
      "('etymology', 0.00012592037)\n",
      "('promoted', 0.0001259203)\n",
      "('responsibility', 0.0001259203)\n",
      "('wait', 0.00012592024)\n",
      "('1971', 0.00012592005)\n",
      "('vertical', 0.0001259196)\n",
      "('searches—coincided', 0.00012591956)\n",
      "('single', 0.00012591954)\n",
      "('itspresidentkennedycallingmeup', 0.00012591947)\n",
      "('throughfreelaboroutofpersonalinterestandviamanifoldcreativeprocesses', 0.00012591938)\n",
      "('ovidexile', 0.00012591935)\n",
      "('excitement', 0.0001259193)\n",
      "('withvoicesfloatingplayfulteasing', 0.00012591916)\n",
      "('șia', 0.00012591902)\n",
      "('expansive', 0.00012591876)\n",
      "('hop', 0.00012591867)\n",
      "('generoasă', 0.00012591865)\n",
      "('întro', 0.00012591833)\n",
      "('delicately', 0.0001259183)\n",
      "('onetwothreefour', 0.00012591826)\n",
      "('drafts', 0.0001259182)\n",
      "('darkened', 0.00012591819)\n",
      "('neuitat', 0.00012591814)\n",
      "('appears', 0.00012591814)\n",
      "('departenimicnueralafel', 0.00012591798)\n",
      "('rejoicing', 0.00012591782)\n",
      "('pittisshow', 0.00012591775)\n",
      "('trăi', 0.00012591774)\n",
      "('fluidly', 0.00012591742)\n",
      "('amarul', 0.00012591732)\n",
      "('disposing', 0.00012591729)\n",
      "('policeman', 0.0001259172)\n",
      "('abundance', 0.00012591715)\n",
      "('parcului', 0.00012591711)\n",
      "('alicenotley', 0.0001259171)\n",
      "('youshallbefreebydegreesandpedigrees', 0.00012591698)\n",
      "('acţiuni', 0.00012591697)\n",
      "('acel', 0.00012591678)\n",
      "('rhymingverse', 0.00012591675)\n",
      "('chords', 0.0001259167)\n",
      "('prezențe', 0.00012591662)\n",
      "('literalinscription', 0.00012591654)\n",
      "('takeitback', 0.00012591647)\n",
      "('onathursdaynight', 0.00012591621)\n",
      "('african', 0.00012591608)\n",
      "('thedoors', 0.00012591579)\n",
      "('screen', 0.00012591576)\n",
      "('waltwhitman', 0.00012591566)\n",
      "('gurăngurăars', 0.00012591558)\n",
      "('ability', 0.00012591551)\n",
      "('suits', 0.0001259155)\n",
      "('intensified', 0.00012591548)\n",
      "('reporting', 0.00012591545)\n"
     ]
    }
   ],
   "source": [
    "\n",
    "for i in range(2494, 2576):\n",
    "    print(l1[i])"
   ]
  },
  {
   "cell_type": "code",
   "execution_count": 22,
   "metadata": {},
   "outputs": [
    {
     "name": "stdout",
     "output_type": "stream",
     "text": [
      "3409\n"
     ]
    }
   ],
   "source": [
    "\n",
    "for i in range(7918):\n",
    "    if l0[i][0]== \"moral\":\n",
    "            print(i)"
   ]
  },
  {
   "cell_type": "code",
   "execution_count": 23,
   "metadata": {},
   "outputs": [
    {
     "name": "stdout",
     "output_type": "stream",
     "text": [
      "5898\n"
     ]
    }
   ],
   "source": [
    "\n",
    "for i in range(7918):\n",
    "    if l0[i][0]== \"damning\":\n",
    "            print(i)"
   ]
  },
  {
   "cell_type": "code",
   "execution_count": 24,
   "metadata": {},
   "outputs": [
    {
     "name": "stdout",
     "output_type": "stream",
     "text": [
      "2159\n"
     ]
    }
   ],
   "source": [
    "for i in range(7918):\n",
    "    if l0[i][0]== \"tones\":\n",
    "            print(i)"
   ]
  },
  {
   "cell_type": "code",
   "execution_count": 25,
   "metadata": {},
   "outputs": [
    {
     "name": "stdout",
     "output_type": "stream",
     "text": [
      "2328\n"
     ]
    }
   ],
   "source": [
    "for i in range(7918):\n",
    "    if l0[i][0]== \"negotiations\":\n",
    "            print(i)"
   ]
  },
  {
   "cell_type": "code",
   "execution_count": 26,
   "metadata": {},
   "outputs": [
    {
     "name": "stdout",
     "output_type": "stream",
     "text": [
      "260\n"
     ]
    }
   ],
   "source": [
    "for i in range(7918):\n",
    "    if l0[i][0]== \"finding\":\n",
    "            print(i)"
   ]
  },
  {
   "cell_type": "code",
   "execution_count": 27,
   "metadata": {},
   "outputs": [
    {
     "name": "stdout",
     "output_type": "stream",
     "text": [
      "294\n"
     ]
    }
   ],
   "source": [
    "\n",
    "for i in range(7918):\n",
    "    if l0[i][0]== \"spoken\":\n",
    "            print(i)"
   ]
  },
  {
   "cell_type": "code",
   "execution_count": 28,
   "metadata": {},
   "outputs": [
    {
     "name": "stdout",
     "output_type": "stream",
     "text": [
      "1790\n"
     ]
    }
   ],
   "source": [
    "for i in range(7918):\n",
    "    if l0[i][0]== \"inbetween\":\n",
    "            print(i)"
   ]
  },
  {
   "cell_type": "code",
   "execution_count": 29,
   "metadata": {},
   "outputs": [
    {
     "name": "stdout",
     "output_type": "stream",
     "text": [
      "1007\n"
     ]
    }
   ],
   "source": [
    "for i in range(7918):\n",
    "    if l0[i][0]== \"spaces\":\n",
    "            print(i)"
   ]
  },
  {
   "cell_type": "code",
   "execution_count": 31,
   "metadata": {},
   "outputs": [
    {
     "name": "stdout",
     "output_type": "stream",
     "text": [
      "403\n"
     ]
    }
   ],
   "source": [
    "for i in range(7918):\n",
    "    if l0[i][0]== \"maybe\":\n",
    "            print(i)"
   ]
  },
  {
   "cell_type": "code",
   "execution_count": 32,
   "metadata": {},
   "outputs": [
    {
     "name": "stdout",
     "output_type": "stream",
     "text": [
      "216\n"
     ]
    }
   ],
   "source": [
    "for i in range(7918):\n",
    "    if l0[i][0]== \"art\":\n",
    "            print(i)"
   ]
  },
  {
   "cell_type": "code",
   "execution_count": 33,
   "metadata": {},
   "outputs": [
    {
     "name": "stdout",
     "output_type": "stream",
     "text": [
      "53\n"
     ]
    }
   ],
   "source": [
    "for i in range(7918):\n",
    "    if l0[i][0]== \"how\":\n",
    "            print(i)"
   ]
  },
  {
   "cell_type": "code",
   "execution_count": 34,
   "metadata": {},
   "outputs": [
    {
     "name": "stdout",
     "output_type": "stream",
     "text": [
      "48\n"
     ]
    }
   ],
   "source": [
    "for i in range(7918):\n",
    "    if l0[i][0]== \"know\":\n",
    "            print(i)"
   ]
  },
  {
   "cell_type": "code",
   "execution_count": 35,
   "metadata": {},
   "outputs": [
    {
     "name": "stdout",
     "output_type": "stream",
     "text": [
      "455\n"
     ]
    }
   ],
   "source": [
    "for i in range(7918):\n",
    "    if l0[i][0]== \"beyond\":\n",
    "            print(i)"
   ]
  },
  {
   "cell_type": "code",
   "execution_count": 37,
   "metadata": {},
   "outputs": [
    {
     "name": "stdout",
     "output_type": "stream",
     "text": [
      "364\n"
     ]
    }
   ],
   "source": [
    "for i in range(7918):\n",
    "    if l0[i][0]== \"conference\":\n",
    "            print(i)"
   ]
  },
  {
   "cell_type": "code",
   "execution_count": 38,
   "metadata": {},
   "outputs": [
    {
     "name": "stdout",
     "output_type": "stream",
     "text": [
      "5148\n"
     ]
    }
   ],
   "source": [
    "for i in range(7918):\n",
    "    if l0[i][0]== \"applause\":\n",
    "            print(i)"
   ]
  },
  {
   "cell_type": "code",
   "execution_count": 39,
   "metadata": {},
   "outputs": [
    {
     "name": "stdout",
     "output_type": "stream",
     "text": [
      "3960\n"
     ]
    }
   ],
   "source": [
    "\n",
    "for i in range(7918):\n",
    "    if l0[i][0]== \"achanceofduplicationtrue\":\n",
    "            print(i)"
   ]
  },
  {
   "cell_type": "code",
   "execution_count": 40,
   "metadata": {},
   "outputs": [
    {
     "name": "stdout",
     "output_type": "stream",
     "text": [
      "6222\n"
     ]
    }
   ],
   "source": [
    "\n",
    "for i in range(7918):\n",
    "    if l1[i][0]== \"achanceofduplicationtrue\":\n",
    "            print(i)"
   ]
  },
  {
   "cell_type": "code",
   "execution_count": 41,
   "metadata": {
    "scrolled": true
   },
   "outputs": [
    {
     "name": "stdout",
     "output_type": "stream",
     "text": [
      "('epuizat', 6.486851e-05)\n",
      "('celeilalte', 6.486851e-05)\n",
      "('reveal', 6.486851e-05)\n",
      "('encoded', 6.486851e-05)\n",
      "('territory', 6.486851e-05)\n",
      "('exact', 6.48685e-05)\n",
      "('sample', 6.48685e-05)\n",
      "('attacked', 6.4868495e-05)\n",
      "('lăsat', 6.486849e-05)\n",
      "('delighted', 6.486849e-05)\n",
      "('screening', 6.486849e-05)\n",
      "('îndrăznește', 6.486849e-05)\n",
      "('icanhearatearfrommylowereyeohitthesheet', 6.486847e-05)\n",
      "('exhaustive', 6.486847e-05)\n",
      "('mijlocie', 6.486847e-05)\n",
      "('overlap', 6.486847e-05)\n",
      "('flags', 6.486847e-05)\n",
      "('erred', 6.486847e-05)\n",
      "('alvinlee', 6.486846e-05)\n",
      "('plăceri', 6.486845e-05)\n",
      "('platoul', 6.486845e-05)\n",
      "('aud', 6.486845e-05)\n",
      "('severă', 6.486844e-05)\n",
      "('tân', 6.4868436e-05)\n",
      "('vistas', 6.4868436e-05)\n",
      "('dearest', 6.486843e-05)\n",
      "('lewiscarroll', 6.486843e-05)\n",
      "('grotești', 6.486842e-05)\n",
      "('punctuation', 6.4868414e-05)\n",
      "('sophomoric', 6.4868414e-05)\n",
      "('loves', 6.486841e-05)\n",
      "('zodiac', 6.486841e-05)\n",
      "('variants', 6.48684e-05)\n",
      "('hates', 6.486839e-05)\n",
      "('refusetobelieveeverythingtheyaretoldatschoolorathome', 6.486839e-05)\n",
      "('hisentirefacelitiloveotoseeitchangeificry', 6.486839e-05)\n",
      "('occasions', 6.4868385e-05)\n",
      "('southwest', 6.4868385e-05)\n",
      "('settled', 6.486838e-05)\n",
      "('links', 6.486836e-05)\n",
      "('cre', 6.486836e-05)\n",
      "('achanceofduplicationtrue', 6.486836e-05)\n",
      "('fivebeat', 6.486836e-05)\n",
      "('cârpeautomate', 6.486835e-05)\n",
      "('imobiliare', 6.486835e-05)\n",
      "('taner', 6.486835e-05)\n",
      "('recognize', 6.486835e-05)\n",
      "('rockprogrammeswererecordedontapeandthencirculatedwithininformalnetworks', 6.486834e-05)\n",
      "('paragraphs', 6.486833e-05)\n",
      "('terrain', 6.486833e-05)\n",
      "('peak', 6.4868305e-05)\n",
      "('tear', 6.48683e-05)\n",
      "('subsections', 6.48683e-05)\n",
      "('fundamentalfact', 6.486829e-05)\n",
      "('turbulence', 6.486828e-05)\n",
      "('oohsogood', 6.4868276e-05)\n",
      "('placated', 6.4868276e-05)\n",
      "('inyourpoemyesnotmineoolinesweremineooalthoughtheyremuchmalignedobyyourpoorverseandfourfourtime', 6.4868276e-05)\n",
      "('textualities', 6.486827e-05)\n",
      "('snap', 6.486827e-05)\n",
      "('apparentessences', 6.486826e-05)\n",
      "('hoy', 6.486826e-05)\n",
      "('spentmywholelifeincloudsaticyaltitude', 6.486824e-05)\n",
      "('libertatea', 6.486824e-05)\n",
      "('appelait', 6.486824e-05)\n",
      "('bather', 6.486824e-05)\n",
      "('javra', 6.486823e-05)\n",
      "('tamburlaine', 6.4868225e-05)\n",
      "('doamnă', 6.4868225e-05)\n",
      "('statistically', 6.4868225e-05)\n",
      "('em', 6.4868225e-05)\n",
      "('delusional', 6.4868225e-05)\n",
      "('freetobreathetheair', 6.4868225e-05)\n",
      "('witnesseddozensofkillings', 6.4868225e-05)\n",
      "('alfabetului', 6.4868225e-05)\n",
      "('serie', 6.4868225e-05)\n",
      "('rearranged', 6.486821e-05)\n",
      "('theaudiencesinseattlesingingalongnotonlytoeverylyricbutalsoguitarsolos', 6.486821e-05)\n",
      "('organele', 6.48682e-05)\n",
      "('team', 6.48682e-05)\n",
      "('walked', 6.48682e-05)\n",
      "('cusute', 6.4868196e-05)\n"
     ]
    }
   ],
   "source": [
    "\n",
    "for i in range(3919, 4001):\n",
    "    print(l0[i])"
   ]
  },
  {
   "cell_type": "code",
   "execution_count": 42,
   "metadata": {},
   "outputs": [
    {
     "name": "stdout",
     "output_type": "stream",
     "text": [
      "('informal', 0.00012581941)\n",
      "('delusional', 0.0001258194)\n",
      "('organele', 0.00012581938)\n",
      "('walked', 0.00012581938)\n",
      "('avoluntaryappropriationofallthingsamerican', 0.00012581937)\n",
      "('freetobreathetheair', 0.00012581935)\n",
      "('rearranged', 0.00012581935)\n",
      "('witnesseddozensofkillings', 0.00012581935)\n",
      "('theaudiencesinseattlesingingalongnotonlytoeverylyricbutalsoguitarsolos', 0.00012581935)\n",
      "('team', 0.0001258193)\n",
      "('spentmywholelifeincloudsaticyaltitude', 0.00012581928)\n",
      "('cusute', 0.00012581926)\n",
      "('statistically', 0.00012581926)\n",
      "('em', 0.00012581925)\n",
      "('alfabetului', 0.00012581925)\n",
      "('appelait', 0.00012581922)\n",
      "('doamnă', 0.0001258192)\n",
      "('javra', 0.0001258192)\n",
      "('serie', 0.00012581916)\n",
      "('bather', 0.00012581916)\n",
      "('libertatea', 0.00012581915)\n",
      "('consumption', 0.00012581912)\n",
      "('tamburlaine', 0.00012581903)\n",
      "('snap', 0.00012581902)\n",
      "('inyourpoemyesnotmineoolinesweremineooalthoughtheyremuchmalignedobyyourpoorverseandfourfourtime', 0.00012581899)\n",
      "('textualities', 0.00012581894)\n",
      "('hoy', 0.00012581893)\n",
      "('turbulence', 0.00012581887)\n",
      "('placated', 0.00012581887)\n",
      "('subsections', 0.00012581887)\n",
      "('oohsogood', 0.00012581886)\n",
      "('peak', 0.00012581886)\n",
      "('tear', 0.00012581886)\n",
      "('fundamentalfact', 0.00012581884)\n",
      "('apparentessences', 0.0001258188)\n",
      "('terrain', 0.00012581861)\n",
      "('taner', 0.0001258186)\n",
      "('cre', 0.0001258186)\n",
      "('imobiliare', 0.0001258186)\n",
      "('fivebeat', 0.00012581855)\n",
      "('cârpeautomate', 0.00012581855)\n",
      "('achanceofduplicationtrue', 0.00012581854)\n",
      "('rockprogrammeswererecordedontapeandthencirculatedwithininformalnetworks', 0.00012581851)\n",
      "('paragraphs', 0.00012581848)\n",
      "('hates', 0.00012581845)\n",
      "('occasions', 0.00012581843)\n",
      "('links', 0.0001258184)\n",
      "('recognize', 0.0001258184)\n",
      "('zodiac', 0.00012581839)\n",
      "('southwest', 0.00012581832)\n",
      "('hisentirefacelitiloveotoseeitchangeificry', 0.0001258183)\n",
      "('sophomoric', 0.0001258183)\n",
      "('loves', 0.00012581825)\n",
      "('punctuation', 0.00012581825)\n",
      "('refusetobelieveeverythingtheyaretoldatschoolorathome', 0.00012581819)\n",
      "('settled', 0.00012581817)\n",
      "('lewiscarroll', 0.00012581816)\n",
      "('variants', 0.00012581816)\n",
      "('grotești', 0.00012581809)\n",
      "('plăceri', 0.00012581804)\n",
      "('dearest', 0.00012581804)\n",
      "('vistas', 0.00012581803)\n",
      "('erred', 0.00012581795)\n",
      "('aud', 0.00012581794)\n",
      "('tân', 0.00012581794)\n",
      "('severă', 0.00012581793)\n",
      "('mijlocie', 0.0001258179)\n",
      "('platoul', 0.0001258179)\n",
      "('exhaustive', 0.0001258179)\n",
      "('icanhearatearfrommylowereyeohitthesheet', 0.00012581788)\n",
      "('delighted', 0.00012581788)\n",
      "('flags', 0.00012581785)\n",
      "('encoded', 0.0001258178)\n",
      "('alvinlee', 0.00012581778)\n",
      "('lăsat', 0.00012581778)\n",
      "('îndrăznește', 0.00012581777)\n",
      "('exact', 0.00012581775)\n",
      "('sample', 0.00012581775)\n",
      "('reveal', 0.0001258177)\n",
      "('overlap', 0.0001258177)\n",
      "('owned', 0.00012581763)\n",
      "('attacked', 0.00012581763)\n"
     ]
    }
   ],
   "source": [
    "\n",
    "for i in range(6181, 6263):\n",
    "    print(l1[i])"
   ]
  },
  {
   "cell_type": "code",
   "execution_count": 45,
   "metadata": {},
   "outputs": [
    {
     "name": "stdout",
     "output_type": "stream",
     "text": [
      "1196\n"
     ]
    }
   ],
   "source": [
    "\n",
    "for i in range(7918):\n",
    "    if l1[i][0]== \"waits\":\n",
    "            print(i)"
   ]
  },
  {
   "cell_type": "code",
   "execution_count": 47,
   "metadata": {},
   "outputs": [
    {
     "name": "stdout",
     "output_type": "stream",
     "text": [
      "295\n"
     ]
    }
   ],
   "source": [
    "\n",
    "for i in range(7918):\n",
    "    if l1[i][0]== \"why\":\n",
    "            print(i)"
   ]
  },
  {
   "cell_type": "code",
   "execution_count": 48,
   "metadata": {},
   "outputs": [
    {
     "name": "stdout",
     "output_type": "stream",
     "text": [
      "6\n"
     ]
    }
   ],
   "source": [
    "for i in range(7918):\n",
    "    if l1[i][0]== \"not\":\n",
    "            print(i)"
   ]
  },
  {
   "cell_type": "code",
   "execution_count": 49,
   "metadata": {},
   "outputs": [
    {
     "name": "stdout",
     "output_type": "stream",
     "text": [
      "29\n"
     ]
    }
   ],
   "source": [
    "for i in range(7918):\n",
    "    if l1[i][0]== \"poet\":\n",
    "            print(i)"
   ]
  },
  {
   "cell_type": "code",
   "execution_count": 50,
   "metadata": {},
   "outputs": [
    {
     "name": "stdout",
     "output_type": "stream",
     "text": [
      "83\n"
     ]
    }
   ],
   "source": [
    "for i in range(7918):\n",
    "    if l1[i][0]== \"thought\":\n",
    "            print(i)"
   ]
  },
  {
   "cell_type": "code",
   "execution_count": 51,
   "metadata": {},
   "outputs": [
    {
     "name": "stdout",
     "output_type": "stream",
     "text": [
      "258\n"
     ]
    }
   ],
   "source": [
    "for i in range(7918):\n",
    "    if l1[i][0]== \"thoughts\":\n",
    "            print(i)"
   ]
  },
  {
   "cell_type": "code",
   "execution_count": 52,
   "metadata": {},
   "outputs": [
    {
     "name": "stdout",
     "output_type": "stream",
     "text": [
      "526\n"
     ]
    }
   ],
   "source": [
    "for i in range(7918):\n",
    "    if l1[i][0]== \"head\":\n",
    "            print(i)"
   ]
  },
  {
   "cell_type": "code",
   "execution_count": 53,
   "metadata": {},
   "outputs": [
    {
     "name": "stdout",
     "output_type": "stream",
     "text": [
      "87\n"
     ]
    }
   ],
   "source": [
    "for i in range(7918):\n",
    "    if l1[i][0]== \"between\":\n",
    "            print(i)"
   ]
  },
  {
   "cell_type": "code",
   "execution_count": 54,
   "metadata": {},
   "outputs": [
    {
     "name": "stdout",
     "output_type": "stream",
     "text": [
      "1914\n"
     ]
    }
   ],
   "source": [
    "for i in range(7918):\n",
    "    if l1[i][0]== \"ears\":\n",
    "            print(i)"
   ]
  },
  {
   "cell_type": "code",
   "execution_count": 55,
   "metadata": {},
   "outputs": [
    {
     "name": "stdout",
     "output_type": "stream",
     "text": [
      "5695\n"
     ]
    }
   ],
   "source": [
    "for i in range(7918):\n",
    "    if l1[i][0]== \"somehow\":\n",
    "            print(i)"
   ]
  },
  {
   "cell_type": "code",
   "execution_count": 56,
   "metadata": {},
   "outputs": [
    {
     "name": "stdout",
     "output_type": "stream",
     "text": [
      "2427\n"
     ]
    }
   ],
   "source": [
    "for i in range(7918):\n",
    "    if l1[i][0]== \"admit\":\n",
    "            print(i)"
   ]
  },
  {
   "cell_type": "code",
   "execution_count": 57,
   "metadata": {},
   "outputs": [
    {
     "name": "stdout",
     "output_type": "stream",
     "text": [
      "136\n"
     ]
    }
   ],
   "source": [
    "for i in range(7918):\n",
    "    if l1[i][0]== \"perhaps\":\n",
    "            print(i)"
   ]
  },
  {
   "cell_type": "code",
   "execution_count": 58,
   "metadata": {},
   "outputs": [
    {
     "name": "stdout",
     "output_type": "stream",
     "text": [
      "2490\n"
     ]
    }
   ],
   "source": [
    "\n",
    "for i in range(7918):\n",
    "    if l0[i][0]== \"qualityinpoetry\":\n",
    "            print(i)"
   ]
  },
  {
   "cell_type": "code",
   "execution_count": 59,
   "metadata": {},
   "outputs": [
    {
     "name": "stdout",
     "output_type": "stream",
     "text": [
      "7696\n"
     ]
    }
   ],
   "source": [
    "\n",
    "for i in range(7918):\n",
    "    if l1[i][0]== \"qualityinpoetry\":\n",
    "            print(i)"
   ]
  },
  {
   "cell_type": "code",
   "execution_count": 60,
   "metadata": {},
   "outputs": [
    {
     "name": "stdout",
     "output_type": "stream",
     "text": [
      "('therearedifferenttwosbutanirritatingminimumwage', 6.487795e-05)\n",
      "('translators', 6.4877946e-05)\n",
      "('iamaspokensubjectaswellasspeakingsubject', 6.4877924e-05)\n",
      "('ștreang', 6.487791e-05)\n",
      "('eram', 6.487786e-05)\n",
      "('setofrulesgoverningactions', 6.487784e-05)\n",
      "('digitalpoem', 6.487783e-05)\n",
      "('verso', 6.487782e-05)\n",
      "('océan', 6.487782e-05)\n",
      "('poetasters', 6.487778e-05)\n",
      "('improbable', 6.487775e-05)\n",
      "('liketheinventionoffarmingirrigationanonnomadicpeople', 6.4877735e-05)\n",
      "('fiction', 6.48777e-05)\n",
      "('feeding', 6.4877684e-05)\n",
      "('british', 6.4877655e-05)\n",
      "('îndepărtată', 6.4877655e-05)\n",
      "('summaries', 6.487765e-05)\n",
      "('dazzle', 6.487763e-05)\n",
      "('thaw', 6.487761e-05)\n",
      "('ans', 6.487759e-05)\n",
      "('turner', 6.487759e-05)\n",
      "('morții', 6.487759e-05)\n",
      "('sent', 6.487758e-05)\n",
      "('tore', 6.487756e-05)\n",
      "('illstopyouroptimismoisinfectiouslikeavirus', 6.4877524e-05)\n",
      "('conștientă', 6.4877524e-05)\n",
      "('staining', 6.487751e-05)\n",
      "('hammers', 6.487749e-05)\n",
      "('demoralized', 6.4877466e-05)\n",
      "('niciodată', 6.4877466e-05)\n",
      "('inthesubwayslotmachine', 6.4877466e-05)\n",
      "('below', 6.4877466e-05)\n",
      "('celebrities', 6.487745e-05)\n",
      "('violent', 6.4877415e-05)\n",
      "('trigonometry', 6.487739e-05)\n",
      "('disillusioned', 6.487739e-05)\n",
      "('subtitle', 6.487738e-05)\n",
      "('alightarchaictouch', 6.487738e-05)\n",
      "('computationalclassifiersasexplorativeexperimentaltools', 6.487733e-05)\n",
      "('ignoring', 6.4877306e-05)\n",
      "('azerbaidjan', 6.487729e-05)\n",
      "('qualityinpoetry', 6.4877284e-05)\n",
      "('distrugerea', 6.4877284e-05)\n",
      "('filmtheory', 6.487727e-05)\n",
      "('travel', 6.487723e-05)\n",
      "('lay', 6.487723e-05)\n",
      "('society', 6.487721e-05)\n",
      "('lastditch', 6.4877204e-05)\n",
      "('replicațicondițiiledestart', 6.487717e-05)\n",
      "('abdication', 6.487716e-05)\n",
      "('șase', 6.487716e-05)\n",
      "('heavenontheirminds', 6.4877146e-05)\n",
      "('institutional', 6.487713e-05)\n",
      "('dăi', 6.487711e-05)\n",
      "('efface', 6.487706e-05)\n",
      "('subtle', 6.4877044e-05)\n",
      "('upbeat', 6.4877015e-05)\n",
      "('adevărațiireplicanți', 6.487699e-05)\n",
      "('uimitoare', 6.4876964e-05)\n",
      "('majorminor—', 6.4876964e-05)\n",
      "('setting', 6.487694e-05)\n",
      "('întreprinse', 6.487691e-05)\n",
      "('câteva', 6.487689e-05)\n",
      "('logistical', 6.487689e-05)\n",
      "('particulars', 6.487688e-05)\n",
      "('pene', 6.487687e-05)\n",
      "('orchestrează', 6.487686e-05)\n",
      "('miseryplayedoutinthecollectivetone', 6.487684e-05)\n",
      "('cryptic', 6.487684e-05)\n",
      "('rhythmrhyme', 6.487684e-05)\n",
      "('vrej', 6.4876825e-05)\n",
      "('obnoxious', 6.487678e-05)\n",
      "('adusă', 6.487677e-05)\n",
      "('acknowledgement', 6.4876745e-05)\n",
      "('mașinațiunilemănâncăcreaturilezălude', 6.487672e-05)\n",
      "('muzical', 6.4876716e-05)\n",
      "('couldnottakeadvantageoftodaysaffordancesoftheinternet', 6.4876716e-05)\n",
      "('cambogienilor', 6.487668e-05)\n",
      "('goin', 6.487668e-05)\n",
      "('dialogues', 6.4876665e-05)\n",
      "('glo', 6.487665e-05)\n",
      "('involvingagainhisabundantaudienceinhisshows', 6.487663e-05)\n"
     ]
    }
   ],
   "source": [
    "\n",
    "for i in range(2449, 2531):\n",
    "    print(l0[i])"
   ]
  },
  {
   "cell_type": "code",
   "execution_count": 61,
   "metadata": {},
   "outputs": [
    {
     "name": "stdout",
     "output_type": "stream",
     "text": [
      "('goin', 0.00012577123)\n",
      "('glo', 0.0001257712)\n",
      "('mașinațiunilemănâncăcreaturilezălude', 0.0001257712)\n",
      "('dialogues', 0.0001257712)\n",
      "('muzical', 0.00012577118)\n",
      "('couldnottakeadvantageoftodaysaffordancesoftheinternet', 0.00012577117)\n",
      "('cambogienilor', 0.00012577114)\n",
      "('acknowledgement', 0.00012577078)\n",
      "('obnoxious', 0.00012577075)\n",
      "('adusă', 0.00012577057)\n",
      "('rhythmrhyme', 0.00012577053)\n",
      "('cryptic', 0.00012577044)\n",
      "('vrej', 0.00012577041)\n",
      "('particulars', 0.00012577037)\n",
      "('orchestrează', 0.00012577028)\n",
      "('logistical', 0.00012577017)\n",
      "('miseryplayedoutinthecollectivetone', 0.00012577008)\n",
      "('întreprinse', 0.00012577005)\n",
      "('pene', 0.00012577)\n",
      "('câteva', 0.00012577)\n",
      "('setting', 0.00012576988)\n",
      "('uimitoare', 0.00012576983)\n",
      "('majorminor—', 0.0001257696)\n",
      "('adevărațiireplicanți', 0.00012576937)\n",
      "('efface', 0.00012576928)\n",
      "('upbeat', 0.00012576926)\n",
      "('subtle', 0.00012576907)\n",
      "('dăi', 0.00012576881)\n",
      "('institutional', 0.00012576868)\n",
      "('replicațicondițiiledestart', 0.00012576862)\n",
      "('heavenontheirminds', 0.00012576855)\n",
      "('șase', 0.00012576854)\n",
      "('abdication', 0.00012576849)\n",
      "('society', 0.0001257683)\n",
      "('lastditch', 0.00012576829)\n",
      "('travel', 0.00012576816)\n",
      "('lay', 0.00012576806)\n",
      "('filmtheory', 0.000125768)\n",
      "('azerbaidjan', 0.00012576785)\n",
      "('ignoring', 0.0001257678)\n",
      "('distrugerea', 0.0001257678)\n",
      "('qualityinpoetry', 0.00012576778)\n",
      "('computationalclassifiersasexplorativeexperimentaltools', 0.00012576768)\n",
      "('alightarchaictouch', 0.00012576744)\n",
      "('subtitle', 0.00012576736)\n",
      "('disillusioned', 0.00012576724)\n",
      "('violent', 0.00012576702)\n",
      "('celebrities', 0.00012576698)\n",
      "('niciodată', 0.00012576692)\n",
      "('trigonometry', 0.00012576685)\n",
      "('inthesubwayslotmachine', 0.00012576676)\n",
      "('staining', 0.00012576664)\n",
      "('demoralized', 0.00012576664)\n",
      "('below', 0.00012576664)\n",
      "('hammers', 0.00012576654)\n",
      "('illstopyouroptimismoisinfectiouslikeavirus', 0.0001257665)\n",
      "('conștientă', 0.00012576644)\n",
      "('tore', 0.0001257663)\n",
      "('thaw', 0.00012576618)\n",
      "('sent', 0.0001257661)\n",
      "('morții', 0.00012576606)\n",
      "('turner', 0.000125766)\n",
      "('ans', 0.00012576599)\n",
      "('british', 0.00012576587)\n",
      "('îndepărtată', 0.00012576586)\n",
      "('summaries', 0.00012576586)\n",
      "('dazzle', 0.00012576584)\n",
      "('feeding', 0.00012576563)\n",
      "('fiction', 0.0001257655)\n",
      "('liketheinventionoffarmingirrigationanonnomadicpeople', 0.00012576536)\n",
      "('improbable', 0.00012576523)\n",
      "('poetasters', 0.00012576499)\n",
      "('verso', 0.00012576484)\n",
      "('océan', 0.00012576475)\n",
      "('digitalpoem', 0.00012576474)\n",
      "('setofrulesgoverningactions', 0.00012576472)\n",
      "('eram', 0.00012576442)\n",
      "('translators', 0.0001257642)\n",
      "('iamaspokensubjectaswellasspeakingsubject', 0.00012576419)\n",
      "('ștreang', 0.00012576411)\n",
      "('therearedifferenttwosbutanirritatingminimumwage', 0.00012576398)\n",
      "('printrun', 0.0001257639)\n"
     ]
    }
   ],
   "source": [
    "\n",
    "for i in range(7655, 7737):\n",
    "    print(l1[i])"
   ]
  },
  {
   "cell_type": "code",
   "execution_count": 62,
   "metadata": {},
   "outputs": [
    {
     "name": "stdout",
     "output_type": "stream",
     "text": [
      "744\n"
     ]
    }
   ],
   "source": [
    "\n",
    "for i in range(7918):\n",
    "    if l0[i][0]== \"wrong\":\n",
    "            print(i)"
   ]
  },
  {
   "cell_type": "code",
   "execution_count": 63,
   "metadata": {},
   "outputs": [
    {
     "name": "stdout",
     "output_type": "stream",
     "text": [
      "1634\n"
     ]
    }
   ],
   "source": [
    "for i in range(7918):\n",
    "    if l0[i][0]== \"overarching\":\n",
    "            print(i)"
   ]
  },
  {
   "cell_type": "code",
   "execution_count": 64,
   "metadata": {},
   "outputs": [
    {
     "name": "stdout",
     "output_type": "stream",
     "text": [
      "1134\n"
     ]
    }
   ],
   "source": [
    "for i in range(7918):\n",
    "    if l0[i][0]== \"debate\":\n",
    "            print(i)"
   ]
  },
  {
   "cell_type": "code",
   "execution_count": 65,
   "metadata": {},
   "outputs": [
    {
     "name": "stdout",
     "output_type": "stream",
     "text": [
      "12\n"
     ]
    }
   ],
   "source": [
    "for i in range(7918):\n",
    "    if l0[i][0]== \"all\":\n",
    "            print(i)"
   ]
  },
  {
   "cell_type": "code",
   "execution_count": 66,
   "metadata": {},
   "outputs": [
    {
     "name": "stdout",
     "output_type": "stream",
     "text": [
      "1150\n"
     ]
    }
   ],
   "source": [
    "for i in range(7918):\n",
    "    if l0[i][0]== \"pain\":\n",
    "            print(i)"
   ]
  },
  {
   "cell_type": "code",
   "execution_count": 67,
   "metadata": {},
   "outputs": [
    {
     "name": "stdout",
     "output_type": "stream",
     "text": [
      "980\n"
     ]
    }
   ],
   "source": [
    "for i in range(7918):\n",
    "    if l0[i][0]== \"subjectivity\":\n",
    "            print(i)"
   ]
  },
  {
   "cell_type": "code",
   "execution_count": 68,
   "metadata": {},
   "outputs": [
    {
     "name": "stdout",
     "output_type": "stream",
     "text": [
      "1205\n"
     ]
    }
   ],
   "source": [
    "for i in range(7918):\n",
    "    if l0[i][0]== \"matters\":\n",
    "            print(i)"
   ]
  },
  {
   "cell_type": "code",
   "execution_count": 69,
   "metadata": {},
   "outputs": [
    {
     "name": "stdout",
     "output_type": "stream",
     "text": [
      "7407\n"
     ]
    }
   ],
   "source": [
    "for i in range(7918):\n",
    "    if l0[i][0]== \"urgent\":\n",
    "            print(i)"
   ]
  },
  {
   "cell_type": "code",
   "execution_count": 70,
   "metadata": {},
   "outputs": [
    {
     "name": "stdout",
     "output_type": "stream",
     "text": [
      "434\n"
     ]
    }
   ],
   "source": [
    "for i in range(7918):\n",
    "    if l0[i][0]== \"nature\":\n",
    "            print(i)"
   ]
  },
  {
   "cell_type": "code",
   "execution_count": 71,
   "metadata": {},
   "outputs": [
    {
     "name": "stdout",
     "output_type": "stream",
     "text": [
      "457\n"
     ]
    }
   ],
   "source": [
    "\n",
    "for i in range(7918):\n",
    "    if l0[i][0]== \"truth\":\n",
    "            print(i)"
   ]
  },
  {
   "cell_type": "code",
   "execution_count": 72,
   "metadata": {},
   "outputs": [
    {
     "name": "stdout",
     "output_type": "stream",
     "text": [
      "2742\n"
     ]
    }
   ],
   "source": [
    "for i in range(7918):\n",
    "    if l0[i][0]== \"contrary\":\n",
    "            print(i)"
   ]
  },
  {
   "cell_type": "code",
   "execution_count": 73,
   "metadata": {},
   "outputs": [
    {
     "name": "stdout",
     "output_type": "stream",
     "text": [
      "447\n"
     ]
    }
   ],
   "source": [
    "\n",
    "for i in range(7918):\n",
    "    if l0[i][0]== \"minor\":\n",
    "            print(i)"
   ]
  },
  {
   "cell_type": "code",
   "execution_count": 74,
   "metadata": {},
   "outputs": [
    {
     "name": "stdout",
     "output_type": "stream",
     "text": [
      "1498\n"
     ]
    }
   ],
   "source": [
    "for i in range(7918):\n",
    "    if l0[i][0]== \"talent\":\n",
    "            print(i)"
   ]
  },
  {
   "cell_type": "code",
   "execution_count": 75,
   "metadata": {},
   "outputs": [
    {
     "name": "stdout",
     "output_type": "stream",
     "text": [
      "5540\n"
     ]
    }
   ],
   "source": [
    "\n",
    "for i in range(7918):\n",
    "    if l0[i][0]== \"quality\":\n",
    "            print(i)"
   ]
  },
  {
   "cell_type": "code",
   "execution_count": 76,
   "metadata": {},
   "outputs": [
    {
     "name": "stdout",
     "output_type": "stream",
     "text": [
      "69\n"
     ]
    }
   ],
   "source": [
    "\n",
    "for i in range(7918):\n",
    "    if l0[i][0]== \"here\":\n",
    "            print(i)"
   ]
  },
  {
   "cell_type": "code",
   "execution_count": 77,
   "metadata": {},
   "outputs": [
    {
     "name": "stdout",
     "output_type": "stream",
     "text": [
      "123\n"
     ]
    }
   ],
   "source": [
    "for i in range(7918):\n",
    "    if l0[i][0]== \"again\":\n",
    "            print(i)"
   ]
  },
  {
   "cell_type": "code",
   "execution_count": 78,
   "metadata": {},
   "outputs": [
    {
     "name": "stdout",
     "output_type": "stream",
     "text": [
      "5911\n"
     ]
    }
   ],
   "source": [
    "\n",
    "for i in range(7918):\n",
    "    if l0[i][0]== \"subjective\":\n",
    "            print(i)"
   ]
  },
  {
   "cell_type": "code",
   "execution_count": 79,
   "metadata": {},
   "outputs": [
    {
     "name": "stdout",
     "output_type": "stream",
     "text": [
      "98\n"
     ]
    }
   ],
   "source": [
    "for i in range(7918):\n",
    "    if l0[i][0]== \"thought\":\n",
    "            print(i)"
   ]
  },
  {
   "cell_type": "code",
   "execution_count": 80,
   "metadata": {},
   "outputs": [
    {
     "name": "stdout",
     "output_type": "stream",
     "text": [
      "182\n"
     ]
    }
   ],
   "source": [
    "for i in range(7918):\n",
    "    if l0[i][0]== \"play\":\n",
    "            print(i)"
   ]
  },
  {
   "cell_type": "code",
   "execution_count": 81,
   "metadata": {},
   "outputs": [],
   "source": [
    "for i in range(7918):\n",
    "    if l0[i][0]== \"another\":\n",
    "            print(i)"
   ]
  },
  {
   "cell_type": "code",
   "execution_count": 82,
   "metadata": {},
   "outputs": [
    {
     "name": "stdout",
     "output_type": "stream",
     "text": [
      "33\n"
     ]
    }
   ],
   "source": [
    "\n",
    "for i in range(7918):\n",
    "    if l0[i][0]== \"two\":\n",
    "            print(i)"
   ]
  },
  {
   "cell_type": "code",
   "execution_count": 83,
   "metadata": {},
   "outputs": [
    {
     "name": "stdout",
     "output_type": "stream",
     "text": [
      "241\n"
     ]
    }
   ],
   "source": [
    "for i in range(7918):\n",
    "    if l0[i][0]== \"good\":\n",
    "            print(i)"
   ]
  },
  {
   "cell_type": "code",
   "execution_count": 21,
   "metadata": {},
   "outputs": [
    {
     "name": "stdout",
     "output_type": "stream",
     "text": [
      "4165\n"
     ]
    }
   ],
   "source": [
    "\n",
    "for i in range(7964):\n",
    "    if l0[i][0]== \"yousillyartisthaveathought\":\n",
    "            print(i)"
   ]
  },
  {
   "cell_type": "code",
   "execution_count": 22,
   "metadata": {},
   "outputs": [
    {
     "name": "stdout",
     "output_type": "stream",
     "text": [
      "6068\n"
     ]
    }
   ],
   "source": [
    "\n",
    "for i in range(7964):\n",
    "    if l1[i][0]== \"yousillyartisthaveathought\":\n",
    "            print(i)"
   ]
  },
  {
   "cell_type": "code",
   "execution_count": 23,
   "metadata": {},
   "outputs": [
    {
     "name": "stdout",
     "output_type": "stream",
     "text": [
      "('7000', 6.451216e-05)\n",
      "('entropicwagons', 6.4512154e-05)\n",
      "('attend', 6.4512154e-05)\n",
      "('formatinginthewhooshingdeepandmultiplyingintoseadeepmediumsandacrossairyconstellationsofmercurialmedia', 6.4512154e-05)\n",
      "('oppressivepoliticalregime', 6.4512154e-05)\n",
      "('selforganized', 6.451215e-05)\n",
      "('limbă', 6.451215e-05)\n",
      "('efortulsunetelor', 6.451215e-05)\n",
      "('dezambiguizării', 6.451215e-05)\n",
      "('ridică', 6.451215e-05)\n",
      "('gravitated', 6.451214e-05)\n",
      "('heempathisedwithitsthirstforfreedomandpeaceitsaversiontowarandbrutality', 6.451214e-05)\n",
      "('iacașa', 6.451214e-05)\n",
      "('totdeauna', 6.451214e-05)\n",
      "('semées', 6.451213e-05)\n",
      "('staining', 6.4512125e-05)\n",
      "('56', 6.4512125e-05)\n",
      "('gibbon', 6.4512125e-05)\n",
      "('wasdiscoveredbynoelbernarddirectorofradiofreeeurope', 6.4512125e-05)\n",
      "('thrown', 6.4512125e-05)\n",
      "('puii', 6.4512125e-05)\n",
      "('kissing', 6.4512125e-05)\n",
      "('iesc', 6.451212e-05)\n",
      "('honour', 6.451211e-05)\n",
      "('1491113', 6.451211e-05)\n",
      "('craci', 6.451211e-05)\n",
      "('unified', 6.45121e-05)\n",
      "('inauguration', 6.45121e-05)\n",
      "('translationofrocklyricsrepresentedawaytofillaculturalgap', 6.4512096e-05)\n",
      "('interact', 6.4512096e-05)\n",
      "('oir', 6.4512096e-05)\n",
      "('doublemesostic', 6.4512096e-05)\n",
      "('liberty', 6.4512096e-05)\n",
      "('gauguin', 6.4512096e-05)\n",
      "('speakingalgorithm', 6.451208e-05)\n",
      "('evreieşti', 6.4512074e-05)\n",
      "('muchlonger', 6.4512074e-05)\n",
      "('transmission', 6.4512074e-05)\n",
      "('suckdry', 6.451207e-05)\n",
      "('cultură', 6.451206e-05)\n",
      "('ruling', 6.451206e-05)\n",
      "('yousillyartisthaveathought', 6.451206e-05)\n",
      "('logically', 6.451206e-05)\n",
      "('sârba', 6.451205e-05)\n",
      "('calypso', 6.451205e-05)\n",
      "('shock', 6.451205e-05)\n",
      "('jewishgravesootheworkofmuslimarabpalestinianohands', 6.4512045e-05)\n",
      "('distrugerea', 6.4512045e-05)\n",
      "('greatest', 6.4512045e-05)\n",
      "('poetfriends', 6.4512045e-05)\n",
      "('mănâncă', 6.4512045e-05)\n",
      "('invoked', 6.451204e-05)\n",
      "('toți', 6.451204e-05)\n",
      "('specia', 6.451204e-05)\n",
      "('andor', 6.451204e-05)\n",
      "('littlerichard', 6.451204e-05)\n",
      "('contained', 6.451204e-05)\n",
      "('presque', 6.451204e-05)\n",
      "('tookitstoll', 6.451203e-05)\n",
      "('setting', 6.451203e-05)\n",
      "('trec', 6.451203e-05)\n",
      "('somewitwillwriteabetterverseoemboldenedbythispoorexample', 6.451202e-05)\n",
      "('neighbor', 6.451202e-05)\n",
      "('chestiuni', 6.451202e-05)\n",
      "('2000', 6.451202e-05)\n",
      "('smugglingofideasandbeliefsintothesovietworld', 6.451202e-05)\n",
      "('corp', 6.4512016e-05)\n",
      "('ticking', 6.4512016e-05)\n",
      "('eforturilor', 6.4512016e-05)\n",
      "('breșele', 6.451201e-05)\n",
      "('revolutioninterregnum', 6.451201e-05)\n",
      "('muncamultoriubirișicupieleacelorpierduți', 6.451201e-05)\n",
      "('nimicul', 6.451201e-05)\n",
      "('pagină', 6.4512e-05)\n",
      "('theseloinsofmoltenstonedoessheknowheaches', 6.4512e-05)\n",
      "('dezpre', 6.4512e-05)\n",
      "('ba', 6.4512e-05)\n",
      "('facile', 6.4512e-05)\n",
      "('fragmente', 6.4512e-05)\n",
      "('figures', 6.4512e-05)\n",
      "('ambuscade', 6.4512e-05)\n",
      "('exhaustive', 6.4512e-05)\n"
     ]
    }
   ],
   "source": [
    "\n",
    "for i in range(4124, 4206):\n",
    "    print(l0[i])"
   ]
  },
  {
   "cell_type": "code",
   "execution_count": 24,
   "metadata": {},
   "outputs": [
    {
     "name": "stdout",
     "output_type": "stream",
     "text": [
      "('nimicul', 0.00012528083)\n",
      "('attendait', 0.00012528081)\n",
      "('undeprindeunorificiuînmodexpresîncapacanădelicille', 0.0001252808)\n",
      "('theseloinsofmoltenstonedoessheknowheaches', 0.00012528079)\n",
      "('ambuscade', 0.00012528079)\n",
      "('eforturilor', 0.00012528079)\n",
      "('corp', 0.00012528077)\n",
      "('levels', 0.00012528077)\n",
      "('figures', 0.00012528077)\n",
      "('muncamultoriubirișicupieleacelorpierduți', 0.00012528077)\n",
      "('ba', 0.00012528076)\n",
      "('exhaustive', 0.00012528076)\n",
      "('consentdecree', 0.00012528076)\n",
      "('dezpre', 0.00012528073)\n",
      "('somewitwillwriteabetterverseoemboldenedbythispoorexample', 0.0001252807)\n",
      "('facile', 0.00012528067)\n",
      "('tookitstoll', 0.00012528067)\n",
      "('contained', 0.00012528067)\n",
      "('presque', 0.00012528065)\n",
      "('specia', 0.00012528065)\n",
      "('revolutioninterregnum', 0.00012528064)\n",
      "('smugglingofideasandbeliefsintothesovietworld', 0.00012528064)\n",
      "('ticking', 0.00012528061)\n",
      "('pagină', 0.00012528061)\n",
      "('invoked', 0.00012528061)\n",
      "('greatest', 0.0001252806)\n",
      "('mănâncă', 0.0001252806)\n",
      "('setting', 0.0001252806)\n",
      "('chestiuni', 0.00012528058)\n",
      "('distrugerea', 0.00012528058)\n",
      "('andor', 0.00012528058)\n",
      "('trec', 0.00012528057)\n",
      "('shock', 0.00012528057)\n",
      "('neighbor', 0.00012528057)\n",
      "('logically', 0.00012528052)\n",
      "('calypso', 0.00012528052)\n",
      "('2000', 0.00012528052)\n",
      "('jewishgravesootheworkofmuslimarabpalestinianohands', 0.00012528051)\n",
      "('breșele', 0.0001252805)\n",
      "('littlerichard', 0.0001252805)\n",
      "('ruling', 0.00012528046)\n",
      "('yousillyartisthaveathought', 0.00012528042)\n",
      "('sârba', 0.0001252804)\n",
      "('toți', 0.00012528039)\n",
      "('poetfriends', 0.00012528039)\n",
      "('cultură', 0.00012528039)\n",
      "('muchlonger', 0.00012528038)\n",
      "('doublemesostic', 0.00012528032)\n",
      "('transmission', 0.0001252803)\n",
      "('evreieşti', 0.00012528029)\n",
      "('suckdry', 0.00012528028)\n",
      "('inauguration', 0.00012528028)\n",
      "('honour', 0.00012528023)\n",
      "('unified', 0.00012528017)\n",
      "('gauguin', 0.00012528014)\n",
      "('translationofrocklyricsrepresentedawaytofillaculturalgap', 0.00012528014)\n",
      "('oir', 0.00012528014)\n",
      "('puii', 0.00012528013)\n",
      "('iesc', 0.00012528012)\n",
      "('speakingalgorithm', 0.00012528012)\n",
      "('liberty', 0.00012528012)\n",
      "('craci', 0.0001252801)\n",
      "('interact', 0.00012528009)\n",
      "('kissing', 0.00012528009)\n",
      "('limbă', 0.00012528007)\n",
      "('efortulsunetelor', 0.00012528006)\n",
      "('semées', 0.00012528006)\n",
      "('heempathisedwithitsthirstforfreedomandpeaceitsaversiontowarandbrutality', 0.00012528006)\n",
      "('wasdiscoveredbynoelbernarddirectorofradiofreeeurope', 0.00012528006)\n",
      "('staining', 0.00012528004)\n",
      "('1491113', 0.00012528004)\n",
      "('thrown', 0.00012528004)\n",
      "('gibbon', 0.00012528003)\n",
      "('56', 0.00012527998)\n",
      "('attend', 0.00012527997)\n",
      "('iacașa', 0.00012527997)\n",
      "('formatinginthewhooshingdeepandmultiplyingintoseadeepmediumsandacrossairyconstellationsofmercurialmedia', 0.00012527997)\n",
      "('dezambiguizării', 0.00012527991)\n",
      "('totdeauna', 0.0001252799)\n",
      "('steep', 0.0001252799)\n",
      "('ridică', 0.00012527988)\n",
      "('gravitated', 0.00012527988)\n"
     ]
    }
   ],
   "source": [
    "\n",
    "for i in range(6027, 6109):\n",
    "    print(l1[i])"
   ]
  },
  {
   "cell_type": "code",
   "execution_count": 25,
   "metadata": {},
   "outputs": [
    {
     "name": "stdout",
     "output_type": "stream",
     "text": [
      "1932\n"
     ]
    }
   ],
   "source": [
    "\n",
    "for i in range(7964):\n",
    "    if l1[i][0]== \"differences\":\n",
    "            print(i)"
   ]
  },
  {
   "cell_type": "code",
   "execution_count": 26,
   "metadata": {},
   "outputs": [
    {
     "name": "stdout",
     "output_type": "stream",
     "text": [
      "4619\n"
     ]
    }
   ],
   "source": [
    "\n",
    "for i in range(7964):\n",
    "    if l1[i][0]== \"resolve\":\n",
    "            print(i)"
   ]
  },
  {
   "cell_type": "code",
   "execution_count": 27,
   "metadata": {},
   "outputs": [
    {
     "name": "stdout",
     "output_type": "stream",
     "text": [
      "372\n"
     ]
    }
   ],
   "source": [
    "\n",
    "for i in range(7964):\n",
    "    if l1[i][0]== \"instead\":\n",
    "            print(i)"
   ]
  },
  {
   "cell_type": "code",
   "execution_count": 28,
   "metadata": {},
   "outputs": [
    {
     "name": "stdout",
     "output_type": "stream",
     "text": [
      "7306\n"
     ]
    }
   ],
   "source": [
    "\n",
    "for i in range(7964):\n",
    "    if l1[i][0]== \"hopefulness\":\n",
    "            print(i)"
   ]
  },
  {
   "cell_type": "code",
   "execution_count": 32,
   "metadata": {},
   "outputs": [
    {
     "name": "stdout",
     "output_type": "stream",
     "text": [
      "173\n"
     ]
    }
   ],
   "source": [
    "\n",
    "for i in range(7964):\n",
    "    if l1[i][0]== \"good\":\n",
    "            print(i)"
   ]
  },
  {
   "cell_type": "code",
   "execution_count": 33,
   "metadata": {},
   "outputs": [
    {
     "name": "stdout",
     "output_type": "stream",
     "text": [
      "843\n"
     ]
    }
   ],
   "source": [
    "\n",
    "for i in range(7964):\n",
    "    if l1[i][0]== \"leave\":\n",
    "            print(i)"
   ]
  },
  {
   "cell_type": "code",
   "execution_count": 34,
   "metadata": {},
   "outputs": [
    {
     "name": "stdout",
     "output_type": "stream",
     "text": [
      "256\n"
     ]
    }
   ],
   "source": [
    "for i in range(7964):\n",
    "    if l1[i][0]== \"glass\":\n",
    "            print(i)"
   ]
  },
  {
   "cell_type": "code",
   "execution_count": 35,
   "metadata": {},
   "outputs": [
    {
     "name": "stdout",
     "output_type": "stream",
     "text": [
      "176\n"
     ]
    }
   ],
   "source": [
    "for i in range(7964):\n",
    "    if l1[i][0]== \"wine\":\n",
    "            print(i)"
   ]
  },
  {
   "cell_type": "code",
   "execution_count": 36,
   "metadata": {},
   "outputs": [
    {
     "name": "stdout",
     "output_type": "stream",
     "text": [
      "155\n"
     ]
    }
   ],
   "source": [
    "for i in range(7964):\n",
    "    if l1[i][0]== \"last\":\n",
    "            print(i)"
   ]
  },
  {
   "cell_type": "code",
   "execution_count": 37,
   "metadata": {},
   "outputs": [
    {
     "name": "stdout",
     "output_type": "stream",
     "text": [
      "2274\n"
     ]
    }
   ],
   "source": [
    "for i in range(7964):\n",
    "    if l1[i][0]== \"peace\":\n",
    "            print(i)"
   ]
  },
  {
   "cell_type": "code",
   "execution_count": 38,
   "metadata": {},
   "outputs": [
    {
     "name": "stdout",
     "output_type": "stream",
     "text": [
      "3555\n"
     ]
    }
   ],
   "source": [
    "\n",
    "for i in range(7964):\n",
    "    if l0[i][0]== \"democracyinsidethebrain\":\n",
    "            print(i)"
   ]
  },
  {
   "cell_type": "code",
   "execution_count": 39,
   "metadata": {},
   "outputs": [
    {
     "name": "stdout",
     "output_type": "stream",
     "text": [
      "6674\n"
     ]
    }
   ],
   "source": [
    "for i in range(7964):\n",
    "    if l1[i][0]== \"democracyinsidethebrain\":\n",
    "            print(i)"
   ]
  },
  {
   "cell_type": "code",
   "execution_count": 40,
   "metadata": {},
   "outputs": [
    {
     "name": "stdout",
     "output_type": "stream",
     "text": [
      "('argued', 6.451372e-05)\n",
      "('getsthroughtoyou', 6.451372e-05)\n",
      "('simpleelisionsoflessfamiliarreferences', 6.451372e-05)\n",
      "('assemblingofapproachestotheproceduralproductionofliteraryandpoeticworks', 6.451371e-05)\n",
      "('verso', 6.451371e-05)\n",
      "('brewery', 6.451371e-05)\n",
      "('frisoane', 6.451371e-05)\n",
      "('serie', 6.451371e-05)\n",
      "('allheartsbeopenono', 6.451371e-05)\n",
      "('satisfaction', 6.4513704e-05)\n",
      "('respect', 6.4513704e-05)\n",
      "('electrice', 6.4513704e-05)\n",
      "('cashisonthespottherateisgoingup', 6.4513704e-05)\n",
      "('aidf', 6.4513704e-05)\n",
      "('hubris', 6.45137e-05)\n",
      "('haosulstăpâneșteviețilenoastretrezindecusaufărăpământ', 6.45137e-05)\n",
      "('précis', 6.45137e-05)\n",
      "('dries', 6.451368e-05)\n",
      "('magazinului', 6.451368e-05)\n",
      "('government', 6.451368e-05)\n",
      "('flat', 6.451368e-05)\n",
      "('algoritmul', 6.4513675e-05)\n",
      "('prometeus', 6.4513675e-05)\n",
      "('știri', 6.451367e-05)\n",
      "('șiau', 6.451367e-05)\n",
      "('riding', 6.451367e-05)\n",
      "('dubbed', 6.451367e-05)\n",
      "('overlooked—', 6.451367e-05)\n",
      "('lăsați', 6.451367e-05)\n",
      "('confound', 6.451367e-05)\n",
      "('fierbințeală', 6.451365e-05)\n",
      "('stradă', 6.4513646e-05)\n",
      "('warns', 6.4513646e-05)\n",
      "('închisă', 6.4513646e-05)\n",
      "('fură', 6.4513646e-05)\n",
      "('terrain', 6.451364e-05)\n",
      "('nefericire', 6.451364e-05)\n",
      "('trysts', 6.451364e-05)\n",
      "('pomană', 6.451363e-05)\n",
      "('believes', 6.451363e-05)\n",
      "('dobruja', 6.451363e-05)\n",
      "('democracyinsidethebrain', 6.451363e-05)\n",
      "('couth', 6.451363e-05)\n",
      "('buza', 6.4513624e-05)\n",
      "('sună', 6.4513624e-05)\n",
      "('ține', 6.451362e-05)\n",
      "('exagereaz', 6.451362e-05)\n",
      "('impacted', 6.451362e-05)\n",
      "('likeicarusascendingoonbeautifulfoolisharms', 6.451362e-05)\n",
      "('bites', 6.45136e-05)\n",
      "('attitudes', 6.45136e-05)\n",
      "('mas', 6.45136e-05)\n",
      "('trânti', 6.45136e-05)\n",
      "('cueil', 6.4513595e-05)\n",
      "('allenginsberg', 6.4513595e-05)\n",
      "('deliberate', 6.4513595e-05)\n",
      "('digest', 6.4513595e-05)\n",
      "('jr', 6.451359e-05)\n",
      "('crystal', 6.451359e-05)\n",
      "('linelength', 6.451359e-05)\n",
      "('opt', 6.451359e-05)\n",
      "('șii', 6.451358e-05)\n",
      "('classes', 6.451358e-05)\n",
      "('wakeupmypoetlookandseeotheworldiscentrednotroundthee', 6.451358e-05)\n",
      "('investigate', 6.451357e-05)\n",
      "('familiarity', 6.451357e-05)\n",
      "('exact', 6.4513566e-05)\n",
      "('length', 6.451356e-05)\n",
      "('speculation', 6.451356e-05)\n",
      "('quarterly', 6.451356e-05)\n",
      "('amazon', 6.451356e-05)\n",
      "('dimensiuni', 6.451356e-05)\n",
      "('conservation', 6.451356e-05)\n",
      "('bowl', 6.451356e-05)\n",
      "('magicks', 6.451356e-05)\n",
      "('nebuna', 6.451356e-05)\n",
      "('personproducedbythemessage', 6.4513544e-05)\n",
      "('worry', 6.451354e-05)\n",
      "('male', 6.451353e-05)\n",
      "('colectiv', 6.451353e-05)\n",
      "('moi', 6.451353e-05)\n",
      "('mylifeinneworleans', 6.451353e-05)\n"
     ]
    }
   ],
   "source": [
    "\n",
    "for i in range(3514, 3596):\n",
    "    print(l0[i])"
   ]
  },
  {
   "cell_type": "code",
   "execution_count": 41,
   "metadata": {},
   "outputs": [
    {
     "name": "stdout",
     "output_type": "stream",
     "text": [
      "('patru', 0.00012527217)\n",
      "('mylifeinneworleans', 0.00012527216)\n",
      "('occupied', 0.00012527216)\n",
      "('moi', 0.00012527216)\n",
      "('seat', 0.00012527214)\n",
      "('zbârnâială', 0.00012527213)\n",
      "('dimensiuni', 0.00012527207)\n",
      "('male', 0.00012527207)\n",
      "('points', 0.00012527204)\n",
      "('colectiv', 0.00012527202)\n",
      "('wedontescapewebecometheescape', 0.00012527201)\n",
      "('conservation', 0.000125272)\n",
      "('nebuna', 0.00012527197)\n",
      "('worry', 0.00012527195)\n",
      "('hour', 0.00012527195)\n",
      "('personproducedbythemessage', 0.00012527192)\n",
      "('speculation', 0.00012527192)\n",
      "('magicks', 0.00012527191)\n",
      "('quarterly', 0.00012527188)\n",
      "('exact', 0.00012527188)\n",
      "('bowl', 0.00012527188)\n",
      "('length', 0.00012527185)\n",
      "('crystal', 0.00012527185)\n",
      "('șii', 0.00012527184)\n",
      "('familiarity', 0.00012527182)\n",
      "('investigate', 0.00012527179)\n",
      "('opt', 0.00012527179)\n",
      "('cueil', 0.00012527178)\n",
      "('amazon', 0.00012527178)\n",
      "('jr', 0.00012527176)\n",
      "('wakeupmypoetlookandseeotheworldiscentrednotroundthee', 0.00012527175)\n",
      "('classes', 0.00012527175)\n",
      "('deliberate', 0.00012527173)\n",
      "('allenginsberg', 0.00012527172)\n",
      "('linelength', 0.00012527172)\n",
      "('likeicarusascendingoonbeautifulfoolisharms', 0.0001252717)\n",
      "('attitudes', 0.00012527166)\n",
      "('pomană', 0.00012527162)\n",
      "('buza', 0.00012527162)\n",
      "('trânti', 0.00012527162)\n",
      "('impacted', 0.00012527157)\n",
      "('democracyinsidethebrain', 0.00012527156)\n",
      "('believes', 0.00012527154)\n",
      "('nefericire', 0.00012527154)\n",
      "('sună', 0.00012527154)\n",
      "('terrain', 0.00012527153)\n",
      "('exagereaz', 0.00012527153)\n",
      "('mas', 0.00012527153)\n",
      "('închisă', 0.00012527153)\n",
      "('fierbințeală', 0.00012527153)\n",
      "('warns', 0.0001252715)\n",
      "('digest', 0.00012527149)\n",
      "('riding', 0.00012527147)\n",
      "('trysts', 0.00012527146)\n",
      "('couth', 0.00012527146)\n",
      "('algoritmul', 0.00012527144)\n",
      "('ține', 0.00012527143)\n",
      "('stradă', 0.00012527143)\n",
      "('dobruja', 0.00012527143)\n",
      "('bites', 0.00012527141)\n",
      "('șiau', 0.00012527137)\n",
      "('lăsați', 0.00012527136)\n",
      "('fură', 0.00012527131)\n",
      "('dries', 0.00012527128)\n",
      "('prometeus', 0.00012527128)\n",
      "('haosulstăpâneșteviețilenoastretrezindecusaufărăpământ', 0.00012527127)\n",
      "('magazinului', 0.00012527127)\n",
      "('dubbed', 0.00012527122)\n",
      "('brewery', 0.00012527122)\n",
      "('serie', 0.00012527121)\n",
      "('assemblingofapproachestotheproceduralproductionofliteraryandpoeticworks', 0.0001252712)\n",
      "('confound', 0.0001252712)\n",
      "('hubris', 0.0001252712)\n",
      "('overlooked—', 0.00012527117)\n",
      "('satisfaction', 0.00012527117)\n",
      "('flat', 0.00012527117)\n",
      "('știri', 0.00012527115)\n",
      "('respect', 0.00012527112)\n",
      "('electrice', 0.00012527111)\n",
      "('government', 0.0001252711)\n",
      "('simpleelisionsoflessfamiliarreferences', 0.00012527108)\n",
      "('frisoane', 0.00012527104)\n"
     ]
    }
   ],
   "source": [
    "\n",
    "for i in range(6633, 6715):\n",
    "    print(l1[i])"
   ]
  },
  {
   "cell_type": "code",
   "execution_count": 42,
   "metadata": {},
   "outputs": [
    {
     "name": "stdout",
     "output_type": "stream",
     "text": [
      "6222\n"
     ]
    }
   ],
   "source": [
    "\n",
    "for i in range(7964):\n",
    "    if l0[i][0]== \"arrogant\":\n",
    "            print(i)"
   ]
  },
  {
   "cell_type": "code",
   "execution_count": 43,
   "metadata": {},
   "outputs": [
    {
     "name": "stdout",
     "output_type": "stream",
     "text": [
      "3030\n"
     ]
    }
   ],
   "source": [
    "\n",
    "for i in range(7964):\n",
    "    if l0[i][0]== \"incompetent\":\n",
    "            print(i)"
   ]
  },
  {
   "cell_type": "code",
   "execution_count": 44,
   "metadata": {},
   "outputs": [
    {
     "name": "stdout",
     "output_type": "stream",
     "text": [
      "61\n"
     ]
    }
   ],
   "source": [
    "\n",
    "for i in range(7964):\n",
    "    if l0[i][0]== \"now\":\n",
    "            print(i)"
   ]
  },
  {
   "cell_type": "code",
   "execution_count": 45,
   "metadata": {},
   "outputs": [
    {
     "name": "stdout",
     "output_type": "stream",
     "text": [
      "33\n"
     ]
    }
   ],
   "source": [
    "for i in range(7964):\n",
    "    if l0[i][0]== \"two\":\n",
    "            print(i)"
   ]
  },
  {
   "cell_type": "code",
   "execution_count": 46,
   "metadata": {},
   "outputs": [
    {
     "name": "stdout",
     "output_type": "stream",
     "text": [
      "208\n"
     ]
    }
   ],
   "source": [
    "for i in range(7964):\n",
    "    if l0[i][0]== \"state\":\n",
    "            print(i)"
   ]
  },
  {
   "cell_type": "code",
   "execution_count": 48,
   "metadata": {},
   "outputs": [
    {
     "name": "stdout",
     "output_type": "stream",
     "text": [
      "173\n"
     ]
    }
   ],
   "source": [
    "\n",
    "for i in range(7964):\n",
    "    if l0[i][0]== \"right\":\n",
    "            print(i)"
   ]
  },
  {
   "cell_type": "code",
   "execution_count": 49,
   "metadata": {},
   "outputs": [
    {
     "name": "stdout",
     "output_type": "stream",
     "text": [
      "5673\n"
     ]
    }
   ],
   "source": [
    "for i in range(7964):\n",
    "    if l0[i][0]== \"admitting\":\n",
    "            print(i)"
   ]
  },
  {
   "cell_type": "code",
   "execution_count": 50,
   "metadata": {},
   "outputs": [
    {
     "name": "stdout",
     "output_type": "stream",
     "text": [
      "52\n"
     ]
    }
   ],
   "source": [
    "for i in range(7964):\n",
    "    if l0[i][0]== \"both\":\n",
    "            print(i)"
   ]
  },
  {
   "cell_type": "code",
   "execution_count": 51,
   "metadata": {},
   "outputs": [
    {
     "name": "stdout",
     "output_type": "stream",
     "text": [
      "874\n"
     ]
    }
   ],
   "source": [
    "\n",
    "for i in range(7964):\n",
    "    if l0[i][0]== \"debate\":\n",
    "            print(i)"
   ]
  },
  {
   "cell_type": "code",
   "execution_count": 52,
   "metadata": {},
   "outputs": [
    {
     "name": "stdout",
     "output_type": "stream",
     "text": [
      "57\n"
     ]
    }
   ],
   "source": [
    "for i in range(7964):\n",
    "    if l0[i][0]== \"before\":\n",
    "            print(i)"
   ]
  },
  {
   "cell_type": "code",
   "execution_count": 53,
   "metadata": {},
   "outputs": [
    {
     "name": "stdout",
     "output_type": "stream",
     "text": [
      "181\n"
     ]
    }
   ],
   "source": [
    "for i in range(7964):\n",
    "    if l0[i][0]== \"better\":\n",
    "            print(i)"
   ]
  },
  {
   "cell_type": "code",
   "execution_count": 54,
   "metadata": {},
   "outputs": [
    {
     "name": "stdout",
     "output_type": "stream",
     "text": [
      "1388\n"
     ]
    }
   ],
   "source": [
    "for i in range(7964):\n",
    "    if l0[i][0]== \"marriage\":\n",
    "            print(i)"
   ]
  },
  {
   "cell_type": "code",
   "execution_count": 55,
   "metadata": {},
   "outputs": [
    {
     "name": "stdout",
     "output_type": "stream",
     "text": [
      "1459\n"
     ]
    }
   ],
   "source": [
    "for i in range(7964):\n",
    "    if l0[i][0]== \"heaven\":\n",
    "            print(i)"
   ]
  },
  {
   "cell_type": "code",
   "execution_count": 56,
   "metadata": {},
   "outputs": [
    {
     "name": "stdout",
     "output_type": "stream",
     "text": [
      "2953\n"
     ]
    }
   ],
   "source": [
    "\n",
    "for i in range(7964):\n",
    "    if l0[i][0]== \"illstopyouroptimismoisinfectiouslikeavirus\":\n",
    "            print(i)"
   ]
  },
  {
   "cell_type": "code",
   "execution_count": 57,
   "metadata": {},
   "outputs": [
    {
     "name": "stdout",
     "output_type": "stream",
     "text": [
      "7281\n"
     ]
    }
   ],
   "source": [
    "\n",
    "for i in range(7964):\n",
    "    if l1[i][0]== \"illstopyouroptimismoisinfectiouslikeavirus\":\n",
    "            print(i)"
   ]
  },
  {
   "cell_type": "code",
   "execution_count": 58,
   "metadata": {},
   "outputs": [
    {
     "name": "stdout",
     "output_type": "stream",
     "text": [
      "('quatrains', 6.4515574e-05)\n",
      "('pasttension', 6.4515574e-05)\n",
      "('difference', 6.4515574e-05)\n",
      "('ademenitoareaautoaresăiubeascămajoritateascrisorilorprincontradictoriiscuze', 6.451557e-05)\n",
      "('moșteneau', 6.451557e-05)\n",
      "('knowledgeandexperience', 6.451557e-05)\n",
      "('writtenscripts', 6.451556e-05)\n",
      "('introduces', 6.451556e-05)\n",
      "('interpreting', 6.451554e-05)\n",
      "('intervenție', 6.451554e-05)\n",
      "('leurs', 6.451552e-05)\n",
      "('websiteul', 6.451552e-05)\n",
      "('bilingv', 6.4515516e-05)\n",
      "('arm', 6.4515516e-05)\n",
      "('spokensubjectofmyverse', 6.451551e-05)\n",
      "('gravediggers', 6.45155e-05)\n",
      "('hammurabiscodeisspoken', 6.45155e-05)\n",
      "('căutare', 6.45155e-05)\n",
      "('topittistranslationwasanaturalact', 6.4515494e-05)\n",
      "('finale', 6.451548e-05)\n",
      "('abstruse', 6.451547e-05)\n",
      "('hopefulness', 6.451547e-05)\n",
      "('rochester', 6.451547e-05)\n",
      "('sâsâie', 6.451547e-05)\n",
      "('xonmobil', 6.4515465e-05)\n",
      "('feromoni', 6.451545e-05)\n",
      "('sursă', 6.451545e-05)\n",
      "('«', 6.451544e-05)\n",
      "('antidot', 6.451544e-05)\n",
      "('ștergea', 6.451544e-05)\n",
      "('muffle', 6.4515436e-05)\n",
      "('festering', 6.4515436e-05)\n",
      "('spuneau', 6.451542e-05)\n",
      "('everywhere', 6.451542e-05)\n",
      "('demonstrate', 6.4515414e-05)\n",
      "('shakespeareinromania', 6.4515414e-05)\n",
      "('noun', 6.4515414e-05)\n",
      "('patterned', 6.4515414e-05)\n",
      "('nus', 6.4515414e-05)\n",
      "('convinge', 6.4515414e-05)\n",
      "('ageing', 6.451539e-05)\n",
      "('illstopyouroptimismoisinfectiouslikeavirus', 6.451539e-05)\n",
      "('nuance', 6.4515385e-05)\n",
      "('librarian', 6.4515385e-05)\n",
      "('doesanalgorithmhaveareferent', 6.4515385e-05)\n",
      "('invites', 6.451537e-05)\n",
      "('refrains', 6.451536e-05)\n",
      "('citysugar', 6.451536e-05)\n",
      "('towriteasanalgorithm', 6.451536e-05)\n",
      "('contrary', 6.451536e-05)\n",
      "('contact', 6.4515356e-05)\n",
      "('creastă', 6.4515356e-05)\n",
      "('severelydecomposingcorpseofacanadianjournalist', 6.451535e-05)\n",
      "('căi', 6.451535e-05)\n",
      "('pen', 6.451535e-05)\n",
      "('anticipating', 6.451535e-05)\n",
      "('syntax', 6.451535e-05)\n",
      "('makinggoodtheforetoldhistory', 6.4515334e-05)\n",
      "('weapons', 6.4515334e-05)\n",
      "('filmtheory', 6.451533e-05)\n",
      "('tăbărând', 6.451533e-05)\n",
      "('therearedifferenttwosbutanirritatingminimumwage', 6.451532e-05)\n",
      "('espagne', 6.45153e-05)\n",
      "('murdered', 6.45153e-05)\n",
      "('potential', 6.45153e-05)\n",
      "('park', 6.451528e-05)\n",
      "('poprock', 6.451527e-05)\n",
      "('sisyphis', 6.451527e-05)\n",
      "('torment', 6.451527e-05)\n",
      "('tools', 6.451527e-05)\n",
      "('oală', 6.451526e-05)\n",
      "('accumulated', 6.451526e-05)\n",
      "('intersectează', 6.4515254e-05)\n",
      "('bloody', 6.451524e-05)\n",
      "('recognised', 6.451524e-05)\n",
      "('dobând', 6.451524e-05)\n",
      "('algorithmicsubjectivity', 6.451524e-05)\n",
      "('semn', 6.451524e-05)\n",
      "('translatinglivethelyricsoftherockbandspresented', 6.4515225e-05)\n",
      "('părea', 6.4515225e-05)\n",
      "('vagoaneentropice', 6.4515225e-05)\n",
      "('faces', 6.4515225e-05)\n"
     ]
    }
   ],
   "source": [
    "\n",
    "for i in range(2912, 2994):\n",
    "    print(l0[i])"
   ]
  },
  {
   "cell_type": "code",
   "execution_count": 59,
   "metadata": {},
   "outputs": [
    {
     "name": "stdout",
     "output_type": "stream",
     "text": [
      "('intact', 0.00012526244)\n",
      "('seminar', 0.00012526244)\n",
      "('furthermore', 0.0001252624)\n",
      "('dobând', 0.00012526235)\n",
      "('bloody', 0.00012526235)\n",
      "('translatinglivethelyricsoftherockbandspresented', 0.00012526235)\n",
      "('oală', 0.00012526232)\n",
      "('vagoaneentropice', 0.00012526229)\n",
      "('theirs', 0.00012526229)\n",
      "('algorithmicsubjectivity', 0.00012526228)\n",
      "('intersectează', 0.00012526226)\n",
      "('accumulated', 0.00012526226)\n",
      "('poprock', 0.00012526226)\n",
      "('părea', 0.00012526226)\n",
      "('semn', 0.00012526225)\n",
      "('park', 0.00012526219)\n",
      "('sisyphis', 0.00012526217)\n",
      "('therearedifferenttwosbutanirritatingminimumwage', 0.00012526216)\n",
      "('torment', 0.00012526214)\n",
      "('espagne', 0.0001252621)\n",
      "('tools', 0.00012526207)\n",
      "('potential', 0.00012526207)\n",
      "('filmtheory', 0.000125262)\n",
      "('murdered', 0.00012526197)\n",
      "('tăbărând', 0.00012526191)\n",
      "('severelydecomposingcorpseofacanadianjournalist', 0.00012526191)\n",
      "('makinggoodtheforetoldhistory', 0.0001252619)\n",
      "('weapons', 0.00012526185)\n",
      "('anticipating', 0.00012526184)\n",
      "('syntax', 0.00012526178)\n",
      "('citysugar', 0.00012526177)\n",
      "('pen', 0.00012526171)\n",
      "('contact', 0.00012526171)\n",
      "('librarian', 0.00012526171)\n",
      "('căi', 0.0001252617)\n",
      "('doesanalgorithmhaveareferent', 0.00012526168)\n",
      "('towriteasanalgorithm', 0.00012526165)\n",
      "('creastă', 0.0001252616)\n",
      "('refrains', 0.0001252616)\n",
      "('nuance', 0.00012526159)\n",
      "('ageing', 0.00012526159)\n",
      "('illstopyouroptimismoisinfectiouslikeavirus', 0.00012526156)\n",
      "('invites', 0.00012526152)\n",
      "('contrary', 0.00012526152)\n",
      "('demonstrate', 0.00012526152)\n",
      "('shakespeareinromania', 0.0001252615)\n",
      "('nus', 0.00012526149)\n",
      "('noun', 0.00012526145)\n",
      "('convinge', 0.00012526145)\n",
      "('spuneau', 0.00012526143)\n",
      "('muffle', 0.00012526137)\n",
      "('everywhere', 0.00012526137)\n",
      "('patterned', 0.00012526134)\n",
      "('«', 0.0001252613)\n",
      "('festering', 0.00012526126)\n",
      "('antidot', 0.00012526124)\n",
      "('sursă', 0.00012526124)\n",
      "('feromoni', 0.00012526123)\n",
      "('finale', 0.00012526113)\n",
      "('sâsâie', 0.00012526111)\n",
      "('xonmobil', 0.0001252611)\n",
      "('ștergea', 0.00012526107)\n",
      "('rochester', 0.00012526101)\n",
      "('topittistranslationwasanaturalact', 0.00012526101)\n",
      "('spokensubjectofmyverse', 0.00012526095)\n",
      "('căutare', 0.00012526095)\n",
      "('hopefulness', 0.00012526094)\n",
      "('gravediggers', 0.0001252609)\n",
      "('abstruse', 0.00012526088)\n",
      "('arm', 0.00012526086)\n",
      "('bilingv', 0.00012526083)\n",
      "('websiteul', 0.00012526082)\n",
      "('hammurabiscodeisspoken', 0.00012526082)\n",
      "('intervenție', 0.00012526076)\n",
      "('leurs', 0.00012526072)\n",
      "('interpreting', 0.0001252607)\n",
      "('writtenscripts', 0.00012526063)\n",
      "('introduces', 0.00012526063)\n",
      "('solace', 0.0001252606)\n",
      "('knowledgeandexperience', 0.00012526057)\n",
      "('moșteneau', 0.00012526051)\n",
      "('quatrains', 0.0001252605)\n"
     ]
    }
   ],
   "source": [
    "\n",
    "for i in range(7240, 7322):\n",
    "    print(l1[i])"
   ]
  },
  {
   "cell_type": "code",
   "execution_count": 61,
   "metadata": {},
   "outputs": [
    {
     "name": "stdout",
     "output_type": "stream",
     "text": [
      "6837\n"
     ]
    }
   ],
   "source": [
    "\n",
    "for i in range(7964):\n",
    "    if l0[i][0]== \"acknowledgement\":\n",
    "            print(i)"
   ]
  },
  {
   "cell_type": "code",
   "execution_count": 62,
   "metadata": {},
   "outputs": [
    {
     "name": "stdout",
     "output_type": "stream",
     "text": [
      "2218\n"
     ]
    }
   ],
   "source": [
    "for i in range(7964):\n",
    "    if l0[i][0]== \"friendship\":\n",
    "            print(i)"
   ]
  },
  {
   "cell_type": "code",
   "execution_count": 63,
   "metadata": {},
   "outputs": [
    {
     "name": "stdout",
     "output_type": "stream",
     "text": [
      "3504\n"
     ]
    }
   ],
   "source": [
    "\n",
    "for i in range(7964):\n",
    "    if l0[i][0]== \"improve\":\n",
    "            print(i)"
   ]
  },
  {
   "cell_type": "code",
   "execution_count": 64,
   "metadata": {},
   "outputs": [
    {
     "name": "stdout",
     "output_type": "stream",
     "text": [
      "300\n"
     ]
    }
   ],
   "source": [
    "for i in range(7964):\n",
    "    if l0[i][0]== \"least\":\n",
    "            print(i)"
   ]
  },
  {
   "cell_type": "code",
   "execution_count": 65,
   "metadata": {},
   "outputs": [
    {
     "name": "stdout",
     "output_type": "stream",
     "text": [
      "4385\n"
     ]
    }
   ],
   "source": [
    "\n",
    "for i in range(7964):\n",
    "    if l0[i][0] == \"winehiddennowtasteexpectationsdrunkenotherotherbaggodpoemskipwhatcomingwritewherefindinsidethosedoubtleastwritingtimetorturedpoetsrightingfourfourdarkroundcautionbewarestuckwaitsreturnstudiodabblerginwrittenfoundthereshelfupfindsanightconfoundaroundanteroom\":\n",
    "        print(i)\n",
    "\n",
    "#winehiddennowtasteexpectationsdrunkenotherotherbaggodpoemskipwhatcomingwritewherefindinsidethosedoubtleastwritingtimetorturedpoetsrightingfourfourdarkroundcautionbewarestuckwaitsreturnstudiodabblerginwrittenfoundthereshelfupfindsanightconfoundaroundanteroom"
   ]
  },
  {
   "cell_type": "code",
   "execution_count": 66,
   "metadata": {},
   "outputs": [
    {
     "name": "stdout",
     "output_type": "stream",
     "text": [
      "5851\n"
     ]
    }
   ],
   "source": [
    "\n",
    "for i in range(7964):\n",
    "    if l1[i][0] == \"winehiddennowtasteexpectationsdrunkenotherotherbaggodpoemskipwhatcomingwritewherefindinsidethosedoubtleastwritingtimetorturedpoetsrightingfourfourdarkroundcautionbewarestuckwaitsreturnstudiodabblerginwrittenfoundthereshelfupfindsanightconfoundaroundanteroom\":\n",
    "        print(i)"
   ]
  },
  {
   "cell_type": "code",
   "execution_count": 67,
   "metadata": {},
   "outputs": [
    {
     "name": "stdout",
     "output_type": "stream",
     "text": [
      "('răzbunat', 6.451166e-05)\n",
      "('romanianversionisbuiltonaperfectlyregularpentameter', 6.451165e-05)\n",
      "('supună', 6.451165e-05)\n",
      "('diversiune', 6.451165e-05)\n",
      "('mealteregohimwritingunderstressotherhalfachievepoemverseimpossiblesleptmealteregospoetstransformationsdeathgoingsonovidtwopoetsbetteronmetamorphosesthe', 6.451165e-05)\n",
      "('contribution', 6.451165e-05)\n",
      "('initiated', 6.451164e-05)\n",
      "('effusive', 6.451164e-05)\n",
      "('fabricii', 6.451164e-05)\n",
      "('aspired', 6.451164e-05)\n",
      "('solidarity', 6.451164e-05)\n",
      "('understand', 6.451164e-05)\n",
      "('signalswhenthetextgoesbacktotheinitialmeter', 6.451163e-05)\n",
      "('irreverence', 6.451163e-05)\n",
      "('ephesus', 6.451163e-05)\n",
      "('estate', 6.451162e-05)\n",
      "('altered', 6.451162e-05)\n",
      "('grandmother', 6.451162e-05)\n",
      "('unan', 6.451162e-05)\n",
      "('sheworksoncorpusexpansion', 6.4511616e-05)\n",
      "('autostrada', 6.451161e-05)\n",
      "('wail', 6.451161e-05)\n",
      "('părăsite', 6.45116e-05)\n",
      "('suggesting', 6.45116e-05)\n",
      "('mener', 6.45116e-05)\n",
      "('azalee', 6.45116e-05)\n",
      "('formulation', 6.451159e-05)\n",
      "('cai', 6.451159e-05)\n",
      "('thedjdefectedtoaustriaandthengermany', 6.451158e-05)\n",
      "('journalists', 6.451158e-05)\n",
      "('anytexthewouldreadwasapproachedwiththeawarenessofanaudience', 6.451158e-05)\n",
      "('elizabethanrestoration', 6.451158e-05)\n",
      "('quality', 6.451158e-05)\n",
      "('indigenouscommunity', 6.451157e-05)\n",
      "('excellent', 6.4511565e-05)\n",
      "('momentîntimp', 6.4511565e-05)\n",
      "('constant', 6.451156e-05)\n",
      "('oppressivepoliticalregimes', 6.451156e-05)\n",
      "('accordingtotheplacewethinkweoccupy', 6.451156e-05)\n",
      "('tv', 6.451156e-05)\n",
      "('brain', 6.451156e-05)\n",
      "('winehiddennowtasteexpectationsdrunkenotherotherbaggodpoemskipwhatcomingwritewherefindinsidethosedoubtleastwritingtimetorturedpoetsrightingfourfourdarkroundcautionbewarestuckwaitsreturnstudiodabblerginwrittenfoundthereshelfupfindsanightconfoundaroundanteroom', 6.451155e-05)\n",
      "('închisă', 6.451155e-05)\n",
      "('ferns', 6.451155e-05)\n",
      "('indoctrination', 6.451155e-05)\n",
      "('stiu', 6.451154e-05)\n",
      "('notorious', 6.4511536e-05)\n",
      "('sharp', 6.451153e-05)\n",
      "('fluidity', 6.451152e-05)\n",
      "('peacolo', 6.4511514e-05)\n",
      "('november', 6.4511514e-05)\n",
      "('sociale', 6.4511514e-05)\n",
      "('carioca', 6.4511514e-05)\n",
      "('complicit', 6.4511514e-05)\n",
      "('military', 6.451151e-05)\n",
      "('shamanism', 6.451151e-05)\n",
      "('ceartanhumaţilor', 6.451151e-05)\n",
      "('unable', 6.45115e-05)\n",
      "('genius', 6.451149e-05)\n",
      "('didnotgaincurrencyonlybecauseofthethrillofthebanned', 6.4511485e-05)\n",
      "('accomplished', 6.4511485e-05)\n",
      "('maintained', 6.451148e-05)\n",
      "('elvispresley', 6.451148e-05)\n",
      "('nadie', 6.451148e-05)\n",
      "('219', 6.451147e-05)\n",
      "('theunrowdycrowd', 6.451146e-05)\n",
      "('astami', 6.451146e-05)\n",
      "('sivitatea', 6.451146e-05)\n",
      "('amereanaloguewritertryingtoconjuresimilarinformationfrommemory', 6.451146e-05)\n",
      "('câmpului', 6.451146e-05)\n",
      "('spuse', 6.451146e-05)\n",
      "('cuabur', 6.4511456e-05)\n",
      "('prevedem', 6.4511456e-05)\n",
      "('hoy', 6.4511456e-05)\n",
      "('enjoy', 6.4511456e-05)\n",
      "('grea', 6.451145e-05)\n",
      "('truck', 6.451145e-05)\n",
      "('bent', 6.451145e-05)\n",
      "('către', 6.451145e-05)\n",
      "('explorer', 6.451145e-05)\n",
      "('detached', 6.451145e-05)\n",
      "('fits', 6.4511434e-05)\n"
     ]
    }
   ],
   "source": [
    "\n",
    "for i in range(4344, 4426):\n",
    "    print(l0[i])"
   ]
  },
  {
   "cell_type": "code",
   "execution_count": 68,
   "metadata": {},
   "outputs": [
    {
     "name": "stdout",
     "output_type": "stream",
     "text": [
      "('fits', 0.00012528394)\n",
      "('nesolicitate', 0.00012528393)\n",
      "('truck', 0.00012528393)\n",
      "('detached', 0.00012528387)\n",
      "('enjoy', 0.00012528387)\n",
      "('219', 0.00012528386)\n",
      "('palatineanthology', 0.00012528386)\n",
      "('drive', 0.00012528386)\n",
      "('astami', 0.00012528384)\n",
      "('accomplished', 0.00012528383)\n",
      "('câmpului', 0.00012528383)\n",
      "('cuabur', 0.0001252838)\n",
      "('sivitatea', 0.00012528378)\n",
      "('bent', 0.00012528378)\n",
      "('către', 0.00012528378)\n",
      "('amereanaloguewritertryingtoconjuresimilarinformationfrommemory', 0.00012528374)\n",
      "('maintained', 0.00012528371)\n",
      "('nadie', 0.00012528368)\n",
      "('didnotgaincurrencyonlybecauseofthethrillofthebanned', 0.00012528368)\n",
      "('ceartanhumaţilor', 0.00012528368)\n",
      "('genius', 0.00012528367)\n",
      "('spuse', 0.00012528365)\n",
      "('theunrowdycrowd', 0.00012528364)\n",
      "('elvispresley', 0.00012528364)\n",
      "('prevedem', 0.0001252836)\n",
      "('sociale', 0.0001252836)\n",
      "('shamanism', 0.00012528355)\n",
      "('peacolo', 0.00012528354)\n",
      "('sharp', 0.0001252835)\n",
      "('complicit', 0.0001252835)\n",
      "('unable', 0.00012528346)\n",
      "('notorious', 0.00012528346)\n",
      "('carioca', 0.00012528346)\n",
      "('november', 0.00012528343)\n",
      "('fluidity', 0.00012528342)\n",
      "('accordingtotheplacewethinkweoccupy', 0.00012528338)\n",
      "('oppressivepoliticalregimes', 0.00012528338)\n",
      "('brain', 0.00012528333)\n",
      "('military', 0.0001252833)\n",
      "('excellent', 0.0001252833)\n",
      "('tv', 0.0001252833)\n",
      "('winehiddennowtasteexpectationsdrunkenotherotherbaggodpoemskipwhatcomingwritewherefindinsidethosedoubtleastwritingtimetorturedpoetsrightingfourfourdarkroundcautionbewarestuckwaitsreturnstudiodabblerginwrittenfoundthereshelfupfindsanightconfoundaroundanteroom', 0.00012528324)\n",
      "('indoctrination', 0.00012528324)\n",
      "('stiu', 0.00012528322)\n",
      "('formulation', 0.0001252832)\n",
      "('momentîntimp', 0.00012528319)\n",
      "('ferns', 0.00012528317)\n",
      "('închisă', 0.00012528317)\n",
      "('anytexthewouldreadwasapproachedwiththeawarenessofanaudience', 0.00012528317)\n",
      "('indigenouscommunity', 0.00012528316)\n",
      "('quality', 0.00012528313)\n",
      "('elizabethanrestoration', 0.00012528313)\n",
      "('constant', 0.00012528313)\n",
      "('cai', 0.0001252831)\n",
      "('azalee', 0.00012528307)\n",
      "('journalists', 0.00012528303)\n",
      "('thedjdefectedtoaustriaandthengermany', 0.00012528301)\n",
      "('autostrada', 0.00012528301)\n",
      "('altered', 0.00012528297)\n",
      "('wail', 0.00012528294)\n",
      "('estate', 0.00012528294)\n",
      "('unan', 0.00012528294)\n",
      "('părăsite', 0.00012528292)\n",
      "('suggesting', 0.00012528292)\n",
      "('sheworksoncorpusexpansion', 0.00012528292)\n",
      "('signalswhenthetextgoesbacktotheinitialmeter', 0.00012528292)\n",
      "('grandmother', 0.00012528291)\n",
      "('mener', 0.00012528291)\n",
      "('initiated', 0.00012528288)\n",
      "('ephesus', 0.00012528288)\n",
      "('effusive', 0.00012528282)\n",
      "('irreverence', 0.00012528282)\n",
      "('aceastai', 0.00012528281)\n",
      "('solidarity', 0.00012528276)\n",
      "('aspired', 0.00012528274)\n",
      "('fabricii', 0.00012528272)\n",
      "('răzbunat', 0.00012528272)\n",
      "('contribution', 0.0001252827)\n",
      "('mealteregohimwritingunderstressotherhalfachievepoemverseimpossiblesleptmealteregospoetstransformationsdeathgoingsonovidtwopoetsbetteronmetamorphosesthe', 0.00012528269)\n",
      "('diversiune', 0.00012528268)\n",
      "('tweet', 0.00012528268)\n",
      "('supună', 0.00012528268)\n"
     ]
    }
   ],
   "source": [
    "\n",
    "for i in range(5810, 5892):\n",
    "    print(l1[i])"
   ]
  },
  {
   "cell_type": "code",
   "execution_count": 69,
   "metadata": {},
   "outputs": [
    {
     "name": "stdout",
     "output_type": "stream",
     "text": [
      "('plain', 0.00012528441)\n",
      "('shapeless', 0.0001252844)\n",
      "('lovemission', 0.00012528435)\n",
      "('touchthemuses', 0.00012528435)\n",
      "('involvingagainhisabundantaudienceinhisshows', 0.00012528435)\n",
      "('verginia', 0.00012528435)\n",
      "('library', 0.00012528434)\n",
      "('expansivă', 0.00012528434)\n",
      "('throwoff', 0.00012528432)\n",
      "('genres', 0.00012528429)\n",
      "('sat', 0.00012528429)\n",
      "('201228', 0.00012528429)\n",
      "('shapes', 0.00012528423)\n",
      "('sai', 0.00012528422)\n",
      "('countercultures', 0.00012528422)\n",
      "('deace', 0.0001252842)\n",
      "('ceruri', 0.0001252842)\n",
      "('emergentstringofcode', 0.0001252842)\n",
      "('liverpool', 0.00012528419)\n",
      "('randomly', 0.00012528419)\n",
      "('lacrimilor', 0.00012528419)\n",
      "('plimbă', 0.00012528419)\n",
      "('arheologie', 0.00012528415)\n",
      "('unreadied', 0.00012528415)\n",
      "('marf', 0.00012528412)\n",
      "('month', 0.0001252841)\n",
      "('meaningproduction', 0.00012528409)\n",
      "('portugal', 0.00012528407)\n",
      "('conving', 0.00012528407)\n",
      "('afteradecadeofgrowthintranspicturesqueclimes', 0.00012528406)\n",
      "('vol', 0.00012528404)\n",
      "('deterred', 0.00012528403)\n",
      "('bottles', 0.00012528403)\n",
      "('thereisnothingyoucantbuy', 0.00012528402)\n",
      "('coincidă', 0.00012528402)\n",
      "('grea', 0.00012528402)\n",
      "('pare', 0.000125284)\n",
      "('temptationstillsnakesahandintohislap', 0.000125284)\n",
      "('casting', 0.00012528399)\n",
      "('hoy', 0.00012528397)\n",
      "('explorer', 0.00012528397)\n"
     ]
    }
   ],
   "source": [
    "\n",
    "for i in range(5768, 5809):\n",
    "    print(l1[i])"
   ]
  },
  {
   "cell_type": "code",
   "execution_count": 70,
   "metadata": {},
   "outputs": [
    {
     "name": "stdout",
     "output_type": "stream",
     "text": [
      "('knowledgebasewasderivedfromreadingclassicalandbiblicaltexts', 0.00012528265)\n",
      "('romanianversionisbuiltonaperfectlyregularpentameter', 0.00012528265)\n",
      "('acknowledgethatotherwithintheconditionsofproduction', 0.00012528263)\n",
      "('șimaimultcazăpada', 0.00012528263)\n",
      "('fetei', 0.00012528263)\n",
      "('understand', 0.00012528262)\n",
      "('șia', 0.00012528259)\n",
      "('camps', 0.00012528258)\n",
      "('painful', 0.00012528255)\n",
      "('inițiale', 0.00012528255)\n",
      "('irige', 0.00012528255)\n",
      "('bawdy', 0.00012528253)\n",
      "('dirt', 0.00012528253)\n",
      "('digitalhumanities', 0.00012528253)\n",
      "('rachel', 0.00012528252)\n",
      "('werealltakentipsyafterall', 0.0001252825)\n",
      "('urletele', 0.0001252825)\n",
      "('alții', 0.0001252825)\n",
      "('standardreference', 0.00012528249)\n",
      "('reamintirea', 0.00012528249)\n",
      "('noodeunlessinthecommunalflow', 0.00012528247)\n",
      "('frominsidethesubjectpositionofaspeakingalgorithm', 0.00012528244)\n",
      "('drum', 0.00012528243)\n",
      "('simțise', 0.00012528241)\n",
      "('ontologically', 0.00012528241)\n",
      "('room', 0.00012528239)\n",
      "('iamtheonlyonewhoknowshim', 0.00012528239)\n",
      "('species', 0.00012528234)\n",
      "('toxice', 0.00012528234)\n",
      "('contemporani', 0.0001252823)\n",
      "('sights', 0.0001252823)\n",
      "('algorithmictechniquesforprocedural', 0.00012528228)\n",
      "('signingarmsmanboobstrampstampsandbuttsinportland', 0.00012528227)\n",
      "('vistas', 0.00012528227)\n",
      "('pin', 0.00012528225)\n",
      "('posibila', 0.00012528225)\n",
      "('poésie', 0.00012528224)\n",
      "('mealiceinunderland', 0.00012528224)\n",
      "('favored', 0.00012528223)\n",
      "('neaflând', 0.0001252822)\n",
      "('lessons', 0.0001252822)\n",
      "('leaders', 0.0001252822)\n",
      "('murderer', 0.00012528218)\n",
      "('leafy', 0.00012528217)\n",
      "('ritmuri', 0.00012528214)\n",
      "('trees', 0.0001252821)\n",
      "('identité', 0.00012528208)\n",
      "('cutremurat', 0.00012528207)\n",
      "('travel', 0.00012528204)\n",
      "('andpère', 0.00012528201)\n",
      "('redeems', 0.000125282)\n"
     ]
    }
   ],
   "source": [
    "\n",
    "for i in range(5893, 5944):\n",
    "    print(l1[i])"
   ]
  },
  {
   "cell_type": "code",
   "execution_count": 71,
   "metadata": {},
   "outputs": [
    {
     "name": "stdout",
     "output_type": "stream",
     "text": [
      "5174\n"
     ]
    }
   ],
   "source": [
    "\n",
    "for i in range(7964):\n",
    "    if l0[i][0]==\"yeslookshatesonstriketakewardrobeoldtimelinesrhymeoccasionswillinconclusiontroublehelpsthankstroubledrydenchangedtranslationwellmetamorphosesbestthankseverovidcomechangeneededmanworktroublevoiceverseovidyoudosuitrhythmtwelvebarfortherehidedeignlysistratawifefits\":\n",
    "            print(i)\n",
    "\n",
    "#yeslookshatesonstriketakewardrobeoldtimelinesrhymeoccasionswillinconclusiontroublehelpsthankstroubledrydenchangedtranslationwellmetamorphosesbestthankseverovidcomechangeneededmanworktroublevoiceverseovidyoudosuitrhythmtwelvebarfortherehidedeignlysistratawifefits"
   ]
  },
  {
   "cell_type": "code",
   "execution_count": 72,
   "metadata": {},
   "outputs": [
    {
     "name": "stdout",
     "output_type": "stream",
     "text": [
      "5061\n"
     ]
    }
   ],
   "source": [
    "for i in range(7964):\n",
    "    if l1[i][0]==\"yeslookshatesonstriketakewardrobeoldtimelinesrhymeoccasionswillinconclusiontroublehelpsthankstroubledrydenchangedtranslationwellmetamorphosesbestthankseverovidcomechangeneededmanworktroublevoiceverseovidyoudosuitrhythmtwelvebarfortherehidedeignlysistratawifefits\":\n",
    "            print(i)"
   ]
  },
  {
   "cell_type": "code",
   "execution_count": 73,
   "metadata": {},
   "outputs": [
    {
     "name": "stdout",
     "output_type": "stream",
     "text": [
      "('stretching', 6.450998e-05)\n",
      "('lăsate', 6.450998e-05)\n",
      "('andinconclusionthankstoovid', 6.450998e-05)\n",
      "('prototyp', 6.450998e-05)\n",
      "('cerșească', 6.450998e-05)\n",
      "('adaptingsongstospeaktoyoungromanians', 6.450998e-05)\n",
      "('ține', 6.450997e-05)\n",
      "('andandandneveryieldingasum', 6.4509964e-05)\n",
      "('minunata', 6.4509964e-05)\n",
      "('fulgi', 6.450996e-05)\n",
      "('reveal', 6.450996e-05)\n",
      "('thebandof', 6.450996e-05)\n",
      "('witnesseddozensofkillings', 6.450996e-05)\n",
      "('festine', 6.450996e-05)\n",
      "('floor', 6.450996e-05)\n",
      "('everythingsonsale', 6.450994e-05)\n",
      "('catholic', 6.450994e-05)\n",
      "('transcribing', 6.450994e-05)\n",
      "('photos', 6.450994e-05)\n",
      "('scheduled', 6.450994e-05)\n",
      "('cookie', 6.4509935e-05)\n",
      "('provided', 6.4509935e-05)\n",
      "('cărui', 6.4509935e-05)\n",
      "('audienceother', 6.4509935e-05)\n",
      "('îndepărtată', 6.4509935e-05)\n",
      "('ridicat', 6.4509935e-05)\n",
      "('painter', 6.4509935e-05)\n",
      "('conștiință', 6.4509935e-05)\n",
      "('sittingroundsingingsongstilthenightturnsintoday', 6.450993e-05)\n",
      "('cellular', 6.450993e-05)\n",
      "('anniversary', 6.450992e-05)\n",
      "('replace', 6.450992e-05)\n",
      "('toți', 6.450992e-05)\n",
      "('inwantofmanipulationwiththehands', 6.450992e-05)\n",
      "('normative', 6.450992e-05)\n",
      "('structuralist', 6.450991e-05)\n",
      "('responsabilitatea', 6.450991e-05)\n",
      "('arrangements', 6.450991e-05)\n",
      "('energizing', 6.4509906e-05)\n",
      "('neophloglodyte', 6.4509906e-05)\n",
      "('poétiquecurieuse', 6.4509906e-05)\n",
      "('yeslookshatesonstriketakewardrobeoldtimelinesrhymeoccasionswillinconclusiontroublehelpsthankstroubledrydenchangedtranslationwellmetamorphosesbestthankseverovidcomechangeneededmanworktroublevoiceverseovidyoudosuitrhythmtwelvebarfortherehidedeignlysistratawifefits', 6.4509906e-05)\n",
      "('lins', 6.4509906e-05)\n",
      "('repetitive', 6.4509906e-05)\n",
      "('trust', 6.45099e-05)\n",
      "('crisis', 6.45099e-05)\n",
      "('appalling', 6.45099e-05)\n",
      "('idiosyncraticverse', 6.450989e-05)\n",
      "('manipulation', 6.450989e-05)\n",
      "('whoareyoutodaresingtome', 6.450989e-05)\n",
      "('dancers', 6.450989e-05)\n",
      "('lire', 6.4509884e-05)\n",
      "('sittinginatheaterseatweoccupyasubjectposition', 6.4509884e-05)\n",
      "('datum', 6.4509884e-05)\n",
      "('thousand', 6.4509884e-05)\n",
      "('rockinginthegrain', 6.4509884e-05)\n",
      "('absorb', 6.450987e-05)\n",
      "('transcriptions', 6.450987e-05)\n",
      "('celei', 6.450987e-05)\n",
      "('member', 6.450987e-05)\n",
      "('mimetic', 6.450987e-05)\n",
      "('halves', 6.450987e-05)\n",
      "('meal', 6.450987e-05)\n",
      "('scrambleorchestras', 6.450987e-05)\n",
      "('whatyouseeiswhatyougetonoonesbeendisappointedyet', 6.450987e-05)\n",
      "('dying', 6.450987e-05)\n",
      "('elegance', 6.450987e-05)\n",
      "('whispers', 6.450986e-05)\n",
      "('întreba', 6.450986e-05)\n",
      "('găurile', 6.450986e-05)\n",
      "('socialsituatedness', 6.450986e-05)\n",
      "('rugăciune', 6.4509855e-05)\n",
      "('errors', 6.4509855e-05)\n",
      "('grimace', 6.450984e-05)\n",
      "('poeziei', 6.450984e-05)\n",
      "('machines', 6.450983e-05)\n",
      "('1842', 6.450983e-05)\n",
      "('arts', 6.450983e-05)\n",
      "('suspendată', 6.450982e-05)\n",
      "('espagnol', 6.450982e-05)\n",
      "('everybodysgottheirheadsboweddown', 6.450982e-05)\n",
      "('interspersed', 6.450982e-05)\n"
     ]
    }
   ],
   "source": [
    "\n",
    "for i in range(5133, 5215):\n",
    "    print(l0[i])"
   ]
  },
  {
   "cell_type": "code",
   "execution_count": 74,
   "metadata": {},
   "outputs": [
    {
     "name": "stdout",
     "output_type": "stream",
     "text": [
      "('espagnol', 0.00012529314)\n",
      "('1842', 0.00012529313)\n",
      "('interspersed', 0.00012529311)\n",
      "('cântdesce—urâcioaso', 0.00012529311)\n",
      "('everybodysgottheirheadsboweddown', 0.0001252931)\n",
      "('suspendată', 0.00012529307)\n",
      "('arts', 0.00012529304)\n",
      "('audio', 0.00012529302)\n",
      "('grimace', 0.00012529301)\n",
      "('întreba', 0.00012529297)\n",
      "('elegance', 0.00012529294)\n",
      "('socialsituatedness', 0.00012529294)\n",
      "('rugăciune', 0.0001252929)\n",
      "('poeziei', 0.00012529289)\n",
      "('meal', 0.00012529288)\n",
      "('halves', 0.00012529286)\n",
      "('găurile', 0.00012529286)\n",
      "('scrambleorchestras', 0.00012529283)\n",
      "('dying', 0.00012529282)\n",
      "('errors', 0.0001252928)\n",
      "('whispers', 0.0001252928)\n",
      "('whoareyoutodaresingtome', 0.00012529275)\n",
      "('mimetic', 0.00012529275)\n",
      "('neophloglodyte', 0.00012529275)\n",
      "('absorb', 0.00012529275)\n",
      "('lire', 0.00012529275)\n",
      "('idiosyncraticverse', 0.00012529273)\n",
      "('sittinginatheaterseatweoccupyasubjectposition', 0.00012529272)\n",
      "('rockinginthegrain', 0.00012529272)\n",
      "('cellular', 0.00012529272)\n",
      "('crisis', 0.0001252927)\n",
      "('dancers', 0.0001252927)\n",
      "('member', 0.0001252927)\n",
      "('trust', 0.00012529269)\n",
      "('appalling', 0.00012529269)\n",
      "('inwantofmanipulationwiththehands', 0.00012529267)\n",
      "('datum', 0.00012529267)\n",
      "('celei', 0.00012529267)\n",
      "('poétiquecurieuse', 0.00012529266)\n",
      "('transcriptions', 0.00012529264)\n",
      "('replace', 0.00012529263)\n",
      "('yeslookshatesonstriketakewardrobeoldtimelinesrhymeoccasionswillinconclusiontroublehelpsthankstroubledrydenchangedtranslationwellmetamorphosesbestthankseverovidcomechangeneededmanworktroublevoiceverseovidyoudosuitrhythmtwelvebarfortherehidedeignlysistratawifefits', 0.00012529263)\n",
      "('manipulation', 0.00012529263)\n",
      "('repetitive', 0.00012529262)\n",
      "('cărui', 0.00012529259)\n",
      "('lins', 0.00012529259)\n",
      "('toți', 0.00012529257)\n",
      "('anniversary', 0.00012529257)\n",
      "('energizing', 0.00012529257)\n",
      "('photos', 0.00012529256)\n",
      "('normative', 0.00012529256)\n",
      "('whatyouseeiswhatyougetonoonesbeendisappointedyet', 0.00012529254)\n",
      "('îndepărtată', 0.00012529254)\n",
      "('responsabilitatea', 0.00012529253)\n",
      "('conștiință', 0.0001252925)\n",
      "('thousand', 0.00012529248)\n",
      "('sittingroundsingingsongstilthenightturnsintoday', 0.00012529247)\n",
      "('provided', 0.00012529246)\n",
      "('ridicat', 0.00012529244)\n",
      "('arrangements', 0.00012529244)\n",
      "('transcribing', 0.00012529243)\n",
      "('everythingsonsale', 0.00012529243)\n",
      "('cookie', 0.00012529243)\n",
      "('structuralist', 0.00012529241)\n",
      "('stretching', 0.00012529237)\n",
      "('minunata', 0.00012529235)\n",
      "('andandandneveryieldingasum', 0.00012529234)\n",
      "('audienceother', 0.00012529232)\n",
      "('catholic', 0.00012529231)\n",
      "('scheduled', 0.00012529231)\n",
      "('ori', 0.00012529228)\n",
      "('festine', 0.00012529228)\n",
      "('cânte', 0.00012529227)\n",
      "('reveal', 0.00012529225)\n",
      "('painter', 0.00012529225)\n",
      "('primitivă', 0.00012529225)\n",
      "('fulgi', 0.00012529225)\n",
      "('andinconclusionthankstoovid', 0.00012529224)\n",
      "('săși', 0.00012529224)\n",
      "('ține', 0.00012529222)\n",
      "('thebandof', 0.00012529222)\n",
      "('prototyp', 0.00012529221)\n"
     ]
    }
   ],
   "source": [
    "\n",
    "for i in range(5020, 5102):\n",
    "    print(l1[i])"
   ]
  },
  {
   "cell_type": "code",
   "execution_count": 75,
   "metadata": {},
   "outputs": [
    {
     "name": "stdout",
     "output_type": "stream",
     "text": [
      "('tipourhands', 0.00012529365)\n",
      "('plight', 0.00012529363)\n",
      "('byknowinghimigettoknowothepurityoftheanimal', 0.00012529362)\n",
      "('dread', 0.00012529359)\n",
      "('tiny', 0.00012529358)\n",
      "('estimators', 0.00012529356)\n",
      "('artificial', 0.00012529356)\n",
      "('spentmywholelifeincloudsaticyaltitude', 0.00012529355)\n",
      "('spunele', 0.00012529352)\n",
      "('rejoicing', 0.00012529349)\n",
      "('provable', 0.00012529349)\n",
      "('dribbles', 0.00012529349)\n",
      "('creasc', 0.00012529349)\n",
      "('tevie', 0.00012529347)\n",
      "('soutien', 0.00012529347)\n",
      "('changeofmind', 0.00012529346)\n",
      "('dezafectat', 0.00012529345)\n",
      "('actualreader', 0.00012529343)\n",
      "('aspire', 0.00012529343)\n",
      "('galben', 0.00012529342)\n",
      "('odat', 0.0001252934)\n",
      "('wethegraphpoemalgorithms', 0.0001252934)\n",
      "('departenimicnueralafel', 0.0001252934)\n",
      "('dacai', 0.0001252934)\n",
      "('programmer', 0.00012529337)\n",
      "('cashonthefinestterms', 0.00012529334)\n",
      "('lethisdictionflowintoandbecontaminatedbythatofnaumsintranslation', 0.00012529333)\n",
      "('placa', 0.00012529331)\n",
      "('injecție', 0.0001252933)\n",
      "('promote', 0.00012529329)\n",
      "('strangled', 0.00012529327)\n",
      "('fence', 0.00012529327)\n",
      "('edward', 0.00012529327)\n",
      "('camerele', 0.00012529327)\n",
      "('cardinalpoint', 0.00012529326)\n",
      "('graphalgorithms', 0.00012529326)\n",
      "('caii', 0.00012529324)\n",
      "('ambele', 0.00012529323)\n",
      "('node', 0.00012529317)\n",
      "('machines', 0.00012529317)\n",
      "('poienistinghere', 0.00012529315)\n",
      "('group', 0.00012529315)\n",
      "('overlap', 0.00012529315)\n"
     ]
    }
   ],
   "source": [
    "\n",
    "for i in range(4977, 5020):\n",
    "    print(l1[i])"
   ]
  },
  {
   "cell_type": "code",
   "execution_count": 76,
   "metadata": {},
   "outputs": [
    {
     "name": "stdout",
     "output_type": "stream",
     "text": [
      "('cerșească', 0.00012529218)\n",
      "('panichez', 0.00012529218)\n",
      "('envers', 0.00012529216)\n",
      "('adaptingsongstospeaktoyoungromanians', 0.00012529215)\n",
      "('clișee', 0.00012529214)\n",
      "('naștere', 0.00012529214)\n",
      "('witnesseddozensofkillings', 0.00012529214)\n",
      "('resurse', 0.0001252921)\n",
      "('floor', 0.0001252921)\n",
      "('adevărațiireplicanți', 0.0001252921)\n",
      "('takeyourpickofthefinestwine', 0.0001252921)\n",
      "('cracu', 0.00012529209)\n",
      "('organization', 0.00012529208)\n",
      "('snakes', 0.00012529208)\n",
      "('literarycomposition', 0.00012529205)\n",
      "('hanging', 0.00012529203)\n",
      "('râsete', 0.00012529203)\n",
      "('robert', 0.000125292)\n",
      "('paragraphs', 0.000125292)\n",
      "('internațională', 0.00012529196)\n",
      "('écris', 0.00012529195)\n",
      "('dispărea', 0.00012529193)\n",
      "('combiningchaostheoryandcomplexitythinkinginthestudyofcontemporaryliterarytranslatorsagency', 0.00012529192)\n",
      "('diverse', 0.00012529192)\n",
      "('concomitantly', 0.00012529189)\n",
      "('anichemodeofengagementwiththeaudiences', 0.00012529187)\n",
      "('preview', 0.00012529186)\n",
      "('poeți', 0.00012529183)\n",
      "('eachsongprecededbyhisown', 0.00012529183)\n",
      "('displacement', 0.0001252918)\n",
      "('execution', 0.0001252918)\n",
      "('comparisonbetweenjesussassionsandthefateofthemodernmusician', 0.00012529179)\n",
      "('romanianbiasintoourmechanics', 0.00012529179)\n",
      "('decadent', 0.00012529177)\n",
      "('dilema', 0.00012529176)\n",
      "('polițistă', 0.00012529174)\n",
      "('startingoutasasuccessfulactor', 0.00012529173)\n",
      "('suggests', 0.00012529171)\n",
      "('towering', 0.0001252917)\n",
      "('fifth', 0.0001252917)\n",
      "('faceomlet', 0.0001252917)\n"
     ]
    }
   ],
   "source": [
    "\n",
    "for i in range(5103, 5144):\n",
    "    print(l1[i])"
   ]
  },
  {
   "cell_type": "code",
   "execution_count": 77,
   "metadata": {},
   "outputs": [
    {
     "name": "stdout",
     "output_type": "stream",
     "text": [
      "4348\n"
     ]
    }
   ],
   "source": [
    "\n",
    "for i in range(7964):\n",
    "    if l0[i][0]==\"mealteregohimwritingunderstressotherhalfachievepoemverseimpossiblesleptmealteregospoetstransformationsdeathgoingsonovidtwopoetsbetteronmetamorphosesthe\":\n",
    "            print(i)"
   ]
  },
  {
   "cell_type": "code",
   "execution_count": 78,
   "metadata": {},
   "outputs": [
    {
     "name": "stdout",
     "output_type": "stream",
     "text": [
      "5888\n"
     ]
    }
   ],
   "source": [
    "\n",
    "for i in range(7964):\n",
    "    if l1[i][0]==\"mealteregohimwritingunderstressotherhalfachievepoemverseimpossiblesleptmealteregospoetstransformationsdeathgoingsonovidtwopoetsbetteronmetamorphosesthe\":\n",
    "            print(i)"
   ]
  },
  {
   "cell_type": "code",
   "execution_count": 79,
   "metadata": {},
   "outputs": [
    {
     "name": "stdout",
     "output_type": "stream",
     "text": [
      "('leafy', 6.4511725e-05)\n",
      "('favored', 6.4511725e-05)\n",
      "('pin', 6.4511725e-05)\n",
      "('mealiceinunderland', 6.4511725e-05)\n",
      "('ontologically', 6.4511725e-05)\n",
      "('room', 6.451171e-05)\n",
      "('posibila', 6.451171e-05)\n",
      "('digitalhumanities', 6.451171e-05)\n",
      "('toxice', 6.451171e-05)\n",
      "('frominsidethesubjectpositionofaspeakingalgorithm', 6.451171e-05)\n",
      "('standardreference', 6.451171e-05)\n",
      "('drum', 6.451171e-05)\n",
      "('species', 6.451171e-05)\n",
      "('algorithmictechniquesforprocedural', 6.45117e-05)\n",
      "('painful', 6.45117e-05)\n",
      "('bawdy', 6.451169e-05)\n",
      "('iamtheonlyonewhoknowshim', 6.451169e-05)\n",
      "('contemporani', 6.451169e-05)\n",
      "('alții', 6.451169e-05)\n",
      "('camps', 6.451169e-05)\n",
      "('rachel', 6.451169e-05)\n",
      "('șimaimultcazăpada', 6.451169e-05)\n",
      "('inițiale', 6.451169e-05)\n",
      "('simțise', 6.451169e-05)\n",
      "('reamintirea', 6.451169e-05)\n",
      "('șia', 6.451168e-05)\n",
      "('dirt', 6.451168e-05)\n",
      "('noodeunlessinthecommunalflow', 6.451168e-05)\n",
      "('acknowledgethatotherwithintheconditionsofproduction', 6.4511674e-05)\n",
      "('fetei', 6.4511674e-05)\n",
      "('werealltakentipsyafterall', 6.4511674e-05)\n",
      "('knowledgebasewasderivedfromreadingclassicalandbiblicaltexts', 6.4511674e-05)\n",
      "('urletele', 6.4511674e-05)\n",
      "('irige', 6.451166e-05)\n",
      "('tweet', 6.451166e-05)\n",
      "('desserts', 6.451166e-05)\n",
      "('aceastai', 6.451166e-05)\n",
      "('răzbunat', 6.451166e-05)\n",
      "('romanianversionisbuiltonaperfectlyregularpentameter', 6.451165e-05)\n",
      "('supună', 6.451165e-05)\n",
      "('diversiune', 6.451165e-05)\n",
      "('mealteregohimwritingunderstressotherhalfachievepoemverseimpossiblesleptmealteregospoetstransformationsdeathgoingsonovidtwopoetsbetteronmetamorphosesthe', 6.451165e-05)\n",
      "('contribution', 6.451165e-05)\n",
      "('initiated', 6.451164e-05)\n",
      "('effusive', 6.451164e-05)\n",
      "('fabricii', 6.451164e-05)\n",
      "('aspired', 6.451164e-05)\n",
      "('solidarity', 6.451164e-05)\n",
      "('understand', 6.451164e-05)\n",
      "('signalswhenthetextgoesbacktotheinitialmeter', 6.451163e-05)\n",
      "('irreverence', 6.451163e-05)\n",
      "('ephesus', 6.451163e-05)\n",
      "('estate', 6.451162e-05)\n",
      "('altered', 6.451162e-05)\n",
      "('grandmother', 6.451162e-05)\n",
      "('unan', 6.451162e-05)\n",
      "('sheworksoncorpusexpansion', 6.4511616e-05)\n",
      "('autostrada', 6.451161e-05)\n",
      "('wail', 6.451161e-05)\n",
      "('părăsite', 6.45116e-05)\n",
      "('suggesting', 6.45116e-05)\n",
      "('mener', 6.45116e-05)\n",
      "('azalee', 6.45116e-05)\n",
      "('formulation', 6.451159e-05)\n",
      "('cai', 6.451159e-05)\n",
      "('thedjdefectedtoaustriaandthengermany', 6.451158e-05)\n",
      "('journalists', 6.451158e-05)\n",
      "('anytexthewouldreadwasapproachedwiththeawarenessofanaudience', 6.451158e-05)\n",
      "('elizabethanrestoration', 6.451158e-05)\n",
      "('quality', 6.451158e-05)\n",
      "('indigenouscommunity', 6.451157e-05)\n",
      "('excellent', 6.4511565e-05)\n",
      "('momentîntimp', 6.4511565e-05)\n",
      "('constant', 6.451156e-05)\n",
      "('oppressivepoliticalregimes', 6.451156e-05)\n",
      "('accordingtotheplacewethinkweoccupy', 6.451156e-05)\n",
      "('tv', 6.451156e-05)\n",
      "('brain', 6.451156e-05)\n",
      "('winehiddennowtasteexpectationsdrunkenotherotherbaggodpoemskipwhatcomingwritewherefindinsidethosedoubtleastwritingtimetorturedpoetsrightingfourfourdarkroundcautionbewarestuckwaitsreturnstudiodabblerginwrittenfoundthereshelfupfindsanightconfoundaroundanteroom', 6.451155e-05)\n",
      "('închisă', 6.451155e-05)\n",
      "('ferns', 6.451155e-05)\n",
      "('indoctrination', 6.451155e-05)\n"
     ]
    }
   ],
   "source": [
    "\n",
    "for i in range(4307, 4389):\n",
    "    print(l0[i])"
   ]
  },
  {
   "cell_type": "code",
   "execution_count": 80,
   "metadata": {},
   "outputs": [
    {
     "name": "stdout",
     "output_type": "stream",
     "text": [
      "('notorious', 6.4511536e-05)\n",
      "('sharp', 6.451153e-05)\n",
      "('fluidity', 6.451152e-05)\n",
      "('peacolo', 6.4511514e-05)\n",
      "('november', 6.4511514e-05)\n",
      "('sociale', 6.4511514e-05)\n",
      "('carioca', 6.4511514e-05)\n",
      "('complicit', 6.4511514e-05)\n",
      "('military', 6.451151e-05)\n",
      "('shamanism', 6.451151e-05)\n",
      "('ceartanhumaţilor', 6.451151e-05)\n",
      "('unable', 6.45115e-05)\n",
      "('genius', 6.451149e-05)\n",
      "('didnotgaincurrencyonlybecauseofthethrillofthebanned', 6.4511485e-05)\n",
      "('accomplished', 6.4511485e-05)\n",
      "('maintained', 6.451148e-05)\n",
      "('elvispresley', 6.451148e-05)\n",
      "('nadie', 6.451148e-05)\n",
      "('219', 6.451147e-05)\n",
      "('theunrowdycrowd', 6.451146e-05)\n",
      "('astami', 6.451146e-05)\n",
      "('sivitatea', 6.451146e-05)\n",
      "('amereanaloguewritertryingtoconjuresimilarinformationfrommemory', 6.451146e-05)\n",
      "('câmpului', 6.451146e-05)\n",
      "('spuse', 6.451146e-05)\n",
      "('cuabur', 6.4511456e-05)\n",
      "('prevedem', 6.4511456e-05)\n",
      "('hoy', 6.4511456e-05)\n",
      "('enjoy', 6.4511456e-05)\n",
      "('grea', 6.451145e-05)\n",
      "('truck', 6.451145e-05)\n",
      "('bent', 6.451145e-05)\n",
      "('către', 6.451145e-05)\n",
      "('explorer', 6.451145e-05)\n",
      "('detached', 6.451145e-05)\n",
      "('fits', 6.4511434e-05)\n",
      "('palatineanthology', 6.4511434e-05)\n",
      "('casting', 6.451143e-05)\n",
      "('plimbă', 6.451143e-05)\n",
      "('conving', 6.451143e-05)\n",
      "('vol', 6.451143e-05)\n",
      "('nesolicitate', 6.451143e-05)\n",
      "('thereisnothingyoucantbuy', 6.451142e-05)\n",
      "('pastorals', 6.451142e-05)\n",
      "('pare', 6.451142e-05)\n",
      "('drive', 6.451142e-05)\n",
      "('month', 6.451141e-05)\n",
      "('temptationstillsnakesahandintohislap', 6.451141e-05)\n",
      "('portugal', 6.451141e-05)\n",
      "('deace', 6.451141e-05)\n",
      "('coincidă', 6.451141e-05)\n",
      "('unreadied', 6.4511405e-05)\n",
      "('afteradecadeofgrowthintranspicturesqueclimes', 6.4511405e-05)\n",
      "('meaningproduction', 6.4511405e-05)\n"
     ]
    }
   ],
   "source": [
    "\n",
    "for i in range(4390, 4444):\n",
    "    print(l0[i])"
   ]
  },
  {
   "cell_type": "code",
   "execution_count": 81,
   "metadata": {},
   "outputs": [
    {
     "name": "stdout",
     "output_type": "stream",
     "text": [
      "('deterred', 6.4511405e-05)\n",
      "('countercultures', 6.4511405e-05)\n",
      "('lacrimilor', 6.4511405e-05)\n",
      "('emergentstringofcode', 6.451139e-05)\n",
      "('randomly', 6.451139e-05)\n",
      "('library', 6.451139e-05)\n",
      "('arheologie', 6.451139e-05)\n",
      "('shapes', 6.451139e-05)\n",
      "('sai', 6.451139e-05)\n",
      "('lovemission', 6.451138e-05)\n",
      "('involvingagainhisabundantaudienceinhisshows', 6.451138e-05)\n",
      "('genres', 6.451138e-05)\n",
      "('bottles', 6.451138e-05)\n",
      "('201228', 6.451138e-05)\n",
      "('liverpool', 6.4511376e-05)\n",
      "('shapeless', 6.4511376e-05)\n",
      "('touchthemuses', 6.4511376e-05)\n",
      "('sat', 6.4511376e-05)\n",
      "('libertate', 6.451136e-05)\n",
      "('plain', 6.451136e-05)\n",
      "('ceruri', 6.451136e-05)\n",
      "('throwoff', 6.451136e-05)\n",
      "('expansivă', 6.451136e-05)\n",
      "('ture', 6.451136e-05)\n",
      "('splashes', 6.4511354e-05)\n",
      "('prematurely', 6.4511354e-05)\n",
      "('films', 6.4511354e-05)\n",
      "('tear', 6.451134e-05)\n",
      "('thatenunciatedsubjectinhabitsmyawareness', 6.451134e-05)\n",
      "('bitly2m0cdba', 6.451134e-05)\n",
      "('verginia', 6.451134e-05)\n",
      "('waltwhitman', 6.451134e-05)\n",
      "('periferie', 6.451133e-05)\n",
      "('cunning', 6.451133e-05)\n",
      "('seas', 6.451133e-05)\n",
      "('thirtynine', 6.451133e-05)\n",
      "('curi', 6.4511325e-05)\n",
      "('tracks', 6.4511325e-05)\n",
      "('byproduct', 6.4511325e-05)\n",
      "('reverse', 6.4511325e-05)\n",
      "('cause', 6.4511325e-05)\n",
      "('translationshowshisdeepengagementwiththemessageoftheopera', 6.4511325e-05)\n",
      "('hendrix', 6.4511325e-05)\n",
      "('corpul', 6.4511325e-05)\n",
      "('regenerat', 6.4511325e-05)\n",
      "('hittingonthemoonshine', 6.4511325e-05)\n",
      "('forțelor', 6.4511325e-05)\n",
      "('soundandfury', 6.451131e-05)\n",
      "('lifebecomesatravelogue', 6.451131e-05)\n",
      "('océan', 6.451131e-05)\n",
      "('gunoaiele', 6.451131e-05)\n",
      "('fancy', 6.451131e-05)\n",
      "('glo', 6.451131e-05)\n",
      "('cărți', 6.45113e-05)\n",
      "('înfășurată', 6.45113e-05)\n",
      "('beloved', 6.45113e-05)\n",
      "('turnediton', 6.45113e-05)\n",
      "('bujorul', 6.45113e-05)\n",
      "('instrumental', 6.451129e-05)\n",
      "('dreamsameliadreamsandfalsealarms', 6.451129e-05)\n",
      "('dared', 6.451129e-05)\n",
      "('removers', 6.451129e-05)\n",
      "('semnele', 6.451129e-05)\n",
      "('mod', 6.451128e-05)\n",
      "('wandering', 6.451128e-05)\n",
      "('ceși', 6.4511274e-05)\n",
      "('leam', 6.4511274e-05)\n",
      "('râs', 6.4511274e-05)\n",
      "('annodeofndimensionalsongthrongsflowgrowth', 6.4511274e-05)\n",
      "('peculiar', 6.451126e-05)\n",
      "('rat', 6.451126e-05)\n",
      "('voitotadânciamanțicupupileneumileșinimfesubtile', 6.451126e-05)\n",
      "('torn', 6.451126e-05)\n",
      "('sphere', 6.451126e-05)\n",
      "('rockandroll', 6.451126e-05)\n",
      "('refrenele', 6.451125e-05)\n",
      "('generatethepoem', 6.451125e-05)\n",
      "('uează', 6.451124e-05)\n",
      "('reptila', 6.451124e-05)\n",
      "('direcții', 6.451123e-05)\n",
      "('identificase', 6.451123e-05)\n"
     ]
    }
   ],
   "source": [
    "for i in range(4445, 4526):\n",
    "    print(l0[i])"
   ]
  },
  {
   "cell_type": "code",
   "execution_count": 82,
   "metadata": {},
   "outputs": [
    {
     "name": "stdout",
     "output_type": "stream",
     "text": [
      "('stemmingout', 6.4508386e-05)\n",
      "('motherowalksintoapondgreyheaddisappearsnoonereachesher', 6.4508386e-05)\n",
      "('margine', 6.450837e-05)\n",
      "('statele', 6.4508364e-05)\n",
      "('createtwodifferentmeanings', 6.4508364e-05)\n",
      "('entropyfieldgeneratestheearth', 6.4508364e-05)\n",
      "('impress', 6.4508364e-05)\n",
      "('webpage', 6.4508364e-05)\n",
      "('saved', 6.4508364e-05)\n",
      "('grosz', 6.4508364e-05)\n",
      "('prăbuşesc', 6.450835e-05)\n",
      "('clipa', 6.450835e-05)\n",
      "('notcomposing', 6.450835e-05)\n",
      "('insight', 6.450835e-05)\n",
      "('theylltakeyouwhenyouhaveonlyyourself', 6.450835e-05)\n",
      "('înapoi', 6.450835e-05)\n",
      "('venais', 6.450834e-05)\n",
      "('filled', 6.450834e-05)\n",
      "('token', 6.450834e-05)\n",
      "('poesia', 6.450834e-05)\n",
      "('served', 6.450834e-05)\n",
      "('thrashingbreezes', 6.4508335e-05)\n",
      "('attentionto', 6.4508335e-05)\n",
      "('sketch', 6.4508335e-05)\n",
      "('laînălțime', 6.450833e-05)\n",
      "('1970', 6.450833e-05)\n",
      "('generous', 6.450832e-05)\n",
      "('tree', 6.450832e-05)\n",
      "('proper', 6.450832e-05)\n",
      "('woeful', 6.450832e-05)\n",
      "('turner', 6.450831e-05)\n",
      "('itsstillthewomenwhodoallthelaundering', 6.450831e-05)\n",
      "('nebune', 6.450831e-05)\n",
      "('rockprogrammeswererecordedontapeandthencirculatedwithininformalnetworks', 6.4508306e-05)\n",
      "('emerged', 6.4508306e-05)\n",
      "('poieni', 6.4508284e-05)\n",
      "('începând', 6.4508284e-05)\n",
      "('eds', 6.4508284e-05)\n",
      "('vehement', 6.450828e-05)\n",
      "('rimă', 6.450828e-05)\n",
      "('spartă', 6.450827e-05)\n",
      "('serving', 6.450827e-05)\n",
      "('placated', 6.450827e-05)\n",
      "('surprised', 6.450826e-05)\n",
      "('cresc', 6.450826e-05)\n",
      "('sacrifice', 6.450826e-05)\n",
      "('feeling', 6.450826e-05)\n",
      "('reușită', 6.450825e-05)\n",
      "('possibly', 6.450825e-05)\n",
      "('evaziuni', 6.450825e-05)\n",
      "('cursă', 6.450825e-05)\n",
      "('rode', 6.450824e-05)\n",
      "('soldat', 6.450824e-05)\n",
      "('toilet', 6.450824e-05)\n",
      "('famouslyturneddowneventheirrequesttohavehishaircut', 6.450823e-05)\n",
      "('scenă', 6.450823e-05)\n",
      "('freespeech', 6.4508225e-05)\n",
      "('curling', 6.450822e-05)\n",
      "('anagrams', 6.450822e-05)\n",
      "('undea', 6.450822e-05)\n",
      "('capable', 6.450822e-05)\n",
      "('driver', 6.450822e-05)\n",
      "('dj', 6.450822e-05)\n",
      "('layyourbetsonthisbirdofmine', 6.450821e-05)\n",
      "('viu', 6.450821e-05)\n",
      "('bore', 6.450821e-05)\n",
      "('softeners', 6.450821e-05)\n",
      "('lasting', 6.450821e-05)\n",
      "('sent', 6.450821e-05)\n",
      "('onofflineisterrifying', 6.4508204e-05)\n",
      "('giurumealumea…', 6.45082e-05)\n",
      "('ilongforthelightningoofyourejaculateinmymouthonmybreasts', 6.45082e-05)\n",
      "('twothousandth', 6.45082e-05)\n",
      "('cancomputationalexpressionsbeunderstoodasspeechactsthatcreatethepositionsofspeakerandspokensubjects', 6.45082e-05)\n",
      "('tolănită', 6.450819e-05)\n",
      "('ready', 6.450819e-05)\n",
      "('amarul', 6.450819e-05)\n",
      "('vândutepepostdeorganismecăzute', 6.450818e-05)\n",
      "('dearest', 6.4508175e-05)\n",
      "('itsureisfine', 6.4508175e-05)\n",
      "('damned', 6.4508175e-05)\n",
      "('opinions', 6.4508175e-05)\n"
     ]
    }
   ],
   "source": [
    "\n",
    "for i in range(5847, 5929):\n",
    "    print(l0[i])"
   ]
  },
  {
   "cell_type": "code",
   "execution_count": 83,
   "metadata": {},
   "outputs": [
    {
     "name": "stdout",
     "output_type": "stream",
     "text": [
      "('valeoftears', 6.44992e-05)\n",
      "('thereisnofowllikemine', 6.4499174e-05)\n",
      "('transgression', 6.4499145e-05)\n",
      "('boxele', 6.449913e-05)\n",
      "('câmpuldeentropiegenereazăpământul', 6.449912e-05)\n",
      "('neîncredere', 6.449911e-05)\n",
      "('dies', 6.44991e-05)\n",
      "('damning', 6.449905e-05)\n",
      "('immigrants', 6.449904e-05)\n",
      "('festivals', 6.449903e-05)\n",
      "('viol', 6.449902e-05)\n",
      "('rolling', 6.449901e-05)\n",
      "('moscova', 6.449897e-05)\n",
      "('whocouldbeartocontemplate', 6.449896e-05)\n",
      "('turbulent', 6.4498934e-05)\n",
      "('dis', 6.449892e-05)\n",
      "('schoolbreaks', 6.449891e-05)\n",
      "('injecting', 6.449891e-05)\n",
      "('algorithmsdonotjustreinscribe', 6.4498905e-05)\n",
      "('comprim', 6.449888e-05)\n",
      "('doare', 6.4498876e-05)\n",
      "('relentless', 6.449887e-05)\n",
      "('ucla', 6.449885e-05)\n",
      "('spanishrepublicans', 6.449882e-05)\n",
      "('text—opening', 6.449879e-05)\n",
      "('stultifying', 6.4498774e-05)\n",
      "('held', 6.44987e-05)\n",
      "('easement', 6.449866e-05)\n",
      "('înlocui', 6.449865e-05)\n",
      "('memorial', 6.449863e-05)\n",
      "('atât', 6.449861e-05)\n",
      "('routledge', 6.4498585e-05)\n",
      "('rollonupformypriceisdownocomeoninforthebestintown', 6.449855e-05)\n",
      "('highlight', 6.449848e-05)\n",
      "('producer', 6.449848e-05)\n",
      "('equivalents', 6.449843e-05)\n",
      "('15913', 6.449838e-05)\n",
      "('clau', 6.449835e-05)\n",
      "('siguranță', 6.449833e-05)\n",
      "('laughingintherain', 6.449833e-05)\n",
      "('nagâț', 6.449832e-05)\n",
      "('grappling', 6.449831e-05)\n",
      "('intrigued', 6.449831e-05)\n",
      "('isis', 6.449826e-05)\n",
      "('eyesofquietevenness', 6.449822e-05)\n",
      "('dislike', 6.4498214e-05)\n",
      "('parcului', 6.44982e-05)\n",
      "('semidomesticated', 6.449819e-05)\n",
      "('umeri', 6.449816e-05)\n",
      "('inhabited', 6.4498e-05)\n",
      "('rigorous', 6.449792e-05)\n",
      "('nisipuri', 6.449791e-05)\n",
      "('contagious', 6.449786e-05)\n",
      "('wordsinthesametopicgravitatetowardsandcontaminateeachother', 6.4497755e-05)\n",
      "('2007', 6.4497726e-05)\n",
      "('pierduți', 6.449765e-05)\n",
      "('propaga', 6.449761e-05)\n",
      "('identical', 6.449756e-05)\n",
      "('cineo', 6.449747e-05)\n",
      "('acquisitionofnoveltiesandanomalies', 6.449741e-05)\n",
      "('sheisonlythreeyearsold', 6.449737e-05)\n",
      "('gellunaum', 6.4497355e-05)\n",
      "('observed', 6.449729e-05)\n",
      "('colorate', 6.449727e-05)\n",
      "('lithe', 6.449723e-05)\n",
      "('send', 6.449716e-05)\n",
      "('folies', 6.4497144e-05)\n",
      "('modestly', 6.449701e-05)\n",
      "('wet', 6.449698e-05)\n",
      "('performs', 6.449693e-05)\n",
      "('a5', 6.449686e-05)\n",
      "('autosappho', 6.449659e-05)\n",
      "('grasptheserules', 6.449648e-05)\n",
      "('linge', 6.4496366e-05)\n",
      "('nkatherinehayles', 6.449635e-05)\n",
      "('deceselor', 6.449609e-05)\n",
      "('matahala', 6.449594e-05)\n",
      "('minorpoetssomewouldsayoawaitinggreatness', 6.4495915e-05)\n",
      "('spulberă', 6.449589e-05)\n",
      "('aibă', 6.449589e-05)\n",
      "('warned', 6.449573e-05)\n",
      "('andineverlosetheloveandgratitudeofplayingsomeofmyfavoritemusic', 6.449571e-05)\n",
      "('bitly2ed6vyc', 6.4495514e-05)\n",
      "('afterwardswhenwehavesleptparadise', 6.4495514e-05)\n",
      "('apoetryincontinenceobutintranslationoaclarityofmindapplied', 6.4495456e-05)\n",
      "('caseleau', 6.449544e-05)\n",
      "('agricole', 6.4495194e-05)\n",
      "('kills', 6.4495005e-05)\n",
      "('knit', 6.4494816e-05)\n",
      "('garden—dryden', 6.449471e-05)\n",
      "('crushes', 6.4494285e-05)\n",
      "('songwriting', 6.449419e-05)\n",
      "('atnightthestatewhistle', 6.449417e-05)\n",
      "('sounded', 6.449412e-05)\n",
      "('worried', 6.4494045e-05)\n",
      "('trembled', 6.449365e-05)\n",
      "('quarterbeats', 6.449351e-05)\n",
      "('translationbyapplyingalgorithms', 6.449301e-05)\n",
      "('replacements', 6.4492386e-05)\n",
      "('yesterday', 6.4490014e-05)\n"
     ]
    }
   ],
   "source": [
    "for i in range(7864, 7964):\n",
    "    print(l0[i])"
   ]
  },
  {
   "cell_type": "code",
   "execution_count": null,
   "metadata": {},
   "outputs": [],
   "source": []
  },
  {
   "cell_type": "code",
   "execution_count": 84,
   "metadata": {},
   "outputs": [
    {
     "name": "stdout",
     "output_type": "stream",
     "text": [
      "5721\n"
     ]
    }
   ],
   "source": [
    "\n",
    "for i in range(7964):\n",
    "    if l0[i][0]==\"agreeartistpoetovidmarlowelinesfinallyindecisionscomplicationsmonologuestragicomicprotagonistsprologueplanheritagelandedsomepeoplebetweenintegrationmulticulturalorganizedjulyconferencebritishcouncilpartfundedpresentationconstanta2018anticusallianceaimdobrujaculturesbanishedad8celebrateplayarcdisplaytendenciesdialoguesplotdisagreementsresolutionweddedbeddeddownplayerssidesofmeplaytheendtolast\":\n",
    "            print(i)\n"
   ]
  },
  {
   "cell_type": "code",
   "execution_count": 85,
   "metadata": {},
   "outputs": [
    {
     "name": "stdout",
     "output_type": "stream",
     "text": [
      "4511\n"
     ]
    }
   ],
   "source": [
    "for i in range(7964):\n",
    "    if l1[i][0]==\"agreeartistpoetovidmarlowelinesfinallyindecisionscomplicationsmonologuestragicomicprotagonistsprologueplanheritagelandedsomepeoplebetweenintegrationmulticulturalorganizedjulyconferencebritishcouncilpartfundedpresentationconstanta2018anticusallianceaimdobrujaculturesbanishedad8celebrateplayarcdisplaytendenciesdialoguesplotdisagreementsresolutionweddedbeddeddownplayerssidesofmeplaytheendtolast\":\n",
    "            print(i)"
   ]
  },
  {
   "cell_type": "code",
   "execution_count": 86,
   "metadata": {},
   "outputs": [
    {
     "name": "stdout",
     "output_type": "stream",
     "text": [
      "('map', 6.450882e-05)\n",
      "('overrated', 6.450882e-05)\n",
      "('zvonuri', 6.450882e-05)\n",
      "('radioprogrammerswouldalsotranslatethelyrics', 6.450882e-05)\n",
      "('jesuschristmania', 6.450882e-05)\n",
      "('weeks—you', 6.450882e-05)\n",
      "('miri', 6.4508815e-05)\n",
      "('integrativedecompositionalperformancethemultigraphpoem', 6.450881e-05)\n",
      "('jumatea', 6.450881e-05)\n",
      "('systemofpositions', 6.45088e-05)\n",
      "('sunet', 6.45088e-05)\n",
      "('alcohol', 6.45088e-05)\n",
      "('cătușele', 6.45088e-05)\n",
      "('disponibilă', 6.450879e-05)\n",
      "('conformity', 6.450879e-05)\n",
      "('primordială', 6.450879e-05)\n",
      "('copanunăbușit', 6.450879e-05)\n",
      "('swottingup', 6.4508786e-05)\n",
      "('ruggedyetwarmandfascinatingvoice', 6.450878e-05)\n",
      "('wesleyan', 6.450877e-05)\n",
      "('mamele', 6.450877e-05)\n",
      "('speakingspoken', 6.450877e-05)\n",
      "('adaptations', 6.4508764e-05)\n",
      "('patul', 6.4508764e-05)\n",
      "('stearpă', 6.450876e-05)\n",
      "('brizeviolente', 6.450875e-05)\n",
      "('originalquatrainemploysanirregulariambicpentameter', 6.450875e-05)\n",
      "('internallyreview', 6.450875e-05)\n",
      "('blogpost', 6.450875e-05)\n",
      "('așteptarea', 6.450875e-05)\n",
      "('pene', 6.450874e-05)\n",
      "('liniște', 6.450874e-05)\n",
      "('1943', 6.450874e-05)\n",
      "('majesty', 6.450874e-05)\n",
      "('relatespeoplesrequestforawrittenprooffromjesustoautographsofferedtofans', 6.4508735e-05)\n",
      "('cupru', 6.4508735e-05)\n",
      "('basketed', 6.4508735e-05)\n",
      "('happybirthdaydylan', 6.4508735e-05)\n",
      "('takeson', 6.4508735e-05)\n",
      "('rost', 6.450873e-05)\n",
      "('solos—yes', 6.450873e-05)\n",
      "('agreeartistpoetovidmarlowelinesfinallyindecisionscomplicationsmonologuestragicomicprotagonistsprologueplanheritagelandedsomepeoplebetweenintegrationmulticulturalorganizedjulyconferencebritishcouncilpartfundedpresentationconstanta2018anticusallianceaimdobrujaculturesbanishedad8celebrateplayarcdisplaytendenciesdialoguesplotdisagreementsresolutionweddedbeddeddownplayerssidesofmeplaytheendtolast', 6.450873e-05)\n",
      "('outoftheblue', 6.450872e-05)\n",
      "('cârpeautomate', 6.450872e-05)\n",
      "('junior', 6.450871e-05)\n",
      "('dublă', 6.450871e-05)\n",
      "('purposes', 6.450871e-05)\n",
      "('tanermurat', 6.450871e-05)\n",
      "('baumgärtel', 6.4508706e-05)\n",
      "('reported', 6.4508706e-05)\n",
      "('bibliographer', 6.45087e-05)\n",
      "('entertains', 6.45087e-05)\n",
      "('feeding', 6.45087e-05)\n",
      "('poetei', 6.45087e-05)\n",
      "('carne', 6.45087e-05)\n",
      "('caged', 6.450869e-05)\n",
      "('thesingledeviationfrom', 6.4508684e-05)\n",
      "('thirstforknowingallkindsofthings', 6.450868e-05)\n",
      "('donatello', 6.450868e-05)\n",
      "('tipsydrunk', 6.450868e-05)\n",
      "('community', 6.450868e-05)\n",
      "('cărora', 6.450867e-05)\n",
      "('recounts', 6.450867e-05)\n",
      "('ostilă', 6.450867e-05)\n",
      "('scissored', 6.450867e-05)\n",
      "('noroc', 6.450866e-05)\n",
      "('gained', 6.450866e-05)\n",
      "('fizice', 6.450865e-05)\n",
      "('inclusiv', 6.450865e-05)\n",
      "('așteaptă', 6.450865e-05)\n",
      "('transmite', 6.450864e-05)\n",
      "('rumour', 6.450864e-05)\n",
      "('hitting', 6.450864e-05)\n",
      "('situations', 6.450863e-05)\n",
      "('snappy', 6.450863e-05)\n",
      "('sweetest', 6.4508626e-05)\n",
      "('letmecounttheways', 6.450862e-05)\n",
      "('cassettes', 6.450862e-05)\n",
      "('dinainte', 6.450862e-05)\n",
      "('hop', 6.450862e-05)\n",
      "('polly', 6.450862e-05)\n",
      "('tedious', 6.450862e-05)\n",
      "('becominganalgorithmicsubject', 6.450862e-05)\n"
     ]
    }
   ],
   "source": [
    "\n",
    "for i in range(5680, 5763):\n",
    "    print(l0[i])"
   ]
  },
  {
   "cell_type": "code",
   "execution_count": 87,
   "metadata": {},
   "outputs": [
    {
     "name": "stdout",
     "output_type": "stream",
     "text": [
      "('passive', 0.00012530011)\n",
      "('em', 0.00012530008)\n",
      "('questionanddancewithandmessupourownalgorithms', 0.00012530008)\n",
      "('covered', 0.00012530007)\n",
      "('zori', 0.00012530005)\n",
      "('continuând', 0.00012530005)\n",
      "('cioara', 0.00012530005)\n",
      "('etica', 0.00012530002)\n",
      "('ochiicimbru', 0.00012530001)\n",
      "('draw', 0.00012530001)\n",
      "('hop', 0.0001253)\n",
      "('dinainte', 0.00012529996)\n",
      "('lining', 0.00012529996)\n",
      "('așteaptă', 0.00012529995)\n",
      "('generate', 0.00012529995)\n",
      "('cassettes', 0.00012529992)\n",
      "('becominganalgorithmicsubject', 0.0001252999)\n",
      "('polly', 0.00012529988)\n",
      "('appealing', 0.00012529986)\n",
      "('fizice', 0.00012529986)\n",
      "('snappy', 0.00012529985)\n",
      "('hitting', 0.00012529983)\n",
      "('transmite', 0.0001252998)\n",
      "('situations', 0.0001252998)\n",
      "('sweetest', 0.00012529979)\n",
      "('inclusiv', 0.00012529978)\n",
      "('letmecounttheways', 0.00012529976)\n",
      "('ostilă', 0.00012529973)\n",
      "('tedious', 0.00012529973)\n",
      "('donatello', 0.00012529973)\n",
      "('scissored', 0.0001252997)\n",
      "('gained', 0.00012529969)\n",
      "('rumour', 0.00012529967)\n",
      "('recounts', 0.00012529966)\n",
      "('thirstforknowingallkindsofthings', 0.00012529966)\n",
      "('community', 0.00012529964)\n",
      "('noroc', 0.00012529963)\n",
      "('thesingledeviationfrom', 0.0001252996)\n",
      "('baumgärtel', 0.00012529954)\n",
      "('bibliographer', 0.00012529953)\n",
      "('cărora', 0.00012529951)\n",
      "('tipsydrunk', 0.00012529948)\n",
      "('caged', 0.00012529947)\n",
      "('cârpeautomate', 0.00012529946)\n",
      "('carne', 0.00012529944)\n",
      "('reported', 0.00012529943)\n",
      "('purposes', 0.00012529943)\n",
      "('dublă', 0.0001252994)\n",
      "('pene', 0.00012529938)\n",
      "('junior', 0.00012529938)\n",
      "('originalquatrainemploysanirregulariambicpentameter', 0.00012529937)\n",
      "('agreeartistpoetovidmarlowelinesfinallyindecisionscomplicationsmonologuestragicomicprotagonistsprologueplanheritagelandedsomepeoplebetweenintegrationmulticulturalorganizedjulyconferencebritishcouncilpartfundedpresentationconstanta2018anticusallianceaimdobrujaculturesbanishedad8celebrateplayarcdisplaytendenciesdialoguesplotdisagreementsresolutionweddedbeddeddownplayerssidesofmeplaytheendtolast', 0.00012529934)\n",
      "('takeson', 0.00012529932)\n",
      "('poetei', 0.00012529932)\n",
      "('happybirthdaydylan', 0.00012529932)\n",
      "('rost', 0.00012529932)\n",
      "('entertains', 0.00012529931)\n",
      "('feeding', 0.0001252993)\n",
      "('tanermurat', 0.0001252993)\n",
      "('internallyreview', 0.00012529928)\n",
      "('outoftheblue', 0.00012529925)\n",
      "('așteptarea', 0.00012529924)\n",
      "('majesty', 0.00012529921)\n",
      "('brizeviolente', 0.00012529921)\n",
      "('solos—yes', 0.00012529921)\n",
      "('cupru', 0.0001252992)\n",
      "('1943', 0.00012529918)\n",
      "('basketed', 0.00012529918)\n",
      "('relatespeoplesrequestforawrittenprooffromjesustoautographsofferedtofans', 0.00012529916)\n",
      "('blogpost', 0.00012529915)\n",
      "('speakingspoken', 0.00012529915)\n",
      "('wesleyan', 0.00012529912)\n",
      "('adaptations', 0.0001252991)\n",
      "('stearpă', 0.00012529909)\n",
      "('patul', 0.00012529908)\n",
      "('liniște', 0.00012529908)\n",
      "('alcohol', 0.00012529906)\n",
      "('mamele', 0.00012529905)\n",
      "('ruggedyetwarmandfascinatingvoice', 0.00012529905)\n",
      "('primordială', 0.00012529898)\n",
      "('swottingup', 0.00012529898)\n",
      "('conformity', 0.00012529896)\n",
      "('copanunăbușit', 0.00012529893)\n",
      "('cătușele', 0.00012529892)\n",
      "('disponibilă', 0.00012529892)\n",
      "('miri', 0.00012529887)\n",
      "('zvonuri', 0.00012529886)\n",
      "('integrativedecompositionalperformancethemultigraphpoem', 0.00012529886)\n",
      "('jumatea', 0.00012529886)\n",
      "('commonspeech', 0.00012529884)\n",
      "('sunet', 0.00012529883)\n",
      "('map', 0.00012529883)\n",
      "('admitting', 0.00012529881)\n",
      "('weeks—you', 0.00012529881)\n",
      "('systemofpositions', 0.00012529874)\n",
      "('jesuschristmania', 0.00012529871)\n",
      "('nonsense', 0.0001252987)\n",
      "('risk', 0.0001252987)\n",
      "('events', 0.00012529868)\n",
      "('uităte', 0.00012529867)\n"
     ]
    }
   ],
   "source": [
    "\n",
    "for i in range(4460, 4560):\n",
    "    print(l1[i])"
   ]
  },
  {
   "cell_type": "code",
   "execution_count": 88,
   "metadata": {},
   "outputs": [
    {
     "name": "stdout",
     "output_type": "stream",
     "text": [
      "('passive', 6.450861e-05)\n",
      "('lining', 6.450861e-05)\n",
      "('appealing', 6.450861e-05)\n",
      "('cioara', 6.4508604e-05)\n",
      "('generate', 6.4508604e-05)\n",
      "('zori', 6.45086e-05)\n",
      "('em', 6.45086e-05)\n",
      "('enlarged', 6.45086e-05)\n",
      "('covered', 6.450859e-05)\n",
      "('executed', 6.450859e-05)\n",
      "('antiquity', 6.450858e-05)\n",
      "('dangers', 6.450858e-05)\n",
      "('floating', 6.4508575e-05)\n",
      "('etica', 6.4508575e-05)\n",
      "('exaggerated', 6.4508575e-05)\n",
      "('crimă', 6.450857e-05)\n",
      "('questionanddancewithandmessupourownalgorithms', 6.450857e-05)\n",
      "('nephew', 6.450856e-05)\n",
      "('palgrave', 6.450856e-05)\n",
      "('staples', 6.450856e-05)\n",
      "('ochiicimbru', 6.450856e-05)\n",
      "('continuând', 6.450856e-05)\n",
      "('hatchlings', 6.4508546e-05)\n",
      "('dawning', 6.4508546e-05)\n",
      "('promotedjazzandrockmusicduringthecommunistregimesometimesattheexpenseoftheirownlives', 6.4508546e-05)\n",
      "('edited', 6.4508546e-05)\n",
      "('victorieni', 6.450854e-05)\n",
      "('vie', 6.450854e-05)\n",
      "('singers', 6.450854e-05)\n",
      "('crafted', 6.450854e-05)\n",
      "('cf', 6.450853e-05)\n",
      "('priorități', 6.450853e-05)\n",
      "('darkening', 6.450853e-05)\n",
      "('singing', 6.4508524e-05)\n",
      "('placing', 6.4508524e-05)\n",
      "('ziua', 6.4508524e-05)\n",
      "('nerves', 6.450852e-05)\n",
      "('academe', 6.450852e-05)\n",
      "('țărm', 6.450851e-05)\n",
      "('brâncuși', 6.450851e-05)\n",
      "('anagramsoflycophon', 6.4508495e-05)\n",
      "('undei', 6.4508495e-05)\n",
      "('ţara', 6.450849e-05)\n",
      "('wardrobe', 6.450849e-05)\n",
      "('ațică', 6.450848e-05)\n",
      "('laugh', 6.450848e-05)\n",
      "('applause', 6.450848e-05)\n",
      "('posesie', 6.450847e-05)\n",
      "('așa', 6.4508466e-05)\n",
      "('scald', 6.4508466e-05)\n",
      "('hint', 6.4508466e-05)\n",
      "('hidobe', 6.4508466e-05)\n",
      "('gotten', 6.4508466e-05)\n",
      "('tvr', 6.4508466e-05)\n",
      "('neamule', 6.450845e-05)\n",
      "('racecourse', 6.450845e-05)\n",
      "('thy', 6.450845e-05)\n",
      "('repressedbydesireforabetterway', 6.450845e-05)\n",
      "('literă', 6.450845e-05)\n",
      "('echoes', 6.4508444e-05)\n",
      "('condense', 6.450844e-05)\n",
      "('animalele', 6.450844e-05)\n",
      "('cooked', 6.450844e-05)\n",
      "('rubbing', 6.450844e-05)\n",
      "('uncovered', 6.450844e-05)\n",
      "('bitlychiriacjcs', 6.450843e-05)\n",
      "('orbleachingyourbestgirlfriendsodownherbonybackblackhairostarlightwhite', 6.450843e-05)\n",
      "('cânţi', 6.450843e-05)\n",
      "('amanțiicriptici', 6.450842e-05)\n",
      "('flutter', 6.450842e-05)\n",
      "('altoi', 6.450842e-05)\n",
      "('isteric', 6.450841e-05)\n",
      "('sept', 6.450841e-05)\n",
      "('înrudită', 6.45084e-05)\n",
      "('lucrurile', 6.45084e-05)\n",
      "('porumbel', 6.45084e-05)\n",
      "('sculă', 6.45084e-05)\n",
      "('finest', 6.450839e-05)\n",
      "('trăi', 6.450839e-05)\n",
      "('ended', 6.450839e-05)\n",
      "('rockmusicians', 6.450839e-05)\n"
     ]
    }
   ],
   "source": [
    "\n",
    "for i in range(5764, 5845):\n",
    "    print(l0[i])"
   ]
  },
  {
   "cell_type": "code",
   "execution_count": 89,
   "metadata": {},
   "outputs": [
    {
     "name": "stdout",
     "output_type": "stream",
     "text": [
      "('cunoscut', 6.4508386e-05)\n",
      "('stemmingout', 6.4508386e-05)\n",
      "('motherowalksintoapondgreyheaddisappearsnoonereachesher', 6.4508386e-05)\n",
      "('margine', 6.450837e-05)\n",
      "('statele', 6.4508364e-05)\n",
      "('createtwodifferentmeanings', 6.4508364e-05)\n",
      "('entropyfieldgeneratestheearth', 6.4508364e-05)\n",
      "('impress', 6.4508364e-05)\n",
      "('webpage', 6.4508364e-05)\n",
      "('saved', 6.4508364e-05)\n",
      "('grosz', 6.4508364e-05)\n",
      "('prăbuşesc', 6.450835e-05)\n",
      "('clipa', 6.450835e-05)\n",
      "('notcomposing', 6.450835e-05)\n",
      "('insight', 6.450835e-05)\n",
      "('theylltakeyouwhenyouhaveonlyyourself', 6.450835e-05)\n",
      "('înapoi', 6.450835e-05)\n",
      "('venais', 6.450834e-05)\n",
      "('filled', 6.450834e-05)\n",
      "('token', 6.450834e-05)\n",
      "('poesia', 6.450834e-05)\n",
      "('served', 6.450834e-05)\n",
      "('thrashingbreezes', 6.4508335e-05)\n",
      "('attentionto', 6.4508335e-05)\n",
      "('sketch', 6.4508335e-05)\n",
      "('laînălțime', 6.450833e-05)\n",
      "('1970', 6.450833e-05)\n",
      "('generous', 6.450832e-05)\n",
      "('tree', 6.450832e-05)\n",
      "('proper', 6.450832e-05)\n",
      "('woeful', 6.450832e-05)\n",
      "('turner', 6.450831e-05)\n",
      "('itsstillthewomenwhodoallthelaundering', 6.450831e-05)\n",
      "('nebune', 6.450831e-05)\n",
      "('rockprogrammeswererecordedontapeandthencirculatedwithininformalnetworks', 6.4508306e-05)\n",
      "('emerged', 6.4508306e-05)\n",
      "('poieni', 6.4508284e-05)\n",
      "('începând', 6.4508284e-05)\n",
      "('eds', 6.4508284e-05)\n",
      "('vehement', 6.450828e-05)\n",
      "('rimă', 6.450828e-05)\n",
      "('spartă', 6.450827e-05)\n",
      "('serving', 6.450827e-05)\n",
      "('placated', 6.450827e-05)\n",
      "('surprised', 6.450826e-05)\n",
      "('cresc', 6.450826e-05)\n",
      "('sacrifice', 6.450826e-05)\n",
      "('feeling', 6.450826e-05)\n",
      "('reușită', 6.450825e-05)\n",
      "('possibly', 6.450825e-05)\n",
      "('evaziuni', 6.450825e-05)\n",
      "('cursă', 6.450825e-05)\n",
      "('rode', 6.450824e-05)\n",
      "('soldat', 6.450824e-05)\n",
      "('toilet', 6.450824e-05)\n",
      "('famouslyturneddowneventheirrequesttohavehishaircut', 6.450823e-05)\n",
      "('scenă', 6.450823e-05)\n",
      "('freespeech', 6.4508225e-05)\n",
      "('curling', 6.450822e-05)\n",
      "('anagrams', 6.450822e-05)\n",
      "('undea', 6.450822e-05)\n",
      "('capable', 6.450822e-05)\n",
      "('driver', 6.450822e-05)\n",
      "('dj', 6.450822e-05)\n",
      "('layyourbetsonthisbirdofmine', 6.450821e-05)\n",
      "('viu', 6.450821e-05)\n",
      "('bore', 6.450821e-05)\n",
      "('softeners', 6.450821e-05)\n",
      "('lasting', 6.450821e-05)\n",
      "('sent', 6.450821e-05)\n",
      "('onofflineisterrifying', 6.4508204e-05)\n",
      "('giurumealumea…', 6.45082e-05)\n",
      "('ilongforthelightningoofyourejaculateinmymouthonmybreasts', 6.45082e-05)\n",
      "('twothousandth', 6.45082e-05)\n",
      "('cancomputationalexpressionsbeunderstoodasspeechactsthatcreatethepositionsofspeakerandspokensubjects', 6.45082e-05)\n",
      "('tolănită', 6.450819e-05)\n",
      "('ready', 6.450819e-05)\n",
      "('amarul', 6.450819e-05)\n",
      "('vândutepepostdeorganismecăzute', 6.450818e-05)\n",
      "('dearest', 6.4508175e-05)\n",
      "('itsureisfine', 6.4508175e-05)\n",
      "('damned', 6.4508175e-05)\n",
      "('opinions', 6.4508175e-05)\n",
      "('settled', 6.4508175e-05)\n",
      "('opposing', 6.4508175e-05)\n",
      "('infinitum', 6.450817e-05)\n",
      "('pia', 6.450817e-05)\n",
      "('melted', 6.450817e-05)\n",
      "('flawed', 6.450816e-05)\n",
      "('scribblings', 6.450816e-05)\n"
     ]
    }
   ],
   "source": [
    "\n",
    "for i in range(5846, 5936):\n",
    "    print(l0[i])"
   ]
  },
  {
   "cell_type": "code",
   "execution_count": 90,
   "metadata": {},
   "outputs": [
    {
     "name": "stdout",
     "output_type": "stream",
     "text": [
      "('takesthemostimportantcuesfromtheoriginalandrecreatesthepoem', 6.450816e-05)\n",
      "('bogdan', 6.450816e-05)\n",
      "('ambitionkilledothecatnotcuriosity', 6.450816e-05)\n",
      "('plictisit', 6.450814e-05)\n",
      "('meadows', 6.450814e-05)\n",
      "('walks', 6.450814e-05)\n",
      "('slippingintothevoice', 6.450814e-05)\n",
      "('usually', 6.450814e-05)\n",
      "('gânduripulberislashtroienindnoapteaslasheraaurul', 6.450813e-05)\n",
      "('cater', 6.450812e-05)\n",
      "('tamburlaine', 6.4508116e-05)\n",
      "('underestimate', 6.4508116e-05)\n",
      "('parshchikov', 6.4508095e-05)\n",
      "('imply', 6.4508095e-05)\n",
      "('relocating', 6.4508095e-05)\n",
      "('verseconstellatedevolutivecommunities', 6.4508095e-05)\n",
      "('techniquesofappropriation', 6.4508095e-05)\n",
      "('protestant', 6.4508095e-05)\n",
      "('british', 6.4508095e-05)\n",
      "('massproduced', 6.4508095e-05)\n",
      "('zob', 6.450809e-05)\n",
      "('tethered', 6.450809e-05)\n",
      "('începusem', 6.450809e-05)\n",
      "('peun', 6.450809e-05)\n",
      "('wildest', 6.450809e-05)\n",
      "('actine', 6.450809e-05)\n",
      "('nenorociri', 6.450808e-05)\n",
      "('rotten', 6.450808e-05)\n",
      "('trecândumi', 6.450807e-05)\n",
      "('warehouse', 6.450807e-05)\n",
      "('discussed', 6.450807e-05)\n",
      "('treburi', 6.450807e-05)\n",
      "('theyfeelthatinrockmusicone', 6.450807e-05)\n",
      "('mallul', 6.450807e-05)\n",
      "('willyoucontinueinthisasosociationofmatters', 6.4508065e-05)\n",
      "('rating', 6.4508065e-05)\n",
      "('propose', 6.4508065e-05)\n",
      "('playawholelotmoremore', 6.4508065e-05)\n",
      "('capta', 6.4508065e-05)\n",
      "('eyeful', 6.4508065e-05)\n",
      "('faustus', 6.450806e-05)\n",
      "('wedded', 6.450806e-05)\n",
      "('breakforflowssake', 6.450806e-05)\n",
      "('qualityinpoetry', 6.450806e-05)\n",
      "('makingformfromthought', 6.450806e-05)\n",
      "('92102', 6.450805e-05)\n",
      "('clapped', 6.450805e-05)\n",
      "('versentarantara', 6.450805e-05)\n",
      "('găurile', 6.450805e-05)\n",
      "('blockbuster', 6.450805e-05)\n",
      "('magical', 6.450805e-05)\n",
      "('rambles', 6.450805e-05)\n",
      "('pool', 6.450804e-05)\n",
      "('mirrored', 6.450804e-05)\n",
      "('thehapaxlegomenonofsteve', 6.450804e-05)\n",
      "('joannedominiquedwyer', 6.4508036e-05)\n",
      "('cleansed', 6.4508036e-05)\n",
      "('iz', 6.4508036e-05)\n",
      "('automatic', 6.4508036e-05)\n",
      "('embedded', 6.450803e-05)\n",
      "('hundred', 6.450803e-05)\n",
      "('reptilă', 6.450802e-05)\n",
      "('fervent', 6.4508014e-05)\n",
      "('pălesc', 6.4508014e-05)\n",
      "('alightarchaictouch', 6.4508014e-05)\n",
      "('banish', 6.450801e-05)\n",
      "('widens', 6.450801e-05)\n",
      "('glimpse', 6.4508e-05)\n",
      "('documentaryfilmmaker', 6.4508e-05)\n",
      "('edges', 6.4508e-05)\n",
      "('twelveline', 6.4507985e-05)\n",
      "('amusementphilologiques', 6.4507985e-05)\n",
      "('ostracization', 6.450798e-05)\n",
      "('anyway', 6.450798e-05)\n",
      "('nenorocirea', 6.450798e-05)\n",
      "('burst', 6.450797e-05)\n",
      "('pretutindeni', 6.450797e-05)\n",
      "('withathirstforculture', 6.450797e-05)\n",
      "('spores', 6.450797e-05)\n",
      "('workonsomegoodexplanation', 6.450797e-05)\n",
      "('instancesofuse', 6.450796e-05)\n",
      "('target', 6.450796e-05)\n",
      "('îndemnuri', 6.450796e-05)\n",
      "('înseamnă', 6.450796e-05)\n",
      "('selfreference', 6.450796e-05)\n",
      "('freetobreathetheair', 6.4507956e-05)\n",
      "('producers', 6.450795e-05)\n",
      "('california', 6.450795e-05)\n",
      "('waste', 6.450794e-05)\n"
     ]
    }
   ],
   "source": [
    "\n",
    "for i in range(5937, 6026):\n",
    "    print(l0[i])"
   ]
  },
  {
   "cell_type": "code",
   "execution_count": 91,
   "metadata": {},
   "outputs": [
    {
     "name": "stdout",
     "output_type": "stream",
     "text": [
      "('host', 6.450794e-05)\n",
      "('forgotten', 6.450794e-05)\n",
      "('consistent', 6.450794e-05)\n",
      "('doze', 6.450794e-05)\n",
      "('reply', 6.450794e-05)\n",
      "('appsbotnikorgwriter', 6.450794e-05)\n",
      "('pierdute', 6.450794e-05)\n",
      "('dreamsofdark', 6.4507934e-05)\n",
      "('seasons', 6.450793e-05)\n",
      "('sims', 6.450793e-05)\n",
      "('shrub', 6.450793e-05)\n",
      "('rare', 6.450793e-05)\n",
      "('schimbare', 6.450793e-05)\n",
      "('chitarelor', 6.450793e-05)\n",
      "('furnicături', 6.450793e-05)\n",
      "('discouraging', 6.450792e-05)\n",
      "('răspundere', 6.450792e-05)\n",
      "('piațadenoapte', 6.450792e-05)\n",
      "('slums', 6.450792e-05)\n",
      "('offersmoreofapersonalversioninromanianratherthanatranslationproper', 6.450792e-05)\n",
      "('onereferstoalcoholandonereferstopoliticalinterferenceinpeopleslives', 6.450791e-05)\n",
      "('mysticism', 6.450791e-05)\n",
      "('translucidă', 6.4507905e-05)\n",
      "('ships', 6.450789e-05)\n",
      "('carries', 6.450788e-05)\n",
      "('28500000', 6.450788e-05)\n",
      "('poșta', 6.450788e-05)\n",
      "('suits', 6.4507876e-05)\n",
      "('kitsch', 6.4507876e-05)\n",
      "('gather', 6.4507876e-05)\n",
      "('float', 6.4507876e-05)\n",
      "('neasemănare', 6.4507876e-05)\n",
      "('automatedinstruments', 6.450787e-05)\n",
      "('fruition', 6.450787e-05)\n",
      "('civil', 6.450787e-05)\n",
      "('eliminated', 6.4507854e-05)\n",
      "('caș', 6.450785e-05)\n",
      "('timpanele', 6.450784e-05)\n",
      "('human', 6.450784e-05)\n",
      "('anteroom', 6.450784e-05)\n",
      "('infinitely', 6.4507825e-05)\n",
      "('afară', 6.4507825e-05)\n",
      "('lanțul', 6.450782e-05)\n",
      "('șiastfel', 6.450782e-05)\n",
      "('fruit', 6.450782e-05)\n",
      "('uncontrollably', 6.450782e-05)\n",
      "('heritage', 6.450782e-05)\n",
      "('mișcările', 6.450782e-05)\n",
      "('appelait', 6.450782e-05)\n",
      "('pariu', 6.450782e-05)\n",
      "('hechoseonewomaninsteadoftheothers', 6.45078e-05)\n",
      "('outlined', 6.45078e-05)\n",
      "('foarte', 6.45078e-05)\n",
      "('parallels', 6.45078e-05)\n",
      "('muzică', 6.45078e-05)\n",
      "('extended', 6.45078e-05)\n",
      "('șăfuare', 6.45078e-05)\n",
      "('blonde', 6.45078e-05)\n",
      "('topită', 6.45078e-05)\n",
      "('alege', 6.45078e-05)\n",
      "('pink', 6.450779e-05)\n",
      "('père', 6.450779e-05)\n",
      "('howdoeszepparellalovethee', 6.450779e-05)\n",
      "('întregimea', 6.450778e-05)\n",
      "('signs', 6.450778e-05)\n",
      "('fraction', 6.450778e-05)\n",
      "('ambiguous', 6.450778e-05)\n",
      "('attached', 6.450778e-05)\n",
      "('civilwar', 6.4507774e-05)\n",
      "('formei', 6.4507774e-05)\n",
      "('gon', 6.4507774e-05)\n",
      "('timbrul', 6.4507774e-05)\n",
      "('decided', 6.450777e-05)\n",
      "('susceptible', 6.450776e-05)\n",
      "('eclipsing', 6.450776e-05)\n",
      "('1966', 6.450776e-05)\n",
      "('faire', 6.450775e-05)\n",
      "('anumite', 6.450775e-05)\n",
      "('andthegapsbegantostick', 6.4507745e-05)\n",
      "('țâșnească', 6.450774e-05)\n",
      "('european', 6.450774e-05)\n"
     ]
    }
   ],
   "source": [
    "\n",
    "for i in range(6027, 6108):\n",
    "    print(l0[i])"
   ]
  },
  {
   "cell_type": "code",
   "execution_count": 92,
   "metadata": {},
   "outputs": [
    {
     "name": "stdout",
     "output_type": "stream",
     "text": [
      "('concentrationcamps', 6.450774e-05)\n",
      "('substitute', 6.450774e-05)\n",
      "('variants', 6.450774e-05)\n",
      "('persuade', 6.450774e-05)\n",
      "('nainte', 6.450772e-05)\n",
      "('dodgy', 6.4507716e-05)\n",
      "('siblings', 6.4507716e-05)\n",
      "('coasta', 6.450771e-05)\n",
      "('magazia', 6.450771e-05)\n",
      "('arduous', 6.450771e-05)\n",
      "('usingtechniquesofscanningforwordfrequencywordproximityandcontext', 6.450771e-05)\n",
      "('entertaining', 6.45077e-05)\n",
      "('oxford', 6.45077e-05)\n",
      "('dintrunceput', 6.45077e-05)\n",
      "('selfeducated', 6.45077e-05)\n",
      "('multinational', 6.4507694e-05)\n",
      "('censors', 6.4507694e-05)\n",
      "('procedures', 6.4507694e-05)\n",
      "('doublemeanings', 6.4507694e-05)\n",
      "('poema', 6.4507694e-05)\n",
      "('enacting', 6.4507694e-05)\n",
      "('canibalilor', 6.450769e-05)\n",
      "('nalță', 6.450769e-05)\n",
      "('invented', 6.450769e-05)\n",
      "('picked', 6.450769e-05)\n",
      "('callitapussyoracuntortheshoresofaneelinfestedriver', 6.450768e-05)\n",
      "('workcapacitymusicalknowledgeaninfallibletasteaspiritualopennesstowardsanyviableexperimentknowledgeofsubtletiesinliteraryenglish', 6.450767e-05)\n",
      "('fallen', 6.450767e-05)\n",
      "('chanson', 6.4507665e-05)\n",
      "('poesy', 6.4507665e-05)\n",
      "('wetheeditors', 6.4507665e-05)\n",
      "('3100', 6.450765e-05)\n",
      "('collaging', 6.450764e-05)\n",
      "('canadian', 6.450764e-05)\n",
      "('memes', 6.450764e-05)\n",
      "('mining', 6.450764e-05)\n",
      "('reliance', 6.450764e-05)\n",
      "('internet', 6.450764e-05)\n",
      "('buclelei', 6.450763e-05)\n",
      "('trains', 6.450763e-05)\n",
      "('tou', 6.450763e-05)\n",
      "('îndoieli', 6.450763e-05)\n",
      "('donc', 6.450762e-05)\n",
      "('brokenlayoutsthatsplitverselines', 6.4507614e-05)\n",
      "('greutățile', 6.4507614e-05)\n",
      "('overlooked', 6.4507614e-05)\n",
      "('ifwehadseenowhathadbeendone', 6.4507614e-05)\n",
      "('flipped', 6.450761e-05)\n",
      "('radioprogrammer', 6.450761e-05)\n",
      "('organisms', 6.450761e-05)\n",
      "('prieten', 6.45076e-05)\n",
      "('device', 6.45076e-05)\n",
      "('conforms', 6.450759e-05)\n",
      "('amaliceinunderland', 6.450759e-05)\n",
      "('likemysisterbrewing', 6.450759e-05)\n",
      "('severă', 6.4507585e-05)\n",
      "('regression', 6.450758e-05)\n",
      "('zăpăcealădecântecînflux', 6.450758e-05)\n",
      "('synthesis', 6.450757e-05)\n",
      "('tooccupythesubjectpositionofanalgorithm', 6.450756e-05)\n",
      "('obey', 6.450756e-05)\n",
      "('moravuri', 6.450756e-05)\n",
      "('vârfuri', 6.450756e-05)\n",
      "('rar', 6.4507556e-05)\n",
      "('andwithyourspiritoyousing', 6.4507556e-05)\n",
      "('tingles', 6.4507556e-05)\n",
      "('întuneric', 6.450755e-05)\n",
      "('beast', 6.450754e-05)\n",
      "('trunthesealgorithmsjusttorewritethesepoemsweusethemforpoetryscubadiving', 6.450754e-05)\n",
      "('interprété', 6.450754e-05)\n",
      "('linguisticsystems', 6.450754e-05)\n",
      "('1975', 6.4507534e-05)\n",
      "('arestat', 6.450753e-05)\n",
      "('făcea', 6.450753e-05)\n",
      "('shehadadreamtofly', 6.450753e-05)\n",
      "('outline', 6.450753e-05)\n",
      "('artistpoet', 6.450753e-05)\n",
      "('aujourd', 6.450753e-05)\n",
      "('eliadesque', 6.450753e-05)\n",
      "('mistreated', 6.450753e-05)\n",
      "('șio', 6.450753e-05)\n",
      "('debated', 6.450752e-05)\n",
      "('negresă', 6.450752e-05)\n",
      "('acceptă', 6.450752e-05)\n",
      "('delineating', 6.450752e-05)\n",
      "('beatlemania', 6.450751e-05)\n",
      "('comaedandwokenweliealongtimeolookingateachother', 6.4507505e-05)\n",
      "('4ofaugust1939', 6.45075e-05)\n",
      "('faintly', 6.45075e-05)\n",
      "('riposte', 6.45075e-05)\n",
      "('tinde', 6.450749e-05)\n",
      "('apostolii', 6.450749e-05)\n",
      "('atacockandbullpawnshop', 6.450749e-05)\n",
      "('cărucior', 6.450749e-05)\n",
      "('choc', 6.450749e-05)\n",
      "('dispute', 6.4507476e-05)\n",
      "('idreamedof747soovergeometricfarms', 6.4507476e-05)\n",
      "('hover', 6.4507476e-05)\n",
      "('ban', 6.450747e-05)\n",
      "('implications', 6.450746e-05)\n",
      "('străinilor', 6.4507454e-05)\n"
     ]
    }
   ],
   "source": [
    "\n",
    "for i in range(6108, 6209):\n",
    "    print(l0[i])"
   ]
  },
  {
   "cell_type": "code",
   "execution_count": 93,
   "metadata": {},
   "outputs": [
    {
     "name": "stdout",
     "output_type": "stream",
     "text": [
      "2689\n"
     ]
    }
   ],
   "source": [
    "\n",
    "for i in range(7964):\n",
    "    if l0[i][0]==\"onlinecontemporaryaverageindependentparentalhappydevelopedrestquotesaboutyoupartakencelebrationtakingmeunnamedwaitingtaxitomisfreedrinksseatsdreadlondonwizzthereflighttouristsrunwayslegroomturbulencetransformsrunwayseahappydrinkfriendshipforgottenreadingappendicesreplysavedownfarawayepicwebsitepressbucharest\":\n",
    "            print(i)\n",
    "            \n",
    "#onlinecontemporaryaverageindependentparentalhappydevelopedrestquotesaboutyoupartakencelebrationtakingmeunnamedwaitingtaxitomisfreedrinksseatsdreadlondonwizzthereflighttouristsrunwayslegroomturbulencetransformsrunwayseahappydrinkfriendshipforgottenreadingappendicesreplysavedownfarawayepicwebsitepressbucharest"
   ]
  },
  {
   "cell_type": "code",
   "execution_count": 94,
   "metadata": {},
   "outputs": [
    {
     "name": "stdout",
     "output_type": "stream",
     "text": [
      "7551\n"
     ]
    }
   ],
   "source": [
    "\n",
    "for i in range(7964):\n",
    "    if l1[i][0]==\"onlinecontemporaryaverageindependentparentalhappydevelopedrestquotesaboutyoupartakencelebrationtakingmeunnamedwaitingtaxitomisfreedrinksseatsdreadlondonwizzthereflighttouristsrunwayslegroomturbulencetransformsrunwayseahappydrinkfriendshipforgottenreadingappendicesreplysavedownfarawayepicwebsitepressbucharest\":\n",
    "            print(i)"
   ]
  },
  {
   "cell_type": "code",
   "execution_count": 95,
   "metadata": {},
   "outputs": [
    {
     "name": "stdout",
     "output_type": "stream",
     "text": [
      "('soup', 6.451696e-05)\n",
      "('jerome', 6.451694e-05)\n",
      "('westernworld', 6.4516935e-05)\n",
      "('davis', 6.4516935e-05)\n",
      "('înaintea', 6.4516935e-05)\n",
      "('delighted', 6.451692e-05)\n",
      "('barely', 6.451692e-05)\n",
      "('xxxvii', 6.451691e-05)\n",
      "('appropriation', 6.451691e-05)\n",
      "('liability', 6.4516906e-05)\n",
      "('swept', 6.4516906e-05)\n",
      "('whims', 6.451689e-05)\n",
      "('demand', 6.451689e-05)\n",
      "('pixelat', 6.451689e-05)\n",
      "('lively', 6.4516884e-05)\n",
      "('tourists', 6.4516884e-05)\n",
      "('raft', 6.4516884e-05)\n",
      "('locul', 6.4516884e-05)\n",
      "('dignify', 6.451688e-05)\n",
      "('tuns', 6.451687e-05)\n",
      "('trail', 6.451686e-05)\n",
      "('herdamnableneedtomakemusicofinnermosttragedy', 6.451685e-05)\n",
      "('yellow', 6.451683e-05)\n",
      "('transformed', 6.451683e-05)\n",
      "('mention', 6.451682e-05)\n",
      "('amuzată', 6.45168e-05)\n",
      "('emails', 6.45168e-05)\n",
      "('acknowledged', 6.451678e-05)\n",
      "('identifiable', 6.451678e-05)\n",
      "('discern', 6.4516775e-05)\n",
      "('brazen', 6.451677e-05)\n",
      "('istoric', 6.451676e-05)\n",
      "('diversingtheflowsintothenetworkedechoes', 6.451676e-05)\n",
      "('insularity', 6.4516746e-05)\n",
      "('ştiut', 6.4516746e-05)\n",
      "('înaintare', 6.4516746e-05)\n",
      "('ajutor', 6.4516746e-05)\n",
      "('voyeurleers', 6.451674e-05)\n",
      "('threatened', 6.451673e-05)\n",
      "('inconcert', 6.451673e-05)\n",
      "('addresses', 6.451673e-05)\n",
      "('onlinecontemporaryaverageindependentparentalhappydevelopedrestquotesaboutyoupartakencelebrationtakingmeunnamedwaitingtaxitomisfreedrinksseatsdreadlondonwizzthereflighttouristsrunwayslegroomturbulencetransformsrunwayseahappydrinkfriendshipforgottenreadingappendicesreplysavedownfarawayepicwebsitepressbucharest', 6.451673e-05)\n",
      "('repetat', 6.451673e-05)\n",
      "('acas', 6.451672e-05)\n",
      "('obosite', 6.451672e-05)\n",
      "('getgo', 6.451672e-05)\n",
      "('rudă', 6.451671e-05)\n",
      "('schwitters', 6.451671e-05)\n",
      "('pronto', 6.4516695e-05)\n",
      "('selftaught', 6.4516695e-05)\n",
      "('sketchpad', 6.4516695e-05)\n",
      "('suburbie', 6.451669e-05)\n",
      "('setofrulesgoverningactions', 6.451667e-05)\n",
      "('iapoi', 6.451667e-05)\n",
      "('lacks', 6.451666e-05)\n",
      "('appreciation', 6.451665e-05)\n",
      "('leftoutsidethewallstoappeasetheravaginghordes', 6.4516644e-05)\n",
      "('droneofflyingengines', 6.4516644e-05)\n",
      "('hoților', 6.451664e-05)\n",
      "('obscure', 6.451664e-05)\n",
      "('neclară', 6.451662e-05)\n",
      "('threeminute', 6.451662e-05)\n",
      "('farther', 6.451662e-05)\n",
      "('vorbit', 6.451662e-05)\n",
      "('abandoned', 6.451662e-05)\n",
      "('obiect', 6.451662e-05)\n",
      "('gunoi', 6.4516615e-05)\n",
      "('interjects', 6.451661e-05)\n",
      "('hexameter', 6.451661e-05)\n",
      "('bananierii', 6.451661e-05)\n",
      "('locale', 6.45166e-05)\n",
      "('coaxed', 6.4516586e-05)\n",
      "('frustrarea', 6.451658e-05)\n",
      "('whileyourfriends', 6.451658e-05)\n",
      "('lied', 6.451658e-05)\n",
      "('suna', 6.4516564e-05)\n",
      "('whydoyoudeservethisprivilege', 6.451656e-05)\n",
      "('transport', 6.451656e-05)\n",
      "('atâta', 6.451655e-05)\n",
      "('this—', 6.451654e-05)\n",
      "('allpervasive', 6.451651e-05)\n",
      "('flamboyant', 6.4516506e-05)\n"
     ]
    }
   ],
   "source": [
    "\n",
    "for i in range(2648, 2730):\n",
    "    print(l0[i])"
   ]
  },
  {
   "cell_type": "code",
   "execution_count": 96,
   "metadata": {},
   "outputs": [
    {
     "name": "stdout",
     "output_type": "stream",
     "text": [
      "('thedoors', 0.00012525522)\n",
      "('dezvolte', 0.00012525517)\n",
      "('ceai', 0.00012525516)\n",
      "('încuiată', 0.00012525514)\n",
      "('imayhavedecidedthatthestatesarenotthattired', 0.00012525512)\n",
      "('allpervasive', 0.00012525509)\n",
      "('flamboyant', 0.00012525501)\n",
      "('atâta', 0.00012525497)\n",
      "('transport', 0.00012525493)\n",
      "('this—', 0.0001252549)\n",
      "('lied', 0.00012525485)\n",
      "('frustrarea', 0.00012525485)\n",
      "('whydoyoudeservethisprivilege', 0.00012525482)\n",
      "('coaxed', 0.00012525472)\n",
      "('suna', 0.00012525471)\n",
      "('whileyourfriends', 0.0001252547)\n",
      "('bananierii', 0.00012525468)\n",
      "('locale', 0.0001252546)\n",
      "('hexameter', 0.00012525458)\n",
      "('interjects', 0.00012525455)\n",
      "('vorbit', 0.0001252545)\n",
      "('threeminute', 0.0001252545)\n",
      "('gunoi', 0.00012525449)\n",
      "('farther', 0.00012525449)\n",
      "('obiect', 0.00012525448)\n",
      "('abandoned', 0.00012525446)\n",
      "('neclară', 0.00012525445)\n",
      "('hoților', 0.00012525442)\n",
      "('appreciation', 0.00012525439)\n",
      "('obscure', 0.00012525439)\n",
      "('leftoutsidethewallstoappeasetheravaginghordes', 0.00012525437)\n",
      "('setofrulesgoverningactions', 0.00012525432)\n",
      "('droneofflyingengines', 0.00012525426)\n",
      "('iapoi', 0.00012525421)\n",
      "('selftaught', 0.00012525418)\n",
      "('sketchpad', 0.00012525413)\n",
      "('pronto', 0.00012525411)\n",
      "('suburbie', 0.0001252541)\n",
      "('rudă', 0.00012525408)\n",
      "('lacks', 0.00012525408)\n",
      "('acas', 0.00012525405)\n",
      "('getgo', 0.00012525402)\n",
      "('repetat', 0.00012525401)\n",
      "('threatened', 0.00012525395)\n",
      "('schwitters', 0.00012525394)\n",
      "('obosite', 0.00012525391)\n",
      "('ştiut', 0.00012525391)\n",
      "('voyeurleers', 0.0001252539)\n",
      "('diversingtheflowsintothenetworkedechoes', 0.00012525386)\n",
      "('înaintare', 0.00012525385)\n",
      "('onlinecontemporaryaverageindependentparentalhappydevelopedrestquotesaboutyoupartakencelebrationtakingmeunnamedwaitingtaxitomisfreedrinksseatsdreadlondonwizzthereflighttouristsrunwayslegroomturbulencetransformsrunwayseahappydrinkfriendshipforgottenreadingappendicesreplysavedownfarawayepicwebsitepressbucharest', 0.00012525383)\n",
      "('insularity', 0.00012525382)\n",
      "('ajutor', 0.0001252538)\n",
      "('inconcert', 0.00012525379)\n",
      "('istoric', 0.0001252537)\n",
      "('discern', 0.00012525369)\n",
      "('identifiable', 0.00012525366)\n",
      "('brazen', 0.00012525365)\n",
      "('emails', 0.00012525362)\n",
      "('acknowledged', 0.0001252536)\n",
      "('addresses', 0.0001252536)\n",
      "('mention', 0.00012525353)\n",
      "('amuzată', 0.0001252534)\n",
      "('transformed', 0.00012525328)\n",
      "('herdamnableneedtomakemusicofinnermosttragedy', 0.00012525322)\n",
      "('locul', 0.00012525321)\n",
      "('trail', 0.00012525321)\n",
      "('tuns', 0.0001252532)\n",
      "('lively', 0.00012525318)\n",
      "('yellow', 0.00012525308)\n",
      "('tourists', 0.00012525306)\n",
      "('dignify', 0.00012525302)\n",
      "('pixelat', 0.00012525302)\n",
      "('xxxvii', 0.00012525299)\n",
      "('appropriation', 0.00012525296)\n",
      "('raft', 0.00012525296)\n",
      "('demand', 0.0001252529)\n",
      "('whims', 0.00012525289)\n",
      "('soup', 0.00012525286)\n",
      "('swept', 0.00012525282)\n",
      "('liability', 0.0001252528)\n",
      "('westernworld', 0.00012525276)\n",
      "('delighted', 0.00012525273)\n",
      "('barely', 0.00012525273)\n",
      "('jerome', 0.00012525266)\n",
      "('înaintea', 0.00012525266)\n",
      "('davis', 0.00012525264)\n",
      "('idols', 0.00012525261)\n",
      "('massa', 0.00012525253)\n",
      "('coursing', 0.0001252525)\n",
      "('hoarde', 0.00012525247)\n",
      "('itspresidentkennedycallinmeup', 0.00012525242)\n",
      "('ispita', 0.00012525237)\n",
      "('decade', 0.00012525235)\n",
      "('ceaseless', 0.00012525232)\n",
      "('qualities', 0.0001252523)\n",
      "('speakfromthepositionofthemachine', 0.00012525229)\n",
      "('ieri', 0.00012525229)\n",
      "('towritelikeanalgorithm', 0.00012525226)\n",
      "('interruptions', 0.00012525219)\n",
      "('charity', 0.00012525216)\n"
     ]
    }
   ],
   "source": [
    "\n",
    "for i in range(7501, 7602):\n",
    "    print(l1[i])"
   ]
  },
  {
   "cell_type": "code",
   "execution_count": 97,
   "metadata": {},
   "outputs": [
    {
     "name": "stdout",
     "output_type": "stream",
     "text": [
      "('zoomorfele', 0.00012525216)\n",
      "('omission', 0.0001252521)\n",
      "('transpitorești', 0.00012525207)\n",
      "('aruncat', 0.00012525199)\n",
      "('prăjitură', 0.00012525189)\n",
      "('bitly2d077l4', 0.00012525181)\n",
      "('publishers', 0.00012525171)\n",
      "('iisuscristosmania', 0.0001252517)\n",
      "('share', 0.00012525167)\n",
      "('downbytheriver', 0.00012525162)\n",
      "('exposetheconceits', 0.00012525155)\n",
      "('illicit', 0.0001252515)\n",
      "('refusetobelieveeverythingtheyaretoldatschoolorathome', 0.0001252514)\n",
      "('eminescu', 0.00012525139)\n",
      "('recognize', 0.00012525135)\n",
      "('fond', 0.00012525122)\n",
      "('rețelelor', 0.00012525116)\n",
      "('topreservetheirperformativity', 0.00012525111)\n",
      "('tiniri', 0.00012525103)\n",
      "('walkthestreets', 0.00012525101)\n",
      "('deign', 0.00012525097)\n",
      "('crescut', 0.00012525094)\n",
      "('unfruitful', 0.0001252509)\n",
      "('vertical', 0.00012525087)\n",
      "('sequencing', 0.00012525085)\n",
      "('obraz', 0.00012525085)\n",
      "('gretchenmenn', 0.00012525078)\n",
      "('designs', 0.00012525075)\n",
      "('eleşteu', 0.00012525072)\n",
      "('froth', 0.00012525066)\n",
      "('basics', 0.00012525063)\n",
      "('intentionally', 0.00012525062)\n",
      "('thepopupchoruseswhichinterruptthearchaeology', 0.00012525062)\n",
      "('makeitgowithasinglewordwe', 0.0001252506)\n",
      "('plagued', 0.00012525058)\n",
      "('fluent', 0.00012525056)\n",
      "('learnhowtospeakasacompressionalgorithm', 0.00012525055)\n",
      "('blackmarket', 0.00012525053)\n",
      "('folksinger', 0.00012525052)\n",
      "('paintorwritegoodverse', 0.0001252505)\n",
      "('service', 0.00012525044)\n",
      "('spread', 0.00012525042)\n",
      "('variation', 0.00012525042)\n",
      "('hangs', 0.0001252504)\n",
      "('explorezeuitatecreiere', 0.00012525039)\n",
      "('dynamic', 0.00012525039)\n",
      "('până', 0.00012525033)\n",
      "('puțin', 0.00012525021)\n",
      "('hapaxlegomenon', 0.00012525007)\n",
      "('translationisaformofwritingthroughthewordsofothers', 0.00012525001)\n",
      "('artificialidentity', 0.00012524992)\n",
      "('jeromerothenberg', 0.00012524978)\n",
      "('faithfulness', 0.00012524978)\n",
      "('pittisshow', 0.00012524978)\n",
      "('ostracizes', 0.00012524972)\n",
      "('consciousnessandpoetry', 0.00012524969)\n",
      "('january', 0.00012524966)\n",
      "('ruins', 0.00012524964)\n",
      "('justify', 0.00012524964)\n",
      "('sells', 0.00012524954)\n",
      "('contribue', 0.00012524945)\n",
      "('spellsout', 0.00012524945)\n",
      "('whenthetearsaregoindown', 0.00012524941)\n",
      "('grows', 0.0001252494)\n",
      "('symmetry', 0.00012524925)\n",
      "('sparkling', 0.00012524916)\n",
      "('welcomed', 0.00012524916)\n",
      "('fleoșc', 0.00012524909)\n",
      "('unparallel', 0.00012524905)\n",
      "('buttillyougetthereyourselfyouneverreallyknow', 0.000125249)\n",
      "('toxic', 0.0001252489)\n",
      "('măntinsesem', 0.00012524887)\n",
      "('laughter', 0.00012524876)\n",
      "('subjective', 0.00012524868)\n",
      "('pește', 0.00012524864)\n",
      "('grimasă', 0.00012524855)\n",
      "('poetries', 0.00012524852)\n",
      "('fictivefigure', 0.00012524851)\n",
      "('kindly', 0.0001252485)\n",
      "('radios', 0.00012524845)\n",
      "('laocoön', 0.00012524845)\n",
      "('violă', 0.00012524842)\n",
      "('abovementioned', 0.00012524839)\n",
      "('locus', 0.00012524836)\n",
      "('azerbaidjan', 0.00012524832)\n",
      "('travail', 0.00012524828)\n",
      "('legănânduise', 0.00012524825)\n",
      "('protecţie', 0.00012524822)\n",
      "('bright', 0.00012524822)\n",
      "('throughfreelaboroutofpersonalinterestandviamanifoldcreativeprocesses', 0.00012524822)\n",
      "('stated', 0.00012524819)\n",
      "('laps', 0.00012524807)\n",
      "('thesymmetricallettersofthealphabet', 0.00012524797)\n",
      "('ontheglisteningtipsheslowlypositionsthesnowytitoofameringue', 0.00012524794)\n",
      "('puțină', 0.00012524791)\n",
      "('xli', 0.0001252479)\n",
      "('moarte', 0.00012524787)\n",
      "('rightful', 0.00012524785)\n",
      "('gasway', 0.00012524777)\n",
      "('bananatrees', 0.00012524774)\n",
      "('enacts', 0.00012524768)\n"
     ]
    }
   ],
   "source": [
    "for i in range(7602, 7703):\n",
    "    print(l1[i])"
   ]
  },
  {
   "cell_type": "code",
   "execution_count": 98,
   "metadata": {},
   "outputs": [
    {
     "name": "stdout",
     "output_type": "stream",
     "text": [
      "('zoomorfele', 0.00012525216)\n",
      "('omission', 0.0001252521)\n",
      "('transpitorești', 0.00012525207)\n",
      "('aruncat', 0.00012525199)\n",
      "('prăjitură', 0.00012525189)\n",
      "('bitly2d077l4', 0.00012525181)\n",
      "('publishers', 0.00012525171)\n",
      "('iisuscristosmania', 0.0001252517)\n",
      "('share', 0.00012525167)\n",
      "('downbytheriver', 0.00012525162)\n",
      "('exposetheconceits', 0.00012525155)\n",
      "('illicit', 0.0001252515)\n",
      "('refusetobelieveeverythingtheyaretoldatschoolorathome', 0.0001252514)\n",
      "('eminescu', 0.00012525139)\n",
      "('recognize', 0.00012525135)\n",
      "('fond', 0.00012525122)\n",
      "('rețelelor', 0.00012525116)\n",
      "('topreservetheirperformativity', 0.00012525111)\n",
      "('tiniri', 0.00012525103)\n",
      "('walkthestreets', 0.00012525101)\n",
      "('deign', 0.00012525097)\n",
      "('crescut', 0.00012525094)\n",
      "('unfruitful', 0.0001252509)\n",
      "('vertical', 0.00012525087)\n",
      "('sequencing', 0.00012525085)\n",
      "('obraz', 0.00012525085)\n",
      "('gretchenmenn', 0.00012525078)\n",
      "('designs', 0.00012525075)\n",
      "('eleşteu', 0.00012525072)\n",
      "('froth', 0.00012525066)\n",
      "('basics', 0.00012525063)\n",
      "('intentionally', 0.00012525062)\n",
      "('thepopupchoruseswhichinterruptthearchaeology', 0.00012525062)\n",
      "('makeitgowithasinglewordwe', 0.0001252506)\n",
      "('plagued', 0.00012525058)\n",
      "('fluent', 0.00012525056)\n",
      "('learnhowtospeakasacompressionalgorithm', 0.00012525055)\n",
      "('blackmarket', 0.00012525053)\n",
      "('folksinger', 0.00012525052)\n",
      "('paintorwritegoodverse', 0.0001252505)\n",
      "('service', 0.00012525044)\n",
      "('spread', 0.00012525042)\n",
      "('variation', 0.00012525042)\n",
      "('hangs', 0.0001252504)\n",
      "('explorezeuitatecreiere', 0.00012525039)\n",
      "('dynamic', 0.00012525039)\n",
      "('până', 0.00012525033)\n",
      "('puțin', 0.00012525021)\n",
      "('hapaxlegomenon', 0.00012525007)\n",
      "('translationisaformofwritingthroughthewordsofothers', 0.00012525001)\n",
      "('artificialidentity', 0.00012524992)\n",
      "('jeromerothenberg', 0.00012524978)\n",
      "('faithfulness', 0.00012524978)\n",
      "('pittisshow', 0.00012524978)\n",
      "('ostracizes', 0.00012524972)\n",
      "('consciousnessandpoetry', 0.00012524969)\n",
      "('january', 0.00012524966)\n",
      "('ruins', 0.00012524964)\n",
      "('justify', 0.00012524964)\n",
      "('sells', 0.00012524954)\n",
      "('contribue', 0.00012524945)\n",
      "('spellsout', 0.00012524945)\n",
      "('whenthetearsaregoindown', 0.00012524941)\n",
      "('grows', 0.0001252494)\n",
      "('symmetry', 0.00012524925)\n",
      "('sparkling', 0.00012524916)\n",
      "('welcomed', 0.00012524916)\n",
      "('fleoșc', 0.00012524909)\n",
      "('unparallel', 0.00012524905)\n",
      "('buttillyougetthereyourselfyouneverreallyknow', 0.000125249)\n",
      "('toxic', 0.0001252489)\n",
      "('măntinsesem', 0.00012524887)\n",
      "('laughter', 0.00012524876)\n",
      "('subjective', 0.00012524868)\n",
      "('pește', 0.00012524864)\n",
      "('grimasă', 0.00012524855)\n",
      "('poetries', 0.00012524852)\n",
      "('fictivefigure', 0.00012524851)\n",
      "('kindly', 0.0001252485)\n",
      "('radios', 0.00012524845)\n",
      "('laocoön', 0.00012524845)\n",
      "('violă', 0.00012524842)\n",
      "('abovementioned', 0.00012524839)\n",
      "('locus', 0.00012524836)\n",
      "('azerbaidjan', 0.00012524832)\n",
      "('travail', 0.00012524828)\n",
      "('legănânduise', 0.00012524825)\n",
      "('protecţie', 0.00012524822)\n",
      "('bright', 0.00012524822)\n",
      "('throughfreelaboroutofpersonalinterestandviamanifoldcreativeprocesses', 0.00012524822)\n",
      "('stated', 0.00012524819)\n",
      "('laps', 0.00012524807)\n",
      "('thesymmetricallettersofthealphabet', 0.00012524797)\n",
      "('ontheglisteningtipsheslowlypositionsthesnowytitoofameringue', 0.00012524794)\n",
      "('puțină', 0.00012524791)\n",
      "('xli', 0.0001252479)\n",
      "('moarte', 0.00012524787)\n",
      "('rightful', 0.00012524785)\n",
      "('gasway', 0.00012524777)\n",
      "('bananatrees', 0.00012524774)\n",
      "('enacts', 0.00012524768)\n"
     ]
    }
   ],
   "source": [
    "for i in range(7602, 7703):\n",
    "    print(l1[i])"
   ]
  },
  {
   "cell_type": "code",
   "execution_count": 99,
   "metadata": {},
   "outputs": [
    {
     "name": "stdout",
     "output_type": "stream",
     "text": [
      "('coupled', 0.00012524762)\n",
      "('dimensions', 0.00012524758)\n",
      "('animate', 0.00012524756)\n",
      "('înslashcerclunaslashrânduri', 0.00012524752)\n",
      "('survey', 0.00012524748)\n",
      "('cunoscuta', 0.00012524746)\n",
      "('cruzime', 0.00012524743)\n",
      "('débarqués', 0.00012524736)\n",
      "('neuitat', 0.00012524733)\n",
      "('andrei', 0.00012524729)\n",
      "('asifitisanearlydayonearth', 0.00012524717)\n",
      "('hurtles', 0.00012524716)\n",
      "('apparentessences', 0.00012524716)\n",
      "('warmer', 0.00012524713)\n",
      "('train', 0.00012524702)\n",
      "('flick', 0.00012524679)\n",
      "('poză', 0.00012524673)\n",
      "('borrow', 0.00012524672)\n",
      "('terenuri', 0.00012524668)\n",
      "('constau', 0.00012524665)\n",
      "('amour', 0.00012524657)\n",
      "('funded', 0.00012524657)\n",
      "('selfimposed', 0.00012524656)\n",
      "('hello', 0.00012524654)\n",
      "('vrajbei', 0.00012524654)\n",
      "('mirării', 0.00012524654)\n",
      "('înflăcărată', 0.00012524652)\n",
      "('cracking', 0.00012524638)\n",
      "('gropii', 0.00012524633)\n",
      "('simți', 0.00012524631)\n",
      "('plantele', 0.0001252463)\n",
      "('simțeam', 0.00012524625)\n",
      "('woes', 0.00012524624)\n",
      "('orb', 0.00012524617)\n",
      "('watchingtakesworkoosighttakeshours', 0.0001252461)\n",
      "('hexagramoftheheavens', 0.0001252461)\n",
      "('mezostihdublu', 0.00012524608)\n",
      "('rezultat', 0.00012524593)\n",
      "('myeyesarepolishedsmoothbysight', 0.0001252457)\n",
      "('reputed', 0.00012524569)\n",
      "('blewaway', 0.00012524555)\n",
      "('comprehensiveness', 0.00012524551)\n",
      "('ringing', 0.00012524547)\n",
      "('gândit', 0.0001252454)\n",
      "('sărea', 0.0001252454)\n",
      "('theairwebreatheranginginsizecontainsflakesofsounddarksilenceandlight', 0.00012524537)\n",
      "('ahappening', 0.00012524535)\n",
      "('territory', 0.0001252452)\n",
      "('penchant', 0.00012524519)\n",
      "('sorts', 0.00012524518)\n",
      "('woodstock', 0.00012524513)\n",
      "('onceinawhiledumpingtheminfavorofnewonesdevelopedbyourselves', 0.00012524513)\n",
      "('plină', 0.0001252451)\n",
      "('blurbs', 0.00012524484)\n",
      "('ashes', 0.00012524483)\n",
      "('chez', 0.00012524477)\n",
      "('cineva', 0.00012524475)\n",
      "('robertmoses', 0.00012524475)\n",
      "('trigonometrian', 0.00012524468)\n",
      "('indigenă', 0.00012524465)\n",
      "('abramovic', 0.00012524464)\n",
      "('forthehighhopeshaillaball', 0.00012524461)\n",
      "('paradis', 0.00012524461)\n",
      "('contractors', 0.0001252446)\n",
      "('irrigatefarmland', 0.00012524455)\n",
      "('elaboration', 0.00012524455)\n",
      "('comfortabil', 0.00012524454)\n",
      "('enumerated', 0.00012524454)\n",
      "('spectru', 0.00012524427)\n",
      "('panegyrics', 0.00012524426)\n",
      "('întrerup', 0.00012524425)\n",
      "('notatraducătorului', 0.0001252442)\n",
      "('mezostihul', 0.00012524414)\n",
      "('primăgenerație', 0.00012524411)\n",
      "('rhizhomaticperformance', 0.00012524406)\n",
      "('vreodat', 0.00012524403)\n",
      "('neroditoare', 0.000125244)\n",
      "('confluences', 0.00012524398)\n",
      "('transcribed', 0.00012524372)\n",
      "('avoluntaryappropriationofallthingsamerican', 0.00012524359)\n",
      "('collectiveundoing', 0.00012524355)\n",
      "('continui', 0.0001252435)\n",
      "('ducând', 0.00012524344)\n",
      "('muse', 0.00012524328)\n",
      "('condiția', 0.00012524327)\n",
      "('pietrele', 0.00012524323)\n",
      "('maps', 0.00012524318)\n",
      "('proțap', 0.00012524308)\n",
      "('legroom', 0.00012524307)\n",
      "('piped', 0.00012524301)\n",
      "('metronomwasbroadcastanewbetween1969and1975', 0.00012524298)\n",
      "('tocăniț', 0.00012524296)\n",
      "('styles', 0.00012524283)\n",
      "('aurulrău', 0.00012524278)\n",
      "('pat', 0.00012524276)\n",
      "('scurgere', 0.00012524264)\n",
      "('criticizedlocalstrongmen', 0.00012524263)\n",
      "('ofthesubjectintothe', 0.00012524263)\n",
      "('bigger', 0.00012524263)\n",
      "('macmillan', 0.00012524262)\n",
      "('andsystemsof', 0.00012524238)\n"
     ]
    }
   ],
   "source": [
    "\n",
    "for i in range(7703, 7804):\n",
    "    print(l1[i])"
   ]
  },
  {
   "cell_type": "code",
   "execution_count": 100,
   "metadata": {},
   "outputs": [
    {
     "name": "stdout",
     "output_type": "stream",
     "text": [
      "('eyebrow', 0.00012524221)\n",
      "('leonardo', 0.0001252421)\n",
      "('andenduranceapatiencelikethedignityoofmatter', 0.00012524198)\n",
      "('definitely', 0.00012524196)\n",
      "('involve', 0.00012524192)\n",
      "('găsită', 0.00012524184)\n",
      "('coworkers', 0.0001252418)\n",
      "('disagreements', 0.00012524174)\n",
      "('seducție', 0.00012524171)\n",
      "('commentary', 0.0001252417)\n",
      "('slams', 0.0001252416)\n",
      "('communityisafortresswebegantoforesee', 0.00012524152)\n",
      "('lună', 0.0001252415)\n",
      "('puternic', 0.00012524145)\n",
      "('bot', 0.00012524144)\n",
      "('stuff', 0.00012524132)\n",
      "('interview', 0.00012524128)\n",
      "('mentions', 0.00012524123)\n",
      "('utmost', 0.00012524117)\n",
      "('estrad', 0.00012524115)\n",
      "('framework', 0.00012524109)\n",
      "('présenter', 0.00012524104)\n",
      "('ov', 0.00012524099)\n",
      "('performative', 0.00012524096)\n",
      "('minoră', 0.00012524093)\n",
      "('intensified', 0.00012524071)\n",
      "('comentând', 0.0001252405)\n",
      "('dorința', 0.0001252405)\n",
      "('communities', 0.00012524046)\n",
      "('dynamicsystemofpowerrelationscreatedinlanguage', 0.00012524029)\n",
      "('propriile', 0.00012524023)\n",
      "('voyeuru', 0.00012524021)\n",
      "('lam', 0.00012524013)\n",
      "('dryup', 0.00012523997)\n",
      "('exposure', 0.00012523972)\n",
      "('producesanoralversioninromanianthatcanbeeasilyunderstoodandmemorized', 0.00012523963)\n",
      "('criticalstance', 0.00012523955)\n",
      "('miroase', 0.00012523946)\n",
      "('firstpublication', 0.00012523943)\n",
      "('aspects', 0.0001252394)\n",
      "('mourning', 0.00012523933)\n",
      "('acele', 0.00012523928)\n",
      "('dictatorship', 0.00012523914)\n",
      "('charles', 0.00012523896)\n",
      "('complaining', 0.00012523896)\n",
      "('persons', 0.00012523889)\n",
      "('grabs', 0.00012523861)\n",
      "('heads', 0.00012523856)\n",
      "('distillation', 0.00012523853)\n",
      "('scenes', 0.00012523847)\n",
      "('aveau', 0.00012523835)\n",
      "('mobile', 0.00012523824)\n",
      "('artful', 0.0001252382)\n",
      "('summaries', 0.00012523799)\n",
      "('107109', 0.00012523796)\n",
      "('writingsofchurchfathers', 0.00012523758)\n",
      "('așteptând', 0.00012523755)\n",
      "('thusinhabitthesubjectpositionofthemachine', 0.00012523755)\n",
      "('statistically', 0.0001252375)\n",
      "('zvon', 0.00012523748)\n",
      "('vămpotmoliți', 0.00012523739)\n",
      "('investigarea', 0.00012523738)\n",
      "('auront', 0.00012523716)\n",
      "('planul', 0.00012523704)\n",
      "('rumorsanduprisingsentchillsbackintothebodypolitic', 0.00012523701)\n",
      "('muerteși', 0.00012523665)\n",
      "('cauza', 0.00012523653)\n",
      "('sailing', 0.0001252365)\n",
      "('silly', 0.0001252364)\n",
      "('colective', 0.00012523636)\n",
      "('striclă', 0.00012523627)\n",
      "('preservation', 0.00012523621)\n",
      "('bundles', 0.00012523578)\n",
      "('hypersynthesis', 0.00012523562)\n",
      "('distinction', 0.00012523546)\n",
      "('repast', 0.00012523515)\n",
      "('isthatviolenceorviolins', 0.00012523508)\n",
      "('striking', 0.00012523505)\n",
      "('duriantrees', 0.0001252349)\n",
      "('strategies', 0.00012523486)\n",
      "('nonliteralfeaturesoflanguage', 0.00012523483)\n",
      "('cerul', 0.00012523464)\n",
      "('legswereboundbeforethem', 0.00012523457)\n",
      "('moartea', 0.00012523441)\n",
      "('fated', 0.00012523435)\n",
      "('duel', 0.00012523432)\n",
      "('unto', 0.00012523404)\n",
      "('judecată', 0.00012523397)\n",
      "('unabstraction', 0.00012523378)\n",
      "('isleofwightstanza', 0.00012523354)\n",
      "('renunțat', 0.00012523324)\n",
      "('fillingthisgapandimportingresources', 0.00012523323)\n",
      "('deathgate', 0.00012523321)\n",
      "('doamnă', 0.00012523311)\n",
      "('opportunities', 0.00012523294)\n",
      "('disruptions', 0.00012523259)\n",
      "('originated', 0.00012523246)\n",
      "('taner', 0.00012523244)\n",
      "('frame', 0.0001252322)\n",
      "('vede', 0.00012523218)\n",
      "('tună', 0.00012523214)\n"
     ]
    }
   ],
   "source": [
    "\n",
    "for i in range(7805, 7906):\n",
    "    print(l1[i])"
   ]
  },
  {
   "cell_type": "code",
   "execution_count": 101,
   "metadata": {},
   "outputs": [
    {
     "name": "stdout",
     "output_type": "stream",
     "text": [
      "('idiomatic', 0.00012523143)\n",
      "('mintea', 0.0001252314)\n",
      "('sentenced', 0.00012523125)\n",
      "('thesunthatlightstheday', 0.000125231)\n",
      "('rockmania', 0.00012523086)\n",
      "('locui', 0.00012523078)\n",
      "('năravuri', 0.00012523074)\n",
      "('tragedies', 0.00012523061)\n",
      "('poaten', 0.00012523052)\n",
      "('proved', 0.00012523044)\n",
      "('relating', 0.00012523042)\n",
      "('colloquial', 0.00012523013)\n",
      "('whirring', 0.00012523013)\n",
      "('critica', 0.00012523001)\n",
      "('înrudite', 0.00012522981)\n",
      "('relevance', 0.00012522956)\n",
      "('niște', 0.00012522945)\n",
      "('naționale', 0.00012522939)\n",
      "('seeingbothnewandoldfriends', 0.00012522937)\n",
      "('ignored', 0.0001252293)\n",
      "('obsessively', 0.00012522882)\n",
      "('addictions', 0.0001252281)\n",
      "('lăuntrică', 0.00012522773)\n",
      "('bypassing', 0.00012522767)\n",
      "('drumului', 0.0001252276)\n",
      "('zmucite', 0.00012522742)\n",
      "('wiggleroom', 0.00012522728)\n",
      "('viciile', 0.00012522699)\n",
      "('rushed', 0.00012522675)\n",
      "('orderoftheday', 0.00012522642)\n",
      "('sfârșitul', 0.00012522594)\n",
      "('enunciated', 0.00012522569)\n",
      "('sonnet', 0.00012522512)\n",
      "('intimation', 0.00012522475)\n",
      "('nest', 0.00012522459)\n",
      "('integrations', 0.00012522448)\n",
      "('clarify', 0.00012522448)\n",
      "('sprințare', 0.000125224)\n",
      "('putitanotherway', 0.00012522326)\n",
      "('inventată', 0.00012522313)\n",
      "('efort', 0.00012522306)\n",
      "('urgent', 0.00012522285)\n",
      "('parcaș', 0.00012522284)\n",
      "('ation', 0.00012522141)\n",
      "('acelei', 0.00012522095)\n",
      "('eyeglasses', 0.00012522089)\n",
      "('familiarize', 0.00012522076)\n",
      "('gatekeeper', 0.00012522053)\n",
      "('agencies', 0.00012521916)\n",
      "('lipit', 0.00012521868)\n",
      "('trump', 0.000125218)\n",
      "('powerrelations', 0.00012521599)\n",
      "('ils', 0.00012521334)\n",
      "('iubirea', 0.00012521325)\n",
      "('arms', 0.00012521277)\n",
      "('gives', 0.00012521273)\n",
      "('anterioare', 0.00012521064)\n"
     ]
    }
   ],
   "source": [
    "\n",
    "for i in range(7907, 7964):\n",
    "    print(l1[i])"
   ]
  },
  {
   "cell_type": "code",
   "execution_count": 102,
   "metadata": {},
   "outputs": [
    {
     "name": "stdout",
     "output_type": "stream",
     "text": [
      "('itperformsavirtualandanalogreturntotheexitinwhichitsauthorwasraised', 0.00012525848)\n",
      "('îndemnul', 0.00012525848)\n",
      "('regulă', 0.00012525845)\n",
      "('2020', 0.00012525842)\n",
      "('completing', 0.00012525839)\n",
      "('insulănesătulășidivănderivă', 0.00012525839)\n",
      "('importantecesicumgândesc', 0.00012525838)\n",
      "('cuvântului', 0.00012525835)\n",
      "('variant', 0.00012525835)\n",
      "('joe', 0.0001252583)\n",
      "('window', 0.0001252583)\n",
      "('involving', 0.00012525827)\n",
      "('bunicii', 0.00012525824)\n",
      "('wait', 0.00012525822)\n",
      "('usedtosingaboutthemountainsbutthemountainswashedaway', 0.00012525819)\n",
      "('bastonul', 0.00012525817)\n",
      "('indecisions', 0.00012525817)\n",
      "('braisedturkeyshankdressedinthepaperpetticoatsofstate', 0.00012525817)\n",
      "('instruments', 0.0001252581)\n",
      "('actsofpoiesisarealwaysargumentsaboutlanguageanditsforms', 0.00012525803)\n",
      "('lamuertedroppedhertoken', 0.00012525801)\n",
      "('responsibilitateai', 0.000125258)\n",
      "('încăpățânare', 0.00012525794)\n",
      "('produce', 0.0001252579)\n",
      "('wouldlistentoelvispresleyplayfootballandbecrazyaboutrockaroundtheclock', 0.00012525784)\n",
      "('notasabdicationofmyhumanityordeviation', 0.0001252578)\n",
      "('enticing', 0.00012525778)\n",
      "('briefly', 0.00012525775)\n",
      "('mediationcreatesubjectpositions', 0.00012525775)\n",
      "('southwest', 0.0001252577)\n",
      "('fiecărei', 0.00012525769)\n",
      "('composing', 0.00012525765)\n",
      "('promoted', 0.00012525765)\n",
      "('condamnat', 0.00012525762)\n",
      "('mixing', 0.0001252576)\n",
      "('articulations', 0.00012525757)\n",
      "('future', 0.00012525756)\n",
      "('nume', 0.00012525755)\n",
      "('citeam', 0.00012525747)\n",
      "('rural', 0.0001252573)\n",
      "('ștab', 0.00012525723)\n",
      "('flacăra', 0.00012525723)\n",
      "('gloată', 0.0001252571)\n",
      "('flowswastewateroflushednorthoto', 0.0001252571)\n",
      "('rewarding', 0.0001252571)\n",
      "('knotty', 0.00012525702)\n",
      "('strof', 0.00012525701)\n",
      "('deschisă', 0.00012525696)\n",
      "('rebuilt', 0.00012525686)\n",
      "('theylltellyouwheretogo', 0.00012525686)\n",
      "('nonlinearways', 0.00012525685)\n",
      "('teasing', 0.00012525682)\n",
      "('prolifically', 0.0001252568)\n",
      "('neologism', 0.00012525673)\n",
      "('monologues', 0.00012525672)\n",
      "('preliminariile', 0.00012525672)\n",
      "('mistake', 0.0001252567)\n",
      "('majorminor—', 0.00012525664)\n",
      "('adventures', 0.00012525664)\n",
      "('legă', 0.00012525663)\n",
      "('bântui', 0.00012525663)\n",
      "('united', 0.00012525657)\n",
      "('canale', 0.00012525657)\n",
      "('ignoring', 0.00012525654)\n",
      "('dialogue', 0.00012525653)\n",
      "('towriteasacompressionalgorithm', 0.0001252565)\n",
      "('roagăte', 0.00012525648)\n",
      "('elpoemaquecruzóelatlántico', 0.00012525648)\n",
      "('attempting', 0.00012525647)\n",
      "('combed', 0.00012525647)\n",
      "('struck', 0.00012525647)\n",
      "('vedea', 0.0001252564)\n",
      "('1960–1989', 0.00012525637)\n",
      "('screen', 0.00012525634)\n",
      "('dansa', 0.00012525632)\n",
      "('languageacttransformsovertime', 0.0001252563)\n",
      "('sibiu', 0.00012525628)\n",
      "('replete', 0.00012525628)\n",
      "('repetitions', 0.00012525627)\n",
      "('walt', 0.00012525625)\n",
      "('literatura', 0.00012525624)\n",
      "('lately', 0.00012525622)\n",
      "('apară', 0.00012525619)\n",
      "('teatragă', 0.00012525618)\n",
      "('connotations', 0.00012525616)\n",
      "('patient', 0.00012525606)\n",
      "('exists', 0.00012525605)\n",
      "('importanceofthemessageratherthanitsoriginalityoraccuracy', 0.00012525605)\n",
      "('achanceofduplicationtrue', 0.00012525597)\n",
      "('structuralism', 0.00012525587)\n",
      "('betweenthefoldsandfabricofmyflower', 0.00012525578)\n",
      "('explain', 0.0001252557)\n",
      "('wringing', 0.00012525562)\n",
      "('peering', 0.00012525561)\n",
      "('harsh', 0.00012525561)\n",
      "('saturi', 0.00012525555)\n",
      "('muggers', 0.00012525555)\n",
      "('tasks', 0.00012525552)\n",
      "('persoanăn', 0.00012525552)\n",
      "('revolting', 0.0001252554)\n",
      "('răspândea', 0.00012525533)\n",
      "('thedoors', 0.00012525522)\n",
      "('dezvolte', 0.00012525517)\n",
      "('ceai', 0.00012525516)\n"
     ]
    }
   ],
   "source": [
    "\n",
    "for i in range(7400, 7504):\n",
    "    print(l1[i])"
   ]
  },
  {
   "cell_type": "code",
   "execution_count": 103,
   "metadata": {},
   "outputs": [
    {
     "name": "stdout",
     "output_type": "stream",
     "text": [
      "('sâsâie', 0.00012526111)\n",
      "('xonmobil', 0.0001252611)\n",
      "('ștergea', 0.00012526107)\n",
      "('rochester', 0.00012526101)\n",
      "('topittistranslationwasanaturalact', 0.00012526101)\n",
      "('spokensubjectofmyverse', 0.00012526095)\n",
      "('căutare', 0.00012526095)\n",
      "('hopefulness', 0.00012526094)\n",
      "('gravediggers', 0.0001252609)\n",
      "('abstruse', 0.00012526088)\n",
      "('arm', 0.00012526086)\n",
      "('bilingv', 0.00012526083)\n",
      "('websiteul', 0.00012526082)\n",
      "('hammurabiscodeisspoken', 0.00012526082)\n",
      "('intervenție', 0.00012526076)\n",
      "('leurs', 0.00012526072)\n",
      "('interpreting', 0.0001252607)\n",
      "('writtenscripts', 0.00012526063)\n",
      "('introduces', 0.00012526063)\n",
      "('solace', 0.0001252606)\n",
      "('knowledgeandexperience', 0.00012526057)\n",
      "('moșteneau', 0.00012526051)\n",
      "('quatrains', 0.0001252605)\n",
      "('difference', 0.00012526044)\n",
      "('rumexpatientia', 0.00012526043)\n",
      "('pasttension', 0.00012526043)\n",
      "('decision', 0.00012526041)\n",
      "('inimilegrele', 0.00012526038)\n",
      "('concerts', 0.00012526028)\n",
      "('valorilor', 0.00012526028)\n",
      "('ademenitoareaautoaresăiubeascămajoritateascrisorilorprincontradictoriiscuze', 0.00012526028)\n",
      "('afternoons', 0.00012526027)\n",
      "('algorithmsmayalsochangewithsuccessiveinscriptions', 0.00012526024)\n",
      "('leading', 0.00012526024)\n",
      "('frameworksofreference', 0.00012526022)\n",
      "('exilés', 0.00012526018)\n",
      "('romanianlanguage', 0.00012526015)\n",
      "('hellogoodbyeshow', 0.00012526015)\n",
      "('coate', 0.00012526012)\n",
      "('asociat', 0.00012526009)\n",
      "('sands', 0.00012526008)\n",
      "('morphozooicmemesdivideandruletheearth', 0.00012525999)\n",
      "('cumpărat', 0.00012525999)\n",
      "('piety', 0.00012525996)\n",
      "('purare', 0.00012525993)\n",
      "('automatedrags', 0.00012525993)\n",
      "('galvin', 0.00012525989)\n",
      "('bra', 0.00012525989)\n",
      "('pasted', 0.00012525986)\n",
      "('ahugeonehundredyearoldbluespruceothatlaiddownitslifetobecomeafootbridgeacrosstheriver', 0.00012525983)\n",
      "('iatunci', 0.00012525974)\n",
      "('captivitate', 0.00012525974)\n",
      "('bien', 0.00012525973)\n",
      "('contamination', 0.00012525971)\n",
      "('manipulărilor', 0.00012525968)\n",
      "('lirătopităn', 0.00012525964)\n",
      "('telephone', 0.00012525961)\n",
      "('gotheavenandigothell', 0.00012525957)\n",
      "('veden', 0.00012525955)\n",
      "('învestsefăceauproiecte', 0.00012525952)\n",
      "('figuredverse', 0.0001252595)\n",
      "('vreun', 0.00012525948)\n",
      "('substituteseclecticinfluence', 0.00012525945)\n",
      "('152166', 0.00012525944)\n",
      "('barren', 0.00012525944)\n",
      "('millions', 0.00012525942)\n",
      "('celeilalte', 0.00012525941)\n",
      "('cared', 0.00012525941)\n",
      "('merge', 0.00012525934)\n",
      "('computationalclassifiersasexplorativeexperimentaltools', 0.00012525932)\n",
      "('participatory', 0.0001252593)\n",
      "('designed', 0.00012525929)\n",
      "('ionscu', 0.00012525926)\n",
      "('trilling', 0.00012525925)\n",
      "('topics', 0.00012525916)\n",
      "('upagainst', 0.00012525915)\n",
      "('desfăşurate', 0.00012525912)\n",
      "('sign', 0.00012525906)\n",
      "('pronunciation', 0.00012525904)\n",
      "('hates', 0.00012525902)\n",
      "('nămolurilor', 0.00012525902)\n",
      "('unfoldyourhandsofallaopart', 0.000125259)\n",
      "('mymissionistopresentromanianyouthwithsuchundergroundculture', 0.00012525899)\n",
      "('ducând', 0.00012525897)\n",
      "('usual', 0.00012525896)\n",
      "('festinul', 0.00012525894)\n",
      "('colosseum', 0.00012525891)\n",
      "('platoul', 0.00012525886)\n",
      "('deeplearning', 0.00012525886)\n",
      "('poemdigital', 0.00012525883)\n",
      "('racun', 0.0001252588)\n",
      "('vocal', 0.0001252588)\n",
      "('significance', 0.0001252588)\n",
      "('occasions', 0.00012525872)\n",
      "('interpreted', 0.00012525871)\n",
      "('remarcabil', 0.0001252587)\n",
      "('ilendmoney', 0.0001252587)\n",
      "('chemoterapiei', 0.00012525868)\n",
      "('răstălmăcită', 0.00012525864)\n",
      "('tapilicongo', 0.00012525864)\n"
     ]
    }
   ],
   "source": [
    "\n",
    "for i in range(7299, 7399):\n",
    "    print(l1[i])"
   ]
  },
  {
   "cell_type": "code",
   "execution_count": 104,
   "metadata": {},
   "outputs": [
    {
     "name": "stdout",
     "output_type": "stream",
     "text": [
      "('întreruptă', 0.00012526319)\n",
      "('vernacular', 0.00012526318)\n",
      "('structuralpositioning', 0.00012526315)\n",
      "('muzic', 0.00012526313)\n",
      "('sideman', 0.00012526313)\n",
      "('lysistrata', 0.00012526309)\n",
      "('whosedeathwillnotbeinvestigated', 0.00012526305)\n",
      "('carolina', 0.00012526302)\n",
      "('virtuală', 0.00012526302)\n",
      "('scări', 0.000125263)\n",
      "('brigitte', 0.00012526299)\n",
      "('cheamă', 0.00012526297)\n",
      "('activism', 0.00012526297)\n",
      "('endlessfunofnotbeingone', 0.00012526297)\n",
      "('mildeast', 0.00012526296)\n",
      "('săp', 0.00012526296)\n",
      "('introdus', 0.00012526294)\n",
      "('cup', 0.00012526293)\n",
      "('văd', 0.00012526292)\n",
      "('țiplă', 0.0001252629)\n",
      "('powerstructures', 0.00012526286)\n",
      "('incompetent', 0.00012526286)\n",
      "('algorithmhasnocapacityforselfperception', 0.0001252628)\n",
      "('denver', 0.00012526278)\n",
      "('rămâne', 0.00012526277)\n",
      "('approaches', 0.00012526276)\n",
      "('nights', 0.00012526271)\n",
      "('airport', 0.00012526271)\n",
      "('oisviewedmorethan28500000timesonyoutube', 0.00012526271)\n",
      "('poète', 0.00012526268)\n",
      "('arcane', 0.00012526267)\n",
      "('suspendată', 0.00012526265)\n",
      "('ses', 0.00012526265)\n",
      "('swimoindeepbluewatersandthendrown', 0.00012526262)\n",
      "('codesofinclusion', 0.0001252626)\n",
      "('halffull', 0.0001252626)\n",
      "('maintain', 0.0001252626)\n",
      "('évènement', 0.0001252626)\n",
      "('tipsy…', 0.00012526255)\n",
      "('loves', 0.00012526251)\n",
      "('fiscale', 0.0001252625)\n",
      "('faces', 0.00012526246)\n",
      "('recognised', 0.00012526244)\n",
      "('intact', 0.00012526244)\n",
      "('seminar', 0.00012526244)\n",
      "('furthermore', 0.0001252624)\n",
      "('dobând', 0.00012526235)\n",
      "('bloody', 0.00012526235)\n",
      "('translatinglivethelyricsoftherockbandspresented', 0.00012526235)\n",
      "('oală', 0.00012526232)\n",
      "('vagoaneentropice', 0.00012526229)\n",
      "('theirs', 0.00012526229)\n",
      "('algorithmicsubjectivity', 0.00012526228)\n",
      "('intersectează', 0.00012526226)\n",
      "('accumulated', 0.00012526226)\n",
      "('poprock', 0.00012526226)\n",
      "('părea', 0.00012526226)\n",
      "('semn', 0.00012526225)\n",
      "('park', 0.00012526219)\n",
      "('sisyphis', 0.00012526217)\n",
      "('therearedifferenttwosbutanirritatingminimumwage', 0.00012526216)\n",
      "('torment', 0.00012526214)\n",
      "('espagne', 0.0001252621)\n",
      "('tools', 0.00012526207)\n",
      "('potential', 0.00012526207)\n",
      "('filmtheory', 0.000125262)\n",
      "('murdered', 0.00012526197)\n",
      "('tăbărând', 0.00012526191)\n",
      "('severelydecomposingcorpseofacanadianjournalist', 0.00012526191)\n",
      "('makinggoodtheforetoldhistory', 0.0001252619)\n",
      "('weapons', 0.00012526185)\n",
      "('anticipating', 0.00012526184)\n",
      "('syntax', 0.00012526178)\n",
      "('citysugar', 0.00012526177)\n",
      "('pen', 0.00012526171)\n",
      "('contact', 0.00012526171)\n",
      "('librarian', 0.00012526171)\n",
      "('căi', 0.0001252617)\n",
      "('doesanalgorithmhaveareferent', 0.00012526168)\n",
      "('towriteasanalgorithm', 0.00012526165)\n",
      "('creastă', 0.0001252616)\n",
      "('refrains', 0.0001252616)\n",
      "('nuance', 0.00012526159)\n",
      "('ageing', 0.00012526159)\n",
      "('illstopyouroptimismoisinfectiouslikeavirus', 0.00012526156)\n",
      "('invites', 0.00012526152)\n",
      "('contrary', 0.00012526152)\n",
      "('demonstrate', 0.00012526152)\n",
      "('shakespeareinromania', 0.0001252615)\n",
      "('nus', 0.00012526149)\n",
      "('noun', 0.00012526145)\n",
      "('convinge', 0.00012526145)\n",
      "('spuneau', 0.00012526143)\n",
      "('muffle', 0.00012526137)\n",
      "('everywhere', 0.00012526137)\n",
      "('patterned', 0.00012526134)\n",
      "('«', 0.0001252613)\n",
      "('festering', 0.00012526126)\n",
      "('antidot', 0.00012526124)\n",
      "('sursă', 0.00012526124)\n",
      "('feromoni', 0.00012526123)\n"
     ]
    }
   ],
   "source": [
    "\n",
    "for i in range(7197,7298):\n",
    "    print(l1[i])"
   ]
  },
  {
   "cell_type": "code",
   "execution_count": 105,
   "metadata": {},
   "outputs": [
    {
     "name": "stdout",
     "output_type": "stream",
     "text": [
      "('attheexpenseoftherhyme', 0.0001252653)\n",
      "('băgam', 0.00012526527)\n",
      "('acrobaticanalysis', 0.00012526526)\n",
      "('mill', 0.00012526523)\n",
      "('unites', 0.00012526521)\n",
      "('bere', 0.0001252652)\n",
      "('rightly', 0.0001252652)\n",
      "('memories', 0.00012526519)\n",
      "('promotion', 0.00012526514)\n",
      "('niciodată', 0.00012526514)\n",
      "('replicants', 0.00012526513)\n",
      "('brilliantversionsemergedfromhisheartfeltdedicationplayfulingenuityandresourcefulcreativity', 0.00012526511)\n",
      "('sempingăîntreînțelesuri', 0.0001252651)\n",
      "('accessed', 0.000125265)\n",
      "('replenishment', 0.00012526498)\n",
      "('mistress', 0.00012526498)\n",
      "('găunoasă', 0.00012526497)\n",
      "('99', 0.00012526495)\n",
      "('idilen', 0.00012526495)\n",
      "('interbellum', 0.00012526494)\n",
      "('disciplines', 0.00012526487)\n",
      "('utters', 0.00012526487)\n",
      "('gap', 0.00012526485)\n",
      "('părul', 0.00012526484)\n",
      "('cityscapes', 0.00012526482)\n",
      "('varies', 0.00012526479)\n",
      "('vogue', 0.00012526476)\n",
      "('wheresomehavefoundtheirparadiseothersjustcometoharm', 0.00012526475)\n",
      "('audienceasother', 0.00012526475)\n",
      "('wordsunlikenessanddisciplinetherearenounresistedrhythmsinone', 0.00012526472)\n",
      "('generating', 0.0001252647)\n",
      "('wrapped', 0.0001252647)\n",
      "('burying', 0.00012526469)\n",
      "('javra', 0.00012526469)\n",
      "('fish', 0.00012526465)\n",
      "('1981', 0.00012526462)\n",
      "('atmosphère', 0.0001252646)\n",
      "('mothers', 0.00012526456)\n",
      "('grip', 0.0001252645)\n",
      "('rearrangements', 0.00012526446)\n",
      "('rostesc', 0.00012526446)\n",
      "('oricine', 0.00012526441)\n",
      "('drank', 0.00012526439)\n",
      "('shallows', 0.00012526439)\n",
      "('wasting', 0.00012526437)\n",
      "('centre', 0.00012526436)\n",
      "('pământ', 0.00012526434)\n",
      "('oreinheretheaurumaroundsurfthesurroundingsdigforatwigrootforabotdiveinformoreofunlikebefore', 0.00012526433)\n",
      "('pieces', 0.00012526431)\n",
      "('trailblazerofdynamicradioprogramming', 0.0001252643)\n",
      "('february', 0.00012526424)\n",
      "('clichésandlamentation', 0.0001252642)\n",
      "('tăi', 0.00012526418)\n",
      "('acknowledgementofthe', 0.00012526415)\n",
      "('soarta', 0.00012526411)\n",
      "('courts', 0.0001252641)\n",
      "('tapili', 0.00012526405)\n",
      "('cutandglue', 0.00012526404)\n",
      "('existing', 0.00012526404)\n",
      "('ceamintește', 0.00012526399)\n",
      "('died', 0.00012526398)\n",
      "('meeting', 0.00012526395)\n",
      "('braid', 0.00012526395)\n",
      "('friday', 0.00012526395)\n",
      "('traces', 0.00012526393)\n",
      "('armele', 0.00012526393)\n",
      "('size', 0.0001252639)\n",
      "('shouts', 0.00012526389)\n",
      "('breast', 0.00012526389)\n",
      "('beware', 0.00012526388)\n",
      "('pupile', 0.00012526388)\n",
      "('forger', 0.00012526383)\n",
      "('compressing', 0.00012526382)\n",
      "('thisjesusmustdie', 0.0001252638)\n",
      "('worldfamoushistorianofreligions', 0.00012526379)\n",
      "('acrostic', 0.00012526379)\n",
      "('format', 0.00012526379)\n",
      "('spontaneously', 0.00012526374)\n",
      "('travelled', 0.0001252637)\n",
      "('carnet', 0.00012526366)\n",
      "('woke', 0.00012526366)\n",
      "('15th20th', 0.00012526363)\n",
      "('variind', 0.00012526361)\n",
      "('écrit', 0.00012526361)\n",
      "('moved', 0.00012526353)\n",
      "('cetate', 0.00012526351)\n",
      "('lea', 0.0001252635)\n",
      "('street', 0.0001252635)\n",
      "('juste', 0.00012526348)\n",
      "('căptușeala', 0.00012526348)\n",
      "('modeling', 0.00012526345)\n",
      "('—margento', 0.00012526344)\n",
      "('bash', 0.00012526344)\n",
      "('humourless', 0.0001252634)\n",
      "('măzgă', 0.00012526337)\n",
      "('lucian', 0.00012526337)\n",
      "('affixes', 0.00012526334)\n",
      "('advances', 0.00012526334)\n",
      "('electrecord', 0.0001252633)\n",
      "('clinging', 0.00012526326)\n",
      "('theairwebreathe', 0.00012526324)\n"
     ]
    }
   ],
   "source": [
    "\n",
    "for i in range(7095, 7196):\n",
    "    print(l1[i])"
   ]
  },
  {
   "cell_type": "code",
   "execution_count": 106,
   "metadata": {},
   "outputs": [
    {
     "name": "stdout",
     "output_type": "stream",
     "text": [
      "('santana', 0.00012526827)\n",
      "('june', 0.00012526827)\n",
      "('capital', 0.00012526827)\n",
      "('sheets', 0.00012526824)\n",
      "('coleg', 0.00012526824)\n",
      "('suburbs', 0.00012526823)\n",
      "('begins', 0.00012526823)\n",
      "('westernculturalproducts', 0.00012526818)\n",
      "('systematicfigurativeterminology', 0.00012526817)\n",
      "('obfuscation', 0.00012526815)\n",
      "('likewise', 0.00012526814)\n",
      "('criticallyassimilating', 0.0001252681)\n",
      "('ieșeau', 0.0001252681)\n",
      "('graphpoem', 0.0001252681)\n",
      "('bachelor', 0.00012526808)\n",
      "('cerda', 0.00012526808)\n",
      "('shift', 0.00012526807)\n",
      "('sfâr', 0.00012526805)\n",
      "('edit', 0.00012526802)\n",
      "('iubit', 0.00012526801)\n",
      "('insertingwordsthatwerenotintheoriginal', 0.000125268)\n",
      "('bear', 0.000125268)\n",
      "('99oisnot100apickeratthebrazilianlandfillremindsus', 0.00012526798)\n",
      "('complement', 0.00012526794)\n",
      "('vaster', 0.00012526789)\n",
      "('seara', 0.00012526786)\n",
      "('crească', 0.00012526786)\n",
      "('negru', 0.00012526785)\n",
      "('primeminister', 0.00012526783)\n",
      "('basedoffof', 0.00012526783)\n",
      "('cad', 0.00012526782)\n",
      "('authorship', 0.00012526779)\n",
      "('jazzmen', 0.00012526776)\n",
      "('unlikely', 0.00012526776)\n",
      "('materialurgency', 0.00012526775)\n",
      "('buzz', 0.00012526775)\n",
      "('literele', 0.00012526773)\n",
      "('urge', 0.00012526773)\n",
      "('susanbee', 0.00012526772)\n",
      "('acte', 0.0001252677)\n",
      "('secrets', 0.0001252677)\n",
      "('amintită', 0.0001252677)\n",
      "('storms', 0.00012526766)\n",
      "('dup', 0.00012526764)\n",
      "('debris', 0.00012526762)\n",
      "('putting', 0.00012526759)\n",
      "('înțepat', 0.00012526759)\n",
      "('baptize', 0.00012526757)\n",
      "('ceva', 0.00012526756)\n",
      "('corneliumpopescu', 0.00012526753)\n",
      "('depuis', 0.00012526753)\n",
      "('zic', 0.00012526753)\n",
      "('springy', 0.0001252675)\n",
      "('generozităţii', 0.0001252675)\n",
      "('missiontopromotecultureontheradiothatheshoulderednotwithselfimportancebutnaturally', 0.00012526748)\n",
      "('newstravelledthroughthecoolly', 0.00012526747)\n",
      "('notă', 0.00012526744)\n",
      "('innocence', 0.0001252674)\n",
      "('poveștile', 0.00012526738)\n",
      "('meterismoreregularthanintheoriginal', 0.00012526737)\n",
      "('lot', 0.00012526732)\n",
      "('enunciativeact', 0.00012526732)\n",
      "('nationgirdedandgunning', 0.00012526732)\n",
      "('increasing', 0.00012526731)\n",
      "('șincă', 0.00012526731)\n",
      "('upbeat', 0.00012526727)\n",
      "('everybody', 0.00012526725)\n",
      "('claustrophobic', 0.00012526725)\n",
      "('unseemly', 0.00012526725)\n",
      "('collectivized', 0.00012526724)\n",
      "('disceteidentifiers', 0.00012526722)\n",
      "('drummers', 0.00012526722)\n",
      "('deosebită', 0.00012526721)\n",
      "('bântuit', 0.00012526716)\n",
      "('mediuldigital', 0.00012526715)\n",
      "('sorsai', 0.00012526714)\n",
      "('lutonairport', 0.00012526712)\n",
      "('arhiva', 0.00012526712)\n",
      "('doi', 0.0001252671)\n",
      "('swerve', 0.00012526706)\n",
      "('intheprocess', 0.00012526705)\n",
      "('fresh', 0.00012526705)\n",
      "('miașa', 0.00012526702)\n",
      "('contents', 0.00012526702)\n",
      "('caseofromanianradioproducersandmusiciansduringcommunism', 0.000125267)\n",
      "('found—and', 0.00012526699)\n",
      "('subsequently', 0.00012526698)\n",
      "('portiera', 0.00012526698)\n",
      "('centers', 0.00012526696)\n",
      "('obişnuinţă', 0.00012526696)\n",
      "('andhalfinhorrorhalfinjoy', 0.00012526696)\n",
      "('cam', 0.00012526695)\n",
      "('literarytranslation', 0.00012526695)\n",
      "('intersect', 0.00012526693)\n",
      "('acute', 0.0001252669)\n",
      "('răcoare', 0.0001252669)\n",
      "('anthologyassembledbyplanudes', 0.00012526687)\n",
      "('withapassionandcommunicativewarmththatmadehimextremelypopularbothinromaniaandalsoinmanyeuropeancountries', 0.00012526687)\n",
      "('nomcfish', 0.00012526683)\n",
      "('enunciate', 0.00012526683)\n",
      "('dracu', 0.00012526682)\n",
      "('dry', 0.00012526676)\n",
      "('întreprinse', 0.00012526676)\n",
      "('căreiai', 0.00012526676)\n",
      "('returns', 0.00012526676)\n",
      "('567–585', 0.00012526674)\n",
      "('favorite', 0.00012526673)\n",
      "('withooyourself', 0.00012526673)\n",
      "('citizens', 0.00012526673)\n",
      "('elev', 0.00012526666)\n",
      "('marvelous', 0.00012526664)\n",
      "('arksbythedamdivertingtheflow', 0.00012526661)\n",
      "('possession', 0.00012526661)\n",
      "('avertismente', 0.00012526658)\n",
      "('mower', 0.00012526658)\n",
      "('theyllstoneyouandthensaytheyreallbrave', 0.00012526657)\n",
      "('lineofbusiness', 0.00012526655)\n",
      "('label', 0.00012526651)\n",
      "('emphasizing', 0.0001252665)\n",
      "('urmașul', 0.0001252665)\n",
      "('amanetă', 0.00012526647)\n",
      "('makeitgowitha', 0.00012526647)\n",
      "('antics', 0.00012526647)\n",
      "('ziarul', 0.00012526645)\n",
      "('wetrainedourownpoetrycorpusinformedwordembeddingsthatprovedsignificantlybetterthantheubiquitous', 0.00012526645)\n",
      "('stateowned', 0.00012526642)\n",
      "('wondering', 0.00012526641)\n",
      "('atuncii', 0.00012526641)\n",
      "('revenge', 0.00012526641)\n",
      "('ceadesea', 0.0001252664)\n",
      "('passion', 0.00012526636)\n",
      "('houses', 0.00012526635)\n",
      "('săl', 0.00012526634)\n",
      "('meste', 0.00012526632)\n",
      "('differentiates', 0.0001252663)\n",
      "('claptrap', 0.0001252663)\n",
      "('grandmère', 0.0001252663)\n",
      "('junglă', 0.0001252663)\n",
      "('roadleadscursedandcharmed', 0.00012526629)\n",
      "('conjure', 0.00012526628)\n",
      "('bather', 0.00012526628)\n",
      "('prindezbinarecombinațiilestăpânescpământul', 0.00012526623)\n",
      "('sarea', 0.00012526623)\n",
      "('subsections', 0.00012526622)\n",
      "('topit', 0.00012526622)\n",
      "('loudcloudontheplugfoneddevice', 0.0001252662)\n",
      "('făcând', 0.00012526619)\n",
      "('architect', 0.00012526615)\n",
      "('empire', 0.00012526613)\n",
      "('augmentation', 0.00012526607)\n",
      "('152', 0.00012526606)\n",
      "('replaced', 0.00012526606)\n",
      "('revered', 0.00012526603)\n",
      "('suppressed', 0.00012526603)\n",
      "('twelvebar', 0.00012526601)\n",
      "('progeny', 0.000125266)\n",
      "('vision', 0.00012526599)\n",
      "('fatal', 0.00012526597)\n",
      "('lyn', 0.00012526594)\n",
      "('sortită', 0.00012526593)\n",
      "('grandpèregrandmère', 0.00012526591)\n",
      "('reencoderesponsibility', 0.00012526584)\n",
      "('valea', 0.00012526584)\n",
      "('cinetice', 0.0001252658)\n",
      "('algorithmicsystemsthatspeakusasmuchaswedothem', 0.0001252658)\n",
      "('thyme', 0.0001252658)\n",
      "('tore', 0.00012526575)\n",
      "('celebrities', 0.00012526575)\n",
      "('extremely', 0.00012526574)\n",
      "('endeavour', 0.00012526572)\n",
      "('analyzed', 0.00012526572)\n",
      "('embezzlement', 0.00012526571)\n",
      "('disappeared', 0.0001252657)\n",
      "('child', 0.0001252657)\n",
      "('poetique', 0.00012526565)\n",
      "('știam', 0.00012526562)\n",
      "('fountainsabbey', 0.0001252656)\n",
      "('pirate', 0.00012526558)\n",
      "('matthewhurst', 0.00012526555)\n",
      "('rătăcit', 0.00012526555)\n",
      "('uimiți', 0.00012526548)\n",
      "('grown', 0.00012526548)\n",
      "('curse', 0.00012526546)\n",
      "('7eleven', 0.00012526545)\n",
      "('știe', 0.00012526543)\n",
      "('sifting', 0.00012526536)\n",
      "('below', 0.00012526535)\n",
      "('sensational', 0.00012526535)\n",
      "('whatthehelicopterpilotdidinourname', 0.00012526535)\n",
      "('clues', 0.00012526532)\n",
      "('repetitivework', 0.00012526532)\n"
     ]
    }
   ],
   "source": [
    "\n",
    "for i in range(6903, 7094):\n",
    "    print(l1[i])"
   ]
  },
  {
   "cell_type": "code",
   "execution_count": 107,
   "metadata": {},
   "outputs": [
    {
     "name": "stdout",
     "output_type": "stream",
     "text": [
      "('copies', 0.00012526981)\n",
      "('culdesac', 0.00012526981)\n",
      "('remarkable', 0.00012526981)\n",
      "('trasăn', 0.0001252698)\n",
      "('conștientă', 0.00012526977)\n",
      "('aspiringtoalgorithmicsubjectivity', 0.00012526975)\n",
      "('rânjet', 0.00012526973)\n",
      "('aleatoric', 0.0001252697)\n",
      "('washington', 0.00012526968)\n",
      "('florii', 0.00012526967)\n",
      "('inwhichweareallforeigners', 0.00012526962)\n",
      "('accompanied', 0.00012526962)\n",
      "('logics', 0.00012526955)\n",
      "('louisarmstrong', 0.00012526955)\n",
      "('collaboration', 0.00012526951)\n",
      "('populația', 0.00012526951)\n",
      "('afflictions', 0.00012526951)\n",
      "('games', 0.00012526946)\n",
      "('productive', 0.00012526945)\n",
      "('blood', 0.00012526943)\n",
      "('3817', 0.00012526942)\n",
      "('variétés', 0.0001252694)\n",
      "('primordiale', 0.00012526939)\n",
      "('splash', 0.00012526939)\n",
      "('throat', 0.00012526936)\n",
      "('passagers', 0.00012526935)\n",
      "('middletown', 0.00012526933)\n",
      "('hammers', 0.00012526932)\n",
      "('counterpart', 0.0001252693)\n",
      "('fusty', 0.00012526929)\n",
      "('typify', 0.00012526927)\n",
      "('eligibleforcappingthroughasuperfundofmonies', 0.00012526926)\n",
      "('theylltakeyouwhenyoureonyourwayhome', 0.00012526926)\n",
      "('aieșitprinperețișișiaspusprofeția', 0.00012526923)\n",
      "('grounded', 0.00012526923)\n",
      "('sociallyengaged', 0.0001252692)\n",
      "('căi', 0.0001252692)\n",
      "('proximate', 0.0001252692)\n",
      "('links', 0.00012526916)\n",
      "('exploiting', 0.00012526916)\n",
      "('signifying', 0.00012526909)\n",
      "('singinginthesunshine', 0.00012526909)\n",
      "('chimicalelor', 0.00012526907)\n",
      "('ascuns', 0.00012526906)\n",
      "('fm', 0.00012526906)\n",
      "('rivée', 0.00012526904)\n",
      "('household', 0.00012526904)\n",
      "('țărână', 0.00012526904)\n",
      "('universityofottawa', 0.00012526903)\n",
      "('cage', 0.00012526901)\n",
      "('disentanglement', 0.000125269)\n",
      "('illegal', 0.00012526897)\n",
      "('unhappy', 0.00012526894)\n",
      "('meetings', 0.00012526891)\n",
      "('rezultatele', 0.0001252689)\n",
      "('moneylenders', 0.00012526888)\n",
      "('devenit', 0.00012526888)\n",
      "('țâțe', 0.00012526887)\n",
      "('phd', 0.00012526887)\n",
      "('plump', 0.00012526887)\n",
      "('audă', 0.00012526887)\n",
      "('slick', 0.00012526885)\n",
      "('fantasytext', 0.00012526884)\n",
      "('sper', 0.00012526884)\n",
      "('writingdown', 0.00012526882)\n",
      "('delicate', 0.00012526882)\n",
      "('»', 0.00012526882)\n",
      "('seed', 0.00012526881)\n",
      "('banii', 0.0001252688)\n",
      "('jessicapressman', 0.00012526878)\n",
      "('leather', 0.00012526878)\n",
      "('informat', 0.00012526872)\n",
      "('networkworkwarweir', 0.0001252687)\n",
      "('thisisanarchaeologyofthedumpandoperaofpopups', 0.00012526869)\n",
      "('algorithmsofcomposition', 0.00012526869)\n",
      "('dumnezeu', 0.00012526868)\n",
      "('prezența', 0.00012526866)\n",
      "('1—', 0.00012526865)\n",
      "('organismele', 0.00012526862)\n",
      "('speakingsubject', 0.0001252686)\n",
      "('abțibildul', 0.00012526859)\n",
      "('primei', 0.00012526858)\n",
      "('spanishcivilwarexiles', 0.00012526858)\n",
      "('literaryproduction', 0.00012526856)\n",
      "('completion', 0.00012526856)\n",
      "('automatizează', 0.00012526856)\n",
      "('ours', 0.00012526855)\n",
      "('nary', 0.00012526853)\n",
      "('criptici', 0.00012526852)\n",
      "('theyllstoneyouwhenyouarewalkinghome', 0.00012526849)\n",
      "('sincere', 0.00012526846)\n",
      "('fundamentally', 0.00012526845)\n",
      "('valued', 0.00012526845)\n",
      "('arranged', 0.00012526842)\n",
      "('big', 0.00012526837)\n",
      "('vizualizări', 0.00012526837)\n",
      "('ishissisisis', 0.00012526834)\n",
      "('postindustrial', 0.00012526833)\n",
      "('wayinwhichchiriacstructuredhisshowandpresentedthelyrics', 0.00012526833)\n",
      "('uplifted', 0.00012526831)\n",
      "('andmulti', 0.00012526831)\n"
     ]
    }
   ],
   "source": [
    "for i in range(6801, 6902):\n",
    "    print(l1[i])"
   ]
  },
  {
   "cell_type": "code",
   "execution_count": 108,
   "metadata": {},
   "outputs": [
    {
     "name": "stdout",
     "output_type": "stream",
     "text": [
      "('dubbed', 0.00012527122)\n",
      "('brewery', 0.00012527122)\n",
      "('serie', 0.00012527121)\n",
      "('assemblingofapproachestotheproceduralproductionofliteraryandpoeticworks', 0.0001252712)\n",
      "('confound', 0.0001252712)\n",
      "('hubris', 0.0001252712)\n",
      "('overlooked—', 0.00012527117)\n",
      "('satisfaction', 0.00012527117)\n",
      "('flat', 0.00012527117)\n",
      "('știri', 0.00012527115)\n",
      "('respect', 0.00012527112)\n",
      "('electrice', 0.00012527111)\n",
      "('government', 0.0001252711)\n",
      "('simpleelisionsoflessfamiliarreferences', 0.00012527108)\n",
      "('frisoane', 0.00012527104)\n",
      "('documented', 0.00012527104)\n",
      "('getsthroughtoyou', 0.00012527102)\n",
      "('aidf', 0.00012527102)\n",
      "('cashisonthespottherateisgoingup', 0.000125271)\n",
      "('interaction', 0.000125271)\n",
      "('allheartsbeopenono', 0.00012527099)\n",
      "('précis', 0.00012527099)\n",
      "('adapt', 0.00012527098)\n",
      "('swallowedbytheskyoorbythesea', 0.00012527096)\n",
      "('céan', 0.00012527095)\n",
      "('argued', 0.00012527093)\n",
      "('tessa', 0.00012527093)\n",
      "('improve', 0.00012527089)\n",
      "('mixed', 0.00012527089)\n",
      "('verso', 0.00012527089)\n",
      "('approaching', 0.00012527088)\n",
      "('evaziune', 0.00012527088)\n",
      "('iai', 0.00012527088)\n",
      "('politic', 0.00012527086)\n",
      "('sincer', 0.00012527085)\n",
      "('sensibility', 0.00012527083)\n",
      "('uprisings', 0.00012527079)\n",
      "('showeroffthedust', 0.00012527079)\n",
      "('record', 0.00012527074)\n",
      "('revolved', 0.00012527074)\n",
      "('novel', 0.00012527072)\n",
      "('popoarele', 0.0001252707)\n",
      "('butstatesnolongerhowiwouldfeel', 0.0001252707)\n",
      "('fluieră', 0.00012527069)\n",
      "('voltelen', 0.00012527069)\n",
      "('reflexie', 0.00012527066)\n",
      "('building', 0.00012527066)\n",
      "('țară', 0.00012527064)\n",
      "('drumsticks', 0.00012527064)\n",
      "('dentrebare', 0.00012527061)\n",
      "('radorro', 0.0001252706)\n",
      "('subtle', 0.00012527058)\n",
      "('ample', 0.00012527057)\n",
      "('stewardship', 0.00012527056)\n",
      "('bolborosind', 0.00012527051)\n",
      "('vedem', 0.0001252705)\n",
      "('grotești', 0.0001252705)\n",
      "('întortocheate', 0.0001252705)\n",
      "('rândul', 0.00012527048)\n",
      "('xxxvi', 0.00012527048)\n",
      "('attract', 0.00012527042)\n",
      "('provocat', 0.00012527042)\n",
      "('authenticity', 0.00012527042)\n",
      "('unheavylevee', 0.0001252704)\n",
      "('enerveaz', 0.00012527037)\n",
      "('graphically', 0.00012527034)\n",
      "('ersatz', 0.00012527032)\n",
      "('perfection', 0.00012527032)\n",
      "('hit', 0.00012527026)\n",
      "('chioarâș', 0.00012527024)\n",
      "('flesh', 0.00012527022)\n",
      "('itakeyourpointsmypoetsaid', 0.00012527022)\n",
      "('reîncifra', 0.00012527022)\n",
      "('rapid', 0.0001252702)\n",
      "('currently', 0.00012527019)\n",
      "('morbid', 0.00012527018)\n",
      "('detective', 0.00012527018)\n",
      "('simetrice', 0.00012527018)\n",
      "('argentine', 0.00012527016)\n",
      "('toponyms', 0.00012527015)\n",
      "('gowiththeflow', 0.00012527012)\n",
      "('momentul', 0.00012527007)\n",
      "('ourdefenseministersaysotherearealotofkineticactionstakingplaceoalongthatborder', 0.00012527007)\n",
      "('encounter', 0.00012527007)\n",
      "('pedro', 0.00012527006)\n",
      "('uniting', 0.00012527002)\n",
      "('husband', 0.00012527)\n",
      "('luândo', 0.00012527)\n",
      "('escu', 0.00012527)\n",
      "('nothingbegatnothing', 0.00012526999)\n",
      "('95', 0.00012526999)\n",
      "('responsibility', 0.00012526994)\n",
      "('prezisă', 0.00012526994)\n",
      "('soft', 0.00012526993)\n",
      "('speakingorspokenorboth', 0.00012526993)\n",
      "('arc', 0.00012526991)\n",
      "('escapism', 0.0001252699)\n",
      "('textualities', 0.00012526989)\n",
      "('orchestre', 0.00012526986)\n",
      "('detremurănbuzmuzmuzicaicamica', 0.00012526984)\n",
      "('elements', 0.00012526983)\n"
     ]
    }
   ],
   "source": [
    "\n",
    "for i in range(6700, 6801):\n",
    "    print(l1[i])"
   ]
  },
  {
   "cell_type": "code",
   "execution_count": null,
   "metadata": {},
   "outputs": [],
   "source": []
  },
  {
   "cell_type": "code",
   "execution_count": null,
   "metadata": {},
   "outputs": [],
   "source": []
  },
  {
   "cell_type": "code",
   "execution_count": null,
   "metadata": {},
   "outputs": [],
   "source": []
  },
  {
   "cell_type": "code",
   "execution_count": null,
   "metadata": {},
   "outputs": [],
   "source": []
  },
  {
   "cell_type": "code",
   "execution_count": null,
   "metadata": {},
   "outputs": [],
   "source": []
  },
  {
   "cell_type": "code",
   "execution_count": null,
   "metadata": {},
   "outputs": [],
   "source": []
  },
  {
   "cell_type": "code",
   "execution_count": null,
   "metadata": {},
   "outputs": [],
   "source": []
  },
  {
   "cell_type": "code",
   "execution_count": null,
   "metadata": {},
   "outputs": [],
   "source": []
  },
  {
   "cell_type": "code",
   "execution_count": null,
   "metadata": {},
   "outputs": [],
   "source": []
  },
  {
   "cell_type": "code",
   "execution_count": null,
   "metadata": {},
   "outputs": [],
   "source": [
    "\n",
    "7964\n",
    "Wake-up-my-poet-look-and-see-O-the-world-is-centred-not-round-thee\n",
    "Ambition-killed-O-the-cat-not-curiosity\n",
    "democracy-inside-the-brain\n",
    "yes-looks-hates-on-strike-take-wardrobe-old-time-lines-rhyme-occasions-will-in-conclusion-trouble-helps-thanks-trouble-Dryden-changed-translation-well-metamorphoses-best-thanks-ever-Ovid-come-change-needed-man-work-trouble-voice-verse-Ovid-you-do-suit-rhythm-twelve-bar-for-there-hide-deign-Lysistrata-wife-fits\n",
    "me-alter-ego-him-writing-under-stress-other-half-achieve-poem-verse-impossible-slept-me-alter-egos-poets-transformations-death-goings-on-Ovid-two-poets-better-on-Metamorphoses-the best-again\n",
    "agree-artist-poet-Ovid-Marlowe-lines-finally-indecisions-complications-monologues-tragicomic-protagonists-prologue-plan-heritage-landed-some-people-between-integration-multicultural-organized-July-conference-British-Council-part-funded-presentation-Constanta-2018-Anticus-alliance-aim-Dobruja-cultures-banished-AD8-celebrate-play-arc-display-tendencies-dialogues-plot-disagreements-resolution-wedded-bedded-down-players-sides-of-me-play-the-end-to-last\n",
    "online-contemporary-average-independent-parental-happy-developed-rest-quotes-about-you-partaken-celebration-taking-me-unnamed-waiting-taxi-Tomis-free-drinks-seats-dread-London-wizz-there-flight-tourists-runways-legroom-turbulence-transforms-runway-sea-happy-drink-friendship-forgotten-reading-appendices-reply-saved-own-far-away-epic-website-press-Bucharest"
   ]
  }
 ],
 "metadata": {
  "kernelspec": {
   "display_name": "Python 3",
   "language": "python",
   "name": "python3"
  },
  "language_info": {
   "codemirror_mode": {
    "name": "ipython",
    "version": 3
   },
   "file_extension": ".py",
   "mimetype": "text/x-python",
   "name": "python",
   "nbconvert_exporter": "python",
   "pygments_lexer": "ipython3",
   "version": "3.7.6"
  }
 },
 "nbformat": 4,
 "nbformat_minor": 2
}
